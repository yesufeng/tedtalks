{
 "cells": [
  {
   "cell_type": "markdown",
   "metadata": {},
   "source": [
    "# Rating prediction based on k-nearest neighbors "
   ]
  },
  {
   "cell_type": "markdown",
   "metadata": {},
   "source": [
    "This script predicts ratings using similarity metrics produced by LSI, the whole analysis is on the training set, a separate script will deal with test set prediction"
   ]
  },
  {
   "cell_type": "code",
   "execution_count": 1,
   "metadata": {
    "collapsed": false
   },
   "outputs": [],
   "source": [
    "import warnings\n",
    "warnings.filterwarnings('ignore')\n",
    "import pandas as pd\n",
    "import re\n",
    "import numpy as np\n",
    "import matplotlib.pylab as plt\n",
    "import seaborn as sns\n",
    "import unidecode\n",
    "%matplotlib inline\n",
    "import copy\n",
    "from time import time"
   ]
  },
  {
   "cell_type": "code",
   "execution_count": 50,
   "metadata": {
    "collapsed": true
   },
   "outputs": [],
   "source": [
    "from gensim import corpora,models,similarities\n",
    "from sklearn.cross_validation import KFold\n",
    "from collections import defaultdict\n",
    "from time import time\n",
    "from itertools import product\n",
    "import itertools"
   ]
  },
  {
   "cell_type": "markdown",
   "metadata": {},
   "source": [
    "## 1. Load similarity matrices and ratings"
   ]
  },
  {
   "cell_type": "markdown",
   "metadata": {},
   "source": [
    "### 1.1 Load LSI corpuses with different num of topics"
   ]
  },
  {
   "cell_type": "code",
   "execution_count": 3,
   "metadata": {
    "collapsed": true
   },
   "outputs": [],
   "source": [
    "corpustrain_lsi_50 = corpora.MmCorpus('./data/corpustrain_lsi.mm')\n",
    "corpustrain_lsi_20 = corpora.MmCorpus('./data/corpustrain_lsi_20.mm')\n",
    "corpustrain_lsi_25 = corpora.MmCorpus('./data/corpustrain_lsi_25.mm')\n",
    "corpustrain_lsi_30 = corpora.MmCorpus('./data/corpustrain_lsi_30.mm')\n",
    "corpustrain_lsi_40 = corpora.MmCorpus('./data/corpustrain_lsi_40.mm')"
   ]
  },
  {
   "cell_type": "code",
   "execution_count": 59,
   "metadata": {
    "collapsed": true
   },
   "outputs": [],
   "source": [
    "corpuslist = [corpustrain_lsi_20,corpustrain_lsi_25,corpustrain_lsi_30,corpustrain_lsi_40,\n",
    "             corpustrain_lsi_50]"
   ]
  },
  {
   "cell_type": "code",
   "execution_count": 4,
   "metadata": {
    "collapsed": true
   },
   "outputs": [],
   "source": [
    "sp_corpustrain_lsi_50 = corpora.MmCorpus('./data/sp_corpustrain_lsi.mm')\n",
    "sp_corpustrain_lsi_20 = corpora.MmCorpus('./data/sp_corpustrain_lsi_20.mm')\n",
    "sp_corpustrain_lsi_25 = corpora.MmCorpus('./data/sp_corpustrain_lsi_25.mm')\n",
    "sp_corpustrain_lsi_30 = corpora.MmCorpus('./data/sp_corpustrain_lsi_30.mm')\n",
    "sp_corpustrain_lsi_40 = corpora.MmCorpus('./data/sp_corpustrain_lsi_40.mm')"
   ]
  },
  {
   "cell_type": "code",
   "execution_count": 60,
   "metadata": {
    "collapsed": true
   },
   "outputs": [],
   "source": [
    "sp_corpuslist = [sp_corpustrain_lsi_20,sp_corpustrain_lsi_25,sp_corpustrain_lsi_30,\n",
    "                sp_corpustrain_lsi_40,sp_corpustrain_lsi_50]"
   ]
  },
  {
   "cell_type": "markdown",
   "metadata": {},
   "source": [
    "### 1.2 Load the training dataframe "
   ]
  },
  {
   "cell_type": "markdown",
   "metadata": {},
   "source": [
    "Other than the topic similarity, speaker_gender can be used as a baseline. There are other features stored in the captions_f.json, such as length of the talk, talking speed, num of paragraph etc., however as they are numerical values, are not incorporated into the current neighborhood based method"
   ]
  },
  {
   "cell_type": "code",
   "execution_count": 5,
   "metadata": {
    "collapsed": true
   },
   "outputs": [],
   "source": [
    "train = pd.read_json('train3.json')"
   ]
  },
  {
   "cell_type": "code",
   "execution_count": 6,
   "metadata": {
    "collapsed": true
   },
   "outputs": [],
   "source": [
    "train.sort_values(by = 'id',inplace = True)"
   ]
  },
  {
   "cell_type": "code",
   "execution_count": 7,
   "metadata": {
    "collapsed": true
   },
   "outputs": [],
   "source": [
    "train.reset_index(drop = True, inplace = True)"
   ]
  },
  {
   "cell_type": "code",
   "execution_count": 8,
   "metadata": {
    "collapsed": false
   },
   "outputs": [
    {
     "data": {
      "text/plain": [
       "(1531, 33)"
      ]
     },
     "execution_count": 8,
     "metadata": {},
     "output_type": "execute_result"
    }
   ],
   "source": [
    "train.shape"
   ]
  },
  {
   "cell_type": "code",
   "execution_count": 9,
   "metadata": {
    "collapsed": true
   },
   "outputs": [],
   "source": [
    "ids = train['id']"
   ]
  },
  {
   "cell_type": "code",
   "execution_count": 11,
   "metadata": {
    "collapsed": true
   },
   "outputs": [],
   "source": [
    "trainset = list(ids)"
   ]
  },
  {
   "cell_type": "code",
   "execution_count": 12,
   "metadata": {
    "collapsed": true
   },
   "outputs": [],
   "source": [
    "trainset.sort()"
   ]
  },
  {
   "cell_type": "code",
   "execution_count": 13,
   "metadata": {
    "collapsed": false
   },
   "outputs": [],
   "source": [
    "trainset = np.array(trainset)"
   ]
  },
  {
   "cell_type": "code",
   "execution_count": 14,
   "metadata": {
    "collapsed": false
   },
   "outputs": [
    {
     "data": {
      "text/plain": [
       "1531"
      ]
     },
     "execution_count": 14,
     "metadata": {},
     "output_type": "execute_result"
    }
   ],
   "source": [
    "len(trainset)"
   ]
  },
  {
   "cell_type": "markdown",
   "metadata": {},
   "source": [
    "#### Set up function to extract similar talks "
   ]
  },
  {
   "cell_type": "code",
   "execution_count": 15,
   "metadata": {
    "collapsed": true
   },
   "outputs": [],
   "source": [
    "iddict = dict([(item[1],item[0]) for item in ids.iteritems()])"
   ]
  },
  {
   "cell_type": "code",
   "execution_count": 16,
   "metadata": {
    "collapsed": true
   },
   "outputs": [],
   "source": [
    "rowdict = dict([(item[0],item[1]) for item in ids.iteritems()])"
   ]
  },
  {
   "cell_type": "code",
   "execution_count": 19,
   "metadata": {
    "collapsed": true
   },
   "outputs": [],
   "source": [
    "def give_similar_talks(talkid,corpus,index,trainset,num_of_talks = 10):\n",
    "    \"\"\"\n",
    "    inputs: talkid,corpus,num_of_talks,index\n",
    "            trainset: a series of ids\n",
    "    outputs:\n",
    "            a list of tuples, (talkid, cosine similarity score in descending order)\n",
    "    \"\"\"\n",
    "    tmpset = set(trainset).difference(set([talkid])) # remove the target talk itself if it presents\n",
    "    sims = index[corpus[iddict[talkid]]]\n",
    "    sims = sorted(enumerate(sims),reverse = True, key = lambda x:x[1])\n",
    "    res = []\n",
    "    ctr = 0\n",
    "    for key,value in sims:\n",
    "        if rowdict[key] in tmpset:\n",
    "            res.append((rowdict[key],value))\n",
    "            ctr += 1\n",
    "        if ctr >= num_of_talks:\n",
    "            break\n",
    "    return res"
   ]
  },
  {
   "cell_type": "code",
   "execution_count": 20,
   "metadata": {
    "collapsed": true
   },
   "outputs": [],
   "source": [
    "index = similarities.MatrixSimilarity(corpustrain_lsi_50)"
   ]
  },
  {
   "cell_type": "code",
   "execution_count": 23,
   "metadata": {
    "collapsed": true
   },
   "outputs": [],
   "source": [
    "sp_index = similarities.MatrixSimilarity(sp_corpustrain_lsi_50)"
   ]
  },
  {
   "cell_type": "code",
   "execution_count": 22,
   "metadata": {
    "collapsed": false
   },
   "outputs": [
    {
     "data": {
      "text/plain": [
       "[(1672, 0.9052946),\n",
       " (1954, 0.90312833),\n",
       " (1403, 0.86130905),\n",
       " (930, 0.78333473),\n",
       " (751, 0.77572221),\n",
       " (1646, 0.7608012),\n",
       " (1120, 0.76032686),\n",
       " (704, 0.74961346),\n",
       " (2110, 0.74808681),\n",
       " (1053, 0.73183328)]"
      ]
     },
     "execution_count": 22,
     "metadata": {},
     "output_type": "execute_result"
    }
   ],
   "source": [
    "give_similar_talks(1666,corpustrain_lsi_50,index,ids,10)"
   ]
  },
  {
   "cell_type": "markdown",
   "metadata": {},
   "source": [
    "##### give similar talks based on speaker info "
   ]
  },
  {
   "cell_type": "code",
   "execution_count": 24,
   "metadata": {
    "collapsed": false
   },
   "outputs": [
    {
     "data": {
      "text/plain": [
       "[(1672, 0.92408538),\n",
       " (1248, 0.81673884),\n",
       " (1954, 0.80270743),\n",
       " (1031, 0.79996693),\n",
       " (1646, 0.74974966),\n",
       " (1734, 0.73386347),\n",
       " (2152, 0.72371781),\n",
       " (1732, 0.70604813),\n",
       " (809, 0.68890679),\n",
       " (1728, 0.67879176)]"
      ]
     },
     "execution_count": 24,
     "metadata": {},
     "output_type": "execute_result"
    }
   ],
   "source": [
    "give_similar_talks(1666,sp_corpustrain_lsi_50,sp_index,ids,10)"
   ]
  },
  {
   "cell_type": "markdown",
   "metadata": {},
   "source": [
    "## 2. Neighborhood based model construction "
   ]
  },
  {
   "cell_type": "markdown",
   "metadata": {},
   "source": [
    "The model is straightforward at this point, I use $\\hat Y_{i} $ to represent the estimated rating of talk i, it equals to the gender baseline ($\\bar Y_{f(m)i}$ ) plus weighted average ratings from similar talks based on topic and speaker background, the similarity between talks is denoted as $\\ s_{ij} $ , which should be a weighted similarity taking into account both the topic and speaker background info\n",
    "\n",
    "$$ \\hat{Y_{i}} = \\bar Y_{f(m)i}\\, + \\,\\frac{\\sum\\limits_{j \\in S^{k}(i)} s_{ij} ( Y_{j} - \\bar Y_{f(m)j} )}{\\sum\\limits_{j \\in S^{k}(i)} s_{ij} } $$"
   ]
  },
  {
   "cell_type": "markdown",
   "metadata": {},
   "source": [
    "### 2.1 baseline calculation "
   ]
  },
  {
   "cell_type": "code",
   "execution_count": 25,
   "metadata": {
    "collapsed": true
   },
   "outputs": [],
   "source": [
    "ratings = train.ix[:,:14]"
   ]
  },
  {
   "cell_type": "code",
   "execution_count": 26,
   "metadata": {
    "collapsed": true
   },
   "outputs": [],
   "source": [
    "ratings = ratings.fillna(0)"
   ]
  },
  {
   "cell_type": "code",
   "execution_count": 27,
   "metadata": {
    "collapsed": true
   },
   "outputs": [],
   "source": [
    "ratingsum_raw = ratings.sum(axis = 1)"
   ]
  },
  {
   "cell_type": "markdown",
   "metadata": {},
   "source": [
    "#### store ratingwords into a list "
   ]
  },
  {
   "cell_type": "code",
   "execution_count": 28,
   "metadata": {
    "collapsed": true
   },
   "outputs": [],
   "source": [
    "ratingwords = list(ratings.columns)"
   ]
  },
  {
   "cell_type": "markdown",
   "metadata": {},
   "source": [
    "##### smooth zero counts using Dirichlet prior "
   ]
  },
  {
   "cell_type": "code",
   "execution_count": 29,
   "metadata": {
    "collapsed": false
   },
   "outputs": [],
   "source": [
    "ratings[ratingwords] = ratings[ratingwords]+1"
   ]
  },
  {
   "cell_type": "markdown",
   "metadata": {},
   "source": [
    "##### convert to proportion "
   ]
  },
  {
   "cell_type": "code",
   "execution_count": 30,
   "metadata": {
    "collapsed": true
   },
   "outputs": [],
   "source": [
    "ratings = ratings[ratingwords].div(ratingsum_raw+14,axis = 'index')"
   ]
  },
  {
   "cell_type": "code",
   "execution_count": 31,
   "metadata": {
    "collapsed": true
   },
   "outputs": [],
   "source": [
    "ratings['id'] = train['id']"
   ]
  },
  {
   "cell_type": "code",
   "execution_count": 32,
   "metadata": {
    "collapsed": true
   },
   "outputs": [],
   "source": [
    "ratings['ratesum'] = ratingsum_raw + 14"
   ]
  },
  {
   "cell_type": "markdown",
   "metadata": {},
   "source": [
    "##### calculate the overall mean vector of ratings "
   ]
  },
  {
   "cell_type": "code",
   "execution_count": 33,
   "metadata": {
    "collapsed": false
   },
   "outputs": [],
   "source": [
    "global_mean = ratings[ratingwords].mean()"
   ]
  },
  {
   "cell_type": "markdown",
   "metadata": {},
   "source": [
    "##### calculate mean difference between male and female speakers "
   ]
  },
  {
   "cell_type": "code",
   "execution_count": 34,
   "metadata": {
    "collapsed": false
   },
   "outputs": [],
   "source": [
    "ratings['gender'] = train['speaker_gender']"
   ]
  },
  {
   "cell_type": "code",
   "execution_count": 35,
   "metadata": {
    "collapsed": false
   },
   "outputs": [
    {
     "data": {
      "text/plain": [
       "1    1110\n",
       "0     421\n",
       "Name: gender, dtype: int64"
      ]
     },
     "execution_count": 35,
     "metadata": {},
     "output_type": "execute_result"
    }
   ],
   "source": [
    "ratings.gender.value_counts()"
   ]
  },
  {
   "cell_type": "code",
   "execution_count": 36,
   "metadata": {
    "collapsed": false
   },
   "outputs": [],
   "source": [
    "female_mean = ratings.groupby('gender')[ratingwords].mean().ix[0,:]"
   ]
  },
  {
   "cell_type": "code",
   "execution_count": 37,
   "metadata": {
    "collapsed": true
   },
   "outputs": [],
   "source": [
    "male_mean = ratings.groupby('gender')[ratingwords].mean().ix[1,:]"
   ]
  },
  {
   "cell_type": "markdown",
   "metadata": {},
   "source": [
    "### 2.2 Prediction based on transcripts similarity "
   ]
  },
  {
   "cell_type": "markdown",
   "metadata": {},
   "source": [
    "Test the simple model with gender baseline plus the weighted averaged ratings from top k similar talks. The hyperparameters are k (number of neighbors) and number of topics, tuned using cross validation"
   ]
  },
  {
   "cell_type": "code",
   "execution_count": 39,
   "metadata": {
    "collapsed": false
   },
   "outputs": [
    {
     "data": {
      "text/plain": [
       "Beautiful       0.124457\n",
       "Confusing       0.003618\n",
       "Courageous      0.303907\n",
       "Fascinating     0.059334\n",
       "Funny           0.002894\n",
       "Informative     0.073082\n",
       "Ingenious       0.005065\n",
       "Inspiring       0.345876\n",
       "Jaw-dropping    0.029667\n",
       "Longwinded      0.000724\n",
       "OK              0.005065\n",
       "Obnoxious       0.002171\n",
       "Persuasive      0.040521\n",
       "Unconvincing    0.003618\n",
       "Name: 1087, dtype: float64"
      ]
     },
     "execution_count": 39,
     "metadata": {},
     "output_type": "execute_result"
    }
   ],
   "source": [
    "ratings.ix[iddict[1666],ratingwords]"
   ]
  },
  {
   "cell_type": "code",
   "execution_count": 40,
   "metadata": {
    "collapsed": true
   },
   "outputs": [],
   "source": [
    "def pred_rating1(talkid,trainset,k,corpus,index):\n",
    "    \"\"\"\n",
    "    given the target talkid, the trainset, the number of similar talks to be selected and the specific corpus with\n",
    "    selected number of topics (from: 20,25,30,40,50)\n",
    "    return the prediction as a numpy array\n",
    "    input: trainset: a numpy series talk ids\n",
    "           k: (int) number of most similar talks to retrieve,\n",
    "           corpus: the specific corpus\n",
    "           index: the corresponding index for the corpus\n",
    "    output: a numpy array of predicted rating\n",
    "    \"\"\"\n",
    "    sim_talks = give_similar_talks(talkid,corpus,index,trainset,num_of_talks=k)\n",
    "    weights_sum = sum([sim for num,sim in sim_talks])\n",
    "    # initialize rating_vect with zeros\n",
    "    rating_vect = pd.Series(0,index = female_mean.index)\n",
    "    for sim_talk_id,sim in sim_talks:\n",
    "        sim_vect = ratings.ix[iddict[sim_talk_id],ratingwords]\n",
    "        if train.ix[iddict[sim_talk_id],'speaker_gender'] == 0:\n",
    "             sim_vect -= female_mean\n",
    "        else:\n",
    "             sim_vect -= male_mean\n",
    "        rating_vect += sim_vect*sim\n",
    "    if len(sim_talks) != 0:\n",
    "        rating_vect /= weights_sum\n",
    "    else:\n",
    "        pass\n",
    "        # print 'no similar talks is found for talk with id {}, base prediction is used'.format(talkid)\n",
    "    # gender\n",
    "    gender = train.ix[iddict[talkid],'speaker_gender']\n",
    "    if gender == 0:\n",
    "        rating_vect += female_mean\n",
    "    else:\n",
    "        rating_vect += male_mean\n",
    "    # handle non-positive ratings, truncate them to be positive (0.0001)\n",
    "    rating_vect = [x if x > 0 else 0.0001 for x in rating_vect]\n",
    "    rating_vect = pd.Series(rating_vect,index = female_mean.index)\n",
    "    return rating_vect"
   ]
  },
  {
   "cell_type": "code",
   "execution_count": 41,
   "metadata": {
    "collapsed": true
   },
   "outputs": [],
   "source": [
    "def prob_distance(vect1,vect2,dist = 'hellinger'):\n",
    "    \"\"\"\n",
    "    calculate the distance between two probability distributions\n",
    "    default type is hellinger distance, which is bounded in [0,1]\n",
    "    the other option is Jensen-shannon distance, which is also bounded in [0,1]\n",
    "    \"\"\"\n",
    "    if dist == 'hellinger':\n",
    "        return np.sqrt(0.5*sum((np.sqrt(vect1)-np.sqrt(vect2))**2))\n",
    "    if dist == 'Jensen':\n",
    "        vectq = 0.5*(vect1+vect2)\n",
    "        js_div = 0.5*sum(vect1*np.log2(vect1)+vect2*np.log2(vect2))-sum(vectq*np.log2(vectq))\n",
    "        return np.sqrt(js_div)"
   ]
  },
  {
   "cell_type": "code",
   "execution_count": 42,
   "metadata": {
    "collapsed": true
   },
   "outputs": [],
   "source": [
    "predicted = pred_rating1(1666,ids,5,corpustrain_lsi_50,index)"
   ]
  },
  {
   "cell_type": "code",
   "execution_count": 43,
   "metadata": {
    "collapsed": true
   },
   "outputs": [],
   "source": [
    "real = ratings.ix[iddict[1666],ratingwords].values"
   ]
  },
  {
   "cell_type": "code",
   "execution_count": 44,
   "metadata": {
    "collapsed": false
   },
   "outputs": [
    {
     "data": {
      "text/plain": [
       "0.15502837986399401"
      ]
     },
     "execution_count": 44,
     "metadata": {},
     "output_type": "execute_result"
    }
   ],
   "source": [
    "prob_distance(predicted,real,'Jensen')"
   ]
  },
  {
   "cell_type": "code",
   "execution_count": 45,
   "metadata": {
    "collapsed": false
   },
   "outputs": [
    {
     "data": {
      "text/plain": [
       "0.13092252335076504"
      ]
     },
     "execution_count": 45,
     "metadata": {},
     "output_type": "execute_result"
    }
   ],
   "source": [
    "prob_distance(predicted,real)"
   ]
  },
  {
   "cell_type": "markdown",
   "metadata": {},
   "source": [
    "#### Test the range of the distance metrics "
   ]
  },
  {
   "cell_type": "code",
   "execution_count": 46,
   "metadata": {
    "collapsed": true
   },
   "outputs": [],
   "source": [
    "talk1 = ratings.ix[iddict[1666],ratingwords].values"
   ]
  },
  {
   "cell_type": "code",
   "execution_count": 47,
   "metadata": {
    "collapsed": true
   },
   "outputs": [],
   "source": [
    "talk2 = ratings.ix[iddict[1],ratingwords].values"
   ]
  },
  {
   "cell_type": "code",
   "execution_count": 48,
   "metadata": {
    "collapsed": false
   },
   "outputs": [
    {
     "data": {
      "text/plain": [
       "0.57977383386720038"
      ]
     },
     "execution_count": 48,
     "metadata": {},
     "output_type": "execute_result"
    }
   ],
   "source": [
    "prob_distance(talk1,talk2,'Jensen')"
   ]
  },
  {
   "cell_type": "markdown",
   "metadata": {},
   "source": [
    "### Cross-validation to tune k and number of topics"
   ]
  },
  {
   "cell_type": "code",
   "execution_count": 49,
   "metadata": {
    "collapsed": true
   },
   "outputs": [],
   "source": [
    "kf = KFold(len(trainset),n_folds = 10,random_state = 321,shuffle=True)"
   ]
  },
  {
   "cell_type": "code",
   "execution_count": 65,
   "metadata": {
    "collapsed": false
   },
   "outputs": [
    {
     "name": "stdout",
     "output_type": "stream",
     "text": [
      "finished within 488.677018166 sec\n"
     ]
    }
   ],
   "source": [
    "k_values = [3,5,7,10,15,20]\n",
    "num_topics = xrange(5) # this corresponds to the position of the real number of topics in the list[20,25,30,40,50]\n",
    "hypergrid = list(itertools.product(k_values,num_topics))\n",
    "difference_all = defaultdict(list)\n",
    "\n",
    "t0 = time()\n",
    "for k,numtp in hypergrid:\n",
    "    corpus = corpuslist[numtp]\n",
    "    index = similarities.MatrixSimilarity(corpus)\n",
    "    cv_difference = []\n",
    "    for train_index,test_index in kf:\n",
    "        cv_trainset,cv_testset = ids[train_index],ids[test_index]\n",
    "        # for each talk in the test set, calculate its rating based on similar talks in the cv_trainset\n",
    "        # vectorize the operation using Pandas series\n",
    "        for test_talkid in cv_testset:\n",
    "            predicted = pred_rating1(test_talkid,cv_trainset,k,corpus,index)\n",
    "            res = ratings.ix[iddict[test_talkid],ratingwords].values\n",
    "            difference = prob_distance(predicted,res,'hellinger')\n",
    "            #cv_ids.append(test_talkid)\n",
    "            #cv_predicted.append(predicted)\n",
    "            cv_difference.append(difference)\n",
    "    difference_all[(k,numtp)] = cv_difference\n",
    "print 'finished within {} sec'.format(time()-t0)"
   ]
  },
  {
   "cell_type": "code",
   "execution_count": 104,
   "metadata": {
    "collapsed": false
   },
   "outputs": [
    {
     "name": "stdout",
     "output_type": "stream",
     "text": [
      "finished within 674.507706165 sec\n"
     ]
    }
   ],
   "source": [
    "k_values = [25,30,40]\n",
    "num_topics = xrange(5) # this corresponds to the position of the real number of topics in the list[20,25,30,40,50]\n",
    "hypergrid2 = list(itertools.product(k_values,num_topics))\n",
    "\n",
    "t0 = time()\n",
    "for k,numtp in hypergrid2:\n",
    "    corpus = corpuslist[numtp]\n",
    "    index = similarities.MatrixSimilarity(corpus)\n",
    "    cv_difference = []\n",
    "    for train_index,test_index in kf:\n",
    "        cv_trainset,cv_testset = ids[train_index],ids[test_index]\n",
    "        # for each talk in the test set, calculate its rating based on similar talks in the cv_trainset\n",
    "        # vectorize the operation using Pandas series\n",
    "        for test_talkid in cv_testset:\n",
    "            predicted = pred_rating1(test_talkid,cv_trainset,k,corpus,index)\n",
    "            res = ratings.ix[iddict[test_talkid],ratingwords].values\n",
    "            difference = prob_distance(predicted,res,'hellinger')\n",
    "            #cv_ids.append(test_talkid)\n",
    "            #cv_predicted.append(predicted)\n",
    "            cv_difference.append(difference)\n",
    "    difference_all[(k,numtp)] = cv_difference\n",
    "print 'finished within {} sec'.format(time()-t0)"
   ]
  },
  {
   "cell_type": "code",
   "execution_count": 110,
   "metadata": {
    "collapsed": false
   },
   "outputs": [],
   "source": [
    "difference_all_list = []\n",
    "for key in difference_all.keys():\n",
    "    meandiff = sum(difference_all[key])/len(difference_all[key])\n",
    "    difference_all_list.append((key,meandiff))"
   ]
  },
  {
   "cell_type": "code",
   "execution_count": 165,
   "metadata": {
    "collapsed": false
   },
   "outputs": [
    {
     "data": {
      "text/plain": [
       "[((20, 3), 0.23282784472626136),\n",
       " ((25, 3), 0.23322648903218504),\n",
       " ((15, 3), 0.23324181502479852),\n",
       " ((20, 0), 0.23346633430196487),\n",
       " ((30, 3), 0.2335714637784439),\n",
       " ((20, 4), 0.23382919050147546),\n",
       " ((20, 2), 0.23391249995759031),\n",
       " ((15, 0), 0.23397947158566559),\n",
       " ((25, 4), 0.23405848246848254),\n",
       " ((25, 2), 0.23406105547148157)]"
      ]
     },
     "execution_count": 165,
     "metadata": {},
     "output_type": "execute_result"
    }
   ],
   "source": [
    "sorted(difference_all_list,key = lambda x:x[1])[:10]"
   ]
  },
  {
   "cell_type": "code",
   "execution_count": 160,
   "metadata": {
    "collapsed": true
   },
   "outputs": [],
   "source": [
    "predicted1 = pred_rating1(129,ids,20,corpustrain_lsi_40,similarities.MatrixSimilarity(corpustrain_lsi_40))"
   ]
  },
  {
   "cell_type": "code",
   "execution_count": 161,
   "metadata": {
    "collapsed": true
   },
   "outputs": [],
   "source": [
    "real1 = ratings.ix[iddict[129],ratingwords]"
   ]
  },
  {
   "cell_type": "code",
   "execution_count": 192,
   "metadata": {
    "collapsed": false
   },
   "outputs": [
    {
     "data": {
      "text/plain": [
       "0.49522970379890707"
      ]
     },
     "execution_count": 192,
     "metadata": {},
     "output_type": "execute_result"
    }
   ],
   "source": [
    "prob_distance(predicted1,real1)"
   ]
  },
  {
   "cell_type": "markdown",
   "metadata": {},
   "source": [
    "#### Summary:\n",
    "1. Multiple pairs of hyperparameters reached the same prediction accuracy, measured by mean hellinger distance, around 0.23\n",
    "2. prediction on talk 129 is very far off, and this is revealing and captures the shortcoming of this neighborhood based prediction. the extreme distribution of the ratings this talk received: more than 70% ratings are 'jaw-dropping' is very different from all its neighbors (in the topic space).\n",
    "4. move on to combine speaker similarity, which shows high similarity scores for talks that don't have very similar talk in the transcript"
   ]
  },
  {
   "cell_type": "markdown",
   "metadata": {},
   "source": [
    "### 2.3 Combined similarity of talk topic and speaker background "
   ]
  },
  {
   "cell_type": "markdown",
   "metadata": {},
   "source": [
    "General ideas:\n",
    "1. define k_trans and k_sp (the threshold for similar talks) separately, so that they can be tuned separately.\n",
    "2. the final similarity would be a weighted version of both similarities in ideal cases where both similarities are found. \n",
    "3. if only one exists, use that one, if neither exists, use baseline prediction\n",
    "4. how to select talks: first implementation, use the two k's to find two lists, take the union and find all similarity scores"
   ]
  },
  {
   "cell_type": "code",
   "execution_count": 172,
   "metadata": {
    "collapsed": true
   },
   "outputs": [],
   "source": [
    "def give_similarities(talkid, corpus,index,similar_talks):\n",
    "    \"\"\"\n",
    "    inputs:\n",
    "    similar_talks is the list of talk ids that are from the other topic modeling results (e.g., similar\n",
    "    speaker), but not contained in the current topic modeling (similar topics) results of most similar talks\n",
    "    \n",
    "    outputs:\n",
    "    return a list of tuples, (talkid, cosine similarity score), the list is not sorted on similarity score\n",
    "    \"\"\"\n",
    "    tmpset = set(trainset)\n",
    "    tmpset.remove(talkid) # remove the target talk itself if it presents\n",
    "    sims = index[corpus[iddict[talkid]]]\n",
    "    # sims = sorted(enumerate(sims),reverse = True, key = lambda x:x[1])\n",
    "    # sims_id = [(rowdict[key],value) for key,value in sims]\n",
    "    sim_dict = dict([(rowdict[ind],value) for ind,value in enumerate(sims)])\n",
    "    res = [(tid,sim_dict[tid]) for tid in similar_talks]\n",
    "    return res"
   ]
  },
  {
   "cell_type": "markdown",
   "metadata": {
    "collapsed": true
   },
   "source": [
    "Steps:\n",
    "1. use give_similar_talks to find similar talks based on transcript and speaker background.\n",
    "2. make a union of the two lists. Several logics here: if both found, merge, if none, baseline, if one, use the only one\n",
    "3. if both lists exist, we need to find both similarities for all talks in the united list, using give_similarities"
   ]
  },
  {
   "cell_type": "code",
   "execution_count": 173,
   "metadata": {
    "collapsed": true
   },
   "outputs": [],
   "source": [
    "def combine_similar_talks(talkid,num_trans,num_sp,trainset,corpus,index,sp_corpus,sp_index):\n",
    "    \"\"\"\n",
    "    inputs: num_trans -- num of similar talks based on transcripts\n",
    "            num_sp -- num of similar talks based on speaker background info\n",
    "            trainset -- may not be the complete training set, e.g., in CV\n",
    "            corpus, index\n",
    "    outputs:\n",
    "            sim_talks -- the same output as give_similar_talks, a list of tuples (talkid, final_sim_score)\n",
    "    \"\"\"\n",
    "    #1. find sim talks based on trans and sp\n",
    "    sim_talks_trans = give_similar_talks(talkid,corpus,index,trainset,\n",
    "                                         num_of_talks=num_trans)\n",
    "    sim_talks_sp = give_similar_talks(talkid,sp_corpus,sp_index,trainset,\n",
    "                                      num_of_talks=num_sp)\n",
    "    #2. generate a combined list of similar talks\n",
    "\n",
    "    # (1). determine the relationship of the two lists(sets), find the extra similarities, and append to the lists\n",
    "    trans_set = set([x for x,y in sim_talks_trans])\n",
    "    sp_set = set([x for x,y in sim_talks_sp])\n",
    "    if sp_set.issubset(trans_set):\n",
    "        # speaker set is a subset of trans_set, then find the speaker similarities for the talks that are in the\n",
    "        # trans set but not in the speaker set\n",
    "        extra_sim_talks_sp = give_similarities(talkid,sp_corpus,sp_index,\n",
    "                                               list(trans_set.difference(sp_set)))\n",
    "        # merge the extra into the original sim_talks_sp list\n",
    "        sim_talks_sp.extend(extra_sim_talks_sp)\n",
    "    elif sp_set.issuperset(trans_set):\n",
    "        extra_sim_talks_trans = give_similarities(talkid,corpus,index,\n",
    "                                                 list(sp_set.difference(trans_set)))\n",
    "        sim_talks_trans.extend(extra_sim_talks_trans)\n",
    "    else:\n",
    "        sp_extra = list(sp_set.difference(trans_set))\n",
    "        trans_extra = list(trans_set.difference(sp_set))\n",
    "        # find both\n",
    "        extra_sim_talks_trans = give_similarities(talkid,corpus,index,sp_extra)\n",
    "        extra_sim_talks_sp = give_similarities(talkid,sp_corpus,sp_index,trans_extra)\n",
    "        # extend to the original lists\n",
    "        sim_talks_sp.extend(extra_sim_talks_sp)\n",
    "        sim_talks_trans.extend(extra_sim_talks_trans)\n",
    "    # 2. weight the two similarities to generate the final similarity score\n",
    "    ## convert the two lists into dictionaries\n",
    "    dict_talks_sp = dict(sim_talks_sp)\n",
    "    dict_talks_trans = dict(sim_talks_trans)\n",
    "    sim_talks = []\n",
    "    for key in dict_talks_sp:\n",
    "        # other weighting functions are not implemented yet!\n",
    "        sim_talks.append((key,(dict_talks_sp[key]+dict_talks_trans[key])/2.))\n",
    "\n",
    "    sim_talks.sort(reverse = True,key = lambda x:x[1])\n",
    "    return sim_talks"
   ]
  },
  {
   "cell_type": "markdown",
   "metadata": {
    "collapsed": true
   },
   "source": [
    "combine_similar_talks gives a final list of tuples (talkid, similarity score), now we need a prediction function to predict the rating"
   ]
  },
  {
   "cell_type": "code",
   "execution_count": 174,
   "metadata": {
    "collapsed": true
   },
   "outputs": [],
   "source": [
    "def pred_rating2(talkid,trainset,num_trans,num_sp,corpus,index,sp_corpus,sp_index):\n",
    "    \"\"\"\n",
    "    given the target talkid, the trainset and the two k values\n",
    "    return the prediction as a numpy array\n",
    "    input: trainset: a numpy array of training set talk ids \n",
    "           num_trans: k for transcript similarity\n",
    "           num_sp: k for speaker background similarity\n",
    "           corpus,index\n",
    "           sp_corpus,sp_index\n",
    "    output: a numpy array of predicted rating\n",
    "    \"\"\"\n",
    "    sim_talks = combine_similar_talks(talkid,num_trans,num_sp,trainset,corpus,index,sp_corpus,sp_index)\n",
    "    weights_sum = sum([sim for num,sim in sim_talks])\n",
    "    # initialize rating_vect with zeros\n",
    "    rating_vect = pd.Series(0,index = female_mean.index)\n",
    "    for sim_talk_id,sim in sim_talks:\n",
    "        sim_vect = ratings.ix[iddict[sim_talk_id],ratingwords]\n",
    "        if train.ix[iddict[sim_talk_id],'speaker_gender'] == 0:\n",
    "             sim_vect -= female_mean\n",
    "        else:\n",
    "             sim_vect -= male_mean\n",
    "        rating_vect += sim_vect*sim\n",
    "    if len(sim_talks) > 0:\n",
    "        rating_vect /= weights_sum\n",
    "    else:\n",
    "        pass\n",
    "        # print 'no similar talks is found for talk with id {}, base prediction is used'.format(talkid)\n",
    "    # gender\n",
    "    gender = train.ix[iddict[talkid],'speaker_gender']\n",
    "    if gender == 0:\n",
    "        rating_vect += female_mean\n",
    "    else:\n",
    "        rating_vect += male_mean\n",
    "    # handle non-positive ratings, truncate them to be positive (0.0001)\n",
    "    rating_vect = [x if x > 0 else 0.0001 for x in rating_vect]\n",
    "    rating_vect = pd.Series(rating_vect,index = female_mean.index)\n",
    "    return rating_vect"
   ]
  },
  {
   "cell_type": "code",
   "execution_count": 184,
   "metadata": {
    "collapsed": true
   },
   "outputs": [],
   "source": [
    "k_trans_values = [10,15,20,25]\n",
    "k_sp_values = [5,10,15,20]\n",
    "num_topics = xrange(3,4) # fixed the num of topics in transcript to be 40\n",
    "num_topics_sp = xrange(5)\n",
    "hypergrid3 = list(product(k_trans_values,k_sp_values,num_topics,num_topics_sp))"
   ]
  },
  {
   "cell_type": "code",
   "execution_count": 185,
   "metadata": {
    "collapsed": true
   },
   "outputs": [
    {
     "name": "stdout",
     "output_type": "stream",
     "text": [
      "starting the fitting of 1th hyperparameter combination\n",
      "starting the fitting of 2th hyperparameter combination\n",
      "starting the fitting of 3th hyperparameter combination\n",
      "starting the fitting of 4th hyperparameter combination\n",
      "starting the fitting of 5th hyperparameter combination\n",
      "starting the fitting of 6th hyperparameter combination\n",
      "starting the fitting of 7th hyperparameter combination\n",
      "starting the fitting of 8th hyperparameter combination\n",
      "starting the fitting of 9th hyperparameter combination\n",
      "starting the fitting of 10th hyperparameter combination\n",
      "starting the fitting of 11th hyperparameter combination\n",
      "starting the fitting of 12th hyperparameter combination\n",
      "starting the fitting of 13th hyperparameter combination\n",
      "starting the fitting of 14th hyperparameter combination\n",
      "starting the fitting of 15th hyperparameter combination\n",
      "starting the fitting of 16th hyperparameter combination\n",
      "starting the fitting of 17th hyperparameter combination\n",
      "starting the fitting of 18th hyperparameter combination\n",
      "starting the fitting of 19th hyperparameter combination\n",
      "starting the fitting of 20th hyperparameter combination\n",
      "starting the fitting of 21th hyperparameter combination\n",
      "starting the fitting of 22th hyperparameter combination\n",
      "starting the fitting of 23th hyperparameter combination\n",
      "starting the fitting of 24th hyperparameter combination\n",
      "starting the fitting of 25th hyperparameter combination\n",
      "starting the fitting of 26th hyperparameter combination\n",
      "starting the fitting of 27th hyperparameter combination\n",
      "starting the fitting of 28th hyperparameter combination\n",
      "starting the fitting of 29th hyperparameter combination\n",
      "starting the fitting of 30th hyperparameter combination\n",
      "starting the fitting of 31th hyperparameter combination\n",
      "starting the fitting of 32th hyperparameter combination\n",
      "starting the fitting of 33th hyperparameter combination\n",
      "starting the fitting of 34th hyperparameter combination\n",
      "starting the fitting of 35th hyperparameter combination\n",
      "starting the fitting of 36th hyperparameter combination\n",
      "starting the fitting of 37th hyperparameter combination\n",
      "starting the fitting of 38th hyperparameter combination\n",
      "starting the fitting of 39th hyperparameter combination\n",
      "starting the fitting of 40th hyperparameter combination\n",
      "starting the fitting of 41th hyperparameter combination\n",
      "starting the fitting of 42th hyperparameter combination\n",
      "starting the fitting of 43th hyperparameter combination\n",
      "starting the fitting of 44th hyperparameter combination\n",
      "starting the fitting of 45th hyperparameter combination\n",
      "starting the fitting of 46th hyperparameter combination\n",
      "starting the fitting of 47th hyperparameter combination\n",
      "starting the fitting of 48th hyperparameter combination\n",
      "starting the fitting of 49th hyperparameter combination\n",
      "starting the fitting of 50th hyperparameter combination\n",
      "starting the fitting of 51th hyperparameter combination\n",
      "starting the fitting of 52th hyperparameter combination\n",
      "starting the fitting of 53th hyperparameter combination\n",
      "starting the fitting of 54th hyperparameter combination\n",
      "starting the fitting of 55th hyperparameter combination\n",
      "starting the fitting of 56th hyperparameter combination\n",
      "starting the fitting of 57th hyperparameter combination\n",
      "starting the fitting of 58th hyperparameter combination\n",
      "starting the fitting of 59th hyperparameter combination\n",
      "starting the fitting of 60th hyperparameter combination\n",
      "starting the fitting of 61th hyperparameter combination\n",
      "starting the fitting of 62th hyperparameter combination\n",
      "starting the fitting of 63th hyperparameter combination\n",
      "starting the fitting of 64th hyperparameter combination\n",
      "starting the fitting of 65th hyperparameter combination\n",
      "starting the fitting of 66th hyperparameter combination\n",
      "starting the fitting of 67th hyperparameter combination\n",
      "starting the fitting of 68th hyperparameter combination\n",
      "starting the fitting of 69th hyperparameter combination\n",
      "starting the fitting of 70th hyperparameter combination\n",
      "starting the fitting of 71th hyperparameter combination\n",
      "starting the fitting of 72th hyperparameter combination\n",
      "starting the fitting of 73th hyperparameter combination\n",
      "starting the fitting of 74th hyperparameter combination\n",
      "starting the fitting of 75th hyperparameter combination\n",
      "starting the fitting of 76th hyperparameter combination\n",
      "starting the fitting of 77th hyperparameter combination\n",
      "starting the fitting of 78th hyperparameter combination\n",
      "starting the fitting of 79th hyperparameter combination\n",
      "starting the fitting of 80th hyperparameter combination\n",
      "done in 3375.27665806 sec\n"
     ]
    }
   ],
   "source": [
    "difference_all3 = defaultdict(list)\n",
    "t0 = time()\n",
    "ctr = 1\n",
    "for num_trans,num_sp,numtp1,numtp2 in hypergrid3:\n",
    "    print 'starting the fitting of {}th hyperparameter combination'.format(ctr)\n",
    "    corpus = corpuslist[numtp1]\n",
    "    sp_corpus = sp_corpuslist[numtp2]\n",
    "    index = similarities.MatrixSimilarity(corpus)\n",
    "    sp_index = similarities.MatrixSimilarity(sp_corpus)\n",
    "    cv_difference = []\n",
    "    for train_index,test_index in kf:\n",
    "        cv_trainset,cv_testset = ids[train_index],ids[test_index]\n",
    "        # for each talk in the test set, calculate its rating based on similar talks in the cv_trainset\n",
    "        for test_talkid in cv_testset:\n",
    "            predicted = pred_rating2(test_talkid,cv_trainset,num_trans,num_sp,corpus,index,sp_corpus,sp_index)\n",
    "            res = ratings.ix[iddict[test_talkid],ratingwords].values\n",
    "            difference = prob_distance(predicted,res,'hellinger')\n",
    "            cv_difference.append(difference)\n",
    "    difference_all3[(num_trans,num_sp,numtp1,numtp2)] = cv_difference\n",
    "    ctr += 1\n",
    "print 'done in {} sec'.format(time()-t0)"
   ]
  },
  {
   "cell_type": "code",
   "execution_count": 186,
   "metadata": {
    "collapsed": false
   },
   "outputs": [
    {
     "data": {
      "text/plain": [
       "80"
      ]
     },
     "execution_count": 186,
     "metadata": {},
     "output_type": "execute_result"
    }
   ],
   "source": [
    "len(difference_all3)"
   ]
  },
  {
   "cell_type": "code",
   "execution_count": 187,
   "metadata": {
    "collapsed": false
   },
   "outputs": [],
   "source": [
    "difference_all3_list = []\n",
    "for key in difference_all3:\n",
    "    meandiff = sum(difference_all3[key])/1531\n",
    "    difference_all3_list.append((key,meandiff))"
   ]
  },
  {
   "cell_type": "code",
   "execution_count": 188,
   "metadata": {
    "collapsed": false
   },
   "outputs": [
    {
     "data": {
      "text/plain": [
       "[((10, 5, 3, 4), 0.22739365015872792),\n",
       " ((15, 5, 3, 4), 0.22748253413277145),\n",
       " ((10, 5, 3, 0), 0.22756913820585403),\n",
       " ((10, 5, 3, 1), 0.22762983083885924),\n",
       " ((15, 5, 3, 1), 0.22769261639083227),\n",
       " ((15, 5, 3, 0), 0.22773037472054936),\n",
       " ((15, 5, 3, 2), 0.22790654918867437),\n",
       " ((10, 5, 3, 2), 0.22795633208927779),\n",
       " ((20, 5, 3, 4), 0.2279695916690628),\n",
       " ((20, 5, 3, 1), 0.22809766013817681)]"
      ]
     },
     "execution_count": 188,
     "metadata": {},
     "output_type": "execute_result"
    }
   ],
   "source": [
    "sorted(difference_all3_list,key = lambda x:x[1])[:10]"
   ]
  },
  {
   "cell_type": "markdown",
   "metadata": {},
   "source": [
    "### k_trans = 10, k_sp = 5，40 topics for transcripts and 50 topics for speaker backgrounds gives the best CV results: mean hellinger distance is 0.227"
   ]
  },
  {
   "cell_type": "markdown",
   "metadata": {},
   "source": [
    "### Benchmark the training error: How much variation in rating can be explained by topics variation"
   ]
  },
  {
   "cell_type": "markdown",
   "metadata": {},
   "source": [
    "Use the optimized model to fit the complete training set and then we use the global mean to predict and compare the error against the training error"
   ]
  },
  {
   "cell_type": "code",
   "execution_count": 235,
   "metadata": {
    "collapsed": false
   },
   "outputs": [],
   "source": [
    "training_error = pd.Series(index = ids.values)\n",
    "avg_difference = pd.Series(index = ids.values)\n",
    "index_final = similarities.MatrixSimilarity(corpustrain_lsi_40)\n",
    "sp_index_final = similarities.MatrixSimilarity(sp_corpustrain_lsi_50)"
   ]
  },
  {
   "cell_type": "code",
   "execution_count": 240,
   "metadata": {
    "collapsed": false
   },
   "outputs": [],
   "source": [
    "for talkid in ids:\n",
    "    res = ratings.ix[iddict[talkid],ratingwords]\n",
    "    predicted = pred_rating2(talkid,ids,10,5,corpustrain_lsi_40,index_final,sp_corpustrain_lsi_50,sp_index_final)\n",
    "    avg_difference[talkid] = prob_distance(res,global_mean)\n",
    "    training_error[talkid] = prob_distance(res,predicted)"
   ]
  },
  {
   "cell_type": "code",
   "execution_count": 241,
   "metadata": {
    "collapsed": false
   },
   "outputs": [
    {
     "data": {
      "text/plain": [
       "0.2907094699920077"
      ]
     },
     "execution_count": 241,
     "metadata": {},
     "output_type": "execute_result"
    }
   ],
   "source": [
    "avg_difference.mean()"
   ]
  },
  {
   "cell_type": "code",
   "execution_count": 242,
   "metadata": {
    "collapsed": false
   },
   "outputs": [
    {
     "data": {
      "text/plain": [
       "0.22670899185439747"
      ]
     },
     "execution_count": 242,
     "metadata": {},
     "output_type": "execute_result"
    }
   ],
   "source": [
    "training_error.mean()"
   ]
  },
  {
   "cell_type": "code",
   "execution_count": 249,
   "metadata": {
    "collapsed": false
   },
   "outputs": [
    {
     "data": {
      "text/plain": [
       "<matplotlib.text.Text at 0x124bf2490>"
      ]
     },
     "execution_count": 249,
     "metadata": {},
     "output_type": "execute_result"
    },
    {
     "data": {
      "image/png": "[encoded data removed]",
      "text/plain": [
       "<matplotlib.figure.Figure at 0x124b8aad0>"
      ]
     },
     "metadata": {},
     "output_type": "display_data"
    }
   ],
   "source": [
    "fig = plt.figure(figsize = (8,5))\n",
    "ax = plt.gca()\n",
    "avg_difference.hist(bins = 30,alpha = 0.3, label = 'total error',ax = ax)\n",
    "training_error.hist(bins = 30,alpha = 0.5, label = 'training error', ax = ax)\n",
    "ax.legend(loc = 'best',fontsize = 'medium')\n",
    "plt.xlabel('Error measured by Hellinger distance to the real ratings')\n",
    "plt.ylabel('Number of talks')"
   ]
  },
  {
   "cell_type": "markdown",
   "metadata": {},
   "source": [
    "### Summary:\n",
    "1. Some moderate amount of rating variations are explained by the topic differences among talks, as shown in the above figure and by comparing the mean training error from the model (0.23) vs the total error (0.29) if estimation is made using the global mean rating vector.\n",
    "2. Evidently, a large portion of the rating variations are unexplained by a simple topic model. Outliers such as talk 129, which received predominantly one rating word: Jaw-dropping, may not be uncommon. Features that reflect other aspects of the talks, such as delivery skills may boost the prediction power.\n",
    "3. Prediction on the test set is done in a separate notebook"
   ]
  },
  {
   "cell_type": "code",
   "execution_count": null,
   "metadata": {
    "collapsed": true
   },
   "outputs": [],
   "source": []
  }
 ],
 "metadata": {
  "kernelspec": {
   "display_name": "Python 2",
   "language": "python",
   "name": "python2"
  },
  "language_info": {
   "codemirror_mode": {
    "name": "ipython",
    "version": 2
   },
   "file_extension": ".py",
   "mimetype": "text/x-python",
   "name": "python",
   "nbconvert_exporter": "python",
   "pygments_lexer": "ipython2",
   "version": "2.7.11"
  }
 },
 "nbformat": 4,
 "nbformat_minor": 0
}
