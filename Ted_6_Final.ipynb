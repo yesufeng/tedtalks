{
 "cells": [
  {
   "cell_type": "markdown",
   "metadata": {},
   "source": [
    "#Prediction of TED talks ratings "
   ]
  },
  {
   "cell_type": "markdown",
   "metadata": {},
   "source": [
    "#### Date:  May 25th, 2015"
   ]
  },
  {
   "cell_type": "markdown",
   "metadata": {},
   "source": [
    "This notebook is based on Ted_4_Feature testing, feature engineering/selections are done in other notebooks such as Ted_2 (caption) and Ted_5 (other textual data); the raw data is processed in Ted_1. The splitting of training set and final holdout dataset is done in Ted_3"
   ]
  },
  {
   "cell_type": "code",
   "execution_count": 163,
   "metadata": {
    "collapsed": true
   },
   "outputs": [],
   "source": [
    "import pandas as pd\n",
    "import numpy as np\n",
    "import matplotlib.pylab as plt\n",
    "import seaborn as sns\n",
    "%matplotlib inline\n",
    "import requests\n",
    "from pattern import web\n",
    "import operator"
   ]
  },
  {
   "cell_type": "code",
   "execution_count": 164,
   "metadata": {
    "collapsed": true
   },
   "outputs": [],
   "source": [
    "from sklearn.linear_model import LogisticRegression\n",
    "from sklearn.linear_model import LogisticRegressionCV\n",
    "from sklearn.metrics import classification_report\n",
    "from sklearn.metrics import confusion_matrix\n",
    "from sklearn.ensemble import RandomForestClassifier"
   ]
  },
  {
   "cell_type": "code",
   "execution_count": 165,
   "metadata": {
    "collapsed": true
   },
   "outputs": [],
   "source": [
    "from sklearn.pipeline import Pipeline\n",
    "from sklearn.cross_validation import cross_val_score\n",
    "from sklearn.cross_validation import StratifiedKFold\n",
    "from sklearn.grid_search import GridSearchCV"
   ]
  },
  {
   "cell_type": "code",
   "execution_count": 166,
   "metadata": {
    "collapsed": true
   },
   "outputs": [],
   "source": [
    "from sklearn import metrics\n",
    "from sklearn.cluster import KMeans\n",
    "from sklearn.decomposition import PCA\n",
    "from sklearn.preprocessing import scale\n",
    "from sklearn.preprocessing import label_binarize\n",
    "from unidecode import unidecode\n",
    "from sklearn.cross_validation import StratifiedShuffleSplit\n",
    "from sklearn.feature_extraction.text import TfidfVectorizer\n",
    "from sklearn.feature_extraction.text import CountVectorizer\n",
    "from sklearn.svm import SVC\n",
    "from sklearn.base import BaseEstimator,TransformerMixin"
   ]
  },
  {
   "cell_type": "code",
   "execution_count": 167,
   "metadata": {
    "collapsed": true
   },
   "outputs": [],
   "source": [
    "from nltk import word_tokenize\n",
    "from nltk.stem import PorterStemmer\n",
    "from nltk.stem.wordnet import WordNetLemmatizer\n",
    "from nltk import pos_tag"
   ]
  },
  {
   "cell_type": "markdown",
   "metadata": {},
   "source": [
    "##1. Process themes into vector"
   ]
  },
  {
   "cell_type": "code",
   "execution_count": 168,
   "metadata": {
    "collapsed": false
   },
   "outputs": [],
   "source": [
    "talks_small = pd.read_json('train2.json')"
   ]
  },
  {
   "cell_type": "code",
   "execution_count": 169,
   "metadata": {
    "collapsed": false
   },
   "outputs": [],
   "source": [
    "talks_small.reset_index(drop = True, inplace = True)"
   ]
  },
  {
   "cell_type": "code",
   "execution_count": 170,
   "metadata": {
    "collapsed": false
   },
   "outputs": [
    {
     "data": {
      "text/plain": [
       "(1535, 33)"
      ]
     },
     "execution_count": 170,
     "metadata": {},
     "output_type": "execute_result"
    }
   ],
   "source": [
    "talks_small.shape"
   ]
  },
  {
   "cell_type": "code",
   "execution_count": 171,
   "metadata": {
    "collapsed": true
   },
   "outputs": [],
   "source": [
    "def themes_fun(row):\n",
    "    # convert the original themes (dict) to list\n",
    "    themes = []\n",
    "    for theme in row['themes']:\n",
    "        themes.append(theme['theme']['name'])\n",
    "    return themes"
   ]
  },
  {
   "cell_type": "code",
   "execution_count": 172,
   "metadata": {
    "collapsed": false
   },
   "outputs": [],
   "source": [
    "themes = []\n",
    "for i in xrange(talks_small.shape[0]):\n",
    "    themes.append(themes_fun(talks_small.ix[i,:]))"
   ]
  },
  {
   "cell_type": "code",
   "execution_count": 173,
   "metadata": {
    "collapsed": true
   },
   "outputs": [],
   "source": [
    "# get the total themes, used as vocabulary\n",
    "th_url = 'https://api.ted.com/v1/themes.json?api-key=ynw2u8e4h9sk8c2htp7vutxq&limit=100'\n",
    "th_res = requests.get(th_url)"
   ]
  },
  {
   "cell_type": "code",
   "execution_count": 174,
   "metadata": {
    "collapsed": false
   },
   "outputs": [],
   "source": [
    "vocab_theme = [(x['theme']['name'],x['theme']['id']) for x in th_res.json()['themes']]"
   ]
  },
  {
   "cell_type": "code",
   "execution_count": 175,
   "metadata": {
    "collapsed": false
   },
   "outputs": [],
   "source": [
    "vocab_theme = dict(vocab_theme)"
   ]
  },
  {
   "cell_type": "code",
   "execution_count": 176,
   "metadata": {
    "collapsed": false
   },
   "outputs": [],
   "source": [
    "vocab_theme = vocab_theme.keys()"
   ]
  },
  {
   "cell_type": "code",
   "execution_count": 177,
   "metadata": {
    "collapsed": true
   },
   "outputs": [],
   "source": [
    "vocab_theme = [u'Live Music',u'Celebrating TEDWomen',u'Whipsmart Comedy',u'Listening to Teachers',u'Spectacular Performance',\n",
    " u'Ocean Wonders',u'Bold Predictions, Stern Warnings',u'What Makes Us Happy?',u'Media With Meaning',u'Technology, History and Destiny',\n",
    " u'How the Mind Works',u'Talks from TED Fellows',u'Medicine Without Borders',u'Hidden Gems',u'War and Peace',\n",
    " u'The Rise of Collaboration',u'TED Prize Winners',u\"Evolution's Genius\",u'Unconventional Explanations',u\"What's Next in Tech\",\n",
    " u'Presentation Innovation',u'Words About Words',u'Numbers at Play',u'Women Reshaping the World',u'Art Unusual',\n",
    " u'Not Business as Usual',u'To Boldly Go ...',u'Architectural Inspiration',u'Africa: The Next Chapter',u'TED in 3 Minutes',\n",
    " u'Tales of Invention',u'Inspired by Nature',u'Is There a God?',u'Design That Matters',u'Food Matters',u'How We Learn',u'Master Storytellers',\n",
    " u'Animals That Amaze',u'The Power of Cities',u'A Greener Future?',u'The Creative Spark',u'Peering into Space',u'Best of the Web',\n",
    " u'Rethinking Poverty',u'The Charter for Compassion',u'Might You Live a Great Deal Longer?',u'Mission Blue Voyage']"
   ]
  },
  {
   "cell_type": "code",
   "execution_count": 178,
   "metadata": {
    "collapsed": false
   },
   "outputs": [
    {
     "data": {
      "text/plain": [
       "u'Celebrating TEDWomen'"
      ]
     },
     "execution_count": 178,
     "metadata": {},
     "output_type": "execute_result"
    }
   ],
   "source": [
    "vocab_theme[1]"
   ]
  },
  {
   "cell_type": "code",
   "execution_count": 179,
   "metadata": {
    "collapsed": true
   },
   "outputs": [],
   "source": [
    "talks_small['themes'] = themes"
   ]
  },
  {
   "cell_type": "code",
   "execution_count": 180,
   "metadata": {
    "collapsed": false
   },
   "outputs": [],
   "source": [
    "talks_small['themes'] = talks_small['themes'].apply(lambda x: ' '.join(x))"
   ]
  },
  {
   "cell_type": "markdown",
   "metadata": {},
   "source": [
    "#### The maximum length of all themes is 35 grams, therefore use ngram_range = (2,40)"
   ]
  },
  {
   "cell_type": "code",
   "execution_count": 181,
   "metadata": {
    "collapsed": false
   },
   "outputs": [],
   "source": [
    "# shortest themes are of 2 words, longest 7words\n",
    "Cvtheme = CountVectorizer(vocabulary=vocab_theme,binary = True, analyzer='char',ngram_range=(2,40),lowercase = False)"
   ]
  },
  {
   "cell_type": "markdown",
   "metadata": {},
   "source": [
    "##2. Convert onespeaker feature into integer "
   ]
  },
  {
   "cell_type": "code",
   "execution_count": 182,
   "metadata": {
    "collapsed": true
   },
   "outputs": [],
   "source": [
    "talks_small['onespeaker'] = (talks_small['onespeaker']==True).astype(int)"
   ]
  },
  {
   "cell_type": "markdown",
   "metadata": {},
   "source": [
    "##3. Process the label "
   ]
  },
  {
   "cell_type": "code",
   "execution_count": 183,
   "metadata": {
    "collapsed": false
   },
   "outputs": [],
   "source": [
    "labels = pd.read_csv('response5.csv',header =None )"
   ]
  },
  {
   "cell_type": "code",
   "execution_count": 184,
   "metadata": {
    "collapsed": false
   },
   "outputs": [],
   "source": [
    "labels.columns = ['id','label']"
   ]
  },
  {
   "cell_type": "markdown",
   "metadata": {
    "slideshow": {
     "slide_type": "slide"
    }
   },
   "source": [
    "#### Make a plot of label distribution in the training set"
   ]
  },
  {
   "cell_type": "code",
   "execution_count": 185,
   "metadata": {
    "collapsed": false
   },
   "outputs": [],
   "source": [
    "counts = labels.groupby('label')['label'].count()"
   ]
  },
  {
   "cell_type": "code",
   "execution_count": 186,
   "metadata": {
    "collapsed": true
   },
   "outputs": [],
   "source": [
    "fractions = counts/counts.sum()"
   ]
  },
  {
   "cell_type": "code",
   "execution_count": 187,
   "metadata": {
    "collapsed": false
   },
   "outputs": [],
   "source": [
    "fractions.index = ['persuasive informative','beautiful courageous inspiring','jaw-dropping ingenious fascinating',\n",
    "                  'ok obnoxious confusing unconvincing long-winded', 'funny']"
   ]
  },
  {
   "cell_type": "code",
   "execution_count": 188,
   "metadata": {
    "collapsed": false
   },
   "outputs": [
    {
     "data": {
      "text/plain": [
       "<matplotlib.text.Text at 0x115caac90>"
      ]
     },
     "execution_count": 188,
     "metadata": {},
     "output_type": "execute_result"
    },
    {
     "data": {
      "image/png": "[encoded data removed]",
      "text/plain": [
       "<matplotlib.figure.Figure at 0x11005d850>"
      ]
     },
     "metadata": {},
     "output_type": "display_data"
    }
   ],
   "source": [
    "fractions.plot(kind = 'bar')\n",
    "plt.xticks(rotation = 15, ha = 'right')\n",
    "plt.ylabel('Fraction of talks (Total: 1535 talks)')"
   ]
  },
  {
   "cell_type": "markdown",
   "metadata": {},
   "source": [
    "##4. Construct final training set Xdf and y, which is the label "
   ]
  },
  {
   "cell_type": "markdown",
   "metadata": {},
   "source": [
    "###4.1 Features from talks_small"
   ]
  },
  {
   "cell_type": "code",
   "execution_count": 189,
   "metadata": {
    "collapsed": false
   },
   "outputs": [],
   "source": [
    "Xdf = talks_small[['id','themes','speaker_gender']]"
   ]
  },
  {
   "cell_type": "code",
   "execution_count": 190,
   "metadata": {
    "collapsed": false
   },
   "outputs": [],
   "source": [
    "Xdf = Xdf.sort(columns = 'id')"
   ]
  },
  {
   "cell_type": "markdown",
   "metadata": {},
   "source": [
    "###4.2 Features from captions_f.json, processed in Ted_2 "
   ]
  },
  {
   "cell_type": "code",
   "execution_count": 191,
   "metadata": {
    "collapsed": false
   },
   "outputs": [],
   "source": [
    "caps = pd.read_json('captions_f.json')[['id','length','num_para','word_per_sec','laughter_per_word','laugh_as_para',\n",
    "                                     'applause_total','div_per_word','ithinks','storywords','noun_token','verb_token']]"
   ]
  },
  {
   "cell_type": "code",
   "execution_count": 192,
   "metadata": {
    "collapsed": false
   },
   "outputs": [],
   "source": [
    "caps = caps.sort(columns = 'id')"
   ]
  },
  {
   "cell_type": "code",
   "execution_count": 193,
   "metadata": {
    "collapsed": true
   },
   "outputs": [],
   "source": [
    "caps.reset_index(inplace = True, drop = True)"
   ]
  },
  {
   "cell_type": "markdown",
   "metadata": {},
   "source": [
    "### 4.3 Features from processed (title + keywords + description), generated in Ted_5"
   ]
  },
  {
   "cell_type": "code",
   "execution_count": 194,
   "metadata": {
    "collapsed": true
   },
   "outputs": [],
   "source": [
    "Xother = pd.read_json('talks_other_text.json')"
   ]
  },
  {
   "cell_type": "code",
   "execution_count": 195,
   "metadata": {
    "collapsed": false
   },
   "outputs": [],
   "source": [
    "Xother.sort(columns = 'id',inplace = True)"
   ]
  },
  {
   "cell_type": "code",
   "execution_count": 196,
   "metadata": {
    "collapsed": true
   },
   "outputs": [],
   "source": [
    "Xother.reset_index(inplace = True, drop = True)"
   ]
  },
  {
   "cell_type": "markdown",
   "metadata": {},
   "source": [
    "###4.4 Merge all three sources into Xdf "
   ]
  },
  {
   "cell_type": "code",
   "execution_count": 197,
   "metadata": {
    "collapsed": true
   },
   "outputs": [],
   "source": [
    "Xdf = pd.merge(Xdf,caps,on = 'id')"
   ]
  },
  {
   "cell_type": "code",
   "execution_count": 198,
   "metadata": {
    "collapsed": true
   },
   "outputs": [],
   "source": [
    "Xdf = pd.merge(Xdf,Xother, on = 'id')"
   ]
  },
  {
   "cell_type": "code",
   "execution_count": 199,
   "metadata": {
    "collapsed": false
   },
   "outputs": [],
   "source": [
    "Xdf.sort(columns = 'id',inplace = True)"
   ]
  },
  {
   "cell_type": "markdown",
   "metadata": {},
   "source": [
    "###4.5 Generate y from labels "
   ]
  },
  {
   "cell_type": "code",
   "execution_count": 200,
   "metadata": {
    "collapsed": false
   },
   "outputs": [],
   "source": [
    "labels.sort(columns = 'id',inplace = True)"
   ]
  },
  {
   "cell_type": "code",
   "execution_count": 201,
   "metadata": {
    "collapsed": false
   },
   "outputs": [],
   "source": [
    "labels.reset_index(drop = True, inplace = True)"
   ]
  },
  {
   "cell_type": "code",
   "execution_count": 202,
   "metadata": {
    "collapsed": false
   },
   "outputs": [],
   "source": [
    "y = labels[['label']].values.flatten()"
   ]
  },
  {
   "cell_type": "markdown",
   "metadata": {},
   "source": [
    "## 5 Learning"
   ]
  },
  {
   "cell_type": "markdown",
   "metadata": {},
   "source": [
    "### 5.1 a single test-train split "
   ]
  },
  {
   "cell_type": "code",
   "execution_count": 203,
   "metadata": {
    "collapsed": true
   },
   "outputs": [],
   "source": [
    "sss = StratifiedShuffleSplit(y, n_iter = 1, test_size=0.2, random_state=1)"
   ]
  },
  {
   "cell_type": "code",
   "execution_count": 204,
   "metadata": {
    "collapsed": false
   },
   "outputs": [],
   "source": [
    "for train_index,test_index in sss:\n",
    "    Xdftrain,Xdftest = Xdf.ix[train_index,:],Xdf.ix[test_index,:]\n",
    "    ytrain,ytest = y[train_index],y[test_index]"
   ]
  },
  {
   "cell_type": "markdown",
   "metadata": {},
   "source": [
    "####5.1.1 Convert the text(title +kw + description) into a matrix using CountVectorizer"
   ]
  },
  {
   "cell_type": "code",
   "execution_count": 205,
   "metadata": {
    "collapsed": false
   },
   "outputs": [],
   "source": [
    "Xtrain_text = Xdftrain['text'].as_matrix()"
   ]
  },
  {
   "cell_type": "code",
   "execution_count": 206,
   "metadata": {
    "collapsed": true
   },
   "outputs": [],
   "source": [
    "Xtest_text = Xdftest['text'].as_matrix()"
   ]
  },
  {
   "cell_type": "markdown",
   "metadata": {},
   "source": [
    "##### the following list is derived in Ted_5_NLP_other "
   ]
  },
  {
   "cell_type": "code",
   "execution_count": 207,
   "metadata": {
    "collapsed": true
   },
   "outputs": [],
   "source": [
    "final_text_words = ['global issues', 'science', 'culture', 'new','humor','entertainment']"
   ]
  },
  {
   "cell_type": "code",
   "execution_count": 208,
   "metadata": {
    "collapsed": true
   },
   "outputs": [],
   "source": [
    "vect_other = CountVectorizer(vocabulary = final_text_words, stop_words = 'english', ngram_range = (1,2))"
   ]
  },
  {
   "cell_type": "code",
   "execution_count": 209,
   "metadata": {
    "collapsed": true
   },
   "outputs": [],
   "source": [
    "Xtrain_text_other = vect_other.fit_transform(Xtrain_text)"
   ]
  },
  {
   "cell_type": "code",
   "execution_count": 210,
   "metadata": {
    "collapsed": true
   },
   "outputs": [],
   "source": [
    "Xtest_text_other = vect_other.transform(Xtest_text)"
   ]
  },
  {
   "cell_type": "markdown",
   "metadata": {},
   "source": [
    "#### 5.1.2 Convert themes into a matrix using Cvtheme (a CountVectorizer) defined previously"
   ]
  },
  {
   "cell_type": "code",
   "execution_count": 211,
   "metadata": {
    "collapsed": false
   },
   "outputs": [],
   "source": [
    "Xtrain_th = Cvtheme.fit_transform(Xdftrain.ix[:,'themes'].as_matrix())"
   ]
  },
  {
   "cell_type": "code",
   "execution_count": 212,
   "metadata": {
    "collapsed": true
   },
   "outputs": [],
   "source": [
    "Xtest_th = Cvtheme.transform(Xdftest.ix[:,'themes'].as_matrix())"
   ]
  },
  {
   "cell_type": "markdown",
   "metadata": {},
   "source": [
    "#### 5.1.3 Convert verb and noun tokens in the caption to a matrix using TfidfVectorizer"
   ]
  },
  {
   "cell_type": "markdown",
   "metadata": {},
   "source": [
    "##### the vocabulary lists are derived in Ted_2_NLP_caption "
   ]
  },
  {
   "cell_type": "code",
   "execution_count": 213,
   "metadata": {
    "collapsed": true
   },
   "outputs": [],
   "source": [
    "vocab_verb_final = [u'like',u'show',u'feel',u'should',u'leave',u'live',u'understand',u'talk',u'ask',u'become',u'change']"
   ]
  },
  {
   "cell_type": "code",
   "execution_count": 214,
   "metadata": {
    "collapsed": true
   },
   "outputs": [],
   "source": [
    "vocab_noun_final = [u'life',u'percent',u'question',u'story',u'idea',u'part',u'place',u'fact',u'example',u'problem',u'bit',u'kind',u'today']"
   ]
  },
  {
   "cell_type": "code",
   "execution_count": 215,
   "metadata": {
    "collapsed": true
   },
   "outputs": [],
   "source": [
    "tf_noun = TfidfVectorizer(vocabulary = vocab_noun_final,use_idf = False, sublinear_tf = True)"
   ]
  },
  {
   "cell_type": "code",
   "execution_count": 216,
   "metadata": {
    "collapsed": true
   },
   "outputs": [],
   "source": [
    "tf_verb = TfidfVectorizer(vocabulary = vocab_verb_final,use_idf = False, sublinear_tf = True)"
   ]
  },
  {
   "cell_type": "code",
   "execution_count": 217,
   "metadata": {
    "collapsed": true
   },
   "outputs": [],
   "source": [
    "Xtrain_noun = tf_noun.fit_transform(Xdftrain.ix[:,'noun_token'].as_matrix())"
   ]
  },
  {
   "cell_type": "code",
   "execution_count": 218,
   "metadata": {
    "collapsed": true
   },
   "outputs": [],
   "source": [
    "Xtest_noun = tf_noun.transform(Xdftest.ix[:,'noun_token'].as_matrix())"
   ]
  },
  {
   "cell_type": "code",
   "execution_count": 219,
   "metadata": {
    "collapsed": true
   },
   "outputs": [],
   "source": [
    "Xtrain_verb = tf_verb.fit_transform(Xdftrain.ix[:,'verb_token'].as_matrix())"
   ]
  },
  {
   "cell_type": "code",
   "execution_count": 220,
   "metadata": {
    "collapsed": true
   },
   "outputs": [],
   "source": [
    "Xtest_verb = tf_verb.transform(Xdftest.ix[:,'verb_token'].as_matrix())"
   ]
  },
  {
   "cell_type": "markdown",
   "metadata": {},
   "source": [
    "#### 5.1.4 Combine all features into Xtrain, Xtest"
   ]
  },
  {
   "cell_type": "code",
   "execution_count": 221,
   "metadata": {
    "collapsed": false
   },
   "outputs": [],
   "source": [
    "Xtrain = np.concatenate([Xtrain_th.toarray(),Xtrain_noun.toarray(),Xtrain_verb.toarray(),\n",
    "                          Xtrain_text_other.toarray(), scale(Xdftrain.ix[:,2:12].as_matrix())],\n",
    "                         axis = 1)"
   ]
  },
  {
   "cell_type": "code",
   "execution_count": 222,
   "metadata": {
    "collapsed": false
   },
   "outputs": [],
   "source": [
    "Xtest = np.concatenate([Xtest_th.toarray(),Xtest_noun.toarray(),Xtest_verb.toarray(),\n",
    "                         Xtest_text_other.toarray(), scale(Xdftest.ix[:,2:12].as_matrix())],axis = 1)"
   ]
  },
  {
   "cell_type": "markdown",
   "metadata": {},
   "source": [
    "#### 5.1.5 Test logistic regression, random forest and svm "
   ]
  },
  {
   "cell_type": "markdown",
   "metadata": {},
   "source": [
    "#### Logistic Regresion"
   ]
  },
  {
   "cell_type": "markdown",
   "metadata": {},
   "source": [
    "##### to improve the negative class prediction, class_weight can be specified to 'auto'"
   ]
  },
  {
   "cell_type": "code",
   "execution_count": 223,
   "metadata": {
    "collapsed": true
   },
   "outputs": [],
   "source": [
    "clf = LogisticRegression(C = 10, penalty = 'l2',class_weight = 'auto')"
   ]
  },
  {
   "cell_type": "code",
   "execution_count": 224,
   "metadata": {
    "collapsed": false
   },
   "outputs": [
    {
     "data": {
      "text/plain": [
       "LogisticRegression(C=10, class_weight='auto', dual=False, fit_intercept=True,\n",
       "          intercept_scaling=1, max_iter=100, multi_class='ovr',\n",
       "          penalty='l2', random_state=None, solver='liblinear', tol=0.0001,\n",
       "          verbose=0)"
      ]
     },
     "execution_count": 224,
     "metadata": {},
     "output_type": "execute_result"
    }
   ],
   "source": [
    "clf.fit(Xtrain,ytrain)"
   ]
  },
  {
   "cell_type": "code",
   "execution_count": 225,
   "metadata": {
    "collapsed": false
   },
   "outputs": [],
   "source": [
    "ytest_pred = clf.predict(Xtest)"
   ]
  },
  {
   "cell_type": "code",
   "execution_count": 226,
   "metadata": {
    "collapsed": false
   },
   "outputs": [
    {
     "name": "stdout",
     "output_type": "stream",
     "text": [
      "             precision    recall  f1-score   support\n",
      "\n",
      "          0       0.64      0.66      0.65        95\n",
      "          1       0.67      0.64      0.65        84\n",
      "          2       0.56      0.55      0.55        71\n",
      "          3       0.35      0.25      0.29        36\n",
      "          4       0.52      0.77      0.62        22\n",
      "\n",
      "avg / total       0.59      0.59      0.59       308\n",
      "\n"
     ]
    }
   ],
   "source": [
    "print classification_report(ytest,ytest_pred)"
   ]
  },
  {
   "cell_type": "code",
   "execution_count": 227,
   "metadata": {
    "collapsed": false
   },
   "outputs": [
    {
     "data": {
      "text/html": [
       "<div style=\"max-height:1000px;max-width:1500px;overflow:auto;\">\n",
       "<table border=\"1\" class=\"dataframe\">\n",
       "  <thead>\n",
       "    <tr style=\"text-align: right;\">\n",
       "      <th>true</th>\n",
       "      <th>0</th>\n",
       "      <th>1</th>\n",
       "      <th>2</th>\n",
       "      <th>3</th>\n",
       "      <th>4</th>\n",
       "      <th>All</th>\n",
       "    </tr>\n",
       "    <tr>\n",
       "      <th>predicted</th>\n",
       "      <th></th>\n",
       "      <th></th>\n",
       "      <th></th>\n",
       "      <th></th>\n",
       "      <th></th>\n",
       "      <th></th>\n",
       "    </tr>\n",
       "  </thead>\n",
       "  <tbody>\n",
       "    <tr>\n",
       "      <th>0</th>\n",
       "      <td>63</td>\n",
       "      <td>13</td>\n",
       "      <td>12</td>\n",
       "      <td>9</td>\n",
       "      <td>1</td>\n",
       "      <td>98</td>\n",
       "    </tr>\n",
       "    <tr>\n",
       "      <th>1</th>\n",
       "      <td>8</td>\n",
       "      <td>54</td>\n",
       "      <td>8</td>\n",
       "      <td>9</td>\n",
       "      <td>2</td>\n",
       "      <td>81</td>\n",
       "    </tr>\n",
       "    <tr>\n",
       "      <th>2</th>\n",
       "      <td>15</td>\n",
       "      <td>8</td>\n",
       "      <td>39</td>\n",
       "      <td>7</td>\n",
       "      <td>1</td>\n",
       "      <td>70</td>\n",
       "    </tr>\n",
       "    <tr>\n",
       "      <th>3</th>\n",
       "      <td>6</td>\n",
       "      <td>2</td>\n",
       "      <td>8</td>\n",
       "      <td>9</td>\n",
       "      <td>1</td>\n",
       "      <td>26</td>\n",
       "    </tr>\n",
       "    <tr>\n",
       "      <th>4</th>\n",
       "      <td>3</td>\n",
       "      <td>7</td>\n",
       "      <td>4</td>\n",
       "      <td>2</td>\n",
       "      <td>17</td>\n",
       "      <td>33</td>\n",
       "    </tr>\n",
       "    <tr>\n",
       "      <th>All</th>\n",
       "      <td>95</td>\n",
       "      <td>84</td>\n",
       "      <td>71</td>\n",
       "      <td>36</td>\n",
       "      <td>22</td>\n",
       "      <td>308</td>\n",
       "    </tr>\n",
       "  </tbody>\n",
       "</table>\n",
       "</div>"
      ],
      "text/plain": [
       "true        0   1   2   3   4  All\n",
       "predicted                         \n",
       "0          63  13  12   9   1   98\n",
       "1           8  54   8   9   2   81\n",
       "2          15   8  39   7   1   70\n",
       "3           6   2   8   9   1   26\n",
       "4           3   7   4   2  17   33\n",
       "All        95  84  71  36  22  308"
      ]
     },
     "execution_count": 227,
     "metadata": {},
     "output_type": "execute_result"
    }
   ],
   "source": [
    "pd.crosstab(ytest_pred,ytest,rownames=['predicted'],colnames = ['true'],margins = True)"
   ]
  },
  {
   "cell_type": "code",
   "execution_count": 228,
   "metadata": {
    "collapsed": false
   },
   "outputs": [
    {
     "data": {
      "text/plain": [
       "0.5909090909090909"
      ]
     },
     "execution_count": 228,
     "metadata": {},
     "output_type": "execute_result"
    }
   ],
   "source": [
    "(63+ 54+ 39+9+17)/308."
   ]
  },
  {
   "cell_type": "code",
   "execution_count": 229,
   "metadata": {
    "collapsed": true
   },
   "outputs": [],
   "source": [
    "report_precision = [0.52, 0.64, 0.46, 0.47, 0.67]"
   ]
  },
  {
   "cell_type": "code",
   "execution_count": 230,
   "metadata": {
    "collapsed": false
   },
   "outputs": [],
   "source": [
    "report_recall = [0.67, 0.62, 0.44, 0.19, 0.64]"
   ]
  },
  {
   "cell_type": "code",
   "execution_count": 231,
   "metadata": {
    "collapsed": true
   },
   "outputs": [],
   "source": [
    "report_precision = pd.Series(report_precision, index = fractions.index)"
   ]
  },
  {
   "cell_type": "code",
   "execution_count": 232,
   "metadata": {
    "collapsed": true
   },
   "outputs": [],
   "source": [
    "report_recall = pd.Series(report_recall, index = fractions.index)"
   ]
  },
  {
   "cell_type": "code",
   "execution_count": 233,
   "metadata": {
    "collapsed": true
   },
   "outputs": [
    {
     "data": {
      "text/plain": [
       "<matplotlib.text.Text at 0x11915e810>"
      ]
     },
     "execution_count": 233,
     "metadata": {},
     "output_type": "execute_result"
    },
    {
     "data": {
      "image/png": "[encoded data removed]",
      "text/plain": [
       "<matplotlib.figure.Figure at 0x110602350>"
      ]
     },
     "metadata": {},
     "output_type": "display_data"
    }
   ],
   "source": [
    "report_recall.plot(kind = 'bar')\n",
    "plt.xticks(rotation = 15, ha = 'right')\n",
    "plt.ylabel('Prediction recall')"
   ]
  },
  {
   "cell_type": "code",
   "execution_count": 72,
   "metadata": {
    "collapsed": true
   },
   "outputs": [
    {
     "data": {
      "text/plain": [
       "<matplotlib.text.Text at 0x11b845650>"
      ]
     },
     "execution_count": 72,
     "metadata": {},
     "output_type": "execute_result"
    },
    {
     "data": {
      "image/png": "[encoded data removed]",
      "text/plain": [
       "<matplotlib.figure.Figure at 0x110188b90>"
      ]
     },
     "metadata": {},
     "output_type": "display_data"
    }
   ],
   "source": [
    "report_precision.plot(kind = 'bar')\n",
    "plt.xticks(rotation = 15, ha = 'right')\n",
    "plt.ylabel('Prediction precision')"
   ]
  },
  {
   "cell_type": "markdown",
   "metadata": {},
   "source": [
    "####SVM "
   ]
  },
  {
   "cell_type": "code",
   "execution_count": 234,
   "metadata": {
    "collapsed": true
   },
   "outputs": [],
   "source": [
    "svm = SVC(class_weight = 'auto',C = 10.0)"
   ]
  },
  {
   "cell_type": "code",
   "execution_count": 235,
   "metadata": {
    "collapsed": false
   },
   "outputs": [
    {
     "data": {
      "text/plain": [
       "SVC(C=10.0, cache_size=200, class_weight='auto', coef0=0.0, degree=3,\n",
       "  gamma=0.0, kernel='rbf', max_iter=-1, probability=False,\n",
       "  random_state=None, shrinking=True, tol=0.001, verbose=False)"
      ]
     },
     "execution_count": 235,
     "metadata": {},
     "output_type": "execute_result"
    }
   ],
   "source": [
    "svm.fit(Xtrain, ytrain)"
   ]
  },
  {
   "cell_type": "code",
   "execution_count": 236,
   "metadata": {
    "collapsed": true
   },
   "outputs": [],
   "source": [
    "ytest_pred2 = svm.predict(Xtest)"
   ]
  },
  {
   "cell_type": "code",
   "execution_count": 237,
   "metadata": {
    "collapsed": false
   },
   "outputs": [
    {
     "name": "stdout",
     "output_type": "stream",
     "text": [
      "             precision    recall  f1-score   support\n",
      "\n",
      "          0       0.65      0.60      0.62        95\n",
      "          1       0.68      0.61      0.64        84\n",
      "          2       0.53      0.55      0.54        71\n",
      "          3       0.28      0.33      0.30        36\n",
      "          4       0.52      0.68      0.59        22\n",
      "\n",
      "avg / total       0.58      0.56      0.57       308\n",
      "\n"
     ]
    }
   ],
   "source": [
    "print classification_report(ytest, ytest_pred2)"
   ]
  },
  {
   "cell_type": "markdown",
   "metadata": {},
   "source": [
    "#### random forest"
   ]
  },
  {
   "cell_type": "code",
   "execution_count": 238,
   "metadata": {
    "collapsed": false
   },
   "outputs": [],
   "source": [
    "rf = RandomForestClassifier(n_estimators= 300, criterion='gini')"
   ]
  },
  {
   "cell_type": "code",
   "execution_count": 239,
   "metadata": {
    "collapsed": false
   },
   "outputs": [
    {
     "data": {
      "text/plain": [
       "RandomForestClassifier(bootstrap=True, class_weight=None, criterion='gini',\n",
       "            max_depth=None, max_features='auto', max_leaf_nodes=None,\n",
       "            min_samples_leaf=1, min_samples_split=2,\n",
       "            min_weight_fraction_leaf=0.0, n_estimators=300, n_jobs=1,\n",
       "            oob_score=False, random_state=None, verbose=0,\n",
       "            warm_start=False)"
      ]
     },
     "execution_count": 239,
     "metadata": {},
     "output_type": "execute_result"
    }
   ],
   "source": [
    "rf.fit(Xtrain,ytrain)"
   ]
  },
  {
   "cell_type": "code",
   "execution_count": 240,
   "metadata": {
    "collapsed": true
   },
   "outputs": [],
   "source": [
    "ytest_pred3 = rf.predict(Xtest)"
   ]
  },
  {
   "cell_type": "code",
   "execution_count": 241,
   "metadata": {
    "collapsed": false
   },
   "outputs": [
    {
     "name": "stdout",
     "output_type": "stream",
     "text": [
      "             precision    recall  f1-score   support\n",
      "\n",
      "          0       0.55      0.78      0.64        95\n",
      "          1       0.58      0.68      0.63        84\n",
      "          2       0.53      0.49      0.51        71\n",
      "          3       1.00      0.03      0.05        36\n",
      "          4       0.88      0.32      0.47        22\n",
      "\n",
      "avg / total       0.63      0.56      0.53       308\n",
      "\n"
     ]
    }
   ],
   "source": [
    "print classification_report(ytest, ytest_pred3)"
   ]
  },
  {
   "cell_type": "markdown",
   "metadata": {},
   "source": [
    "#### generate feature importance list based on rf"
   ]
  },
  {
   "cell_type": "code",
   "execution_count": 242,
   "metadata": {
    "collapsed": true
   },
   "outputs": [],
   "source": [
    "other_vocab = sorted(vect_other.vocabulary_.items(), key = operator.itemgetter(1))"
   ]
  },
  {
   "cell_type": "code",
   "execution_count": 243,
   "metadata": {
    "collapsed": false
   },
   "outputs": [],
   "source": [
    "other_vocab = [x[0] for x in other_vocab]"
   ]
  },
  {
   "cell_type": "code",
   "execution_count": 244,
   "metadata": {
    "collapsed": false
   },
   "outputs": [],
   "source": [
    "noun_vocab = sorted(tf_noun.vocabulary_.items(), key = operator.itemgetter(1))"
   ]
  },
  {
   "cell_type": "code",
   "execution_count": 245,
   "metadata": {
    "collapsed": true
   },
   "outputs": [],
   "source": [
    "noun_vocab = [x[0] for x in noun_vocab]"
   ]
  },
  {
   "cell_type": "code",
   "execution_count": 246,
   "metadata": {
    "collapsed": true
   },
   "outputs": [],
   "source": [
    "verb_vocab = sorted(tf_verb.vocabulary_.items(), key = operator.itemgetter(1))"
   ]
  },
  {
   "cell_type": "code",
   "execution_count": 247,
   "metadata": {
    "collapsed": true
   },
   "outputs": [],
   "source": [
    "verb_vocab = [x[0] for x in verb_vocab]"
   ]
  },
  {
   "cell_type": "code",
   "execution_count": 248,
   "metadata": {
    "collapsed": false
   },
   "outputs": [],
   "source": [
    "feature_names = list(vocab_theme) + noun_vocab + verb_vocab + other_vocab + list(Xdftrain.columns[2:12])"
   ]
  },
  {
   "cell_type": "code",
   "execution_count": 249,
   "metadata": {
    "collapsed": false,
    "scrolled": true
   },
   "outputs": [],
   "source": [
    "feature_importance = pd.Series(rf.feature_importances_,index = feature_names)"
   ]
  },
  {
   "cell_type": "code",
   "execution_count": 250,
   "metadata": {
    "collapsed": false
   },
   "outputs": [],
   "source": [
    "feature_importance.sort(ascending = False)"
   ]
  },
  {
   "cell_type": "code",
   "execution_count": 251,
   "metadata": {
    "collapsed": false
   },
   "outputs": [
    {
     "data": {
      "text/plain": [
       "laughter_per_word                      0.046850\n",
       "word_per_sec                           0.042589\n",
       "length                                 0.038731\n",
       "div_per_word                           0.035318\n",
       "applause_total                         0.034639\n",
       "num_para                               0.032047\n",
       "life                                   0.030239\n",
       "storywords                             0.028145\n",
       "laugh_as_para                          0.025368\n",
       "feel                                   0.024585\n",
       "story                                  0.023602\n",
       "ithinks                                0.022970\n",
       "example                                0.022917\n",
       "show                                   0.022472\n",
       "talk                                   0.021135\n",
       "should                                 0.019744\n",
       "bit                                    0.019308\n",
       "ask                                    0.019231\n",
       "percent                                0.018803\n",
       "fact                                   0.018575\n",
       "part                                   0.018528\n",
       "become                                 0.018513\n",
       "live                                   0.018280\n",
       "today                                  0.018236\n",
       "understand                             0.017898\n",
       "idea                                   0.017898\n",
       "kind                                   0.017686\n",
       "problem                                0.017167\n",
       "change                                 0.017136\n",
       "place                                  0.017040\n",
       "                                         ...   \n",
       "Architectural Inspiration              0.003131\n",
       "Spectacular Performance                0.002920\n",
       "How We Learn                           0.002869\n",
       "Media With Meaning                     0.002853\n",
       "Animals That Amaze                     0.002779\n",
       "Presentation Innovation                0.002747\n",
       "What Makes Us Happy?                   0.002711\n",
       "War and Peace                          0.002689\n",
       "Rethinking Poverty                     0.002669\n",
       "Words About Words                      0.002535\n",
       "Whipsmart Comedy                       0.002438\n",
       "Peering into Space                     0.002407\n",
       "The Rise of Collaboration              0.002306\n",
       "Numbers at Play                        0.002124\n",
       "Talks from TED Fellows                 0.002120\n",
       "Live Music                             0.001885\n",
       "Ocean Wonders                          0.001681\n",
       "Africa: The Next Chapter               0.001604\n",
       "The Power of Cities                    0.001555\n",
       "Celebrating TEDWomen                   0.001322\n",
       "Is There a God?                        0.001222\n",
       "Might You Live a Great Deal Longer?    0.001122\n",
       "Listening to Teachers                  0.001081\n",
       "TED in 3 Minutes                       0.000900\n",
       "Mission Blue Voyage                    0.000704\n",
       "Hidden Gems                            0.000624\n",
       "Food Matters                           0.000574\n",
       "TED Prize Winners                      0.000550\n",
       "The Charter for Compassion             0.000226\n",
       "Best of the Web                        0.000000\n",
       "dtype: float64"
      ]
     },
     "execution_count": 251,
     "metadata": {},
     "output_type": "execute_result"
    }
   ],
   "source": [
    "feature_importance"
   ]
  },
  {
   "cell_type": "markdown",
   "metadata": {},
   "source": [
    "###5.2 Cross-validation on the training set"
   ]
  },
  {
   "cell_type": "code",
   "execution_count": 252,
   "metadata": {
    "collapsed": true
   },
   "outputs": [],
   "source": [
    "Xth = Xdf['themes'].as_matrix()"
   ]
  },
  {
   "cell_type": "code",
   "execution_count": 253,
   "metadata": {
    "collapsed": false
   },
   "outputs": [],
   "source": [
    "Xth = Cvtheme.fit_transform(Xth)"
   ]
  },
  {
   "cell_type": "code",
   "execution_count": 254,
   "metadata": {
    "collapsed": true
   },
   "outputs": [],
   "source": [
    "Xtext_other = vect_other.transform(Xdf['text'].as_matrix())"
   ]
  },
  {
   "cell_type": "code",
   "execution_count": 255,
   "metadata": {
    "collapsed": true
   },
   "outputs": [],
   "source": [
    "X_noun = tf_noun.fit_transform(Xdf['noun_token'].as_matrix())"
   ]
  },
  {
   "cell_type": "code",
   "execution_count": 256,
   "metadata": {
    "collapsed": true
   },
   "outputs": [],
   "source": [
    "X_verb = tf_verb.fit_transform(Xdf['verb_token'].as_matrix())"
   ]
  },
  {
   "cell_type": "code",
   "execution_count": 257,
   "metadata": {
    "collapsed": false
   },
   "outputs": [],
   "source": [
    "X = np.concatenate([Xth.toarray(),X_noun.toarray(), X_verb.toarray(),\n",
    "                    Xtext_other.toarray(),scale(Xdf.ix[:,2:12].as_matrix())],axis = 1)"
   ]
  },
  {
   "cell_type": "code",
   "execution_count": 258,
   "metadata": {
    "collapsed": false
   },
   "outputs": [],
   "source": [
    "score = cross_val_score(clf,X,y,cv = StratifiedKFold(y,n_folds = 5),scoring = 'f1_micro')"
   ]
  },
  {
   "cell_type": "code",
   "execution_count": 259,
   "metadata": {
    "collapsed": false
   },
   "outputs": [
    {
     "name": "stdout",
     "output_type": "stream",
     "text": [
      "0.518079796063 [ 0.49190939  0.50974026  0.47727273  0.55555556  0.55592105]\n"
     ]
    }
   ],
   "source": [
    "print score.mean(),score"
   ]
  },
  {
   "cell_type": "code",
   "execution_count": 260,
   "metadata": {
    "collapsed": false
   },
   "outputs": [],
   "source": [
    "score2 = cross_val_score(svm,X,y,cv = StratifiedKFold(y,n_folds = 5),scoring = 'f1_micro')"
   ]
  },
  {
   "cell_type": "code",
   "execution_count": 261,
   "metadata": {
    "collapsed": false
   },
   "outputs": [
    {
     "name": "stdout",
     "output_type": "stream",
     "text": [
      "0.516765969794 [ 0.47572816  0.49025974  0.51623377  0.55555556  0.54605263]\n"
     ]
    }
   ],
   "source": [
    "print score2.mean(),score2"
   ]
  },
  {
   "cell_type": "markdown",
   "metadata": {
    "collapsed": true
   },
   "source": [
    "###Grid search to optimize hyper-parameters for SVM"
   ]
  },
  {
   "cell_type": "markdown",
   "metadata": {},
   "source": [
    "#### SVM"
   ]
  },
  {
   "cell_type": "code",
   "execution_count": 262,
   "metadata": {
    "collapsed": false
   },
   "outputs": [],
   "source": [
    "param_grid_svm = [{'kernel':['rbf'],'C':np.logspace(-2,2,20),'gamma':np.logspace(-3,1,20)}\n",
    "                  ,{'kernel':['linear'],'C':np.logspace(-2,2,20)}]"
   ]
  },
  {
   "cell_type": "code",
   "execution_count": 263,
   "metadata": {
    "collapsed": true
   },
   "outputs": [],
   "source": [
    "svm2 = SVC(class_weight = 'auto')"
   ]
  },
  {
   "cell_type": "code",
   "execution_count": 264,
   "metadata": {
    "collapsed": true
   },
   "outputs": [],
   "source": [
    "gs_svm = GridSearchCV(svm2,param_grid_svm,scoring = 'f1_micro',cv = StratifiedKFold(y,n_folds = 5),n_jobs=-1)"
   ]
  },
  {
   "cell_type": "code",
   "execution_count": 265,
   "metadata": {
    "collapsed": false
   },
   "outputs": [
    {
     "data": {
      "text/plain": [
       "GridSearchCV(cv=sklearn.cross_validation.StratifiedKFold(labels=[4 1 ..., 1 2], n_folds=5, shuffle=False, random_state=None),\n",
       "       error_score='raise',\n",
       "       estimator=SVC(C=1.0, cache_size=200, class_weight='auto', coef0=0.0, degree=3,\n",
       "  gamma=0.0, kernel='rbf', max_iter=-1, probability=False,\n",
       "  random_state=None, shrinking=True, tol=0.001, verbose=False),\n",
       "       fit_params={}, iid=True, loss_func=None, n_jobs=-1,\n",
       "       param_grid=[{'kernel': ['rbf'], 'C': array([  1.00000e-02,   1.62378e-02,   2.63665e-02,   4.28133e-02,\n",
       "         6.95193e-02,   1.12884e-01,   1.83298e-01,   2.97635e-01,\n",
       "         4.83293e-01,   7.84760e-01,   1.27427e+00,   2.06914e+00,\n",
       "         3.35982e+00,   5.45559e+00,   8.85867e+00,   1.43845e...   8.85867e+00,   1.43845e+01,\n",
       "         2.33572e+01,   3.79269e+01,   6.15848e+01,   1.00000e+02])}],\n",
       "       pre_dispatch='2*n_jobs', refit=True, score_func=None,\n",
       "       scoring='f1_micro', verbose=0)"
      ]
     },
     "execution_count": 265,
     "metadata": {},
     "output_type": "execute_result"
    }
   ],
   "source": [
    "gs_svm.fit(X,y)"
   ]
  },
  {
   "cell_type": "code",
   "execution_count": 266,
   "metadata": {
    "collapsed": false
   },
   "outputs": [
    {
     "name": "stdout",
     "output_type": "stream",
     "text": [
      "Best score: 0.527\n"
     ]
    }
   ],
   "source": [
    "print 'Best score: {:.3f}'.format(gs_svm.best_score_)"
   ]
  },
  {
   "cell_type": "code",
   "execution_count": 267,
   "metadata": {
    "collapsed": false
   },
   "outputs": [
    {
     "name": "stdout",
     "output_type": "stream",
     "text": [
      "Best parameters set:\n",
      "\tC: 5.4555947811685144\n",
      "\tgamma: 0.029763514416313176\n",
      "\tkernel: 'rbf'\n"
     ]
    }
   ],
   "source": [
    "print 'Best parameters set:'\n",
    "best_parameters = gs_svm.best_estimator_.get_params()\n",
    "for param_name in sorted(param_grid_svm[0].keys()):\n",
    "    print '\\t%s: %r' % (param_name,best_parameters[param_name])"
   ]
  },
  {
   "cell_type": "code",
   "execution_count": 268,
   "metadata": {
    "collapsed": false
   },
   "outputs": [
    {
     "data": {
      "text/plain": [
       "SVC(C=5.4555947811685144, cache_size=200, class_weight='auto', coef0=0.0,\n",
       "  degree=3, gamma=0.029763514416313176, kernel='rbf', max_iter=-1,\n",
       "  probability=False, random_state=None, shrinking=True, tol=0.001,\n",
       "  verbose=False)"
      ]
     },
     "execution_count": 268,
     "metadata": {},
     "output_type": "execute_result"
    }
   ],
   "source": [
    "gs_svm.best_estimator_"
   ]
  },
  {
   "cell_type": "code",
   "execution_count": 269,
   "metadata": {
    "collapsed": true
   },
   "outputs": [],
   "source": [
    "ytrain_pred = gs_svm.predict(X)"
   ]
  },
  {
   "cell_type": "code",
   "execution_count": 270,
   "metadata": {
    "collapsed": false
   },
   "outputs": [
    {
     "name": "stdout",
     "output_type": "stream",
     "text": [
      "             precision    recall  f1-score   support\n",
      "\n",
      "          0       0.74      0.72      0.73       474\n",
      "          1       0.84      0.76      0.79       418\n",
      "          2       0.76      0.78      0.77       353\n",
      "          3       0.62      0.70      0.66       179\n",
      "          4       0.78      0.97      0.87       111\n",
      "\n",
      "avg / total       0.76      0.76      0.76      1535\n",
      "\n"
     ]
    }
   ],
   "source": [
    "print classification_report(y,ytrain_pred)"
   ]
  },
  {
   "cell_type": "code",
   "execution_count": 271,
   "metadata": {
    "collapsed": true
   },
   "outputs": [],
   "source": [
    "svm_final = gs_svm.best_estimator_"
   ]
  },
  {
   "cell_type": "code",
   "execution_count": 272,
   "metadata": {
    "collapsed": false
   },
   "outputs": [
    {
     "data": {
      "text/plain": [
       "(1350, 87)"
      ]
     },
     "execution_count": 272,
     "metadata": {},
     "output_type": "execute_result"
    }
   ],
   "source": [
    "svm_final.support_vectors_.shape"
   ]
  },
  {
   "cell_type": "markdown",
   "metadata": {},
   "source": [
    "###Grid search for Logistic regression "
   ]
  },
  {
   "cell_type": "code",
   "execution_count": 273,
   "metadata": {
    "collapsed": true
   },
   "outputs": [],
   "source": [
    "param_logit = {'C':np.logspace(-2,2,20)}"
   ]
  },
  {
   "cell_type": "code",
   "execution_count": 274,
   "metadata": {
    "collapsed": true
   },
   "outputs": [],
   "source": [
    "clf2 = LogisticRegression(class_weight = 'auto',solver = 'lbfgs')"
   ]
  },
  {
   "cell_type": "code",
   "execution_count": 275,
   "metadata": {
    "collapsed": false
   },
   "outputs": [],
   "source": [
    "gs_logit = GridSearchCV(clf2, param_grid = param_logit, cv = StratifiedKFold(y,n_folds = 5), scoring = 'f1_micro')"
   ]
  },
  {
   "cell_type": "code",
   "execution_count": 276,
   "metadata": {
    "collapsed": false
   },
   "outputs": [
    {
     "data": {
      "text/plain": [
       "GridSearchCV(cv=sklearn.cross_validation.StratifiedKFold(labels=[4 1 ..., 1 2], n_folds=5, shuffle=False, random_state=None),\n",
       "       error_score='raise',\n",
       "       estimator=LogisticRegression(C=1.0, class_weight='auto', dual=False, fit_intercept=True,\n",
       "          intercept_scaling=1, max_iter=100, multi_class='ovr',\n",
       "          penalty='l2', random_state=None, solver='lbfgs', tol=0.0001,\n",
       "          verbose=0),\n",
       "       fit_params={}, iid=True, loss_func=None, n_jobs=1,\n",
       "       param_grid={'C': array([  1.00000e-02,   1.62378e-02,   2.63665e-02,   4.28133e-02,\n",
       "         6.95193e-02,   1.12884e-01,   1.83298e-01,   2.97635e-01,\n",
       "         4.83293e-01,   7.84760e-01,   1.27427e+00,   2.06914e+00,\n",
       "         3.35982e+00,   5.45559e+00,   8.85867e+00,   1.43845e+01,\n",
       "         2.33572e+01,   3.79269e+01,   6.15848e+01,   1.00000e+02])},\n",
       "       pre_dispatch='2*n_jobs', refit=True, score_func=None,\n",
       "       scoring='f1_micro', verbose=0)"
      ]
     },
     "execution_count": 276,
     "metadata": {},
     "output_type": "execute_result"
    }
   ],
   "source": [
    "gs_logit.fit(X,y)"
   ]
  },
  {
   "cell_type": "code",
   "execution_count": 277,
   "metadata": {
    "collapsed": false
   },
   "outputs": [
    {
     "name": "stdout",
     "output_type": "stream",
     "text": [
      "Best score: 0.537\n"
     ]
    }
   ],
   "source": [
    "print 'Best score: {:.3f}'.format(gs_logit.best_score_)"
   ]
  },
  {
   "cell_type": "code",
   "execution_count": 278,
   "metadata": {
    "collapsed": false
   },
   "outputs": [
    {
     "name": "stdout",
     "output_type": "stream",
     "text": [
      "Best parameters set:\n",
      "\tC: 0.29763514416313175\n"
     ]
    }
   ],
   "source": [
    "print 'Best parameters set:'\n",
    "best_parameters = gs_logit.best_estimator_.get_params()\n",
    "for param_name in sorted(param_logit.keys()):\n",
    "    print '\\t%s: %r' % (param_name,best_parameters[param_name])"
   ]
  },
  {
   "cell_type": "markdown",
   "metadata": {},
   "source": [
    "##6. Prediction on the validation set "
   ]
  },
  {
   "cell_type": "code",
   "execution_count": 279,
   "metadata": {
    "collapsed": false
   },
   "outputs": [],
   "source": [
    "finaltest = pd.read_json('test2.json')"
   ]
  },
  {
   "cell_type": "code",
   "execution_count": 280,
   "metadata": {
    "collapsed": false
   },
   "outputs": [],
   "source": [
    "finaltest.sort(columns = 'id',inplace = True)"
   ]
  },
  {
   "cell_type": "code",
   "execution_count": 281,
   "metadata": {
    "collapsed": false
   },
   "outputs": [],
   "source": [
    "finaltest.reset_index(inplace = True, drop = True)"
   ]
  },
  {
   "cell_type": "markdown",
   "metadata": {},
   "source": [
    "###6.1 process themes "
   ]
  },
  {
   "cell_type": "code",
   "execution_count": 282,
   "metadata": {
    "collapsed": false
   },
   "outputs": [],
   "source": [
    "final_themes = []\n",
    "for i in xrange(finaltest.shape[0]):\n",
    "    final_themes.append(themes_fun(finaltest.ix[i,:]))"
   ]
  },
  {
   "cell_type": "code",
   "execution_count": 283,
   "metadata": {
    "collapsed": true
   },
   "outputs": [],
   "source": [
    "finaltest['themes']=final_themes"
   ]
  },
  {
   "cell_type": "code",
   "execution_count": 284,
   "metadata": {
    "collapsed": false
   },
   "outputs": [],
   "source": [
    "finaltest['themes']=finaltest['themes'].apply(lambda x: ' '.join(x))"
   ]
  },
  {
   "cell_type": "code",
   "execution_count": 285,
   "metadata": {
    "collapsed": true
   },
   "outputs": [
    {
     "data": {
      "text/html": [
       "<div style=\"max-height:1000px;max-width:1500px;overflow:auto;\">\n",
       "<table border=\"1\" class=\"dataframe\">\n",
       "  <thead>\n",
       "    <tr style=\"text-align: right;\">\n",
       "      <th></th>\n",
       "      <th>Beautiful</th>\n",
       "      <th>Confusing</th>\n",
       "      <th>Courageous</th>\n",
       "      <th>Fascinating</th>\n",
       "      <th>Funny</th>\n",
       "      <th>Informative</th>\n",
       "      <th>Ingenious</th>\n",
       "      <th>Inspiring</th>\n",
       "      <th>Jaw-dropping</th>\n",
       "      <th>Longwinded</th>\n",
       "      <th>...</th>\n",
       "      <th>onespeaker</th>\n",
       "      <th>published_at</th>\n",
       "      <th>rating_count</th>\n",
       "      <th>recorded_at</th>\n",
       "      <th>released_at</th>\n",
       "      <th>speaker_gender</th>\n",
       "      <th>speaker_ids</th>\n",
       "      <th>themes</th>\n",
       "      <th>updated_at</th>\n",
       "      <th>viewed_count</th>\n",
       "    </tr>\n",
       "  </thead>\n",
       "  <tbody>\n",
       "    <tr>\n",
       "      <th>0</th>\n",
       "      <td>81</td>\n",
       "      <td>30</td>\n",
       "      <td>32</td>\n",
       "      <td>70</td>\n",
       "      <td>81</td>\n",
       "      <td>84</td>\n",
       "      <td>21</td>\n",
       "      <td>145</td>\n",
       "      <td>8</td>\n",
       "      <td>99</td>\n",
       "      <td>...</td>\n",
       "      <td>True</td>\n",
       "      <td>2007-04-05 00:11:00</td>\n",
       "      <td>861</td>\n",
       "      <td>2002-02-02</td>\n",
       "      <td>2014-01-15 23:10:03</td>\n",
       "      <td>1</td>\n",
       "      <td>[6]</td>\n",
       "      <td>The Creative Spark Tales of Invention</td>\n",
       "      <td>2014-07-03 20:42:24</td>\n",
       "      <td>711615</td>\n",
       "    </tr>\n",
       "    <tr>\n",
       "      <th>1</th>\n",
       "      <td>7</td>\n",
       "      <td>NaN</td>\n",
       "      <td>10</td>\n",
       "      <td>12</td>\n",
       "      <td>3</td>\n",
       "      <td>33</td>\n",
       "      <td>9</td>\n",
       "      <td>23</td>\n",
       "      <td>6</td>\n",
       "      <td>64</td>\n",
       "      <td>...</td>\n",
       "      <td>True</td>\n",
       "      <td>2007-06-12 05:11:00</td>\n",
       "      <td>271</td>\n",
       "      <td>2002-02-02</td>\n",
       "      <td>2014-01-21 20:18:33</td>\n",
       "      <td>1</td>\n",
       "      <td>[9]</td>\n",
       "      <td>The Power of Cities Architectural Inspiration ...</td>\n",
       "      <td>2014-07-03 20:42:24</td>\n",
       "      <td>323957</td>\n",
       "    </tr>\n",
       "    <tr>\n",
       "      <th>2</th>\n",
       "      <td>338</td>\n",
       "      <td>20</td>\n",
       "      <td>243</td>\n",
       "      <td>350</td>\n",
       "      <td>20</td>\n",
       "      <td>337</td>\n",
       "      <td>29</td>\n",
       "      <td>830</td>\n",
       "      <td>95</td>\n",
       "      <td>61</td>\n",
       "      <td>...</td>\n",
       "      <td>True</td>\n",
       "      <td>2007-04-05 00:11:00</td>\n",
       "      <td>2688</td>\n",
       "      <td>2002-03-01</td>\n",
       "      <td>2014-11-10 18:40:46</td>\n",
       "      <td>0</td>\n",
       "      <td>[12]</td>\n",
       "      <td>Animals That Amaze Evolution's Genius Inspired...</td>\n",
       "      <td>2014-11-10 18:40:46</td>\n",
       "      <td>1384244</td>\n",
       "    </tr>\n",
       "    <tr>\n",
       "      <th>3</th>\n",
       "      <td>207</td>\n",
       "      <td>7</td>\n",
       "      <td>45</td>\n",
       "      <td>606</td>\n",
       "      <td>9</td>\n",
       "      <td>362</td>\n",
       "      <td>344</td>\n",
       "      <td>782</td>\n",
       "      <td>320</td>\n",
       "      <td>25</td>\n",
       "      <td>...</td>\n",
       "      <td>True</td>\n",
       "      <td>2007-04-05 00:11:00</td>\n",
       "      <td>2984</td>\n",
       "      <td>2005-02-24</td>\n",
       "      <td>2014-11-05 23:29:48</td>\n",
       "      <td>0</td>\n",
       "      <td>[19]</td>\n",
       "      <td>Animals That Amaze Evolution's Genius Inspired...</td>\n",
       "      <td>2014-11-05 23:29:48</td>\n",
       "      <td>1399729</td>\n",
       "    </tr>\n",
       "    <tr>\n",
       "      <th>4</th>\n",
       "      <td>330</td>\n",
       "      <td>26</td>\n",
       "      <td>31</td>\n",
       "      <td>134</td>\n",
       "      <td>706</td>\n",
       "      <td>8</td>\n",
       "      <td>297</td>\n",
       "      <td>160</td>\n",
       "      <td>82</td>\n",
       "      <td>29</td>\n",
       "      <td>...</td>\n",
       "      <td>True</td>\n",
       "      <td>2006-12-14 00:11:00</td>\n",
       "      <td>2007</td>\n",
       "      <td>2006-11-30</td>\n",
       "      <td>2014-05-24 20:07:52</td>\n",
       "      <td>1</td>\n",
       "      <td>[27]</td>\n",
       "      <td>Presentation Innovation Spectacular Performanc...</td>\n",
       "      <td>2014-12-30 16:34:52</td>\n",
       "      <td>1191157</td>\n",
       "    </tr>\n",
       "  </tbody>\n",
       "</table>\n",
       "<p>5 rows × 33 columns</p>\n",
       "</div>"
      ],
      "text/plain": [
       "   Beautiful  Confusing  Courageous  Fascinating  Funny  Informative  \\\n",
       "0         81         30          32           70     81           84   \n",
       "1          7        NaN          10           12      3           33   \n",
       "2        338         20         243          350     20          337   \n",
       "3        207          7          45          606      9          362   \n",
       "4        330         26          31          134    706            8   \n",
       "\n",
       "   Ingenious  Inspiring  Jaw-dropping  Longwinded     ...       onespeaker  \\\n",
       "0         21        145             8          99     ...             True   \n",
       "1          9         23             6          64     ...             True   \n",
       "2         29        830            95          61     ...             True   \n",
       "3        344        782           320          25     ...             True   \n",
       "4        297        160            82          29     ...             True   \n",
       "\n",
       "         published_at  rating_count  recorded_at         released_at  \\\n",
       "0 2007-04-05 00:11:00           861   2002-02-02 2014-01-15 23:10:03   \n",
       "1 2007-06-12 05:11:00           271   2002-02-02 2014-01-21 20:18:33   \n",
       "2 2007-04-05 00:11:00          2688   2002-03-01 2014-11-10 18:40:46   \n",
       "3 2007-04-05 00:11:00          2984   2005-02-24 2014-11-05 23:29:48   \n",
       "4 2006-12-14 00:11:00          2007   2006-11-30 2014-05-24 20:07:52   \n",
       "\n",
       "  speaker_gender  speaker_ids  \\\n",
       "0              1          [6]   \n",
       "1              1          [9]   \n",
       "2              0         [12]   \n",
       "3              0         [19]   \n",
       "4              1         [27]   \n",
       "\n",
       "                                              themes          updated_at  \\\n",
       "0              The Creative Spark Tales of Invention 2014-07-03 20:42:24   \n",
       "1  The Power of Cities Architectural Inspiration ... 2014-07-03 20:42:24   \n",
       "2  Animals That Amaze Evolution's Genius Inspired... 2014-11-10 18:40:46   \n",
       "3  Animals That Amaze Evolution's Genius Inspired... 2014-11-05 23:29:48   \n",
       "4  Presentation Innovation Spectacular Performanc... 2014-12-30 16:34:52   \n",
       "\n",
       "  viewed_count  \n",
       "0       711615  \n",
       "1       323957  \n",
       "2      1384244  \n",
       "3      1399729  \n",
       "4      1191157  \n",
       "\n",
       "[5 rows x 33 columns]"
      ]
     },
     "execution_count": 285,
     "metadata": {},
     "output_type": "execute_result"
    }
   ],
   "source": [
    "finaltest.head()"
   ]
  },
  {
   "cell_type": "markdown",
   "metadata": {},
   "source": [
    "### 6.2 Process labels"
   ]
  },
  {
   "cell_type": "code",
   "execution_count": 286,
   "metadata": {
    "collapsed": true
   },
   "outputs": [],
   "source": [
    "testlabels = pd.read_csv('test_response.csv',header =None )"
   ]
  },
  {
   "cell_type": "code",
   "execution_count": 287,
   "metadata": {
    "collapsed": true
   },
   "outputs": [],
   "source": [
    "testlabels.columns = ['id','label']"
   ]
  },
  {
   "cell_type": "code",
   "execution_count": 288,
   "metadata": {
    "collapsed": true
   },
   "outputs": [],
   "source": [
    "testcounts = testlabels.groupby('label')['label'].count()"
   ]
  },
  {
   "cell_type": "code",
   "execution_count": 289,
   "metadata": {
    "collapsed": false
   },
   "outputs": [
    {
     "data": {
      "text/plain": [
       "label\n",
       "0    111\n",
       "1     89\n",
       "2     81\n",
       "3     36\n",
       "4     33\n",
       "Name: label, dtype: int64"
      ]
     },
     "execution_count": 289,
     "metadata": {},
     "output_type": "execute_result"
    }
   ],
   "source": [
    "testcounts"
   ]
  },
  {
   "cell_type": "code",
   "execution_count": 290,
   "metadata": {
    "collapsed": false
   },
   "outputs": [],
   "source": [
    "testfractions = testcounts/testcounts.sum()\n",
    "# testfractions.index = ['persuasive informative','beautiful courageous inspiring','jaw-dropping ingenious fascinating',\n",
    "             #     'ok obnoxious confusing unconvincing long-winded', 'funny']"
   ]
  },
  {
   "cell_type": "code",
   "execution_count": 291,
   "metadata": {
    "collapsed": false
   },
   "outputs": [],
   "source": [
    "testfractions.index = fractions.index"
   ]
  },
  {
   "cell_type": "code",
   "execution_count": 292,
   "metadata": {
    "collapsed": false
   },
   "outputs": [
    {
     "data": {
      "text/plain": [
       "<matplotlib.text.Text at 0x11005d150>"
      ]
     },
     "execution_count": 292,
     "metadata": {},
     "output_type": "execute_result"
    },
    {
     "data": {
      "image/png": "[encoded data removed]",
      "text/plain": [
       "<matplotlib.figure.Figure at 0x10fe05610>"
      ]
     },
     "metadata": {},
     "output_type": "display_data"
    }
   ],
   "source": [
    "testfractions.plot(kind = 'bar')\n",
    "plt.xticks(rotation = 15, ha = 'right')\n",
    "plt.ylabel('Fraction of talks (Total: 350 talks)')\n",
    "plt.xlabel('Rating words class')"
   ]
  },
  {
   "cell_type": "markdown",
   "metadata": {},
   "source": [
    "###6.3 Get all test features into Xdftest"
   ]
  },
  {
   "cell_type": "markdown",
   "metadata": {},
   "source": [
    "####6.3.1 features from talk  "
   ]
  },
  {
   "cell_type": "code",
   "execution_count": 293,
   "metadata": {
    "collapsed": false
   },
   "outputs": [],
   "source": [
    "Xdftest = finaltest[['id','themes','speaker_gender']]"
   ]
  },
  {
   "cell_type": "markdown",
   "metadata": {},
   "source": [
    "####6.3.2 features from captions "
   ]
  },
  {
   "cell_type": "code",
   "execution_count": 294,
   "metadata": {
    "collapsed": true
   },
   "outputs": [],
   "source": [
    "caps_test = pd.read_json('captions_test_f.json')[['id','length','num_para','word_per_sec','laughter_per_word','laugh_as_para',\n",
    "                                     'applause_total','div_per_word','ithinks','storywords','noun_token','verb_token']]"
   ]
  },
  {
   "cell_type": "code",
   "execution_count": 295,
   "metadata": {
    "collapsed": true
   },
   "outputs": [],
   "source": [
    "caps_test.sort('id',inplace = True)"
   ]
  },
  {
   "cell_type": "code",
   "execution_count": 296,
   "metadata": {
    "collapsed": true
   },
   "outputs": [],
   "source": [
    "caps_test.reset_index(inplace = True, drop = True)"
   ]
  },
  {
   "cell_type": "markdown",
   "metadata": {},
   "source": [
    "####6.3.3 features from other text "
   ]
  },
  {
   "cell_type": "code",
   "execution_count": 297,
   "metadata": {
    "collapsed": true
   },
   "outputs": [],
   "source": [
    "Xtestother = pd.read_json('validset_other_text.json')"
   ]
  },
  {
   "cell_type": "code",
   "execution_count": 298,
   "metadata": {
    "collapsed": false
   },
   "outputs": [],
   "source": [
    "Xtestother.sort(columns = 'id',inplace = True)"
   ]
  },
  {
   "cell_type": "code",
   "execution_count": 299,
   "metadata": {
    "collapsed": true
   },
   "outputs": [],
   "source": [
    "Xtestother.reset_index(inplace = True, drop = True)"
   ]
  },
  {
   "cell_type": "markdown",
   "metadata": {},
   "source": [
    "####6.3.4 merge all three soures"
   ]
  },
  {
   "cell_type": "code",
   "execution_count": 300,
   "metadata": {
    "collapsed": true
   },
   "outputs": [],
   "source": [
    "Xdftest = pd.merge(Xdftest, Xtestother, on = 'id')"
   ]
  },
  {
   "cell_type": "code",
   "execution_count": 301,
   "metadata": {
    "collapsed": true
   },
   "outputs": [],
   "source": [
    "Xdftest = pd.merge(Xdftest, caps_test, on = 'id')"
   ]
  },
  {
   "cell_type": "code",
   "execution_count": 302,
   "metadata": {
    "collapsed": true
   },
   "outputs": [],
   "source": [
    "Xdftest.sort(columns = 'id',inplace = True)"
   ]
  },
  {
   "cell_type": "markdown",
   "metadata": {},
   "source": [
    "### 6.4 prepare y label "
   ]
  },
  {
   "cell_type": "code",
   "execution_count": 303,
   "metadata": {
    "collapsed": false
   },
   "outputs": [],
   "source": [
    "testlabels.sort(columns = 'id',inplace = True)"
   ]
  },
  {
   "cell_type": "code",
   "execution_count": 304,
   "metadata": {
    "collapsed": false
   },
   "outputs": [],
   "source": [
    "testlabels.reset_index(drop = True, inplace = True)"
   ]
  },
  {
   "cell_type": "code",
   "execution_count": 305,
   "metadata": {
    "collapsed": false
   },
   "outputs": [
    {
     "data": {
      "text/plain": [
       "168    2\n",
       "Name: label, dtype: int64"
      ]
     },
     "execution_count": 305,
     "metadata": {},
     "output_type": "execute_result"
    }
   ],
   "source": [
    "testlabels[testlabels['id']==1146]['label']"
   ]
  },
  {
   "cell_type": "code",
   "execution_count": 306,
   "metadata": {
    "collapsed": true
   },
   "outputs": [],
   "source": [
    "yfinal = testlabels[['label']].values.flatten()"
   ]
  },
  {
   "cell_type": "markdown",
   "metadata": {},
   "source": [
    "###6.5 Prediction "
   ]
  },
  {
   "cell_type": "code",
   "execution_count": 307,
   "metadata": {
    "collapsed": true
   },
   "outputs": [],
   "source": [
    "Xth_test = Xdftest['themes'].as_matrix()"
   ]
  },
  {
   "cell_type": "code",
   "execution_count": 308,
   "metadata": {
    "collapsed": false
   },
   "outputs": [],
   "source": [
    "Xth_test = Cvtheme.transform(Xth_test)"
   ]
  },
  {
   "cell_type": "code",
   "execution_count": 309,
   "metadata": {
    "collapsed": true
   },
   "outputs": [],
   "source": [
    "Xtext_other_test = vect_other.transform(Xdftest['text'].as_matrix())"
   ]
  },
  {
   "cell_type": "code",
   "execution_count": 310,
   "metadata": {
    "collapsed": true
   },
   "outputs": [],
   "source": [
    "X_noun_test = tf_noun.transform(Xdftest['noun_token'].as_matrix())"
   ]
  },
  {
   "cell_type": "code",
   "execution_count": 311,
   "metadata": {
    "collapsed": true
   },
   "outputs": [],
   "source": [
    "X_verb_test = tf_verb.fit_transform(Xdftest['verb_token'].as_matrix())"
   ]
  },
  {
   "cell_type": "code",
   "execution_count": 312,
   "metadata": {
    "collapsed": false
   },
   "outputs": [],
   "source": [
    "oldcol = Xdftest.columns.tolist()"
   ]
  },
  {
   "cell_type": "code",
   "execution_count": 313,
   "metadata": {
    "collapsed": true
   },
   "outputs": [],
   "source": [
    "newcol = [u'id',u'themes',u'speaker_gender',u'length',u'num_para',u'word_per_sec',u'laughter_per_word',\n",
    " u'laugh_as_para',u'applause_total',u'div_per_word',u'ithinks',u'storywords',u'text',u'noun_token',u'verb_token']"
   ]
  },
  {
   "cell_type": "code",
   "execution_count": 314,
   "metadata": {
    "collapsed": true
   },
   "outputs": [],
   "source": [
    "Xdftest = Xdftest[newcol]"
   ]
  },
  {
   "cell_type": "code",
   "execution_count": 315,
   "metadata": {
    "collapsed": false
   },
   "outputs": [],
   "source": [
    "Xfinal = np.concatenate([Xth_test.toarray(),X_noun_test.toarray(), X_verb_test.toarray(),\n",
    "                    Xtext_other_test.toarray(),scale(Xdftest.ix[:,2:12].as_matrix())],axis = 1)"
   ]
  },
  {
   "cell_type": "code",
   "execution_count": 316,
   "metadata": {
    "collapsed": false
   },
   "outputs": [
    {
     "data": {
      "text/plain": [
       "(350, 87)"
      ]
     },
     "execution_count": 316,
     "metadata": {},
     "output_type": "execute_result"
    }
   ],
   "source": [
    "Xfinal.shape"
   ]
  },
  {
   "cell_type": "markdown",
   "metadata": {},
   "source": [
    "####Prediction with SVM"
   ]
  },
  {
   "cell_type": "code",
   "execution_count": 317,
   "metadata": {
    "collapsed": false
   },
   "outputs": [],
   "source": [
    "yfinal_pred_svm = gs_svm.predict(Xfinal)"
   ]
  },
  {
   "cell_type": "code",
   "execution_count": 318,
   "metadata": {
    "collapsed": false
   },
   "outputs": [
    {
     "name": "stdout",
     "output_type": "stream",
     "text": [
      "             precision    recall  f1-score   support\n",
      "\n",
      "          0       0.63      0.59      0.61       111\n",
      "          1       0.58      0.47      0.52        89\n",
      "          2       0.61      0.67      0.64        81\n",
      "          3       0.29      0.42      0.34        36\n",
      "          4       0.53      0.52      0.52        33\n",
      "\n",
      "avg / total       0.57      0.55      0.56       350\n",
      "\n"
     ]
    }
   ],
   "source": [
    "print classification_report(yfinal, yfinal_pred_svm)"
   ]
  },
  {
   "cell_type": "code",
   "execution_count": 319,
   "metadata": {
    "collapsed": false
   },
   "outputs": [
    {
     "data": {
      "text/html": [
       "<div style=\"max-height:1000px;max-width:1500px;overflow:auto;\">\n",
       "<table border=\"1\" class=\"dataframe\">\n",
       "  <thead>\n",
       "    <tr style=\"text-align: right;\">\n",
       "      <th>true</th>\n",
       "      <th>0</th>\n",
       "      <th>1</th>\n",
       "      <th>2</th>\n",
       "      <th>3</th>\n",
       "      <th>4</th>\n",
       "      <th>All</th>\n",
       "    </tr>\n",
       "    <tr>\n",
       "      <th>predicted</th>\n",
       "      <th></th>\n",
       "      <th></th>\n",
       "      <th></th>\n",
       "      <th></th>\n",
       "      <th></th>\n",
       "      <th></th>\n",
       "    </tr>\n",
       "  </thead>\n",
       "  <tbody>\n",
       "    <tr>\n",
       "      <th>0</th>\n",
       "      <td>66</td>\n",
       "      <td>18</td>\n",
       "      <td>10</td>\n",
       "      <td>9</td>\n",
       "      <td>2</td>\n",
       "      <td>105</td>\n",
       "    </tr>\n",
       "    <tr>\n",
       "      <th>1</th>\n",
       "      <td>15</td>\n",
       "      <td>42</td>\n",
       "      <td>9</td>\n",
       "      <td>4</td>\n",
       "      <td>2</td>\n",
       "      <td>72</td>\n",
       "    </tr>\n",
       "    <tr>\n",
       "      <th>2</th>\n",
       "      <td>11</td>\n",
       "      <td>11</td>\n",
       "      <td>54</td>\n",
       "      <td>8</td>\n",
       "      <td>5</td>\n",
       "      <td>89</td>\n",
       "    </tr>\n",
       "    <tr>\n",
       "      <th>3</th>\n",
       "      <td>14</td>\n",
       "      <td>9</td>\n",
       "      <td>7</td>\n",
       "      <td>15</td>\n",
       "      <td>7</td>\n",
       "      <td>52</td>\n",
       "    </tr>\n",
       "    <tr>\n",
       "      <th>4</th>\n",
       "      <td>5</td>\n",
       "      <td>9</td>\n",
       "      <td>1</td>\n",
       "      <td>0</td>\n",
       "      <td>17</td>\n",
       "      <td>32</td>\n",
       "    </tr>\n",
       "    <tr>\n",
       "      <th>All</th>\n",
       "      <td>111</td>\n",
       "      <td>89</td>\n",
       "      <td>81</td>\n",
       "      <td>36</td>\n",
       "      <td>33</td>\n",
       "      <td>350</td>\n",
       "    </tr>\n",
       "  </tbody>\n",
       "</table>\n",
       "</div>"
      ],
      "text/plain": [
       "true         0   1   2   3   4  All\n",
       "predicted                          \n",
       "0           66  18  10   9   2  105\n",
       "1           15  42   9   4   2   72\n",
       "2           11  11  54   8   5   89\n",
       "3           14   9   7  15   7   52\n",
       "4            5   9   1   0  17   32\n",
       "All        111  89  81  36  33  350"
      ]
     },
     "execution_count": 319,
     "metadata": {},
     "output_type": "execute_result"
    }
   ],
   "source": [
    "pd.crosstab(yfinal_pred_svm,yfinal,rownames=['predicted'],colnames = ['true'],margins = True)"
   ]
  },
  {
   "cell_type": "code",
   "execution_count": 320,
   "metadata": {
    "collapsed": false
   },
   "outputs": [
    {
     "data": {
      "text/plain": [
       "0.5542857142857143"
      ]
     },
     "execution_count": 320,
     "metadata": {},
     "output_type": "execute_result"
    }
   ],
   "source": [
    "(66+42+54+15+17)/350."
   ]
  },
  {
   "cell_type": "markdown",
   "metadata": {},
   "source": [
    "####Final prediction with Logistic regression "
   ]
  },
  {
   "cell_type": "code",
   "execution_count": 321,
   "metadata": {
    "collapsed": true
   },
   "outputs": [],
   "source": [
    "yfinal_pred_logit = gs_logit.predict(Xfinal)"
   ]
  },
  {
   "cell_type": "code",
   "execution_count": 322,
   "metadata": {
    "collapsed": false
   },
   "outputs": [
    {
     "name": "stdout",
     "output_type": "stream",
     "text": [
      "             precision    recall  f1-score   support\n",
      "\n",
      "          0       0.62      0.62      0.62       111\n",
      "          1       0.56      0.47      0.51        89\n",
      "          2       0.62      0.65      0.64        81\n",
      "          3       0.33      0.36      0.34        36\n",
      "          4       0.55      0.64      0.59        33\n",
      "\n",
      "avg / total       0.57      0.57      0.57       350\n",
      "\n"
     ]
    }
   ],
   "source": [
    "print classification_report(yfinal, yfinal_pred_logit)"
   ]
  },
  {
   "cell_type": "markdown",
   "metadata": {},
   "source": [
    "###Plotting of prediction results "
   ]
  },
  {
   "cell_type": "markdown",
   "metadata": {},
   "source": [
    "####Confusion matrix and overall accuracy "
   ]
  },
  {
   "cell_type": "code",
   "execution_count": 323,
   "metadata": {
    "collapsed": false
   },
   "outputs": [
    {
     "data": {
      "text/html": [
       "<div style=\"max-height:1000px;max-width:1500px;overflow:auto;\">\n",
       "<table border=\"1\" class=\"dataframe\">\n",
       "  <thead>\n",
       "    <tr style=\"text-align: right;\">\n",
       "      <th>true</th>\n",
       "      <th>0</th>\n",
       "      <th>1</th>\n",
       "      <th>2</th>\n",
       "      <th>3</th>\n",
       "      <th>4</th>\n",
       "      <th>All</th>\n",
       "    </tr>\n",
       "    <tr>\n",
       "      <th>predicted</th>\n",
       "      <th></th>\n",
       "      <th></th>\n",
       "      <th></th>\n",
       "      <th></th>\n",
       "      <th></th>\n",
       "      <th></th>\n",
       "    </tr>\n",
       "  </thead>\n",
       "  <tbody>\n",
       "    <tr>\n",
       "      <th>0</th>\n",
       "      <td>69</td>\n",
       "      <td>19</td>\n",
       "      <td>12</td>\n",
       "      <td>11</td>\n",
       "      <td>1</td>\n",
       "      <td>112</td>\n",
       "    </tr>\n",
       "    <tr>\n",
       "      <th>1</th>\n",
       "      <td>17</td>\n",
       "      <td>42</td>\n",
       "      <td>8</td>\n",
       "      <td>5</td>\n",
       "      <td>3</td>\n",
       "      <td>75</td>\n",
       "    </tr>\n",
       "    <tr>\n",
       "      <th>2</th>\n",
       "      <td>12</td>\n",
       "      <td>10</td>\n",
       "      <td>53</td>\n",
       "      <td>7</td>\n",
       "      <td>3</td>\n",
       "      <td>85</td>\n",
       "    </tr>\n",
       "    <tr>\n",
       "      <th>3</th>\n",
       "      <td>8</td>\n",
       "      <td>7</td>\n",
       "      <td>7</td>\n",
       "      <td>13</td>\n",
       "      <td>5</td>\n",
       "      <td>40</td>\n",
       "    </tr>\n",
       "    <tr>\n",
       "      <th>4</th>\n",
       "      <td>5</td>\n",
       "      <td>11</td>\n",
       "      <td>1</td>\n",
       "      <td>0</td>\n",
       "      <td>21</td>\n",
       "      <td>38</td>\n",
       "    </tr>\n",
       "    <tr>\n",
       "      <th>All</th>\n",
       "      <td>111</td>\n",
       "      <td>89</td>\n",
       "      <td>81</td>\n",
       "      <td>36</td>\n",
       "      <td>33</td>\n",
       "      <td>350</td>\n",
       "    </tr>\n",
       "  </tbody>\n",
       "</table>\n",
       "</div>"
      ],
      "text/plain": [
       "true         0   1   2   3   4  All\n",
       "predicted                          \n",
       "0           69  19  12  11   1  112\n",
       "1           17  42   8   5   3   75\n",
       "2           12  10  53   7   3   85\n",
       "3            8   7   7  13   5   40\n",
       "4            5  11   1   0  21   38\n",
       "All        111  89  81  36  33  350"
      ]
     },
     "execution_count": 323,
     "metadata": {},
     "output_type": "execute_result"
    }
   ],
   "source": [
    "pd.crosstab(yfinal_pred_logit,yfinal,rownames=['predicted'],colnames = ['true'],margins = True)"
   ]
  },
  {
   "cell_type": "code",
   "execution_count": 324,
   "metadata": {
    "collapsed": false
   },
   "outputs": [
    {
     "name": "stdout",
     "output_type": "stream",
     "text": [
      "accuary is 0.57\n"
     ]
    }
   ],
   "source": [
    "print 'accuary is {:.2f}'.format((78+52+49+9+13)/350.)"
   ]
  },
  {
   "cell_type": "code",
   "execution_count": 325,
   "metadata": {
    "collapsed": true
   },
   "outputs": [],
   "source": [
    "final_recall = pd.Series([0.62, 0.47, 0.65, 0.36, 0.64])"
   ]
  },
  {
   "cell_type": "code",
   "execution_count": 326,
   "metadata": {
    "collapsed": true
   },
   "outputs": [],
   "source": [
    "final_precision = pd.Series([0.62, 0.56, 0.62, 0.33, 0.55])"
   ]
  },
  {
   "cell_type": "code",
   "execution_count": 327,
   "metadata": {
    "collapsed": true
   },
   "outputs": [],
   "source": [
    "final_f1 = pd.Series([0.62, 0.51, 0.64, 0.34, 0.59])"
   ]
  },
  {
   "cell_type": "code",
   "execution_count": 328,
   "metadata": {
    "collapsed": false
   },
   "outputs": [],
   "source": [
    "tempdf = pd.DataFrame(dict(fractions = fractions.values,final_f1 = final_f1, final_recall = final_recall,\n",
    "                          final_precision = final_precision))"
   ]
  },
  {
   "cell_type": "code",
   "execution_count": 329,
   "metadata": {
    "collapsed": false
   },
   "outputs": [],
   "source": [
    "tempdf = tempdf[['fractions','final_f1','final_recall','final_precision']]"
   ]
  },
  {
   "cell_type": "code",
   "execution_count": 330,
   "metadata": {
    "collapsed": false
   },
   "outputs": [],
   "source": [
    "tempdf.index = fractions.index"
   ]
  },
  {
   "cell_type": "code",
   "execution_count": 331,
   "metadata": {
    "collapsed": true
   },
   "outputs": [],
   "source": [
    "tempdf.columns= ['Label fractions','Prediction F1 scores','Prediction recall','Prediction precision']"
   ]
  },
  {
   "cell_type": "code",
   "execution_count": 332,
   "metadata": {
    "collapsed": false
   },
   "outputs": [
    {
     "data": {
      "text/plain": [
       "<matplotlib.legend.Legend at 0x10fa45110>"
      ]
     },
     "execution_count": 332,
     "metadata": {},
     "output_type": "execute_result"
    },
    {
     "data": {
      "image/png": "[encoded data removed]",
      "text/plain": [
       "<matplotlib.figure.Figure at 0x10fb70d50>"
      ]
     },
     "metadata": {},
     "output_type": "display_data"
    }
   ],
   "source": [
    "fig = plt.figure(figsize = (7,5))\n",
    "ax3 = plt.gca()\n",
    "tempdf['Label fractions'].plot(kind = 'bar',color = (0.5,0.5,0.5),ax = ax3,width = 0.3,left = [0,0.2,0.4,0.6])\n",
    "plt.xticks(rotation = 15, ha = 'right',fontsize = 'large')\n",
    "plt.ylim([0,0.8])\n",
    "plt.legend(loc = 'upper right')"
   ]
  },
  {
   "cell_type": "code",
   "execution_count": 333,
   "metadata": {
    "collapsed": false
   },
   "outputs": [
    {
     "data": {
      "text/plain": [
       "<matplotlib.legend.Legend at 0x11066ef50>"
      ]
     },
     "execution_count": 333,
     "metadata": {},
     "output_type": "execute_result"
    },
    {
     "data": {
      "image/png": "[encoded data removed]",
      "text/plain": [
       "<matplotlib.figure.Figure at 0x10f943550>"
      ]
     },
     "metadata": {},
     "output_type": "display_data"
    }
   ],
   "source": [
    "fig = plt.figure(figsize=(7,5))\n",
    "ax3 = plt.gca()\n",
    "tempdf[['Label fractions','Prediction recall']].plot(kind = 'bar',color = [(0.5,0.5,0.5),(0.7,0.2,0.2)]\n",
    "                                                                           ,ax = ax3,width = 0.6,left = [0,0.2,0.4,0.6])\n",
    "plt.xticks(rotation = 15, ha = 'right',fontsize = 'large')\n",
    "plt.ylim([0,0.8])\n",
    "plt.legend(loc = 'best')"
   ]
  }
 ],
 "metadata": {
  "kernelspec": {
   "display_name": "Python 2",
   "language": "python",
   "name": "python2"
  },
  "language_info": {
   "codemirror_mode": {
    "name": "ipython",
    "version": 2
   },
   "file_extension": ".py",
   "mimetype": "text/x-python",
   "name": "python",
   "nbconvert_exporter": "python",
   "pygments_lexer": "ipython2",
   "version": "2.7.9"
  }
 },
 "nbformat": 4,
 "nbformat_minor": 0
}
