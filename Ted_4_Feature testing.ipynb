{
 "cells": [
  {
   "cell_type": "markdown",
   "metadata": {},
   "source": [
    "##Date:  May 18th, 2015"
   ]
  },
  {
   "cell_type": "markdown",
   "metadata": {},
   "source": [
    "This is to test features, with the multi-class classification problem of rating words"
   ]
  },
  {
   "cell_type": "code",
   "execution_count": 1,
   "metadata": {
    "collapsed": true
   },
   "outputs": [],
   "source": [
    "import pandas as pd\n",
    "import numpy as np\n",
    "import matplotlib.pylab as plt\n",
    "import seaborn as sns\n",
    "%matplotlib inline\n",
    "import requests\n",
    "from pattern import web\n",
    "import operator"
   ]
  },
  {
   "cell_type": "code",
   "execution_count": 2,
   "metadata": {
    "collapsed": true
   },
   "outputs": [],
   "source": [
    "from sklearn import metrics\n",
    "from sklearn.cluster import KMeans\n",
    "from sklearn.decomposition import PCA\n",
    "from sklearn.preprocessing import scale\n",
    "from sklearn.preprocessing import label_binarize\n",
    "from unidecode import unidecode\n",
    "from sklearn.cross_validation import StratifiedShuffleSplit\n",
    "from sklearn.feature_extraction.text import TfidfVectorizer\n",
    "from sklearn.feature_extraction.text import CountVectorizer\n",
    "from sklearn.svm import SVC"
   ]
  },
  {
   "cell_type": "code",
   "execution_count": 3,
   "metadata": {
    "collapsed": true
   },
   "outputs": [],
   "source": [
    "from nltk import word_tokenize\n",
    "from nltk.stem import PorterStemmer\n",
    "from nltk.stem.wordnet import WordNetLemmatizer\n",
    "from nltk import pos_tag"
   ]
  },
  {
   "cell_type": "code",
   "execution_count": 4,
   "metadata": {
    "collapsed": false
   },
   "outputs": [],
   "source": [
    "talks_small = pd.read_json('train2.json')"
   ]
  },
  {
   "cell_type": "code",
   "execution_count": 5,
   "metadata": {
    "collapsed": false
   },
   "outputs": [],
   "source": [
    "talks_small.reset_index(drop = True, inplace = True)"
   ]
  },
  {
   "cell_type": "code",
   "execution_count": 6,
   "metadata": {
    "collapsed": false
   },
   "outputs": [
    {
     "data": {
      "text/plain": [
       "(1535, 33)"
      ]
     },
     "execution_count": 6,
     "metadata": {},
     "output_type": "execute_result"
    }
   ],
   "source": [
    "talks_small.shape"
   ]
  },
  {
   "cell_type": "code",
   "execution_count": 7,
   "metadata": {
    "collapsed": true
   },
   "outputs": [],
   "source": [
    "talks_small['onespeaker'] = (talks_small['onespeaker']==True).astype(int)"
   ]
  },
  {
   "cell_type": "code",
   "execution_count": 8,
   "metadata": {
    "collapsed": true
   },
   "outputs": [],
   "source": [
    "def themes_fun(row):\n",
    "    # note this function should be applied to the whole df\n",
    "    themes = []\n",
    "    for theme in row['themes']:\n",
    "        themes.append(theme['theme']['name'])\n",
    "    return themes"
   ]
  },
  {
   "cell_type": "code",
   "execution_count": 9,
   "metadata": {
    "collapsed": false
   },
   "outputs": [],
   "source": [
    "themes = []\n",
    "for i in xrange(talks_small.shape[0]):\n",
    "    themes.append(themes_fun(talks_small.ix[i,:]))"
   ]
  },
  {
   "cell_type": "code",
   "execution_count": 10,
   "metadata": {
    "collapsed": true
   },
   "outputs": [],
   "source": [
    "# get the total themes, used as vocabulary\n",
    "th_url = 'https://api.ted.com/v1/themes.json?api-key=ynw2u8e4h9sk8c2htp7vutxq&limit=100'\n",
    "th_res = requests.get(th_url)"
   ]
  },
  {
   "cell_type": "code",
   "execution_count": 11,
   "metadata": {
    "collapsed": true
   },
   "outputs": [],
   "source": [
    "vocab = [(x['theme']['name'],x['theme']['id']) for x in th_res.json()['themes']]"
   ]
  },
  {
   "cell_type": "code",
   "execution_count": 12,
   "metadata": {
    "collapsed": true
   },
   "outputs": [],
   "source": [
    "vocab = dict(vocab)"
   ]
  },
  {
   "cell_type": "code",
   "execution_count": 13,
   "metadata": {
    "collapsed": true
   },
   "outputs": [],
   "source": [
    "vocab = vocab.keys()"
   ]
  },
  {
   "cell_type": "code",
   "execution_count": 14,
   "metadata": {
    "collapsed": false
   },
   "outputs": [
    {
     "data": {
      "text/plain": [
       "u'Celebrating TEDWomen'"
      ]
     },
     "execution_count": 14,
     "metadata": {},
     "output_type": "execute_result"
    }
   ],
   "source": [
    "vocab[1]"
   ]
  },
  {
   "cell_type": "code",
   "execution_count": 15,
   "metadata": {
    "collapsed": false
   },
   "outputs": [],
   "source": [
    "length_of_themes = []\n",
    "for theme in vocab:\n",
    "    length_of_themes.append(len(theme))"
   ]
  },
  {
   "cell_type": "code",
   "execution_count": 16,
   "metadata": {
    "collapsed": false
   },
   "outputs": [],
   "source": [
    "length_of_themes.sort()"
   ]
  },
  {
   "cell_type": "markdown",
   "metadata": {},
   "source": [
    "##### The maximum length of all themes is 35 "
   ]
  },
  {
   "cell_type": "code",
   "execution_count": 17,
   "metadata": {
    "collapsed": true
   },
   "outputs": [],
   "source": [
    "talks_small['themes'] = themes"
   ]
  },
  {
   "cell_type": "code",
   "execution_count": 18,
   "metadata": {
    "collapsed": false
   },
   "outputs": [],
   "source": [
    "talks_small['themes'] = talks_small['themes'].apply(lambda x: ' '.join(x))"
   ]
  },
  {
   "cell_type": "code",
   "execution_count": 19,
   "metadata": {
    "collapsed": false
   },
   "outputs": [
    {
     "data": {
      "text/plain": [
       "u'The Creative Spark Spectacular Performance Art Unusual Live Music'"
      ]
     },
     "execution_count": 19,
     "metadata": {},
     "output_type": "execute_result"
    }
   ],
   "source": [
    "talks_small.themes[7]"
   ]
  },
  {
   "cell_type": "code",
   "execution_count": 20,
   "metadata": {
    "collapsed": true
   },
   "outputs": [],
   "source": [
    "# shortest themes are of 2 words, longest 7words\n",
    "Cvtheme = CountVectorizer(vocabulary=vocab,binary = True, analyzer='char',ngram_range=(2,40),lowercase = False)"
   ]
  },
  {
   "cell_type": "code",
   "execution_count": 21,
   "metadata": {
    "collapsed": true
   },
   "outputs": [],
   "source": [
    "test = talks_small['themes'].as_matrix()"
   ]
  },
  {
   "cell_type": "code",
   "execution_count": 22,
   "metadata": {
    "collapsed": false
   },
   "outputs": [
    {
     "data": {
      "text/plain": [
       "(1535,)"
      ]
     },
     "execution_count": 22,
     "metadata": {},
     "output_type": "execute_result"
    }
   ],
   "source": [
    "test.shape"
   ]
  },
  {
   "cell_type": "code",
   "execution_count": 23,
   "metadata": {
    "collapsed": false
   },
   "outputs": [],
   "source": [
    "testout = Cvtheme.fit_transform(test)"
   ]
  },
  {
   "cell_type": "code",
   "execution_count": 24,
   "metadata": {
    "collapsed": false
   },
   "outputs": [
    {
     "data": {
      "text/plain": [
       "(1535, 47)"
      ]
     },
     "execution_count": 24,
     "metadata": {},
     "output_type": "execute_result"
    }
   ],
   "source": [
    "testout.shape"
   ]
  },
  {
   "cell_type": "code",
   "execution_count": 25,
   "metadata": {
    "collapsed": false
   },
   "outputs": [],
   "source": [
    "testout=testout.toarray()"
   ]
  },
  {
   "cell_type": "code",
   "execution_count": 26,
   "metadata": {
    "collapsed": false
   },
   "outputs": [
    {
     "data": {
      "text/plain": [
       "1468"
      ]
     },
     "execution_count": 26,
     "metadata": {},
     "output_type": "execute_result"
    }
   ],
   "source": [
    "# the longest combined themes\n",
    "(talks_small.themes.apply(lambda x:len(x))).idxmax()"
   ]
  },
  {
   "cell_type": "code",
   "execution_count": 27,
   "metadata": {
    "collapsed": false
   },
   "outputs": [
    {
     "data": {
      "text/plain": [
       "array([0, 0, 1, 0, 0, 0, 0, 1, 0, 1, 1, 0, 0, 0, 0, 0, 0, 0, 1, 0, 1, 1, 0,\n",
       "       0, 0, 0, 0, 0, 0, 0, 1, 0, 0, 0, 0, 0, 1, 0, 0, 0, 1, 0, 0, 0, 0, 0,\n",
       "       0])"
      ]
     },
     "execution_count": 27,
     "metadata": {},
     "output_type": "execute_result"
    }
   ],
   "source": [
    "testout[1468,:]"
   ]
  },
  {
   "cell_type": "code",
   "execution_count": 28,
   "metadata": {
    "collapsed": false
   },
   "outputs": [
    {
     "data": {
      "text/plain": [
       "u'The Creative Spark How the Mind Works Presentation Innovation Tales of Invention Master Storytellers Technology, History and Destiny Unconventional Explanations What Makes Us Happy? Whipsmart Comedy Words About Words'"
      ]
     },
     "execution_count": 28,
     "metadata": {},
     "output_type": "execute_result"
    }
   ],
   "source": [
    "talks_small.themes[1468]"
   ]
  },
  {
   "cell_type": "code",
   "execution_count": 29,
   "metadata": {
    "collapsed": false
   },
   "outputs": [
    {
     "data": {
      "text/plain": [
       "(array([ 2,  7,  9, 10, 18, 20, 21, 30, 36, 40]),)"
      ]
     },
     "execution_count": 29,
     "metadata": {},
     "output_type": "execute_result"
    }
   ],
   "source": [
    "np.nonzero(testout[1468,:])"
   ]
  },
  {
   "cell_type": "code",
   "execution_count": 30,
   "metadata": {
    "collapsed": false
   },
   "outputs": [
    {
     "data": {
      "text/plain": [
       "u'What Makes Us Happy?'"
      ]
     },
     "execution_count": 30,
     "metadata": {},
     "output_type": "execute_result"
    }
   ],
   "source": [
    "vocab[7]"
   ]
  },
  {
   "cell_type": "code",
   "execution_count": 31,
   "metadata": {
    "collapsed": true
   },
   "outputs": [],
   "source": [
    "captalkid = talks_small['id']"
   ]
  },
  {
   "cell_type": "code",
   "execution_count": 32,
   "metadata": {
    "collapsed": false
   },
   "outputs": [],
   "source": [
    "labels = pd.read_csv('response5.csv',header =None )"
   ]
  },
  {
   "cell_type": "code",
   "execution_count": 33,
   "metadata": {
    "collapsed": false
   },
   "outputs": [],
   "source": [
    "labels.columns = ['id','label']"
   ]
  },
  {
   "cell_type": "code",
   "execution_count": 34,
   "metadata": {
    "collapsed": false
   },
   "outputs": [
    {
     "data": {
      "text/html": [
       "<div style=\"max-height:1000px;max-width:1500px;overflow:auto;\">\n",
       "<table border=\"1\" class=\"dataframe\">\n",
       "  <thead>\n",
       "    <tr style=\"text-align: right;\">\n",
       "      <th></th>\n",
       "      <th>id</th>\n",
       "      <th>label</th>\n",
       "    </tr>\n",
       "  </thead>\n",
       "  <tbody>\n",
       "    <tr>\n",
       "      <th>0</th>\n",
       "      <td>1</td>\n",
       "      <td>4</td>\n",
       "    </tr>\n",
       "    <tr>\n",
       "      <th>1</th>\n",
       "      <td>2</td>\n",
       "      <td>1</td>\n",
       "    </tr>\n",
       "    <tr>\n",
       "      <th>2</th>\n",
       "      <td>2167</td>\n",
       "      <td>0</td>\n",
       "    </tr>\n",
       "    <tr>\n",
       "      <th>3</th>\n",
       "      <td>3</td>\n",
       "      <td>0</td>\n",
       "    </tr>\n",
       "    <tr>\n",
       "      <th>4</th>\n",
       "      <td>99</td>\n",
       "      <td>4</td>\n",
       "    </tr>\n",
       "  </tbody>\n",
       "</table>\n",
       "</div>"
      ],
      "text/plain": [
       "     id  label\n",
       "0     1      4\n",
       "1     2      1\n",
       "2  2167      0\n",
       "3     3      0\n",
       "4    99      4"
      ]
     },
     "execution_count": 34,
     "metadata": {},
     "output_type": "execute_result"
    }
   ],
   "source": [
    "labels.head()"
   ]
  },
  {
   "cell_type": "markdown",
   "metadata": {
    "slideshow": {
     "slide_type": "slide"
    }
   },
   "source": [
    "###Make a plot of label distribution "
   ]
  },
  {
   "cell_type": "code",
   "execution_count": 35,
   "metadata": {
    "collapsed": false
   },
   "outputs": [],
   "source": [
    "counts = labels.groupby('label')['label'].count()"
   ]
  },
  {
   "cell_type": "code",
   "execution_count": 36,
   "metadata": {
    "collapsed": false
   },
   "outputs": [
    {
     "data": {
      "text/plain": [
       "1535"
      ]
     },
     "execution_count": 36,
     "metadata": {},
     "output_type": "execute_result"
    }
   ],
   "source": [
    "counts.sum()"
   ]
  },
  {
   "cell_type": "code",
   "execution_count": 37,
   "metadata": {
    "collapsed": false
   },
   "outputs": [
    {
     "data": {
      "text/plain": [
       "pandas.core.series.Series"
      ]
     },
     "execution_count": 37,
     "metadata": {},
     "output_type": "execute_result"
    }
   ],
   "source": [
    "type(counts)"
   ]
  },
  {
   "cell_type": "code",
   "execution_count": 38,
   "metadata": {
    "collapsed": true
   },
   "outputs": [],
   "source": [
    "fractions = counts/counts.sum()"
   ]
  },
  {
   "cell_type": "code",
   "execution_count": 39,
   "metadata": {
    "collapsed": false
   },
   "outputs": [],
   "source": [
    "fractions.index = ['persuasive informative','beautiful courageous inspiring','jaw-dropping ingenious fascinating',\n",
    "                  'ok obnoxious confusing unconvincing long-winded', 'funny']"
   ]
  },
  {
   "cell_type": "code",
   "execution_count": 40,
   "metadata": {
    "collapsed": false
   },
   "outputs": [
    {
     "data": {
      "text/plain": [
       "persuasive informative                             0.308795\n",
       "beautiful courageous inspiring                     0.272313\n",
       "jaw-dropping ingenious fascinating                 0.229967\n",
       "ok obnoxious confusing unconvincing long-winded    0.116612\n",
       "funny                                              0.072313\n",
       "Name: label, dtype: float64"
      ]
     },
     "execution_count": 40,
     "metadata": {},
     "output_type": "execute_result"
    }
   ],
   "source": [
    "fractions"
   ]
  },
  {
   "cell_type": "code",
   "execution_count": 41,
   "metadata": {
    "collapsed": false
   },
   "outputs": [
    {
     "data": {
      "text/plain": [
       "pandas.core.series.Series"
      ]
     },
     "execution_count": 41,
     "metadata": {},
     "output_type": "execute_result"
    }
   ],
   "source": [
    "type(fractions)"
   ]
  },
  {
   "cell_type": "code",
   "execution_count": 42,
   "metadata": {
    "collapsed": false
   },
   "outputs": [
    {
     "data": {
      "text/plain": [
       "<matplotlib.text.Text at 0x10f6ad650>"
      ]
     },
     "execution_count": 42,
     "metadata": {},
     "output_type": "execute_result"
    },
    {
     "data": {
      "image/png": "[encoded data removed]",
      "text/plain": [
       "<matplotlib.figure.Figure at 0x10f7ae750>"
      ]
     },
     "metadata": {},
     "output_type": "display_data"
    }
   ],
   "source": [
    "fractions.plot(kind = 'bar')\n",
    "plt.xticks(rotation = 15, ha = 'right')\n",
    "plt.ylabel('Fraction of talks (Total: 1535 talks)')"
   ]
  },
  {
   "cell_type": "markdown",
   "metadata": {},
   "source": [
    "## 1. Look at the prediction power of feature "
   ]
  },
  {
   "cell_type": "markdown",
   "metadata": {},
   "source": [
    "### 1.1 negative rating words frequency "
   ]
  },
  {
   "cell_type": "code",
   "execution_count": 43,
   "metadata": {
    "collapsed": true
   },
   "outputs": [],
   "source": [
    "talks_small = pd.merge(talks_small,labels,on = 'id')"
   ]
  },
  {
   "cell_type": "code",
   "execution_count": 44,
   "metadata": {
    "collapsed": false
   },
   "outputs": [
    {
     "data": {
      "text/html": [
       "<div style=\"max-height:1000px;max-width:1500px;overflow:auto;\">\n",
       "<table border=\"1\" class=\"dataframe\">\n",
       "  <thead>\n",
       "    <tr style=\"text-align: right;\">\n",
       "      <th></th>\n",
       "      <th>Beautiful</th>\n",
       "      <th>Confusing</th>\n",
       "      <th>Courageous</th>\n",
       "      <th>Fascinating</th>\n",
       "      <th>Funny</th>\n",
       "      <th>Informative</th>\n",
       "      <th>Ingenious</th>\n",
       "      <th>Inspiring</th>\n",
       "      <th>Jaw-dropping</th>\n",
       "      <th>Longwinded</th>\n",
       "      <th>...</th>\n",
       "      <th>published_at</th>\n",
       "      <th>rating_count</th>\n",
       "      <th>recorded_at</th>\n",
       "      <th>released_at</th>\n",
       "      <th>speaker_gender</th>\n",
       "      <th>speaker_ids</th>\n",
       "      <th>themes</th>\n",
       "      <th>updated_at</th>\n",
       "      <th>viewed_count</th>\n",
       "      <th>label</th>\n",
       "    </tr>\n",
       "  </thead>\n",
       "  <tbody>\n",
       "    <tr>\n",
       "      <th>0</th>\n",
       "      <td>50</td>\n",
       "      <td>51</td>\n",
       "      <td>126</td>\n",
       "      <td>100</td>\n",
       "      <td>460</td>\n",
       "      <td>383</td>\n",
       "      <td>50</td>\n",
       "      <td>356</td>\n",
       "      <td>85</td>\n",
       "      <td>95</td>\n",
       "      <td>...</td>\n",
       "      <td>2006-06-27 00:11:00</td>\n",
       "      <td>2485</td>\n",
       "      <td>2006-02-25</td>\n",
       "      <td>2013-12-02 21:24:10</td>\n",
       "      <td>1</td>\n",
       "      <td>[2]</td>\n",
       "      <td>Presentation Innovation A Greener Future? Bold...</td>\n",
       "      <td>2014-11-05 16:39:29</td>\n",
       "      <td>2842062</td>\n",
       "      <td>4</td>\n",
       "    </tr>\n",
       "    <tr>\n",
       "      <th>1</th>\n",
       "      <td>45</td>\n",
       "      <td>NaN</td>\n",
       "      <td>128</td>\n",
       "      <td>139</td>\n",
       "      <td>15</td>\n",
       "      <td>236</td>\n",
       "      <td>269</td>\n",
       "      <td>432</td>\n",
       "      <td>61</td>\n",
       "      <td>14</td>\n",
       "      <td>...</td>\n",
       "      <td>2006-08-15 00:11:00</td>\n",
       "      <td>1511</td>\n",
       "      <td>2006-02-24</td>\n",
       "      <td>2013-12-12 20:29:35</td>\n",
       "      <td>0</td>\n",
       "      <td>[3]</td>\n",
       "      <td>A Greener Future? Tales of Invention Rethinkin...</td>\n",
       "      <td>2015-04-11 07:03:32</td>\n",
       "      <td>956392</td>\n",
       "      <td>1</td>\n",
       "    </tr>\n",
       "    <tr>\n",
       "      <th>2</th>\n",
       "      <td>489</td>\n",
       "      <td>17</td>\n",
       "      <td>53</td>\n",
       "      <td>739</td>\n",
       "      <td>838</td>\n",
       "      <td>890</td>\n",
       "      <td>154</td>\n",
       "      <td>1591</td>\n",
       "      <td>66</td>\n",
       "      <td>28</td>\n",
       "      <td>...</td>\n",
       "      <td>2011-05-11 14:14:00</td>\n",
       "      <td>5705</td>\n",
       "      <td>2011-03-02</td>\n",
       "      <td>2014-05-24 17:21:56</td>\n",
       "      <td>1</td>\n",
       "      <td>[990]</td>\n",
       "      <td>How the Mind Works What Makes Us Happy?</td>\n",
       "      <td>2014-12-21 10:34:53</td>\n",
       "      <td>3831926</td>\n",
       "      <td>1</td>\n",
       "    </tr>\n",
       "    <tr>\n",
       "      <th>3</th>\n",
       "      <td>157</td>\n",
       "      <td>95</td>\n",
       "      <td>51</td>\n",
       "      <td>200</td>\n",
       "      <td>99</td>\n",
       "      <td>58</td>\n",
       "      <td>140</td>\n",
       "      <td>140</td>\n",
       "      <td>62</td>\n",
       "      <td>31</td>\n",
       "      <td>...</td>\n",
       "      <td>2012-04-06 15:40:36</td>\n",
       "      <td>1806</td>\n",
       "      <td>2012-02-27</td>\n",
       "      <td>2014-07-15 15:56:08</td>\n",
       "      <td>0</td>\n",
       "      <td>[1272]</td>\n",
       "      <td>Architectural Inspiration Design That Matters ...</td>\n",
       "      <td>2014-12-27 10:03:01</td>\n",
       "      <td>1370234</td>\n",
       "      <td>3</td>\n",
       "    </tr>\n",
       "    <tr>\n",
       "      <th>4</th>\n",
       "      <td>242</td>\n",
       "      <td>16</td>\n",
       "      <td>48</td>\n",
       "      <td>2380</td>\n",
       "      <td>148</td>\n",
       "      <td>1491</td>\n",
       "      <td>731</td>\n",
       "      <td>825</td>\n",
       "      <td>1015</td>\n",
       "      <td>25</td>\n",
       "      <td>...</td>\n",
       "      <td>2009-04-08 01:00:00</td>\n",
       "      <td>7389</td>\n",
       "      <td>2009-02-06</td>\n",
       "      <td>2014-08-12 14:34:11</td>\n",
       "      <td>0</td>\n",
       "      <td>[328]</td>\n",
       "      <td>Animals That Amaze Evolution's Genius Unconven...</td>\n",
       "      <td>2014-08-12 14:34:11</td>\n",
       "      <td>1777464</td>\n",
       "      <td>2</td>\n",
       "    </tr>\n",
       "  </tbody>\n",
       "</table>\n",
       "<p>5 rows × 34 columns</p>\n",
       "</div>"
      ],
      "text/plain": [
       "   Beautiful  Confusing  Courageous  Fascinating  Funny  Informative  \\\n",
       "0         50         51         126          100    460          383   \n",
       "1         45        NaN         128          139     15          236   \n",
       "2        489         17          53          739    838          890   \n",
       "3        157         95          51          200     99           58   \n",
       "4        242         16          48         2380    148         1491   \n",
       "\n",
       "   Ingenious  Inspiring  Jaw-dropping  Longwinded  ...         published_at  \\\n",
       "0         50        356            85          95  ...  2006-06-27 00:11:00   \n",
       "1        269        432            61          14  ...  2006-08-15 00:11:00   \n",
       "2        154       1591            66          28  ...  2011-05-11 14:14:00   \n",
       "3        140        140            62          31  ...  2012-04-06 15:40:36   \n",
       "4        731        825          1015          25  ...  2009-04-08 01:00:00   \n",
       "\n",
       "   rating_count  recorded_at         released_at  speaker_gender speaker_ids  \\\n",
       "0          2485   2006-02-25 2013-12-02 21:24:10               1         [2]   \n",
       "1          1511   2006-02-24 2013-12-12 20:29:35               0         [3]   \n",
       "2          5705   2011-03-02 2014-05-24 17:21:56               1       [990]   \n",
       "3          1806   2012-02-27 2014-07-15 15:56:08               0      [1272]   \n",
       "4          7389   2009-02-06 2014-08-12 14:34:11               0       [328]   \n",
       "\n",
       "                                              themes          updated_at  \\\n",
       "0  Presentation Innovation A Greener Future? Bold... 2014-11-05 16:39:29   \n",
       "1  A Greener Future? Tales of Invention Rethinkin... 2015-04-11 07:03:32   \n",
       "2            How the Mind Works What Makes Us Happy? 2014-12-21 10:34:53   \n",
       "3  Architectural Inspiration Design That Matters ... 2014-12-27 10:03:01   \n",
       "4  Animals That Amaze Evolution's Genius Unconven... 2014-08-12 14:34:11   \n",
       "\n",
       "   viewed_count label  \n",
       "0       2842062     4  \n",
       "1        956392     1  \n",
       "2       3831926     1  \n",
       "3       1370234     3  \n",
       "4       1777464     2  \n",
       "\n",
       "[5 rows x 34 columns]"
      ]
     },
     "execution_count": 44,
     "metadata": {},
     "output_type": "execute_result"
    }
   ],
   "source": [
    "talks_small.head()"
   ]
  },
  {
   "cell_type": "code",
   "execution_count": 45,
   "metadata": {
    "collapsed": false
   },
   "outputs": [],
   "source": [
    "talks_small['neg_rating_count']=talks_small[['Confusing','Obnoxious','Unconvincing','Longwinded','OK']].sum(axis = 1)"
   ]
  },
  {
   "cell_type": "code",
   "execution_count": 46,
   "metadata": {
    "collapsed": true
   },
   "outputs": [],
   "source": [
    "talks_small['neg_ratio'] = talks_small['neg_rating_count']/talks_small['rating_count']"
   ]
  },
  {
   "cell_type": "code",
   "execution_count": 47,
   "metadata": {
    "collapsed": false
   },
   "outputs": [],
   "source": [
    "talks_small['neg_binary']= talks_small['label']==3"
   ]
  },
  {
   "cell_type": "code",
   "execution_count": 48,
   "metadata": {
    "collapsed": false
   },
   "outputs": [
    {
     "data": {
      "text/plain": [
       "<matplotlib.axes._subplots.AxesSubplot at 0x10f6adb90>"
      ]
     },
     "execution_count": 48,
     "metadata": {},
     "output_type": "execute_result"
    },
    {
     "data": {
      "image/png": "[encoded data removed]",
      "text/plain": [
       "<matplotlib.figure.Figure at 0x10f6c8550>"
      ]
     },
     "metadata": {},
     "output_type": "display_data"
    }
   ],
   "source": [
    "talks_small.boxplot(column = 'neg_ratio',by = 'neg_binary')"
   ]
  },
  {
   "cell_type": "markdown",
   "metadata": {},
   "source": [
    "so the clustered negatively rated talks do have evident overall negative rating"
   ]
  },
  {
   "cell_type": "code",
   "execution_count": 49,
   "metadata": {
    "collapsed": true
   },
   "outputs": [],
   "source": [
    "talks_small['neg_fun_count'] = talks_small[['Funny','Confusing','Obnoxious','Unconvincing','Longwinded','OK']].sum(axis = 1)"
   ]
  },
  {
   "cell_type": "code",
   "execution_count": 50,
   "metadata": {
    "collapsed": true
   },
   "outputs": [],
   "source": [
    "talks_small['neg_fun_freq'] = talks_small.neg_fun_count/talks_small.rating_count"
   ]
  },
  {
   "cell_type": "markdown",
   "metadata": {},
   "source": [
    "### Now watch a few typical talks for each class "
   ]
  },
  {
   "cell_type": "code",
   "execution_count": 51,
   "metadata": {
    "collapsed": false
   },
   "outputs": [],
   "source": [
    "negmax = talks_small.neg_ratio.max()"
   ]
  },
  {
   "cell_type": "code",
   "execution_count": 52,
   "metadata": {
    "collapsed": false
   },
   "outputs": [],
   "source": [
    "negmin = talks_small.neg_ratio.min()"
   ]
  },
  {
   "cell_type": "code",
   "execution_count": 53,
   "metadata": {
    "collapsed": false
   },
   "outputs": [],
   "source": [
    "# make a label dict: key: label; value: words\n",
    "labeldict = {}"
   ]
  },
  {
   "cell_type": "code",
   "execution_count": 54,
   "metadata": {
    "collapsed": true
   },
   "outputs": [],
   "source": [
    "labeldict[2]=['Fascinating', 'Ingenious', 'Jaw-dropping']\n",
    "labeldict[0]=['Informative', 'Persuasive']\n",
    "labeldict[3]=['Confusing', 'Longwinded', 'OK', 'Obnoxious', 'Unconvincing']\n",
    "labeldict[1]=['Beautiful','Courageous','Inspiring']\n",
    "labeldict[4]=['Funny']"
   ]
  },
  {
   "cell_type": "code",
   "execution_count": 55,
   "metadata": {
    "collapsed": false
   },
   "outputs": [
    {
     "data": {
      "text/plain": [
       "{0: ['Informative', 'Persuasive'],\n",
       " 1: ['Beautiful', 'Courageous', 'Inspiring'],\n",
       " 2: ['Fascinating', 'Ingenious', 'Jaw-dropping'],\n",
       " 3: ['Confusing', 'Longwinded', 'OK', 'Obnoxious', 'Unconvincing'],\n",
       " 4: ['Funny']}"
      ]
     },
     "execution_count": 55,
     "metadata": {},
     "output_type": "execute_result"
    }
   ],
   "source": [
    "labeldict"
   ]
  },
  {
   "cell_type": "code",
   "execution_count": 113,
   "metadata": {
    "collapsed": false
   },
   "outputs": [],
   "source": [
    "# define a function with input: label class,num, how many max and min output ids for best and worst \n",
    "def select_talks(label,num=1):\n",
    "    talks = talks_small.copy()\n",
    "    ratingwords = labeldict[label]\n",
    "    talks['thislabelcount']=talks[ratingwords].sum(axis = 1)\n",
    "    talks['thislabelratio']=talks['thislabelcount']/talks['rating_count']\n",
    "    maxid = [];minid = []\n",
    "    for i in xrange(num):\n",
    "        max_ind = talks['thislabelratio'].idxmax()\n",
    "        min_ind = talks['thislabelratio'].idxmin()\n",
    "        maxid.append(talks.ix[max_ind,'id'])\n",
    "        minid.append(talks.ix[min_ind,'id'])\n",
    "        allid = maxid + minid\n",
    "        talks = talks[~talks['id'].isin(allid)]\n",
    "    return maxid,minid"
   ]
  },
  {
   "cell_type": "code",
   "execution_count": 136,
   "metadata": {
    "collapsed": false
   },
   "outputs": [],
   "source": [
    "def select_talks2(labels,num = 1,arithmetic = 'plus'):\n",
    "    # this is to select talks based on the rating counts of TWO labels, also need to define arithmetic: plus or minus\n",
    "    talks = talks_small.copy()\n",
    "    label1, label2 = labels[0],labels[1]\n",
    "    words1,words2 = labeldict[label1],labeldict[label2]\n",
    "    talks['words1count'] = talks[words1].sum(axis = 1)\n",
    "    words1_fraction = talks['words1count']/talks['rating_count']\n",
    "    talks['words2count'] = talks[words2].sum(axis = 1)\n",
    "    words2_fraction = talks['words2count']/talks['rating_count']\n",
    "    if arithmetic == 'plus':\n",
    "        talks['ari_fraction'] = words1_fraction + words2_fraction\n",
    "    else:\n",
    "        talks['ari_fraction'] = words1_fraction - words2_fraction\n",
    "    maxid = [];minid = []\n",
    "    for i in xrange(num):\n",
    "        max_ind = talks['ari_fraction'].idxmax()\n",
    "        min_ind = talks['ari_fraction'].idxmin()\n",
    "        maxid.append(talks.ix[max_ind,'id'])\n",
    "        minid.append(talks.ix[min_ind,'id'])\n",
    "        allid = maxid + minid\n",
    "        talks = talks[~talks['id'].isin(allid)]\n",
    "    return maxid,minid"
   ]
  },
  {
   "cell_type": "code",
   "execution_count": 151,
   "metadata": {
    "collapsed": false
   },
   "outputs": [],
   "source": [
    "maxid,minid = select_talks2([2,0],3,'minus')"
   ]
  },
  {
   "cell_type": "code",
   "execution_count": 157,
   "metadata": {
    "collapsed": false
   },
   "outputs": [
    {
     "name": "stdout",
     "output_type": "stream",
     "text": [
      "      id                                               name  label\n",
      "603  129  Blaise Agüera y Arcas: How PhotoSynth can conn...      2\n",
      "     id                                               name  label\n",
      "228  65  Jeff Han: The radical promise of the multi-tou...      2\n",
      "       id                                            name  label\n",
      "1208  199  Arthur Benjamin: A performance of \"Mathemagic\"      2\n"
     ]
    }
   ],
   "source": [
    "for ind in maxid:\n",
    "    print talks_small[talks_small['id']==ind][['id','name','label']]"
   ]
  },
  {
   "cell_type": "code",
   "execution_count": 156,
   "metadata": {
    "collapsed": false
   },
   "outputs": [
    {
     "name": "stdout",
     "output_type": "stream",
     "text": [
      "      id                                   name  label\n",
      "683  152  Ngozi Okonjo-Iweala: Aid versus trade      0\n",
      "      id                                               name  label\n",
      "351  899  Stephen Palumbi: Hidden toxins in the fish we eat      0\n",
      "     id                                               name  label\n",
      "561  10  Dean Ornish: The killer American diet that's s...      0\n"
     ]
    }
   ],
   "source": [
    "for ind in minid:\n",
    "    print talks_small[talks_small['id']==ind][['id','name','label']]"
   ]
  },
  {
   "cell_type": "code",
   "execution_count": 57,
   "metadata": {
    "collapsed": false
   },
   "outputs": [],
   "source": [
    "maxid, minid = select_talks(3,6)"
   ]
  },
  {
   "cell_type": "code",
   "execution_count": 158,
   "metadata": {
    "collapsed": false
   },
   "outputs": [
    {
     "name": "stdout",
     "output_type": "stream",
     "text": [
      "[129, 65, 199] [152, 899, 10]\n"
     ]
    }
   ],
   "source": [
    "print maxid, minid"
   ]
  },
  {
   "cell_type": "code",
   "execution_count": 139,
   "metadata": {
    "collapsed": false
   },
   "outputs": [
    {
     "data": {
      "text/html": [
       "<div style=\"max-height:1000px;max-width:1500px;overflow:auto;\">\n",
       "<table border=\"1\" class=\"dataframe\">\n",
       "  <thead>\n",
       "    <tr style=\"text-align: right;\">\n",
       "      <th></th>\n",
       "      <th>name</th>\n",
       "      <th>rating_count</th>\n",
       "      <th>neg_ratio</th>\n",
       "      <th>Funny</th>\n",
       "      <th>Confusing</th>\n",
       "      <th>Unconvincing</th>\n",
       "      <th>Obnoxious</th>\n",
       "      <th>OK</th>\n",
       "      <th>Longwinded</th>\n",
       "    </tr>\n",
       "  </thead>\n",
       "  <tbody>\n",
       "    <tr>\n",
       "      <th>793</th>\n",
       "      <td>Tom Rielly: A comic sendup of TED2006</td>\n",
       "      <td>1122</td>\n",
       "      <td>0.28877</td>\n",
       "      <td>572</td>\n",
       "      <td>56</td>\n",
       "      <td>34</td>\n",
       "      <td>116</td>\n",
       "      <td>64</td>\n",
       "      <td>54</td>\n",
       "    </tr>\n",
       "  </tbody>\n",
       "</table>\n",
       "</div>"
      ],
      "text/plain": [
       "                                      name  rating_count  neg_ratio  Funny  \\\n",
       "793  Tom Rielly: A comic sendup of TED2006          1122    0.28877    572   \n",
       "\n",
       "     Confusing  Unconvincing  Obnoxious  OK  Longwinded  \n",
       "793         56            34        116  64          54  "
      ]
     },
     "execution_count": 139,
     "metadata": {},
     "output_type": "execute_result"
    }
   ],
   "source": [
    "talks_small[talks_small['id']==114\n",
    "           ][['name','rating_count','neg_ratio','Funny','Confusing','Unconvincing','Obnoxious','OK',\n",
    "                                   'Longwinded']]"
   ]
  },
  {
   "cell_type": "code",
   "execution_count": 60,
   "metadata": {
    "collapsed": false
   },
   "outputs": [
    {
     "data": {
      "text/plain": [
       "0.6704021094264997"
      ]
     },
     "execution_count": 60,
     "metadata": {},
     "output_type": "execute_result"
    }
   ],
   "source": [
    "(95+619+137+77+89)/1517."
   ]
  },
  {
   "cell_type": "code",
   "execution_count": 61,
   "metadata": {
    "collapsed": false
   },
   "outputs": [
    {
     "data": {
      "text/plain": [
       "[2]"
      ]
     },
     "execution_count": 61,
     "metadata": {},
     "output_type": "execute_result"
    }
   ],
   "source": [
    "talks_small.speaker_ids[0]"
   ]
  },
  {
   "cell_type": "code",
   "execution_count": 62,
   "metadata": {
    "collapsed": false
   },
   "outputs": [
    {
     "data": {
      "text/plain": [
       "0    474\n",
       "1    418\n",
       "2    353\n",
       "3    179\n",
       "4    111\n",
       "dtype: int64"
      ]
     },
     "execution_count": 62,
     "metadata": {},
     "output_type": "execute_result"
    }
   ],
   "source": [
    "labels['label'].value_counts()"
   ]
  },
  {
   "cell_type": "code",
   "execution_count": 63,
   "metadata": {
    "collapsed": false
   },
   "outputs": [
    {
     "data": {
      "text/html": [
       "<div style=\"max-height:1000px;max-width:1500px;overflow:auto;\">\n",
       "<table border=\"1\" class=\"dataframe\">\n",
       "  <thead>\n",
       "    <tr style=\"text-align: right;\">\n",
       "      <th></th>\n",
       "      <th>id</th>\n",
       "      <th>label</th>\n",
       "    </tr>\n",
       "  </thead>\n",
       "  <tbody>\n",
       "    <tr>\n",
       "      <th>0</th>\n",
       "      <td>1</td>\n",
       "      <td>4</td>\n",
       "    </tr>\n",
       "    <tr>\n",
       "      <th>1</th>\n",
       "      <td>2</td>\n",
       "      <td>1</td>\n",
       "    </tr>\n",
       "    <tr>\n",
       "      <th>2</th>\n",
       "      <td>2167</td>\n",
       "      <td>0</td>\n",
       "    </tr>\n",
       "    <tr>\n",
       "      <th>3</th>\n",
       "      <td>3</td>\n",
       "      <td>0</td>\n",
       "    </tr>\n",
       "    <tr>\n",
       "      <th>4</th>\n",
       "      <td>99</td>\n",
       "      <td>4</td>\n",
       "    </tr>\n",
       "  </tbody>\n",
       "</table>\n",
       "</div>"
      ],
      "text/plain": [
       "     id  label\n",
       "0     1      4\n",
       "1     2      1\n",
       "2  2167      0\n",
       "3     3      0\n",
       "4    99      4"
      ]
     },
     "execution_count": 63,
     "metadata": {},
     "output_type": "execute_result"
    }
   ],
   "source": [
    "labels.head()"
   ]
  },
  {
   "cell_type": "code",
   "execution_count": 64,
   "metadata": {
    "collapsed": false
   },
   "outputs": [
    {
     "data": {
      "text/plain": [
       "0       1\n",
       "1       2\n",
       "2    1143\n",
       "3    1413\n",
       "4     509\n",
       "Name: id, dtype: int64"
      ]
     },
     "execution_count": 64,
     "metadata": {},
     "output_type": "execute_result"
    }
   ],
   "source": [
    "talks_small['id'].head()"
   ]
  },
  {
   "cell_type": "markdown",
   "metadata": {},
   "source": [
    "### 1.2 Stemming/Lemmatization of keywords and descriptions: not implemented"
   ]
  },
  {
   "cell_type": "code",
   "execution_count": 31,
   "metadata": {
    "collapsed": true
   },
   "outputs": [],
   "source": [
    "# test with one description\n",
    "test = talks_small.description[0]"
   ]
  },
  {
   "cell_type": "code",
   "execution_count": 32,
   "metadata": {
    "collapsed": false
   },
   "outputs": [
    {
     "data": {
      "text/plain": [
       "u'With the same humor and humanity he exuded in <em>An Inconvenient Truth,</em> Al Gore spells out 15 ways that individuals can address climate change immediately, from buying a hybrid to inventing a new, hotter \"brand name\" for global warming.'"
      ]
     },
     "execution_count": 32,
     "metadata": {},
     "output_type": "execute_result"
    }
   ],
   "source": [
    "test"
   ]
  },
  {
   "cell_type": "code",
   "execution_count": 33,
   "metadata": {
    "collapsed": true
   },
   "outputs": [],
   "source": [
    "stemmer = PorterStemmer()"
   ]
  },
  {
   "cell_type": "code",
   "execution_count": 37,
   "metadata": {
    "collapsed": true
   },
   "outputs": [],
   "source": [
    "descriptions = talks_small.description"
   ]
  },
  {
   "cell_type": "code",
   "execution_count": 38,
   "metadata": {
    "collapsed": true
   },
   "outputs": [],
   "source": [
    "def stem_fun(corpus):\n",
    "    stemed = [stemmer.stem(token) for token in word_tokenize(corpus)]\n",
    "    return ' '.join(stemed)"
   ]
  },
  {
   "cell_type": "code",
   "execution_count": 39,
   "metadata": {
    "collapsed": false
   },
   "outputs": [],
   "source": [
    "descriptions = [stem_fun(corpus) for corpus in descriptions]"
   ]
  },
  {
   "cell_type": "code",
   "execution_count": 40,
   "metadata": {
    "collapsed": true
   },
   "outputs": [],
   "source": [
    "talks_small['desc_stemmed'] = descriptions"
   ]
  },
  {
   "cell_type": "markdown",
   "metadata": {},
   "source": [
    "stemming tried, not working, generated higher dimension"
   ]
  },
  {
   "cell_type": "markdown",
   "metadata": {},
   "source": [
    "#####Lemmatization only noun and verb: unfinished"
   ]
  },
  {
   "cell_type": "code",
   "execution_count": 652,
   "metadata": {
    "collapsed": true
   },
   "outputs": [],
   "source": [
    "lemmatizer = WordNetLemmatizer()"
   ]
  },
  {
   "cell_type": "code",
   "execution_count": 436,
   "metadata": {
    "collapsed": true
   },
   "outputs": [],
   "source": [
    "test = talks_small.description[0]"
   ]
  },
  {
   "cell_type": "code",
   "execution_count": 657,
   "metadata": {
    "collapsed": false
   },
   "outputs": [],
   "source": [
    "test = pos_tag(word_tokenize(test))"
   ]
  },
  {
   "cell_type": "code",
   "execution_count": 663,
   "metadata": {
    "collapsed": true
   },
   "outputs": [],
   "source": [
    "def lemmatize(token, tag):\n",
    "    if tag[0].lower() in ['n', 'v']:\n",
    "        return lemmatizer.lemmatize(token, tag[0].lower())\n",
    "    return token"
   ]
  },
  {
   "cell_type": "code",
   "execution_count": 664,
   "metadata": {
    "collapsed": false
   },
   "outputs": [],
   "source": [
    "test_lemmed = [lemmatize(x[0],x[1]) for x in test]"
   ]
  },
  {
   "cell_type": "markdown",
   "metadata": {},
   "source": [
    "## 2 Gather all potential features into one df, serve as X, y is the label "
   ]
  },
  {
   "cell_type": "code",
   "execution_count": 106,
   "metadata": {
    "collapsed": true
   },
   "outputs": [],
   "source": [
    "# if separate tags vs themes are wanted then go to the talks_f.json\n",
    "# talks_all = pd.read_json('talks_f.json')\n",
    "# talks_all.reset_index(drop = True, inplace = True)"
   ]
  },
  {
   "cell_type": "markdown",
   "metadata": {},
   "source": [
    "### 2.1 First trial: features are from the talks_small and captions_f.csv"
   ]
  },
  {
   "cell_type": "markdown",
   "metadata": {},
   "source": [
    "#### look at the number of available languages"
   ]
  },
  {
   "cell_type": "code",
   "execution_count": 65,
   "metadata": {
    "collapsed": false
   },
   "outputs": [
    {
     "data": {
      "text/plain": [
       "Index([           u'Beautiful',            u'Confusing',\n",
       "                 u'Courageous',          u'Fascinating',\n",
       "                      u'Funny',          u'Informative',\n",
       "                  u'Ingenious',            u'Inspiring',\n",
       "               u'Jaw-dropping',           u'Longwinded',\n",
       "                         u'OK',            u'Obnoxious',\n",
       "                 u'Persuasive',         u'Unconvincing',\n",
       "            u'commented_count',          u'description',\n",
       "              u'emailed_count',             u'event_id',\n",
       "                         u'id',             u'keywords',\n",
       "                  u'languages',                 u'name',\n",
       "       u'native_language_code',           u'onespeaker',\n",
       "               u'published_at',         u'rating_count',\n",
       "                u'recorded_at',          u'released_at',\n",
       "             u'speaker_gender',          u'speaker_ids',\n",
       "                     u'themes',           u'updated_at',\n",
       "               u'viewed_count',                u'label',\n",
       "           u'neg_rating_count',            u'neg_ratio',\n",
       "                 u'neg_binary',        u'neg_fun_count',\n",
       "               u'neg_fun_freq'],\n",
       "      dtype='object')"
      ]
     },
     "execution_count": 65,
     "metadata": {},
     "output_type": "execute_result"
    }
   ],
   "source": [
    "talks_small.columns"
   ]
  },
  {
   "cell_type": "code",
   "execution_count": 66,
   "metadata": {
    "collapsed": true
   },
   "outputs": [],
   "source": [
    "talks_small['num_lan']=talks_small['languages'].apply(lambda x: len(x))"
   ]
  },
  {
   "cell_type": "code",
   "execution_count": 67,
   "metadata": {
    "collapsed": false
   },
   "outputs": [
    {
     "data": {
      "text/plain": [
       "<matplotlib.axes._subplots.AxesSubplot at 0x10f637d90>"
      ]
     },
     "execution_count": 67,
     "metadata": {},
     "output_type": "execute_result"
    },
    {
     "data": {
      "image/png": "[encoded data removed]",
      "text/plain": [
       "<matplotlib.figure.Figure at 0x10f9545d0>"
      ]
     },
     "metadata": {},
     "output_type": "display_data"
    }
   ],
   "source": [
    "sns.boxplot(talks_small['num_lan'],groupby=talks_small.label)"
   ]
  },
  {
   "cell_type": "code",
   "execution_count": 338,
   "metadata": {
    "collapsed": false
   },
   "outputs": [],
   "source": [
    "Xdf1 = talks_small[['id','themes','speaker_gender']]"
   ]
  },
  {
   "cell_type": "code",
   "execution_count": 339,
   "metadata": {
    "collapsed": false
   },
   "outputs": [
    {
     "data": {
      "text/html": [
       "<div style=\"max-height:1000px;max-width:1500px;overflow:auto;\">\n",
       "<table border=\"1\" class=\"dataframe\">\n",
       "  <thead>\n",
       "    <tr style=\"text-align: right;\">\n",
       "      <th></th>\n",
       "      <th>id</th>\n",
       "      <th>themes</th>\n",
       "      <th>speaker_gender</th>\n",
       "    </tr>\n",
       "  </thead>\n",
       "  <tbody>\n",
       "    <tr>\n",
       "      <th>0</th>\n",
       "      <td>1</td>\n",
       "      <td>Presentation Innovation A Greener Future? Bold...</td>\n",
       "      <td>1</td>\n",
       "    </tr>\n",
       "    <tr>\n",
       "      <th>1</th>\n",
       "      <td>2</td>\n",
       "      <td>A Greener Future? Tales of Invention Rethinkin...</td>\n",
       "      <td>0</td>\n",
       "    </tr>\n",
       "    <tr>\n",
       "      <th>758</th>\n",
       "      <td>3</td>\n",
       "      <td>Rethinking Poverty Africa: The Next Chapter Wa...</td>\n",
       "      <td>1</td>\n",
       "    </tr>\n",
       "    <tr>\n",
       "      <th>1395</th>\n",
       "      <td>4</td>\n",
       "      <td>What's Next in Tech Tales of Invention To Bold...</td>\n",
       "      <td>1</td>\n",
       "    </tr>\n",
       "    <tr>\n",
       "      <th>103</th>\n",
       "      <td>6</td>\n",
       "      <td>Animals That Amaze Evolution's Genius Inspired...</td>\n",
       "      <td>1</td>\n",
       "    </tr>\n",
       "  </tbody>\n",
       "</table>\n",
       "</div>"
      ],
      "text/plain": [
       "      id                                             themes  speaker_gender\n",
       "0      1  Presentation Innovation A Greener Future? Bold...               1\n",
       "1      2  A Greener Future? Tales of Invention Rethinkin...               0\n",
       "758    3  Rethinking Poverty Africa: The Next Chapter Wa...               1\n",
       "1395   4  What's Next in Tech Tales of Invention To Bold...               1\n",
       "103    6  Animals That Amaze Evolution's Genius Inspired...               1"
      ]
     },
     "execution_count": 339,
     "metadata": {},
     "output_type": "execute_result"
    }
   ],
   "source": [
    "Xdf1 = Xdf1.sort(columns = 'id')\n",
    "Xdf1.head()"
   ]
  },
  {
   "cell_type": "code",
   "execution_count": 340,
   "metadata": {
    "collapsed": false
   },
   "outputs": [],
   "source": [
    "caps = pd.read_json('captions_f.json')[['id','length','num_para','word_per_sec','laughter_per_word','laugh_as_para',\n",
    "                                     'applause_total','div_per_word','ithinks','storywords','noun_token','verb_token']]"
   ]
  },
  {
   "cell_type": "code",
   "execution_count": 341,
   "metadata": {
    "collapsed": false
   },
   "outputs": [],
   "source": [
    "caps = caps.sort(columns = 'id')"
   ]
  },
  {
   "cell_type": "code",
   "execution_count": 342,
   "metadata": {
    "collapsed": true
   },
   "outputs": [],
   "source": [
    "caps.reset_index(inplace = True, drop = True)"
   ]
  },
  {
   "cell_type": "code",
   "execution_count": 343,
   "metadata": {
    "collapsed": false
   },
   "outputs": [
    {
     "data": {
      "text/plain": [
       "(1535, 12)"
      ]
     },
     "execution_count": 343,
     "metadata": {},
     "output_type": "execute_result"
    }
   ],
   "source": [
    "caps.shape"
   ]
  },
  {
   "cell_type": "code",
   "execution_count": 344,
   "metadata": {
    "collapsed": true
   },
   "outputs": [
    {
     "data": {
      "text/html": [
       "<div style=\"max-height:1000px;max-width:1500px;overflow:auto;\">\n",
       "<table border=\"1\" class=\"dataframe\">\n",
       "  <thead>\n",
       "    <tr style=\"text-align: right;\">\n",
       "      <th></th>\n",
       "      <th>id</th>\n",
       "      <th>length</th>\n",
       "      <th>num_para</th>\n",
       "      <th>word_per_sec</th>\n",
       "      <th>laughter_per_word</th>\n",
       "      <th>laugh_as_para</th>\n",
       "      <th>applause_total</th>\n",
       "      <th>div_per_word</th>\n",
       "      <th>ithinks</th>\n",
       "      <th>storywords</th>\n",
       "      <th>noun_token</th>\n",
       "      <th>verb_token</th>\n",
       "    </tr>\n",
       "  </thead>\n",
       "  <tbody>\n",
       "    <tr>\n",
       "      <th>0</th>\n",
       "      <td>1</td>\n",
       "      <td>944</td>\n",
       "      <td>16</td>\n",
       "      <td>2.265890</td>\n",
       "      <td>0.004675</td>\n",
       "      <td>2</td>\n",
       "      <td>4</td>\n",
       "      <td>0.012155</td>\n",
       "      <td>1</td>\n",
       "      <td>6</td>\n",
       "      <td>summer truck letterman chain show money seques...</td>\n",
       "      <td>help show focus trade bring go find consider b...</td>\n",
       "    </tr>\n",
       "    <tr>\n",
       "      <th>1</th>\n",
       "      <td>2</td>\n",
       "      <td>879</td>\n",
       "      <td>27</td>\n",
       "      <td>2.962457</td>\n",
       "      <td>0.002304</td>\n",
       "      <td>5</td>\n",
       "      <td>1</td>\n",
       "      <td>0.005376</td>\n",
       "      <td>9</td>\n",
       "      <td>0</td>\n",
       "      <td>money laptop dollar month front volunteer pape...</td>\n",
       "      <td>move bring go find cut thank promote should ad...</td>\n",
       "    </tr>\n",
       "    <tr>\n",
       "      <th>2</th>\n",
       "      <td>3</td>\n",
       "      <td>1099</td>\n",
       "      <td>22</td>\n",
       "      <td>2.261146</td>\n",
       "      <td>0.000402</td>\n",
       "      <td>1</td>\n",
       "      <td>1</td>\n",
       "      <td>0.012877</td>\n",
       "      <td>3</td>\n",
       "      <td>5</td>\n",
       "      <td>sector chain money lack dollar resistance rest...</td>\n",
       "      <td>bomb show mobilize move bring go debate cut de...</td>\n",
       "    </tr>\n",
       "    <tr>\n",
       "      <th>3</th>\n",
       "      <td>4</td>\n",
       "      <td>1152</td>\n",
       "      <td>28</td>\n",
       "      <td>2.655382</td>\n",
       "      <td>0.001635</td>\n",
       "      <td>4</td>\n",
       "      <td>2</td>\n",
       "      <td>0.013730</td>\n",
       "      <td>11</td>\n",
       "      <td>0</td>\n",
       "      <td>sector houston atmosphere concept money milest...</td>\n",
       "      <td>help show invent bring kill go find inspire de...</td>\n",
       "    </tr>\n",
       "    <tr>\n",
       "      <th>4</th>\n",
       "      <td>6</td>\n",
       "      <td>983</td>\n",
       "      <td>20</td>\n",
       "      <td>2.535097</td>\n",
       "      <td>0.000803</td>\n",
       "      <td>2</td>\n",
       "      <td>0</td>\n",
       "      <td>0.004815</td>\n",
       "      <td>4</td>\n",
       "      <td>0</td>\n",
       "      <td>duty atmosphere code radiation compound millil...</td>\n",
       "      <td>represent help show scratch move vary kill par...</td>\n",
       "    </tr>\n",
       "  </tbody>\n",
       "</table>\n",
       "</div>"
      ],
      "text/plain": [
       "   id  length  num_para  word_per_sec  laughter_per_word  laugh_as_para  \\\n",
       "0   1     944        16      2.265890           0.004675              2   \n",
       "1   2     879        27      2.962457           0.002304              5   \n",
       "2   3    1099        22      2.261146           0.000402              1   \n",
       "3   4    1152        28      2.655382           0.001635              4   \n",
       "4   6     983        20      2.535097           0.000803              2   \n",
       "\n",
       "   applause_total  div_per_word  ithinks  storywords  \\\n",
       "0               4      0.012155        1           6   \n",
       "1               1      0.005376        9           0   \n",
       "2               1      0.012877        3           5   \n",
       "3               2      0.013730       11           0   \n",
       "4               0      0.004815        4           0   \n",
       "\n",
       "                                          noun_token  \\\n",
       "0  summer truck letterman chain show money seques...   \n",
       "1  money laptop dollar month front volunteer pape...   \n",
       "2  sector chain money lack dollar resistance rest...   \n",
       "3  sector houston atmosphere concept money milest...   \n",
       "4  duty atmosphere code radiation compound millil...   \n",
       "\n",
       "                                          verb_token  \n",
       "0  help show focus trade bring go find consider b...  \n",
       "1  move bring go find cut thank promote should ad...  \n",
       "2  bomb show mobilize move bring go debate cut de...  \n",
       "3  help show invent bring kill go find inspire de...  \n",
       "4  represent help show scratch move vary kill par...  "
      ]
     },
     "execution_count": 344,
     "metadata": {},
     "output_type": "execute_result"
    }
   ],
   "source": [
    "caps.head()"
   ]
  },
  {
   "cell_type": "markdown",
   "metadata": {},
   "source": [
    "#### read in the processed text (title + keywords + description) "
   ]
  },
  {
   "cell_type": "code",
   "execution_count": 345,
   "metadata": {
    "collapsed": true
   },
   "outputs": [],
   "source": [
    "Xother = pd.read_json('talks_other_text.json')"
   ]
  },
  {
   "cell_type": "code",
   "execution_count": 346,
   "metadata": {
    "collapsed": false
   },
   "outputs": [],
   "source": [
    "Xother.sort(columns = 'id',inplace = True)"
   ]
  },
  {
   "cell_type": "code",
   "execution_count": 347,
   "metadata": {
    "collapsed": true
   },
   "outputs": [],
   "source": [
    "Xother.reset_index(inplace = True, drop = True)"
   ]
  },
  {
   "cell_type": "code",
   "execution_count": 348,
   "metadata": {
    "collapsed": true
   },
   "outputs": [],
   "source": [
    "Xdf1 = pd.merge(Xdf1,caps,on = 'id')"
   ]
  },
  {
   "cell_type": "code",
   "execution_count": 349,
   "metadata": {
    "collapsed": true
   },
   "outputs": [],
   "source": [
    "Xdf1 = pd.merge(Xdf1,Xother, on = 'id')"
   ]
  },
  {
   "cell_type": "code",
   "execution_count": 350,
   "metadata": {
    "collapsed": false
   },
   "outputs": [],
   "source": [
    "Xdf1.sort(columns = 'id',inplace = True)"
   ]
  },
  {
   "cell_type": "code",
   "execution_count": 351,
   "metadata": {
    "collapsed": false
   },
   "outputs": [],
   "source": [
    "labels.sort(columns = 'id',inplace = True)"
   ]
  },
  {
   "cell_type": "code",
   "execution_count": 352,
   "metadata": {
    "collapsed": false
   },
   "outputs": [],
   "source": [
    "labels.reset_index(drop = True, inplace = True)"
   ]
  },
  {
   "cell_type": "code",
   "execution_count": 353,
   "metadata": {
    "collapsed": false
   },
   "outputs": [
    {
     "data": {
      "text/plain": [
       "0     1\n",
       "1     2\n",
       "2     3\n",
       "3     4\n",
       "4     6\n",
       "5     7\n",
       "6     9\n",
       "7    10\n",
       "8    12\n",
       "9    13\n",
       "Name: id, dtype: int64"
      ]
     },
     "execution_count": 353,
     "metadata": {},
     "output_type": "execute_result"
    }
   ],
   "source": [
    "Xdf1.id.head(10)"
   ]
  },
  {
   "cell_type": "code",
   "execution_count": 354,
   "metadata": {
    "collapsed": false
   },
   "outputs": [
    {
     "data": {
      "text/html": [
       "<div style=\"max-height:1000px;max-width:1500px;overflow:auto;\">\n",
       "<table border=\"1\" class=\"dataframe\">\n",
       "  <thead>\n",
       "    <tr style=\"text-align: right;\">\n",
       "      <th></th>\n",
       "      <th>id</th>\n",
       "      <th>label</th>\n",
       "    </tr>\n",
       "  </thead>\n",
       "  <tbody>\n",
       "    <tr>\n",
       "      <th>0</th>\n",
       "      <td>1</td>\n",
       "      <td>4</td>\n",
       "    </tr>\n",
       "    <tr>\n",
       "      <th>1</th>\n",
       "      <td>2</td>\n",
       "      <td>1</td>\n",
       "    </tr>\n",
       "    <tr>\n",
       "      <th>2</th>\n",
       "      <td>3</td>\n",
       "      <td>0</td>\n",
       "    </tr>\n",
       "    <tr>\n",
       "      <th>3</th>\n",
       "      <td>4</td>\n",
       "      <td>0</td>\n",
       "    </tr>\n",
       "    <tr>\n",
       "      <th>4</th>\n",
       "      <td>6</td>\n",
       "      <td>2</td>\n",
       "    </tr>\n",
       "    <tr>\n",
       "      <th>5</th>\n",
       "      <td>7</td>\n",
       "      <td>4</td>\n",
       "    </tr>\n",
       "    <tr>\n",
       "      <th>6</th>\n",
       "      <td>9</td>\n",
       "      <td>0</td>\n",
       "    </tr>\n",
       "    <tr>\n",
       "      <th>7</th>\n",
       "      <td>10</td>\n",
       "      <td>0</td>\n",
       "    </tr>\n",
       "    <tr>\n",
       "      <th>8</th>\n",
       "      <td>12</td>\n",
       "      <td>2</td>\n",
       "    </tr>\n",
       "    <tr>\n",
       "      <th>9</th>\n",
       "      <td>13</td>\n",
       "      <td>3</td>\n",
       "    </tr>\n",
       "  </tbody>\n",
       "</table>\n",
       "</div>"
      ],
      "text/plain": [
       "   id  label\n",
       "0   1      4\n",
       "1   2      1\n",
       "2   3      0\n",
       "3   4      0\n",
       "4   6      2\n",
       "5   7      4\n",
       "6   9      0\n",
       "7  10      0\n",
       "8  12      2\n",
       "9  13      3"
      ]
     },
     "execution_count": 354,
     "metadata": {},
     "output_type": "execute_result"
    }
   ],
   "source": [
    "labels.head(10)"
   ]
  },
  {
   "cell_type": "code",
   "execution_count": 355,
   "metadata": {
    "collapsed": false
   },
   "outputs": [],
   "source": [
    "ydf = labels[['label']].values.flatten()"
   ]
  },
  {
   "cell_type": "code",
   "execution_count": 356,
   "metadata": {
    "collapsed": false
   },
   "outputs": [
    {
     "data": {
      "text/plain": [
       "array([4, 1, 0, 0, 2])"
      ]
     },
     "execution_count": 356,
     "metadata": {},
     "output_type": "execute_result"
    }
   ],
   "source": [
    "ydf[:5]"
   ]
  },
  {
   "cell_type": "markdown",
   "metadata": {},
   "source": [
    "## 3 Logistic Regression"
   ]
  },
  {
   "cell_type": "markdown",
   "metadata": {},
   "source": [
    "### 3.1 a single test-train split "
   ]
  },
  {
   "cell_type": "code",
   "execution_count": 357,
   "metadata": {
    "collapsed": true
   },
   "outputs": [],
   "source": [
    "sss = StratifiedShuffleSplit(ydf, n_iter = 1, test_size=0.2, random_state=321)"
   ]
  },
  {
   "cell_type": "code",
   "execution_count": 358,
   "metadata": {
    "collapsed": false
   },
   "outputs": [],
   "source": [
    "for train_index,test_index in sss:\n",
    "    Xtrain,Xtest = Xdf1.ix[train_index,:],Xdf1.ix[test_index,:]\n",
    "    ytrain,ytest = ydf[train_index],ydf[test_index]\n",
    "    # trainind = train_index\n",
    "    # testind = test_index"
   ]
  },
  {
   "cell_type": "code",
   "execution_count": 359,
   "metadata": {
    "collapsed": false
   },
   "outputs": [
    {
     "data": {
      "text/html": [
       "<div style=\"max-height:1000px;max-width:1500px;overflow:auto;\">\n",
       "<table border=\"1\" class=\"dataframe\">\n",
       "  <thead>\n",
       "    <tr style=\"text-align: right;\">\n",
       "      <th></th>\n",
       "      <th>id</th>\n",
       "      <th>themes</th>\n",
       "      <th>speaker_gender</th>\n",
       "      <th>length</th>\n",
       "      <th>num_para</th>\n",
       "      <th>word_per_sec</th>\n",
       "      <th>laughter_per_word</th>\n",
       "      <th>laugh_as_para</th>\n",
       "      <th>applause_total</th>\n",
       "      <th>div_per_word</th>\n",
       "      <th>ithinks</th>\n",
       "      <th>storywords</th>\n",
       "      <th>noun_token</th>\n",
       "      <th>verb_token</th>\n",
       "      <th>text</th>\n",
       "    </tr>\n",
       "  </thead>\n",
       "  <tbody>\n",
       "    <tr>\n",
       "      <th>572</th>\n",
       "      <td>924</td>\n",
       "      <td>How the Mind Works Not Business as Usual Uncon...</td>\n",
       "      <td>0</td>\n",
       "      <td>1411.000</td>\n",
       "      <td>30</td>\n",
       "      <td>2.423104</td>\n",
       "      <td>0.003510</td>\n",
       "      <td>11</td>\n",
       "      <td>3</td>\n",
       "      <td>0.002340</td>\n",
       "      <td>0</td>\n",
       "      <td>10</td>\n",
       "      <td>essay duty infant concept poetry show demand s...</td>\n",
       "      <td>represent help show move vary rest bring shape...</td>\n",
       "      <td>Sheena Iyengar studies how we make choices -- ...</td>\n",
       "    </tr>\n",
       "    <tr>\n",
       "      <th>1254</th>\n",
       "      <td>1882</td>\n",
       "      <td>Medicine Without Borders</td>\n",
       "      <td>0</td>\n",
       "      <td>780.817</td>\n",
       "      <td>20</td>\n",
       "      <td>2.529402</td>\n",
       "      <td>0.000000</td>\n",
       "      <td>0</td>\n",
       "      <td>1</td>\n",
       "      <td>0.000506</td>\n",
       "      <td>1</td>\n",
       "      <td>4</td>\n",
       "      <td>money move dollar human skin dish biologist di...</td>\n",
       "      <td>represent help show move obtain shake go tend ...</td>\n",
       "      <td>It's relatively easy to imagine a new medicine...</td>\n",
       "    </tr>\n",
       "    <tr>\n",
       "      <th>1250</th>\n",
       "      <td>1877</td>\n",
       "      <td>Might You Live a Great Deal Longer?</td>\n",
       "      <td>1</td>\n",
       "      <td>1068.758</td>\n",
       "      <td>18</td>\n",
       "      <td>2.411210</td>\n",
       "      <td>0.000776</td>\n",
       "      <td>0</td>\n",
       "      <td>1</td>\n",
       "      <td>0.000000</td>\n",
       "      <td>1</td>\n",
       "      <td>13</td>\n",
       "      <td>bomb dance move rest course manager planning g...</td>\n",
       "      <td>neglect consider show agonize move vary bring ...</td>\n",
       "      <td>There's an irony behind the latest efforts to ...</td>\n",
       "    </tr>\n",
       "    <tr>\n",
       "      <th>26</th>\n",
       "      <td>36</td>\n",
       "      <td>The Power of Cities Tales of Invention Rethink...</td>\n",
       "      <td>1</td>\n",
       "      <td>825.000</td>\n",
       "      <td>26</td>\n",
       "      <td>2.758788</td>\n",
       "      <td>0.000000</td>\n",
       "      <td>0</td>\n",
       "      <td>0</td>\n",
       "      <td>0.009227</td>\n",
       "      <td>3</td>\n",
       "      <td>2</td>\n",
       "      <td>lease salon show money rest month hillside obs...</td>\n",
       "      <td>consider show go find cut violate explain trea...</td>\n",
       "      <td>Robert Neuwirth, author of \"Shadow Cities,\" fi...</td>\n",
       "    </tr>\n",
       "    <tr>\n",
       "      <th>345</th>\n",
       "      <td>532</td>\n",
       "      <td>Bold Predictions, Stern Warnings Unconventiona...</td>\n",
       "      <td>1</td>\n",
       "      <td>421.000</td>\n",
       "      <td>9</td>\n",
       "      <td>2.923990</td>\n",
       "      <td>0.000812</td>\n",
       "      <td>1</td>\n",
       "      <td>1</td>\n",
       "      <td>0.002437</td>\n",
       "      <td>2</td>\n",
       "      <td>0</td>\n",
       "      <td>slope insurgency dynamic timing scientist go e...</td>\n",
       "      <td>emerge consume give predict recreate bring see...</td>\n",
       "      <td>By analyzing raw data on violent incidents in ...</td>\n",
       "    </tr>\n",
       "  </tbody>\n",
       "</table>\n",
       "</div>"
      ],
      "text/plain": [
       "        id                                             themes  speaker_gender  \\\n",
       "572    924  How the Mind Works Not Business as Usual Uncon...               0   \n",
       "1254  1882                           Medicine Without Borders               0   \n",
       "1250  1877                Might You Live a Great Deal Longer?               1   \n",
       "26      36  The Power of Cities Tales of Invention Rethink...               1   \n",
       "345    532  Bold Predictions, Stern Warnings Unconventiona...               1   \n",
       "\n",
       "        length  num_para  word_per_sec  laughter_per_word  laugh_as_para  \\\n",
       "572   1411.000        30      2.423104           0.003510             11   \n",
       "1254   780.817        20      2.529402           0.000000              0   \n",
       "1250  1068.758        18      2.411210           0.000776              0   \n",
       "26     825.000        26      2.758788           0.000000              0   \n",
       "345    421.000         9      2.923990           0.000812              1   \n",
       "\n",
       "      applause_total  div_per_word  ithinks  storywords  \\\n",
       "572                3      0.002340        0          10   \n",
       "1254               1      0.000506        1           4   \n",
       "1250               1      0.000000        1          13   \n",
       "26                 0      0.009227        3           2   \n",
       "345                1      0.002437        2           0   \n",
       "\n",
       "                                             noun_token  \\\n",
       "572   essay duty infant concept poetry show demand s...   \n",
       "1254  money move dollar human skin dish biologist di...   \n",
       "1250  bomb dance move rest course manager planning g...   \n",
       "26    lease salon show money rest month hillside obs...   \n",
       "345   slope insurgency dynamic timing scientist go e...   \n",
       "\n",
       "                                             verb_token  \\\n",
       "572   represent help show move vary rest bring shape...   \n",
       "1254  represent help show move obtain shake go tend ...   \n",
       "1250  neglect consider show agonize move vary bring ...   \n",
       "26    consider show go find cut violate explain trea...   \n",
       "345   emerge consume give predict recreate bring see...   \n",
       "\n",
       "                                                   text  \n",
       "572   Sheena Iyengar studies how we make choices -- ...  \n",
       "1254  It's relatively easy to imagine a new medicine...  \n",
       "1250  There's an irony behind the latest efforts to ...  \n",
       "26    Robert Neuwirth, author of \"Shadow Cities,\" fi...  \n",
       "345   By analyzing raw data on violent incidents in ...  "
      ]
     },
     "execution_count": 359,
     "metadata": {},
     "output_type": "execute_result"
    }
   ],
   "source": [
    "Xtrain.head()"
   ]
  },
  {
   "cell_type": "code",
   "execution_count": 360,
   "metadata": {
    "collapsed": false
   },
   "outputs": [
    {
     "data": {
      "text/plain": [
       "0    474\n",
       "1    418\n",
       "2    353\n",
       "3    179\n",
       "4    111\n",
       "dtype: int64"
      ]
     },
     "execution_count": 360,
     "metadata": {},
     "output_type": "execute_result"
    }
   ],
   "source": [
    "pd.Series(ydf).value_counts()"
   ]
  },
  {
   "cell_type": "code",
   "execution_count": 361,
   "metadata": {
    "collapsed": false
   },
   "outputs": [
    {
     "data": {
      "text/plain": [
       "0    95\n",
       "1    84\n",
       "2    71\n",
       "3    36\n",
       "4    22\n",
       "dtype: int64"
      ]
     },
     "execution_count": 361,
     "metadata": {},
     "output_type": "execute_result"
    }
   ],
   "source": [
    "pd.Series(ytest).value_counts()"
   ]
  },
  {
   "cell_type": "markdown",
   "metadata": {},
   "source": [
    "###3.1.1 the text (kw + title + description) processing "
   ]
  },
  {
   "cell_type": "code",
   "execution_count": 362,
   "metadata": {
    "collapsed": false
   },
   "outputs": [],
   "source": [
    "Xtrain_text = Xtrain['text'].as_matrix()"
   ]
  },
  {
   "cell_type": "code",
   "execution_count": 363,
   "metadata": {
    "collapsed": true
   },
   "outputs": [],
   "source": [
    "Xtest_text = Xtest['text'].as_matrix()"
   ]
  },
  {
   "cell_type": "markdown",
   "metadata": {},
   "source": [
    "####the following list is derived in Ted_5_NLP_other "
   ]
  },
  {
   "cell_type": "code",
   "execution_count": 364,
   "metadata": {
    "collapsed": true
   },
   "outputs": [],
   "source": [
    "final_text_words = ['global issues', 'science', 'culture', 'new','humor','entertainment']"
   ]
  },
  {
   "cell_type": "code",
   "execution_count": 365,
   "metadata": {
    "collapsed": true
   },
   "outputs": [],
   "source": [
    "vect_other = CountVectorizer(vocabulary = final_text_words, stop_words = 'english', ngram_range = (1,2))"
   ]
  },
  {
   "cell_type": "code",
   "execution_count": 366,
   "metadata": {
    "collapsed": true
   },
   "outputs": [],
   "source": [
    "Xtrain_text_other = vect_other.fit_transform(Xtrain_text)"
   ]
  },
  {
   "cell_type": "code",
   "execution_count": 367,
   "metadata": {
    "collapsed": true
   },
   "outputs": [],
   "source": [
    "Xtest_text_other = vect_other.transform(Xtest_text)"
   ]
  },
  {
   "cell_type": "markdown",
   "metadata": {},
   "source": [
    "###3.1.2 theme processing "
   ]
  },
  {
   "cell_type": "code",
   "execution_count": 368,
   "metadata": {
    "collapsed": false
   },
   "outputs": [],
   "source": [
    "Xtrain_th = Cvtheme.transform(Xtrain.ix[:,'themes'].as_matrix())"
   ]
  },
  {
   "cell_type": "code",
   "execution_count": 369,
   "metadata": {
    "collapsed": true
   },
   "outputs": [],
   "source": [
    "Xtest_th = Cvtheme.transform(Xtest.ix[:,'themes'].as_matrix())"
   ]
  },
  {
   "cell_type": "markdown",
   "metadata": {},
   "source": [
    "###3.1.3 verb and noun tokens in the caption "
   ]
  },
  {
   "cell_type": "markdown",
   "metadata": {},
   "source": [
    "#### the vocabulary lists are derived in Ted_2_NLP_caption "
   ]
  },
  {
   "cell_type": "code",
   "execution_count": 370,
   "metadata": {
    "collapsed": true
   },
   "outputs": [],
   "source": [
    "vocab_verb_final = [u'like',u'show',u'feel',u'should',u'leave',u'live',u'understand',u'talk',u'ask',u'become',u'change']"
   ]
  },
  {
   "cell_type": "code",
   "execution_count": 371,
   "metadata": {
    "collapsed": true
   },
   "outputs": [],
   "source": [
    "vocab_noun_final = [u'life',u'percent',u'question',u'story',u'idea',u'part',u'place',u'fact',u'example',u'problem',u'bit',u'kind',u'today']"
   ]
  },
  {
   "cell_type": "code",
   "execution_count": 372,
   "metadata": {
    "collapsed": true
   },
   "outputs": [],
   "source": [
    "tf_noun = TfidfVectorizer(vocabulary = vocab_noun_final,use_idf = False, sublinear_tf = True)"
   ]
  },
  {
   "cell_type": "code",
   "execution_count": 373,
   "metadata": {
    "collapsed": true
   },
   "outputs": [],
   "source": [
    "tf_verb = TfidfVectorizer(vocabulary = vocab_verb_final,use_idf = False, sublinear_tf = True)"
   ]
  },
  {
   "cell_type": "code",
   "execution_count": 374,
   "metadata": {
    "collapsed": true
   },
   "outputs": [],
   "source": [
    "Xtrain_noun = tf_noun.fit_transform(Xtrain.ix[:,'noun_token'].as_matrix())"
   ]
  },
  {
   "cell_type": "code",
   "execution_count": 375,
   "metadata": {
    "collapsed": true
   },
   "outputs": [],
   "source": [
    "Xtest_noun = tf_noun.transform(Xtest.ix[:,'noun_token'].as_matrix())"
   ]
  },
  {
   "cell_type": "code",
   "execution_count": 376,
   "metadata": {
    "collapsed": true
   },
   "outputs": [],
   "source": [
    "Xtrain_verb = tf_verb.fit_transform(Xtrain.ix[:,'verb_token'].as_matrix())"
   ]
  },
  {
   "cell_type": "code",
   "execution_count": 377,
   "metadata": {
    "collapsed": true
   },
   "outputs": [],
   "source": [
    "Xtest_verb = tf_verb.transform(Xtest.ix[:,'verb_token'].as_matrix())"
   ]
  },
  {
   "cell_type": "markdown",
   "metadata": {},
   "source": [
    "### 3.1.4 combine text and non-text features into a data matrix"
   ]
  },
  {
   "cell_type": "code",
   "execution_count": 378,
   "metadata": {
    "collapsed": false
   },
   "outputs": [],
   "source": [
    "Xtrainm = np.concatenate([Xtrain_th.toarray(),Xtrain_noun.toarray(),Xtrain_verb.toarray(),\n",
    "                          Xtrain_text_other.toarray(), scale(Xtrain.ix[:,2:12].as_matrix())],\n",
    "                         axis = 1)"
   ]
  },
  {
   "cell_type": "code",
   "execution_count": 379,
   "metadata": {
    "collapsed": false
   },
   "outputs": [],
   "source": [
    "Xtestm = np.concatenate([Xtest_th.toarray(),Xtest_noun.toarray(),Xtest_verb.toarray(),\n",
    "                         Xtest_text_other.toarray(), scale(Xtest.ix[:,2:12].as_matrix())],axis = 1)"
   ]
  },
  {
   "cell_type": "code",
   "execution_count": 380,
   "metadata": {
    "collapsed": false
   },
   "outputs": [
    {
     "data": {
      "text/plain": [
       "(1227, 87)"
      ]
     },
     "execution_count": 380,
     "metadata": {},
     "output_type": "execute_result"
    }
   ],
   "source": [
    "Xtrainm.shape"
   ]
  },
  {
   "cell_type": "code",
   "execution_count": 381,
   "metadata": {
    "collapsed": true
   },
   "outputs": [],
   "source": [
    "from sklearn.linear_model import LogisticRegression\n",
    "from sklearn.metrics import classification_report\n",
    "from sklearn.metrics import confusion_matrix\n",
    "from sklearn.ensemble import RandomForestClassifier"
   ]
  },
  {
   "cell_type": "code",
   "execution_count": 382,
   "metadata": {
    "collapsed": true
   },
   "outputs": [],
   "source": [
    "from sklearn.pipeline import Pipeline\n",
    "from sklearn.cross_validation import cross_val_score\n",
    "from sklearn.cross_validation import StratifiedKFold"
   ]
  },
  {
   "cell_type": "markdown",
   "metadata": {},
   "source": [
    "#### To improve the negative class prediction, class_weight can be specified to 'auto'"
   ]
  },
  {
   "cell_type": "code",
   "execution_count": 383,
   "metadata": {
    "collapsed": true
   },
   "outputs": [],
   "source": [
    "clf = LogisticRegression(C = 10, penalty = 'l2')"
   ]
  },
  {
   "cell_type": "code",
   "execution_count": 384,
   "metadata": {
    "collapsed": false
   },
   "outputs": [
    {
     "data": {
      "text/plain": [
       "LogisticRegression(C=10, class_weight=None, dual=False, fit_intercept=True,\n",
       "          intercept_scaling=1, penalty='l2', random_state=None, tol=0.0001)"
      ]
     },
     "execution_count": 384,
     "metadata": {},
     "output_type": "execute_result"
    }
   ],
   "source": [
    "clf.fit(Xtrainm,ytrain)"
   ]
  },
  {
   "cell_type": "code",
   "execution_count": 385,
   "metadata": {
    "collapsed": false
   },
   "outputs": [],
   "source": [
    "ytest_pred = clf.predict(Xtestm)"
   ]
  },
  {
   "cell_type": "code",
   "execution_count": 311,
   "metadata": {
    "collapsed": false
   },
   "outputs": [
    {
     "name": "stdout",
     "output_type": "stream",
     "text": [
      "             precision    recall  f1-score   support\n",
      "\n",
      "          0       0.58      0.66      0.62        95\n",
      "          1       0.66      0.76      0.71        84\n",
      "          2       0.57      0.54      0.55        71\n",
      "          3       0.44      0.22      0.30        36\n",
      "          4       0.76      0.59      0.67        22\n",
      "\n",
      "avg / total       0.60      0.60      0.59       308\n",
      "\n"
     ]
    }
   ],
   "source": [
    "print classification_report(ytest,ytest_pred)"
   ]
  },
  {
   "cell_type": "code",
   "execution_count": 386,
   "metadata": {
    "collapsed": false
   },
   "outputs": [
    {
     "name": "stdout",
     "output_type": "stream",
     "text": [
      "             precision    recall  f1-score   support\n",
      "\n",
      "          0       0.59      0.67      0.63        95\n",
      "          1       0.66      0.75      0.70        84\n",
      "          2       0.53      0.54      0.53        71\n",
      "          3       0.43      0.17      0.24        36\n",
      "          4       0.72      0.59      0.65        22\n",
      "\n",
      "avg / total       0.59      0.60      0.58       308\n",
      "\n"
     ]
    }
   ],
   "source": [
    "print classification_report(ytest,ytest_pred)"
   ]
  },
  {
   "cell_type": "code",
   "execution_count": 108,
   "metadata": {
    "collapsed": true
   },
   "outputs": [],
   "source": [
    "report_precision = [0.52, 0.64, 0.46, 0.47, 0.67]"
   ]
  },
  {
   "cell_type": "code",
   "execution_count": 109,
   "metadata": {
    "collapsed": false
   },
   "outputs": [],
   "source": [
    "report_recall = [0.67, 0.62, 0.44, 0.19, 0.64]"
   ]
  },
  {
   "cell_type": "code",
   "execution_count": 110,
   "metadata": {
    "collapsed": true
   },
   "outputs": [],
   "source": [
    "report_precision = pd.Series(report_precision, index = fractions.index)"
   ]
  },
  {
   "cell_type": "code",
   "execution_count": 111,
   "metadata": {
    "collapsed": true
   },
   "outputs": [],
   "source": [
    "report_recall = pd.Series(report_recall, index = fractions.index)"
   ]
  },
  {
   "cell_type": "code",
   "execution_count": 112,
   "metadata": {
    "collapsed": true
   },
   "outputs": [
    {
     "data": {
      "text/plain": [
       "<matplotlib.text.Text at 0x10e0c2a10>"
      ]
     },
     "execution_count": 112,
     "metadata": {},
     "output_type": "execute_result"
    },
    {
     "data": {
      "image/png": "[encoded data removed]",
      "text/plain": [
       "<matplotlib.figure.Figure at 0x102b9e610>"
      ]
     },
     "metadata": {},
     "output_type": "display_data"
    }
   ],
   "source": [
    "report_recall.plot(kind = 'bar')\n",
    "plt.xticks(rotation = 15, ha = 'right')\n",
    "plt.ylabel('Prediction recall')"
   ]
  },
  {
   "cell_type": "code",
   "execution_count": 188,
   "metadata": {
    "collapsed": true
   },
   "outputs": [
    {
     "data": {
      "text/plain": [
       "<matplotlib.text.Text at 0x1130a0110>"
      ]
     },
     "execution_count": 188,
     "metadata": {},
     "output_type": "execute_result"
    },
    {
     "data": {
      "image/png": "[encoded data removed]",
      "text/plain": [
       "<matplotlib.figure.Figure at 0x11328a810>"
      ]
     },
     "metadata": {},
     "output_type": "display_data"
    }
   ],
   "source": [
    "report_precision.plot(kind = 'bar')\n",
    "plt.xticks(rotation = 15, ha = 'right')\n",
    "plt.ylabel('Prediction precision')"
   ]
  },
  {
   "cell_type": "markdown",
   "metadata": {},
   "source": [
    "###Try SVM "
   ]
  },
  {
   "cell_type": "code",
   "execution_count": 387,
   "metadata": {
    "collapsed": true
   },
   "outputs": [],
   "source": [
    "svm = SVC(random_state = 321,class_weight = 'auto')"
   ]
  },
  {
   "cell_type": "code",
   "execution_count": 388,
   "metadata": {
    "collapsed": false
   },
   "outputs": [
    {
     "data": {
      "text/plain": [
       "SVC(C=1.0, cache_size=200, class_weight='auto', coef0=0.0, degree=3,\n",
       "  gamma=0.0, kernel='rbf', max_iter=-1, probability=False,\n",
       "  random_state=321, shrinking=True, tol=0.001, verbose=False)"
      ]
     },
     "execution_count": 388,
     "metadata": {},
     "output_type": "execute_result"
    }
   ],
   "source": [
    "svm.fit(Xtrainm, ytrain)"
   ]
  },
  {
   "cell_type": "code",
   "execution_count": 389,
   "metadata": {
    "collapsed": true
   },
   "outputs": [],
   "source": [
    "ytest_pred3 = svm.predict(Xtestm)"
   ]
  },
  {
   "cell_type": "code",
   "execution_count": 390,
   "metadata": {
    "collapsed": false
   },
   "outputs": [
    {
     "name": "stdout",
     "output_type": "stream",
     "text": [
      "             precision    recall  f1-score   support\n",
      "\n",
      "          0       0.58      0.60      0.59        95\n",
      "          1       0.71      0.57      0.63        84\n",
      "          2       0.48      0.45      0.47        71\n",
      "          3       0.24      0.28      0.26        36\n",
      "          4       0.52      0.77      0.62        22\n",
      "\n",
      "avg / total       0.55      0.53      0.54       308\n",
      "\n"
     ]
    }
   ],
   "source": [
    "print classification_report(ytest, ytest_pred3)"
   ]
  },
  {
   "cell_type": "markdown",
   "metadata": {},
   "source": [
    "### The following serves as a benchmark, which includes only themes, length, num_para,  word_per_sec"
   ]
  },
  {
   "cell_type": "code",
   "execution_count": 362,
   "metadata": {
    "collapsed": false
   },
   "outputs": [
    {
     "name": "stdout",
     "output_type": "stream",
     "text": [
      "             precision    recall  f1-score   support\n",
      "\n",
      "          0       0.48      0.74      0.58        95\n",
      "          1       0.55      0.56      0.55        84\n",
      "          2       0.48      0.44      0.46        71\n",
      "          3       0.29      0.06      0.09        36\n",
      "          4       0.75      0.14      0.23        22\n",
      "\n",
      "avg / total       0.49      0.50      0.46       308\n",
      "\n"
     ]
    }
   ],
   "source": [
    "print classification_report(ytest,ytest_pred)"
   ]
  },
  {
   "cell_type": "code",
   "execution_count": 124,
   "metadata": {
    "collapsed": false
   },
   "outputs": [
    {
     "data": {
      "text/plain": [
       "{0: ['Informative', 'Persuasive'],\n",
       " 1: ['Beautiful', 'Courageous', 'Inspiring'],\n",
       " 2: ['Fascinating', 'Ingenious', 'Jaw-dropping'],\n",
       " 3: ['Confusing', 'Longwinded', 'OK', 'Obnoxious', 'Unconvincing'],\n",
       " 4: ['Funny']}"
      ]
     },
     "execution_count": 124,
     "metadata": {},
     "output_type": "execute_result"
    }
   ],
   "source": [
    "labeldict"
   ]
  },
  {
   "cell_type": "code",
   "execution_count": 422,
   "metadata": {
    "collapsed": true
   },
   "outputs": [
    {
     "data": {
      "text/plain": [
       "array([[ -2.35334288e+00,  -1.42258909e+00,  -1.85438523e+00,\n",
       "         -5.24616524e-01,  -2.37358509e+00,  -3.21799002e-01,\n",
       "          1.13239663e+00,   2.14013878e-01,   1.14841221e+00,\n",
       "          4.32212816e-01,   2.32314390e-01,   2.14173869e-01,\n",
       "         -1.59421044e-01,  -9.25200411e-02,  -5.64633791e-01,\n",
       "          5.35309043e-01,  -5.51945343e-01,   1.16864308e-01,\n",
       "          1.29510567e-01,  -5.04819049e-01,  -4.71223057e-01,\n",
       "         -4.14981345e-01,   4.67345301e-01,  -1.41300753e+00,\n",
       "         -1.36525691e+00,   8.38499012e-01,  -1.49817587e+00,\n",
       "         -3.12377758e-01,   5.08687968e-02,  -1.20820666e-02,\n",
       "         -5.13277816e-03,  -8.03444517e-01,  -5.25906909e-01,\n",
       "         -2.65959274e-01,   1.88523159e+00,   2.96184010e-01,\n",
       "         -1.21576491e+00,   6.71768656e-01,   7.90376765e-01,\n",
       "          4.72099801e-01,  -5.88241330e-01,   5.61112486e-01,\n",
       "          0.00000000e+00,  -3.45505840e-01,  -1.63452688e+00,\n",
       "          3.65126316e-01,   5.34011726e-01,   1.20864601e-02,\n",
       "          1.32425615e-01,   2.96549648e-01,   8.82932906e-02,\n",
       "         -2.75997354e-01,  -6.90830429e-01,  -4.58752674e-03,\n",
       "          1.14132638e-02,   4.42877367e-01,  -1.87701031e-01,\n",
       "          1.68421607e-01,  -1.74722658e-01,  -2.91779590e-01,\n",
       "         -5.82478814e-01,  -8.33270378e-02,   6.20092652e-02,\n",
       "          7.48527475e-03],\n",
       "       [  4.45374167e-01,   8.55222788e-01,  -1.60260028e+00,\n",
       "          1.45007085e+00,  -9.84439984e-02,  -4.93092046e-01,\n",
       "         -5.64275739e-01,   6.79519430e-01,  -1.48053828e-01,\n",
       "         -6.46453255e-01,  -7.64084361e-01,  -7.81769094e-02,\n",
       "          3.08343608e-01,   3.95920093e-01,   1.04142906e+00,\n",
       "         -2.70808555e-01,   1.29708149e+00,  -2.53921280e+00,\n",
       "         -7.28987596e-01,  -9.78641834e-01,  -1.37575709e-01,\n",
       "         -2.47498727e-01,  -4.61946988e+00,   1.89791266e+00,\n",
       "          1.72203376e-01,   3.23370359e-02,   8.46915531e-01,\n",
       "         -6.97166379e-01,   1.27329775e+00,   4.86066555e-01,\n",
       "         -8.92076426e-01,  -2.36117578e-01,   3.28675049e-01,\n",
       "         -1.36121601e-01,  -4.94286548e-01,   1.10223229e+00,\n",
       "          1.48074272e+00,   1.56338069e-01,  -4.79419206e-01,\n",
       "         -4.74789136e-02,   2.96398270e-01,  -2.29421729e+00,\n",
       "          0.00000000e+00,   7.34086317e-01,   1.76943702e+00,\n",
       "          6.16527916e-01,   1.06579969e+00,   1.13279640e-01,\n",
       "         -6.59558202e-01,  -3.77080933e-01,  -3.92283785e-01,\n",
       "         -1.07825164e+00,  -6.83087514e-01,   4.48306306e-01,\n",
       "         -1.94183598e-01,  -7.92123360e-02,   2.04206614e-01,\n",
       "         -1.39226918e-01,  -2.25395138e-01,   1.37007431e-01,\n",
       "          4.76782973e-01,  -2.43380590e-01,  -9.34878640e-02,\n",
       "          3.35889026e-01],\n",
       "       [  3.03922947e-01,   2.33206445e-01,   2.36348583e-01,\n",
       "         -1.28632559e+00,   7.07487856e-01,   3.78173169e-01,\n",
       "         -1.47910399e+00,  -8.45307180e-01,  -3.80059361e-01,\n",
       "         -3.65917869e-01,  -6.46290470e-03,   1.49349528e-01,\n",
       "          1.53665438e-01,  -6.79835604e-01,  -9.74781736e-01,\n",
       "         -7.92465849e-01,   5.05076731e-01,   6.58236339e-01,\n",
       "          1.50567451e-02,   8.36251537e-01,   1.94135678e-01,\n",
       "          1.64756695e-01,   1.22938629e+00,  -1.82308198e-01,\n",
       "          5.60662071e-01,  -1.16480491e+00,   1.25102811e+00,\n",
       "          4.39357459e-01,  -9.56712338e-01,  -2.10723781e+00,\n",
       "          8.54848871e-01,   1.07388463e+00,   1.51725876e-01,\n",
       "          4.05214858e-01,  -1.59647695e+00,  -7.83976372e-01,\n",
       "         -7.10207584e-01,  -9.70839622e-02,  -6.83251556e-01,\n",
       "         -9.15606747e-01,  -3.21427411e-01,   5.20253348e-01,\n",
       "          0.00000000e+00,  -8.59193158e-01,  -1.95239317e+00,\n",
       "          3.14692298e-01,  -1.79687695e+00,  -4.06885055e-01,\n",
       "          1.42871659e-01,  -8.04050237e-01,  -6.54502818e-02,\n",
       "         -1.15169852e+00,   2.48625733e-01,   1.09261989e-01,\n",
       "          3.94762970e-01,   1.07164563e-01,  -2.12145086e-01,\n",
       "          1.13677848e-01,  -3.00246205e-01,   2.27444347e-03,\n",
       "          4.45618714e-01,   3.61912529e-02,  -3.14205437e-01,\n",
       "         -4.17757120e-01],\n",
       "       [ -7.33663835e-01,  -2.75403891e-01,   8.92665218e-01,\n",
       "         -6.71564297e-01,  -1.13551877e+00,  -2.95231366e-01,\n",
       "          2.14377509e-01,  -4.37588938e-01,  -3.44911654e-01,\n",
       "          6.50422858e-02,   9.85343019e-01,  -4.48995081e-01,\n",
       "         -1.35097030e-01,  -2.72801589e-01,  -2.32204212e-01,\n",
       "         -1.29366330e-01,  -2.99218342e+00,   3.96524949e-01,\n",
       "          2.57133243e-01,   3.10602331e-01,   5.81193444e-01,\n",
       "          5.26377802e-01,   5.52390770e-01,  -2.38483504e-01,\n",
       "          1.60277021e-01,  -3.55986342e-01,  -3.20865870e-02,\n",
       "          1.07664431e+00,  -2.90806609e+00,   1.93061247e-01,\n",
       "         -1.59772076e-01,  -5.62740720e-01,   7.71661633e-01,\n",
       "          4.97845761e-01,  -7.15911284e-01,  -6.84092431e-01,\n",
       "         -5.31589123e-01,  -8.26197578e-01,   2.78509440e-02,\n",
       "          7.24840916e-01,   9.68832223e-01,  -2.30689334e-01,\n",
       "          0.00000000e+00,  -3.98435592e-02,   7.30821360e-01,\n",
       "         -5.72957906e-02,   6.62354599e-01,   1.55986371e-01,\n",
       "          1.77170388e-02,   5.61644523e-01,   8.32602857e-02,\n",
       "          1.12329410e-01,   8.21741819e-01,  -5.14255330e-01,\n",
       "         -1.13642581e-01,  -2.56420553e-01,  -3.34278174e-02,\n",
       "         -3.93800807e-01,  -4.40916607e-01,  -6.89898540e-02,\n",
       "         -7.34878752e-01,   2.45365184e-02,   2.93576193e-01,\n",
       "         -5.30282639e-02],\n",
       "       [  8.24927078e-01,   1.93064947e-01,  -4.44027663e-01,\n",
       "          5.32737989e-01,   4.23510508e-01,   4.91693231e-01,\n",
       "         -9.96768905e-01,   6.80790671e-01,  -8.35276394e-01,\n",
       "          8.40376157e-01,  -1.43787610e+00,  -1.95029907e+00,\n",
       "         -8.11342475e-01,  -1.22308114e+00,  -3.41978357e-01,\n",
       "          1.13655921e+00,  -2.53870799e-01,   8.12752124e-01,\n",
       "          6.33791596e-01,  -1.15896071e+00,   6.42962314e-02,\n",
       "         -1.01918143e-01,   4.35038294e-01,  -3.03510116e+00,\n",
       "          4.07470438e-01,  -1.08539371e-01,  -5.35849963e-01,\n",
       "         -1.52640897e+00,  -1.53433208e+00,   1.30378560e+00,\n",
       "         -9.12422783e-01,  -8.72089016e-01,  -2.51060224e+00,\n",
       "          4.80261063e-01,  -3.10463323e-01,  -8.03269939e-01,\n",
       "          4.35070220e-01,   1.42274623e-01,   4.90596592e-01,\n",
       "          2.42208713e-01,  -1.85207087e-01,  -1.95794758e+00,\n",
       "          0.00000000e+00,   3.55159033e-01,  -4.61635076e-01,\n",
       "         -3.36479683e+00,  -1.17682267e+00,  -1.30358423e+00,\n",
       "          6.19303614e-01,   9.36185637e-01,   8.17139597e-02,\n",
       "          2.55228437e+00,   5.21031082e-01,  -4.63171378e-01,\n",
       "         -1.04380711e-01,  -1.28565270e+00,   1.91058328e-01,\n",
       "          6.33870242e-01,   1.17474913e+00,   4.60868737e-01,\n",
       "         -4.97797414e-01,   4.16589778e-01,   9.28049194e-02,\n",
       "          2.02550221e-01]])"
      ]
     },
     "execution_count": 422,
     "metadata": {},
     "output_type": "execute_result"
    }
   ],
   "source": [
    "clf.coef_"
   ]
  },
  {
   "cell_type": "code",
   "execution_count": 391,
   "metadata": {
    "collapsed": false
   },
   "outputs": [
    {
     "data": {
      "text/html": [
       "<div style=\"max-height:1000px;max-width:1500px;overflow:auto;\">\n",
       "<table border=\"1\" class=\"dataframe\">\n",
       "  <thead>\n",
       "    <tr style=\"text-align: right;\">\n",
       "      <th>true</th>\n",
       "      <th>0</th>\n",
       "      <th>1</th>\n",
       "      <th>2</th>\n",
       "      <th>3</th>\n",
       "      <th>4</th>\n",
       "      <th>All</th>\n",
       "    </tr>\n",
       "    <tr>\n",
       "      <th>predicted</th>\n",
       "      <th></th>\n",
       "      <th></th>\n",
       "      <th></th>\n",
       "      <th></th>\n",
       "      <th></th>\n",
       "      <th></th>\n",
       "    </tr>\n",
       "  </thead>\n",
       "  <tbody>\n",
       "    <tr>\n",
       "      <th>0</th>\n",
       "      <td>64</td>\n",
       "      <td>10</td>\n",
       "      <td>22</td>\n",
       "      <td>11</td>\n",
       "      <td>2</td>\n",
       "      <td>109</td>\n",
       "    </tr>\n",
       "    <tr>\n",
       "      <th>1</th>\n",
       "      <td>16</td>\n",
       "      <td>63</td>\n",
       "      <td>8</td>\n",
       "      <td>7</td>\n",
       "      <td>1</td>\n",
       "      <td>95</td>\n",
       "    </tr>\n",
       "    <tr>\n",
       "      <th>2</th>\n",
       "      <td>10</td>\n",
       "      <td>9</td>\n",
       "      <td>38</td>\n",
       "      <td>9</td>\n",
       "      <td>6</td>\n",
       "      <td>72</td>\n",
       "    </tr>\n",
       "    <tr>\n",
       "      <th>3</th>\n",
       "      <td>4</td>\n",
       "      <td>2</td>\n",
       "      <td>2</td>\n",
       "      <td>6</td>\n",
       "      <td>0</td>\n",
       "      <td>14</td>\n",
       "    </tr>\n",
       "    <tr>\n",
       "      <th>4</th>\n",
       "      <td>1</td>\n",
       "      <td>0</td>\n",
       "      <td>1</td>\n",
       "      <td>3</td>\n",
       "      <td>13</td>\n",
       "      <td>18</td>\n",
       "    </tr>\n",
       "    <tr>\n",
       "      <th>All</th>\n",
       "      <td>95</td>\n",
       "      <td>84</td>\n",
       "      <td>71</td>\n",
       "      <td>36</td>\n",
       "      <td>22</td>\n",
       "      <td>308</td>\n",
       "    </tr>\n",
       "  </tbody>\n",
       "</table>\n",
       "</div>"
      ],
      "text/plain": [
       "true        0   1   2   3   4  All\n",
       "predicted                         \n",
       "0          64  10  22  11   2  109\n",
       "1          16  63   8   7   1   95\n",
       "2          10   9  38   9   6   72\n",
       "3           4   2   2   6   0   14\n",
       "4           1   0   1   3  13   18\n",
       "All        95  84  71  36  22  308"
      ]
     },
     "execution_count": 391,
     "metadata": {},
     "output_type": "execute_result"
    }
   ],
   "source": [
    "pd.crosstab(ytest_pred,ytest,rownames=['predicted'],colnames = ['true'],margins = True)"
   ]
  },
  {
   "cell_type": "markdown",
   "metadata": {},
   "source": [
    "### random forest"
   ]
  },
  {
   "cell_type": "code",
   "execution_count": 401,
   "metadata": {
    "collapsed": false
   },
   "outputs": [],
   "source": [
    "rf = RandomForestClassifier(n_estimators= 10, criterion='gini')"
   ]
  },
  {
   "cell_type": "code",
   "execution_count": 402,
   "metadata": {
    "collapsed": false
   },
   "outputs": [
    {
     "data": {
      "text/plain": [
       "RandomForestClassifier(bootstrap=True, compute_importances=None,\n",
       "            criterion='gini', max_depth=None, max_features='auto',\n",
       "            max_leaf_nodes=None, min_density=None, min_samples_leaf=1,\n",
       "            min_samples_split=2, n_estimators=10, n_jobs=1,\n",
       "            oob_score=False, random_state=None, verbose=0)"
      ]
     },
     "execution_count": 402,
     "metadata": {},
     "output_type": "execute_result"
    }
   ],
   "source": [
    "rf.fit(Xtrainm,ytrain)"
   ]
  },
  {
   "cell_type": "code",
   "execution_count": 403,
   "metadata": {
    "collapsed": true
   },
   "outputs": [],
   "source": [
    "ytest_pred2 = rf.predict(Xtestm)"
   ]
  },
  {
   "cell_type": "code",
   "execution_count": 404,
   "metadata": {
    "collapsed": false
   },
   "outputs": [
    {
     "name": "stdout",
     "output_type": "stream",
     "text": [
      "             precision    recall  f1-score   support\n",
      "\n",
      "          0       0.50      0.66      0.57        95\n",
      "          1       0.56      0.69      0.62        84\n",
      "          2       0.51      0.42      0.46        71\n",
      "          3       0.43      0.08      0.14        36\n",
      "          4       0.58      0.32      0.41        22\n",
      "\n",
      "avg / total       0.52      0.52      0.50       308\n",
      "\n"
     ]
    }
   ],
   "source": [
    "print classification_report(ytest, ytest_pred2)"
   ]
  },
  {
   "cell_type": "code",
   "execution_count": 405,
   "metadata": {
    "collapsed": false
   },
   "outputs": [
    {
     "data": {
      "text/plain": [
       "array([ 0.00177497,  0.00018772,  0.00094738,  0.00085525,  0.00297597,\n",
       "        0.00137089,  0.00787931,  0.00265035,  0.00209337,  0.00448874,\n",
       "        0.00294002,  0.00241886,  0.00335138,  0.        ,  0.0028061 ,\n",
       "        0.0032138 ,  0.        ,  0.00451268,  0.00414221,  0.01141334,\n",
       "        0.00113268,  0.00280465,  0.00111575,  0.00672673,  0.00522194,\n",
       "        0.00773381,  0.00475033,  0.00349333,  0.00290191,  0.00108144,\n",
       "        0.00515314,  0.00432775,  0.00168917,  0.00663281,  0.00017774,\n",
       "        0.00311892,  0.00842105,  0.00220843,  0.00128376,  0.00213518,\n",
       "        0.00808946,  0.00242677,  0.        ,  0.00347339,  0.00055182,\n",
       "        0.00173532,  0.00036103,  0.03327634,  0.01861102,  0.02244358,\n",
       "        0.02244699,  0.02011575,  0.01825736,  0.01700055,  0.01673411,\n",
       "        0.02236872,  0.01780617,  0.01775413,  0.01650163,  0.01812285,\n",
       "        0.0163902 ,  0.01970447,  0.01978789,  0.01831885,  0.01905738,\n",
       "        0.01898306,  0.02047835,  0.02121823,  0.01873672,  0.0212696 ,\n",
       "        0.01897711,  0.01091361,  0.01683578,  0.00704004,  0.0079962 ,\n",
       "        0.01259239,  0.0069492 ,  0.01078427,  0.03792031,  0.03439439,\n",
       "        0.04119547,  0.04854454,  0.02115048,  0.0368845 ,  0.03734845,\n",
       "        0.02124768,  0.025071  ])"
      ]
     },
     "execution_count": 405,
     "metadata": {},
     "output_type": "execute_result"
    }
   ],
   "source": [
    "rf.feature_importances_"
   ]
  },
  {
   "cell_type": "markdown",
   "metadata": {},
   "source": [
    "### def a function to generate feature importance list based on rf"
   ]
  },
  {
   "cell_type": "code",
   "execution_count": 406,
   "metadata": {
    "collapsed": false
   },
   "outputs": [
    {
     "data": {
      "text/plain": [
       "(87,)"
      ]
     },
     "execution_count": 406,
     "metadata": {},
     "output_type": "execute_result"
    }
   ],
   "source": [
    "rf.feature_importances_.shape"
   ]
  },
  {
   "cell_type": "code",
   "execution_count": 407,
   "metadata": {
    "collapsed": false
   },
   "outputs": [
    {
     "data": {
      "text/plain": [
       "Index([   u'speaker_gender',            u'length',          u'num_para',\n",
       "            u'word_per_sec', u'laughter_per_word',     u'laugh_as_para',\n",
       "          u'applause_total',      u'div_per_word',           u'ithinks',\n",
       "              u'storywords',        u'noun_token'],\n",
       "      dtype='object')"
      ]
     },
     "execution_count": 407,
     "metadata": {},
     "output_type": "execute_result"
    }
   ],
   "source": [
    "Xtrain.columns[2:13]"
   ]
  },
  {
   "cell_type": "code",
   "execution_count": 408,
   "metadata": {
    "collapsed": true
   },
   "outputs": [],
   "source": [
    "other_vocab = sorted(vect_other.vocabulary_.items(), key = operator.itemgetter(1))"
   ]
  },
  {
   "cell_type": "code",
   "execution_count": 409,
   "metadata": {
    "collapsed": false
   },
   "outputs": [],
   "source": [
    "other_vocab = [x[0] for x in other_vocab]"
   ]
  },
  {
   "cell_type": "code",
   "execution_count": 410,
   "metadata": {
    "collapsed": false
   },
   "outputs": [],
   "source": [
    "noun_vocab = sorted(tf_noun.vocabulary_.items(), key = operator.itemgetter(1))"
   ]
  },
  {
   "cell_type": "code",
   "execution_count": 411,
   "metadata": {
    "collapsed": true
   },
   "outputs": [],
   "source": [
    "noun_vocab = [x[0] for x in noun_vocab]"
   ]
  },
  {
   "cell_type": "code",
   "execution_count": 412,
   "metadata": {
    "collapsed": true
   },
   "outputs": [],
   "source": [
    "verb_vocab = sorted(tf_verb.vocabulary_.items(), key = operator.itemgetter(1))"
   ]
  },
  {
   "cell_type": "code",
   "execution_count": 413,
   "metadata": {
    "collapsed": true
   },
   "outputs": [],
   "source": [
    "verb_vocab = [x[0] for x in verb_vocab]"
   ]
  },
  {
   "cell_type": "code",
   "execution_count": 417,
   "metadata": {
    "collapsed": false
   },
   "outputs": [],
   "source": [
    "feature_names = list(vocab) + noun_vocab + verb_vocab + other_vocab + list(Xtrain.columns[2:12])"
   ]
  },
  {
   "cell_type": "code",
   "execution_count": 418,
   "metadata": {
    "collapsed": false,
    "scrolled": true
   },
   "outputs": [],
   "source": [
    "feature_importance = pd.Series(rf.feature_importances_,index = feature_names)"
   ]
  },
  {
   "cell_type": "code",
   "execution_count": 419,
   "metadata": {
    "collapsed": false
   },
   "outputs": [],
   "source": [
    "feature_importance.sort(ascending = False)"
   ]
  },
  {
   "cell_type": "code",
   "execution_count": 420,
   "metadata": {
    "collapsed": false
   },
   "outputs": [
    {
     "data": {
      "text/plain": [
       "laughter_per_word                      0.048545\n",
       "word_per_sec                           0.041195\n",
       "length                                 0.037920\n",
       "div_per_word                           0.037348\n",
       "applause_total                         0.036884\n",
       "num_para                               0.034394\n",
       "life                                   0.033276\n",
       "storywords                             0.025071\n",
       "story                                  0.022447\n",
       "question                               0.022444\n",
       "example                                0.022369\n",
       "become                                 0.021270\n",
       "ithinks                                0.021248\n",
       "talk                                   0.021218\n",
       "laugh_as_para                          0.021150\n",
       "understand                             0.020478\n",
       "idea                                   0.020116\n",
       "feel                                   0.019788\n",
       "show                                   0.019704\n",
       "leave                                  0.019057\n",
       "live                                   0.018983\n",
       "change                                 0.018977\n",
       "ask                                    0.018737\n",
       "percent                                0.018611\n",
       "should                                 0.018319\n",
       "part                                   0.018257\n",
       "today                                  0.018123\n",
       "problem                                0.017806\n",
       "bit                                    0.017754\n",
       "place                                  0.017001\n",
       "                                         ...   \n",
       "The Rise of Collaboration              0.003214\n",
       "How We Learn                           0.003119\n",
       "Spectacular Performance                0.002976\n",
       "How the Mind Works                     0.002940\n",
       "Africa: The Next Chapter               0.002902\n",
       "War and Peace                          0.002806\n",
       "Words About Words                      0.002805\n",
       "What Makes Us Happy?                   0.002650\n",
       "Peering into Space                     0.002427\n",
       "Talks from TED Fellows                 0.002419\n",
       "Animals That Amaze                     0.002208\n",
       "A Greener Future?                      0.002135\n",
       "Media With Meaning                     0.002093\n",
       "Live Music                             0.001775\n",
       "Might You Live a Great Deal Longer?    0.001735\n",
       "Is There a God?                        0.001689\n",
       "Ocean Wonders                          0.001371\n",
       "The Power of Cities                    0.001284\n",
       "Presentation Innovation                0.001133\n",
       "Numbers at Play                        0.001116\n",
       "TED in 3 Minutes                       0.001081\n",
       "Whipsmart Comedy                       0.000947\n",
       "Listening to Teachers                  0.000855\n",
       "The Charter for Compassion             0.000552\n",
       "Mission Blue Voyage                    0.000361\n",
       "Celebrating TEDWomen                   0.000188\n",
       "Food Matters                           0.000178\n",
       "TED Prize Winners                      0.000000\n",
       "Hidden Gems                            0.000000\n",
       "Best of the Web                        0.000000\n",
       "dtype: float64"
      ]
     },
     "execution_count": 420,
     "metadata": {},
     "output_type": "execute_result"
    }
   ],
   "source": [
    "feature_importance"
   ]
  },
  {
   "cell_type": "markdown",
   "metadata": {},
   "source": [
    "### 3.2 With cross_val_score "
   ]
  },
  {
   "cell_type": "markdown",
   "metadata": {},
   "source": [
    "transform Xdf1 to matrix, ydf is already an array"
   ]
  },
  {
   "cell_type": "code",
   "execution_count": 421,
   "metadata": {
    "collapsed": true
   },
   "outputs": [],
   "source": [
    "y = ydf"
   ]
  },
  {
   "cell_type": "code",
   "execution_count": 422,
   "metadata": {
    "collapsed": false
   },
   "outputs": [
    {
     "data": {
      "text/plain": [
       "(1535, 15)"
      ]
     },
     "execution_count": 422,
     "metadata": {},
     "output_type": "execute_result"
    }
   ],
   "source": [
    "Xdf1.shape"
   ]
  },
  {
   "cell_type": "code",
   "execution_count": 423,
   "metadata": {
    "collapsed": true
   },
   "outputs": [],
   "source": [
    "Xth = Xdf1['themes'].as_matrix()"
   ]
  },
  {
   "cell_type": "code",
   "execution_count": 424,
   "metadata": {
    "collapsed": false
   },
   "outputs": [],
   "source": [
    "Xth = Cvtheme.transform(Xth)"
   ]
  },
  {
   "cell_type": "code",
   "execution_count": 425,
   "metadata": {
    "collapsed": false
   },
   "outputs": [
    {
     "data": {
      "text/plain": [
       "array([0, 0, 0, 0, 0, 0, 1, 0, 0, 1, 0, 0, 0, 0, 0, 0, 0, 0, 0, 0, 1, 0, 0,\n",
       "       0, 0, 1, 0, 0, 0, 0, 0, 0, 0, 1, 0, 0, 0, 0, 0, 1, 0, 0, 0, 0, 0, 0,\n",
       "       0])"
      ]
     },
     "execution_count": 425,
     "metadata": {},
     "output_type": "execute_result"
    }
   ],
   "source": [
    "Xth.toarray()[0,:]"
   ]
  },
  {
   "cell_type": "code",
   "execution_count": 426,
   "metadata": {
    "collapsed": true
   },
   "outputs": [],
   "source": [
    "Xtext_other = vect_other.transform(Xdf1['text'].as_matrix())"
   ]
  },
  {
   "cell_type": "code",
   "execution_count": 427,
   "metadata": {
    "collapsed": true
   },
   "outputs": [],
   "source": [
    "X_noun = tf_noun.fit_transform(Xdf1['noun_token'].as_matrix())"
   ]
  },
  {
   "cell_type": "code",
   "execution_count": 428,
   "metadata": {
    "collapsed": true
   },
   "outputs": [],
   "source": [
    "X_verb = tf_verb.fit_transform(Xdf1['verb_token'].as_matrix())"
   ]
  },
  {
   "cell_type": "code",
   "execution_count": 429,
   "metadata": {
    "collapsed": true
   },
   "outputs": [],
   "source": [
    "X = np.concatenate([Xth.toarray(),X_noun.toarray(), X_verb.toarray(),\n",
    "                    Xtext_other.toarray(),scale(Xdf1.ix[:,2:12].as_matrix())],axis = 1)"
   ]
  },
  {
   "cell_type": "code",
   "execution_count": 430,
   "metadata": {
    "collapsed": false
   },
   "outputs": [],
   "source": [
    "score = cross_val_score(clf,X,y,cv = StratifiedKFold(y,n_folds = 5),scoring = 'f1')"
   ]
  },
  {
   "cell_type": "code",
   "execution_count": 431,
   "metadata": {
    "collapsed": false
   },
   "outputs": [
    {
     "name": "stdout",
     "output_type": "stream",
     "text": [
      "0.544144662709 [ 0.54962259  0.5501008   0.5175636   0.57834961  0.52508672]\n"
     ]
    }
   ],
   "source": [
    "print score.mean(),score"
   ]
  },
  {
   "cell_type": "code",
   "execution_count": 269,
   "metadata": {
    "collapsed": false
   },
   "outputs": [
    {
     "name": "stdout",
     "output_type": "stream",
     "text": [
      "0.517080949826 [ 0.51100164  0.53167215  0.51307857  0.51307819  0.51657421]\n"
     ]
    }
   ],
   "source": [
    "# this one has num_lan but does not have the noun and verbs from the captions\n",
    "print score.mean(),score"
   ]
  },
  {
   "cell_type": "code",
   "execution_count": 432,
   "metadata": {
    "collapsed": true
   },
   "outputs": [],
   "source": [
    "score3 = cross_val_score(svm,X,y,cv = StratifiedKFold(y,n_folds = 5),scoring = 'f1')"
   ]
  },
  {
   "cell_type": "code",
   "execution_count": 433,
   "metadata": {
    "collapsed": false
   },
   "outputs": [
    {
     "name": "stdout",
     "output_type": "stream",
     "text": [
      "0.497097900204 [ 0.43726246  0.53908583  0.49422802  0.50864857  0.50626462]\n"
     ]
    }
   ],
   "source": [
    "print score3.mean(),score3"
   ]
  },
  {
   "cell_type": "code",
   "execution_count": 271,
   "metadata": {
    "collapsed": false
   },
   "outputs": [
    {
     "name": "stdout",
     "output_type": "stream",
     "text": [
      "0.488740670094 [ 0.43706197  0.54650451  0.52757732  0.4924674   0.44009215]\n"
     ]
    }
   ],
   "source": [
    "# this one has num_lan but does not have the noun and verbs from the captions\n",
    "print score3.mean(),score3"
   ]
  },
  {
   "cell_type": "code",
   "execution_count": null,
   "metadata": {
    "collapsed": true
   },
   "outputs": [],
   "source": []
  }
 ],
 "metadata": {
  "kernelspec": {
   "display_name": "Python 2",
   "language": "python",
   "name": "python2"
  },
  "language_info": {
   "codemirror_mode": {
    "name": "ipython",
    "version": 2
   },
   "file_extension": ".py",
   "mimetype": "text/x-python",
   "name": "python",
   "nbconvert_exporter": "python",
   "pygments_lexer": "ipython2",
   "version": "2.7.9"
  }
 },
 "nbformat": 4,
 "nbformat_minor": 0
}
