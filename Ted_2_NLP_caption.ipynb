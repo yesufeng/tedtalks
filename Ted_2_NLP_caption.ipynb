{
 "cells": [
  {
   "cell_type": "markdown",
   "metadata": {},
   "source": [
    "# Transcript and NLP: Directly read in captions_f.json, that's all you need and selectively run cells from session 2"
   ]
  },
  {
   "cell_type": "code",
   "execution_count": 1,
   "metadata": {
    "collapsed": true
   },
   "outputs": [],
   "source": [
    "import pandas as pd\n",
    "import re\n",
    "import numpy as np\n",
    "import matplotlib.pylab as plt\n",
    "import seaborn as sns\n",
    "import unidecode\n",
    "%matplotlib inline\n",
    "import copy\n",
    "from nltk.corpus import stopwords\n",
    "from nltk import sent_tokenize"
   ]
  },
  {
   "cell_type": "code",
   "execution_count": 2,
   "metadata": {
    "collapsed": true
   },
   "outputs": [],
   "source": [
    "import scipy.stats as ss"
   ]
  },
  {
   "cell_type": "code",
   "execution_count": 3,
   "metadata": {
    "collapsed": true
   },
   "outputs": [],
   "source": [
    "import requests\n",
    "from pattern import web"
   ]
  },
  {
   "cell_type": "markdown",
   "metadata": {},
   "source": [
    "## Get the transcripts "
   ]
  },
  {
   "cell_type": "code",
   "execution_count": 4,
   "metadata": {
    "collapsed": true
   },
   "outputs": [],
   "source": [
    "# define a function to extract caption info and put into a df\n",
    "def capdfget(talkid):\n",
    "    capurl = 'https://api.ted.com/v1/talks/'+str(talkid)+'/captions.json?api-key=ynw2u8e4h9sk8c2htp7vutxq'\n",
    "    capresponse = requests.get(capurl)\n",
    "    try:\n",
    "        captions = capresponse.json()['captions']\n",
    "    except KeyError:\n",
    "        print 'no captions, talkid: {}'.format(talkid)\n",
    "        return\n",
    "    captions = [x['caption'] for x in captions]\n",
    "    capdf = pd.DataFrame(captions)\n",
    "    capdf['id'] = talkid\n",
    "    return capdf"
   ]
  },
  {
   "cell_type": "code",
   "execution_count": 5,
   "metadata": {
    "collapsed": true
   },
   "outputs": [],
   "source": [
    "cap_talk1 = capdfget(1)"
   ]
  },
  {
   "cell_type": "code",
   "execution_count": 8,
   "metadata": {
    "collapsed": false
   },
   "outputs": [],
   "source": [
    "cap_talk1.columns = ['Subtitle','Duration (ms)','Start of Paragraph', 'Start Time (ms)','id']"
   ]
  },
  {
   "cell_type": "code",
   "execution_count": 12,
   "metadata": {
    "collapsed": false
   },
   "outputs": [
    {
     "data": {
      "text/html": [
       "<div style=\"max-height:1000px;max-width:1500px;overflow:auto;\">\n",
       "<table border=\"1\" class=\"dataframe\">\n",
       "  <thead>\n",
       "    <tr style=\"text-align: right;\">\n",
       "      <th></th>\n",
       "      <th>Subtitle</th>\n",
       "      <th>Duration (ms)</th>\n",
       "      <th>Start of Paragraph</th>\n",
       "      <th>Start Time (ms)</th>\n",
       "    </tr>\n",
       "  </thead>\n",
       "  <tbody>\n",
       "    <tr>\n",
       "      <th>0</th>\n",
       "      <td>Thank you so much, Chris. And it's truly a gre...</td>\n",
       "      <td>4000</td>\n",
       "      <td>True</td>\n",
       "      <td>3000</td>\n",
       "    </tr>\n",
       "    <tr>\n",
       "      <th>1</th>\n",
       "      <td>to have the opportunity to come to this stage ...</td>\n",
       "      <td>4000</td>\n",
       "      <td>False</td>\n",
       "      <td>7000</td>\n",
       "    </tr>\n",
       "    <tr>\n",
       "      <th>2</th>\n",
       "      <td>I have been blown away by this conference, and...</td>\n",
       "      <td>7000</td>\n",
       "      <td>False</td>\n",
       "      <td>11000</td>\n",
       "    </tr>\n",
       "    <tr>\n",
       "      <th>3</th>\n",
       "      <td>nice comments about what I had to say the othe...</td>\n",
       "      <td>5000</td>\n",
       "      <td>False</td>\n",
       "      <td>18000</td>\n",
       "    </tr>\n",
       "    <tr>\n",
       "      <th>4</th>\n",
       "      <td>And I say that sincerely, partly because -- (M...</td>\n",
       "      <td>12000</td>\n",
       "      <td>False</td>\n",
       "      <td>23000</td>\n",
       "    </tr>\n",
       "    <tr>\n",
       "      <th>5</th>\n",
       "      <td>Put yourselves in my position!</td>\n",
       "      <td>8000</td>\n",
       "      <td>False</td>\n",
       "      <td>35000</td>\n",
       "    </tr>\n",
       "    <tr>\n",
       "      <th>6</th>\n",
       "      <td>I flew on Air Force Two for eight years.</td>\n",
       "      <td>5000</td>\n",
       "      <td>False</td>\n",
       "      <td>43000</td>\n",
       "    </tr>\n",
       "    <tr>\n",
       "      <th>7</th>\n",
       "      <td>Now I have to take off my shoes or boots to ge...</td>\n",
       "      <td>3000</td>\n",
       "      <td>False</td>\n",
       "      <td>48000</td>\n",
       "    </tr>\n",
       "    <tr>\n",
       "      <th>8</th>\n",
       "      <td>(Laughter) (Applause)</td>\n",
       "      <td>9000</td>\n",
       "      <td>False</td>\n",
       "      <td>51000</td>\n",
       "    </tr>\n",
       "    <tr>\n",
       "      <th>9</th>\n",
       "      <td>I'll tell you one quick story to illustrate wh...</td>\n",
       "      <td>7000</td>\n",
       "      <td>True</td>\n",
       "      <td>60000</td>\n",
       "    </tr>\n",
       "    <tr>\n",
       "      <th>10</th>\n",
       "      <td>It's a true story -- every bit of this is true.</td>\n",
       "      <td>3000</td>\n",
       "      <td>False</td>\n",
       "      <td>67000</td>\n",
       "    </tr>\n",
       "  </tbody>\n",
       "</table>\n",
       "</div>"
      ],
      "text/plain": [
       "                                             Subtitle  Duration (ms)  \\\n",
       "0   Thank you so much, Chris. And it's truly a gre...           4000   \n",
       "1   to have the opportunity to come to this stage ...           4000   \n",
       "2   I have been blown away by this conference, and...           7000   \n",
       "3   nice comments about what I had to say the othe...           5000   \n",
       "4   And I say that sincerely, partly because -- (M...          12000   \n",
       "5                      Put yourselves in my position!           8000   \n",
       "6            I flew on Air Force Two for eight years.           5000   \n",
       "7   Now I have to take off my shoes or boots to ge...           3000   \n",
       "8                               (Laughter) (Applause)           9000   \n",
       "9   I'll tell you one quick story to illustrate wh...           7000   \n",
       "10    It's a true story -- every bit of this is true.           3000   \n",
       "\n",
       "   Start of Paragraph  Start Time (ms)  \n",
       "0                True             3000  \n",
       "1               False             7000  \n",
       "2               False            11000  \n",
       "3               False            18000  \n",
       "4               False            23000  \n",
       "5               False            35000  \n",
       "6               False            43000  \n",
       "7               False            48000  \n",
       "8               False            51000  \n",
       "9                True            60000  \n",
       "10              False            67000  "
      ]
     },
     "execution_count": 12,
     "metadata": {},
     "output_type": "execute_result"
    }
   ],
   "source": [
    "cap_talk1.drop('id',axis = 1).head(11)"
   ]
  },
  {
   "cell_type": "markdown",
   "metadata": {},
   "source": [
    "### Get the ids that are orignal editted by TED "
   ]
  },
  {
   "cell_type": "code",
   "execution_count": 429,
   "metadata": {
    "collapsed": false
   },
   "outputs": [],
   "source": [
    "tedids = pd.read_csv('tedtalkid.csv',header = None)"
   ]
  },
  {
   "cell_type": "code",
   "execution_count": 430,
   "metadata": {
    "collapsed": false
   },
   "outputs": [],
   "source": [
    "tedids.columns = ['id']"
   ]
  },
  {
   "cell_type": "code",
   "execution_count": 431,
   "metadata": {
    "collapsed": false
   },
   "outputs": [],
   "source": [
    "idlist = list(tedids['id'])"
   ]
  },
  {
   "cell_type": "code",
   "execution_count": 432,
   "metadata": {
    "collapsed": false
   },
   "outputs": [
    {
     "data": {
      "text/plain": [
       "1905"
      ]
     },
     "execution_count": 432,
     "metadata": {},
     "output_type": "execute_result"
    }
   ],
   "source": [
    "len(idlist)"
   ]
  },
  {
   "cell_type": "code",
   "execution_count": 433,
   "metadata": {
    "collapsed": false
   },
   "outputs": [
    {
     "name": "stdout",
     "output_type": "stream",
     "text": [
      "no captions, talkid: 24\n",
      "no captions, talkid: 138\n",
      "no captions, talkid: 169\n",
      "no captions, talkid: 186\n",
      "no captions, talkid: 265\n",
      "no captions, talkid: 290\n",
      "no captions, talkid: 478\n",
      "no captions, talkid: 541\n",
      "no captions, talkid: 581\n",
      "no captions, talkid: 631\n",
      "no captions, talkid: 672\n",
      "no captions, talkid: 745\n",
      "no captions, talkid: 787\n",
      "no captions, talkid: 870\n",
      "no captions, talkid: 1358\n",
      "no captions, talkid: 1418\n",
      "no captions, talkid: 1439\n",
      "no captions, talkid: 2253\n",
      "--- 2353.15383315 seconds ---\n"
     ]
    }
   ],
   "source": [
    "# loop to get all captions\n",
    "import time\n",
    "tedcap_list = []\n",
    "start_time = time.time()\n",
    "for talkid in idlist:\n",
    "    time.sleep(0.3)\n",
    "    tedcap = capdfget(talkid)\n",
    "    tedcap_list.append(tedcap)\n",
    "\n",
    "print(\"--- %s seconds ---\" % (time.time() - start_time))"
   ]
  },
  {
   "cell_type": "code",
   "execution_count": 434,
   "metadata": {
    "collapsed": false
   },
   "outputs": [
    {
     "data": {
      "text/plain": [
       "1905"
      ]
     },
     "execution_count": 434,
     "metadata": {},
     "output_type": "execute_result"
    }
   ],
   "source": [
    "len(tedcap_list)"
   ]
  },
  {
   "cell_type": "code",
   "execution_count": 437,
   "metadata": {
    "collapsed": true
   },
   "outputs": [],
   "source": [
    "nocaps = [24,138,169,186,265,290,478,541,581,631,672,745,787,870,1358,1418,1439,2253]"
   ]
  },
  {
   "cell_type": "code",
   "execution_count": 440,
   "metadata": {
    "collapsed": false
   },
   "outputs": [],
   "source": [
    "tedcap_list = [x for x in tedcap_list if x is not None]"
   ]
  },
  {
   "cell_type": "code",
   "execution_count": 443,
   "metadata": {
    "collapsed": false
   },
   "outputs": [
    {
     "data": {
      "text/plain": [
       "1905"
      ]
     },
     "execution_count": 443,
     "metadata": {},
     "output_type": "execute_result"
    }
   ],
   "source": [
    "len(tedcap_list) + len(nocaps)"
   ]
  },
  {
   "cell_type": "code",
   "execution_count": 444,
   "metadata": {
    "collapsed": true
   },
   "outputs": [],
   "source": [
    "tedcapdf = pd.concat(tedcap_list)"
   ]
  },
  {
   "cell_type": "code",
   "execution_count": 445,
   "metadata": {
    "collapsed": false
   },
   "outputs": [
    {
     "data": {
      "text/html": [
       "<div style=\"max-height:1000px;max-width:1500px;overflow:auto;\">\n",
       "<table border=\"1\" class=\"dataframe\">\n",
       "  <thead>\n",
       "    <tr style=\"text-align: right;\">\n",
       "      <th></th>\n",
       "      <th>content</th>\n",
       "      <th>duration</th>\n",
       "      <th>startOfParagraph</th>\n",
       "      <th>startTime</th>\n",
       "      <th>id</th>\n",
       "    </tr>\n",
       "  </thead>\n",
       "  <tbody>\n",
       "    <tr>\n",
       "      <th>0</th>\n",
       "      <td>Thank you so much, Chris. And it's truly a gre...</td>\n",
       "      <td>4000</td>\n",
       "      <td>True</td>\n",
       "      <td>3000</td>\n",
       "      <td>1</td>\n",
       "    </tr>\n",
       "    <tr>\n",
       "      <th>1</th>\n",
       "      <td>to have the opportunity to come to this stage ...</td>\n",
       "      <td>4000</td>\n",
       "      <td>False</td>\n",
       "      <td>7000</td>\n",
       "      <td>1</td>\n",
       "    </tr>\n",
       "    <tr>\n",
       "      <th>2</th>\n",
       "      <td>I have been blown away by this conference, and...</td>\n",
       "      <td>7000</td>\n",
       "      <td>False</td>\n",
       "      <td>11000</td>\n",
       "      <td>1</td>\n",
       "    </tr>\n",
       "    <tr>\n",
       "      <th>3</th>\n",
       "      <td>nice comments about what I had to say the othe...</td>\n",
       "      <td>5000</td>\n",
       "      <td>False</td>\n",
       "      <td>18000</td>\n",
       "      <td>1</td>\n",
       "    </tr>\n",
       "    <tr>\n",
       "      <th>4</th>\n",
       "      <td>And I say that sincerely, partly because -- (M...</td>\n",
       "      <td>12000</td>\n",
       "      <td>False</td>\n",
       "      <td>23000</td>\n",
       "      <td>1</td>\n",
       "    </tr>\n",
       "  </tbody>\n",
       "</table>\n",
       "</div>"
      ],
      "text/plain": [
       "                                             content  duration  \\\n",
       "0  Thank you so much, Chris. And it's truly a gre...      4000   \n",
       "1  to have the opportunity to come to this stage ...      4000   \n",
       "2  I have been blown away by this conference, and...      7000   \n",
       "3  nice comments about what I had to say the othe...      5000   \n",
       "4  And I say that sincerely, partly because -- (M...     12000   \n",
       "\n",
       "  startOfParagraph  startTime  id  \n",
       "0             True       3000   1  \n",
       "1            False       7000   1  \n",
       "2            False      11000   1  \n",
       "3            False      18000   1  \n",
       "4            False      23000   1  "
      ]
     },
     "execution_count": 445,
     "metadata": {},
     "output_type": "execute_result"
    }
   ],
   "source": [
    "tedcapdf.head()"
   ]
  },
  {
   "cell_type": "code",
   "execution_count": 446,
   "metadata": {
    "collapsed": false
   },
   "outputs": [
    {
     "name": "stdout",
     "output_type": "stream",
     "text": [
      "<class 'pandas.core.frame.DataFrame'>\n",
      "Int64Index: 525171 entries, 0 to 183\n",
      "Data columns (total 5 columns):\n",
      "content             525171 non-null object\n",
      "duration            525171 non-null int64\n",
      "startOfParagraph    525171 non-null bool\n",
      "startTime           525171 non-null int64\n",
      "id                  525171 non-null int64\n",
      "dtypes: bool(1), int64(3), object(1)\n",
      "memory usage: 20.5+ MB\n"
     ]
    }
   ],
   "source": [
    "tedcapdf.info()"
   ]
  },
  {
   "cell_type": "code",
   "execution_count": 448,
   "metadata": {
    "collapsed": false
   },
   "outputs": [],
   "source": [
    "tedcapdf.reset_index(inplace = True)"
   ]
  },
  {
   "cell_type": "code",
   "execution_count": 456,
   "metadata": {
    "collapsed": false
   },
   "outputs": [],
   "source": [
    "tedcapdf.set_index(['id','index'],inplace = True)"
   ]
  },
  {
   "cell_type": "code",
   "execution_count": 463,
   "metadata": {
    "collapsed": true
   },
   "outputs": [],
   "source": [
    "tedcapdf.to_csv('tedcaption.csv',encoding = 'utf-8',)"
   ]
  },
  {
   "cell_type": "markdown",
   "metadata": {},
   "source": [
    "##Read in the caption data "
   ]
  },
  {
   "cell_type": "code",
   "execution_count": 39,
   "metadata": {
    "collapsed": false
   },
   "outputs": [],
   "source": [
    "capdata = pd.read_csv('tedcaption.csv',encoding = 'utf-8',index_col = ['id','index'])"
   ]
  },
  {
   "cell_type": "markdown",
   "metadata": {},
   "source": [
    "#### Derive some basic features such as: duration, words/time, number of paragraphs "
   ]
  },
  {
   "cell_type": "code",
   "execution_count": 40,
   "metadata": {
    "collapsed": false
   },
   "outputs": [
    {
     "data": {
      "text/html": [
       "<div style=\"max-height:1000px;max-width:1500px;overflow:auto;\">\n",
       "<table border=\"1\" class=\"dataframe\">\n",
       "  <thead>\n",
       "    <tr style=\"text-align: right;\">\n",
       "      <th></th>\n",
       "      <th></th>\n",
       "      <th>content</th>\n",
       "      <th>duration</th>\n",
       "      <th>startOfParagraph</th>\n",
       "      <th>startTime</th>\n",
       "    </tr>\n",
       "    <tr>\n",
       "      <th>id</th>\n",
       "      <th>index</th>\n",
       "      <th></th>\n",
       "      <th></th>\n",
       "      <th></th>\n",
       "      <th></th>\n",
       "    </tr>\n",
       "  </thead>\n",
       "  <tbody>\n",
       "    <tr>\n",
       "      <th rowspan=\"5\" valign=\"top\">1</th>\n",
       "      <th>0</th>\n",
       "      <td>Thank you so much, Chris. And it's truly a gre...</td>\n",
       "      <td>4000</td>\n",
       "      <td>True</td>\n",
       "      <td>3000</td>\n",
       "    </tr>\n",
       "    <tr>\n",
       "      <th>1</th>\n",
       "      <td>to have the opportunity to come to this stage ...</td>\n",
       "      <td>4000</td>\n",
       "      <td>False</td>\n",
       "      <td>7000</td>\n",
       "    </tr>\n",
       "    <tr>\n",
       "      <th>2</th>\n",
       "      <td>I have been blown away by this conference, and...</td>\n",
       "      <td>7000</td>\n",
       "      <td>False</td>\n",
       "      <td>11000</td>\n",
       "    </tr>\n",
       "    <tr>\n",
       "      <th>3</th>\n",
       "      <td>nice comments about what I had to say the othe...</td>\n",
       "      <td>5000</td>\n",
       "      <td>False</td>\n",
       "      <td>18000</td>\n",
       "    </tr>\n",
       "    <tr>\n",
       "      <th>4</th>\n",
       "      <td>And I say that sincerely, partly because -- (M...</td>\n",
       "      <td>12000</td>\n",
       "      <td>False</td>\n",
       "      <td>23000</td>\n",
       "    </tr>\n",
       "  </tbody>\n",
       "</table>\n",
       "</div>"
      ],
      "text/plain": [
       "                                                    content  duration  \\\n",
       "id index                                                                \n",
       "1  0      Thank you so much, Chris. And it's truly a gre...      4000   \n",
       "   1      to have the opportunity to come to this stage ...      4000   \n",
       "   2      I have been blown away by this conference, and...      7000   \n",
       "   3      nice comments about what I had to say the othe...      5000   \n",
       "   4      And I say that sincerely, partly because -- (M...     12000   \n",
       "\n",
       "         startOfParagraph  startTime  \n",
       "id index                              \n",
       "1  0                 True       3000  \n",
       "   1                False       7000  \n",
       "   2                False      11000  \n",
       "   3                False      18000  \n",
       "   4                False      23000  "
      ]
     },
     "execution_count": 40,
     "metadata": {},
     "output_type": "execute_result"
    }
   ],
   "source": [
    "capdata.head()"
   ]
  },
  {
   "cell_type": "code",
   "execution_count": 41,
   "metadata": {
    "collapsed": false
   },
   "outputs": [
    {
     "data": {
      "text/plain": [
       "3000"
      ]
     },
     "execution_count": 41,
     "metadata": {},
     "output_type": "execute_result"
    }
   ],
   "source": [
    "capdata.ix[1].loc[0]['startTime']"
   ]
  },
  {
   "cell_type": "markdown",
   "metadata": {},
   "source": [
    "#### 1. talk length "
   ]
  },
  {
   "cell_type": "code",
   "execution_count": 42,
   "metadata": {
    "collapsed": true
   },
   "outputs": [],
   "source": [
    "lengths = []\n",
    "for ind in capdata.index.levels[0].values:\n",
    "    length = capdata.ix[ind].iloc[-1]['startTime'] - capdata.ix[ind].iloc[0]['startTime'] \n",
    "    + capdata.ix[ind].iloc[-1]['duration']\n",
    "    length = length / 1000.\n",
    "    lengths.append(length)"
   ]
  },
  {
   "cell_type": "code",
   "execution_count": 43,
   "metadata": {
    "collapsed": false
   },
   "outputs": [
    {
     "data": {
      "text/plain": [
       "1887"
      ]
     },
     "execution_count": 43,
     "metadata": {},
     "output_type": "execute_result"
    }
   ],
   "source": [
    "len(lengths)"
   ]
  },
  {
   "cell_type": "markdown",
   "metadata": {},
   "source": [
    "####2.  words count"
   ]
  },
  {
   "cell_type": "code",
   "execution_count": 44,
   "metadata": {
    "collapsed": false
   },
   "outputs": [],
   "source": [
    "# very raw version, ignore special characters,\n",
    "# ignore parenthesis at this moment\n",
    "# test = capdata.ix[1].iloc[0]['content']\n",
    "capdata['wordscount']=capdata['content'].apply(lambda x: len(x.split(' ')))"
   ]
  },
  {
   "cell_type": "code",
   "execution_count": 45,
   "metadata": {
    "collapsed": true
   },
   "outputs": [],
   "source": [
    "wordscount = capdata['wordscount'].sum(level = 'id')"
   ]
  },
  {
   "cell_type": "code",
   "execution_count": 46,
   "metadata": {
    "collapsed": false
   },
   "outputs": [
    {
     "data": {
      "text/plain": [
       "count    1887.000000\n",
       "mean     2095.108108\n",
       "std      1007.078145\n",
       "min         2.000000\n",
       "25%      1281.500000\n",
       "50%      2145.000000\n",
       "75%      2828.000000\n",
       "max      6501.000000\n",
       "Name: wordscount, dtype: float64"
      ]
     },
     "execution_count": 46,
     "metadata": {},
     "output_type": "execute_result"
    }
   ],
   "source": [
    "wordscount.describe()"
   ]
  },
  {
   "cell_type": "markdown",
   "metadata": {},
   "source": [
    "####3. number of paragraph "
   ]
  },
  {
   "cell_type": "code",
   "execution_count": 47,
   "metadata": {
    "collapsed": true
   },
   "outputs": [],
   "source": [
    "num_para = capdata.startOfParagraph.sum(level = 'id')"
   ]
  },
  {
   "cell_type": "code",
   "execution_count": 48,
   "metadata": {
    "collapsed": false
   },
   "outputs": [
    {
     "data": {
      "text/plain": [
       "count    1887.000000\n",
       "mean       24.385268\n",
       "std        19.056579\n",
       "min         1.000000\n",
       "25%        15.000000\n",
       "50%        21.000000\n",
       "75%        29.000000\n",
       "max       276.000000\n",
       "Name: startOfParagraph, dtype: float64"
      ]
     },
     "execution_count": 48,
     "metadata": {},
     "output_type": "execute_result"
    }
   ],
   "source": [
    "num_para.describe()"
   ]
  },
  {
   "cell_type": "markdown",
   "metadata": {},
   "source": [
    "####Form a capstat dataframe "
   ]
  },
  {
   "cell_type": "code",
   "execution_count": 49,
   "metadata": {
    "collapsed": true
   },
   "outputs": [],
   "source": [
    "capstat = pd.DataFrame(dict(wordcounts = wordscount, num_para = num_para, length = lengths))"
   ]
  },
  {
   "cell_type": "code",
   "execution_count": 50,
   "metadata": {
    "collapsed": false
   },
   "outputs": [
    {
     "name": "stdout",
     "output_type": "stream",
     "text": [
      "<class 'pandas.core.frame.DataFrame'>\n",
      "Int64Index: 1887 entries, 1 to 2251\n",
      "Data columns (total 3 columns):\n",
      "length        1887 non-null float64\n",
      "num_para      1887 non-null float64\n",
      "wordcounts    1887 non-null int64\n",
      "dtypes: float64(2), int64(1)\n",
      "memory usage: 59.0 KB\n"
     ]
    }
   ],
   "source": [
    "capstat.info()"
   ]
  },
  {
   "cell_type": "markdown",
   "metadata": {},
   "source": [
    "#### import talks and save the ones that have captions into two final jsons, big and small talks df"
   ]
  },
  {
   "cell_type": "code",
   "execution_count": 51,
   "metadata": {
    "collapsed": false
   },
   "outputs": [],
   "source": [
    "# read in the talks_small.json\n",
    "talks_f = pd.read_json('talks_f.json')"
   ]
  },
  {
   "cell_type": "code",
   "execution_count": 52,
   "metadata": {
    "collapsed": true
   },
   "outputs": [],
   "source": [
    "talks_f.reset_index(drop = True, inplace = True)"
   ]
  },
  {
   "cell_type": "code",
   "execution_count": 53,
   "metadata": {
    "collapsed": true
   },
   "outputs": [],
   "source": [
    "talks_small = talks_f.drop(['slug','event_name','image_16x9','images','media','tags'],axis = 1)"
   ]
  },
  {
   "cell_type": "code",
   "execution_count": 54,
   "metadata": {
    "collapsed": false
   },
   "outputs": [
    {
     "data": {
      "text/plain": [
       "(1976, 31)"
      ]
     },
     "execution_count": 54,
     "metadata": {},
     "output_type": "execute_result"
    }
   ],
   "source": [
    "talks_small.shape"
   ]
  },
  {
   "cell_type": "code",
   "execution_count": 55,
   "metadata": {
    "collapsed": false
   },
   "outputs": [
    {
     "data": {
      "text/plain": [
       "Index([u'length', u'num_para', u'wordcounts'], dtype='object')"
      ]
     },
     "execution_count": 55,
     "metadata": {},
     "output_type": "execute_result"
    }
   ],
   "source": [
    "capstat.columns"
   ]
  },
  {
   "cell_type": "code",
   "execution_count": 56,
   "metadata": {
    "collapsed": false
   },
   "outputs": [
    {
     "data": {
      "text/html": [
       "<div style=\"max-height:1000px;max-width:1500px;overflow:auto;\">\n",
       "<table border=\"1\" class=\"dataframe\">\n",
       "  <thead>\n",
       "    <tr style=\"text-align: right;\">\n",
       "      <th></th>\n",
       "      <th>length</th>\n",
       "      <th>num_para</th>\n",
       "      <th>wordcounts</th>\n",
       "    </tr>\n",
       "    <tr>\n",
       "      <th>id</th>\n",
       "      <th></th>\n",
       "      <th></th>\n",
       "      <th></th>\n",
       "    </tr>\n",
       "  </thead>\n",
       "  <tbody>\n",
       "    <tr>\n",
       "      <th>1</th>\n",
       "      <td>944</td>\n",
       "      <td>16</td>\n",
       "      <td>2139</td>\n",
       "    </tr>\n",
       "    <tr>\n",
       "      <th>2</th>\n",
       "      <td>879</td>\n",
       "      <td>27</td>\n",
       "      <td>2604</td>\n",
       "    </tr>\n",
       "    <tr>\n",
       "      <th>3</th>\n",
       "      <td>1099</td>\n",
       "      <td>22</td>\n",
       "      <td>2485</td>\n",
       "    </tr>\n",
       "    <tr>\n",
       "      <th>4</th>\n",
       "      <td>1152</td>\n",
       "      <td>28</td>\n",
       "      <td>3059</td>\n",
       "    </tr>\n",
       "    <tr>\n",
       "      <th>5</th>\n",
       "      <td>1177</td>\n",
       "      <td>28</td>\n",
       "      <td>3760</td>\n",
       "    </tr>\n",
       "  </tbody>\n",
       "</table>\n",
       "</div>"
      ],
      "text/plain": [
       "    length  num_para  wordcounts\n",
       "id                              \n",
       "1      944        16        2139\n",
       "2      879        27        2604\n",
       "3     1099        22        2485\n",
       "4     1152        28        3059\n",
       "5     1177        28        3760"
      ]
     },
     "execution_count": 56,
     "metadata": {},
     "output_type": "execute_result"
    }
   ],
   "source": [
    "capstat.head()"
   ]
  },
  {
   "cell_type": "code",
   "execution_count": 57,
   "metadata": {
    "collapsed": false
   },
   "outputs": [],
   "source": [
    "# great a mask to select only talks with captions\n",
    "capmask = talks_small['id'].isin(capstat.index.values)"
   ]
  },
  {
   "cell_type": "code",
   "execution_count": 58,
   "metadata": {
    "collapsed": false
   },
   "outputs": [
    {
     "data": {
      "text/plain": [
       "1885"
      ]
     },
     "execution_count": 58,
     "metadata": {},
     "output_type": "execute_result"
    }
   ],
   "source": [
    "capmask.sum()"
   ]
  },
  {
   "cell_type": "markdown",
   "metadata": {},
   "source": [
    "###talk_df_small and talk_df_large serve as final dataset (talks all with captions) "
   ]
  },
  {
   "cell_type": "code",
   "execution_count": 59,
   "metadata": {
    "collapsed": false
   },
   "outputs": [],
   "source": [
    "import copy\n",
    "talk_df_small = talks_small[capmask].copy()"
   ]
  },
  {
   "cell_type": "code",
   "execution_count": 60,
   "metadata": {
    "collapsed": false
   },
   "outputs": [
    {
     "data": {
      "text/plain": [
       "(1885, 31)"
      ]
     },
     "execution_count": 60,
     "metadata": {},
     "output_type": "execute_result"
    }
   ],
   "source": [
    "talk_df_small.shape"
   ]
  },
  {
   "cell_type": "markdown",
   "metadata": {},
   "source": [
    "### Before saving talk_df_small, process the keywords and description columns "
   ]
  },
  {
   "cell_type": "code",
   "execution_count": 61,
   "metadata": {
    "collapsed": false
   },
   "outputs": [],
   "source": [
    "keywords = talk_df_small.keywords.apply(lambda x:' '.join(x))"
   ]
  },
  {
   "cell_type": "code",
   "execution_count": 62,
   "metadata": {
    "collapsed": false
   },
   "outputs": [],
   "source": [
    "talk_df_small.drop('keywords',axis = 1, inplace = True)"
   ]
  },
  {
   "cell_type": "code",
   "execution_count": 63,
   "metadata": {
    "collapsed": false
   },
   "outputs": [],
   "source": [
    "talk_df_small['keywords']= keywords"
   ]
  },
  {
   "cell_type": "code",
   "execution_count": 64,
   "metadata": {
    "collapsed": false
   },
   "outputs": [
    {
     "data": {
      "text/plain": [
       "0    Presentation Innovation A Greener Future? Bold...\n",
       "1    A Greener Future? Tales of Invention Rethinkin...\n",
       "2    What's Next in Tech TED Conference TED Fellows...\n",
       "4    Words About Words TEDx creativity crime educat...\n",
       "5    Evolution's Genius How the Mind Works Unconven...\n",
       "Name: keywords, dtype: object"
      ]
     },
     "execution_count": 64,
     "metadata": {},
     "output_type": "execute_result"
    }
   ],
   "source": [
    "talk_df_small.keywords[:5]"
   ]
  },
  {
   "cell_type": "code",
   "execution_count": 65,
   "metadata": {
    "collapsed": true
   },
   "outputs": [],
   "source": [
    "talk_df_large = talks_f[talks_f['id'].isin(talk_df_small['id'])].copy()"
   ]
  },
  {
   "cell_type": "code",
   "execution_count": 66,
   "metadata": {
    "collapsed": false
   },
   "outputs": [],
   "source": [
    "talk_df_large['keywords'] = talk_df_small['keywords']"
   ]
  },
  {
   "cell_type": "code",
   "execution_count": 33,
   "metadata": {
    "collapsed": true
   },
   "outputs": [],
   "source": [
    "talk_df_large.to_json('talk_df_large.json')"
   ]
  },
  {
   "cell_type": "code",
   "execution_count": 289,
   "metadata": {
    "collapsed": true
   },
   "outputs": [],
   "source": [
    "talk_df_small.to_json('talk_df_small.json')"
   ]
  },
  {
   "cell_type": "markdown",
   "metadata": {},
   "source": [
    "####Note 2 talks were not updated when the general dataframe was downloaded, they are: id = 2249, 2251"
   ]
  },
  {
   "cell_type": "code",
   "execution_count": 67,
   "metadata": {
    "collapsed": true
   },
   "outputs": [],
   "source": [
    "new_talk_ids = set(capstat.index.values)"
   ]
  },
  {
   "cell_type": "code",
   "execution_count": 68,
   "metadata": {
    "collapsed": false
   },
   "outputs": [],
   "source": [
    "old_talk_ids = set(talks_small['id'][capmask])"
   ]
  },
  {
   "cell_type": "code",
   "execution_count": 69,
   "metadata": {
    "collapsed": true
   },
   "outputs": [],
   "source": [
    "new_talks = new_talk_ids.difference(old_talk_ids)"
   ]
  },
  {
   "cell_type": "code",
   "execution_count": 70,
   "metadata": {
    "collapsed": false
   },
   "outputs": [
    {
     "data": {
      "text/plain": [
       "{2249, 2251}"
      ]
     },
     "execution_count": 70,
     "metadata": {},
     "output_type": "execute_result"
    }
   ],
   "source": [
    "new_talks"
   ]
  },
  {
   "cell_type": "code",
   "execution_count": 71,
   "metadata": {
    "collapsed": true
   },
   "outputs": [],
   "source": [
    "tmp = capstat[:-2]"
   ]
  },
  {
   "cell_type": "code",
   "execution_count": 72,
   "metadata": {
    "collapsed": false
   },
   "outputs": [
    {
     "data": {
      "text/html": [
       "<div style=\"max-height:1000px;max-width:1500px;overflow:auto;\">\n",
       "<table border=\"1\" class=\"dataframe\">\n",
       "  <thead>\n",
       "    <tr style=\"text-align: right;\">\n",
       "      <th></th>\n",
       "      <th>length</th>\n",
       "      <th>num_para</th>\n",
       "      <th>wordcounts</th>\n",
       "    </tr>\n",
       "    <tr>\n",
       "      <th>id</th>\n",
       "      <th></th>\n",
       "      <th></th>\n",
       "      <th></th>\n",
       "    </tr>\n",
       "  </thead>\n",
       "  <tbody>\n",
       "    <tr>\n",
       "      <th>2244</th>\n",
       "      <td>334.857</td>\n",
       "      <td>19</td>\n",
       "      <td>1049</td>\n",
       "    </tr>\n",
       "    <tr>\n",
       "      <th>2245</th>\n",
       "      <td>233.380</td>\n",
       "      <td>8</td>\n",
       "      <td>614</td>\n",
       "    </tr>\n",
       "    <tr>\n",
       "      <th>2246</th>\n",
       "      <td>1054.237</td>\n",
       "      <td>42</td>\n",
       "      <td>2382</td>\n",
       "    </tr>\n",
       "    <tr>\n",
       "      <th>2247</th>\n",
       "      <td>940.533</td>\n",
       "      <td>28</td>\n",
       "      <td>2323</td>\n",
       "    </tr>\n",
       "    <tr>\n",
       "      <th>2248</th>\n",
       "      <td>546.408</td>\n",
       "      <td>66</td>\n",
       "      <td>1022</td>\n",
       "    </tr>\n",
       "  </tbody>\n",
       "</table>\n",
       "</div>"
      ],
      "text/plain": [
       "        length  num_para  wordcounts\n",
       "id                                  \n",
       "2244   334.857        19        1049\n",
       "2245   233.380         8         614\n",
       "2246  1054.237        42        2382\n",
       "2247   940.533        28        2323\n",
       "2248   546.408        66        1022"
      ]
     },
     "execution_count": 72,
     "metadata": {},
     "output_type": "execute_result"
    }
   ],
   "source": [
    "tmp.tail()"
   ]
  },
  {
   "cell_type": "code",
   "execution_count": 73,
   "metadata": {
    "collapsed": true
   },
   "outputs": [],
   "source": [
    "tmp.reset_index(inplace = True)"
   ]
  },
  {
   "cell_type": "code",
   "execution_count": 74,
   "metadata": {
    "collapsed": false
   },
   "outputs": [
    {
     "data": {
      "text/html": [
       "<div style=\"max-height:1000px;max-width:1500px;overflow:auto;\">\n",
       "<table border=\"1\" class=\"dataframe\">\n",
       "  <thead>\n",
       "    <tr style=\"text-align: right;\">\n",
       "      <th></th>\n",
       "      <th>id</th>\n",
       "      <th>length</th>\n",
       "      <th>num_para</th>\n",
       "      <th>wordcounts</th>\n",
       "    </tr>\n",
       "  </thead>\n",
       "  <tbody>\n",
       "    <tr>\n",
       "      <th>0</th>\n",
       "      <td>1</td>\n",
       "      <td>944</td>\n",
       "      <td>16</td>\n",
       "      <td>2139</td>\n",
       "    </tr>\n",
       "    <tr>\n",
       "      <th>1</th>\n",
       "      <td>2</td>\n",
       "      <td>879</td>\n",
       "      <td>27</td>\n",
       "      <td>2604</td>\n",
       "    </tr>\n",
       "    <tr>\n",
       "      <th>2</th>\n",
       "      <td>3</td>\n",
       "      <td>1099</td>\n",
       "      <td>22</td>\n",
       "      <td>2485</td>\n",
       "    </tr>\n",
       "    <tr>\n",
       "      <th>3</th>\n",
       "      <td>4</td>\n",
       "      <td>1152</td>\n",
       "      <td>28</td>\n",
       "      <td>3059</td>\n",
       "    </tr>\n",
       "    <tr>\n",
       "      <th>4</th>\n",
       "      <td>5</td>\n",
       "      <td>1177</td>\n",
       "      <td>28</td>\n",
       "      <td>3760</td>\n",
       "    </tr>\n",
       "    <tr>\n",
       "      <th>5</th>\n",
       "      <td>6</td>\n",
       "      <td>983</td>\n",
       "      <td>20</td>\n",
       "      <td>2492</td>\n",
       "    </tr>\n",
       "    <tr>\n",
       "      <th>6</th>\n",
       "      <td>7</td>\n",
       "      <td>1257</td>\n",
       "      <td>28</td>\n",
       "      <td>3325</td>\n",
       "    </tr>\n",
       "    <tr>\n",
       "      <th>7</th>\n",
       "      <td>8</td>\n",
       "      <td>1440</td>\n",
       "      <td>81</td>\n",
       "      <td>3916</td>\n",
       "    </tr>\n",
       "    <tr>\n",
       "      <th>8</th>\n",
       "      <td>9</td>\n",
       "      <td>1179</td>\n",
       "      <td>1</td>\n",
       "      <td>3288</td>\n",
       "    </tr>\n",
       "    <tr>\n",
       "      <th>9</th>\n",
       "      <td>10</td>\n",
       "      <td>179</td>\n",
       "      <td>7</td>\n",
       "      <td>618</td>\n",
       "    </tr>\n",
       "  </tbody>\n",
       "</table>\n",
       "</div>"
      ],
      "text/plain": [
       "   id  length  num_para  wordcounts\n",
       "0   1     944        16        2139\n",
       "1   2     879        27        2604\n",
       "2   3    1099        22        2485\n",
       "3   4    1152        28        3059\n",
       "4   5    1177        28        3760\n",
       "5   6     983        20        2492\n",
       "6   7    1257        28        3325\n",
       "7   8    1440        81        3916\n",
       "8   9    1179         1        3288\n",
       "9  10     179         7         618"
      ]
     },
     "execution_count": 74,
     "metadata": {},
     "output_type": "execute_result"
    }
   ],
   "source": [
    "tmp.head(10)"
   ]
  },
  {
   "cell_type": "code",
   "execution_count": 75,
   "metadata": {
    "collapsed": true
   },
   "outputs": [],
   "source": [
    "captalks = talks_small[['viewed_count','rating_count','commented_count','id']][capmask]"
   ]
  },
  {
   "cell_type": "code",
   "execution_count": 76,
   "metadata": {
    "collapsed": false
   },
   "outputs": [
    {
     "data": {
      "text/plain": [
       "(1885, 4)"
      ]
     },
     "execution_count": 76,
     "metadata": {},
     "output_type": "execute_result"
    }
   ],
   "source": [
    "captalks.shape"
   ]
  },
  {
   "cell_type": "code",
   "execution_count": 77,
   "metadata": {
    "collapsed": true
   },
   "outputs": [],
   "source": [
    "captalks.sort(inplace = True, columns = 'id',)"
   ]
  },
  {
   "cell_type": "code",
   "execution_count": 78,
   "metadata": {
    "collapsed": true
   },
   "outputs": [],
   "source": [
    "capstat.reset_index(inplace = True)"
   ]
  },
  {
   "cell_type": "code",
   "execution_count": 79,
   "metadata": {
    "collapsed": false
   },
   "outputs": [],
   "source": [
    "captalks_f = pd.merge(captalks,capstat,how = 'inner',on = 'id')"
   ]
  },
  {
   "cell_type": "code",
   "execution_count": 80,
   "metadata": {
    "collapsed": false
   },
   "outputs": [
    {
     "data": {
      "text/html": [
       "<div style=\"max-height:1000px;max-width:1500px;overflow:auto;\">\n",
       "<table border=\"1\" class=\"dataframe\">\n",
       "  <thead>\n",
       "    <tr style=\"text-align: right;\">\n",
       "      <th></th>\n",
       "      <th>viewed_count</th>\n",
       "      <th>rating_count</th>\n",
       "      <th>commented_count</th>\n",
       "      <th>id</th>\n",
       "      <th>length</th>\n",
       "      <th>num_para</th>\n",
       "      <th>wordcounts</th>\n",
       "    </tr>\n",
       "  </thead>\n",
       "  <tbody>\n",
       "    <tr>\n",
       "      <th>0</th>\n",
       "      <td>2842062</td>\n",
       "      <td>2485</td>\n",
       "      <td>244</td>\n",
       "      <td>1</td>\n",
       "      <td>944</td>\n",
       "      <td>16</td>\n",
       "      <td>2139</td>\n",
       "    </tr>\n",
       "    <tr>\n",
       "      <th>1</th>\n",
       "      <td>956392</td>\n",
       "      <td>1511</td>\n",
       "      <td>78</td>\n",
       "      <td>2</td>\n",
       "      <td>879</td>\n",
       "      <td>27</td>\n",
       "      <td>2604</td>\n",
       "    </tr>\n",
       "    <tr>\n",
       "      <th>2</th>\n",
       "      <td>650873</td>\n",
       "      <td>772</td>\n",
       "      <td>61</td>\n",
       "      <td>3</td>\n",
       "      <td>1099</td>\n",
       "      <td>22</td>\n",
       "      <td>2485</td>\n",
       "    </tr>\n",
       "    <tr>\n",
       "      <th>3</th>\n",
       "      <td>1614164</td>\n",
       "      <td>1806</td>\n",
       "      <td>180</td>\n",
       "      <td>4</td>\n",
       "      <td>1152</td>\n",
       "      <td>28</td>\n",
       "      <td>3059</td>\n",
       "    </tr>\n",
       "    <tr>\n",
       "      <th>4</th>\n",
       "      <td>711615</td>\n",
       "      <td>861</td>\n",
       "      <td>74</td>\n",
       "      <td>5</td>\n",
       "      <td>1177</td>\n",
       "      <td>28</td>\n",
       "      <td>3760</td>\n",
       "    </tr>\n",
       "  </tbody>\n",
       "</table>\n",
       "</div>"
      ],
      "text/plain": [
       "   viewed_count  rating_count  commented_count  id  length  num_para  \\\n",
       "0       2842062          2485              244   1     944        16   \n",
       "1        956392          1511               78   2     879        27   \n",
       "2        650873           772               61   3    1099        22   \n",
       "3       1614164          1806              180   4    1152        28   \n",
       "4        711615           861               74   5    1177        28   \n",
       "\n",
       "   wordcounts  \n",
       "0        2139  \n",
       "1        2604  \n",
       "2        2485  \n",
       "3        3059  \n",
       "4        3760  "
      ]
     },
     "execution_count": 80,
     "metadata": {},
     "output_type": "execute_result"
    }
   ],
   "source": [
    "captalks_f.head()"
   ]
  },
  {
   "cell_type": "code",
   "execution_count": 81,
   "metadata": {
    "collapsed": true
   },
   "outputs": [],
   "source": [
    "captalks_f['word_per_sec'] = captalks_f['wordcounts']/captalks_f['length']"
   ]
  },
  {
   "cell_type": "code",
   "execution_count": 82,
   "metadata": {
    "collapsed": false
   },
   "outputs": [
    {
     "data": {
      "text/html": [
       "<div style=\"max-height:1000px;max-width:1500px;overflow:auto;\">\n",
       "<table border=\"1\" class=\"dataframe\">\n",
       "  <thead>\n",
       "    <tr style=\"text-align: right;\">\n",
       "      <th></th>\n",
       "      <th>viewed_count</th>\n",
       "      <th>rating_count</th>\n",
       "      <th>commented_count</th>\n",
       "      <th>id</th>\n",
       "      <th>length</th>\n",
       "      <th>num_para</th>\n",
       "      <th>wordcounts</th>\n",
       "      <th>word_per_sec</th>\n",
       "    </tr>\n",
       "  </thead>\n",
       "  <tbody>\n",
       "    <tr>\n",
       "      <th>0</th>\n",
       "      <td>2842062</td>\n",
       "      <td>2485</td>\n",
       "      <td>244</td>\n",
       "      <td>1</td>\n",
       "      <td>944</td>\n",
       "      <td>16</td>\n",
       "      <td>2139</td>\n",
       "      <td>2.265890</td>\n",
       "    </tr>\n",
       "    <tr>\n",
       "      <th>1</th>\n",
       "      <td>956392</td>\n",
       "      <td>1511</td>\n",
       "      <td>78</td>\n",
       "      <td>2</td>\n",
       "      <td>879</td>\n",
       "      <td>27</td>\n",
       "      <td>2604</td>\n",
       "      <td>2.962457</td>\n",
       "    </tr>\n",
       "    <tr>\n",
       "      <th>2</th>\n",
       "      <td>650873</td>\n",
       "      <td>772</td>\n",
       "      <td>61</td>\n",
       "      <td>3</td>\n",
       "      <td>1099</td>\n",
       "      <td>22</td>\n",
       "      <td>2485</td>\n",
       "      <td>2.261146</td>\n",
       "    </tr>\n",
       "    <tr>\n",
       "      <th>3</th>\n",
       "      <td>1614164</td>\n",
       "      <td>1806</td>\n",
       "      <td>180</td>\n",
       "      <td>4</td>\n",
       "      <td>1152</td>\n",
       "      <td>28</td>\n",
       "      <td>3059</td>\n",
       "      <td>2.655382</td>\n",
       "    </tr>\n",
       "    <tr>\n",
       "      <th>4</th>\n",
       "      <td>711615</td>\n",
       "      <td>861</td>\n",
       "      <td>74</td>\n",
       "      <td>5</td>\n",
       "      <td>1177</td>\n",
       "      <td>28</td>\n",
       "      <td>3760</td>\n",
       "      <td>3.194562</td>\n",
       "    </tr>\n",
       "  </tbody>\n",
       "</table>\n",
       "</div>"
      ],
      "text/plain": [
       "   viewed_count  rating_count  commented_count  id  length  num_para  \\\n",
       "0       2842062          2485              244   1     944        16   \n",
       "1        956392          1511               78   2     879        27   \n",
       "2        650873           772               61   3    1099        22   \n",
       "3       1614164          1806              180   4    1152        28   \n",
       "4        711615           861               74   5    1177        28   \n",
       "\n",
       "   wordcounts  word_per_sec  \n",
       "0        2139      2.265890  \n",
       "1        2604      2.962457  \n",
       "2        2485      2.261146  \n",
       "3        3059      2.655382  \n",
       "4        3760      3.194562  "
      ]
     },
     "execution_count": 82,
     "metadata": {},
     "output_type": "execute_result"
    }
   ],
   "source": [
    "captalks_f.head()"
   ]
  },
  {
   "cell_type": "markdown",
   "metadata": {},
   "source": [
    "### save the captalks_f as json "
   ]
  },
  {
   "cell_type": "code",
   "execution_count": 112,
   "metadata": {
    "collapsed": true
   },
   "outputs": [],
   "source": [
    "captalks_f.to_json('captalks_f.json')"
   ]
  },
  {
   "cell_type": "code",
   "execution_count": 83,
   "metadata": {
    "collapsed": true
   },
   "outputs": [],
   "source": [
    "captalks_f.set_index('id',inplace = True)"
   ]
  },
  {
   "cell_type": "code",
   "execution_count": 84,
   "metadata": {
    "collapsed": true
   },
   "outputs": [],
   "source": [
    "import seaborn as sns"
   ]
  },
  {
   "cell_type": "code",
   "execution_count": 85,
   "metadata": {
    "collapsed": false
   },
   "outputs": [
    {
     "data": {
      "text/plain": [
       "<matplotlib.text.Text at 0x127901510>"
      ]
     },
     "execution_count": 85,
     "metadata": {},
     "output_type": "execute_result"
    },
    {
     "data": {
      "image/png": "[encoded data removed]",
      "text/plain": [
       "<matplotlib.figure.Figure at 0x127b29c10>"
      ]
     },
     "metadata": {},
     "output_type": "display_data"
    }
   ],
   "source": [
    "fig = plt.figure(figsize = (8,6))\n",
    "ax1 = plt.gca()\n",
    "ax1.scatter( x = captalks_f.length, y = captalks_f.viewed_count,\n",
    "                marker = 'o', alpha = 0.3)\n",
    "ax1.set_yscale('log')\n",
    "plt.xlabel('talk length in sec')\n",
    "plt.ylabel('log of total view counts')"
   ]
  },
  {
   "cell_type": "code",
   "execution_count": 86,
   "metadata": {
    "collapsed": true
   },
   "outputs": [],
   "source": [
    "def count_vs_cap(count,stat,ax):\n",
    "    ax.set_yscale('log')\n",
    "    ax.scatter(x = captalks_f[stat], y = captalks_f[count], marker = 'o', alpha = 0.2, label = count+' vs '+stat)\n",
    "    ax.legend(loc = 'best',fontsize = 'large')"
   ]
  },
  {
   "cell_type": "code",
   "execution_count": 87,
   "metadata": {
    "collapsed": false
   },
   "outputs": [],
   "source": [
    "counts = list(captalks_f.columns[:3].values)"
   ]
  },
  {
   "cell_type": "code",
   "execution_count": 88,
   "metadata": {
    "collapsed": false
   },
   "outputs": [],
   "source": [
    "stats = ['length','num_para','word_per_sec']"
   ]
  },
  {
   "cell_type": "code",
   "execution_count": 89,
   "metadata": {
    "collapsed": false
   },
   "outputs": [
    {
     "data": {
      "image/png": "[encoded data removed]",
      "text/plain": [
       "<matplotlib.figure.Figure at 0x102c67dd0>"
      ]
     },
     "metadata": {},
     "output_type": "display_data"
    }
   ],
   "source": [
    "fig, axes=plt.subplots(figsize = (18,12),nrows=3, ncols=3)\n",
    "for ind in xrange(9):\n",
    "    i = ind/3;j = ind%3\n",
    "    ax = axes[i][j]\n",
    "    count_vs_cap(counts[i],stats[j],ax)\n",
    "fig.tight_layout()"
   ]
  },
  {
   "cell_type": "markdown",
   "metadata": {},
   "source": [
    "### raw dist plots of cap features so far"
   ]
  },
  {
   "cell_type": "code",
   "execution_count": 90,
   "metadata": {
    "collapsed": false
   },
   "outputs": [
    {
     "data": {
      "text/html": [
       "<div style=\"max-height:1000px;max-width:1500px;overflow:auto;\">\n",
       "<table border=\"1\" class=\"dataframe\">\n",
       "  <thead>\n",
       "    <tr style=\"text-align: right;\">\n",
       "      <th></th>\n",
       "      <th>viewed_count</th>\n",
       "      <th>rating_count</th>\n",
       "      <th>commented_count</th>\n",
       "      <th>length</th>\n",
       "      <th>num_para</th>\n",
       "      <th>wordcounts</th>\n",
       "      <th>word_per_sec</th>\n",
       "    </tr>\n",
       "    <tr>\n",
       "      <th>id</th>\n",
       "      <th></th>\n",
       "      <th></th>\n",
       "      <th></th>\n",
       "      <th></th>\n",
       "      <th></th>\n",
       "      <th></th>\n",
       "      <th></th>\n",
       "    </tr>\n",
       "  </thead>\n",
       "  <tbody>\n",
       "    <tr>\n",
       "      <th>1</th>\n",
       "      <td>2842062</td>\n",
       "      <td>2485</td>\n",
       "      <td>244</td>\n",
       "      <td>944</td>\n",
       "      <td>16</td>\n",
       "      <td>2139</td>\n",
       "      <td>2.265890</td>\n",
       "    </tr>\n",
       "    <tr>\n",
       "      <th>2</th>\n",
       "      <td>956392</td>\n",
       "      <td>1511</td>\n",
       "      <td>78</td>\n",
       "      <td>879</td>\n",
       "      <td>27</td>\n",
       "      <td>2604</td>\n",
       "      <td>2.962457</td>\n",
       "    </tr>\n",
       "    <tr>\n",
       "      <th>3</th>\n",
       "      <td>650873</td>\n",
       "      <td>772</td>\n",
       "      <td>61</td>\n",
       "      <td>1099</td>\n",
       "      <td>22</td>\n",
       "      <td>2485</td>\n",
       "      <td>2.261146</td>\n",
       "    </tr>\n",
       "    <tr>\n",
       "      <th>4</th>\n",
       "      <td>1614164</td>\n",
       "      <td>1806</td>\n",
       "      <td>180</td>\n",
       "      <td>1152</td>\n",
       "      <td>28</td>\n",
       "      <td>3059</td>\n",
       "      <td>2.655382</td>\n",
       "    </tr>\n",
       "    <tr>\n",
       "      <th>5</th>\n",
       "      <td>711615</td>\n",
       "      <td>861</td>\n",
       "      <td>74</td>\n",
       "      <td>1177</td>\n",
       "      <td>28</td>\n",
       "      <td>3760</td>\n",
       "      <td>3.194562</td>\n",
       "    </tr>\n",
       "  </tbody>\n",
       "</table>\n",
       "</div>"
      ],
      "text/plain": [
       "    viewed_count  rating_count  commented_count  length  num_para  wordcounts  \\\n",
       "id                                                                              \n",
       "1        2842062          2485              244     944        16        2139   \n",
       "2         956392          1511               78     879        27        2604   \n",
       "3         650873           772               61    1099        22        2485   \n",
       "4        1614164          1806              180    1152        28        3059   \n",
       "5         711615           861               74    1177        28        3760   \n",
       "\n",
       "    word_per_sec  \n",
       "id                \n",
       "1       2.265890  \n",
       "2       2.962457  \n",
       "3       2.261146  \n",
       "4       2.655382  \n",
       "5       3.194562  "
      ]
     },
     "execution_count": 90,
     "metadata": {},
     "output_type": "execute_result"
    }
   ],
   "source": [
    "captalks_f.head()"
   ]
  },
  {
   "cell_type": "code",
   "execution_count": 91,
   "metadata": {
    "collapsed": false
   },
   "outputs": [
    {
     "data": {
      "image/png": "[encoded data removed]",
      "text/plain": [
       "<matplotlib.figure.Figure at 0x102c67890>"
      ]
     },
     "metadata": {},
     "output_type": "display_data"
    }
   ],
   "source": [
    "fig, axes=plt.subplots(figsize = (18,6),nrows=1, ncols=3)\n",
    "for ind in xrange(3):\n",
    "    ax = axes[ind]\n",
    "    captalks_f[stats[ind]].hist(bins = 30, ax = ax, label = stats[ind])\n",
    "    ax.legend(loc = 'best',fontsize = 'large')\n",
    "fig.tight_layout()"
   ]
  },
  {
   "cell_type": "code",
   "execution_count": 92,
   "metadata": {
    "collapsed": false
   },
   "outputs": [],
   "source": [
    "ax = axes[0]"
   ]
  },
  {
   "cell_type": "markdown",
   "metadata": {
    "collapsed": true
   },
   "source": [
    "##2. Combine with Ted_4 to mining features from the transcripts"
   ]
  },
  {
   "cell_type": "code",
   "execution_count": 93,
   "metadata": {
    "collapsed": false
   },
   "outputs": [],
   "source": [
    "response = pd.read_csv('response5.csv',header = None)"
   ]
  },
  {
   "cell_type": "code",
   "execution_count": 94,
   "metadata": {
    "collapsed": false
   },
   "outputs": [],
   "source": [
    "response.columns = ['id','label']"
   ]
  },
  {
   "cell_type": "markdown",
   "metadata": {},
   "source": [
    "### select captions from talks in the final training set "
   ]
  },
  {
   "cell_type": "code",
   "execution_count": 95,
   "metadata": {
    "collapsed": true
   },
   "outputs": [],
   "source": [
    "ids = list(response['id'])"
   ]
  },
  {
   "cell_type": "code",
   "execution_count": 96,
   "metadata": {
    "collapsed": false
   },
   "outputs": [],
   "source": [
    "captions = capdata[capdata.index.get_level_values('id').isin(ids)]"
   ]
  },
  {
   "cell_type": "code",
   "execution_count": 97,
   "metadata": {
    "collapsed": false
   },
   "outputs": [
    {
     "data": {
      "text/plain": [
       "1535"
      ]
     },
     "execution_count": 97,
     "metadata": {},
     "output_type": "execute_result"
    }
   ],
   "source": [
    "len(captions.index.get_level_values('id').unique())"
   ]
  },
  {
   "cell_type": "code",
   "execution_count": 98,
   "metadata": {
    "collapsed": true
   },
   "outputs": [],
   "source": [
    "captest = captions[captions.index.get_level_values('id')==114]['content']"
   ]
  },
  {
   "cell_type": "code",
   "execution_count": 99,
   "metadata": {
    "collapsed": false
   },
   "outputs": [
    {
     "data": {
      "text/plain": [
       "59"
      ]
     },
     "execution_count": 99,
     "metadata": {},
     "output_type": "execute_result"
    }
   ],
   "source": [
    "sum(captest == '(Laughter)')"
   ]
  },
  {
   "cell_type": "code",
   "execution_count": 100,
   "metadata": {
    "collapsed": true
   },
   "outputs": [],
   "source": [
    "corpus = []\n",
    "for idx in ids:\n",
    "    text = []\n",
    "    for index,row in captions[captions.index.get_level_values('id')==idx].iterrows():\n",
    "        text.append(row['content'])\n",
    "    corpus.append(text)"
   ]
  },
  {
   "cell_type": "code",
   "execution_count": 101,
   "metadata": {
    "collapsed": false
   },
   "outputs": [
    {
     "data": {
      "text/plain": [
       "1535"
      ]
     },
     "execution_count": 101,
     "metadata": {},
     "output_type": "execute_result"
    }
   ],
   "source": [
    "len(corpus)"
   ]
  },
  {
   "cell_type": "code",
   "execution_count": 102,
   "metadata": {
    "collapsed": false
   },
   "outputs": [
    {
     "data": {
      "text/plain": [
       "1"
      ]
     },
     "execution_count": 102,
     "metadata": {},
     "output_type": "execute_result"
    }
   ],
   "source": [
    "ids[0]"
   ]
  },
  {
   "cell_type": "code",
   "execution_count": 192,
   "metadata": {
    "collapsed": true
   },
   "outputs": [],
   "source": [
    "captions_f = pd.DataFrame(dict(id = ids, text = corpus))"
   ]
  },
  {
   "cell_type": "code",
   "execution_count": 193,
   "metadata": {
    "collapsed": false
   },
   "outputs": [
    {
     "data": {
      "text/html": [
       "<div style=\"max-height:1000px;max-width:1500px;overflow:auto;\">\n",
       "<table border=\"1\" class=\"dataframe\">\n",
       "  <thead>\n",
       "    <tr style=\"text-align: right;\">\n",
       "      <th></th>\n",
       "      <th>id</th>\n",
       "      <th>text</th>\n",
       "    </tr>\n",
       "  </thead>\n",
       "  <tbody>\n",
       "    <tr>\n",
       "      <th>0</th>\n",
       "      <td>1</td>\n",
       "      <td>[Thank you so much, Chris. And it's truly a gr...</td>\n",
       "    </tr>\n",
       "  </tbody>\n",
       "</table>\n",
       "</div>"
      ],
      "text/plain": [
       "   id                                               text\n",
       "0   1  [Thank you so much, Chris. And it's truly a gr..."
      ]
     },
     "execution_count": 193,
     "metadata": {},
     "output_type": "execute_result"
    }
   ],
   "source": [
    "captions_f.head(1)"
   ]
  },
  {
   "cell_type": "code",
   "execution_count": 194,
   "metadata": {
    "collapsed": false
   },
   "outputs": [
    {
     "data": {
      "text/plain": [
       "(1535, 2)"
      ]
     },
     "execution_count": 194,
     "metadata": {},
     "output_type": "execute_result"
    }
   ],
   "source": [
    "captions_f.shape"
   ]
  },
  {
   "cell_type": "markdown",
   "metadata": {},
   "source": [
    "###2.1 Find how many \"(Laughter)\" and \"(Applause)\" "
   ]
  },
  {
   "cell_type": "markdown",
   "metadata": {},
   "source": [
    "####2.1.1Total number of laughter"
   ]
  },
  {
   "cell_type": "code",
   "execution_count": 195,
   "metadata": {
    "collapsed": true
   },
   "outputs": [],
   "source": [
    "import re"
   ]
  },
  {
   "cell_type": "code",
   "execution_count": 196,
   "metadata": {
    "collapsed": false
   },
   "outputs": [
    {
     "data": {
      "text/plain": [
       "1"
      ]
     },
     "execution_count": 196,
     "metadata": {},
     "output_type": "execute_result"
    }
   ],
   "source": [
    "len(re.findall(r'(Laughter)',captions_f.text[0][4]))"
   ]
  },
  {
   "cell_type": "code",
   "execution_count": 198,
   "metadata": {
    "collapsed": true
   },
   "outputs": [],
   "source": [
    "def findalllaughter(text):\n",
    "    content = ';'.join(text)\n",
    "    num = len(re.findall(r'(Laughter)',content))\n",
    "    return num"
   ]
  },
  {
   "cell_type": "code",
   "execution_count": 199,
   "metadata": {
    "collapsed": false
   },
   "outputs": [
    {
     "data": {
      "text/plain": [
       "10"
      ]
     },
     "execution_count": 199,
     "metadata": {},
     "output_type": "execute_result"
    }
   ],
   "source": [
    "findalllaughter(captions_f.text[0])"
   ]
  },
  {
   "cell_type": "code",
   "execution_count": 200,
   "metadata": {
    "collapsed": true
   },
   "outputs": [],
   "source": [
    "laughter_total = captions_f.text.apply(findalllaughter)"
   ]
  },
  {
   "cell_type": "code",
   "execution_count": 201,
   "metadata": {
    "collapsed": true
   },
   "outputs": [],
   "source": [
    "captions_f['laughter_total'] = laughter_total"
   ]
  },
  {
   "cell_type": "code",
   "execution_count": 202,
   "metadata": {
    "collapsed": false
   },
   "outputs": [
    {
     "data": {
      "text/html": [
       "<div style=\"max-height:1000px;max-width:1500px;overflow:auto;\">\n",
       "<table border=\"1\" class=\"dataframe\">\n",
       "  <thead>\n",
       "    <tr style=\"text-align: right;\">\n",
       "      <th></th>\n",
       "      <th>id</th>\n",
       "      <th>text</th>\n",
       "      <th>laughter_total</th>\n",
       "    </tr>\n",
       "  </thead>\n",
       "  <tbody>\n",
       "    <tr>\n",
       "      <th>0</th>\n",
       "      <td>1</td>\n",
       "      <td>[Thank you so much, Chris. And it's truly a gr...</td>\n",
       "      <td>10</td>\n",
       "    </tr>\n",
       "    <tr>\n",
       "      <th>1</th>\n",
       "      <td>2</td>\n",
       "      <td>[In terms of invention,, I'd like to tell you ...</td>\n",
       "      <td>6</td>\n",
       "    </tr>\n",
       "    <tr>\n",
       "      <th>2</th>\n",
       "      <td>2167</td>\n",
       "      <td>[When you grow up in a developing country\\nlik...</td>\n",
       "      <td>0</td>\n",
       "    </tr>\n",
       "    <tr>\n",
       "      <th>3</th>\n",
       "      <td>3</td>\n",
       "      <td>[A public, Dewey long ago observed,, is consti...</td>\n",
       "      <td>1</td>\n",
       "    </tr>\n",
       "    <tr>\n",
       "      <th>4</th>\n",
       "      <td>99</td>\n",
       "      <td>[Okay., ♫ Strolling along in Central Park ♫, ♫...</td>\n",
       "      <td>2</td>\n",
       "    </tr>\n",
       "  </tbody>\n",
       "</table>\n",
       "</div>"
      ],
      "text/plain": [
       "     id                                               text  laughter_total\n",
       "0     1  [Thank you so much, Chris. And it's truly a gr...              10\n",
       "1     2  [In terms of invention,, I'd like to tell you ...               6\n",
       "2  2167  [When you grow up in a developing country\\nlik...               0\n",
       "3     3  [A public, Dewey long ago observed,, is consti...               1\n",
       "4    99  [Okay., ♫ Strolling along in Central Park ♫, ♫...               2"
      ]
     },
     "execution_count": 202,
     "metadata": {},
     "output_type": "execute_result"
    }
   ],
   "source": [
    "captions_f.head()"
   ]
  },
  {
   "cell_type": "code",
   "execution_count": 203,
   "metadata": {
    "collapsed": true
   },
   "outputs": [],
   "source": [
    "temp = capstat[capstat['id'].isin(ids)]"
   ]
  },
  {
   "cell_type": "code",
   "execution_count": 204,
   "metadata": {
    "collapsed": false
   },
   "outputs": [
    {
     "data": {
      "text/plain": [
       "(1535, 4)"
      ]
     },
     "execution_count": 204,
     "metadata": {},
     "output_type": "execute_result"
    }
   ],
   "source": [
    "temp.shape"
   ]
  },
  {
   "cell_type": "code",
   "execution_count": 205,
   "metadata": {
    "collapsed": true
   },
   "outputs": [],
   "source": [
    "captions_f = pd.merge(captions_f, capstat, on = 'id')"
   ]
  },
  {
   "cell_type": "code",
   "execution_count": 206,
   "metadata": {
    "collapsed": false
   },
   "outputs": [
    {
     "data": {
      "text/html": [
       "<div style=\"max-height:1000px;max-width:1500px;overflow:auto;\">\n",
       "<table border=\"1\" class=\"dataframe\">\n",
       "  <thead>\n",
       "    <tr style=\"text-align: right;\">\n",
       "      <th></th>\n",
       "      <th>id</th>\n",
       "      <th>text</th>\n",
       "      <th>laughter_total</th>\n",
       "      <th>length</th>\n",
       "      <th>num_para</th>\n",
       "      <th>wordcounts</th>\n",
       "    </tr>\n",
       "  </thead>\n",
       "  <tbody>\n",
       "    <tr>\n",
       "      <th>0</th>\n",
       "      <td>1</td>\n",
       "      <td>[Thank you so much, Chris. And it's truly a gr...</td>\n",
       "      <td>10</td>\n",
       "      <td>944.000</td>\n",
       "      <td>16</td>\n",
       "      <td>2139</td>\n",
       "    </tr>\n",
       "    <tr>\n",
       "      <th>1</th>\n",
       "      <td>2</td>\n",
       "      <td>[In terms of invention,, I'd like to tell you ...</td>\n",
       "      <td>6</td>\n",
       "      <td>879.000</td>\n",
       "      <td>27</td>\n",
       "      <td>2604</td>\n",
       "    </tr>\n",
       "    <tr>\n",
       "      <th>2</th>\n",
       "      <td>2167</td>\n",
       "      <td>[When you grow up in a developing country\\nlik...</td>\n",
       "      <td>0</td>\n",
       "      <td>967.755</td>\n",
       "      <td>25</td>\n",
       "      <td>1992</td>\n",
       "    </tr>\n",
       "    <tr>\n",
       "      <th>3</th>\n",
       "      <td>3</td>\n",
       "      <td>[A public, Dewey long ago observed,, is consti...</td>\n",
       "      <td>1</td>\n",
       "      <td>1099.000</td>\n",
       "      <td>22</td>\n",
       "      <td>2485</td>\n",
       "    </tr>\n",
       "    <tr>\n",
       "      <th>4</th>\n",
       "      <td>99</td>\n",
       "      <td>[Okay., ♫ Strolling along in Central Park ♫, ♫...</td>\n",
       "      <td>2</td>\n",
       "      <td>131.000</td>\n",
       "      <td>28</td>\n",
       "      <td>173</td>\n",
       "    </tr>\n",
       "  </tbody>\n",
       "</table>\n",
       "</div>"
      ],
      "text/plain": [
       "     id                                               text  laughter_total  \\\n",
       "0     1  [Thank you so much, Chris. And it's truly a gr...              10   \n",
       "1     2  [In terms of invention,, I'd like to tell you ...               6   \n",
       "2  2167  [When you grow up in a developing country\\nlik...               0   \n",
       "3     3  [A public, Dewey long ago observed,, is consti...               1   \n",
       "4    99  [Okay., ♫ Strolling along in Central Park ♫, ♫...               2   \n",
       "\n",
       "     length  num_para  wordcounts  \n",
       "0   944.000        16        2139  \n",
       "1   879.000        27        2604  \n",
       "2   967.755        25        1992  \n",
       "3  1099.000        22        2485  \n",
       "4   131.000        28         173  "
      ]
     },
     "execution_count": 206,
     "metadata": {},
     "output_type": "execute_result"
    }
   ],
   "source": [
    "captions_f.head()"
   ]
  },
  {
   "cell_type": "code",
   "execution_count": 207,
   "metadata": {
    "collapsed": true
   },
   "outputs": [],
   "source": [
    "captions_f['laughter_per_word'] = captions_f['laughter_total']/captions_f.wordcounts"
   ]
  },
  {
   "cell_type": "code",
   "execution_count": 208,
   "metadata": {
    "collapsed": true
   },
   "outputs": [],
   "source": [
    "captions_f['word_per_sec'] = captions_f['wordcounts']/captions_f.length"
   ]
  },
  {
   "cell_type": "code",
   "execution_count": 209,
   "metadata": {
    "collapsed": true
   },
   "outputs": [],
   "source": [
    "captions_f['para_length'] = captions_f['wordcounts']/captions_f['num_para']"
   ]
  },
  {
   "cell_type": "markdown",
   "metadata": {},
   "source": [
    "####2.1.2 How many applause "
   ]
  },
  {
   "cell_type": "code",
   "execution_count": 210,
   "metadata": {
    "collapsed": true
   },
   "outputs": [],
   "source": [
    "def findallapplause(text):\n",
    "    content = ';'.join(text)\n",
    "    num = len(re.findall(r'(Applause)',content))\n",
    "    return num"
   ]
  },
  {
   "cell_type": "code",
   "execution_count": 211,
   "metadata": {
    "collapsed": true
   },
   "outputs": [],
   "source": [
    "applause_total = captions_f.text.apply(findallapplause)"
   ]
  },
  {
   "cell_type": "code",
   "execution_count": 212,
   "metadata": {
    "collapsed": false
   },
   "outputs": [
    {
     "data": {
      "text/plain": [
       "Index([               u'id',              u'text',    u'laughter_total',\n",
       "                  u'length',          u'num_para',        u'wordcounts',\n",
       "       u'laughter_per_word',      u'word_per_sec',       u'para_length'],\n",
       "      dtype='object')"
      ]
     },
     "execution_count": 212,
     "metadata": {},
     "output_type": "execute_result"
    }
   ],
   "source": [
    "captions_f.columns"
   ]
  },
  {
   "cell_type": "code",
   "execution_count": 213,
   "metadata": {
    "collapsed": true
   },
   "outputs": [],
   "source": [
    "captions_f['applause_total']= applause_total"
   ]
  },
  {
   "cell_type": "code",
   "execution_count": 214,
   "metadata": {
    "collapsed": false
   },
   "outputs": [
    {
     "data": {
      "text/plain": [
       "count    1535.000000\n",
       "mean        2.168730\n",
       "std         1.992702\n",
       "min         0.000000\n",
       "25%         1.000000\n",
       "50%         1.000000\n",
       "75%         3.000000\n",
       "max        17.000000\n",
       "Name: applause_total, dtype: float64"
      ]
     },
     "execution_count": 214,
     "metadata": {},
     "output_type": "execute_result"
    }
   ],
   "source": [
    "captions_f.applause_total.describe()"
   ]
  },
  {
   "cell_type": "code",
   "execution_count": 215,
   "metadata": {
    "collapsed": false
   },
   "outputs": [],
   "source": [
    "captions_f['applause_per_word']= captions_f['applause_total']/captions_f['wordcounts']"
   ]
  },
  {
   "cell_type": "markdown",
   "metadata": {},
   "source": [
    "#### 2.1.3 How many \"So\" and \"And so\", \"I think\" \"I don't think\" , \"--\""
   ]
  },
  {
   "cell_type": "code",
   "execution_count": 216,
   "metadata": {
    "collapsed": true
   },
   "outputs": [],
   "source": [
    "def countallso(text):\n",
    "    content = ';'.join(text)\n",
    "    num = len(re.findall(r'And so',content))\n",
    "    return num"
   ]
  },
  {
   "cell_type": "code",
   "execution_count": 217,
   "metadata": {
    "collapsed": false
   },
   "outputs": [],
   "source": [
    "test = captions_f.text[934]"
   ]
  },
  {
   "cell_type": "code",
   "execution_count": 218,
   "metadata": {
    "collapsed": false
   },
   "outputs": [
    {
     "data": {
      "text/plain": [
       "13"
      ]
     },
     "execution_count": 218,
     "metadata": {},
     "output_type": "execute_result"
    }
   ],
   "source": [
    "countallso(test)"
   ]
  },
  {
   "cell_type": "code",
   "execution_count": 219,
   "metadata": {
    "collapsed": true
   },
   "outputs": [],
   "source": [
    "countso = captions_f.text.apply(countallso)"
   ]
  },
  {
   "cell_type": "code",
   "execution_count": 220,
   "metadata": {
    "collapsed": false,
    "scrolled": true
   },
   "outputs": [
    {
     "data": {
      "text/plain": [
       "<matplotlib.axes._subplots.AxesSubplot at 0x122ba5e90>"
      ]
     },
     "execution_count": 220,
     "metadata": {},
     "output_type": "execute_result"
    },
    {
     "data": {
      "image/png": "[encoded data removed]",
      "text/plain": [
       "<matplotlib.figure.Figure at 0x12a665310>"
      ]
     },
     "metadata": {},
     "output_type": "display_data"
    }
   ],
   "source": [
    "countso.hist()"
   ]
  },
  {
   "cell_type": "code",
   "execution_count": 221,
   "metadata": {
    "collapsed": true
   },
   "outputs": [],
   "source": [
    "captions_f['And_so_total'] = countso"
   ]
  },
  {
   "cell_type": "code",
   "execution_count": 222,
   "metadata": {
    "collapsed": false
   },
   "outputs": [
    {
     "data": {
      "text/plain": [
       "Index([               u'id',              u'text',    u'laughter_total',\n",
       "                  u'length',          u'num_para',        u'wordcounts',\n",
       "       u'laughter_per_word',      u'word_per_sec',       u'para_length',\n",
       "          u'applause_total', u'applause_per_word',      u'And_so_total'],\n",
       "      dtype='object')"
      ]
     },
     "execution_count": 222,
     "metadata": {},
     "output_type": "execute_result"
    }
   ],
   "source": [
    "captions_f.columns"
   ]
  },
  {
   "cell_type": "code",
   "execution_count": 149,
   "metadata": {
    "collapsed": false
   },
   "outputs": [
    {
     "data": {
      "text/plain": [
       "<matplotlib.axes._subplots.AxesSubplot at 0x129c35390>"
      ]
     },
     "execution_count": 149,
     "metadata": {},
     "output_type": "execute_result"
    },
    {
     "data": {
      "image/png": "[encoded data removed]",
      "text/plain": [
       "<matplotlib.figure.Figure at 0x124af43d0>"
      ]
     },
     "metadata": {},
     "output_type": "display_data"
    }
   ],
   "source": [
    "captions_f.boxplot(column = 'And_so_total', by = 'neg_binary')"
   ]
  },
  {
   "cell_type": "code",
   "execution_count": 150,
   "metadata": {
    "collapsed": true
   },
   "outputs": [],
   "source": [
    "# captions_f['so_per_para'] = captions_f['so_total']/captions_f['num_para']"
   ]
  },
  {
   "cell_type": "markdown",
   "metadata": {},
   "source": [
    "#### So seems to be not predictive after a few trial, move on to \"--\", which often stands for interjections in the transcripts"
   ]
  },
  {
   "cell_type": "code",
   "execution_count": 224,
   "metadata": {
    "collapsed": true
   },
   "outputs": [],
   "source": [
    "# define a fun to find '--' and '-'\n",
    "def finddiv(text):\n",
    "    content = ';'.join(text)\n",
    "    num = len(re.findall(r'--',content))\n",
    "    return num"
   ]
  },
  {
   "cell_type": "code",
   "execution_count": 225,
   "metadata": {
    "collapsed": false
   },
   "outputs": [
    {
     "data": {
      "text/plain": [
       "39"
      ]
     },
     "execution_count": 225,
     "metadata": {},
     "output_type": "execute_result"
    }
   ],
   "source": [
    "finddiv(test)"
   ]
  },
  {
   "cell_type": "code",
   "execution_count": 226,
   "metadata": {
    "collapsed": false
   },
   "outputs": [],
   "source": [
    "diversion = captions_f.text.apply(finddiv)"
   ]
  },
  {
   "cell_type": "code",
   "execution_count": 227,
   "metadata": {
    "collapsed": true
   },
   "outputs": [],
   "source": [
    "captions_f['diversion'] = diversion"
   ]
  },
  {
   "cell_type": "markdown",
   "metadata": {},
   "source": [
    "### merge the response into captions_f "
   ]
  },
  {
   "cell_type": "code",
   "execution_count": 229,
   "metadata": {
    "collapsed": true
   },
   "outputs": [],
   "source": [
    "captions_f = captions_f.merge(response, on = 'id')"
   ]
  },
  {
   "cell_type": "code",
   "execution_count": 230,
   "metadata": {
    "collapsed": false
   },
   "outputs": [
    {
     "data": {
      "text/plain": [
       "<matplotlib.axes._subplots.AxesSubplot at 0x12a383750>"
      ]
     },
     "execution_count": 230,
     "metadata": {},
     "output_type": "execute_result"
    },
    {
     "data": {
      "image/png": "[encoded data removed]",
      "text/plain": [
       "<matplotlib.figure.Figure at 0x12a733310>"
      ]
     },
     "metadata": {},
     "output_type": "display_data"
    }
   ],
   "source": [
    "captions_f.boxplot(column = 'diversion', by = 'label')"
   ]
  },
  {
   "cell_type": "code",
   "execution_count": 231,
   "metadata": {
    "collapsed": true
   },
   "outputs": [],
   "source": [
    "div_per_word = captions_f.diversion/captions_f.wordcounts"
   ]
  },
  {
   "cell_type": "code",
   "execution_count": 232,
   "metadata": {
    "collapsed": false
   },
   "outputs": [
    {
     "data": {
      "text/plain": [
       "<matplotlib.axes._subplots.AxesSubplot at 0x122a21090>"
      ]
     },
     "execution_count": 232,
     "metadata": {},
     "output_type": "execute_result"
    },
    {
     "data": {
      "image/png": "[encoded data removed]",
      "text/plain": [
       "<matplotlib.figure.Figure at 0x12a38ca10>"
      ]
     },
     "metadata": {},
     "output_type": "display_data"
    }
   ],
   "source": [
    "sns.boxplot(div_per_word,groupby = captions_f.label)"
   ]
  },
  {
   "cell_type": "code",
   "execution_count": 233,
   "metadata": {
    "collapsed": true
   },
   "outputs": [],
   "source": [
    "captions_f['div_per_word'] = div_per_word"
   ]
  },
  {
   "cell_type": "code",
   "execution_count": 234,
   "metadata": {
    "collapsed": true
   },
   "outputs": [],
   "source": [
    "div_per_word_labeled = [col for colname,col in captions_f.groupby('label')['div_per_word']]"
   ]
  },
  {
   "cell_type": "code",
   "execution_count": 236,
   "metadata": {
    "collapsed": false
   },
   "outputs": [
    {
     "name": "stdout",
     "output_type": "stream",
     "text": [
      "p value is:1.5824412727e-06\n"
     ]
    }
   ],
   "source": [
    "f_val, p_val = ss.f_oneway(*div_per_word_labeled)\n",
    "print 'p value is:{}'.format(p_val)"
   ]
  },
  {
   "cell_type": "markdown",
   "metadata": {},
   "source": [
    "#### How about \"I (don't) think\" \"my ** journey\" "
   ]
  },
  {
   "cell_type": "code",
   "execution_count": 237,
   "metadata": {
    "collapsed": true
   },
   "outputs": [],
   "source": [
    "def findthink(text):\n",
    "    content = ';'.join(text)\n",
    "    num = len(re.findall(r'I\\s*[\\w\\']*\\s*think',content))\n",
    "    return num"
   ]
  },
  {
   "cell_type": "code",
   "execution_count": 238,
   "metadata": {
    "collapsed": false
   },
   "outputs": [],
   "source": [
    "test3 = captions_f.ix[643]['text']"
   ]
  },
  {
   "cell_type": "code",
   "execution_count": 239,
   "metadata": {
    "collapsed": false
   },
   "outputs": [
    {
     "data": {
      "text/plain": [
       "34"
      ]
     },
     "execution_count": 239,
     "metadata": {},
     "output_type": "execute_result"
    }
   ],
   "source": [
    "findthink(test3)"
   ]
  },
  {
   "cell_type": "code",
   "execution_count": 240,
   "metadata": {
    "collapsed": true
   },
   "outputs": [],
   "source": [
    "ithinks = captions_f.text.apply(findthink)"
   ]
  },
  {
   "cell_type": "code",
   "execution_count": 241,
   "metadata": {
    "collapsed": false
   },
   "outputs": [
    {
     "data": {
      "text/plain": [
       "count    1535.000000\n",
       "mean        2.667101\n",
       "std         3.879449\n",
       "min         0.000000\n",
       "25%         0.000000\n",
       "50%         1.000000\n",
       "75%         4.000000\n",
       "max        39.000000\n",
       "Name: text, dtype: float64"
      ]
     },
     "execution_count": 241,
     "metadata": {},
     "output_type": "execute_result"
    }
   ],
   "source": [
    "ithinks.describe()"
   ]
  },
  {
   "cell_type": "code",
   "execution_count": 242,
   "metadata": {
    "collapsed": false
   },
   "outputs": [
    {
     "data": {
      "text/plain": [
       "<matplotlib.axes._subplots.AxesSubplot at 0x1247d3610>"
      ]
     },
     "execution_count": 242,
     "metadata": {},
     "output_type": "execute_result"
    },
    {
     "data": {
      "image/png": "[encoded data removed]",
      "text/plain": [
       "<matplotlib.figure.Figure at 0x122e191d0>"
      ]
     },
     "metadata": {},
     "output_type": "display_data"
    }
   ],
   "source": [
    "sns.boxplot(ithinks, groupby=captions_f.label)"
   ]
  },
  {
   "cell_type": "code",
   "execution_count": 243,
   "metadata": {
    "collapsed": false
   },
   "outputs": [],
   "source": [
    "captions_f['ithinks'] = ithinks"
   ]
  },
  {
   "cell_type": "code",
   "execution_count": 244,
   "metadata": {
    "collapsed": true
   },
   "outputs": [],
   "source": [
    "ithinks_labeled = [col for colname,col in captions_f.groupby('label')['ithinks']]"
   ]
  },
  {
   "cell_type": "code",
   "execution_count": 245,
   "metadata": {
    "collapsed": false
   },
   "outputs": [
    {
     "name": "stdout",
     "output_type": "stream",
     "text": [
      "p value is:1.94337568156e-05\n"
     ]
    }
   ],
   "source": [
    "f_val, p_val = ss.f_oneway(*ithinks_labeled)\n",
    "print 'p value is:{}'.format(p_val)"
   ]
  },
  {
   "cell_type": "code",
   "execution_count": 246,
   "metadata": {
    "collapsed": true
   },
   "outputs": [],
   "source": [
    "# (my) journey\n",
    "def findstory(text):\n",
    "    content = ';'.join(text)\n",
    "    story_words = '|'.join(['journey','story','experience'])\n",
    "    num = len(re.findall(story_words,content))\n",
    "    return num"
   ]
  },
  {
   "cell_type": "code",
   "execution_count": 247,
   "metadata": {
    "collapsed": true
   },
   "outputs": [],
   "source": [
    "storywords = captions_f.text.apply(findstory)"
   ]
  },
  {
   "cell_type": "code",
   "execution_count": 248,
   "metadata": {
    "collapsed": false
   },
   "outputs": [
    {
     "data": {
      "text/plain": [
       "count    1535.000000\n",
       "mean        2.904235\n",
       "std         3.740518\n",
       "min         0.000000\n",
       "25%         0.000000\n",
       "50%         2.000000\n",
       "75%         4.000000\n",
       "max        38.000000\n",
       "Name: text, dtype: float64"
      ]
     },
     "execution_count": 248,
     "metadata": {},
     "output_type": "execute_result"
    }
   ],
   "source": [
    "storywords.describe()"
   ]
  },
  {
   "cell_type": "code",
   "execution_count": 249,
   "metadata": {
    "collapsed": false
   },
   "outputs": [
    {
     "data": {
      "text/plain": [
       "<matplotlib.axes._subplots.AxesSubplot at 0x121cadad0>"
      ]
     },
     "execution_count": 249,
     "metadata": {},
     "output_type": "execute_result"
    },
    {
     "data": {
      "image/png": "[encoded data removed]",
      "text/plain": [
       "<matplotlib.figure.Figure at 0x122d8bb50>"
      ]
     },
     "metadata": {},
     "output_type": "display_data"
    }
   ],
   "source": [
    "sns.boxplot(storywords, groupby=captions_f.label)"
   ]
  },
  {
   "cell_type": "code",
   "execution_count": 250,
   "metadata": {
    "collapsed": true
   },
   "outputs": [],
   "source": [
    "captions_f['storywords']=storywords"
   ]
  },
  {
   "cell_type": "markdown",
   "metadata": {},
   "source": [
    "###2.2 Laughter or Applause as standalone paragraph "
   ]
  },
  {
   "cell_type": "code",
   "execution_count": 251,
   "metadata": {
    "collapsed": true
   },
   "outputs": [],
   "source": [
    "def laughpara(text):\n",
    "    counts = 0\n",
    "    for paras in text:\n",
    "        laugh = paras == '(Laughter)'\n",
    "        counts += laugh\n",
    "    return counts"
   ]
  },
  {
   "cell_type": "code",
   "execution_count": 252,
   "metadata": {
    "collapsed": true
   },
   "outputs": [],
   "source": [
    "laughpara = captions_f.text.apply(laughpara)"
   ]
  },
  {
   "cell_type": "code",
   "execution_count": 253,
   "metadata": {
    "collapsed": false
   },
   "outputs": [],
   "source": [
    "def applausepara(text):\n",
    "    counts = 0\n",
    "    for paras in text:\n",
    "        laugh = paras == '(Applause)'\n",
    "        counts += laugh\n",
    "    return counts"
   ]
  },
  {
   "cell_type": "code",
   "execution_count": 254,
   "metadata": {
    "collapsed": true
   },
   "outputs": [],
   "source": [
    "applausepara = captions_f.text.apply(applausepara)"
   ]
  },
  {
   "cell_type": "code",
   "execution_count": 255,
   "metadata": {
    "collapsed": false
   },
   "outputs": [],
   "source": [
    "captions_f['app_as_para'] = applausepara\n",
    "captions_f['laugh_as_para'] = laughpara"
   ]
  },
  {
   "cell_type": "code",
   "execution_count": 257,
   "metadata": {
    "collapsed": false
   },
   "outputs": [
    {
     "data": {
      "text/plain": [
       "Index([               u'id',              u'text',    u'laughter_total',\n",
       "                  u'length',          u'num_para',        u'wordcounts',\n",
       "       u'laughter_per_word',      u'word_per_sec',       u'para_length',\n",
       "          u'applause_total', u'applause_per_word',      u'And_so_total',\n",
       "               u'diversion',             u'label',      u'div_per_word',\n",
       "                 u'ithinks',        u'storywords',       u'app_as_para',\n",
       "           u'laugh_as_para'],\n",
       "      dtype='object')"
      ]
     },
     "execution_count": 257,
     "metadata": {},
     "output_type": "execute_result"
    }
   ],
   "source": [
    "captions_f.columns"
   ]
  },
  {
   "cell_type": "code",
   "execution_count": 258,
   "metadata": {
    "collapsed": true
   },
   "outputs": [],
   "source": [
    "talks_train = pd.read_json('train.json')"
   ]
  },
  {
   "cell_type": "code",
   "execution_count": 259,
   "metadata": {
    "collapsed": true
   },
   "outputs": [],
   "source": [
    "talks_train.reset_index(drop = True, inplace = True)"
   ]
  },
  {
   "cell_type": "code",
   "execution_count": 260,
   "metadata": {
    "collapsed": false
   },
   "outputs": [
    {
     "data": {
      "text/plain": [
       "(1535, 31)"
      ]
     },
     "execution_count": 260,
     "metadata": {},
     "output_type": "execute_result"
    }
   ],
   "source": [
    "talks_train.shape"
   ]
  },
  {
   "cell_type": "code",
   "execution_count": 261,
   "metadata": {
    "collapsed": true
   },
   "outputs": [],
   "source": [
    "talks_train.sort(columns = 'id',inplace = True)"
   ]
  },
  {
   "cell_type": "code",
   "execution_count": 262,
   "metadata": {
    "collapsed": false
   },
   "outputs": [],
   "source": [
    "response.sort(columns = 'id',inplace = True)"
   ]
  },
  {
   "cell_type": "code",
   "execution_count": 263,
   "metadata": {
    "collapsed": false
   },
   "outputs": [],
   "source": [
    "talks_train = talks_train.merge(response, on = 'id')"
   ]
  },
  {
   "cell_type": "code",
   "execution_count": 264,
   "metadata": {
    "collapsed": false
   },
   "outputs": [
    {
     "data": {
      "text/html": [
       "<div style=\"max-height:1000px;max-width:1500px;overflow:auto;\">\n",
       "<table border=\"1\" class=\"dataframe\">\n",
       "  <thead>\n",
       "    <tr style=\"text-align: right;\">\n",
       "      <th></th>\n",
       "      <th>id</th>\n",
       "      <th>text</th>\n",
       "      <th>laughter_total</th>\n",
       "      <th>length</th>\n",
       "      <th>num_para</th>\n",
       "      <th>wordcounts</th>\n",
       "      <th>laughter_per_word</th>\n",
       "      <th>word_per_sec</th>\n",
       "      <th>para_length</th>\n",
       "      <th>applause_total</th>\n",
       "      <th>applause_per_word</th>\n",
       "      <th>And_so_total</th>\n",
       "      <th>diversion</th>\n",
       "      <th>label</th>\n",
       "      <th>div_per_word</th>\n",
       "      <th>ithinks</th>\n",
       "      <th>storywords</th>\n",
       "      <th>app_as_para</th>\n",
       "      <th>laugh_as_para</th>\n",
       "    </tr>\n",
       "  </thead>\n",
       "  <tbody>\n",
       "    <tr>\n",
       "      <th>0</th>\n",
       "      <td>1</td>\n",
       "      <td>[Thank you so much, Chris. And it's truly a gr...</td>\n",
       "      <td>10</td>\n",
       "      <td>944.000</td>\n",
       "      <td>16</td>\n",
       "      <td>2139</td>\n",
       "      <td>0.004675</td>\n",
       "      <td>2.265890</td>\n",
       "      <td>133.687500</td>\n",
       "      <td>4</td>\n",
       "      <td>0.001870</td>\n",
       "      <td>1</td>\n",
       "      <td>26</td>\n",
       "      <td>4</td>\n",
       "      <td>0.012155</td>\n",
       "      <td>1</td>\n",
       "      <td>6</td>\n",
       "      <td>2</td>\n",
       "      <td>2</td>\n",
       "    </tr>\n",
       "    <tr>\n",
       "      <th>1</th>\n",
       "      <td>2</td>\n",
       "      <td>[In terms of invention,, I'd like to tell you ...</td>\n",
       "      <td>6</td>\n",
       "      <td>879.000</td>\n",
       "      <td>27</td>\n",
       "      <td>2604</td>\n",
       "      <td>0.002304</td>\n",
       "      <td>2.962457</td>\n",
       "      <td>96.444444</td>\n",
       "      <td>1</td>\n",
       "      <td>0.000384</td>\n",
       "      <td>4</td>\n",
       "      <td>14</td>\n",
       "      <td>1</td>\n",
       "      <td>0.005376</td>\n",
       "      <td>9</td>\n",
       "      <td>0</td>\n",
       "      <td>1</td>\n",
       "      <td>5</td>\n",
       "    </tr>\n",
       "    <tr>\n",
       "      <th>2</th>\n",
       "      <td>2167</td>\n",
       "      <td>[When you grow up in a developing country\\nlik...</td>\n",
       "      <td>0</td>\n",
       "      <td>967.755</td>\n",
       "      <td>25</td>\n",
       "      <td>1992</td>\n",
       "      <td>0.000000</td>\n",
       "      <td>2.058372</td>\n",
       "      <td>79.680000</td>\n",
       "      <td>1</td>\n",
       "      <td>0.000502</td>\n",
       "      <td>0</td>\n",
       "      <td>2</td>\n",
       "      <td>0</td>\n",
       "      <td>0.001004</td>\n",
       "      <td>0</td>\n",
       "      <td>0</td>\n",
       "      <td>1</td>\n",
       "      <td>0</td>\n",
       "    </tr>\n",
       "    <tr>\n",
       "      <th>3</th>\n",
       "      <td>3</td>\n",
       "      <td>[A public, Dewey long ago observed,, is consti...</td>\n",
       "      <td>1</td>\n",
       "      <td>1099.000</td>\n",
       "      <td>22</td>\n",
       "      <td>2485</td>\n",
       "      <td>0.000402</td>\n",
       "      <td>2.261146</td>\n",
       "      <td>112.954545</td>\n",
       "      <td>1</td>\n",
       "      <td>0.000402</td>\n",
       "      <td>0</td>\n",
       "      <td>32</td>\n",
       "      <td>0</td>\n",
       "      <td>0.012877</td>\n",
       "      <td>3</td>\n",
       "      <td>5</td>\n",
       "      <td>1</td>\n",
       "      <td>1</td>\n",
       "    </tr>\n",
       "    <tr>\n",
       "      <th>4</th>\n",
       "      <td>99</td>\n",
       "      <td>[Okay., ♫ Strolling along in Central Park ♫, ♫...</td>\n",
       "      <td>2</td>\n",
       "      <td>131.000</td>\n",
       "      <td>28</td>\n",
       "      <td>173</td>\n",
       "      <td>0.011561</td>\n",
       "      <td>1.320611</td>\n",
       "      <td>6.178571</td>\n",
       "      <td>2</td>\n",
       "      <td>0.011561</td>\n",
       "      <td>1</td>\n",
       "      <td>0</td>\n",
       "      <td>4</td>\n",
       "      <td>0.000000</td>\n",
       "      <td>0</td>\n",
       "      <td>0</td>\n",
       "      <td>1</td>\n",
       "      <td>0</td>\n",
       "    </tr>\n",
       "  </tbody>\n",
       "</table>\n",
       "</div>"
      ],
      "text/plain": [
       "     id                                               text  laughter_total  \\\n",
       "0     1  [Thank you so much, Chris. And it's truly a gr...              10   \n",
       "1     2  [In terms of invention,, I'd like to tell you ...               6   \n",
       "2  2167  [When you grow up in a developing country\\nlik...               0   \n",
       "3     3  [A public, Dewey long ago observed,, is consti...               1   \n",
       "4    99  [Okay., ♫ Strolling along in Central Park ♫, ♫...               2   \n",
       "\n",
       "     length  num_para  wordcounts  laughter_per_word  word_per_sec  \\\n",
       "0   944.000        16        2139           0.004675      2.265890   \n",
       "1   879.000        27        2604           0.002304      2.962457   \n",
       "2   967.755        25        1992           0.000000      2.058372   \n",
       "3  1099.000        22        2485           0.000402      2.261146   \n",
       "4   131.000        28         173           0.011561      1.320611   \n",
       "\n",
       "   para_length  applause_total  applause_per_word  And_so_total  diversion  \\\n",
       "0   133.687500               4           0.001870             1         26   \n",
       "1    96.444444               1           0.000384             4         14   \n",
       "2    79.680000               1           0.000502             0          2   \n",
       "3   112.954545               1           0.000402             0         32   \n",
       "4     6.178571               2           0.011561             1          0   \n",
       "\n",
       "   label  div_per_word  ithinks  storywords  app_as_para  laugh_as_para  \n",
       "0      4      0.012155        1           6            2              2  \n",
       "1      1      0.005376        9           0            1              5  \n",
       "2      0      0.001004        0           0            1              0  \n",
       "3      0      0.012877        3           5            1              1  \n",
       "4      4      0.000000        0           0            1              0  "
      ]
     },
     "execution_count": 264,
     "metadata": {},
     "output_type": "execute_result"
    }
   ],
   "source": [
    "captions_f.head()"
   ]
  },
  {
   "cell_type": "code",
   "execution_count": 265,
   "metadata": {
    "collapsed": true
   },
   "outputs": [],
   "source": [
    "captions_f['funny_binary']= captions_f.label == 4\n",
    "captions_f['neg_binary'] = captions_f.label == 3"
   ]
  },
  {
   "cell_type": "code",
   "execution_count": 266,
   "metadata": {
    "collapsed": false
   },
   "outputs": [
    {
     "data": {
      "text/plain": [
       "<matplotlib.axes._subplots.AxesSubplot at 0x1237ce4d0>"
      ]
     },
     "execution_count": 266,
     "metadata": {},
     "output_type": "execute_result"
    },
    {
     "data": {
      "image/png": "[encoded data removed]",
      "text/plain": [
       "<matplotlib.figure.Figure at 0x1237ce750>"
      ]
     },
     "metadata": {},
     "output_type": "display_data"
    }
   ],
   "source": [
    "captions_f.boxplot(column='laugh_as_para',by = 'funny_binary',)"
   ]
  },
  {
   "cell_type": "code",
   "execution_count": 267,
   "metadata": {
    "collapsed": true
   },
   "outputs": [],
   "source": [
    "captions_f['app_total_log'] = captions_f['applause_total'].apply(lambda x: np.log10(x))"
   ]
  },
  {
   "cell_type": "code",
   "execution_count": 268,
   "metadata": {
    "collapsed": false
   },
   "outputs": [
    {
     "data": {
      "text/plain": [
       "<matplotlib.axes._subplots.AxesSubplot at 0x12421a810>"
      ]
     },
     "execution_count": 268,
     "metadata": {},
     "output_type": "execute_result"
    },
    {
     "data": {
      "image/png": "[encoded data removed]",
      "text/plain": [
       "<matplotlib.figure.Figure at 0x124214e50>"
      ]
     },
     "metadata": {},
     "output_type": "display_data"
    }
   ],
   "source": [
    "captions_f.boxplot(column='applause_total',by = 'neg_binary',)"
   ]
  },
  {
   "cell_type": "code",
   "execution_count": 269,
   "metadata": {
    "collapsed": false
   },
   "outputs": [
    {
     "data": {
      "text/plain": [
       "Index([               u'id',              u'text',    u'laughter_total',\n",
       "                  u'length',          u'num_para',        u'wordcounts',\n",
       "       u'laughter_per_word',      u'word_per_sec',       u'para_length',\n",
       "          u'applause_total', u'applause_per_word',      u'And_so_total',\n",
       "               u'diversion',             u'label',      u'div_per_word',\n",
       "                 u'ithinks',        u'storywords',       u'app_as_para',\n",
       "           u'laugh_as_para',      u'funny_binary',        u'neg_binary',\n",
       "           u'app_total_log'],\n",
       "      dtype='object')"
      ]
     },
     "execution_count": 269,
     "metadata": {},
     "output_type": "execute_result"
    }
   ],
   "source": [
    "captions_f.columns"
   ]
  },
  {
   "cell_type": "code",
   "execution_count": 270,
   "metadata": {
    "collapsed": false
   },
   "outputs": [
    {
     "data": {
      "text/plain": [
       "count    179.000000\n",
       "mean       1.189944\n",
       "std        0.952648\n",
       "min        0.000000\n",
       "25%        1.000000\n",
       "50%        1.000000\n",
       "75%        1.000000\n",
       "max        4.000000\n",
       "Name: app_as_para, dtype: float64"
      ]
     },
     "execution_count": 270,
     "metadata": {},
     "output_type": "execute_result"
    }
   ],
   "source": [
    "captions_f[captions_f.neg_binary==True].app_as_para.describe()"
   ]
  },
  {
   "cell_type": "code",
   "execution_count": 271,
   "metadata": {
    "collapsed": false
   },
   "outputs": [
    {
     "data": {
      "text/plain": [
       "count    1356.000000\n",
       "mean        1.889381\n",
       "std         1.814946\n",
       "min         0.000000\n",
       "25%         1.000000\n",
       "50%         1.000000\n",
       "75%         2.000000\n",
       "max        17.000000\n",
       "Name: app_as_para, dtype: float64"
      ]
     },
     "execution_count": 271,
     "metadata": {},
     "output_type": "execute_result"
    }
   ],
   "source": [
    "captions_f[captions_f.neg_binary==False].app_as_para.describe()"
   ]
  },
  {
   "cell_type": "markdown",
   "metadata": {},
   "source": [
    "###Save captions_f "
   ]
  },
  {
   "cell_type": "code",
   "execution_count": 272,
   "metadata": {
    "collapsed": false
   },
   "outputs": [
    {
     "data": {
      "text/plain": [
       "Index([               u'id',              u'text',    u'laughter_total',\n",
       "                  u'length',          u'num_para',        u'wordcounts',\n",
       "       u'laughter_per_word',      u'word_per_sec',       u'para_length',\n",
       "          u'applause_total', u'applause_per_word',      u'And_so_total',\n",
       "               u'diversion',             u'label',      u'div_per_word',\n",
       "                 u'ithinks',        u'storywords',       u'app_as_para',\n",
       "           u'laugh_as_para',      u'funny_binary',        u'neg_binary',\n",
       "           u'app_total_log'],\n",
       "      dtype='object')"
      ]
     },
     "execution_count": 272,
     "metadata": {},
     "output_type": "execute_result"
    }
   ],
   "source": [
    "captions_f.columns"
   ]
  },
  {
   "cell_type": "code",
   "execution_count": 273,
   "metadata": {
    "collapsed": true
   },
   "outputs": [],
   "source": [
    "captions_f.to_json('captions_f.json')"
   ]
  },
  {
   "cell_type": "markdown",
   "metadata": {
    "collapsed": true
   },
   "source": [
    "###2.3 Mining transcripts with spaCy and NLTK "
   ]
  },
  {
   "cell_type": "code",
   "execution_count": 5,
   "metadata": {
    "collapsed": true
   },
   "outputs": [],
   "source": [
    "from __future__ import unicode_literals\n",
    "from spacy.en import English, attrs\n",
    "from spacy import en\n",
    "from nltk import word_tokenize\n",
    "from sklearn.feature_extraction.text import CountVectorizer"
   ]
  },
  {
   "cell_type": "code",
   "execution_count": 6,
   "metadata": {
    "collapsed": true
   },
   "outputs": [],
   "source": [
    "from spacy.parts_of_speech import ADV, NOUN, ADJ, PUNCT, VERB"
   ]
  },
  {
   "cell_type": "code",
   "execution_count": 7,
   "metadata": {
    "collapsed": true
   },
   "outputs": [],
   "source": [
    "# remove punctuations\n",
    "from string import punctuation"
   ]
  },
  {
   "cell_type": "code",
   "execution_count": 8,
   "metadata": {
    "collapsed": true
   },
   "outputs": [],
   "source": [
    "nlp = English()"
   ]
  },
  {
   "cell_type": "code",
   "execution_count": 9,
   "metadata": {
    "collapsed": false
   },
   "outputs": [],
   "source": [
    "captions_f = pd.read_json('captions_f.json')"
   ]
  },
  {
   "cell_type": "code",
   "execution_count": 10,
   "metadata": {
    "collapsed": false
   },
   "outputs": [],
   "source": [
    "captions_f.sort(columns = 'id',inplace = True)"
   ]
  },
  {
   "cell_type": "code",
   "execution_count": 11,
   "metadata": {
    "collapsed": true
   },
   "outputs": [],
   "source": [
    "captions_f.reset_index(inplace = True, drop = True)"
   ]
  },
  {
   "cell_type": "code",
   "execution_count": 12,
   "metadata": {
    "collapsed": false
   },
   "outputs": [
    {
     "data": {
      "text/plain": [
       "(1535, 22)"
      ]
     },
     "execution_count": 12,
     "metadata": {},
     "output_type": "execute_result"
    }
   ],
   "source": [
    "captions_f.shape"
   ]
  },
  {
   "cell_type": "markdown",
   "metadata": {},
   "source": [
    "### combine all paragraphs "
   ]
  },
  {
   "cell_type": "code",
   "execution_count": 13,
   "metadata": {
    "collapsed": false
   },
   "outputs": [],
   "source": [
    "punset = set(punctuation)"
   ]
  },
  {
   "cell_type": "code",
   "execution_count": 14,
   "metadata": {
    "collapsed": true
   },
   "outputs": [],
   "source": [
    "stopset = set(stopwords.words('english'))"
   ]
  },
  {
   "cell_type": "markdown",
   "metadata": {
    "collapsed": true
   },
   "source": [
    "to keep it's that's etc unseparated, do this\n",
    "test3 = re.sub('\\'','\\u2019',test2)"
   ]
  },
  {
   "cell_type": "markdown",
   "metadata": {},
   "source": [
    "###2.3.1 Tokenize the text, lower the case, remove punctuations and interjections (laughter, mob, applause)"
   ]
  },
  {
   "cell_type": "code",
   "execution_count": 15,
   "metadata": {
    "collapsed": true
   },
   "outputs": [],
   "source": [
    "def tokenize(text):\n",
    "    # return word tokens\n",
    "    # text comes in as list of paragraph\n",
    "    text = ' '.join(text)\n",
    "    # remove '(Laughter)' etc, \n",
    "    text = re.sub('\\([\\w\\s]+\\)','',text)\n",
    "    text = text.lower()\n",
    "    tokens = nlp(text, parse = False)\n",
    "    words = []\n",
    "    for token in tokens:\n",
    "        # remove punctuations\n",
    "        if token.pos != PUNCT:\n",
    "            words.append(token)\n",
    "    return words"
   ]
  },
  {
   "cell_type": "markdown",
   "metadata": {},
   "source": [
    "###2.3.2 Count stopwords "
   ]
  },
  {
   "cell_type": "code",
   "execution_count": 17,
   "metadata": {
    "collapsed": true
   },
   "outputs": [],
   "source": [
    "def stopcounts(token_list):\n",
    "    # token_list comes in as a list\n",
    "    num_words = len(token_list)\n",
    "    count = 0\n",
    "    for token in token_list:\n",
    "        if token.string.strip(' ').lower() in stopset:\n",
    "            count += 1\n",
    "    return count/float(num_words)"
   ]
  },
  {
   "cell_type": "code",
   "execution_count": 19,
   "metadata": {
    "collapsed": true
   },
   "outputs": [],
   "source": [
    "tokens = captions_f.text.apply(tokenize)"
   ]
  },
  {
   "cell_type": "code",
   "execution_count": 20,
   "metadata": {
    "collapsed": false
   },
   "outputs": [
    {
     "data": {
      "text/plain": [
       "(1535,)"
      ]
     },
     "execution_count": 20,
     "metadata": {},
     "output_type": "execute_result"
    }
   ],
   "source": [
    "tokens.shape"
   ]
  },
  {
   "cell_type": "code",
   "execution_count": 21,
   "metadata": {
    "collapsed": true
   },
   "outputs": [],
   "source": [
    "captions_f['cap_tokens'] = tokens"
   ]
  },
  {
   "cell_type": "code",
   "execution_count": 22,
   "metadata": {
    "collapsed": false
   },
   "outputs": [],
   "source": [
    "stopwords_ratio = captions_f['cap_tokens'].apply(stopcounts)"
   ]
  },
  {
   "cell_type": "code",
   "execution_count": 23,
   "metadata": {
    "collapsed": false
   },
   "outputs": [
    {
     "data": {
      "text/plain": [
       "<matplotlib.axes._subplots.AxesSubplot at 0x168642150>"
      ]
     },
     "execution_count": 23,
     "metadata": {},
     "output_type": "execute_result"
    },
    {
     "data": {
      "image/png": "[encoded data removed]",
      "text/plain": [
       "<matplotlib.figure.Figure at 0x12bd9a8d0>"
      ]
     },
     "metadata": {},
     "output_type": "display_data"
    }
   ],
   "source": [
    "stopwords_ratio.hist(bins = 30)"
   ]
  },
  {
   "cell_type": "code",
   "execution_count": 24,
   "metadata": {
    "collapsed": true
   },
   "outputs": [],
   "source": [
    "captions_f['stopwords_ratio'] = stopwords_ratio"
   ]
  },
  {
   "cell_type": "code",
   "execution_count": 25,
   "metadata": {
    "collapsed": false
   },
   "outputs": [
    {
     "data": {
      "text/plain": [
       "Index([     u'And_so_total',       u'app_as_para',     u'app_total_log',\n",
       "       u'applause_per_word',    u'applause_total',      u'div_per_word',\n",
       "               u'diversion',      u'funny_binary',                u'id',\n",
       "                 u'ithinks',             u'label',     u'laugh_as_para',\n",
       "       u'laughter_per_word',    u'laughter_total',            u'length',\n",
       "              u'neg_binary',          u'num_para',       u'para_length',\n",
       "              u'storywords',              u'text',      u'word_per_sec',\n",
       "              u'wordcounts',        u'cap_tokens',   u'stopwords_ratio'],\n",
       "      dtype='object')"
      ]
     },
     "execution_count": 25,
     "metadata": {},
     "output_type": "execute_result"
    }
   ],
   "source": [
    "captions_f.columns"
   ]
  },
  {
   "cell_type": "code",
   "execution_count": 26,
   "metadata": {
    "collapsed": false
   },
   "outputs": [
    {
     "data": {
      "text/plain": [
       "<matplotlib.axes._subplots.AxesSubplot at 0x168855110>"
      ]
     },
     "execution_count": 26,
     "metadata": {},
     "output_type": "execute_result"
    },
    {
     "data": {
      "image/png": "[encoded data removed]",
      "text/plain": [
       "<matplotlib.figure.Figure at 0x168861050>"
      ]
     },
     "metadata": {},
     "output_type": "display_data"
    }
   ],
   "source": [
    "sns.boxplot(stopwords_ratio,groupby = captions_f.label)"
   ]
  },
  {
   "cell_type": "code",
   "execution_count": 27,
   "metadata": {
    "collapsed": true
   },
   "outputs": [],
   "source": [
    "stopwords_labeled = [col for colname,col in captions_f.groupby('label')['stopwords_ratio']]"
   ]
  },
  {
   "cell_type": "code",
   "execution_count": 30,
   "metadata": {
    "collapsed": false
   },
   "outputs": [
    {
     "name": "stdout",
     "output_type": "stream",
     "text": [
      "p value is:0.361236442369\n"
     ]
    }
   ],
   "source": [
    "f_val, p_val = ss.f_oneway(*stopwords_labeled)\n",
    "print 'p value is:{}'.format(p_val)"
   ]
  },
  {
   "cell_type": "markdown",
   "metadata": {},
   "source": [
    "####So there is no evident difference  "
   ]
  },
  {
   "cell_type": "markdown",
   "metadata": {},
   "source": [
    "### 2.3.2 Count important POS, take label class 2 (jaw-dropping) and 0 (informative) for example "
   ]
  },
  {
   "cell_type": "markdown",
   "metadata": {},
   "source": [
    "Take the most jaw-dropping but not informative talks(3) and the reversed 3 talks, look at the noun, adj and adv"
   ]
  },
  {
   "cell_type": "code",
   "execution_count": 175,
   "metadata": {
    "collapsed": true
   },
   "outputs": [],
   "source": [
    "jawids = [129, 65, 199]"
   ]
  },
  {
   "cell_type": "code",
   "execution_count": 176,
   "metadata": {
    "collapsed": true
   },
   "outputs": [],
   "source": [
    "infoids = [152, 899, 10]"
   ]
  },
  {
   "cell_type": "markdown",
   "metadata": {},
   "source": [
    "The probability of tokens (verbs and nouns) are estimated based on counts from a 3 billion word corpus, smoothed using the simple good-turing methods. token.prob outputs the log prob"
   ]
  },
  {
   "cell_type": "code",
   "execution_count": 31,
   "metadata": {
    "collapsed": true
   },
   "outputs": [],
   "source": [
    "# define a function to take cap_tokens as input and output list of unique tokens \n",
    "# joined as a string for CountVectorizer \n",
    "def getpos(token_list,prob = -10,pos = ADJ):\n",
    "    words = []\n",
    "    for token in token_list:\n",
    "        if token.pos == pos and token.prob < prob:\n",
    "            words.append(token.lemma_)\n",
    "            words = list(set(words))\n",
    "    return words"
   ]
  },
  {
   "cell_type": "code",
   "execution_count": 32,
   "metadata": {
    "collapsed": true
   },
   "outputs": [],
   "source": [
    "captions_f['noun_token'] = captions_f.cap_tokens.apply(getpos,pos = NOUN, prob = -3).apply(lambda x: ' '.join(x))"
   ]
  },
  {
   "cell_type": "code",
   "execution_count": 33,
   "metadata": {
    "collapsed": true
   },
   "outputs": [],
   "source": [
    "captions_f['verb_token'] = captions_f.cap_tokens.apply(getpos,pos = VERB, prob = -3).apply(lambda x: ' '.join(x))"
   ]
  },
  {
   "cell_type": "code",
   "execution_count": 34,
   "metadata": {
    "collapsed": true
   },
   "outputs": [],
   "source": [
    "noungroupby = captions_f.groupby('label')['noun_token']"
   ]
  },
  {
   "cell_type": "code",
   "execution_count": 35,
   "metadata": {
    "collapsed": true
   },
   "outputs": [],
   "source": [
    "verbgroupby = captions_f.groupby('label')['verb_token']"
   ]
  },
  {
   "cell_type": "code",
   "execution_count": 36,
   "metadata": {
    "collapsed": false
   },
   "outputs": [],
   "source": [
    "# define a function to receive groupby obj and output dict(ind: most common vocab)\n",
    "def sharedpos(groupbyobj,mindf, maxfeature):\n",
    "    sharedtoken = dict()\n",
    "    vect = CountVectorizer(min_df = mindf, binary = True, max_features = maxfeature)\n",
    "    for ind, tokengb in groupbyobj:\n",
    "        print ind, tokengb.as_matrix().shape\n",
    "        vect.fit(tokengb.as_matrix())\n",
    "        sharedtoken[ind]=set(vect.vocabulary_)\n",
    "    return sharedtoken"
   ]
  },
  {
   "cell_type": "code",
   "execution_count": 37,
   "metadata": {
    "collapsed": false
   },
   "outputs": [
    {
     "name": "stdout",
     "output_type": "stream",
     "text": [
      "0 (474,)\n",
      "1 (418,)\n",
      "2 (353,)\n",
      "3 (179,)\n",
      "4 (111,)\n"
     ]
    }
   ],
   "source": [
    "sharednoun = sharedpos(noungroupby,0.6,100)"
   ]
  },
  {
   "cell_type": "code",
   "execution_count": 38,
   "metadata": {
    "collapsed": false
   },
   "outputs": [
    {
     "name": "stdout",
     "output_type": "stream",
     "text": [
      "0 (474,)\n",
      "1 (418,)\n",
      "2 (353,)\n",
      "3 (179,)\n",
      "4 (111,)\n"
     ]
    }
   ],
   "source": [
    "sharedverb = sharedpos(verbgroupby,0.6, 100)"
   ]
  },
  {
   "cell_type": "code",
   "execution_count": 39,
   "metadata": {
    "collapsed": false
   },
   "outputs": [],
   "source": [
    "common_noun = sharednoun[0]&sharednoun[1]&sharednoun[2]&sharednoun[3]&sharednoun[4]"
   ]
  },
  {
   "cell_type": "code",
   "execution_count": 40,
   "metadata": {
    "collapsed": false
   },
   "outputs": [],
   "source": [
    "vocab_noun = []\n",
    "for value in sharednoun.itervalues():\n",
    "    vocab_noun.extend(list(value))"
   ]
  },
  {
   "cell_type": "code",
   "execution_count": 41,
   "metadata": {
    "collapsed": false
   },
   "outputs": [],
   "source": [
    "vocab_noun_final = list(set(vocab_noun) - common_noun)"
   ]
  },
  {
   "cell_type": "code",
   "execution_count": 52,
   "metadata": {
    "collapsed": false
   },
   "outputs": [
    {
     "data": {
      "text/plain": [
       "[u'life',\n",
       " u'percent',\n",
       " u'question',\n",
       " u'story',\n",
       " u'idea',\n",
       " u'part',\n",
       " u'place',\n",
       " u'fact',\n",
       " u'example',\n",
       " u'problem',\n",
       " u'bit',\n",
       " u'kind',\n",
       " u'today']"
      ]
     },
     "execution_count": 52,
     "metadata": {},
     "output_type": "execute_result"
    }
   ],
   "source": [
    "vocab_noun_final"
   ]
  },
  {
   "cell_type": "code",
   "execution_count": 42,
   "metadata": {
    "collapsed": true
   },
   "outputs": [],
   "source": [
    "common_verb = sharedverb[0]&sharedverb[1]&sharedverb[2]&sharedverb[3]&sharedverb[4]"
   ]
  },
  {
   "cell_type": "code",
   "execution_count": 43,
   "metadata": {
    "collapsed": true
   },
   "outputs": [],
   "source": [
    "vocab_verb = []\n",
    "for value in sharedverb.itervalues():\n",
    "    vocab_verb.extend(list(value))"
   ]
  },
  {
   "cell_type": "code",
   "execution_count": 44,
   "metadata": {
    "collapsed": true
   },
   "outputs": [],
   "source": [
    "vocab_verb_final = list(set(vocab_verb) - common_verb)"
   ]
  },
  {
   "cell_type": "code",
   "execution_count": 45,
   "metadata": {
    "collapsed": true
   },
   "outputs": [
    {
     "data": {
      "text/plain": [
       "[u'like',\n",
       " u'show',\n",
       " u'feel',\n",
       " u'should',\n",
       " u'leave',\n",
       " u'live',\n",
       " u'understand',\n",
       " u'talk',\n",
       " u'ask',\n",
       " u'become',\n",
       " u'change']"
      ]
     },
     "execution_count": 45,
     "metadata": {},
     "output_type": "execute_result"
    }
   ],
   "source": [
    "vocab_verb_final"
   ]
  },
  {
   "cell_type": "code",
   "execution_count": 49,
   "metadata": {
    "collapsed": false
   },
   "outputs": [],
   "source": [
    "captions_f.drop('cap_tokens',axis = 1,inplace = True)"
   ]
  },
  {
   "cell_type": "code",
   "execution_count": 50,
   "metadata": {
    "collapsed": false
   },
   "outputs": [
    {
     "data": {
      "text/plain": [
       "Index([     u'And_so_total',       u'app_as_para',     u'app_total_log',\n",
       "       u'applause_per_word',    u'applause_total',      u'div_per_word',\n",
       "               u'diversion',      u'funny_binary',                u'id',\n",
       "                 u'ithinks',             u'label',     u'laugh_as_para',\n",
       "       u'laughter_per_word',    u'laughter_total',            u'length',\n",
       "              u'neg_binary',          u'num_para',       u'para_length',\n",
       "              u'storywords',              u'text',      u'word_per_sec',\n",
       "              u'wordcounts',   u'stopwords_ratio',        u'noun_token',\n",
       "              u'verb_token'],\n",
       "      dtype='object')"
      ]
     },
     "execution_count": 50,
     "metadata": {},
     "output_type": "execute_result"
    }
   ],
   "source": [
    "captions_f.columns"
   ]
  },
  {
   "cell_type": "code",
   "execution_count": 51,
   "metadata": {
    "collapsed": true
   },
   "outputs": [],
   "source": [
    "captions_f.to_json('captions_f.json')"
   ]
  },
  {
   "cell_type": "code",
   "execution_count": null,
   "metadata": {
    "collapsed": true
   },
   "outputs": [],
   "source": []
  },
  {
   "cell_type": "code",
   "execution_count": null,
   "metadata": {
    "collapsed": true
   },
   "outputs": [],
   "source": []
  },
  {
   "cell_type": "code",
   "execution_count": null,
   "metadata": {
    "collapsed": true
   },
   "outputs": [],
   "source": []
  },
  {
   "cell_type": "code",
   "execution_count": null,
   "metadata": {
    "collapsed": true
   },
   "outputs": [],
   "source": []
  },
  {
   "cell_type": "code",
   "execution_count": 53,
   "metadata": {
    "collapsed": true
   },
   "outputs": [],
   "source": [
    "from scipy.spatial.distance import cosine"
   ]
  },
  {
   "cell_type": "code",
   "execution_count": 162,
   "metadata": {
    "collapsed": true
   },
   "outputs": [],
   "source": [
    "nlp = English()"
   ]
  },
  {
   "cell_type": "code",
   "execution_count": 163,
   "metadata": {
    "collapsed": false
   },
   "outputs": [],
   "source": [
    "sculptor = nlp.vocab[u'sculptor']"
   ]
  },
  {
   "cell_type": "code",
   "execution_count": 164,
   "metadata": {
    "collapsed": false
   },
   "outputs": [
    {
     "data": {
      "text/plain": [
       "-13.12763500213623"
      ]
     },
     "execution_count": 164,
     "metadata": {},
     "output_type": "execute_result"
    }
   ],
   "source": [
    "sculptor.prob"
   ]
  },
  {
   "cell_type": "code",
   "execution_count": 165,
   "metadata": {
    "collapsed": false
   },
   "outputs": [
    {
     "data": {
      "text/plain": [
       "array([-0.15213096, -0.00937699,  0.00855101, -0.05223943, -0.01507325], dtype=float32)"
      ]
     },
     "execution_count": 165,
     "metadata": {},
     "output_type": "execute_result"
    }
   ],
   "source": [
    "sculptor.repvec[:5]"
   ]
  },
  {
   "cell_type": "code",
   "execution_count": 166,
   "metadata": {
    "collapsed": true
   },
   "outputs": [],
   "source": [
    "words = [w for w in nlp.vocab if w.has_repvec]"
   ]
  },
  {
   "cell_type": "code",
   "execution_count": 167,
   "metadata": {
    "collapsed": true
   },
   "outputs": [],
   "source": [
    "words.sort(key=lambda w: cosine(w.repvec, sculptor.repvec))"
   ]
  },
  {
   "cell_type": "code",
   "execution_count": 170,
   "metadata": {
    "collapsed": false
   },
   "outputs": [
    {
     "name": "stdout",
     "output_type": "stream",
     "text": [
      "1-20 sculptor, sculptor, sculptor, painter, painter, painter, printmaker, architect, architect, architect, muralist, portraitist, miniaturist, caricaturist, illustrator, illustrator, engraver, dramatist, dramatist, ceramicist\n"
     ]
    }
   ],
   "source": [
    "print '1-20', ', '.join(w.lower_ for w in words[0:20])"
   ]
  },
  {
   "cell_type": "markdown",
   "metadata": {},
   "source": [
    "Notice lemma is not defined for pronouns in WordNet, therefore the author makes up the policy;\n",
    "Tag vs Pos: Pos (part-of-speech, from google universal tag set); Tag: a fine-grained morphosyntactic tag"
   ]
  },
  {
   "cell_type": "markdown",
   "metadata": {},
   "source": [
    "###Test for instance, the distance between \"sculptor\" and \"design, art, science, technology, global\" "
   ]
  },
  {
   "cell_type": "code",
   "execution_count": 70,
   "metadata": {
    "collapsed": true
   },
   "outputs": [],
   "source": [
    "testwords = ['design','science','artist','technology','global','painter','scientist']"
   ]
  },
  {
   "cell_type": "code",
   "execution_count": 71,
   "metadata": {
    "collapsed": false
   },
   "outputs": [
    {
     "name": "stdout",
     "output_type": "stream",
     "text": [
      "design 0.628889799118\n",
      "science 0.720556050539\n",
      "artist 0.276574373245\n",
      "technology 0.750671461225\n",
      "global 0.859910815954\n",
      "painter 0.129379868507\n",
      "scientist 0.412072837353\n"
     ]
    }
   ],
   "source": [
    "for word in testwords:\n",
    "    print word,cosine(nlp.vocab[word].repvec,sculptor.repvec)"
   ]
  },
  {
   "cell_type": "code",
   "execution_count": 69,
   "metadata": {
    "collapsed": false
   },
   "outputs": [
    {
     "data": {
      "text/plain": [
       "0.0"
      ]
     },
     "execution_count": 69,
     "metadata": {},
     "output_type": "execute_result"
    }
   ],
   "source": [
    "nlp.vocab['good']"
   ]
  },
  {
   "cell_type": "markdown",
   "metadata": {},
   "source": [
    "Gore's talk has 194 paragraphs"
   ]
  },
  {
   "cell_type": "code",
   "execution_count": 33,
   "metadata": {
    "collapsed": true
   },
   "outputs": [],
   "source": [
    "def countpos(text):\n",
    "    posdict = dict()\n",
    "    tokens = nlp(text,parse = False)\n",
    "    for token in tokens:\n",
    "        if token.pos_ in posdict.keys():\n",
    "            posdict[token.pos_]+=1\n",
    "        else:\n",
    "            posdict[token.pos_]=1\n",
    "    return posdict"
   ]
  },
  {
   "cell_type": "code",
   "execution_count": 34,
   "metadata": {
    "collapsed": false
   },
   "outputs": [],
   "source": [
    "posdict = countpos(test[0])"
   ]
  },
  {
   "cell_type": "code",
   "execution_count": 35,
   "metadata": {
    "collapsed": false
   },
   "outputs": [
    {
     "data": {
      "text/plain": [
       "{u'ADJ': 1,\n",
       " u'ADV': 3,\n",
       " u'CONJ': 1,\n",
       " u'DET': 1,\n",
       " u'NOUN': 3,\n",
       " u'PRON': 2,\n",
       " u'PUNCT': 2,\n",
       " u'VERB': 1}"
      ]
     },
     "execution_count": 35,
     "metadata": {},
     "output_type": "execute_result"
    }
   ],
   "source": [
    "posdict"
   ]
  },
  {
   "cell_type": "code",
   "execution_count": 334,
   "metadata": {
    "collapsed": true
   },
   "outputs": [],
   "source": [
    "tokens = nlp(test[0])"
   ]
  },
  {
   "cell_type": "code",
   "execution_count": 338,
   "metadata": {
    "collapsed": false
   },
   "outputs": [
    {
     "data": {
      "text/plain": [
       "{1L: 1, 2L: 3, 4L: 1, 5L: 1, 6L: 3, 8L: 2, 10L: 1, 12L: 2}"
      ]
     },
     "execution_count": 338,
     "metadata": {},
     "output_type": "execute_result"
    }
   ],
   "source": [
    "tokens.count_by(attrs.POS)"
   ]
  },
  {
   "cell_type": "code",
   "execution_count": 342,
   "metadata": {
    "collapsed": false
   },
   "outputs": [
    {
     "data": {
      "text/plain": [
       "65"
      ]
     },
     "execution_count": 342,
     "metadata": {},
     "output_type": "execute_result"
    }
   ],
   "source": [
    "attrs.ORTH"
   ]
  },
  {
   "cell_type": "code",
   "execution_count": 350,
   "metadata": {
    "collapsed": false
   },
   "outputs": [
    {
     "name": "stdout",
     "output_type": "stream",
     "text": [
      "Thank -12.0132427216\n",
      "you -6.68225240707\n",
      "so -7.10154438019\n",
      "much -7.50383710861\n",
      ", -3.03683543205\n",
      "Chris -10.0064516068\n",
      ". -3.17597317696\n",
      "And -7.47497653961\n",
      "it -5.49812936783\n",
      "'s -4.73858451843\n",
      "truly -10.7227811813\n",
      "a -4.00384140015\n",
      "great -8.39175319672\n",
      "honor -10.3253259659\n"
     ]
    }
   ],
   "source": [
    "for token in tokens:\n",
    "    print token.orth_, token.prob"
   ]
  },
  {
   "cell_type": "code",
   "execution_count": 349,
   "metadata": {
    "collapsed": false
   },
   "outputs": [
    {
     "data": {
      "text/plain": [
       "-6.227705478668213"
      ]
     },
     "execution_count": 349,
     "metadata": {},
     "output_type": "execute_result"
    }
   ],
   "source": [
    "nlp.vocab[u'this'].prob"
   ]
  },
  {
   "cell_type": "code",
   "execution_count": 351,
   "metadata": {
    "collapsed": true
   },
   "outputs": [],
   "source": [
    "truly = tokens[10]"
   ]
  },
  {
   "cell_type": "code",
   "execution_count": 352,
   "metadata": {
    "collapsed": false
   },
   "outputs": [
    {
     "data": {
      "text/plain": [
       "(300,)"
      ]
     },
     "execution_count": 352,
     "metadata": {},
     "output_type": "execute_result"
    }
   ],
   "source": [
    "truly.repvec.shape"
   ]
  },
  {
   "cell_type": "code",
   "execution_count": null,
   "metadata": {
    "collapsed": true
   },
   "outputs": [],
   "source": []
  }
 ],
 "metadata": {
  "kernelspec": {
   "display_name": "Python 2",
   "language": "python",
   "name": "python2"
  },
  "language_info": {
   "codemirror_mode": {
    "name": "ipython",
    "version": 2
   },
   "file_extension": ".py",
   "mimetype": "text/x-python",
   "name": "python",
   "nbconvert_exporter": "python",
   "pygments_lexer": "ipython2",
   "version": "2.7.9"
  }
 },
 "nbformat": 4,
 "nbformat_minor": 0
}
