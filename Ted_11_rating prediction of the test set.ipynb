{
 "cells": [
  {
   "cell_type": "code",
   "execution_count": 1,
   "metadata": {
    "collapsed": false
   },
   "outputs": [],
   "source": [
    "import warnings\n",
    "warnings.filterwarnings('ignore')\n",
    "import pandas as pd\n",
    "import re\n",
    "import numpy as np\n",
    "import matplotlib.pylab as plt\n",
    "import seaborn as sns\n",
    "import unidecode\n",
    "%matplotlib inline\n",
    "import copy\n",
    "from time import time"
   ]
  },
  {
   "cell_type": "code",
   "execution_count": 2,
   "metadata": {
    "collapsed": true
   },
   "outputs": [],
   "source": [
    "from gensim import corpora,models,similarities\n",
    "from sklearn.cross_validation import KFold\n",
    "from collections import defaultdict\n",
    "from time import time\n",
    "from itertools import product"
   ]
  },
  {
   "cell_type": "code",
   "execution_count": 3,
   "metadata": {
    "collapsed": true
   },
   "outputs": [],
   "source": [
    "from gensim import corpora,models,similarities\n",
    "from gensim.utils import lemmatize\n",
    "from string import punctuation\n",
    "from spacy.parts_of_speech import ADV, NOUN, ADJ, PUNCT, VERB\n",
    "from spacy.en import English,STOPWORDS\n",
    "from spacy.orth import *\n",
    "from HTMLParser import HTMLParser"
   ]
  },
  {
   "cell_type": "markdown",
   "metadata": {},
   "source": [
    "## 1. Load the test set "
   ]
  },
  {
   "cell_type": "markdown",
   "metadata": {},
   "source": [
    "### 1.1 Load the ratings "
   ]
  },
  {
   "cell_type": "markdown",
   "metadata": {},
   "source": [
    "Two talks in the test set are musical performance and have no captions. They are detected later on when the captions are extracted. their talk ids are 179 and 1677, row indices are 32 and 257. They are removed here from both test.json and captions file in the following session. Similar situation is handled in Ted_9 for the training set."
   ]
  },
  {
   "cell_type": "code",
   "execution_count": 4,
   "metadata": {
    "collapsed": true
   },
   "outputs": [],
   "source": [
    "test = pd.read_json('test2.json')"
   ]
  },
  {
   "cell_type": "code",
   "execution_count": 5,
   "metadata": {
    "collapsed": false
   },
   "outputs": [
    {
     "data": {
      "text/plain": [
       "(350, 33)"
      ]
     },
     "execution_count": 5,
     "metadata": {},
     "output_type": "execute_result"
    }
   ],
   "source": [
    "test.shape"
   ]
  },
  {
   "cell_type": "code",
   "execution_count": 6,
   "metadata": {
    "collapsed": false
   },
   "outputs": [],
   "source": [
    "test.sort_values(by = 'id',inplace = True)"
   ]
  },
  {
   "cell_type": "code",
   "execution_count": 7,
   "metadata": {
    "collapsed": true
   },
   "outputs": [],
   "source": [
    "test.reset_index(drop = True,inplace = True)"
   ]
  },
  {
   "cell_type": "code",
   "execution_count": 8,
   "metadata": {
    "collapsed": false
   },
   "outputs": [
    {
     "data": {
      "text/plain": [
       "1677"
      ]
     },
     "execution_count": 8,
     "metadata": {},
     "output_type": "execute_result"
    }
   ],
   "source": [
    "test.ix[257,'id']"
   ]
  },
  {
   "cell_type": "code",
   "execution_count": 9,
   "metadata": {
    "collapsed": true
   },
   "outputs": [],
   "source": [
    "test.drop([32,257],inplace = True)"
   ]
  },
  {
   "cell_type": "code",
   "execution_count": 10,
   "metadata": {
    "collapsed": true
   },
   "outputs": [],
   "source": [
    "test.reset_index(drop = True,inplace = True)"
   ]
  },
  {
   "cell_type": "code",
   "execution_count": 11,
   "metadata": {
    "collapsed": true
   },
   "outputs": [],
   "source": [
    "test.to_json('test3.json')"
   ]
  },
  {
   "cell_type": "code",
   "execution_count": 11,
   "metadata": {
    "collapsed": true
   },
   "outputs": [],
   "source": [
    "test_talkids = test['id']"
   ]
  },
  {
   "cell_type": "code",
   "execution_count": 12,
   "metadata": {
    "collapsed": false
   },
   "outputs": [],
   "source": [
    "iddict_test = dict([(item[1],item[0]) for item in test_talkids.iteritems()])"
   ]
  },
  {
   "cell_type": "code",
   "execution_count": 13,
   "metadata": {
    "collapsed": true
   },
   "outputs": [],
   "source": [
    "rowdict_test = dict([(item[0],item[1]) for item in test_talkids.iteritems()])"
   ]
  },
  {
   "cell_type": "code",
   "execution_count": 14,
   "metadata": {
    "collapsed": true
   },
   "outputs": [],
   "source": [
    "testratings = test.ix[:,:14]\n",
    "ratingwords = list(testratings.columns)"
   ]
  },
  {
   "cell_type": "code",
   "execution_count": 15,
   "metadata": {
    "collapsed": true
   },
   "outputs": [],
   "source": [
    "testratings = testratings.fillna(0)"
   ]
  },
  {
   "cell_type": "code",
   "execution_count": 16,
   "metadata": {
    "collapsed": true
   },
   "outputs": [],
   "source": [
    "test_ratingsum_raw = testratings.sum(axis = 1)"
   ]
  },
  {
   "cell_type": "code",
   "execution_count": 17,
   "metadata": {
    "collapsed": false
   },
   "outputs": [],
   "source": [
    "testratings[ratingwords] = testratings[ratingwords]+1\n",
    "testratings = testratings[ratingwords].div(test_ratingsum_raw+14,axis = 'index')"
   ]
  },
  {
   "cell_type": "code",
   "execution_count": 18,
   "metadata": {
    "collapsed": false
   },
   "outputs": [],
   "source": [
    "testratings['id'] = test['id']\n",
    "testratings['gender'] = test['speaker_gender']"
   ]
  },
  {
   "cell_type": "markdown",
   "metadata": {},
   "source": [
    "### Load the training ratings "
   ]
  },
  {
   "cell_type": "code",
   "execution_count": 19,
   "metadata": {
    "collapsed": true
   },
   "outputs": [],
   "source": [
    "train = pd.read_json('train3.json')"
   ]
  },
  {
   "cell_type": "code",
   "execution_count": 20,
   "metadata": {
    "collapsed": true
   },
   "outputs": [],
   "source": [
    "train.sort_values(by = 'id',inplace = True)"
   ]
  },
  {
   "cell_type": "code",
   "execution_count": 21,
   "metadata": {
    "collapsed": true
   },
   "outputs": [],
   "source": [
    "train.reset_index(drop = True, inplace = True)"
   ]
  },
  {
   "cell_type": "code",
   "execution_count": 22,
   "metadata": {
    "collapsed": true
   },
   "outputs": [],
   "source": [
    "ids = train['id']"
   ]
  },
  {
   "cell_type": "code",
   "execution_count": 23,
   "metadata": {
    "collapsed": true
   },
   "outputs": [],
   "source": [
    "trainset = list(ids)"
   ]
  },
  {
   "cell_type": "code",
   "execution_count": 24,
   "metadata": {
    "collapsed": true
   },
   "outputs": [],
   "source": [
    "trainset = np.array(trainset)"
   ]
  },
  {
   "cell_type": "code",
   "execution_count": 25,
   "metadata": {
    "collapsed": true
   },
   "outputs": [],
   "source": [
    "iddict_train = dict([(item[1],item[0]) for item in ids.iteritems()])"
   ]
  },
  {
   "cell_type": "code",
   "execution_count": 26,
   "metadata": {
    "collapsed": true
   },
   "outputs": [],
   "source": [
    "rowdict_train = dict([(item[0],item[1]) for item in ids.iteritems()])"
   ]
  },
  {
   "cell_type": "code",
   "execution_count": 27,
   "metadata": {
    "collapsed": true
   },
   "outputs": [],
   "source": [
    "ratings = train.ix[:,:14]"
   ]
  },
  {
   "cell_type": "code",
   "execution_count": 28,
   "metadata": {
    "collapsed": true
   },
   "outputs": [],
   "source": [
    "ratings = ratings.fillna(0)"
   ]
  },
  {
   "cell_type": "code",
   "execution_count": 29,
   "metadata": {
    "collapsed": true
   },
   "outputs": [],
   "source": [
    "ratingsum_raw = ratings.sum(axis = 1)"
   ]
  },
  {
   "cell_type": "markdown",
   "metadata": {},
   "source": [
    "##### laplace smoothing"
   ]
  },
  {
   "cell_type": "code",
   "execution_count": 30,
   "metadata": {
    "collapsed": true
   },
   "outputs": [],
   "source": [
    "ratings[ratingwords] = ratings[ratingwords]+1\n",
    "ratings = ratings[ratingwords].div(ratingsum_raw+14,axis = 'index')"
   ]
  },
  {
   "cell_type": "code",
   "execution_count": 31,
   "metadata": {
    "collapsed": true
   },
   "outputs": [],
   "source": [
    "ratings['id'] = train['id']"
   ]
  },
  {
   "cell_type": "code",
   "execution_count": 32,
   "metadata": {
    "collapsed": true
   },
   "outputs": [],
   "source": [
    "ratings['gender'] = train['speaker_gender']"
   ]
  },
  {
   "cell_type": "code",
   "execution_count": 33,
   "metadata": {
    "collapsed": true
   },
   "outputs": [],
   "source": [
    "female_mean = ratings.groupby('gender')[ratingwords].mean().ix[0,:]\n",
    "male_mean = ratings.groupby('gender')[ratingwords].mean().ix[1,:]"
   ]
  },
  {
   "cell_type": "markdown",
   "metadata": {},
   "source": [
    "### 1.2 Load the test set captions "
   ]
  },
  {
   "cell_type": "code",
   "execution_count": 36,
   "metadata": {
    "collapsed": true
   },
   "outputs": [],
   "source": [
    "cap_test = pd.read_json('captions_test_f.json')"
   ]
  },
  {
   "cell_type": "code",
   "execution_count": 37,
   "metadata": {
    "collapsed": true
   },
   "outputs": [],
   "source": [
    "cap_test.sort_values(by='id',inplace=True)"
   ]
  },
  {
   "cell_type": "code",
   "execution_count": 38,
   "metadata": {
    "collapsed": true
   },
   "outputs": [],
   "source": [
    "cap_test.reset_index(inplace = True,drop=True)"
   ]
  },
  {
   "cell_type": "code",
   "execution_count": 39,
   "metadata": {
    "collapsed": true
   },
   "outputs": [],
   "source": [
    "cap_test.drop([32,257],inplace = True)"
   ]
  },
  {
   "cell_type": "code",
   "execution_count": 40,
   "metadata": {
    "collapsed": true
   },
   "outputs": [],
   "source": [
    "cap_test.reset_index(inplace = True,drop = True)"
   ]
  },
  {
   "cell_type": "code",
   "execution_count": 43,
   "metadata": {
    "collapsed": true
   },
   "outputs": [],
   "source": [
    "cap_test.to_json('captions_test_f3.json')"
   ]
  },
  {
   "cell_type": "markdown",
   "metadata": {},
   "source": [
    "## 2. Tokenize and vectorize the caption "
   ]
  },
  {
   "cell_type": "markdown",
   "metadata": {},
   "source": [
    "### 2.1 tokenization "
   ]
  },
  {
   "cell_type": "code",
   "execution_count": 41,
   "metadata": {
    "collapsed": true
   },
   "outputs": [],
   "source": [
    "nlp = English()"
   ]
  },
  {
   "cell_type": "code",
   "execution_count": 42,
   "metadata": {
    "collapsed": true
   },
   "outputs": [],
   "source": [
    "def tokenize(text,islist = True):\n",
    "    \"\"\"\n",
    "    This converts text to tokens, keeps only tokens \n",
    "    that are identified using coarse pos: noun and verb\n",
    "    in: text -- default to be list of lines of transcript\n",
    "        can also be a string\n",
    "    www.ling.uppen.edu/courses/Fall_2003/ling001/penn_treebank_pos\n",
    "    out:\n",
    "        list of tokens\n",
    "    \"\"\"\n",
    "    if islist:\n",
    "        text = ' '.join(text)\n",
    "    # remove '(Laughter)' etc, \n",
    "    text = re.sub('\\([\\w\\s]+\\)','',text)\n",
    "    doc = nlp(text, parse = False)\n",
    "    words = []\n",
    "    for token in doc:\n",
    "        # remove all tokens other than verbs and nouns\n",
    "        if token.pos == NOUN or token.pos == VERB:\n",
    "        # if token.tag_ in selected_tags:\n",
    "            words.append(token)\n",
    "    return words"
   ]
  },
  {
   "cell_type": "code",
   "execution_count": 43,
   "metadata": {
    "collapsed": true
   },
   "outputs": [],
   "source": [
    "tokens = cap_test.text.apply(tokenize)"
   ]
  },
  {
   "cell_type": "code",
   "execution_count": 44,
   "metadata": {
    "collapsed": true
   },
   "outputs": [],
   "source": [
    "def get_lemma(token_list):\n",
    "    # remove stopwords\n",
    "    lemmalist = []\n",
    "    for token in token_list:\n",
    "        if token.lemma_ not in STOPWORDS and len(token.lemma_) > 1:\n",
    "            lemmalist.append(token.lemma_)\n",
    "    return lemmalist"
   ]
  },
  {
   "cell_type": "code",
   "execution_count": 45,
   "metadata": {
    "collapsed": true
   },
   "outputs": [],
   "source": [
    "tokens_final = tokens.apply(get_lemma)"
   ]
  },
  {
   "cell_type": "markdown",
   "metadata": {},
   "source": [
    "### including bigrams "
   ]
  },
  {
   "cell_type": "code",
   "execution_count": 46,
   "metadata": {
    "collapsed": true
   },
   "outputs": [],
   "source": [
    "bigram = models.Phrases.load('./data/bigram')"
   ]
  },
  {
   "cell_type": "code",
   "execution_count": 47,
   "metadata": {
    "collapsed": true
   },
   "outputs": [],
   "source": [
    "token_phrase_final = list(tokens_final.apply(lambda x:bigram[x]))"
   ]
  },
  {
   "cell_type": "markdown",
   "metadata": {},
   "source": [
    "### 2.2 Vectorize using the dictionary generated from the training set "
   ]
  },
  {
   "cell_type": "code",
   "execution_count": 48,
   "metadata": {
    "collapsed": true
   },
   "outputs": [],
   "source": [
    "dictionary = corpora.Dictionary.load('./data/tedtrain.dict')"
   ]
  },
  {
   "cell_type": "code",
   "execution_count": 49,
   "metadata": {
    "collapsed": true
   },
   "outputs": [],
   "source": [
    "corpustest = [dictionary.doc2bow(text) for text in token_phrase_final]"
   ]
  },
  {
   "cell_type": "markdown",
   "metadata": {},
   "source": [
    "#### save the test set corpus "
   ]
  },
  {
   "cell_type": "code",
   "execution_count": 50,
   "metadata": {
    "collapsed": false
   },
   "outputs": [],
   "source": [
    "corpora.MmCorpus.serialize('./data/tedtest.mm',corpustest)"
   ]
  },
  {
   "cell_type": "markdown",
   "metadata": {},
   "source": [
    "#### Tf-idf conversion "
   ]
  },
  {
   "cell_type": "code",
   "execution_count": 51,
   "metadata": {
    "collapsed": true
   },
   "outputs": [],
   "source": [
    "tfidf = models.TfidfModel.load('./data/tfidf.model')"
   ]
  },
  {
   "cell_type": "code",
   "execution_count": 52,
   "metadata": {
    "collapsed": true
   },
   "outputs": [],
   "source": [
    "corpustest_idf = tfidf[corpustest]"
   ]
  },
  {
   "cell_type": "code",
   "execution_count": 53,
   "metadata": {
    "collapsed": false
   },
   "outputs": [],
   "source": [
    "corpora.MmCorpus.serialize('./data/corpustest_idf.mm',corpustest_idf)"
   ]
  },
  {
   "cell_type": "markdown",
   "metadata": {},
   "source": [
    "### LSI conversion: using 40 topics as optimized using the training set"
   ]
  },
  {
   "cell_type": "code",
   "execution_count": 54,
   "metadata": {
    "collapsed": true
   },
   "outputs": [],
   "source": [
    "lsi = models.LsiModel.load('./data/lsi_40.model')"
   ]
  },
  {
   "cell_type": "code",
   "execution_count": 55,
   "metadata": {
    "collapsed": true
   },
   "outputs": [],
   "source": [
    "corpustest_lsi = lsi[corpustest_idf]"
   ]
  },
  {
   "cell_type": "code",
   "execution_count": 56,
   "metadata": {
    "collapsed": true
   },
   "outputs": [],
   "source": [
    "corpora.MmCorpus.serialize('./data/corpustest_lsi.mm',corpustest_lsi)"
   ]
  },
  {
   "cell_type": "markdown",
   "metadata": {},
   "source": [
    "### Load the corpustrain_lsi_40 for similarity index "
   ]
  },
  {
   "cell_type": "code",
   "execution_count": 57,
   "metadata": {
    "collapsed": true
   },
   "outputs": [],
   "source": [
    "corpustrain_lsi = corpora.MmCorpus('./data/corpustrain_lsi_40.mm')"
   ]
  },
  {
   "cell_type": "code",
   "execution_count": 58,
   "metadata": {
    "collapsed": true
   },
   "outputs": [],
   "source": [
    "index = similarities.MatrixSimilarity(corpustrain_lsi)"
   ]
  },
  {
   "cell_type": "code",
   "execution_count": 65,
   "metadata": {
    "collapsed": true
   },
   "outputs": [],
   "source": [
    "def give_similar_talks(talkid,corpus,index,trainset,num_of_talks = 10):\n",
    "    \"\"\"\n",
    "    inputs: talkid,num_of_talks\n",
    "            trainset: a series of ids\n",
    "            index: the training set similarity matrix\n",
    "            corpus: test set corpus\n",
    "    outputs:\n",
    "            a list of tuples, (talkid, cosine similarity score in descending order)\n",
    "    \"\"\"\n",
    "    tmpset = set(trainset).difference(set([talkid])) # remove the target talk itself if it presents\n",
    "    sims = index[corpus[iddict_test[talkid]]]\n",
    "    sims = sorted(enumerate(sims),reverse = True, key = lambda x:x[1])\n",
    "    res = []\n",
    "    ctr = 0\n",
    "    for key,value in sims:\n",
    "        if rowdict_train[key] in tmpset:\n",
    "            res.append((rowdict_train[key],value))\n",
    "            ctr += 1\n",
    "        if ctr >= num_of_talks:\n",
    "            break\n",
    "    return res"
   ]
  },
  {
   "cell_type": "code",
   "execution_count": 66,
   "metadata": {
    "collapsed": false
   },
   "outputs": [],
   "source": [
    "simsids = give_similar_talks(11,corpustest_lsi,index,ids,10)"
   ]
  },
  {
   "cell_type": "code",
   "execution_count": 67,
   "metadata": {
    "collapsed": false
   },
   "outputs": [
    {
     "data": {
      "text/plain": [
       "[(340, 0.89024353),\n",
       " (69, 0.84226549),\n",
       " (76, 0.81959826),\n",
       " (1683, 0.80680287),\n",
       " (915, 0.78198254),\n",
       " (948, 0.77621514),\n",
       " (299, 0.77241135),\n",
       " (1816, 0.77056646),\n",
       " (728, 0.75199014),\n",
       " (409, 0.75061738)]"
      ]
     },
     "execution_count": 67,
     "metadata": {},
     "output_type": "execute_result"
    }
   ],
   "source": [
    "simsids"
   ]
  },
  {
   "cell_type": "markdown",
   "metadata": {},
   "source": [
    "## 3. Tokenize and vectorize speaker background info for the test set "
   ]
  },
  {
   "cell_type": "code",
   "execution_count": 68,
   "metadata": {
    "collapsed": true
   },
   "outputs": [],
   "source": [
    "speakers = pd.read_json('speakers.json')"
   ]
  },
  {
   "cell_type": "code",
   "execution_count": 69,
   "metadata": {
    "collapsed": true
   },
   "outputs": [],
   "source": [
    "speakers.sort_values(by = 'id',inplace = True)\n",
    "speakers.set_index('id',inplace = True)"
   ]
  },
  {
   "cell_type": "code",
   "execution_count": 70,
   "metadata": {
    "collapsed": false
   },
   "outputs": [],
   "source": [
    "# initialize parser as an object\n",
    "parser = HTMLParser()"
   ]
  },
  {
   "cell_type": "code",
   "execution_count": 71,
   "metadata": {
    "collapsed": true
   },
   "outputs": [],
   "source": [
    "# define a function to get speakers text info given speakers ids\n",
    "def speakerinfo(ids):\n",
    "    # ids is a list of ids, could be multiple speakers\n",
    "    background = ''\n",
    "    for speakerid in ids:\n",
    "        text = ' '.join([speakers.ix[speakerid,'whylisten'], speakers.ix[speakerid,'whotheyare'], \n",
    "                speakers.ix[speakerid,'description']])\n",
    "        text = parser.unescape(text)\n",
    "        background += text\n",
    "    return background"
   ]
  },
  {
   "cell_type": "code",
   "execution_count": 72,
   "metadata": {
    "collapsed": true
   },
   "outputs": [],
   "source": [
    "background = test['speaker_ids'].apply(speakerinfo)"
   ]
  },
  {
   "cell_type": "code",
   "execution_count": 73,
   "metadata": {
    "collapsed": true
   },
   "outputs": [],
   "source": [
    "speaker_background = pd.DataFrame({'talk_id':test['id'],'background':background})"
   ]
  },
  {
   "cell_type": "markdown",
   "metadata": {},
   "source": [
    "### 3.1 tokenization "
   ]
  },
  {
   "cell_type": "code",
   "execution_count": 74,
   "metadata": {
    "collapsed": true
   },
   "outputs": [],
   "source": [
    "sp_tokens = background.apply(tokenize,islist = False)"
   ]
  },
  {
   "cell_type": "code",
   "execution_count": 75,
   "metadata": {
    "collapsed": true
   },
   "outputs": [],
   "source": [
    "sp_tokens_final = sp_tokens.apply(get_lemma)"
   ]
  },
  {
   "cell_type": "code",
   "execution_count": 76,
   "metadata": {
    "collapsed": true
   },
   "outputs": [],
   "source": [
    "sp_bigram = models.Phrases.load('./data/spbigram')"
   ]
  },
  {
   "cell_type": "code",
   "execution_count": 77,
   "metadata": {
    "collapsed": true
   },
   "outputs": [],
   "source": [
    "sp_phrase_final = list(sp_tokens_final.apply(lambda x:sp_bigram[x]))"
   ]
  },
  {
   "cell_type": "markdown",
   "metadata": {},
   "source": [
    "### 3.2 vectorization"
   ]
  },
  {
   "cell_type": "code",
   "execution_count": 78,
   "metadata": {
    "collapsed": true
   },
   "outputs": [],
   "source": [
    "sp_dictionary = corpora.Dictionary.load('./data/sp_train.dict')"
   ]
  },
  {
   "cell_type": "code",
   "execution_count": 79,
   "metadata": {
    "collapsed": false
   },
   "outputs": [
    {
     "name": "stdout",
     "output_type": "stream",
     "text": [
      "Dictionary(3517 unique tokens: [u'similarity', u'consumer_product', u'dynamic', u'penchant', u'protest']...)\n"
     ]
    }
   ],
   "source": [
    "print(sp_dictionary)"
   ]
  },
  {
   "cell_type": "markdown",
   "metadata": {},
   "source": [
    "#### bag of words corpus "
   ]
  },
  {
   "cell_type": "code",
   "execution_count": 80,
   "metadata": {
    "collapsed": true
   },
   "outputs": [],
   "source": [
    "sp_corpustest = [sp_dictionary.doc2bow(text) for text in sp_phrase_final]"
   ]
  },
  {
   "cell_type": "markdown",
   "metadata": {},
   "source": [
    "### 3.3 Tf-idf and LSI "
   ]
  },
  {
   "cell_type": "code",
   "execution_count": 81,
   "metadata": {
    "collapsed": true
   },
   "outputs": [],
   "source": [
    "sp_tfidf = models.TfidfModel.load('./data/sp_tfidf.model')"
   ]
  },
  {
   "cell_type": "markdown",
   "metadata": {},
   "source": [
    "#### Load the default sp_lsi (50 topics) as it was chosen by the cross validation on the training set "
   ]
  },
  {
   "cell_type": "code",
   "execution_count": 83,
   "metadata": {
    "collapsed": true
   },
   "outputs": [],
   "source": [
    "sp_lsi = models.LsiModel.load('./data/sp_lsi.model')"
   ]
  },
  {
   "cell_type": "code",
   "execution_count": 88,
   "metadata": {
    "collapsed": true
   },
   "outputs": [],
   "source": [
    "sp_corpustrain_lsi = corpora.MmCorpus('./data/sp_corpustrain_lsi.mm')"
   ]
  },
  {
   "cell_type": "code",
   "execution_count": 84,
   "metadata": {
    "collapsed": true
   },
   "outputs": [],
   "source": [
    "sp_corpustest_idf = sp_tfidf[sp_corpustest]"
   ]
  },
  {
   "cell_type": "code",
   "execution_count": 85,
   "metadata": {
    "collapsed": true
   },
   "outputs": [],
   "source": [
    "sp_corpustest_lsi = sp_lsi[sp_corpustest_idf]"
   ]
  },
  {
   "cell_type": "code",
   "execution_count": 86,
   "metadata": {
    "collapsed": true
   },
   "outputs": [],
   "source": [
    "corpora.MmCorpus.serialize('./data/sp_corpustest_lsi.mm',sp_corpustest_lsi)"
   ]
  },
  {
   "cell_type": "code",
   "execution_count": 87,
   "metadata": {
    "collapsed": true
   },
   "outputs": [],
   "source": [
    "corpora.MmCorpus.serialize('./data/sp_corpustest_idf.mm',sp_corpustest_idf)"
   ]
  },
  {
   "cell_type": "code",
   "execution_count": 89,
   "metadata": {
    "collapsed": true
   },
   "outputs": [],
   "source": [
    "sp_index = similarities.MatrixSimilarity(sp_corpustrain_lsi)"
   ]
  },
  {
   "cell_type": "code",
   "execution_count": 90,
   "metadata": {
    "collapsed": true
   },
   "outputs": [],
   "source": [
    "sp_simlist = give_similar_talks(11,sp_corpustest_lsi,sp_index,ids,10)"
   ]
  },
  {
   "cell_type": "code",
   "execution_count": 91,
   "metadata": {
    "collapsed": false
   },
   "outputs": [
    {
     "data": {
      "text/plain": [
       "[(340, 1.0),\n",
       " (168, 0.73545212),\n",
       " (728, 0.67806983),\n",
       " (1777, 0.65473998),\n",
       " (2151, 0.64717019),\n",
       " (76, 0.62992835),\n",
       " (2141, 0.62835932),\n",
       " (879, 0.62688196),\n",
       " (773, 0.62591404),\n",
       " (1485, 0.62073839)]"
      ]
     },
     "execution_count": 91,
     "metadata": {},
     "output_type": "execute_result"
    }
   ],
   "source": [
    "sp_simlist"
   ]
  },
  {
   "cell_type": "markdown",
   "metadata": {},
   "source": [
    "## 4. Rating prediction\n",
    "1. useful data from above: sp_index, index, sp_corpustest_lsi, corpustest_lsi,iddict_test(train), rowdict_test(train)\n",
    "2. from notebook 10: steps for prediction of the test set:\n",
    "    (1) use give_similar_talks to return similar talks based on transcripts and speaker backgrounds\n",
    "    (2) merge the two lists into one\n",
    "    (3) make prediction based on the list found in (2)"
   ]
  },
  {
   "cell_type": "code",
   "execution_count": 101,
   "metadata": {
    "collapsed": true
   },
   "outputs": [],
   "source": [
    "def give_similarities(talkid, corpus,index,similar_talks):\n",
    "    \"\"\"\n",
    "    inputs:\n",
    "            similar_talks: the list of talk ids that are from the other topic modeling results (e.g., similar\n",
    "    speaker), but not contained in the current topic modeling (similar topics) results of most similar talks\n",
    "            corpus: test set corpus\n",
    "            index: training set similarity matrix\n",
    "    \n",
    "    outputs:\n",
    "    return a list of tuples, (talkid, cosine similarity score), the list is not sorted on similarity score\n",
    "    \"\"\"\n",
    "    tmpset = set(trainset)\n",
    "    tmpset.discard(talkid) # remove the target talk itself if it presents\n",
    "    sims = index[corpus[iddict_test[talkid]]]\n",
    "    # sims = sorted(enumerate(sims),reverse = True, key = lambda x:x[1])\n",
    "    # sims_id = [(rowdict[key],value) for key,value in sims]\n",
    "    sim_dict = dict([(rowdict_train[ind],value) for ind,value in enumerate(sims)])\n",
    "    res = [(tid,sim_dict[tid]) for tid in similar_talks]\n",
    "    return res"
   ]
  },
  {
   "cell_type": "code",
   "execution_count": 95,
   "metadata": {
    "collapsed": true
   },
   "outputs": [],
   "source": [
    "def combine_similar_talks(talkid,num_trans,num_sp,trainset,corpus,index,sp_corpus,sp_index):\n",
    "    \"\"\"\n",
    "    inputs: num_trans -- num of similar talks based on transcripts\n",
    "            num_sp -- num of similar talks based on speaker background info\n",
    "            trainset -- may not be the complete training set, e.g., in CV\n",
    "            corpus -- test set corpus\n",
    "            index -- train set index\n",
    "    outputs:\n",
    "            sim_talks -- the same output as give_similar_talks, a list of tuples (talkid, final_sim_score)\n",
    "    \"\"\"\n",
    "    #1. find sim talks based on trans and sp\n",
    "    sim_talks_trans = give_similar_talks(talkid,corpus,index,trainset,\n",
    "                                         num_of_talks=num_trans)\n",
    "    sim_talks_sp = give_similar_talks(talkid,sp_corpus,sp_index,trainset,\n",
    "                                      num_of_talks=num_sp)\n",
    "    #2. generate a combined list of similar talks\n",
    "\n",
    "    # (1). determine the relationship of the two lists(sets), find the extra similarities, and append to the lists\n",
    "    trans_set = set([x for x,y in sim_talks_trans])\n",
    "    sp_set = set([x for x,y in sim_talks_sp])\n",
    "    if sp_set.issubset(trans_set):\n",
    "        # speaker set is a subset of trans_set, then find the speaker similarities for the talks that are in the\n",
    "        # trans set but not in the speaker set\n",
    "        extra_sim_talks_sp = give_similarities(talkid,sp_corpus,sp_index,\n",
    "                                               list(trans_set.difference(sp_set)))\n",
    "        # merge the extra into the original sim_talks_sp list\n",
    "        sim_talks_sp.extend(extra_sim_talks_sp)\n",
    "    elif sp_set.issuperset(trans_set):\n",
    "        extra_sim_talks_trans = give_similarities(talkid,corpus,index,\n",
    "                                                 list(sp_set.difference(trans_set)))\n",
    "        sim_talks_trans.extend(extra_sim_talks_trans)\n",
    "    else:\n",
    "        sp_extra = list(sp_set.difference(trans_set))\n",
    "        trans_extra = list(trans_set.difference(sp_set))\n",
    "        # find both\n",
    "        extra_sim_talks_trans = give_similarities(talkid,corpus,index,sp_extra)\n",
    "        extra_sim_talks_sp = give_similarities(talkid,sp_corpus,sp_index,trans_extra)\n",
    "        # extend to the original lists\n",
    "        sim_talks_sp.extend(extra_sim_talks_sp)\n",
    "        sim_talks_trans.extend(extra_sim_talks_trans)\n",
    "    # 2. weight the two similarities to generate the final similarity score\n",
    "    ## convert the two lists into dictionaries\n",
    "    dict_talks_sp = dict(sim_talks_sp)\n",
    "    dict_talks_trans = dict(sim_talks_trans)\n",
    "    sim_talks = []\n",
    "    for key in dict_talks_sp:\n",
    "        # other weighting functions are not implemented yet!\n",
    "        sim_talks.append((key,(dict_talks_sp[key]+dict_talks_trans[key])/2.))\n",
    "\n",
    "    sim_talks.sort(reverse = True,key = lambda x:x[1])\n",
    "    return sim_talks"
   ]
  },
  {
   "cell_type": "code",
   "execution_count": 108,
   "metadata": {
    "collapsed": true
   },
   "outputs": [],
   "source": [
    "def pred_rating2(talkid,trainset,num_trans,num_sp,corpus,index,sp_corpus,sp_index):\n",
    "    \"\"\"\n",
    "    given the target talkid, the trainset and the two k values\n",
    "    return the prediction as a numpy array\n",
    "    input: trainset: a numpy array of training set talk ids \n",
    "           num_trans: k for transcript similarity\n",
    "           num_sp: k for speaker background similarity\n",
    "           corpus,index\n",
    "           sp_corpus,sp_index\n",
    "    output: a numpy array of predicted rating\n",
    "    \"\"\"\n",
    "    sim_talks = combine_similar_talks(talkid,num_trans,num_sp,trainset,corpus,index,sp_corpus,sp_index)\n",
    "    weights_sum = sum([sim for num,sim in sim_talks])\n",
    "    # initialize rating_vect with zeros\n",
    "    rating_vect = pd.Series(0,index = female_mean.index)\n",
    "    for sim_talk_id,sim in sim_talks:\n",
    "        sim_vect = ratings.ix[iddict_train[sim_talk_id],ratingwords]\n",
    "        if train.ix[iddict_train[sim_talk_id],'speaker_gender'] == 0:\n",
    "             sim_vect -= female_mean\n",
    "        else:\n",
    "             sim_vect -= male_mean\n",
    "        rating_vect += sim_vect*sim\n",
    "    if len(sim_talks) > 0:\n",
    "        rating_vect /= weights_sum\n",
    "    else:\n",
    "        pass\n",
    "        # print 'no similar talks is found for talk with id {}, base prediction is used'.format(talkid)\n",
    "    # gender\n",
    "    gender = test.ix[iddict_test[talkid],'speaker_gender']\n",
    "    if gender == 0:\n",
    "        rating_vect += female_mean\n",
    "    else:\n",
    "        rating_vect += male_mean\n",
    "    # handle non-positive ratings, truncate them to be positive (0.0001)\n",
    "    rating_vect = [x if x > 0 else 0.0001 for x in rating_vect]\n",
    "    rating_vect = pd.Series(rating_vect,index = female_mean.index)\n",
    "    return rating_vect"
   ]
  },
  {
   "cell_type": "code",
   "execution_count": 109,
   "metadata": {
    "collapsed": true
   },
   "outputs": [],
   "source": [
    "def prob_distance(vect1,vect2,dist = 'hellinger'):\n",
    "    \"\"\"\n",
    "    calculate the distance between two probability distributions\n",
    "    default type is hellinger distance, which is bounded in [0,1]\n",
    "    the other option is Jensen-shannon distance, which is also bounded in [0,1]\n",
    "    \"\"\"\n",
    "    if dist == 'hellinger':\n",
    "        return np.sqrt(0.5*sum((np.sqrt(vect1)-np.sqrt(vect2))**2))\n",
    "    if dist == 'Jensen':\n",
    "        vectq = 0.5*(vect1+vect2)\n",
    "        js_div = 0.5*sum(vect1*np.log2(vect1)+vect2*np.log2(vect2))-sum(vectq*np.log2(vectq))\n",
    "        return np.sqrt(js_div)"
   ]
  },
  {
   "cell_type": "code",
   "execution_count": 110,
   "metadata": {
    "collapsed": true
   },
   "outputs": [],
   "source": [
    "num_trans, num_sp = 10,5"
   ]
  },
  {
   "cell_type": "code",
   "execution_count": 111,
   "metadata": {
    "collapsed": true
   },
   "outputs": [],
   "source": [
    "difference = pd.Series(index = test_talkids)"
   ]
  },
  {
   "cell_type": "code",
   "execution_count": 112,
   "metadata": {
    "collapsed": false
   },
   "outputs": [],
   "source": [
    "for test_talkid in test_talkids:\n",
    "    predicted = pred_rating2(test_talkid,trainset,num_trans,num_sp,corpustest_lsi,index,\n",
    "                            sp_corpustest_lsi,sp_index)\n",
    "    res = testratings.ix[iddict_test[test_talkid],ratingwords]\n",
    "    difference[test_talkid] = prob_distance(predicted,res,'hellinger')"
   ]
  },
  {
   "cell_type": "code",
   "execution_count": 113,
   "metadata": {
    "collapsed": false
   },
   "outputs": [
    {
     "data": {
      "text/plain": [
       "0.2251628335010494"
      ]
     },
     "execution_count": 113,
     "metadata": {},
     "output_type": "execute_result"
    }
   ],
   "source": [
    "difference.mean()"
   ]
  },
  {
   "cell_type": "markdown",
   "metadata": {},
   "source": [
    "## Some baseline estimation "
   ]
  },
  {
   "cell_type": "markdown",
   "metadata": {},
   "source": [
    "#### 1. randomly select 10 talks from training set and use their average to predict the test talk, compare the difference. Run this 100 times and take the average "
   ]
  },
  {
   "cell_type": "code",
   "execution_count": 337,
   "metadata": {
    "collapsed": true
   },
   "outputs": [],
   "source": [
    "mean_difference = []"
   ]
  },
  {
   "cell_type": "code",
   "execution_count": null,
   "metadata": {
    "collapsed": true
   },
   "outputs": [],
   "source": [
    "for i in xrange(100):\n",
    "    for test_talkid in test_talkids:\n",
    "        vad_difference = pd.Series(index = test_talkids)\n",
    "        rng = np.random.RandomState(i)\n",
    "        randtrainids = rng.choice(trainset,size = 10,replace = False)\n",
    "        criterion = ratings['id'].map(lambda x: x in randtrainids)\n",
    "        subratings = ratings.ix[criterion,ratingwords]\n",
    "        avg_pred = subratings.mean()\n",
    "        res = testratings.ix[iddict_test[test_talkid],ratingwords].values\n",
    "        vad_difference[test_talkid] = prob_distance(avg_pred,res)\n",
    "    mean_difference.append(vad_difference.mean())"
   ]
  },
  {
   "cell_type": "code",
   "execution_count": 299,
   "metadata": {
    "collapsed": false
   },
   "outputs": [
    {
     "data": {
      "text/plain": [
       "0.35641204521142006"
      ]
     },
     "execution_count": 299,
     "metadata": {},
     "output_type": "execute_result"
    }
   ],
   "source": [
    "np.array(mean_difference).mean()"
   ]
  },
  {
   "cell_type": "markdown",
   "metadata": {},
   "source": [
    "#### 2. use the mean of all talks in the test set"
   ]
  },
  {
   "cell_type": "code",
   "execution_count": 115,
   "metadata": {
    "collapsed": true
   },
   "outputs": [],
   "source": [
    "avg_difference = pd.Series(index = test_talkids)"
   ]
  },
  {
   "cell_type": "code",
   "execution_count": 116,
   "metadata": {
    "collapsed": false
   },
   "outputs": [],
   "source": [
    "for test_talkid in test_talkids:\n",
    "    res = testratings.ix[iddict_test[test_talkid],ratingwords].values\n",
    "    avg_all = testratings[ratingwords].mean()\n",
    "    avg_difference[test_talkid] = prob_distance(avg_all,res)"
   ]
  },
  {
   "cell_type": "code",
   "execution_count": 117,
   "metadata": {
    "collapsed": false
   },
   "outputs": [
    {
     "data": {
      "text/plain": [
       "0.28598473898473148"
      ]
     },
     "execution_count": 117,
     "metadata": {},
     "output_type": "execute_result"
    }
   ],
   "source": [
    "np.array(avg_difference).mean()"
   ]
  },
  {
   "cell_type": "code",
   "execution_count": 118,
   "metadata": {
    "collapsed": false
   },
   "outputs": [
    {
     "data": {
      "text/plain": [
       "<matplotlib.text.Text at 0x130b39bd0>"
      ]
     },
     "execution_count": 118,
     "metadata": {},
     "output_type": "execute_result"
    },
    {
     "data": {
      "image/png": "[encoded data removed]",
      "text/plain": [
       "<matplotlib.figure.Figure at 0x130c166d0>"
      ]
     },
     "metadata": {},
     "output_type": "display_data"
    }
   ],
   "source": [
    "fig = plt.figure(figsize = (8,5))\n",
    "ax = plt.gca()\n",
    "avg_difference.hist(bins = 30,alpha = 0.3, label = 'total rating variation',ax = ax)\n",
    "difference.hist(bins = 30,alpha = 0.5, label = 'prediction error', ax = ax)\n",
    "ax.legend(loc = 'best',fontsize = 'medium')\n",
    "plt.xlabel('Error measured by Hellinger distance to the real ratings')\n",
    "plt.ylabel('Number of talks')\n",
    "plt.title('Test set rating prediction error')"
   ]
  },
  {
   "cell_type": "markdown",
   "metadata": {},
   "source": [
    "## Summary\n",
    "The test set error is ~0.23, consistent with Cross-validation error got from the the training set. For comparison, two baseline estimations are made, the first is through random selection of 10 training talks and average their ratings (0.356), the second is to use the overall mean of the training set rating (0.29)."
   ]
  },
  {
   "cell_type": "code",
   "execution_count": null,
   "metadata": {
    "collapsed": true
   },
   "outputs": [],
   "source": []
  }
 ],
 "metadata": {
  "kernelspec": {
   "display_name": "Python 2",
   "language": "python",
   "name": "python2"
  },
  "language_info": {
   "codemirror_mode": {
    "name": "ipython",
    "version": 2
   },
   "file_extension": ".py",
   "mimetype": "text/x-python",
   "name": "python",
   "nbconvert_exporter": "python",
   "pygments_lexer": "ipython2",
   "version": "2.7.11"
  }
 },
 "nbformat": 4,
 "nbformat_minor": 0
}
