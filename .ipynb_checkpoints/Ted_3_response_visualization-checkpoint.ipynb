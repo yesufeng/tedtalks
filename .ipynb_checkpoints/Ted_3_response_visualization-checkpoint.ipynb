{
 "cells": [
  {
   "cell_type": "markdown",
   "metadata": {},
   "source": [
    "### Date: 05/27/2015 10 pm"
   ]
  },
  {
   "cell_type": "markdown",
   "metadata": {},
   "source": [
    "Based on Ted_3_response, make visualization of the labeling process. Approximation is used to facilitate the visualization"
   ]
  },
  {
   "cell_type": "code",
   "execution_count": 161,
   "metadata": {
    "collapsed": true
   },
   "outputs": [],
   "source": [
    "import pandas as pd\n",
    "import numpy as np\n",
    "import matplotlib.pylab as plt\n",
    "import seaborn as sns\n",
    "%matplotlib inline\n",
    "import requests\n",
    "from pattern import web\n",
    "import random\n",
    "from mpl_toolkits.mplot3d import Axes3D"
   ]
  },
  {
   "cell_type": "code",
   "execution_count": 5,
   "metadata": {
    "collapsed": true
   },
   "outputs": [],
   "source": [
    "from sklearn import metrics\n",
    "from sklearn.cluster import KMeans\n",
    "from sklearn.decomposition import PCA\n",
    "from sklearn.preprocessing import scale\n",
    "from sklearn.preprocessing import StandardScaler"
   ]
  },
  {
   "cell_type": "markdown",
   "metadata": {},
   "source": [
    "### Read in training set"
   ]
  },
  {
   "cell_type": "code",
   "execution_count": 12,
   "metadata": {
    "collapsed": false
   },
   "outputs": [],
   "source": [
    "# read in the train set\n",
    "train = pd.read_json('train.json')"
   ]
  },
  {
   "cell_type": "code",
   "execution_count": 13,
   "metadata": {
    "collapsed": false
   },
   "outputs": [],
   "source": [
    "train.reset_index(drop = True, inplace = True)"
   ]
  },
  {
   "cell_type": "code",
   "execution_count": 14,
   "metadata": {
    "collapsed": true
   },
   "outputs": [],
   "source": [
    "# select only the rating words\n",
    "ratings = train.ix[:,:14]"
   ]
  },
  {
   "cell_type": "code",
   "execution_count": 15,
   "metadata": {
    "collapsed": false
   },
   "outputs": [
    {
     "data": {
      "text/plain": [
       "(1535, 14)"
      ]
     },
     "execution_count": 15,
     "metadata": {},
     "output_type": "execute_result"
    }
   ],
   "source": [
    "ratings.shape"
   ]
  },
  {
   "cell_type": "markdown",
   "metadata": {},
   "source": [
    "##reduce the dimension of the multi-class problem "
   ]
  },
  {
   "cell_type": "markdown",
   "metadata": {},
   "source": [
    "###1. Cluster talks based on the rating words, then look at the rating words distribution in each cluster "
   ]
  },
  {
   "cell_type": "code",
   "execution_count": 20,
   "metadata": {
    "collapsed": false
   },
   "outputs": [],
   "source": [
    "ratings = ratings.fillna(0)"
   ]
  },
  {
   "cell_type": "code",
   "execution_count": 21,
   "metadata": {
    "collapsed": true
   },
   "outputs": [],
   "source": [
    "# normalize against total ratings one talk receives\n",
    "ratingsum = ratings.sum(axis = 1)"
   ]
  },
  {
   "cell_type": "code",
   "execution_count": 22,
   "metadata": {
    "collapsed": false
   },
   "outputs": [
    {
     "data": {
      "text/plain": [
       "176.0"
      ]
     },
     "execution_count": 22,
     "metadata": {},
     "output_type": "execute_result"
    }
   ],
   "source": [
    "ratingsum.min()"
   ]
  },
  {
   "cell_type": "code",
   "execution_count": 23,
   "metadata": {
    "collapsed": false
   },
   "outputs": [],
   "source": [
    "ratingwords = list(ratings.columns)"
   ]
  },
  {
   "cell_type": "code",
   "execution_count": 24,
   "metadata": {
    "collapsed": false
   },
   "outputs": [],
   "source": [
    "ratings = ratings[ratingwords].div(ratingsum,axis = 'index')"
   ]
  },
  {
   "cell_type": "code",
   "execution_count": 25,
   "metadata": {
    "collapsed": true
   },
   "outputs": [],
   "source": [
    "ratings['id'] = train['id']\n",
    "ratings.set_index('id',inplace = True)"
   ]
  },
  {
   "cell_type": "code",
   "execution_count": 26,
   "metadata": {
    "collapsed": false
   },
   "outputs": [
    {
     "data": {
      "text/html": [
       "<div style=\"max-height:1000px;max-width:1500px;overflow:auto;\">\n",
       "<table border=\"1\" class=\"dataframe\">\n",
       "  <thead>\n",
       "    <tr style=\"text-align: right;\">\n",
       "      <th></th>\n",
       "      <th>Beautiful</th>\n",
       "      <th>Confusing</th>\n",
       "      <th>Courageous</th>\n",
       "      <th>Fascinating</th>\n",
       "      <th>Funny</th>\n",
       "      <th>Informative</th>\n",
       "      <th>Ingenious</th>\n",
       "      <th>Inspiring</th>\n",
       "      <th>Jaw-dropping</th>\n",
       "      <th>Longwinded</th>\n",
       "      <th>OK</th>\n",
       "      <th>Obnoxious</th>\n",
       "      <th>Persuasive</th>\n",
       "      <th>Unconvincing</th>\n",
       "    </tr>\n",
       "    <tr>\n",
       "      <th>id</th>\n",
       "      <th></th>\n",
       "      <th></th>\n",
       "      <th></th>\n",
       "      <th></th>\n",
       "      <th></th>\n",
       "      <th></th>\n",
       "      <th></th>\n",
       "      <th></th>\n",
       "      <th></th>\n",
       "      <th></th>\n",
       "      <th></th>\n",
       "      <th></th>\n",
       "      <th></th>\n",
       "      <th></th>\n",
       "    </tr>\n",
       "  </thead>\n",
       "  <tbody>\n",
       "    <tr>\n",
       "      <th>1</th>\n",
       "      <td>0.020121</td>\n",
       "      <td>0.020523</td>\n",
       "      <td>0.050704</td>\n",
       "      <td>0.040241</td>\n",
       "      <td>0.185111</td>\n",
       "      <td>0.154125</td>\n",
       "      <td>0.020121</td>\n",
       "      <td>0.143260</td>\n",
       "      <td>0.034205</td>\n",
       "      <td>0.038229</td>\n",
       "      <td>0.065996</td>\n",
       "      <td>0.046680</td>\n",
       "      <td>0.094567</td>\n",
       "      <td>0.086117</td>\n",
       "    </tr>\n",
       "    <tr>\n",
       "      <th>2</th>\n",
       "      <td>0.029782</td>\n",
       "      <td>0.000000</td>\n",
       "      <td>0.084712</td>\n",
       "      <td>0.091992</td>\n",
       "      <td>0.009927</td>\n",
       "      <td>0.156188</td>\n",
       "      <td>0.178028</td>\n",
       "      <td>0.285903</td>\n",
       "      <td>0.040371</td>\n",
       "      <td>0.009265</td>\n",
       "      <td>0.017869</td>\n",
       "      <td>0.001985</td>\n",
       "      <td>0.087359</td>\n",
       "      <td>0.006618</td>\n",
       "    </tr>\n",
       "    <tr>\n",
       "      <th>2167</th>\n",
       "      <td>0.015021</td>\n",
       "      <td>0.003577</td>\n",
       "      <td>0.019313</td>\n",
       "      <td>0.143777</td>\n",
       "      <td>0.010014</td>\n",
       "      <td>0.230329</td>\n",
       "      <td>0.173104</td>\n",
       "      <td>0.233190</td>\n",
       "      <td>0.016452</td>\n",
       "      <td>0.018598</td>\n",
       "      <td>0.037911</td>\n",
       "      <td>0.000715</td>\n",
       "      <td>0.077253</td>\n",
       "      <td>0.020744</td>\n",
       "    </tr>\n",
       "    <tr>\n",
       "      <th>3</th>\n",
       "      <td>0.047927</td>\n",
       "      <td>0.028497</td>\n",
       "      <td>0.159326</td>\n",
       "      <td>0.049223</td>\n",
       "      <td>0.011658</td>\n",
       "      <td>0.242228</td>\n",
       "      <td>0.034974</td>\n",
       "      <td>0.129534</td>\n",
       "      <td>0.037565</td>\n",
       "      <td>0.023316</td>\n",
       "      <td>0.054404</td>\n",
       "      <td>0.014249</td>\n",
       "      <td>0.129534</td>\n",
       "      <td>0.037565</td>\n",
       "    </tr>\n",
       "    <tr>\n",
       "      <th>99</th>\n",
       "      <td>0.137476</td>\n",
       "      <td>0.009416</td>\n",
       "      <td>0.022599</td>\n",
       "      <td>0.011299</td>\n",
       "      <td>0.431262</td>\n",
       "      <td>0.015066</td>\n",
       "      <td>0.077213</td>\n",
       "      <td>0.035782</td>\n",
       "      <td>0.009416</td>\n",
       "      <td>0.011299</td>\n",
       "      <td>0.131827</td>\n",
       "      <td>0.052731</td>\n",
       "      <td>0.024482</td>\n",
       "      <td>0.030132</td>\n",
       "    </tr>\n",
       "  </tbody>\n",
       "</table>\n",
       "</div>"
      ],
      "text/plain": [
       "      Beautiful  Confusing  Courageous  Fascinating     Funny  Informative  \\\n",
       "id                                                                           \n",
       "1      0.020121   0.020523    0.050704     0.040241  0.185111     0.154125   \n",
       "2      0.029782   0.000000    0.084712     0.091992  0.009927     0.156188   \n",
       "2167   0.015021   0.003577    0.019313     0.143777  0.010014     0.230329   \n",
       "3      0.047927   0.028497    0.159326     0.049223  0.011658     0.242228   \n",
       "99     0.137476   0.009416    0.022599     0.011299  0.431262     0.015066   \n",
       "\n",
       "      Ingenious  Inspiring  Jaw-dropping  Longwinded        OK  Obnoxious  \\\n",
       "id                                                                          \n",
       "1      0.020121   0.143260      0.034205    0.038229  0.065996   0.046680   \n",
       "2      0.178028   0.285903      0.040371    0.009265  0.017869   0.001985   \n",
       "2167   0.173104   0.233190      0.016452    0.018598  0.037911   0.000715   \n",
       "3      0.034974   0.129534      0.037565    0.023316  0.054404   0.014249   \n",
       "99     0.077213   0.035782      0.009416    0.011299  0.131827   0.052731   \n",
       "\n",
       "      Persuasive  Unconvincing  \n",
       "id                              \n",
       "1       0.094567      0.086117  \n",
       "2       0.087359      0.006618  \n",
       "2167    0.077253      0.020744  \n",
       "3       0.129534      0.037565  \n",
       "99      0.024482      0.030132  "
      ]
     },
     "execution_count": 26,
     "metadata": {},
     "output_type": "execute_result"
    }
   ],
   "source": [
    "ratings.head()"
   ]
  },
  {
   "cell_type": "code",
   "execution_count": 27,
   "metadata": {
    "collapsed": true
   },
   "outputs": [],
   "source": [
    "ratingm = ratings.as_matrix()"
   ]
  },
  {
   "cell_type": "code",
   "execution_count": 28,
   "metadata": {
    "collapsed": false
   },
   "outputs": [
    {
     "data": {
      "text/plain": [
       "(1535, 14)"
      ]
     },
     "execution_count": 28,
     "metadata": {},
     "output_type": "execute_result"
    }
   ],
   "source": [
    "ratingm.shape"
   ]
  },
  {
   "cell_type": "markdown",
   "metadata": {},
   "source": [
    "### standardize ratingm along each column, so that different words have same variation"
   ]
  },
  {
   "cell_type": "code",
   "execution_count": 29,
   "metadata": {
    "collapsed": true
   },
   "outputs": [],
   "source": [
    "scaler = StandardScaler()"
   ]
  },
  {
   "cell_type": "code",
   "execution_count": 30,
   "metadata": {
    "collapsed": true
   },
   "outputs": [],
   "source": [
    "# scale ratingm along the feature columns, so that the low-freq words (negative ones) can have effects in variation\n",
    "# ratingm_scaled = scale(ratingm)\n",
    "scaler.fit(ratingm)\n",
    "ratingm_scaled = scaler.transform(ratingm)"
   ]
  },
  {
   "cell_type": "code",
   "execution_count": 31,
   "metadata": {
    "collapsed": false
   },
   "outputs": [
    {
     "data": {
      "text/plain": [
       "array([ 1.,  1.,  1.,  1.,  1.,  1.,  1.,  1.,  1.,  1.,  1.,  1.,  1.,  1.])"
      ]
     },
     "execution_count": 31,
     "metadata": {},
     "output_type": "execute_result"
    }
   ],
   "source": [
    "ratingm_scaled.std(axis=0)"
   ]
  },
  {
   "cell_type": "code",
   "execution_count": 32,
   "metadata": {
    "collapsed": false
   },
   "outputs": [
    {
     "data": {
      "text/plain": [
       "(1535, 14)"
      ]
     },
     "execution_count": 32,
     "metadata": {},
     "output_type": "execute_result"
    }
   ],
   "source": [
    "ratingm_scaled.shape"
   ]
  },
  {
   "cell_type": "markdown",
   "metadata": {},
   "source": [
    "### Reduce dimension using PCA prior to clustering "
   ]
  },
  {
   "cell_type": "code",
   "execution_count": 66,
   "metadata": {
    "collapsed": true
   },
   "outputs": [],
   "source": [
    "pca = PCA(n_components=6)\n",
    "reduced = pca.fit_transform(ratingm_scaled)"
   ]
  },
  {
   "cell_type": "code",
   "execution_count": 67,
   "metadata": {
    "collapsed": false
   },
   "outputs": [
    {
     "name": "stdout",
     "output_type": "stream",
     "text": [
      "0.769517225361 variation has been explained by 10 components\n"
     ]
    }
   ],
   "source": [
    "print '{} variation has been explained by 10 components'.format(pca.explained_variance_ratio_.sum())"
   ]
  },
  {
   "cell_type": "markdown",
   "metadata": {},
   "source": [
    "###Find the right number of clusters "
   ]
  },
  {
   "cell_type": "code",
   "execution_count": 68,
   "metadata": {
    "collapsed": true
   },
   "outputs": [],
   "source": [
    "n_cluster = xrange(1,21)"
   ]
  },
  {
   "cell_type": "code",
   "execution_count": 69,
   "metadata": {
    "collapsed": false
   },
   "outputs": [
    {
     "name": "stdout",
     "output_type": "stream",
     "text": [
      "the inertia is 16536.925173 for 1 cluters\n",
      "the inertia is 13236.7615876 for 2 cluters\n",
      "the inertia is 10691.5017591 for 3 cluters\n",
      "the inertia is 8936.8872785 for 4 cluters\n",
      "the inertia is 7856.75113941 for 5 cluters\n",
      "the inertia is 7203.48887492 for 6 cluters\n",
      "the inertia is 6641.35019927 for 7 cluters\n",
      "the inertia is 6156.29761181 for 8 cluters\n",
      "the inertia is 5726.06103579 for 9 cluters\n",
      "the inertia is 5413.3074286 for 10 cluters\n",
      "the inertia is 5208.46684496 for 11 cluters\n",
      "the inertia is 5013.48651299 for 12 cluters\n",
      "the inertia is 4837.18677146 for 13 cluters\n",
      "the inertia is 4659.3488964 for 14 cluters\n",
      "the inertia is 4519.04158078 for 15 cluters\n",
      "the inertia is 4399.01708551 for 16 cluters\n",
      "the inertia is 4287.1767937 for 17 cluters\n",
      "the inertia is 4167.62852595 for 18 cluters\n",
      "the inertia is 4069.20639585 for 19 cluters\n",
      "the inertia is 3984.06668052 for 20 cluters\n"
     ]
    }
   ],
   "source": [
    "inertias = []\n",
    "for num in n_cluster:\n",
    "    clf0 = KMeans(n_clusters = num,n_init = 30)\n",
    "    clf0.fit(reduced)\n",
    "    print 'the inertia is {} for {} cluters'.format(clf0.inertia_,num)\n",
    "    inertias.append(clf0.inertia_)"
   ]
  },
  {
   "cell_type": "code",
   "execution_count": 70,
   "metadata": {
    "collapsed": false
   },
   "outputs": [
    {
     "data": {
      "text/plain": [
       "<matplotlib.text.Text at 0x10db311d0>"
      ]
     },
     "execution_count": 70,
     "metadata": {},
     "output_type": "execute_result"
    },
    {
     "data": {
      "image/png": "[encoded data removed]",
      "text/plain": [
       "<matplotlib.figure.Figure at 0x10ed5bb90>"
      ]
     },
     "metadata": {},
     "output_type": "display_data"
    }
   ],
   "source": [
    "plt.scatter(x = n_cluster, y = inertias, marker = 'o')\n",
    "plt.xlabel('number of formed clusters')\n",
    "plt.ylabel('Inertia')"
   ]
  },
  {
   "cell_type": "markdown",
   "metadata": {},
   "source": [
    "#### Choose 5 clusters, look at the centroids"
   ]
  },
  {
   "cell_type": "code",
   "execution_count": 81,
   "metadata": {
    "collapsed": false
   },
   "outputs": [
    {
     "data": {
      "text/plain": [
       "KMeans(copy_x=True, init='k-means++', max_iter=300, n_clusters=5, n_init=10,\n",
       "    n_jobs=1, precompute_distances='auto', random_state=58, tol=0.0001,\n",
       "    verbose=0)"
      ]
     },
     "execution_count": 81,
     "metadata": {},
     "output_type": "execute_result"
    }
   ],
   "source": [
    "clf = KMeans(n_clusters = 5,random_state=58)\n",
    "clf.fit(reduced)"
   ]
  },
  {
   "cell_type": "code",
   "execution_count": 82,
   "metadata": {
    "collapsed": false
   },
   "outputs": [
    {
     "data": {
      "text/plain": [
       "7856.7655740546452"
      ]
     },
     "execution_count": 82,
     "metadata": {},
     "output_type": "execute_result"
    }
   ],
   "source": [
    "clf.inertia_"
   ]
  },
  {
   "cell_type": "code",
   "execution_count": 83,
   "metadata": {
    "collapsed": false
   },
   "outputs": [
    {
     "data": {
      "text/plain": [
       "1535"
      ]
     },
     "execution_count": 83,
     "metadata": {},
     "output_type": "execute_result"
    }
   ],
   "source": [
    "len(clf.labels_)"
   ]
  },
  {
   "cell_type": "code",
   "execution_count": 120,
   "metadata": {
    "collapsed": false
   },
   "outputs": [
    {
     "data": {
      "text/plain": [
       "(1535,)"
      ]
     },
     "execution_count": 120,
     "metadata": {},
     "output_type": "execute_result"
    }
   ],
   "source": [
    "clf.labels_.shape"
   ]
  },
  {
   "cell_type": "code",
   "execution_count": 85,
   "metadata": {
    "collapsed": true
   },
   "outputs": [],
   "source": [
    "cents = clf.cluster_centers_"
   ]
  },
  {
   "cell_type": "code",
   "execution_count": 86,
   "metadata": {
    "collapsed": true
   },
   "outputs": [],
   "source": [
    "# get the original space\n",
    "cents_ori = pca.inverse_transform(cents)"
   ]
  },
  {
   "cell_type": "code",
   "execution_count": 87,
   "metadata": {
    "collapsed": false
   },
   "outputs": [
    {
     "data": {
      "text/plain": [
       "(5, 14)"
      ]
     },
     "execution_count": 87,
     "metadata": {},
     "output_type": "execute_result"
    }
   ],
   "source": [
    "cents_ori.shape"
   ]
  },
  {
   "cell_type": "code",
   "execution_count": 88,
   "metadata": {
    "collapsed": true
   },
   "outputs": [],
   "source": [
    "cents_ori_df = pd.DataFrame(cents_ori,columns = ratingwords)"
   ]
  },
  {
   "cell_type": "code",
   "execution_count": 89,
   "metadata": {
    "collapsed": false
   },
   "outputs": [
    {
     "data": {
      "text/html": [
       "<div style=\"max-height:1000px;max-width:1500px;overflow:auto;\">\n",
       "<table border=\"1\" class=\"dataframe\">\n",
       "  <thead>\n",
       "    <tr style=\"text-align: right;\">\n",
       "      <th></th>\n",
       "      <th>Beautiful</th>\n",
       "      <th>Confusing</th>\n",
       "      <th>Courageous</th>\n",
       "      <th>Fascinating</th>\n",
       "      <th>Funny</th>\n",
       "      <th>Informative</th>\n",
       "      <th>Ingenious</th>\n",
       "      <th>Inspiring</th>\n",
       "      <th>Jaw-dropping</th>\n",
       "      <th>Longwinded</th>\n",
       "      <th>OK</th>\n",
       "      <th>Obnoxious</th>\n",
       "      <th>Persuasive</th>\n",
       "      <th>Unconvincing</th>\n",
       "    </tr>\n",
       "  </thead>\n",
       "  <tbody>\n",
       "    <tr>\n",
       "      <th>0</th>\n",
       "      <td>-0.133983</td>\n",
       "      <td>1.681879</td>\n",
       "      <td>-0.387545</td>\n",
       "      <td>-0.409344</td>\n",
       "      <td>-0.091982</td>\n",
       "      <td>-0.163219</td>\n",
       "      <td>-0.188585</td>\n",
       "      <td>-0.679744</td>\n",
       "      <td>-0.471393</td>\n",
       "      <td>1.540513</td>\n",
       "      <td>1.482173</td>\n",
       "      <td>1.508597</td>\n",
       "      <td>-0.313528</td>\n",
       "      <td>1.764300</td>\n",
       "    </tr>\n",
       "    <tr>\n",
       "      <th>1</th>\n",
       "      <td>-0.111145</td>\n",
       "      <td>-0.017545</td>\n",
       "      <td>-0.483754</td>\n",
       "      <td>-0.354059</td>\n",
       "      <td>2.855755</td>\n",
       "      <td>-0.483900</td>\n",
       "      <td>0.082932</td>\n",
       "      <td>-0.781062</td>\n",
       "      <td>-0.516253</td>\n",
       "      <td>-0.281881</td>\n",
       "      <td>0.392032</td>\n",
       "      <td>0.694257</td>\n",
       "      <td>-0.591778</td>\n",
       "      <td>-0.200147</td>\n",
       "    </tr>\n",
       "    <tr>\n",
       "      <th>2</th>\n",
       "      <td>0.740124</td>\n",
       "      <td>-0.436338</td>\n",
       "      <td>0.915741</td>\n",
       "      <td>-0.698998</td>\n",
       "      <td>-0.257976</td>\n",
       "      <td>-0.752308</td>\n",
       "      <td>-0.469947</td>\n",
       "      <td>1.144757</td>\n",
       "      <td>-0.154222</td>\n",
       "      <td>-0.305530</td>\n",
       "      <td>-0.447832</td>\n",
       "      <td>-0.239689</td>\n",
       "      <td>-0.037422</td>\n",
       "      <td>-0.408956</td>\n",
       "    </tr>\n",
       "    <tr>\n",
       "      <th>3</th>\n",
       "      <td>-0.618855</td>\n",
       "      <td>-0.122438</td>\n",
       "      <td>-0.128100</td>\n",
       "      <td>0.102013</td>\n",
       "      <td>-0.239660</td>\n",
       "      <td>0.994124</td>\n",
       "      <td>-0.340286</td>\n",
       "      <td>-0.286944</td>\n",
       "      <td>-0.346468</td>\n",
       "      <td>0.003399</td>\n",
       "      <td>0.091450</td>\n",
       "      <td>-0.235420</td>\n",
       "      <td>0.768114</td>\n",
       "      <td>0.027043</td>\n",
       "    </tr>\n",
       "    <tr>\n",
       "      <th>4</th>\n",
       "      <td>0.041569</td>\n",
       "      <td>-0.179791</td>\n",
       "      <td>-0.593103</td>\n",
       "      <td>1.038110</td>\n",
       "      <td>-0.180686</td>\n",
       "      <td>-0.199216</td>\n",
       "      <td>1.110354</td>\n",
       "      <td>-0.412677</td>\n",
       "      <td>1.064400</td>\n",
       "      <td>-0.355725</td>\n",
       "      <td>-0.476208</td>\n",
       "      <td>-0.392077</td>\n",
       "      <td>-0.653189</td>\n",
       "      <td>-0.404128</td>\n",
       "    </tr>\n",
       "  </tbody>\n",
       "</table>\n",
       "</div>"
      ],
      "text/plain": [
       "   Beautiful  Confusing  Courageous  Fascinating     Funny  Informative  \\\n",
       "0  -0.133983   1.681879   -0.387545    -0.409344 -0.091982    -0.163219   \n",
       "1  -0.111145  -0.017545   -0.483754    -0.354059  2.855755    -0.483900   \n",
       "2   0.740124  -0.436338    0.915741    -0.698998 -0.257976    -0.752308   \n",
       "3  -0.618855  -0.122438   -0.128100     0.102013 -0.239660     0.994124   \n",
       "4   0.041569  -0.179791   -0.593103     1.038110 -0.180686    -0.199216   \n",
       "\n",
       "   Ingenious  Inspiring  Jaw-dropping  Longwinded        OK  Obnoxious  \\\n",
       "0  -0.188585  -0.679744     -0.471393    1.540513  1.482173   1.508597   \n",
       "1   0.082932  -0.781062     -0.516253   -0.281881  0.392032   0.694257   \n",
       "2  -0.469947   1.144757     -0.154222   -0.305530 -0.447832  -0.239689   \n",
       "3  -0.340286  -0.286944     -0.346468    0.003399  0.091450  -0.235420   \n",
       "4   1.110354  -0.412677      1.064400   -0.355725 -0.476208  -0.392077   \n",
       "\n",
       "   Persuasive  Unconvincing  \n",
       "0   -0.313528      1.764300  \n",
       "1   -0.591778     -0.200147  \n",
       "2   -0.037422     -0.408956  \n",
       "3    0.768114      0.027043  \n",
       "4   -0.653189     -0.404128  "
      ]
     },
     "execution_count": 89,
     "metadata": {},
     "output_type": "execute_result"
    }
   ],
   "source": [
    "cents_ori_df"
   ]
  },
  {
   "cell_type": "markdown",
   "metadata": {},
   "source": [
    "#### so the above five clusters indicate the following associations\n",
    "0: (Confusing, Longwinded, OK, Obnoxious, Unconvincing)\n",
    "\n",
    "1: (Funny)\n",
    "\n",
    "2: (Beautiful,Courageous,Inspiring)\n",
    "\n",
    "3: (Informative, Persuasive)\n",
    "\n",
    "4: (Fascinating, Ingenious, Jaw-dropping)"
   ]
  },
  {
   "cell_type": "markdown",
   "metadata": {},
   "source": [
    "#### For now, save labels as the response variable "
   ]
  },
  {
   "cell_type": "code",
   "execution_count": 90,
   "metadata": {
    "collapsed": true
   },
   "outputs": [],
   "source": [
    "response = clf.labels_"
   ]
  },
  {
   "cell_type": "code",
   "execution_count": 92,
   "metadata": {
    "collapsed": false
   },
   "outputs": [],
   "source": [
    "response = pd.Series(response,index = train['id'])"
   ]
  },
  {
   "cell_type": "code",
   "execution_count": 98,
   "metadata": {
    "collapsed": true
   },
   "outputs": [],
   "source": [
    "rating_scaled = pd.DataFrame(ratingm_scaled,columns = ratings.columns,index = train['id'])"
   ]
  },
  {
   "cell_type": "code",
   "execution_count": 148,
   "metadata": {
    "collapsed": true
   },
   "outputs": [],
   "source": [
    "rating_scaled['label'] = response"
   ]
  },
  {
   "cell_type": "code",
   "execution_count": 149,
   "metadata": {
    "collapsed": false
   },
   "outputs": [
    {
     "data": {
      "text/html": [
       "<div style=\"max-height:1000px;max-width:1500px;overflow:auto;\">\n",
       "<table border=\"1\" class=\"dataframe\">\n",
       "  <thead>\n",
       "    <tr style=\"text-align: right;\">\n",
       "      <th></th>\n",
       "      <th>Beautiful</th>\n",
       "      <th>Confusing</th>\n",
       "      <th>Courageous</th>\n",
       "      <th>Fascinating</th>\n",
       "      <th>Funny</th>\n",
       "      <th>Informative</th>\n",
       "      <th>Ingenious</th>\n",
       "      <th>Inspiring</th>\n",
       "      <th>Jaw-dropping</th>\n",
       "      <th>Longwinded</th>\n",
       "      <th>OK</th>\n",
       "      <th>Obnoxious</th>\n",
       "      <th>Persuasive</th>\n",
       "      <th>Unconvincing</th>\n",
       "      <th>label</th>\n",
       "    </tr>\n",
       "    <tr>\n",
       "      <th>id</th>\n",
       "      <th></th>\n",
       "      <th></th>\n",
       "      <th></th>\n",
       "      <th></th>\n",
       "      <th></th>\n",
       "      <th></th>\n",
       "      <th></th>\n",
       "      <th></th>\n",
       "      <th></th>\n",
       "      <th></th>\n",
       "      <th></th>\n",
       "      <th></th>\n",
       "      <th></th>\n",
       "      <th></th>\n",
       "      <th></th>\n",
       "    </tr>\n",
       "  </thead>\n",
       "  <tbody>\n",
       "    <tr>\n",
       "      <th>1</th>\n",
       "      <td>-0.593682</td>\n",
       "      <td>0.406917</td>\n",
       "      <td>-0.144765</td>\n",
       "      <td>-1.179634</td>\n",
       "      <td>1.458288</td>\n",
       "      <td>-0.006550</td>\n",
       "      <td>-0.727892</td>\n",
       "      <td>-0.360693</td>\n",
       "      <td>-0.293417</td>\n",
       "      <td>0.567269</td>\n",
       "      <td>0.439305</td>\n",
       "      <td>1.405606</td>\n",
       "      <td>0.067081</td>\n",
       "      <td>1.228169</td>\n",
       "      <td>0</td>\n",
       "    </tr>\n",
       "    <tr>\n",
       "      <th>2</th>\n",
       "      <td>-0.482816</td>\n",
       "      <td>-0.714895</td>\n",
       "      <td>0.311939</td>\n",
       "      <td>-0.485821</td>\n",
       "      <td>-0.447487</td>\n",
       "      <td>0.013567</td>\n",
       "      <td>1.459210</td>\n",
       "      <td>0.970387</td>\n",
       "      <td>-0.198068</td>\n",
       "      <td>-0.503376</td>\n",
       "      <td>-0.837261</td>\n",
       "      <td>-0.606048</td>\n",
       "      <td>-0.031010</td>\n",
       "      <td>-0.657049</td>\n",
       "      <td>2</td>\n",
       "    </tr>\n",
       "    <tr>\n",
       "      <th>2167</th>\n",
       "      <td>-0.652200</td>\n",
       "      <td>-0.519398</td>\n",
       "      <td>-0.566324</td>\n",
       "      <td>0.208449</td>\n",
       "      <td>-0.446540</td>\n",
       "      <td>0.736481</td>\n",
       "      <td>1.391019</td>\n",
       "      <td>0.478495</td>\n",
       "      <td>-0.567972</td>\n",
       "      <td>-0.158399</td>\n",
       "      <td>-0.305640</td>\n",
       "      <td>-0.663215</td>\n",
       "      <td>-0.168540</td>\n",
       "      <td>-0.322072</td>\n",
       "      <td>3</td>\n",
       "    </tr>\n",
       "    <tr>\n",
       "      <th>3</th>\n",
       "      <td>-0.274580</td>\n",
       "      <td>0.842797</td>\n",
       "      <td>1.313960</td>\n",
       "      <td>-1.059222</td>\n",
       "      <td>-0.428658</td>\n",
       "      <td>0.852502</td>\n",
       "      <td>-0.522164</td>\n",
       "      <td>-0.488776</td>\n",
       "      <td>-0.241461</td>\n",
       "      <td>0.016003</td>\n",
       "      <td>0.131832</td>\n",
       "      <td>-0.054092</td>\n",
       "      <td>0.542923</td>\n",
       "      <td>0.076815</td>\n",
       "      <td>3</td>\n",
       "    </tr>\n",
       "    <tr>\n",
       "      <th>99</th>\n",
       "      <td>0.753058</td>\n",
       "      <td>-0.200198</td>\n",
       "      <td>-0.522201</td>\n",
       "      <td>-1.567655</td>\n",
       "      <td>4.136101</td>\n",
       "      <td>-1.362446</td>\n",
       "      <td>0.062866</td>\n",
       "      <td>-1.363623</td>\n",
       "      <td>-0.676782</td>\n",
       "      <td>-0.428188</td>\n",
       "      <td>2.185461</td>\n",
       "      <td>1.677937</td>\n",
       "      <td>-0.886681</td>\n",
       "      <td>-0.099449</td>\n",
       "      <td>1</td>\n",
       "    </tr>\n",
       "  </tbody>\n",
       "</table>\n",
       "</div>"
      ],
      "text/plain": [
       "      Beautiful  Confusing  Courageous  Fascinating     Funny  Informative  \\\n",
       "id                                                                           \n",
       "1     -0.593682   0.406917   -0.144765    -1.179634  1.458288    -0.006550   \n",
       "2     -0.482816  -0.714895    0.311939    -0.485821 -0.447487     0.013567   \n",
       "2167  -0.652200  -0.519398   -0.566324     0.208449 -0.446540     0.736481   \n",
       "3     -0.274580   0.842797    1.313960    -1.059222 -0.428658     0.852502   \n",
       "99     0.753058  -0.200198   -0.522201    -1.567655  4.136101    -1.362446   \n",
       "\n",
       "      Ingenious  Inspiring  Jaw-dropping  Longwinded        OK  Obnoxious  \\\n",
       "id                                                                          \n",
       "1     -0.727892  -0.360693     -0.293417    0.567269  0.439305   1.405606   \n",
       "2      1.459210   0.970387     -0.198068   -0.503376 -0.837261  -0.606048   \n",
       "2167   1.391019   0.478495     -0.567972   -0.158399 -0.305640  -0.663215   \n",
       "3     -0.522164  -0.488776     -0.241461    0.016003  0.131832  -0.054092   \n",
       "99     0.062866  -1.363623     -0.676782   -0.428188  2.185461   1.677937   \n",
       "\n",
       "      Persuasive  Unconvincing  label  \n",
       "id                                     \n",
       "1       0.067081      1.228169      0  \n",
       "2      -0.031010     -0.657049      2  \n",
       "2167   -0.168540     -0.322072      3  \n",
       "3       0.542923      0.076815      3  \n",
       "99     -0.886681     -0.099449      1  "
      ]
     },
     "execution_count": 149,
     "metadata": {},
     "output_type": "execute_result"
    }
   ],
   "source": [
    "rating_scaled.head()"
   ]
  },
  {
   "cell_type": "markdown",
   "metadata": {},
   "source": [
    "####show the distance of each talk to the cluster centers "
   ]
  },
  {
   "cell_type": "code",
   "execution_count": 139,
   "metadata": {
    "collapsed": true
   },
   "outputs": [],
   "source": [
    "tocenters = clf.transform(reduced)"
   ]
  },
  {
   "cell_type": "code",
   "execution_count": 140,
   "metadata": {
    "collapsed": false
   },
   "outputs": [],
   "source": [
    "tocenters = pd.DataFrame(tocenters, columns = [0,1,2,3,4])"
   ]
  },
  {
   "cell_type": "code",
   "execution_count": 142,
   "metadata": {
    "collapsed": false
   },
   "outputs": [],
   "source": [
    "tocenters['id'] = train['id']"
   ]
  },
  {
   "cell_type": "code",
   "execution_count": 144,
   "metadata": {
    "collapsed": false
   },
   "outputs": [],
   "source": [
    "tocenters.set_index('id',inplace = True)"
   ]
  },
  {
   "cell_type": "code",
   "execution_count": 126,
   "metadata": {
    "collapsed": false
   },
   "outputs": [
    {
     "data": {
      "text/plain": [
       "id\n",
       "1       0\n",
       "2       2\n",
       "2167    3\n",
       "3       3\n",
       "99      1\n",
       "dtype: int32"
      ]
     },
     "execution_count": 126,
     "metadata": {},
     "output_type": "execute_result"
    }
   ],
   "source": [
    "response.head()"
   ]
  },
  {
   "cell_type": "markdown",
   "metadata": {},
   "source": [
    "## 3D plot of clustering talks of three classes: rational, emotional and funny"
   ]
  },
  {
   "cell_type": "markdown",
   "metadata": {},
   "source": [
    "####select a sub-dataframe from rating_scaled that contains only talks of classes 1,2,3 and rating words fractions of these three classes "
   ]
  },
  {
   "cell_type": "code",
   "execution_count": 154,
   "metadata": {
    "collapsed": false
   },
   "outputs": [],
   "source": [
    "rating_small = rating_scaled.ix[rating_scaled.label.isin([1,2,3]),['Beautiful','Courageous','Funny',\n",
    "                                                                       'Informative','Inspiring','Persuasive','label']]"
   ]
  },
  {
   "cell_type": "code",
   "execution_count": 155,
   "metadata": {
    "collapsed": false
   },
   "outputs": [
    {
     "data": {
      "text/plain": [
       "(1004, 7)"
      ]
     },
     "execution_count": 155,
     "metadata": {},
     "output_type": "execute_result"
    }
   ],
   "source": [
    "rating_small.shape"
   ]
  },
  {
   "cell_type": "code",
   "execution_count": 156,
   "metadata": {
    "collapsed": false
   },
   "outputs": [
    {
     "data": {
      "text/html": [
       "<div style=\"max-height:1000px;max-width:1500px;overflow:auto;\">\n",
       "<table border=\"1\" class=\"dataframe\">\n",
       "  <thead>\n",
       "    <tr style=\"text-align: right;\">\n",
       "      <th></th>\n",
       "      <th>Beautiful</th>\n",
       "      <th>Courageous</th>\n",
       "      <th>Funny</th>\n",
       "      <th>Informative</th>\n",
       "      <th>Inspiring</th>\n",
       "      <th>Persuasive</th>\n",
       "      <th>label</th>\n",
       "    </tr>\n",
       "    <tr>\n",
       "      <th>id</th>\n",
       "      <th></th>\n",
       "      <th></th>\n",
       "      <th></th>\n",
       "      <th></th>\n",
       "      <th></th>\n",
       "      <th></th>\n",
       "      <th></th>\n",
       "    </tr>\n",
       "  </thead>\n",
       "  <tbody>\n",
       "    <tr>\n",
       "      <th>2</th>\n",
       "      <td>-0.482816</td>\n",
       "      <td>0.311939</td>\n",
       "      <td>-0.447487</td>\n",
       "      <td>0.013567</td>\n",
       "      <td>0.970387</td>\n",
       "      <td>-0.031010</td>\n",
       "      <td>2</td>\n",
       "    </tr>\n",
       "    <tr>\n",
       "      <th>2167</th>\n",
       "      <td>-0.652200</td>\n",
       "      <td>-0.566324</td>\n",
       "      <td>-0.446540</td>\n",
       "      <td>0.736481</td>\n",
       "      <td>0.478495</td>\n",
       "      <td>-0.168540</td>\n",
       "      <td>3</td>\n",
       "    </tr>\n",
       "    <tr>\n",
       "      <th>3</th>\n",
       "      <td>-0.274580</td>\n",
       "      <td>1.313960</td>\n",
       "      <td>-0.428658</td>\n",
       "      <td>0.852502</td>\n",
       "      <td>-0.488776</td>\n",
       "      <td>0.542923</td>\n",
       "      <td>3</td>\n",
       "    </tr>\n",
       "    <tr>\n",
       "      <th>99</th>\n",
       "      <td>0.753058</td>\n",
       "      <td>-0.522201</td>\n",
       "      <td>4.136101</td>\n",
       "      <td>-1.362446</td>\n",
       "      <td>-1.363623</td>\n",
       "      <td>-0.886681</td>\n",
       "      <td>1</td>\n",
       "    </tr>\n",
       "    <tr>\n",
       "      <th>1141</th>\n",
       "      <td>1.848161</td>\n",
       "      <td>0.434900</td>\n",
       "      <td>0.092355</td>\n",
       "      <td>-0.970521</td>\n",
       "      <td>0.068472</td>\n",
       "      <td>-0.574273</td>\n",
       "      <td>2</td>\n",
       "    </tr>\n",
       "  </tbody>\n",
       "</table>\n",
       "</div>"
      ],
      "text/plain": [
       "      Beautiful  Courageous     Funny  Informative  Inspiring  Persuasive  \\\n",
       "id                                                                          \n",
       "2     -0.482816    0.311939 -0.447487     0.013567   0.970387   -0.031010   \n",
       "2167  -0.652200   -0.566324 -0.446540     0.736481   0.478495   -0.168540   \n",
       "3     -0.274580    1.313960 -0.428658     0.852502  -0.488776    0.542923   \n",
       "99     0.753058   -0.522201  4.136101    -1.362446  -1.363623   -0.886681   \n",
       "1141   1.848161    0.434900  0.092355    -0.970521   0.068472   -0.574273   \n",
       "\n",
       "      label  \n",
       "id           \n",
       "2         2  \n",
       "2167      3  \n",
       "3         3  \n",
       "99        1  \n",
       "1141      2  "
      ]
     },
     "execution_count": 156,
     "metadata": {},
     "output_type": "execute_result"
    }
   ],
   "source": [
    "rating_small.head()"
   ]
  },
  {
   "cell_type": "code",
   "execution_count": 157,
   "metadata": {
    "collapsed": true
   },
   "outputs": [],
   "source": [
    "rating_small['Rational'] = rating_small['Informative'] + rating_small['Persuasive']"
   ]
  },
  {
   "cell_type": "code",
   "execution_count": 158,
   "metadata": {
    "collapsed": true
   },
   "outputs": [],
   "source": [
    "rating_small['Emotional'] = rating_small['Beautiful'] + rating_small['Courageous'] + rating_small['Inspiring']"
   ]
  },
  {
   "cell_type": "code",
   "execution_count": 159,
   "metadata": {
    "collapsed": false
   },
   "outputs": [],
   "source": [
    "rating_small.drop(['Courageous','Beautiful','Informative','Persuasive','Inspiring'],axis = 1,inplace = True)"
   ]
  },
  {
   "cell_type": "code",
   "execution_count": 160,
   "metadata": {
    "collapsed": false
   },
   "outputs": [
    {
     "data": {
      "text/html": [
       "<div style=\"max-height:1000px;max-width:1500px;overflow:auto;\">\n",
       "<table border=\"1\" class=\"dataframe\">\n",
       "  <thead>\n",
       "    <tr style=\"text-align: right;\">\n",
       "      <th></th>\n",
       "      <th>Funny</th>\n",
       "      <th>label</th>\n",
       "      <th>Rational</th>\n",
       "      <th>Emotional</th>\n",
       "    </tr>\n",
       "    <tr>\n",
       "      <th>id</th>\n",
       "      <th></th>\n",
       "      <th></th>\n",
       "      <th></th>\n",
       "      <th></th>\n",
       "    </tr>\n",
       "  </thead>\n",
       "  <tbody>\n",
       "    <tr>\n",
       "      <th>2</th>\n",
       "      <td>-0.447487</td>\n",
       "      <td>2</td>\n",
       "      <td>-0.017443</td>\n",
       "      <td>0.799509</td>\n",
       "    </tr>\n",
       "    <tr>\n",
       "      <th>2167</th>\n",
       "      <td>-0.446540</td>\n",
       "      <td>3</td>\n",
       "      <td>0.567941</td>\n",
       "      <td>-0.740029</td>\n",
       "    </tr>\n",
       "    <tr>\n",
       "      <th>3</th>\n",
       "      <td>-0.428658</td>\n",
       "      <td>3</td>\n",
       "      <td>1.395425</td>\n",
       "      <td>0.550604</td>\n",
       "    </tr>\n",
       "    <tr>\n",
       "      <th>99</th>\n",
       "      <td>4.136101</td>\n",
       "      <td>1</td>\n",
       "      <td>-2.249127</td>\n",
       "      <td>-1.132767</td>\n",
       "    </tr>\n",
       "    <tr>\n",
       "      <th>1141</th>\n",
       "      <td>0.092355</td>\n",
       "      <td>2</td>\n",
       "      <td>-1.544794</td>\n",
       "      <td>2.351533</td>\n",
       "    </tr>\n",
       "  </tbody>\n",
       "</table>\n",
       "</div>"
      ],
      "text/plain": [
       "         Funny  label  Rational  Emotional\n",
       "id                                        \n",
       "2    -0.447487      2 -0.017443   0.799509\n",
       "2167 -0.446540      3  0.567941  -0.740029\n",
       "3    -0.428658      3  1.395425   0.550604\n",
       "99    4.136101      1 -2.249127  -1.132767\n",
       "1141  0.092355      2 -1.544794   2.351533"
      ]
     },
     "execution_count": 160,
     "metadata": {},
     "output_type": "execute_result"
    }
   ],
   "source": [
    "rating_small.head()"
   ]
  },
  {
   "cell_type": "code",
   "execution_count": 165,
   "metadata": {
    "collapsed": false
   },
   "outputs": [
    {
     "data": {
      "text/plain": [
       "<mpl_toolkits.mplot3d.art3d.Path3DCollection at 0x111b9afd0>"
      ]
     },
     "execution_count": 165,
     "metadata": {},
     "output_type": "execute_result"
    },
    {
     "data": {
      "image/png": "[encoded data removed]",
      "text/plain": [
       "<matplotlib.figure.Figure at 0x10d307d10>"
      ]
     },
     "metadata": {},
     "output_type": "display_data"
    }
   ],
   "source": [
    "fig = plt.figure()\n",
    "ax = fig.add_subplot(111, projection='3d')\n",
    "ax.scatter3D(rating_small['Funny'],rating_small['Rational'],rating_small['Emotional'],c = rating_small.label,\n",
    "            zdir = 'y')"
   ]
  },
  {
   "cell_type": "markdown",
   "metadata": {},
   "source": [
    "##### Notice that because the standardization was done with all talks, so these values sit at the high end of the normal distribution; low-end value talks are filtered out by selecting only class 1,2 and 3"
   ]
  },
  {
   "cell_type": "markdown",
   "metadata": {},
   "source": [
    "### redo the scaling after selecting only class 1,2 and 3 talks"
   ]
  },
  {
   "cell_type": "code",
   "execution_count": 174,
   "metadata": {
    "collapsed": true
   },
   "outputs": [],
   "source": [
    "rating123 = ratings.ix[response.apply(lambda x: x in [1,2,3]),['Beautiful','Courageous','Funny',\n",
    "                                                                       'Informative','Inspiring','Persuasive']]"
   ]
  },
  {
   "cell_type": "code",
   "execution_count": 176,
   "metadata": {
    "collapsed": true
   },
   "outputs": [],
   "source": [
    "rating123m = rating123.as_matrix()"
   ]
  },
  {
   "cell_type": "markdown",
   "metadata": {},
   "source": [
    "####scaler again "
   ]
  },
  {
   "cell_type": "code",
   "execution_count": 237,
   "metadata": {
    "collapsed": true
   },
   "outputs": [],
   "source": [
    "scaler2 = StandardScaler()"
   ]
  },
  {
   "cell_type": "code",
   "execution_count": 238,
   "metadata": {
    "collapsed": false
   },
   "outputs": [],
   "source": [
    "scaler2.fit(rating123m)\n",
    "rating123m_scaled = scaler2.transform(rating123m)"
   ]
  },
  {
   "cell_type": "code",
   "execution_count": 239,
   "metadata": {
    "collapsed": false
   },
   "outputs": [],
   "source": [
    "rating123_scaled = pd.DataFrame(rating123m_scaled,columns = rating123.columns,index = rating123.index)"
   ]
  },
  {
   "cell_type": "code",
   "execution_count": 240,
   "metadata": {
    "collapsed": false
   },
   "outputs": [],
   "source": [
    "rating123_scaled['label'] = response"
   ]
  },
  {
   "cell_type": "code",
   "execution_count": 241,
   "metadata": {
    "collapsed": false
   },
   "outputs": [
    {
     "data": {
      "text/html": [
       "<div style=\"max-height:1000px;max-width:1500px;overflow:auto;\">\n",
       "<table border=\"1\" class=\"dataframe\">\n",
       "  <thead>\n",
       "    <tr style=\"text-align: right;\">\n",
       "      <th></th>\n",
       "      <th>Beautiful</th>\n",
       "      <th>Courageous</th>\n",
       "      <th>Funny</th>\n",
       "      <th>Informative</th>\n",
       "      <th>Inspiring</th>\n",
       "      <th>Persuasive</th>\n",
       "      <th>label</th>\n",
       "    </tr>\n",
       "    <tr>\n",
       "      <th>id</th>\n",
       "      <th></th>\n",
       "      <th></th>\n",
       "      <th></th>\n",
       "      <th></th>\n",
       "      <th></th>\n",
       "      <th></th>\n",
       "      <th></th>\n",
       "    </tr>\n",
       "  </thead>\n",
       "  <tbody>\n",
       "    <tr>\n",
       "      <th>2</th>\n",
       "      <td>-0.484852</td>\n",
       "      <td>0.054467</td>\n",
       "      <td>-0.463621</td>\n",
       "      <td>-0.083289</td>\n",
       "      <td>0.658702</td>\n",
       "      <td>-0.311688</td>\n",
       "      <td>2</td>\n",
       "    </tr>\n",
       "    <tr>\n",
       "      <th>2167</th>\n",
       "      <td>-0.647948</td>\n",
       "      <td>-0.725443</td>\n",
       "      <td>-0.462795</td>\n",
       "      <td>0.580878</td>\n",
       "      <td>0.192748</td>\n",
       "      <td>-0.442930</td>\n",
       "      <td>3</td>\n",
       "    </tr>\n",
       "    <tr>\n",
       "      <th>3</th>\n",
       "      <td>-0.284346</td>\n",
       "      <td>0.944276</td>\n",
       "      <td>-0.447193</td>\n",
       "      <td>0.687470</td>\n",
       "      <td>-0.723518</td>\n",
       "      <td>0.236001</td>\n",
       "      <td>3</td>\n",
       "    </tr>\n",
       "    <tr>\n",
       "      <th>99</th>\n",
       "      <td>0.705146</td>\n",
       "      <td>-0.686261</td>\n",
       "      <td>3.535511</td>\n",
       "      <td>-1.347479</td>\n",
       "      <td>-1.552235</td>\n",
       "      <td>-1.128233</td>\n",
       "      <td>1</td>\n",
       "    </tr>\n",
       "    <tr>\n",
       "      <th>1141</th>\n",
       "      <td>1.759598</td>\n",
       "      <td>0.163659</td>\n",
       "      <td>0.007386</td>\n",
       "      <td>-0.987405</td>\n",
       "      <td>-0.195654</td>\n",
       "      <td>-0.830109</td>\n",
       "      <td>2</td>\n",
       "    </tr>\n",
       "  </tbody>\n",
       "</table>\n",
       "</div>"
      ],
      "text/plain": [
       "      Beautiful  Courageous     Funny  Informative  Inspiring  Persuasive  \\\n",
       "id                                                                          \n",
       "2     -0.484852    0.054467 -0.463621    -0.083289   0.658702   -0.311688   \n",
       "2167  -0.647948   -0.725443 -0.462795     0.580878   0.192748   -0.442930   \n",
       "3     -0.284346    0.944276 -0.447193     0.687470  -0.723518    0.236001   \n",
       "99     0.705146   -0.686261  3.535511    -1.347479  -1.552235   -1.128233   \n",
       "1141   1.759598    0.163659  0.007386    -0.987405  -0.195654   -0.830109   \n",
       "\n",
       "      label  \n",
       "id           \n",
       "2         2  \n",
       "2167      3  \n",
       "3         3  \n",
       "99        1  \n",
       "1141      2  "
      ]
     },
     "execution_count": 241,
     "metadata": {},
     "output_type": "execute_result"
    }
   ],
   "source": [
    "rating123_scaled.head()"
   ]
  },
  {
   "cell_type": "code",
   "execution_count": 242,
   "metadata": {
    "collapsed": true
   },
   "outputs": [],
   "source": [
    "rating123_scaled['Rational'] = rating123_scaled['Informative'] + rating123_scaled['Persuasive']"
   ]
  },
  {
   "cell_type": "code",
   "execution_count": 243,
   "metadata": {
    "collapsed": false
   },
   "outputs": [],
   "source": [
    "rating123_scaled['Emotional'] = rating123_scaled['Beautiful'] + rating123_scaled['Courageous'] + rating123_scaled['Inspiring']"
   ]
  },
  {
   "cell_type": "code",
   "execution_count": 244,
   "metadata": {
    "collapsed": true
   },
   "outputs": [],
   "source": [
    "rating123_scaled.drop(['Courageous','Beautiful','Informative','Persuasive','Inspiring'],axis = 1,inplace = True)"
   ]
  },
  {
   "cell_type": "code",
   "execution_count": 245,
   "metadata": {
    "collapsed": false
   },
   "outputs": [
    {
     "data": {
      "text/html": [
       "<div style=\"max-height:1000px;max-width:1500px;overflow:auto;\">\n",
       "<table border=\"1\" class=\"dataframe\">\n",
       "  <thead>\n",
       "    <tr style=\"text-align: right;\">\n",
       "      <th></th>\n",
       "      <th>Funny</th>\n",
       "      <th>label</th>\n",
       "      <th>Rational</th>\n",
       "      <th>Emotional</th>\n",
       "    </tr>\n",
       "    <tr>\n",
       "      <th>id</th>\n",
       "      <th></th>\n",
       "      <th></th>\n",
       "      <th></th>\n",
       "      <th></th>\n",
       "    </tr>\n",
       "  </thead>\n",
       "  <tbody>\n",
       "    <tr>\n",
       "      <th>2</th>\n",
       "      <td>-0.463621</td>\n",
       "      <td>2</td>\n",
       "      <td>-0.394977</td>\n",
       "      <td>0.228317</td>\n",
       "    </tr>\n",
       "    <tr>\n",
       "      <th>2167</th>\n",
       "      <td>-0.462795</td>\n",
       "      <td>3</td>\n",
       "      <td>0.137948</td>\n",
       "      <td>-1.180643</td>\n",
       "    </tr>\n",
       "    <tr>\n",
       "      <th>3</th>\n",
       "      <td>-0.447193</td>\n",
       "      <td>3</td>\n",
       "      <td>0.923471</td>\n",
       "      <td>-0.063588</td>\n",
       "    </tr>\n",
       "    <tr>\n",
       "      <th>99</th>\n",
       "      <td>3.535511</td>\n",
       "      <td>1</td>\n",
       "      <td>-2.475712</td>\n",
       "      <td>-1.533349</td>\n",
       "    </tr>\n",
       "    <tr>\n",
       "      <th>1141</th>\n",
       "      <td>0.007386</td>\n",
       "      <td>2</td>\n",
       "      <td>-1.817514</td>\n",
       "      <td>1.727602</td>\n",
       "    </tr>\n",
       "  </tbody>\n",
       "</table>\n",
       "</div>"
      ],
      "text/plain": [
       "         Funny  label  Rational  Emotional\n",
       "id                                        \n",
       "2    -0.463621      2 -0.394977   0.228317\n",
       "2167 -0.462795      3  0.137948  -1.180643\n",
       "3    -0.447193      3  0.923471  -0.063588\n",
       "99    3.535511      1 -2.475712  -1.533349\n",
       "1141  0.007386      2 -1.817514   1.727602"
      ]
     },
     "execution_count": 245,
     "metadata": {},
     "output_type": "execute_result"
    }
   ],
   "source": [
    "rating123_scaled.head()"
   ]
  },
  {
   "cell_type": "code",
   "execution_count": 257,
   "metadata": {
    "collapsed": true
   },
   "outputs": [],
   "source": [
    "color_map = plt.cm.get_cmap('Set1')"
   ]
  },
  {
   "cell_type": "code",
   "execution_count": 286,
   "metadata": {
    "collapsed": false
   },
   "outputs": [],
   "source": [
    "finallabels = ['Funny (\"Funny\")','Emotional (\"Beautiful,Courageous,Inspiring\")','Rational (\"Informative,Persuasive\")']"
   ]
  },
  {
   "cell_type": "code",
   "execution_count": 289,
   "metadata": {
    "collapsed": false
   },
   "outputs": [
    {
     "data": {
      "image/png": "[encoded data removed]",
      "text/plain": [
       "<matplotlib.figure.Figure at 0x116883f10>"
      ]
     },
     "metadata": {},
     "output_type": "display_data"
    }
   ],
   "source": [
    "fig = plt.figure(figsize = (10,7))\n",
    "\n",
    "ax = fig.add_subplot(111, projection='3d')\n",
    "for i in xrange(3):\n",
    "    rating_toplot = rating123_scaled[rating123_scaled.label == i+1]\n",
    "    ax.scatter(rating_toplot['Funny'],rating_toplot['Rational'],rating_toplot['Emotional'],\n",
    "             c = color_map(float(i)/3),label = finallabels[i]\n",
    "            )\n",
    "# ax.set_ylim3d(-4,4)\n",
    "ax.legend(loc = 'upper left',fontsize = 12)\n",
    "ax.set_xlabel('Funny',fontsize = 15);ax.set_ylabel('Rational',fontsize = 15);ax.set_zlabel('Emotional',\n",
    "                                                                                          fontsize = 15)\n",
    "ax.view_init(elev = 25., azim = 50.)"
   ]
  },
  {
   "cell_type": "code",
   "execution_count": null,
   "metadata": {
    "collapsed": true
   },
   "outputs": [],
   "source": []
  }
 ],
 "metadata": {
  "kernelspec": {
   "display_name": "Python 2",
   "language": "python",
   "name": "python2"
  },
  "language_info": {
   "codemirror_mode": {
    "name": "ipython",
    "version": 2
   },
   "file_extension": ".py",
   "mimetype": "text/x-python",
   "name": "python",
   "nbconvert_exporter": "python",
   "pygments_lexer": "ipython2",
   "version": "2.7.9"
  }
 },
 "nbformat": 4,
 "nbformat_minor": 0
}
