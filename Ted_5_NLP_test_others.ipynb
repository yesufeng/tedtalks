{
 "cells": [
  {
   "cell_type": "markdown",
   "metadata": {},
   "source": [
    "##Date:  05/25/2015"
   ]
  },
  {
   "cell_type": "markdown",
   "metadata": {},
   "source": [
    "### This is copied from Ted_5,  use to process the test data"
   ]
  },
  {
   "cell_type": "code",
   "execution_count": 1,
   "metadata": {
    "collapsed": true
   },
   "outputs": [],
   "source": [
    "import pandas as pd\n",
    "import numpy as np\n",
    "import matplotlib.pylab as plt\n",
    "import seaborn as sns\n",
    "%matplotlib inline\n",
    "import requests\n",
    "from pattern import web"
   ]
  },
  {
   "cell_type": "code",
   "execution_count": 2,
   "metadata": {
    "collapsed": true
   },
   "outputs": [],
   "source": [
    "from nltk import word_tokenize\n",
    "from nltk.stem import PorterStemmer\n",
    "from nltk.stem.snowball import SnowballStemmer\n",
    "from nltk.stem.wordnet import WordNetLemmatizer\n",
    "from nltk import pos_tag\n",
    "from nltk import sent_tokenize\n",
    "from nltk.corpus import stopwords\n",
    "import re"
   ]
  },
  {
   "cell_type": "code",
   "execution_count": 3,
   "metadata": {
    "collapsed": true
   },
   "outputs": [],
   "source": [
    "from sklearn import metrics\n",
    "from sklearn.cluster import KMeans\n",
    "from sklearn.decomposition import PCA\n",
    "from sklearn.preprocessing import scale\n",
    "from unidecode import unidecode\n",
    "from sklearn.cross_validation import StratifiedShuffleSplit\n",
    "from sklearn.feature_extraction.text import TfidfVectorizer\n",
    "from sklearn.feature_extraction.text import CountVectorizer"
   ]
  },
  {
   "cell_type": "markdown",
   "metadata": {},
   "source": [
    "##1. Process speakers info "
   ]
  },
  {
   "cell_type": "markdown",
   "metadata": {},
   "source": [
    "read in the train.json file"
   ]
  },
  {
   "cell_type": "code",
   "execution_count": 4,
   "metadata": {
    "collapsed": true
   },
   "outputs": [],
   "source": [
    "talks_test = pd.read_json('test.json')"
   ]
  },
  {
   "cell_type": "code",
   "execution_count": 5,
   "metadata": {
    "collapsed": true
   },
   "outputs": [],
   "source": [
    "talks_test.reset_index(drop = True, inplace = True)"
   ]
  },
  {
   "cell_type": "code",
   "execution_count": 7,
   "metadata": {
    "collapsed": false
   },
   "outputs": [
    {
     "data": {
      "text/plain": [
       "(350, 31)"
      ]
     },
     "execution_count": 7,
     "metadata": {},
     "output_type": "execute_result"
    }
   ],
   "source": [
    "talks_test.shape"
   ]
  },
  {
   "cell_type": "markdown",
   "metadata": {},
   "source": [
    "### get all speakers' info "
   ]
  },
  {
   "cell_type": "code",
   "execution_count": 11,
   "metadata": {
    "collapsed": false
   },
   "outputs": [],
   "source": [
    "speakers = pd.read_json('speakers.json')"
   ]
  },
  {
   "cell_type": "code",
   "execution_count": 12,
   "metadata": {
    "collapsed": false
   },
   "outputs": [
    {
     "data": {
      "text/plain": [
       "Index([  u'description',     u'firstname',            u'id',      u'lastname',\n",
       "       u'middleinitial',  u'published_at',          u'slug',         u'title',\n",
       "          u'updated_at',    u'whotheyare',     u'whylisten'],\n",
       "      dtype='object')"
      ]
     },
     "execution_count": 12,
     "metadata": {},
     "output_type": "execute_result"
    }
   ],
   "source": [
    "speakers.columns"
   ]
  },
  {
   "cell_type": "code",
   "execution_count": 14,
   "metadata": {
    "collapsed": false
   },
   "outputs": [],
   "source": [
    "speakers.set_index('id',inplace = True)"
   ]
  },
  {
   "cell_type": "code",
   "execution_count": 17,
   "metadata": {
    "collapsed": false
   },
   "outputs": [],
   "source": [
    "speakers.sort_index(inplace = True)"
   ]
  },
  {
   "cell_type": "code",
   "execution_count": 20,
   "metadata": {
    "collapsed": false
   },
   "outputs": [
    {
     "data": {
      "text/html": [
       "<div style=\"max-height:1000px;max-width:1500px;overflow:auto;\">\n",
       "<table border=\"1\" class=\"dataframe\">\n",
       "  <thead>\n",
       "    <tr style=\"text-align: right;\">\n",
       "      <th></th>\n",
       "      <th>description</th>\n",
       "      <th>firstname</th>\n",
       "      <th>lastname</th>\n",
       "      <th>middleinitial</th>\n",
       "      <th>published_at</th>\n",
       "      <th>slug</th>\n",
       "      <th>title</th>\n",
       "      <th>updated_at</th>\n",
       "      <th>whotheyare</th>\n",
       "      <th>whylisten</th>\n",
       "    </tr>\n",
       "    <tr>\n",
       "      <th>id</th>\n",
       "      <th></th>\n",
       "      <th></th>\n",
       "      <th></th>\n",
       "      <th></th>\n",
       "      <th></th>\n",
       "      <th></th>\n",
       "      <th></th>\n",
       "      <th></th>\n",
       "      <th></th>\n",
       "      <th></th>\n",
       "    </tr>\n",
       "  </thead>\n",
       "  <tbody>\n",
       "    <tr>\n",
       "      <th>2</th>\n",
       "      <td>Climate-change prophet</td>\n",
       "      <td>Al</td>\n",
       "      <td>Gore</td>\n",
       "      <td></td>\n",
       "      <td>2007-02-13 10:43:00</td>\n",
       "      <td>al_gore</td>\n",
       "      <td></td>\n",
       "      <td>2009-04-08 14:44:57</td>\n",
       "      <td>Once the US Vice President, then star of An In...</td>\n",
       "      <td>Unlike some in public office, Al Gore always i...</td>\n",
       "    </tr>\n",
       "    <tr>\n",
       "      <th>3</th>\n",
       "      <td>inventor, engineer</td>\n",
       "      <td>Amy</td>\n",
       "      <td>Smith</td>\n",
       "      <td></td>\n",
       "      <td>2007-02-13 10:46:00</td>\n",
       "      <td>amy_smith</td>\n",
       "      <td></td>\n",
       "      <td>2010-06-30 11:15:45</td>\n",
       "      <td>Amy Smith designs cheap, practical fixes for t...</td>\n",
       "      <td>Mechanical engineer Amy Smith&amp;#39;s approach t...</td>\n",
       "    </tr>\n",
       "    <tr>\n",
       "      <th>4</th>\n",
       "      <td>President-elect of Afghanistan</td>\n",
       "      <td>Ashraf</td>\n",
       "      <td>Ghani</td>\n",
       "      <td></td>\n",
       "      <td>2007-02-13 10:47:00</td>\n",
       "      <td>ashraf_ghani</td>\n",
       "      <td></td>\n",
       "      <td>2015-03-04 03:50:59</td>\n",
       "      <td>Ashraf Ghani, Afghanistan’s new president-elec...</td>\n",
       "      <td>Ashraf Ghani became Afghanistan&amp;rsquo;s new pr...</td>\n",
       "    </tr>\n",
       "    <tr>\n",
       "      <th>5</th>\n",
       "      <td>Aircraft engineer</td>\n",
       "      <td>Burt</td>\n",
       "      <td>Rutan</td>\n",
       "      <td></td>\n",
       "      <td>2007-02-13 10:49:00</td>\n",
       "      <td>burt_rutan</td>\n",
       "      <td></td>\n",
       "      <td>2010-06-15 15:58:14</td>\n",
       "      <td>In 2004, legendary spacecraft designer Burt Ru...</td>\n",
       "      <td>Burt Rutan is widely regarded as one of the wo...</td>\n",
       "    </tr>\n",
       "    <tr>\n",
       "      <th>6</th>\n",
       "      <td>Car designer</td>\n",
       "      <td>Chris</td>\n",
       "      <td>Bangle</td>\n",
       "      <td></td>\n",
       "      <td>2007-02-13 10:59:00</td>\n",
       "      <td>chris_bangle</td>\n",
       "      <td></td>\n",
       "      <td>2010-06-15 16:00:03</td>\n",
       "      <td>Car design is a ubiquitous but often overlooke...</td>\n",
       "      <td>American designer Chris Bangle understands tha...</td>\n",
       "    </tr>\n",
       "  </tbody>\n",
       "</table>\n",
       "</div>"
      ],
      "text/plain": [
       "                       description firstname lastname middleinitial  \\\n",
       "id                                                                    \n",
       "2           Climate-change prophet        Al     Gore                 \n",
       "3               inventor, engineer       Amy    Smith                 \n",
       "4   President-elect of Afghanistan    Ashraf    Ghani                 \n",
       "5                Aircraft engineer      Burt    Rutan                 \n",
       "6                     Car designer     Chris   Bangle                 \n",
       "\n",
       "          published_at          slug title          updated_at  \\\n",
       "id                                                               \n",
       "2  2007-02-13 10:43:00       al_gore       2009-04-08 14:44:57   \n",
       "3  2007-02-13 10:46:00     amy_smith       2010-06-30 11:15:45   \n",
       "4  2007-02-13 10:47:00  ashraf_ghani       2015-03-04 03:50:59   \n",
       "5  2007-02-13 10:49:00    burt_rutan       2010-06-15 15:58:14   \n",
       "6  2007-02-13 10:59:00  chris_bangle       2010-06-15 16:00:03   \n",
       "\n",
       "                                           whotheyare  \\\n",
       "id                                                      \n",
       "2   Once the US Vice President, then star of An In...   \n",
       "3   Amy Smith designs cheap, practical fixes for t...   \n",
       "4   Ashraf Ghani, Afghanistan’s new president-elec...   \n",
       "5   In 2004, legendary spacecraft designer Burt Ru...   \n",
       "6   Car design is a ubiquitous but often overlooke...   \n",
       "\n",
       "                                            whylisten  \n",
       "id                                                     \n",
       "2   Unlike some in public office, Al Gore always i...  \n",
       "3   Mechanical engineer Amy Smith&#39;s approach t...  \n",
       "4   Ashraf Ghani became Afghanistan&rsquo;s new pr...  \n",
       "5   Burt Rutan is widely regarded as one of the wo...  \n",
       "6   American designer Chris Bangle understands tha...  "
      ]
     },
     "execution_count": 20,
     "metadata": {},
     "output_type": "execute_result"
    }
   ],
   "source": [
    "speakers.head()"
   ]
  },
  {
   "cell_type": "markdown",
   "metadata": {},
   "source": [
    "###1.1 Determine gender "
   ]
  },
  {
   "cell_type": "code",
   "execution_count": 21,
   "metadata": {
    "collapsed": true
   },
   "outputs": [],
   "source": [
    "genderdict = {'he':1,'him':1,'his':1,'she':0,'her':0,'hers':0}"
   ]
  },
  {
   "cell_type": "code",
   "execution_count": 22,
   "metadata": {
    "collapsed": false
   },
   "outputs": [],
   "source": [
    "def genderdet(text):\n",
    "    found = False\n",
    "    for word in text.split(' '):\n",
    "        word = word.lower()\n",
    "        if genderdict.has_key(word):\n",
    "            found = True\n",
    "            return genderdict[word]\n",
    "    if not found:\n",
    "        return -1"
   ]
  },
  {
   "cell_type": "code",
   "execution_count": 23,
   "metadata": {
    "collapsed": true
   },
   "outputs": [],
   "source": [
    "# define a function to get speakers info given speakers ids\n",
    "def speakerinfo(ids):\n",
    "    # ids is a list of ids\n",
    "    gender = []\n",
    "    for speakerid in ids:\n",
    "        text = speakers.ix[speakerid,'whylisten'] + speakers.ix[speakerid,'whotheyare']\n",
    "        gender.append(genderdet(text))\n",
    "    if len(gender) == 1:\n",
    "        return gender[0]\n",
    "    return gender"
   ]
  },
  {
   "cell_type": "code",
   "execution_count": 24,
   "metadata": {
    "collapsed": false
   },
   "outputs": [],
   "source": [
    "gender = talks_test['speaker_ids'].apply(speakerinfo)"
   ]
  },
  {
   "cell_type": "code",
   "execution_count": 31,
   "metadata": {
    "collapsed": false
   },
   "outputs": [
    {
     "data": {
      "text/plain": [
       "350"
      ]
     },
     "execution_count": 31,
     "metadata": {},
     "output_type": "execute_result"
    }
   ],
   "source": [
    "len(gender)"
   ]
  },
  {
   "cell_type": "markdown",
   "metadata": {},
   "source": [
    "#### Resort to gender.api.com to check the remaining speakers using their first name "
   ]
  },
  {
   "cell_type": "code",
   "execution_count": 32,
   "metadata": {
    "collapsed": false
   },
   "outputs": [],
   "source": [
    "# row index of speaker gender-unidentified talks\n",
    "unidentified = list(gender[gender == -1].index)"
   ]
  },
  {
   "cell_type": "code",
   "execution_count": 42,
   "metadata": {
    "collapsed": false
   },
   "outputs": [
    {
     "data": {
      "text/plain": [
       "40"
      ]
     },
     "execution_count": 42,
     "metadata": {},
     "output_type": "execute_result"
    }
   ],
   "source": [
    "unidentified[1]"
   ]
  },
  {
   "cell_type": "code",
   "execution_count": 36,
   "metadata": {
    "collapsed": true
   },
   "outputs": [],
   "source": [
    "baseurl = 'https://gender-api.com/get?name='\n",
    "key='oxxyvSjsHaSKyuLUFF'"
   ]
  },
  {
   "cell_type": "code",
   "execution_count": 37,
   "metadata": {
    "collapsed": true
   },
   "outputs": [],
   "source": [
    "def checkfirstname(ind):\n",
    "    # ind is the row indices of gender(talks_train)\n",
    "    # since in this case we know these talks have only one speaker, we just assign it to speakerid as a variable\n",
    "    speakerid = talks_test.ix[ind,'speaker_ids'][0]\n",
    "    name = speakers.ix[speakerid,'firstname']\n",
    "    url = baseurl+name\n",
    "    response = requests.get(url,params = dict(key=key))\n",
    "    return response.json()['gender']"
   ]
  },
  {
   "cell_type": "code",
   "execution_count": 43,
   "metadata": {
    "collapsed": false
   },
   "outputs": [
    {
     "data": {
      "text/plain": [
       "u'female'"
      ]
     },
     "execution_count": 43,
     "metadata": {},
     "output_type": "execute_result"
    }
   ],
   "source": [
    "checkfirstname(40)"
   ]
  },
  {
   "cell_type": "code",
   "execution_count": 44,
   "metadata": {
    "collapsed": true
   },
   "outputs": [],
   "source": [
    "sex = [checkfirstname(x) for x in unidentified]"
   ]
  },
  {
   "cell_type": "code",
   "execution_count": 45,
   "metadata": {
    "collapsed": true
   },
   "outputs": [],
   "source": [
    "sex_bin = []\n",
    "for det in sex:\n",
    "    if det == 'male':\n",
    "        sex_bin.append(1)\n",
    "    elif det == 'female':\n",
    "        sex_bin.append(0)\n",
    "    else:\n",
    "        sex_bin.append(-1)"
   ]
  },
  {
   "cell_type": "code",
   "execution_count": 46,
   "metadata": {
    "collapsed": true
   },
   "outputs": [],
   "source": [
    "sex_bin = pd.Series(sex_bin,index = unidentified)"
   ]
  },
  {
   "cell_type": "code",
   "execution_count": 47,
   "metadata": {
    "collapsed": false
   },
   "outputs": [
    {
     "data": {
      "text/plain": [
       "3     -1\n",
       "40     0\n",
       "70     1\n",
       "83     1\n",
       "100   -1\n",
       "162    0\n",
       "166    1\n",
       "177    0\n",
       "178    1\n",
       "189    1\n",
       "206    1\n",
       "209    1\n",
       "239    1\n",
       "247    1\n",
       "253    1\n",
       "305    1\n",
       "318    1\n",
       "323   -1\n",
       "dtype: int64"
      ]
     },
     "execution_count": 47,
     "metadata": {},
     "output_type": "execute_result"
    }
   ],
   "source": [
    "sex_bin"
   ]
  },
  {
   "cell_type": "code",
   "execution_count": 48,
   "metadata": {
    "collapsed": false
   },
   "outputs": [],
   "source": [
    "gender[unidentified]=sex_bin"
   ]
  },
  {
   "cell_type": "code",
   "execution_count": 50,
   "metadata": {
    "collapsed": false
   },
   "outputs": [
    {
     "data": {
      "text/plain": [
       "array([1, 1, 0, -1, 0, 0, 1, 1, 0, 1, 0, 0, 1, 0, 0, 1, 1, 1, 1, 0, 1, 0,\n",
       "       0, 1, 1, 0, 1, 0, 1, 1, 1, 0, 1, 1, 0, 1, 1, 1, 1, 1, 0, 1, 1, 1, 1,\n",
       "       1, 1, 0, 0, 1, 1, 1, 1, 1, 1, 1, 1, 1, 1, 1, 1, 1, 1, 1, 0, 0, 0, 1,\n",
       "       1, 1, 1, 0, 1, 0, 1, 1, 1, 1, 0, 1, 1, 0, 1, 1, 1, 0, 1, 1, 1, 1, 0,\n",
       "       0, 1, 0, 1, 1, 1, 1, 1, 1, -1, 1, 1, 1, [0, 1, 1, 1], 1, 1, 1, 1, 0,\n",
       "       1, 1, 1, 0, 1, 0, 1, 1, 1, 1, 1, 1, 1, 0, 1, 1, 0, 1, 0, 1, 0, 1, 1,\n",
       "       0, 1, 0, 1, 1, 0, 1, 0, 0, 1, [0, 1], 0, 1, [0, 1], 1, 1, 1, 1, 1,\n",
       "       0, 0, 1, 0, 0, 0, 1, 1, 0, 1, 0, 1, 0, 0, 1, 1, 1, 0, [-1, 1], 0, 0,\n",
       "       1, 1, 1, 1, 0, 1, 1, 0, 1, 1, 1, 1, 1, 0, 1, 0, 1, 1, 1, 1, 1, 1, 1,\n",
       "       1, 1, 1, 1, 1, 1, 0, 0, 1, 1, 1, 1, 1, 1, 1, 0, 0, 1, 1, 1, 0, 1, 1,\n",
       "       1, 0, 1, 1, 1, 1, 1, 0, 0, 1, 1, 1, 1, 1, 1, 1, 1, 0, 1, 1, 1, 0, 1,\n",
       "       0, 0, 1, 1, 1, 1, 1, 0, 1, 0, 1, 1, 1, 1, 1, 1, 0, 1, 1, 1, 1, 1, 1,\n",
       "       1, 1, 1, 1, 1, 1, 1, 1, 1, 1, 1, 1, 1, 1, 1, 0, 0, 1, 1, 0, 0, 1, 1,\n",
       "       1, 1, 1, 0, 1, 1, 1, 1, 1, 1, 1, 1, 0, 0, 0, 0, 1, 1, 1, 1, 1, 1, 1,\n",
       "       0, 1, 1, 1, 1, [1, 1, -1], 1, 1, 1, 1, 1, 0, -1, 0, 0, 1, 1, 0, 1,\n",
       "       1, 1, 1, 0, 0, 1, 1, 1, 1, 1, 1, 1, 0, 0, 1, 0, 1, 1, 0, 1], dtype=object)"
      ]
     },
     "execution_count": 50,
     "metadata": {},
     "output_type": "execute_result"
    }
   ],
   "source": [
    "gender.values"
   ]
  },
  {
   "cell_type": "code",
   "execution_count": 51,
   "metadata": {
    "collapsed": false
   },
   "outputs": [
    {
     "data": {
      "text/plain": [
       "Int64Index([3, 100, 323], dtype='int64')"
      ]
     },
     "execution_count": 51,
     "metadata": {},
     "output_type": "execute_result"
    }
   ],
   "source": [
    "gender[gender == -1].index"
   ]
  },
  {
   "cell_type": "code",
   "execution_count": 62,
   "metadata": {
    "collapsed": false
   },
   "outputs": [
    {
     "data": {
      "text/plain": [
       "u'Sergey Brin + Larry Page: The genesis of Google'"
      ]
     },
     "execution_count": 62,
     "metadata": {},
     "output_type": "execute_result"
    }
   ],
   "source": [
    "talks_test.ix[170,'name']"
   ]
  },
  {
   "cell_type": "code",
   "execution_count": 56,
   "metadata": {
    "collapsed": false
   },
   "outputs": [],
   "source": [
    "gender[3]=1"
   ]
  },
  {
   "cell_type": "code",
   "execution_count": 57,
   "metadata": {
    "collapsed": true
   },
   "outputs": [],
   "source": [
    "gender[100]=0;gender[323]=1"
   ]
  },
  {
   "cell_type": "code",
   "execution_count": 60,
   "metadata": {
    "collapsed": false
   },
   "outputs": [
    {
     "data": {
      "text/plain": [
       "array([1, 1, 0, 1, 0, 0, 1, 1, 0, 1, 0, 0, 1, 0, 0, 1, 1, 1, 1, 0, 1, 0, 0,\n",
       "       1, 1, 0, 1, 0, 1, 1, 1, 0, 1, 1, 0, 1, 1, 1, 1, 1, 0, 1, 1, 1, 1, 1,\n",
       "       1, 0, 0, 1, 1, 1, 1, 1, 1, 1, 1, 1, 1, 1, 1, 1, 1, 1, 0, 0, 0, 1, 1,\n",
       "       1, 1, 0, 1, 0, 1, 1, 1, 1, 0, 1, 1, 0, 1, 1, 1, 0, 1, 1, 1, 1, 0, 0,\n",
       "       1, 0, 1, 1, 1, 1, 1, 1, 0, 1, 1, 1, [0, 1, 1, 1], 1, 1, 1, 1, 0, 1,\n",
       "       1, 1, 0, 1, 0, 1, 1, 1, 1, 1, 1, 1, 0, 1, 1, 0, 1, 0, 1, 0, 1, 1, 0,\n",
       "       1, 0, 1, 1, 0, 1, 0, 0, 1, [0, 1], 0, 1, [0, 1], 1, 1, 1, 1, 1, 0,\n",
       "       0, 1, 0, 0, 0, 1, 1, 0, 1, 0, 1, 0, 0, 1, 1, 1, 0, [-1, 1], 0, 0, 1,\n",
       "       1, 1, 1, 0, 1, 1, 0, 1, 1, 1, 1, 1, 0, 1, 0, 1, 1, 1, 1, 1, 1, 1, 1,\n",
       "       1, 1, 1, 1, 1, 0, 0, 1, 1, 1, 1, 1, 1, 1, 0, 0, 1, 1, 1, 0, 1, 1, 1,\n",
       "       0, 1, 1, 1, 1, 1, 0, 0, 1, 1, 1, 1, 1, 1, 1, 1, 0, 1, 1, 1, 0, 1, 0,\n",
       "       0, 1, 1, 1, 1, 1, 0, 1, 0, 1, 1, 1, 1, 1, 1, 0, 1, 1, 1, 1, 1, 1, 1,\n",
       "       1, 1, 1, 1, 1, 1, 1, 1, 1, 1, 1, 1, 1, 1, 0, 0, 1, 1, 0, 0, 1, 1, 1,\n",
       "       1, 1, 0, 1, 1, 1, 1, 1, 1, 1, 1, 0, 0, 0, 0, 1, 1, 1, 1, 1, 1, 1, 0,\n",
       "       1, 1, 1, 1, [1, 1, -1], 1, 1, 1, 1, 1, 0, 1, 0, 0, 1, 1, 0, 1, 1, 1,\n",
       "       1, 0, 0, 1, 1, 1, 1, 1, 1, 1, 0, 0, 1, 0, 1, 1, 0, 1], dtype=object)"
      ]
     },
     "execution_count": 60,
     "metadata": {},
     "output_type": "execute_result"
    }
   ],
   "source": [
    "gender.values"
   ]
  },
  {
   "cell_type": "code",
   "execution_count": 61,
   "metadata": {
    "collapsed": false
   },
   "outputs": [
    {
     "name": "stdout",
     "output_type": "stream",
     "text": [
      "170 [-1, 1]\n"
     ]
    }
   ],
   "source": [
    "for ind, sex in gender.iteritems():\n",
    "    if type(sex)==list:\n",
    "        if len(sex)==2 and sum(sex)==1:\n",
    "            gender[ind]=1\n",
    "        elif len(sex)==3:\n",
    "            gender[ind]=1\n",
    "        elif len(sex)==4:\n",
    "            gender[ind]=1\n",
    "        else:\n",
    "            print ind,sex"
   ]
  },
  {
   "cell_type": "code",
   "execution_count": 63,
   "metadata": {
    "collapsed": true
   },
   "outputs": [],
   "source": [
    "gender[170]=1"
   ]
  },
  {
   "cell_type": "code",
   "execution_count": 64,
   "metadata": {
    "collapsed": false
   },
   "outputs": [
    {
     "data": {
      "text/plain": [
       "1    256\n",
       "0     94\n",
       "dtype: int64"
      ]
     },
     "execution_count": 64,
     "metadata": {},
     "output_type": "execute_result"
    }
   ],
   "source": [
    "gender.value_counts()"
   ]
  },
  {
   "cell_type": "markdown",
   "metadata": {},
   "source": [
    "###gender determination summary: "
   ]
  },
  {
   "cell_type": "markdown",
   "metadata": {},
   "source": [
    "1. Most of them are determined by looking for he/she etc in the whytohear, whotheyare columns\n",
    "2. The unknown from the 1st step are determined by first name check on gendercheck.api.com\n",
    "3. The remaining unknowns are determined manually by watching the video\n",
    "4. In the case of multiple speakers: (1) Majority gender (2)If even, choose 'male' or 1\n",
    "5. Notice there are many cases where there are multiple speakers but TED recorded as one speaker."
   ]
  },
  {
   "cell_type": "code",
   "execution_count": 65,
   "metadata": {
    "collapsed": false
   },
   "outputs": [
    {
     "data": {
      "text/plain": [
       "(350,)"
      ]
     },
     "execution_count": 65,
     "metadata": {},
     "output_type": "execute_result"
    }
   ],
   "source": [
    "gender.shape"
   ]
  },
  {
   "cell_type": "code",
   "execution_count": 66,
   "metadata": {
    "collapsed": false
   },
   "outputs": [],
   "source": [
    "talks_test['speaker_gender']=gender"
   ]
  },
  {
   "cell_type": "code",
   "execution_count": 67,
   "metadata": {
    "collapsed": true
   },
   "outputs": [
    {
     "data": {
      "text/html": [
       "<div style=\"max-height:1000px;max-width:1500px;overflow:auto;\">\n",
       "<table border=\"1\" class=\"dataframe\">\n",
       "  <thead>\n",
       "    <tr style=\"text-align: right;\">\n",
       "      <th></th>\n",
       "      <th>Beautiful</th>\n",
       "      <th>Confusing</th>\n",
       "      <th>Courageous</th>\n",
       "      <th>Fascinating</th>\n",
       "      <th>Funny</th>\n",
       "      <th>Informative</th>\n",
       "      <th>Ingenious</th>\n",
       "      <th>Inspiring</th>\n",
       "      <th>Jaw-dropping</th>\n",
       "      <th>Longwinded</th>\n",
       "      <th>...</th>\n",
       "      <th>native_language_code</th>\n",
       "      <th>published_at</th>\n",
       "      <th>rating_count</th>\n",
       "      <th>recorded_at</th>\n",
       "      <th>released_at</th>\n",
       "      <th>speaker_ids</th>\n",
       "      <th>themes</th>\n",
       "      <th>updated_at</th>\n",
       "      <th>viewed_count</th>\n",
       "      <th>speaker_gender</th>\n",
       "    </tr>\n",
       "  </thead>\n",
       "  <tbody>\n",
       "    <tr>\n",
       "      <th>0</th>\n",
       "      <td>23</td>\n",
       "      <td>12</td>\n",
       "      <td>26</td>\n",
       "      <td>430</td>\n",
       "      <td>NaN</td>\n",
       "      <td>238</td>\n",
       "      <td>371</td>\n",
       "      <td>140</td>\n",
       "      <td>377</td>\n",
       "      <td>29</td>\n",
       "      <td>...</td>\n",
       "      <td>en</td>\n",
       "      <td>2011-05-15 12:24:00</td>\n",
       "      <td>1720</td>\n",
       "      <td>2011-03-03</td>\n",
       "      <td>2012-01-03 14:57:43</td>\n",
       "      <td>[890]</td>\n",
       "      <td>[{u'theme': {u'id': 4, u'name': u'How the Mind...</td>\n",
       "      <td>2014-07-03 20:43:21</td>\n",
       "      <td>800492</td>\n",
       "      <td>1</td>\n",
       "    </tr>\n",
       "    <tr>\n",
       "      <th>1</th>\n",
       "      <td>22</td>\n",
       "      <td>2</td>\n",
       "      <td>65</td>\n",
       "      <td>36</td>\n",
       "      <td>NaN</td>\n",
       "      <td>129</td>\n",
       "      <td>10</td>\n",
       "      <td>227</td>\n",
       "      <td>40</td>\n",
       "      <td>13</td>\n",
       "      <td>...</td>\n",
       "      <td>en</td>\n",
       "      <td>2011-05-24 14:54:00</td>\n",
       "      <td>674</td>\n",
       "      <td>2011-03-03</td>\n",
       "      <td>2014-06-03 17:19:32</td>\n",
       "      <td>[928]</td>\n",
       "      <td>[{u'theme': {u'id': 18, u'name': u'To Boldly G...</td>\n",
       "      <td>2014-07-03 20:43:21</td>\n",
       "      <td>454366</td>\n",
       "      <td>1</td>\n",
       "    </tr>\n",
       "    <tr>\n",
       "      <th>2</th>\n",
       "      <td>122</td>\n",
       "      <td>8</td>\n",
       "      <td>229</td>\n",
       "      <td>82</td>\n",
       "      <td>9</td>\n",
       "      <td>137</td>\n",
       "      <td>5</td>\n",
       "      <td>284</td>\n",
       "      <td>38</td>\n",
       "      <td>17</td>\n",
       "      <td>...</td>\n",
       "      <td>en</td>\n",
       "      <td>2011-05-25 15:49:20</td>\n",
       "      <td>1042</td>\n",
       "      <td>2010-12-04</td>\n",
       "      <td>2014-02-03 22:09:07</td>\n",
       "      <td>[830]</td>\n",
       "      <td>[{u'theme': {u'id': 22, u'name': u'Master Stor...</td>\n",
       "      <td>2014-07-03 20:43:21</td>\n",
       "      <td>537615</td>\n",
       "      <td>0</td>\n",
       "    </tr>\n",
       "    <tr>\n",
       "      <th>3</th>\n",
       "      <td>58</td>\n",
       "      <td>3</td>\n",
       "      <td>70</td>\n",
       "      <td>258</td>\n",
       "      <td>1557</td>\n",
       "      <td>9</td>\n",
       "      <td>114</td>\n",
       "      <td>56</td>\n",
       "      <td>394</td>\n",
       "      <td>54</td>\n",
       "      <td>...</td>\n",
       "      <td>en</td>\n",
       "      <td>2008-02-22 01:16:00</td>\n",
       "      <td>2764</td>\n",
       "      <td>2002-02-02</td>\n",
       "      <td>2014-01-13 21:43:12</td>\n",
       "      <td>[198]</td>\n",
       "      <td>[{u'theme': {u'id': 7, u'name': u'Presentation...</td>\n",
       "      <td>2015-03-31 10:48:45</td>\n",
       "      <td>712292</td>\n",
       "      <td>1</td>\n",
       "    </tr>\n",
       "    <tr>\n",
       "      <th>4</th>\n",
       "      <td>1249</td>\n",
       "      <td>34</td>\n",
       "      <td>337</td>\n",
       "      <td>1069</td>\n",
       "      <td>73</td>\n",
       "      <td>389</td>\n",
       "      <td>261</td>\n",
       "      <td>1785</td>\n",
       "      <td>1543</td>\n",
       "      <td>95</td>\n",
       "      <td>...</td>\n",
       "      <td>en</td>\n",
       "      <td>2007-04-06 17:51:00</td>\n",
       "      <td>7153</td>\n",
       "      <td>2003-02-02</td>\n",
       "      <td>2013-09-05 16:59:08</td>\n",
       "      <td>[99]</td>\n",
       "      <td>[{u'theme': {u'id': 1, u'name': u'The Creative...</td>\n",
       "      <td>2014-08-23 12:17:41</td>\n",
       "      <td>3200918</td>\n",
       "      <td>0</td>\n",
       "    </tr>\n",
       "  </tbody>\n",
       "</table>\n",
       "<p>5 rows × 32 columns</p>\n",
       "</div>"
      ],
      "text/plain": [
       "   Beautiful  Confusing  Courageous  Fascinating  Funny  Informative  \\\n",
       "0         23         12          26          430    NaN          238   \n",
       "1         22          2          65           36    NaN          129   \n",
       "2        122          8         229           82      9          137   \n",
       "3         58          3          70          258   1557            9   \n",
       "4       1249         34         337         1069     73          389   \n",
       "\n",
       "   Ingenious  Inspiring  Jaw-dropping  Longwinded      ...        \\\n",
       "0        371        140           377          29      ...         \n",
       "1         10        227            40          13      ...         \n",
       "2          5        284            38          17      ...         \n",
       "3        114         56           394          54      ...         \n",
       "4        261       1785          1543          95      ...         \n",
       "\n",
       "   native_language_code        published_at  rating_count  recorded_at  \\\n",
       "0                    en 2011-05-15 12:24:00          1720   2011-03-03   \n",
       "1                    en 2011-05-24 14:54:00           674   2011-03-03   \n",
       "2                    en 2011-05-25 15:49:20          1042   2010-12-04   \n",
       "3                    en 2008-02-22 01:16:00          2764   2002-02-02   \n",
       "4                    en 2007-04-06 17:51:00          7153   2003-02-02   \n",
       "\n",
       "          released_at speaker_ids  \\\n",
       "0 2012-01-03 14:57:43       [890]   \n",
       "1 2014-06-03 17:19:32       [928]   \n",
       "2 2014-02-03 22:09:07       [830]   \n",
       "3 2014-01-13 21:43:12       [198]   \n",
       "4 2013-09-05 16:59:08        [99]   \n",
       "\n",
       "                                              themes          updated_at  \\\n",
       "0  [{u'theme': {u'id': 4, u'name': u'How the Mind... 2014-07-03 20:43:21   \n",
       "1  [{u'theme': {u'id': 18, u'name': u'To Boldly G... 2014-07-03 20:43:21   \n",
       "2  [{u'theme': {u'id': 22, u'name': u'Master Stor... 2014-07-03 20:43:21   \n",
       "3  [{u'theme': {u'id': 7, u'name': u'Presentation... 2015-03-31 10:48:45   \n",
       "4  [{u'theme': {u'id': 1, u'name': u'The Creative... 2014-08-23 12:17:41   \n",
       "\n",
       "   viewed_count speaker_gender  \n",
       "0        800492              1  \n",
       "1        454366              1  \n",
       "2        537615              0  \n",
       "3        712292              1  \n",
       "4       3200918              0  \n",
       "\n",
       "[5 rows x 32 columns]"
      ]
     },
     "execution_count": 67,
     "metadata": {},
     "output_type": "execute_result"
    }
   ],
   "source": [
    "talks_test.head()"
   ]
  },
  {
   "cell_type": "markdown",
   "metadata": {},
   "source": [
    "###Here also generate a feature to record multi-speaker talks "
   ]
  },
  {
   "cell_type": "code",
   "execution_count": 68,
   "metadata": {
    "collapsed": true
   },
   "outputs": [],
   "source": [
    "onespeaker = talks_test.speaker_ids.apply(lambda x:len(x)==1)"
   ]
  },
  {
   "cell_type": "code",
   "execution_count": 69,
   "metadata": {
    "collapsed": false
   },
   "outputs": [
    {
     "data": {
      "text/plain": [
       "5"
      ]
     },
     "execution_count": 69,
     "metadata": {},
     "output_type": "execute_result"
    }
   ],
   "source": [
    "sum(~onespeaker)"
   ]
  },
  {
   "cell_type": "code",
   "execution_count": 70,
   "metadata": {
    "collapsed": true
   },
   "outputs": [],
   "source": [
    "talks_test['onespeaker']=onespeaker"
   ]
  },
  {
   "cell_type": "code",
   "execution_count": 72,
   "metadata": {
    "collapsed": true
   },
   "outputs": [],
   "source": [
    "talks_test.to_json('test2.json')"
   ]
  },
  {
   "cell_type": "code",
   "execution_count": 73,
   "metadata": {
    "collapsed": false
   },
   "outputs": [
    {
     "data": {
      "text/plain": [
       "Index([           u'Beautiful',            u'Confusing',\n",
       "                 u'Courageous',          u'Fascinating',\n",
       "                      u'Funny',          u'Informative',\n",
       "                  u'Ingenious',            u'Inspiring',\n",
       "               u'Jaw-dropping',           u'Longwinded',\n",
       "                         u'OK',            u'Obnoxious',\n",
       "                 u'Persuasive',         u'Unconvincing',\n",
       "            u'commented_count',          u'description',\n",
       "              u'emailed_count',             u'event_id',\n",
       "                         u'id',             u'keywords',\n",
       "                  u'languages',                 u'name',\n",
       "       u'native_language_code',         u'published_at',\n",
       "               u'rating_count',          u'recorded_at',\n",
       "                u'released_at',          u'speaker_ids',\n",
       "                     u'themes',           u'updated_at',\n",
       "               u'viewed_count',       u'speaker_gender',\n",
       "                 u'onespeaker'],\n",
       "      dtype='object')"
      ]
     },
     "execution_count": 73,
     "metadata": {},
     "output_type": "execute_result"
    }
   ],
   "source": [
    "talks_test.columns"
   ]
  },
  {
   "cell_type": "markdown",
   "metadata": {},
   "source": [
    "##2. Process talk text information: title + keywords + description"
   ]
  },
  {
   "cell_type": "markdown",
   "metadata": {},
   "source": [
    "This is the first of all text resources that will be tapped on, the second would be the captions (e.g., first and last paragraphs); the third will be speakers' background info"
   ]
  },
  {
   "cell_type": "code",
   "execution_count": 74,
   "metadata": {
    "collapsed": true
   },
   "outputs": [],
   "source": [
    "talks_test = pd.read_json('test2.json')"
   ]
  },
  {
   "cell_type": "code",
   "execution_count": 75,
   "metadata": {
    "collapsed": true
   },
   "outputs": [],
   "source": [
    "labels = pd.read_csv('test_response.csv',header =None )"
   ]
  },
  {
   "cell_type": "code",
   "execution_count": 76,
   "metadata": {
    "collapsed": false
   },
   "outputs": [
    {
     "data": {
      "text/plain": [
       "(350, 2)"
      ]
     },
     "execution_count": 76,
     "metadata": {},
     "output_type": "execute_result"
    }
   ],
   "source": [
    "labels.shape"
   ]
  },
  {
   "cell_type": "code",
   "execution_count": 77,
   "metadata": {
    "collapsed": true
   },
   "outputs": [],
   "source": [
    "labels.columns = ['id','label']"
   ]
  },
  {
   "cell_type": "code",
   "execution_count": 78,
   "metadata": {
    "collapsed": true
   },
   "outputs": [],
   "source": [
    "talks = pd.merge(talks_test[['description',\n",
    "                             'id', 'keywords', 'name']],labels,on = 'id')"
   ]
  },
  {
   "cell_type": "code",
   "execution_count": 79,
   "metadata": {
    "collapsed": true
   },
   "outputs": [],
   "source": [
    "talks.sort(inplace = True, columns = 'id')"
   ]
  },
  {
   "cell_type": "code",
   "execution_count": 80,
   "metadata": {
    "collapsed": false
   },
   "outputs": [],
   "source": [
    "talks.reset_index(inplace = True, drop = True)"
   ]
  },
  {
   "cell_type": "code",
   "execution_count": 81,
   "metadata": {
    "collapsed": true
   },
   "outputs": [],
   "source": [
    "def gettitle(name):\n",
    "    tmp = name.split(':')\n",
    "    if len(tmp)==1:\n",
    "        return tmp[0]\n",
    "    else:\n",
    "        return tmp[1]"
   ]
  },
  {
   "cell_type": "code",
   "execution_count": 82,
   "metadata": {
    "collapsed": false
   },
   "outputs": [],
   "source": [
    "talks['title'] = talks.name.apply(gettitle)"
   ]
  },
  {
   "cell_type": "code",
   "execution_count": 83,
   "metadata": {
    "collapsed": false
   },
   "outputs": [],
   "source": [
    "talks.drop('name',axis = 1,inplace = True)"
   ]
  },
  {
   "cell_type": "code",
   "execution_count": 84,
   "metadata": {
    "collapsed": false
   },
   "outputs": [
    {
     "data": {
      "text/html": [
       "<div style=\"max-height:1000px;max-width:1500px;overflow:auto;\">\n",
       "<table border=\"1\" class=\"dataframe\">\n",
       "  <thead>\n",
       "    <tr style=\"text-align: right;\">\n",
       "      <th></th>\n",
       "      <th>description</th>\n",
       "      <th>id</th>\n",
       "      <th>keywords</th>\n",
       "      <th>label</th>\n",
       "      <th>title</th>\n",
       "    </tr>\n",
       "  </thead>\n",
       "  <tbody>\n",
       "    <tr>\n",
       "      <th>0</th>\n",
       "      <td>American designer Chris Bangle explains his ph...</td>\n",
       "      <td>5</td>\n",
       "      <td>The Creative Spark,Tales of Invention,TED Conf...</td>\n",
       "      <td>3</td>\n",
       "      <td>Great cars are great art</td>\n",
       "    </tr>\n",
       "    <tr>\n",
       "      <th>1</th>\n",
       "      <td>In this emotionally charged conversation with ...</td>\n",
       "      <td>8</td>\n",
       "      <td>The Power of Cities,Architectural Inspiration,...</td>\n",
       "      <td>3</td>\n",
       "      <td>A memorial at Ground Zero</td>\n",
       "    </tr>\n",
       "    <tr>\n",
       "      <th>2</th>\n",
       "      <td>Jane Goodall hasn't found the missing link, bu...</td>\n",
       "      <td>11</td>\n",
       "      <td>Animals That Amaze,Evolution's Genius,Inspired...</td>\n",
       "      <td>1</td>\n",
       "      <td>What separates us from chimpanzees?</td>\n",
       "    </tr>\n",
       "    <tr>\n",
       "      <th>3</th>\n",
       "      <td>In this inspiring talk about recent developmen...</td>\n",
       "      <td>18</td>\n",
       "      <td>Animals That Amaze,Evolution's Genius,Inspired...</td>\n",
       "      <td>2</td>\n",
       "      <td>Biomimicry's surprising lessons from nature's...</td>\n",
       "    </tr>\n",
       "    <tr>\n",
       "      <th>4</th>\n",
       "      <td>How many poets could cram eBay, Friendster and...</td>\n",
       "      <td>26</td>\n",
       "      <td>Presentation Innovation,Spectacular Performanc...</td>\n",
       "      <td>4</td>\n",
       "      <td>If I controlled the Internet</td>\n",
       "    </tr>\n",
       "  </tbody>\n",
       "</table>\n",
       "</div>"
      ],
      "text/plain": [
       "                                         description  id  \\\n",
       "0  American designer Chris Bangle explains his ph...   5   \n",
       "1  In this emotionally charged conversation with ...   8   \n",
       "2  Jane Goodall hasn't found the missing link, bu...  11   \n",
       "3  In this inspiring talk about recent developmen...  18   \n",
       "4  How many poets could cram eBay, Friendster and...  26   \n",
       "\n",
       "                                            keywords  label  \\\n",
       "0  The Creative Spark,Tales of Invention,TED Conf...      3   \n",
       "1  The Power of Cities,Architectural Inspiration,...      3   \n",
       "2  Animals That Amaze,Evolution's Genius,Inspired...      1   \n",
       "3  Animals That Amaze,Evolution's Genius,Inspired...      2   \n",
       "4  Presentation Innovation,Spectacular Performanc...      4   \n",
       "\n",
       "                                               title  \n",
       "0                           Great cars are great art  \n",
       "1                          A memorial at Ground Zero  \n",
       "2                What separates us from chimpanzees?  \n",
       "3   Biomimicry's surprising lessons from nature's...  \n",
       "4                       If I controlled the Internet  "
      ]
     },
     "execution_count": 84,
     "metadata": {},
     "output_type": "execute_result"
    }
   ],
   "source": [
    "talks.head()"
   ]
  },
  {
   "cell_type": "code",
   "execution_count": 85,
   "metadata": {
    "collapsed": true
   },
   "outputs": [],
   "source": [
    "text = []\n",
    "for ind, row in talks.iterrows():\n",
    "    text.append(' '.join([row['description'],row['keywords'],row['title']]))"
   ]
  },
  {
   "cell_type": "code",
   "execution_count": 86,
   "metadata": {
    "collapsed": true
   },
   "outputs": [],
   "source": [
    "talks['text'] = text"
   ]
  },
  {
   "cell_type": "code",
   "execution_count": 87,
   "metadata": {
    "collapsed": false
   },
   "outputs": [
    {
     "data": {
      "text/plain": [
       "u\"American designer Chris Bangle explains his philosophy that car design is an art form in its own right, with an entertaining -- and ultimately moving -- account of the BMW Group's Deep Blue project, intended to create the SUV of the future. The Creative Spark,Tales of Invention,TED Conference,arts,business,cars,design,industrial design,invention,technology,transportation  Great cars are great art\""
      ]
     },
     "execution_count": 87,
     "metadata": {},
     "output_type": "execute_result"
    }
   ],
   "source": [
    "talks.text[0]"
   ]
  },
  {
   "cell_type": "markdown",
   "metadata": {},
   "source": [
    "###2.1 Remove tags  "
   ]
  },
  {
   "cell_type": "code",
   "execution_count": 88,
   "metadata": {
    "collapsed": true
   },
   "outputs": [],
   "source": [
    "talks['text'] = talks['text'].apply(lambda x: re.sub(\"<.*?>\", \"\", x))    "
   ]
  },
  {
   "cell_type": "code",
   "execution_count": 89,
   "metadata": {
    "collapsed": false
   },
   "outputs": [
    {
     "data": {
      "text/plain": [
       "u\"American designer Chris Bangle explains his philosophy that car design is an art form in its own right, with an entertaining -- and ultimately moving -- account of the BMW Group's Deep Blue project, intended to create the SUV of the future. The Creative Spark,Tales of Invention,TED Conference,arts,business,cars,design,industrial design,invention,technology,transportation  Great cars are great art\""
      ]
     },
     "execution_count": 89,
     "metadata": {},
     "output_type": "execute_result"
    }
   ],
   "source": [
    "talks.text[0]"
   ]
  },
  {
   "cell_type": "code",
   "execution_count": 90,
   "metadata": {
    "collapsed": false
   },
   "outputs": [
    {
     "data": {
      "text/plain": [
       "(350,)"
      ]
     },
     "execution_count": 90,
     "metadata": {},
     "output_type": "execute_result"
    }
   ],
   "source": [
    "talks.text.shape"
   ]
  },
  {
   "cell_type": "code",
   "execution_count": 91,
   "metadata": {
    "collapsed": false
   },
   "outputs": [
    {
     "data": {
      "text/plain": [
       "Index([u'description', u'id', u'keywords', u'label', u'title', u'text'], dtype='object')"
      ]
     },
     "execution_count": 91,
     "metadata": {},
     "output_type": "execute_result"
    }
   ],
   "source": [
    "talks.columns"
   ]
  },
  {
   "cell_type": "code",
   "execution_count": 92,
   "metadata": {
    "collapsed": true
   },
   "outputs": [],
   "source": [
    "talks[['id','text']].to_json('validset_other_text.json')"
   ]
  },
  {
   "cell_type": "code",
   "execution_count": null,
   "metadata": {
    "collapsed": true
   },
   "outputs": [],
   "source": []
  }
 ],
 "metadata": {
  "kernelspec": {
   "display_name": "Python 2",
   "language": "python",
   "name": "python2"
  },
  "language_info": {
   "codemirror_mode": {
    "name": "ipython",
    "version": 2
   },
   "file_extension": ".py",
   "mimetype": "text/x-python",
   "name": "python",
   "nbconvert_exporter": "python",
   "pygments_lexer": "ipython2",
   "version": "2.7.9"
  }
 },
 "nbformat": 4,
 "nbformat_minor": 0
}
