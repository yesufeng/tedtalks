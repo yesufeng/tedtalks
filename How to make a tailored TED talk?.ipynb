{
 "cells": [
  {
   "cell_type": "markdown",
   "metadata": {},
   "source": [
    "#How to make a tailored TED talk? "
   ]
  },
  {
   "cell_type": "markdown",
   "metadata": {},
   "source": [
    "#### Date:  06/01/2015"
   ]
  },
  {
   "cell_type": "markdown",
   "metadata": {
    "slideshow": {
     "slide_type": "skip"
    }
   },
   "source": [
    "This notebook is based on Ted_4_Feature testing, feature engineering/selections are done in other notebooks such as Ted_2 (caption) and Ted_5 (other textual data); the raw data is processed in Ted_1. The splitting of training set and final holdout dataset is done in Ted_3"
   ]
  },
  {
   "cell_type": "code",
   "execution_count": 29,
   "metadata": {
    "collapsed": true
   },
   "outputs": [],
   "source": [
    "import pandas as pd\n",
    "import numpy as np\n",
    "import matplotlib.pylab as plt\n",
    "import seaborn as sns\n",
    "%matplotlib inline\n",
    "import requests\n",
    "from pattern import web\n",
    "import operator"
   ]
  },
  {
   "cell_type": "code",
   "execution_count": 30,
   "metadata": {
    "collapsed": true
   },
   "outputs": [],
   "source": [
    "from sklearn.linear_model import LogisticRegression\n",
    "from sklearn.linear_model import LogisticRegressionCV\n",
    "from sklearn.metrics import classification_report\n",
    "from sklearn.metrics import confusion_matrix\n",
    "from sklearn.ensemble import RandomForestClassifier"
   ]
  },
  {
   "cell_type": "code",
   "execution_count": 31,
   "metadata": {
    "collapsed": true
   },
   "outputs": [],
   "source": [
    "from sklearn.pipeline import Pipeline\n",
    "from sklearn.cross_validation import cross_val_score\n",
    "from sklearn.cross_validation import StratifiedKFold\n",
    "from sklearn.grid_search import GridSearchCV"
   ]
  },
  {
   "cell_type": "code",
   "execution_count": 32,
   "metadata": {
    "collapsed": true
   },
   "outputs": [],
   "source": [
    "from sklearn import metrics\n",
    "from sklearn.cluster import KMeans\n",
    "from sklearn.decomposition import PCA\n",
    "from sklearn.preprocessing import scale\n",
    "from sklearn.preprocessing import label_binarize\n",
    "from unidecode import unidecode\n",
    "from sklearn.cross_validation import StratifiedShuffleSplit\n",
    "from sklearn.feature_extraction.text import TfidfVectorizer\n",
    "from sklearn.feature_extraction.text import CountVectorizer\n",
    "from sklearn.svm import SVC\n",
    "from sklearn.base import BaseEstimator,TransformerMixin"
   ]
  },
  {
   "cell_type": "code",
   "execution_count": 33,
   "metadata": {
    "collapsed": true
   },
   "outputs": [],
   "source": [
    "from nltk import word_tokenize\n",
    "from nltk.stem import PorterStemmer\n",
    "from nltk.stem.wordnet import WordNetLemmatizer\n",
    "from nltk import pos_tag"
   ]
  },
  {
   "cell_type": "markdown",
   "metadata": {},
   "source": [
    "##1. Process themes into vector"
   ]
  },
  {
   "cell_type": "code",
   "execution_count": 34,
   "metadata": {
    "collapsed": false
   },
   "outputs": [],
   "source": [
    "talks_small = pd.read_json('train2.json')"
   ]
  },
  {
   "cell_type": "code",
   "execution_count": 35,
   "metadata": {
    "collapsed": false
   },
   "outputs": [],
   "source": [
    "talks_small.reset_index(drop = True, inplace = True)"
   ]
  },
  {
   "cell_type": "code",
   "execution_count": 38,
   "metadata": {
    "collapsed": false
   },
   "outputs": [
    {
     "data": {
      "text/plain": [
       "(1535, 33)"
      ]
     },
     "execution_count": 38,
     "metadata": {},
     "output_type": "execute_result"
    }
   ],
   "source": [
    "# to hide\n",
    "talks_small.shape"
   ]
  },
  {
   "cell_type": "code",
   "execution_count": 39,
   "metadata": {
    "collapsed": true
   },
   "outputs": [],
   "source": [
    "# convert the theme dictionary to list of themes\n",
    "def themes_fun(row):\n",
    "    # convert the original themes (dict) to list\n",
    "    themes = []\n",
    "    for theme in row['themes']:\n",
    "        themes.append(theme['theme']['name'])\n",
    "    return themes"
   ]
  },
  {
   "cell_type": "code",
   "execution_count": 40,
   "metadata": {
    "collapsed": false
   },
   "outputs": [],
   "source": [
    "themes = []\n",
    "for i in xrange(talks_small.shape[0]):\n",
    "    themes.append(themes_fun(talks_small.ix[i,:]))"
   ]
  },
  {
   "cell_type": "code",
   "execution_count": 47,
   "metadata": {
    "collapsed": true
   },
   "outputs": [],
   "source": [
    "# get the total themes, used as vocabulary\n",
    "th_url = 'https://api.ted.com/v1/themes.json?api-key=ynw2u8e4h9sk8c2htp7vutxq&limit=100'\n",
    "th_res = requests.get(th_url)"
   ]
  },
  {
   "cell_type": "code",
   "execution_count": 48,
   "metadata": {
    "collapsed": true
   },
   "outputs": [],
   "source": [
    "vocab_theme = [(x['theme']['name'],x['theme']['id']) for x in th_res.json()['themes']]"
   ]
  },
  {
   "cell_type": "code",
   "execution_count": 49,
   "metadata": {
    "collapsed": true
   },
   "outputs": [],
   "source": [
    "vocab_theme = dict(vocab_theme)"
   ]
  },
  {
   "cell_type": "code",
   "execution_count": 50,
   "metadata": {
    "collapsed": true
   },
   "outputs": [],
   "source": [
    "vocab_theme = vocab_theme.keys()"
   ]
  },
  {
   "cell_type": "code",
   "execution_count": 13,
   "metadata": {
    "collapsed": true
   },
   "outputs": [],
   "source": [
    "vocab_theme = [u'Live Music',u'Celebrating TEDWomen',u'Whipsmart Comedy',u'Listening to Teachers',u'Spectacular Performance',\n",
    " u'Ocean Wonders',u'Bold Predictions, Stern Warnings',u'What Makes Us Happy?',u'Media With Meaning',u'Technology, History and Destiny',\n",
    " u'How the Mind Works',u'Talks from TED Fellows',u'Medicine Without Borders',u'Hidden Gems',u'War and Peace',\n",
    " u'The Rise of Collaboration',u'TED Prize Winners',u\"Evolution's Genius\",u'Unconventional Explanations',u\"What's Next in Tech\",\n",
    " u'Presentation Innovation',u'Words About Words',u'Numbers at Play',u'Women Reshaping the World',u'Art Unusual',\n",
    " u'Not Business as Usual',u'To Boldly Go ...',u'Architectural Inspiration',u'Africa: The Next Chapter',u'TED in 3 Minutes',\n",
    " u'Tales of Invention',u'Inspired by Nature',u'Is There a God?',u'Design That Matters',u'Food Matters',u'How We Learn',u'Master Storytellers',\n",
    " u'Animals That Amaze',u'The Power of Cities',u'A Greener Future?',u'The Creative Spark',u'Peering into Space',u'Best of the Web',\n",
    " u'Rethinking Poverty',u'The Charter for Compassion',u'Might You Live a Great Deal Longer?',u'Mission Blue Voyage']"
   ]
  },
  {
   "cell_type": "code",
   "execution_count": 51,
   "metadata": {
    "collapsed": false
   },
   "outputs": [
    {
     "data": {
      "text/plain": [
       "u'Celebrating TEDWomen'"
      ]
     },
     "execution_count": 51,
     "metadata": {},
     "output_type": "execute_result"
    }
   ],
   "source": [
    "vocab_theme[1]"
   ]
  },
  {
   "cell_type": "code",
   "execution_count": 52,
   "metadata": {
    "collapsed": true
   },
   "outputs": [],
   "source": [
    "talks_small['themes'] = themes"
   ]
  },
  {
   "cell_type": "code",
   "execution_count": 53,
   "metadata": {
    "collapsed": false
   },
   "outputs": [],
   "source": [
    "talks_small['themes'] = talks_small['themes'].apply(lambda x: ' '.join(x))"
   ]
  },
  {
   "cell_type": "markdown",
   "metadata": {},
   "source": [
    "#### The maximum length of all themes is 35 grams, therefore use ngram_range = (2,40)"
   ]
  },
  {
   "cell_type": "code",
   "execution_count": 54,
   "metadata": {
    "collapsed": false
   },
   "outputs": [],
   "source": [
    "# shortest themes are of 2 words, longest 7words\n",
    "Cvtheme = CountVectorizer(vocabulary=vocab_theme,binary = True, analyzer='char',ngram_range=(2,40),lowercase = False)"
   ]
  },
  {
   "cell_type": "markdown",
   "metadata": {},
   "source": [
    "##2. Convert onespeaker feature into integer "
   ]
  },
  {
   "cell_type": "code",
   "execution_count": 55,
   "metadata": {
    "collapsed": true
   },
   "outputs": [],
   "source": [
    "talks_small['onespeaker'] = (talks_small['onespeaker']==True).astype(int)"
   ]
  },
  {
   "cell_type": "markdown",
   "metadata": {},
   "source": [
    "##3. Process the label "
   ]
  },
  {
   "cell_type": "code",
   "execution_count": 56,
   "metadata": {
    "collapsed": false
   },
   "outputs": [],
   "source": [
    "labels = pd.read_csv('response5.csv',header =None )"
   ]
  },
  {
   "cell_type": "code",
   "execution_count": 57,
   "metadata": {
    "collapsed": false
   },
   "outputs": [],
   "source": [
    "labels.columns = ['id','label']"
   ]
  },
  {
   "cell_type": "code",
   "execution_count": 58,
   "metadata": {
    "collapsed": false
   },
   "outputs": [],
   "source": [
    "counts = labels.groupby('label')['label'].count()"
   ]
  },
  {
   "cell_type": "code",
   "execution_count": 59,
   "metadata": {
    "collapsed": true
   },
   "outputs": [],
   "source": [
    "fractions = counts/counts.sum()"
   ]
  },
  {
   "cell_type": "code",
   "execution_count": 60,
   "metadata": {
    "collapsed": false
   },
   "outputs": [],
   "source": [
    "fractions.index = ['persuasive informative','beautiful courageous inspiring','jaw-dropping ingenious fascinating',\n",
    "                  'ok obnoxious confusing unconvincing long-winded', 'funny']"
   ]
  },
  {
   "cell_type": "code",
   "execution_count": 61,
   "metadata": {
    "collapsed": false
   },
   "outputs": [
    {
     "data": {
      "text/plain": [
       "persuasive informative                             0.308795\n",
       "beautiful courageous inspiring                     0.272313\n",
       "jaw-dropping ingenious fascinating                 0.229967\n",
       "ok obnoxious confusing unconvincing long-winded    0.116612\n",
       "funny                                              0.072313\n",
       "Name: label, dtype: float64"
      ]
     },
     "execution_count": 61,
     "metadata": {},
     "output_type": "execute_result"
    }
   ],
   "source": [
    "fractions"
   ]
  },
  {
   "cell_type": "markdown",
   "metadata": {
    "slideshow": {
     "slide_type": "slide"
    }
   },
   "source": [
    "#### Make a plot of label distribution in the training set"
   ]
  },
  {
   "cell_type": "code",
   "execution_count": 62,
   "metadata": {
    "collapsed": false
   },
   "outputs": [
    {
     "data": {
      "text/plain": [
       "<matplotlib.text.Text at 0x10e8a0a90>"
      ]
     },
     "execution_count": 62,
     "metadata": {},
     "output_type": "execute_result"
    },
    {
     "data": {
      "image/png": "[encoded data removed]",
      "text/plain": [
       "<matplotlib.figure.Figure at 0x11006d050>"
      ]
     },
     "metadata": {},
     "output_type": "display_data"
    }
   ],
   "source": [
    "fractions.plot(kind = 'bar')\n",
    "plt.xticks(rotation = 15, ha = 'right')\n",
    "plt.ylabel('Fraction of talks (Total: 1535 talks)')\n",
    "plt.xlabel('Rating words class')"
   ]
  },
  {
   "cell_type": "markdown",
   "metadata": {},
   "source": [
    "##4. Construct final training set Xdf and y, which is the label "
   ]
  },
  {
   "cell_type": "markdown",
   "metadata": {},
   "source": [
    "###4.1 Features from talks_small are id, theme and speaker_gender"
   ]
  },
  {
   "cell_type": "code",
   "execution_count": 65,
   "metadata": {
    "collapsed": false
   },
   "outputs": [],
   "source": [
    "Xdf = talks_small[['id','themes','speaker_gender']]"
   ]
  },
  {
   "cell_type": "code",
   "execution_count": 66,
   "metadata": {
    "collapsed": false
   },
   "outputs": [],
   "source": [
    "Xdf = Xdf.sort(columns = 'id')"
   ]
  },
  {
   "cell_type": "markdown",
   "metadata": {},
   "source": [
    "###4.2 Features from captions, processed in Ted_2 "
   ]
  },
  {
   "cell_type": "code",
   "execution_count": 67,
   "metadata": {
    "collapsed": false
   },
   "outputs": [],
   "source": [
    "caps = pd.read_json('captions_f.json')[['id','length','num_para','word_per_sec','laughter_per_word','laugh_as_para',\n",
    "                                     'applause_total','div_per_word','ithinks','storywords','noun_token','verb_token']]"
   ]
  },
  {
   "cell_type": "code",
   "execution_count": 68,
   "metadata": {
    "collapsed": false
   },
   "outputs": [],
   "source": [
    "caps = caps.sort(columns = 'id')"
   ]
  },
  {
   "cell_type": "code",
   "execution_count": 69,
   "metadata": {
    "collapsed": true
   },
   "outputs": [],
   "source": [
    "caps.reset_index(inplace = True, drop = True)"
   ]
  },
  {
   "cell_type": "markdown",
   "metadata": {},
   "source": [
    "### 4.3 Features from other text source (title + keywords + description), generated in Ted_5"
   ]
  },
  {
   "cell_type": "code",
   "execution_count": 70,
   "metadata": {
    "collapsed": true
   },
   "outputs": [],
   "source": [
    "Xother = pd.read_json('talks_other_text.json')"
   ]
  },
  {
   "cell_type": "code",
   "execution_count": 71,
   "metadata": {
    "collapsed": false
   },
   "outputs": [],
   "source": [
    "Xother.sort(columns = 'id',inplace = True)"
   ]
  },
  {
   "cell_type": "code",
   "execution_count": 72,
   "metadata": {
    "collapsed": true
   },
   "outputs": [],
   "source": [
    "Xother.reset_index(inplace = True, drop = True)"
   ]
  },
  {
   "cell_type": "markdown",
   "metadata": {},
   "source": [
    "###4.4 Merge all three sources into Xdf "
   ]
  },
  {
   "cell_type": "code",
   "execution_count": 73,
   "metadata": {
    "collapsed": true
   },
   "outputs": [],
   "source": [
    "Xdf = pd.merge(Xdf,caps,on = 'id')"
   ]
  },
  {
   "cell_type": "code",
   "execution_count": 74,
   "metadata": {
    "collapsed": true
   },
   "outputs": [],
   "source": [
    "Xdf = pd.merge(Xdf,Xother, on = 'id')"
   ]
  },
  {
   "cell_type": "code",
   "execution_count": 75,
   "metadata": {
    "collapsed": false
   },
   "outputs": [],
   "source": [
    "Xdf.sort(columns = 'id',inplace = True)"
   ]
  },
  {
   "cell_type": "markdown",
   "metadata": {},
   "source": [
    "###4.5 Generate y from labels "
   ]
  },
  {
   "cell_type": "code",
   "execution_count": 76,
   "metadata": {
    "collapsed": false
   },
   "outputs": [],
   "source": [
    "labels.sort(columns = 'id',inplace = True)"
   ]
  },
  {
   "cell_type": "code",
   "execution_count": 77,
   "metadata": {
    "collapsed": false
   },
   "outputs": [],
   "source": [
    "labels.reset_index(drop = True, inplace = True)"
   ]
  },
  {
   "cell_type": "code",
   "execution_count": 78,
   "metadata": {
    "collapsed": false
   },
   "outputs": [],
   "source": [
    "y = labels[['label']].values.flatten()"
   ]
  },
  {
   "cell_type": "markdown",
   "metadata": {},
   "source": [
    "## 5 Learning"
   ]
  },
  {
   "cell_type": "markdown",
   "metadata": {},
   "source": [
    "### 5.1 a single test-train split "
   ]
  },
  {
   "cell_type": "code",
   "execution_count": 79,
   "metadata": {
    "collapsed": true
   },
   "outputs": [],
   "source": [
    "sss = StratifiedShuffleSplit(y, n_iter = 1, test_size=0.2, random_state=1)"
   ]
  },
  {
   "cell_type": "code",
   "execution_count": 80,
   "metadata": {
    "collapsed": false
   },
   "outputs": [],
   "source": [
    "for train_index,test_index in sss:\n",
    "    Xdftrain,Xdftest = Xdf.ix[train_index,:],Xdf.ix[test_index,:]\n",
    "    ytrain,ytest = y[train_index],y[test_index]"
   ]
  },
  {
   "cell_type": "markdown",
   "metadata": {},
   "source": [
    "####5.1.1 Convert the text(title +kw + description) into a matrix using CountVectorizer"
   ]
  },
  {
   "cell_type": "code",
   "execution_count": 81,
   "metadata": {
    "collapsed": false
   },
   "outputs": [],
   "source": [
    "Xtrain_text = Xdftrain['text'].as_matrix()"
   ]
  },
  {
   "cell_type": "code",
   "execution_count": 82,
   "metadata": {
    "collapsed": true
   },
   "outputs": [],
   "source": [
    "Xtest_text = Xdftest['text'].as_matrix()"
   ]
  },
  {
   "cell_type": "markdown",
   "metadata": {},
   "source": [
    "##### the following list is derived in Ted_5_NLP_other "
   ]
  },
  {
   "cell_type": "code",
   "execution_count": 83,
   "metadata": {
    "collapsed": true
   },
   "outputs": [],
   "source": [
    "final_text_words = ['global issues', 'science', 'culture', 'new','humor','entertainment']"
   ]
  },
  {
   "cell_type": "code",
   "execution_count": 84,
   "metadata": {
    "collapsed": true
   },
   "outputs": [],
   "source": [
    "vect_other = CountVectorizer(vocabulary = final_text_words, stop_words = 'english', ngram_range = (1,2))"
   ]
  },
  {
   "cell_type": "code",
   "execution_count": 85,
   "metadata": {
    "collapsed": true
   },
   "outputs": [],
   "source": [
    "Xtrain_text_other = vect_other.fit_transform(Xtrain_text)"
   ]
  },
  {
   "cell_type": "code",
   "execution_count": 86,
   "metadata": {
    "collapsed": true
   },
   "outputs": [],
   "source": [
    "Xtest_text_other = vect_other.transform(Xtest_text)"
   ]
  },
  {
   "cell_type": "markdown",
   "metadata": {},
   "source": [
    "#### 5.1.2 Convert themes into a matrix using Cvtheme (a CountVectorizer) defined previously"
   ]
  },
  {
   "cell_type": "code",
   "execution_count": 87,
   "metadata": {
    "collapsed": false
   },
   "outputs": [],
   "source": [
    "Xtrain_th = Cvtheme.fit_transform(Xdftrain.ix[:,'themes'].as_matrix())"
   ]
  },
  {
   "cell_type": "code",
   "execution_count": 88,
   "metadata": {
    "collapsed": true
   },
   "outputs": [],
   "source": [
    "Xtest_th = Cvtheme.transform(Xdftest.ix[:,'themes'].as_matrix())"
   ]
  },
  {
   "cell_type": "markdown",
   "metadata": {},
   "source": [
    "#### 5.1.3 Convert verb and noun tokens in the caption to a matrix using TfidfVectorizer"
   ]
  },
  {
   "cell_type": "markdown",
   "metadata": {},
   "source": [
    "##### the vocabulary lists are derived in Ted_2_NLP_caption "
   ]
  },
  {
   "cell_type": "markdown",
   "metadata": {},
   "source": [
    "Both noun and verb vocabulary are selected by the following procedure:\n",
    "    1. tokens that have log probability larger than -3 are filtered out\n",
    "    2. tokens must appear in more than 60% of talks in the selected class\n",
    "    3. vocabulary of each class are combined to form the ultimate noun or verb vocabulary"
   ]
  },
  {
   "cell_type": "code",
   "execution_count": 293,
   "metadata": {
    "collapsed": true
   },
   "outputs": [],
   "source": [
    "vocab_verb_final = [u'like',u'show',u'feel',u'should',u'leave',u'live',u'understand',u'talk',u'ask',u'become',u'change']"
   ]
  },
  {
   "cell_type": "code",
   "execution_count": 342,
   "metadata": {
    "collapsed": true
   },
   "outputs": [],
   "source": [
    "vocab_noun_final = [u'life',u'percent',u'question',u'story',u'idea',u'part',u'place',u'fact',u'example',u'problem',u'bit',u'kind',u'today']"
   ]
  },
  {
   "cell_type": "code",
   "execution_count": 476,
   "metadata": {
    "collapsed": true
   },
   "outputs": [],
   "source": [
    "tf_noun = TfidfVectorizer(vocabulary = vocab_noun_final,use_idf = False, sublinear_tf = True)"
   ]
  },
  {
   "cell_type": "code",
   "execution_count": 477,
   "metadata": {
    "collapsed": true
   },
   "outputs": [],
   "source": [
    "tf_verb = TfidfVectorizer(vocabulary = vocab_verb_final,use_idf = False, sublinear_tf = True)"
   ]
  },
  {
   "cell_type": "code",
   "execution_count": 478,
   "metadata": {
    "collapsed": true
   },
   "outputs": [],
   "source": [
    "Xtrain_noun = tf_noun.fit_transform(Xdftrain.ix[:,'noun_token'].as_matrix())"
   ]
  },
  {
   "cell_type": "code",
   "execution_count": 479,
   "metadata": {
    "collapsed": true
   },
   "outputs": [],
   "source": [
    "Xtest_noun = tf_noun.transform(Xdftest.ix[:,'noun_token'].as_matrix())"
   ]
  },
  {
   "cell_type": "code",
   "execution_count": 483,
   "metadata": {
    "collapsed": true
   },
   "outputs": [],
   "source": [
    "Xtrain_verb = tf_verb.fit_transform(Xdftrain.ix[:,'verb_token'].as_matrix())"
   ]
  },
  {
   "cell_type": "code",
   "execution_count": 484,
   "metadata": {
    "collapsed": true
   },
   "outputs": [],
   "source": [
    "Xtest_verb = tf_verb.transform(Xdftest.ix[:,'verb_token'].as_matrix())"
   ]
  },
  {
   "cell_type": "markdown",
   "metadata": {},
   "source": [
    "#### 5.1.4 Combine all features into Xtrain, Xtest"
   ]
  },
  {
   "cell_type": "code",
   "execution_count": 485,
   "metadata": {
    "collapsed": false
   },
   "outputs": [],
   "source": [
    "Xtrain = np.concatenate([Xtrain_th.toarray(),Xtrain_noun.toarray(),Xtrain_verb.toarray(),\n",
    "                          Xtrain_text_other.toarray(), scale(Xdftrain.ix[:,2:12].as_matrix())],\n",
    "                         axis = 1)"
   ]
  },
  {
   "cell_type": "code",
   "execution_count": 486,
   "metadata": {
    "collapsed": false
   },
   "outputs": [],
   "source": [
    "Xtest = np.concatenate([Xtest_th.toarray(),Xtest_noun.toarray(),Xtest_verb.toarray(),\n",
    "                         Xtest_text_other.toarray(), scale(Xdftest.ix[:,2:12].as_matrix())],axis = 1)"
   ]
  },
  {
   "cell_type": "markdown",
   "metadata": {},
   "source": [
    "#### 5.1.5 Test logistic regression and random forest "
   ]
  },
  {
   "cell_type": "markdown",
   "metadata": {},
   "source": [
    "#### Logistic Regresion"
   ]
  },
  {
   "cell_type": "markdown",
   "metadata": {},
   "source": [
    "##### to improve the negative class prediction, class_weight can be specified to 'auto'"
   ]
  },
  {
   "cell_type": "code",
   "execution_count": 487,
   "metadata": {
    "collapsed": true
   },
   "outputs": [],
   "source": [
    "clf = LogisticRegression(C = 10, penalty = 'l2',class_weight = 'auto')"
   ]
  },
  {
   "cell_type": "code",
   "execution_count": 488,
   "metadata": {
    "collapsed": false
   },
   "outputs": [
    {
     "data": {
      "text/plain": [
       "LogisticRegression(C=10, class_weight='auto', dual=False, fit_intercept=True,\n",
       "          intercept_scaling=1, max_iter=100, multi_class='ovr',\n",
       "          penalty='l2', random_state=None, solver='liblinear', tol=0.0001,\n",
       "          verbose=0)"
      ]
     },
     "execution_count": 488,
     "metadata": {},
     "output_type": "execute_result"
    }
   ],
   "source": [
    "clf.fit(Xtrain,ytrain)"
   ]
  },
  {
   "cell_type": "code",
   "execution_count": 489,
   "metadata": {
    "collapsed": false
   },
   "outputs": [],
   "source": [
    "ytest_pred = clf.predict(Xtest)"
   ]
  },
  {
   "cell_type": "code",
   "execution_count": 490,
   "metadata": {
    "collapsed": false
   },
   "outputs": [
    {
     "name": "stdout",
     "output_type": "stream",
     "text": [
      "             precision    recall  f1-score   support\n",
      "\n",
      "          0       0.64      0.66      0.65        95\n",
      "          1       0.67      0.64      0.65        84\n",
      "          2       0.56      0.55      0.55        71\n",
      "          3       0.35      0.25      0.29        36\n",
      "          4       0.52      0.77      0.62        22\n",
      "\n",
      "avg / total       0.59      0.59      0.59       308\n",
      "\n"
     ]
    }
   ],
   "source": [
    "print classification_report(ytest,ytest_pred)"
   ]
  },
  {
   "cell_type": "markdown",
   "metadata": {},
   "source": [
    "####Confusion matrix of the prediction "
   ]
  },
  {
   "cell_type": "code",
   "execution_count": 491,
   "metadata": {
    "collapsed": false
   },
   "outputs": [
    {
     "data": {
      "text/html": [
       "<div style=\"max-height:1000px;max-width:1500px;overflow:auto;\">\n",
       "<table border=\"1\" class=\"dataframe\">\n",
       "  <thead>\n",
       "    <tr style=\"text-align: right;\">\n",
       "      <th>True label</th>\n",
       "      <th>0</th>\n",
       "      <th>1</th>\n",
       "      <th>2</th>\n",
       "      <th>3</th>\n",
       "      <th>4</th>\n",
       "      <th>All</th>\n",
       "    </tr>\n",
       "    <tr>\n",
       "      <th>Predicted</th>\n",
       "      <th></th>\n",
       "      <th></th>\n",
       "      <th></th>\n",
       "      <th></th>\n",
       "      <th></th>\n",
       "      <th></th>\n",
       "    </tr>\n",
       "  </thead>\n",
       "  <tbody>\n",
       "    <tr>\n",
       "      <th>0</th>\n",
       "      <td>63</td>\n",
       "      <td>13</td>\n",
       "      <td>12</td>\n",
       "      <td>9</td>\n",
       "      <td>1</td>\n",
       "      <td>98</td>\n",
       "    </tr>\n",
       "    <tr>\n",
       "      <th>1</th>\n",
       "      <td>8</td>\n",
       "      <td>54</td>\n",
       "      <td>8</td>\n",
       "      <td>9</td>\n",
       "      <td>2</td>\n",
       "      <td>81</td>\n",
       "    </tr>\n",
       "    <tr>\n",
       "      <th>2</th>\n",
       "      <td>15</td>\n",
       "      <td>8</td>\n",
       "      <td>39</td>\n",
       "      <td>7</td>\n",
       "      <td>1</td>\n",
       "      <td>70</td>\n",
       "    </tr>\n",
       "    <tr>\n",
       "      <th>3</th>\n",
       "      <td>6</td>\n",
       "      <td>2</td>\n",
       "      <td>8</td>\n",
       "      <td>9</td>\n",
       "      <td>1</td>\n",
       "      <td>26</td>\n",
       "    </tr>\n",
       "    <tr>\n",
       "      <th>4</th>\n",
       "      <td>3</td>\n",
       "      <td>7</td>\n",
       "      <td>4</td>\n",
       "      <td>2</td>\n",
       "      <td>17</td>\n",
       "      <td>33</td>\n",
       "    </tr>\n",
       "    <tr>\n",
       "      <th>All</th>\n",
       "      <td>95</td>\n",
       "      <td>84</td>\n",
       "      <td>71</td>\n",
       "      <td>36</td>\n",
       "      <td>22</td>\n",
       "      <td>308</td>\n",
       "    </tr>\n",
       "  </tbody>\n",
       "</table>\n",
       "</div>"
      ],
      "text/plain": [
       "True label   0   1   2   3   4  All\n",
       "Predicted                          \n",
       "0           63  13  12   9   1   98\n",
       "1            8  54   8   9   2   81\n",
       "2           15   8  39   7   1   70\n",
       "3            6   2   8   9   1   26\n",
       "4            3   7   4   2  17   33\n",
       "All         95  84  71  36  22  308"
      ]
     },
     "execution_count": 491,
     "metadata": {},
     "output_type": "execute_result"
    }
   ],
   "source": [
    "pd.crosstab(ytest_pred,ytest,rownames=['Predicted'],colnames = ['True label'],margins = True)"
   ]
  },
  {
   "cell_type": "markdown",
   "metadata": {},
   "source": [
    "#### list of feature names"
   ]
  },
  {
   "cell_type": "code",
   "execution_count": 492,
   "metadata": {
    "collapsed": true
   },
   "outputs": [],
   "source": [
    "other_vocab = sorted(vect_other.vocabulary_.items(), key = operator.itemgetter(1))"
   ]
  },
  {
   "cell_type": "code",
   "execution_count": 493,
   "metadata": {
    "collapsed": false
   },
   "outputs": [],
   "source": [
    "other_vocab = [x[0] for x in other_vocab]"
   ]
  },
  {
   "cell_type": "code",
   "execution_count": 494,
   "metadata": {
    "collapsed": false
   },
   "outputs": [],
   "source": [
    "noun_vocab = sorted(tf_noun.vocabulary_.items(), key = operator.itemgetter(1))"
   ]
  },
  {
   "cell_type": "code",
   "execution_count": 495,
   "metadata": {
    "collapsed": true
   },
   "outputs": [],
   "source": [
    "noun_vocab = [x[0] for x in noun_vocab]"
   ]
  },
  {
   "cell_type": "code",
   "execution_count": 496,
   "metadata": {
    "collapsed": true
   },
   "outputs": [],
   "source": [
    "verb_vocab = sorted(tf_verb.vocabulary_.items(), key = operator.itemgetter(1))"
   ]
  },
  {
   "cell_type": "code",
   "execution_count": 497,
   "metadata": {
    "collapsed": true
   },
   "outputs": [],
   "source": [
    "verb_vocab = [x[0] for x in verb_vocab]"
   ]
  },
  {
   "cell_type": "code",
   "execution_count": 498,
   "metadata": {
    "collapsed": false
   },
   "outputs": [],
   "source": [
    "feature_names = list(vocab_theme) + noun_vocab + verb_vocab + other_vocab + list(Xdftrain.columns[2:12])"
   ]
  },
  {
   "cell_type": "markdown",
   "metadata": {},
   "source": [
    "###5.2 Use cross-validation on the whole training set to optimize hyperparameters "
   ]
  },
  {
   "cell_type": "code",
   "execution_count": 499,
   "metadata": {
    "collapsed": true
   },
   "outputs": [],
   "source": [
    "Xth = Xdf['themes'].as_matrix()"
   ]
  },
  {
   "cell_type": "code",
   "execution_count": 500,
   "metadata": {
    "collapsed": false
   },
   "outputs": [],
   "source": [
    "Xth = Cvtheme.fit_transform(Xth)"
   ]
  },
  {
   "cell_type": "code",
   "execution_count": 501,
   "metadata": {
    "collapsed": true
   },
   "outputs": [],
   "source": [
    "Xtext_other = vect_other.transform(Xdf['text'].as_matrix())"
   ]
  },
  {
   "cell_type": "code",
   "execution_count": 502,
   "metadata": {
    "collapsed": true
   },
   "outputs": [],
   "source": [
    "X_noun = tf_noun.fit_transform(Xdf['noun_token'].as_matrix())"
   ]
  },
  {
   "cell_type": "code",
   "execution_count": 503,
   "metadata": {
    "collapsed": true
   },
   "outputs": [],
   "source": [
    "X_verb = tf_verb.fit_transform(Xdf['verb_token'].as_matrix())"
   ]
  },
  {
   "cell_type": "code",
   "execution_count": 504,
   "metadata": {
    "collapsed": false
   },
   "outputs": [],
   "source": [
    "X = np.concatenate([Xth.toarray(),X_noun.toarray(), X_verb.toarray(),\n",
    "                    Xtext_other.toarray(),scale(Xdf.ix[:,2:12].as_matrix())],axis = 1)"
   ]
  },
  {
   "cell_type": "markdown",
   "metadata": {},
   "source": [
    "#### Grid search to optimize hyper-parameters for Logistic Regression"
   ]
  },
  {
   "cell_type": "code",
   "execution_count": 505,
   "metadata": {
    "collapsed": true
   },
   "outputs": [],
   "source": [
    "param_logit = {'C':np.logspace(-2,2,20)}"
   ]
  },
  {
   "cell_type": "code",
   "execution_count": 506,
   "metadata": {
    "collapsed": true
   },
   "outputs": [],
   "source": [
    "clf2 = LogisticRegression(class_weight = 'auto',solver = 'lbfgs')"
   ]
  },
  {
   "cell_type": "code",
   "execution_count": 507,
   "metadata": {
    "collapsed": true
   },
   "outputs": [],
   "source": [
    "gs_logit = GridSearchCV(clf2, param_grid = param_logit, cv = StratifiedKFold(y,n_folds = 5), scoring = 'f1_micro')"
   ]
  },
  {
   "cell_type": "code",
   "execution_count": 508,
   "metadata": {
    "collapsed": false
   },
   "outputs": [
    {
     "data": {
      "text/plain": [
       "GridSearchCV(cv=sklearn.cross_validation.StratifiedKFold(labels=[4 1 ..., 1 2], n_folds=5, shuffle=False, random_state=None),\n",
       "       error_score='raise',\n",
       "       estimator=LogisticRegression(C=1.0, class_weight='auto', dual=False, fit_intercept=True,\n",
       "          intercept_scaling=1, max_iter=100, multi_class='ovr',\n",
       "          penalty='l2', random_state=None, solver='lbfgs', tol=0.0001,\n",
       "          verbose=0),\n",
       "       fit_params={}, iid=True, loss_func=None, n_jobs=1,\n",
       "       param_grid={'C': array([  1.00000e-02,   1.62378e-02,   2.63665e-02,   4.28133e-02,\n",
       "         6.95193e-02,   1.12884e-01,   1.83298e-01,   2.97635e-01,\n",
       "         4.83293e-01,   7.84760e-01,   1.27427e+00,   2.06914e+00,\n",
       "         3.35982e+00,   5.45559e+00,   8.85867e+00,   1.43845e+01,\n",
       "         2.33572e+01,   3.79269e+01,   6.15848e+01,   1.00000e+02])},\n",
       "       pre_dispatch='2*n_jobs', refit=True, score_func=None,\n",
       "       scoring='f1_micro', verbose=0)"
      ]
     },
     "execution_count": 508,
     "metadata": {},
     "output_type": "execute_result"
    }
   ],
   "source": [
    "gs_logit.fit(X,y)"
   ]
  },
  {
   "cell_type": "code",
   "execution_count": 509,
   "metadata": {
    "collapsed": false
   },
   "outputs": [
    {
     "name": "stdout",
     "output_type": "stream",
     "text": [
      "Best parameters set:\n",
      "\tC: 0.29763514416313175\n"
     ]
    }
   ],
   "source": [
    "print 'Best parameters set:'\n",
    "best_parameters = gs_logit.best_estimator_.get_params()\n",
    "for param_name in sorted(param_logit.keys()):\n",
    "    print '\\t%s: %r' % (param_name,best_parameters[param_name])"
   ]
  },
  {
   "cell_type": "markdown",
   "metadata": {},
   "source": [
    "#### The optimized logistic regression model "
   ]
  },
  {
   "cell_type": "code",
   "execution_count": 510,
   "metadata": {
    "collapsed": true
   },
   "outputs": [],
   "source": [
    "logit = gs_logit.best_estimator_"
   ]
  },
  {
   "cell_type": "markdown",
   "metadata": {},
   "source": [
    "#### Random Forest to estimate the overall feature importance"
   ]
  },
  {
   "cell_type": "code",
   "execution_count": 511,
   "metadata": {
    "collapsed": true
   },
   "outputs": [],
   "source": [
    "rf = RandomForestClassifier(n_estimators= 300, criterion='gini',class_weight = 'auto',oob_score=True)"
   ]
  },
  {
   "cell_type": "code",
   "execution_count": 512,
   "metadata": {
    "collapsed": false
   },
   "outputs": [
    {
     "data": {
      "text/plain": [
       "RandomForestClassifier(bootstrap=True, class_weight='auto', criterion='gini',\n",
       "            max_depth=None, max_features='auto', max_leaf_nodes=None,\n",
       "            min_samples_leaf=1, min_samples_split=2,\n",
       "            min_weight_fraction_leaf=0.0, n_estimators=300, n_jobs=1,\n",
       "            oob_score=True, random_state=None, verbose=0, warm_start=False)"
      ]
     },
     "execution_count": 512,
     "metadata": {},
     "output_type": "execute_result"
    }
   ],
   "source": [
    "rf.fit(X,y)"
   ]
  },
  {
   "cell_type": "code",
   "execution_count": 513,
   "metadata": {
    "collapsed": false
   },
   "outputs": [
    {
     "data": {
      "text/plain": [
       "0.539413680781759"
      ]
     },
     "execution_count": 513,
     "metadata": {},
     "output_type": "execute_result"
    }
   ],
   "source": [
    "rf.oob_score_"
   ]
  },
  {
   "cell_type": "code",
   "execution_count": 514,
   "metadata": {
    "collapsed": true
   },
   "outputs": [],
   "source": [
    "feature_importance = pd.Series(rf.feature_importances_,index = feature_names)"
   ]
  },
  {
   "cell_type": "code",
   "execution_count": 515,
   "metadata": {
    "collapsed": true
   },
   "outputs": [],
   "source": [
    "feature_importance.sort()"
   ]
  },
  {
   "cell_type": "code",
   "execution_count": 516,
   "metadata": {
    "collapsed": false
   },
   "outputs": [
    {
     "data": {
      "text/plain": [
       "<matplotlib.axes._subplots.AxesSubplot at 0x13186f9d0>"
      ]
     },
     "execution_count": 516,
     "metadata": {},
     "output_type": "execute_result"
    },
    {
     "data": {
      "image/png": "[encoded data removed]",
      "text/plain": [
       "<matplotlib.figure.Figure at 0x12e37c2d0>"
      ]
     },
     "metadata": {},
     "output_type": "display_data"
    }
   ],
   "source": [
    "figure = plt.figure(figsize = (10,7))\n",
    "feature_importance.ix[-20:].plot(kind = 'barh')"
   ]
  },
  {
   "cell_type": "markdown",
   "metadata": {},
   "source": [
    "##6 How to make a ... talk"
   ]
  },
  {
   "cell_type": "markdown",
   "metadata": {},
   "source": [
    "###6.1 Generate a dataframe of feature importance (importance_df) for each class "
   ]
  },
  {
   "cell_type": "code",
   "execution_count": 517,
   "metadata": {
    "collapsed": false
   },
   "outputs": [],
   "source": [
    "X_unscaled = np.concatenate([Xth.toarray(),X_noun.toarray(), X_verb.toarray(),\n",
    "                    Xtext_other.toarray(),Xdf.ix[:,2:12].as_matrix()],axis = 1)"
   ]
  },
  {
   "cell_type": "code",
   "execution_count": 518,
   "metadata": {
    "collapsed": true
   },
   "outputs": [],
   "source": [
    "Xdf_allf = pd.DataFrame(X_unscaled,columns=feature_names)"
   ]
  },
  {
   "cell_type": "markdown",
   "metadata": {},
   "source": [
    "#####All unscaled features and label are stored in Xdf_allf "
   ]
  },
  {
   "cell_type": "code",
   "execution_count": 519,
   "metadata": {
    "collapsed": false
   },
   "outputs": [],
   "source": [
    "Xdf_allf = pd.merge(Xdf_allf, labels, right_index = True,left_index = True)"
   ]
  },
  {
   "cell_type": "code",
   "execution_count": 520,
   "metadata": {
    "collapsed": true
   },
   "outputs": [],
   "source": [
    "importance_df = pd.DataFrame(logit.coef_,columns=feature_names)"
   ]
  },
  {
   "cell_type": "code",
   "execution_count": 521,
   "metadata": {
    "collapsed": false
   },
   "outputs": [
    {
     "data": {
      "text/plain": [
       "(5, 87)"
      ]
     },
     "execution_count": 521,
     "metadata": {},
     "output_type": "execute_result"
    }
   ],
   "source": [
    "importance_df.shape"
   ]
  },
  {
   "cell_type": "markdown",
   "metadata": {},
   "source": [
    "####Define a function to get the largest coefficients for each class "
   ]
  },
  {
   "cell_type": "code",
   "execution_count": 197,
   "metadata": {
    "collapsed": true
   },
   "outputs": [],
   "source": [
    "def importantf(row_in_df, num):\n",
    "    # row_in_df is one row in log_f_importance, can be part of the rows, e.g., row[:46] selects all themes\n",
    "    # num of features to select\n",
    "    row = row_in_df\n",
    "    for ind in xrange(num):\n",
    "        print 'top {} good feature is {} with coef: {}'.format(ind, row.idxmax(),row.max())\n",
    "        row = row[row.index != row.idxmax()]"
   ]
  },
  {
   "cell_type": "markdown",
   "metadata": {},
   "source": [
    "####Class 0: "
   ]
  },
  {
   "cell_type": "code",
   "execution_count": 464,
   "metadata": {
    "collapsed": false
   },
   "outputs": [],
   "source": [
    "row_0 = importance_df.ix[0,:]"
   ]
  },
  {
   "cell_type": "code",
   "execution_count": 465,
   "metadata": {
    "collapsed": false
   },
   "outputs": [],
   "source": [
    "row_0.sort(ascending = False)"
   ]
  },
  {
   "cell_type": "code",
   "execution_count": 466,
   "metadata": {
    "collapsed": false
   },
   "outputs": [
    {
     "data": {
      "text/plain": [
       "percent                             1.072294\n",
       "Bold Predictions, Stern Warnings    0.943146\n",
       "example                             0.877424\n",
       "problem                             0.805544\n",
       "Media With Meaning                  0.742005\n",
       "Food Matters                        0.625080\n",
       "question                            0.617779\n",
       "Not Business as Usual               0.593631\n",
       "should                              0.568581\n",
       "fact                                0.545240\n",
       "Technology, History and Destiny     0.513207\n",
       "A Greener Future?                   0.483294\n",
       "change                              0.411157\n",
       "length                              0.403189\n",
       "understand                          0.349992\n",
       "How the Mind Works                  0.332199\n",
       "culture                             0.284285\n",
       "Unconventional Explanations         0.270494\n",
       "The Rise of Collaboration           0.270275\n",
       "How We Learn                        0.267514\n",
       "Name: 0, dtype: float64"
      ]
     },
     "execution_count": 466,
     "metadata": {},
     "output_type": "execute_result"
    }
   ],
   "source": [
    "row_0[:20]"
   ]
  },
  {
   "cell_type": "code",
   "execution_count": 467,
   "metadata": {
    "collapsed": false
   },
   "outputs": [
    {
     "data": {
      "text/plain": [
       "count    1535.000000\n",
       "mean        0.156693\n",
       "std         0.182676\n",
       "min         0.000000\n",
       "25%         0.000000\n",
       "50%         0.000000\n",
       "75%         0.333333\n",
       "max         1.000000\n",
       "Name: percent, dtype: float64"
      ]
     },
     "execution_count": 467,
     "metadata": {},
     "output_type": "execute_result"
    }
   ],
   "source": [
    "Xdf_allf.percent.describe()"
   ]
  },
  {
   "cell_type": "code",
   "execution_count": 168,
   "metadata": {
    "collapsed": true
   },
   "outputs": [],
   "source": [
    "row_1 = log_f_importance.ix[1,:]"
   ]
  },
  {
   "cell_type": "code",
   "execution_count": 169,
   "metadata": {
    "collapsed": false
   },
   "outputs": [
    {
     "data": {
      "text/plain": [
       "Live Music                             1.295153\n",
       "Celebrating TEDWomen                   0.909718\n",
       "Listening to Teachers                  1.282465\n",
       "Medicine Without Borders               0.527761\n",
       "War and Peace                          0.988621\n",
       "TED Prize Winners                      1.570041\n",
       "Women Reshaping the World              1.929600\n",
       "To Boldly Go ...                       0.896098\n",
       "Africa: The Next Chapter               0.521754\n",
       "TED in 3 Minutes                       0.781964\n",
       "How We Learn                           0.859438\n",
       "Master Storytellers                    1.048829\n",
       "The Creative Spark                     0.538504\n",
       "Rethinking Poverty                     0.795518\n",
       "Might You Live a Great Deal Longer?    1.081083\n",
       "Mission Blue Voyage                    1.205458\n",
       "life                                   1.824989\n",
       "story                                  1.534571\n",
       "place                                  0.588874\n",
       "feel                                   2.625060\n",
       "should                                 0.556851\n",
       "leave                                  1.342762\n",
       "live                                   1.708508\n",
       "ask                                    0.854234\n",
       "become                                 1.326916\n",
       "change                                 0.909015\n",
       "applause_total                         0.500880\n",
       "Name: 1, dtype: float64"
      ]
     },
     "execution_count": 169,
     "metadata": {},
     "output_type": "execute_result"
    }
   ],
   "source": [
    "row_1[row_1 > 0.5]"
   ]
  },
  {
   "cell_type": "code",
   "execution_count": 170,
   "metadata": {
    "collapsed": true
   },
   "outputs": [],
   "source": [
    "row2 = log_f_importance.ix[2,:]"
   ]
  },
  {
   "cell_type": "code",
   "execution_count": 171,
   "metadata": {
    "collapsed": false
   },
   "outputs": [
    {
     "data": {
      "text/plain": [
       "Spectacular Performance      0.957993\n",
       "Ocean Wonders                0.760222\n",
       "Evolution's Genius           0.993103\n",
       "What's Next in Tech          0.705814\n",
       "Numbers at Play              0.669411\n",
       "To Boldly Go ...             0.870372\n",
       "Architectural Inspiration    0.710931\n",
       "Tales of Invention           0.770141\n",
       "Inspired by Nature           1.080861\n",
       "Is There a God?              1.338446\n",
       "Design That Matters          0.573292\n",
       "Peering into Space           0.615707\n",
       "idea                         0.966517\n",
       "part                         0.703939\n",
       "bit                          0.761468\n",
       "Name: 2, dtype: float64"
      ]
     },
     "execution_count": 171,
     "metadata": {},
     "output_type": "execute_result"
    }
   ],
   "source": [
    "row2[row2>0.5]"
   ]
  },
  {
   "cell_type": "code",
   "execution_count": 172,
   "metadata": {
    "collapsed": true
   },
   "outputs": [],
   "source": [
    "row3 = log_f_importance.ix[3,:]"
   ]
  },
  {
   "cell_type": "code",
   "execution_count": 173,
   "metadata": {
    "collapsed": false
   },
   "outputs": [
    {
     "data": {
      "text/plain": [
       "Presentation Innovation      0.841774\n",
       "Numbers at Play              0.763133\n",
       "Architectural Inspiration    1.182889\n",
       "The Power of Cities          0.560074\n",
       "idea                         1.082670\n",
       "fact                         0.545710\n",
       "bit                          1.135201\n",
       "kind                         0.822717\n",
       "like                         0.853280\n",
       "talk                         1.480584\n",
       "become                       0.677501\n",
       "entertainment                0.534688\n",
       "Name: 3, dtype: float64"
      ]
     },
     "execution_count": 173,
     "metadata": {},
     "output_type": "execute_result"
    }
   ],
   "source": [
    "row3[row3>0.5]"
   ]
  },
  {
   "cell_type": "code",
   "execution_count": 174,
   "metadata": {
    "collapsed": true
   },
   "outputs": [],
   "source": [
    "row4 = log_f_importance.ix[4,:]"
   ]
  },
  {
   "cell_type": "code",
   "execution_count": 175,
   "metadata": {
    "collapsed": false
   },
   "outputs": [
    {
     "data": {
      "text/plain": [
       "Live Music                     0.735648\n",
       "Listening to Teachers          0.862977\n",
       "Unconventional Explanations    0.794960\n",
       "TED in 3 Minutes               0.601548\n",
       "Design That Matters            1.090342\n",
       "Animals That Amaze             2.195533\n",
       "Rethinking Poverty             0.731601\n",
       "fact                           1.464906\n",
       "bit                            1.497121\n",
       "today                          0.973389\n",
       "like                           0.701526\n",
       "show                           0.740128\n",
       "ask                            1.023563\n",
       "science                        0.655188\n",
       "culture                        0.899096\n",
       "humor                          3.442221\n",
       "entertainment                  0.631777\n",
       "word_per_sec                   0.609502\n",
       "laughter_per_word              1.054663\n",
       "laugh_as_para                  0.703283\n",
       "Name: 4, dtype: float64"
      ]
     },
     "execution_count": 175,
     "metadata": {},
     "output_type": "execute_result"
    }
   ],
   "source": [
    "row4[row4>0.5]"
   ]
  },
  {
   "cell_type": "code",
   "execution_count": 229,
   "metadata": {
    "collapsed": false
   },
   "outputs": [
    {
     "data": {
      "text/plain": [
       "43"
      ]
     },
     "execution_count": 229,
     "metadata": {},
     "output_type": "execute_result"
    }
   ],
   "source": [
    "sum(Xdf_allf['Architectural Inspiration'] ==1)"
   ]
  },
  {
   "cell_type": "code",
   "execution_count": 230,
   "metadata": {
    "collapsed": false,
    "scrolled": true
   },
   "outputs": [
    {
     "data": {
      "text/plain": [
       "(array([1, 2, 3, 4, 5]), <a list of 5 Text xticklabel objects>)"
      ]
     },
     "execution_count": 230,
     "metadata": {},
     "output_type": "execute_result"
    },
    {
     "data": {
      "image/png": "[encoded data removed]",
      "text/plain": [
       "<matplotlib.figure.Figure at 0x124ff2950>"
      ]
     },
     "metadata": {},
     "output_type": "display_data"
    }
   ],
   "source": [
    "# length\n",
    "ax0 = sns.boxplot(Xdf_allf.length,groupby=Xdf_allf.label)\n",
    "plt.xlabel('Rating class label')\n",
    "plt.ylabel('Length of the talk in sec')\n",
    "ax0.set_xticklabels(['informative persuasive','courageous inspiring beautiful','jaw-dropping ingenious fascinating',\n",
    "          'ok long-winded obnoxious unconvincing confusing','funny'])\n",
    "plt.xticks(rotation = 15, ha = 'right')"
   ]
  },
  {
   "cell_type": "code",
   "execution_count": 221,
   "metadata": {
    "collapsed": false
   },
   "outputs": [
    {
     "data": {
      "text/plain": [
       "(array([1, 2, 3, 4, 5]), <a list of 5 Text xticklabel objects>)"
      ]
     },
     "execution_count": 221,
     "metadata": {},
     "output_type": "execute_result"
    },
    {
     "data": {
      "image/png": "[encoded data removed]",
      "text/plain": [
       "<matplotlib.figure.Figure at 0x122f8bc10>"
      ]
     },
     "metadata": {},
     "output_type": "display_data"
    }
   ],
   "source": [
    "# talking speed\n",
    "ax1 = sns.boxplot(Xdf_allf.word_per_sec, groupby = Xdf_allf.label)\n",
    "plt.xlabel('Rating class label')\n",
    "plt.ylabel('Talking speed in word/s')\n",
    "ax1.set_xticklabels(['informative persuasive','courageous inspiring beautiful','jaw-dropping ingenious fascinating',\n",
    "          'ok long-winded obnoxious unconvincing confusing','funny'])\n",
    "plt.xticks(rotation = 15, ha = 'right')"
   ]
  },
  {
   "cell_type": "code",
   "execution_count": 231,
   "metadata": {
    "collapsed": false
   },
   "outputs": [
    {
     "data": {
      "text/plain": [
       "(array([1, 2, 3, 4, 5]), <a list of 5 Text xticklabel objects>)"
      ]
     },
     "execution_count": 231,
     "metadata": {},
     "output_type": "execute_result"
    },
    {
     "data": {
      "image/png": "[encoded data removed]",
      "text/plain": [
       "<matplotlib.figure.Figure at 0x1184bc9d0>"
      ]
     },
     "metadata": {},
     "output_type": "display_data"
    }
   ],
   "source": [
    "# diversion or interjection\n",
    "ax4 = sns.boxplot(Xdf_allf.div_per_word,groupby = Xdf_allf.label)\n",
    "plt.xlabel('Rating class label')\n",
    "plt.ylabel('Diversion / Interjection per word')\n",
    "ax4.set_xticklabels(['informative persuasive','courageous inspiring beautiful','jaw-dropping ingenious fascinating',\n",
    "          'ok long-winded obnoxious unconvincing confusing','funny'])\n",
    "plt.xticks(rotation = 15, ha = 'right')"
   ]
  },
  {
   "cell_type": "code",
   "execution_count": 222,
   "metadata": {
    "collapsed": false
   },
   "outputs": [
    {
     "data": {
      "text/plain": [
       "(array([1, 2, 3, 4, 5]), <a list of 5 Text xticklabel objects>)"
      ]
     },
     "execution_count": 222,
     "metadata": {},
     "output_type": "execute_result"
    },
    {
     "data": {
      "image/png": "[encoded data removed]",
      "text/plain": [
       "<matplotlib.figure.Figure at 0x1240d94d0>"
      ]
     },
     "metadata": {},
     "output_type": "display_data"
    }
   ],
   "source": [
    "ax3 = sns.boxplot(Xdf_allf.storywords,groupby = Xdf_allf.label)\n",
    "plt.xlabel('Rating class label')\n",
    "plt.ylabel('counts of \"story\", \"journey\" and \"experience\"')\n",
    "ax3.set_xticklabels(['informative persuasive','courageous inspiring beautiful','jaw-dropping ingenious fascinating',\n",
    "          'ok long-winded obnoxious unconvincing confusing','funny'])\n",
    "plt.xticks(rotation = 15, ha = 'right')"
   ]
  },
  {
   "cell_type": "code",
   "execution_count": null,
   "metadata": {
    "collapsed": true
   },
   "outputs": [],
   "source": []
  }
 ],
 "metadata": {
  "kernelspec": {
   "display_name": "Python 2",
   "language": "python",
   "name": "python2"
  },
  "language_info": {
   "codemirror_mode": {
    "name": "ipython",
    "version": 2
   },
   "file_extension": ".py",
   "mimetype": "text/x-python",
   "name": "python",
   "nbconvert_exporter": "python",
   "pygments_lexer": "ipython2",
   "version": "2.7.9"
  }
 },
 "nbformat": 4,
 "nbformat_minor": 0
}
