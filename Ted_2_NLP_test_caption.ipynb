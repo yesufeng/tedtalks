{
 "cells": [
  {
   "cell_type": "markdown",
   "metadata": {},
   "source": [
    "## Copied from Ted_2"
   ]
  },
  {
   "cell_type": "code",
   "execution_count": 1,
   "metadata": {
    "collapsed": true
   },
   "outputs": [],
   "source": [
    "import pandas as pd\n",
    "import re\n",
    "import numpy as np\n",
    "import matplotlib.pylab as plt\n",
    "import seaborn as sns\n",
    "import unidecode\n",
    "%matplotlib inline\n",
    "import copy\n",
    "from nltk.corpus import stopwords\n",
    "from nltk import sent_tokenize"
   ]
  },
  {
   "cell_type": "code",
   "execution_count": 2,
   "metadata": {
    "collapsed": true
   },
   "outputs": [],
   "source": [
    "import scipy.stats as ss"
   ]
  },
  {
   "cell_type": "code",
   "execution_count": 3,
   "metadata": {
    "collapsed": true
   },
   "outputs": [],
   "source": [
    "import requests\n",
    "from pattern import web"
   ]
  },
  {
   "cell_type": "markdown",
   "metadata": {},
   "source": [
    "##Read in the caption data "
   ]
  },
  {
   "cell_type": "code",
   "execution_count": 4,
   "metadata": {
    "collapsed": false
   },
   "outputs": [],
   "source": [
    "capdata = pd.read_csv('tedcaption.csv',encoding = 'utf-8',index_col = ['id','index'])"
   ]
  },
  {
   "cell_type": "code",
   "execution_count": 5,
   "metadata": {
    "collapsed": false
   },
   "outputs": [
    {
     "data": {
      "text/html": [
       "<div style=\"max-height:1000px;max-width:1500px;overflow:auto;\">\n",
       "<table border=\"1\" class=\"dataframe\">\n",
       "  <thead>\n",
       "    <tr style=\"text-align: right;\">\n",
       "      <th></th>\n",
       "      <th></th>\n",
       "      <th>content</th>\n",
       "      <th>duration</th>\n",
       "      <th>startOfParagraph</th>\n",
       "      <th>startTime</th>\n",
       "    </tr>\n",
       "    <tr>\n",
       "      <th>id</th>\n",
       "      <th>index</th>\n",
       "      <th></th>\n",
       "      <th></th>\n",
       "      <th></th>\n",
       "      <th></th>\n",
       "    </tr>\n",
       "  </thead>\n",
       "  <tbody>\n",
       "    <tr>\n",
       "      <th rowspan=\"5\" valign=\"top\">1</th>\n",
       "      <th>0</th>\n",
       "      <td>Thank you so much, Chris. And it's truly a gre...</td>\n",
       "      <td>4000</td>\n",
       "      <td>True</td>\n",
       "      <td>3000</td>\n",
       "    </tr>\n",
       "    <tr>\n",
       "      <th>1</th>\n",
       "      <td>to have the opportunity to come to this stage ...</td>\n",
       "      <td>4000</td>\n",
       "      <td>False</td>\n",
       "      <td>7000</td>\n",
       "    </tr>\n",
       "    <tr>\n",
       "      <th>2</th>\n",
       "      <td>I have been blown away by this conference, and...</td>\n",
       "      <td>7000</td>\n",
       "      <td>False</td>\n",
       "      <td>11000</td>\n",
       "    </tr>\n",
       "    <tr>\n",
       "      <th>3</th>\n",
       "      <td>nice comments about what I had to say the othe...</td>\n",
       "      <td>5000</td>\n",
       "      <td>False</td>\n",
       "      <td>18000</td>\n",
       "    </tr>\n",
       "    <tr>\n",
       "      <th>4</th>\n",
       "      <td>And I say that sincerely, partly because -- (M...</td>\n",
       "      <td>12000</td>\n",
       "      <td>False</td>\n",
       "      <td>23000</td>\n",
       "    </tr>\n",
       "  </tbody>\n",
       "</table>\n",
       "</div>"
      ],
      "text/plain": [
       "                                                    content  duration  \\\n",
       "id index                                                                \n",
       "1  0      Thank you so much, Chris. And it's truly a gre...      4000   \n",
       "   1      to have the opportunity to come to this stage ...      4000   \n",
       "   2      I have been blown away by this conference, and...      7000   \n",
       "   3      nice comments about what I had to say the othe...      5000   \n",
       "   4      And I say that sincerely, partly because -- (M...     12000   \n",
       "\n",
       "         startOfParagraph  startTime  \n",
       "id index                              \n",
       "1  0                 True       3000  \n",
       "   1                False       7000  \n",
       "   2                False      11000  \n",
       "   3                False      18000  \n",
       "   4                False      23000  "
      ]
     },
     "execution_count": 5,
     "metadata": {},
     "output_type": "execute_result"
    }
   ],
   "source": [
    "capdata.head()"
   ]
  },
  {
   "cell_type": "code",
   "execution_count": 6,
   "metadata": {
    "collapsed": false
   },
   "outputs": [
    {
     "data": {
      "text/plain": [
       "(525171, 4)"
      ]
     },
     "execution_count": 6,
     "metadata": {},
     "output_type": "execute_result"
    }
   ],
   "source": [
    "capdata.shape"
   ]
  },
  {
   "cell_type": "markdown",
   "metadata": {},
   "source": [
    "###Read in capstat "
   ]
  },
  {
   "cell_type": "code",
   "execution_count": 41,
   "metadata": {
    "collapsed": true
   },
   "outputs": [],
   "source": [
    "capstat = pd.read_json('captalks_f.json')[['id','length','num_para','wordcounts','word_per_sec']]"
   ]
  },
  {
   "cell_type": "code",
   "execution_count": 42,
   "metadata": {
    "collapsed": false
   },
   "outputs": [
    {
     "data": {
      "text/plain": [
       "(1885, 5)"
      ]
     },
     "execution_count": 42,
     "metadata": {},
     "output_type": "execute_result"
    }
   ],
   "source": [
    "capstat.shape"
   ]
  },
  {
   "cell_type": "markdown",
   "metadata": {
    "collapsed": true
   },
   "source": [
    "##2. Combine with Ted_4 to mining features from the transcripts"
   ]
  },
  {
   "cell_type": "code",
   "execution_count": 16,
   "metadata": {
    "collapsed": false
   },
   "outputs": [],
   "source": [
    "testresponse = pd.read_csv('test_response.csv',header = None)"
   ]
  },
  {
   "cell_type": "code",
   "execution_count": 17,
   "metadata": {
    "collapsed": false
   },
   "outputs": [],
   "source": [
    "testresponse.columns = ['id','label']"
   ]
  },
  {
   "cell_type": "markdown",
   "metadata": {},
   "source": [
    "### select captions from talks in the final training set "
   ]
  },
  {
   "cell_type": "code",
   "execution_count": 18,
   "metadata": {
    "collapsed": true
   },
   "outputs": [],
   "source": [
    "ids = list(testresponse['id'])"
   ]
  },
  {
   "cell_type": "code",
   "execution_count": 19,
   "metadata": {
    "collapsed": false
   },
   "outputs": [],
   "source": [
    "captions = capdata[capdata.index.get_level_values('id').isin(ids)]"
   ]
  },
  {
   "cell_type": "code",
   "execution_count": 20,
   "metadata": {
    "collapsed": false
   },
   "outputs": [
    {
     "data": {
      "text/plain": [
       "350"
      ]
     },
     "execution_count": 20,
     "metadata": {},
     "output_type": "execute_result"
    }
   ],
   "source": [
    "len(captions.index.get_level_values('id').unique())"
   ]
  },
  {
   "cell_type": "code",
   "execution_count": 21,
   "metadata": {
    "collapsed": true
   },
   "outputs": [],
   "source": [
    "corpus = []\n",
    "for idx in ids:\n",
    "    text = []\n",
    "    for index,row in captions[captions.index.get_level_values('id')==idx].iterrows():\n",
    "        text.append(row['content'])\n",
    "    corpus.append(text)"
   ]
  },
  {
   "cell_type": "code",
   "execution_count": 22,
   "metadata": {
    "collapsed": false
   },
   "outputs": [
    {
     "data": {
      "text/plain": [
       "350"
      ]
     },
     "execution_count": 22,
     "metadata": {},
     "output_type": "execute_result"
    }
   ],
   "source": [
    "len(corpus)"
   ]
  },
  {
   "cell_type": "code",
   "execution_count": 24,
   "metadata": {
    "collapsed": true
   },
   "outputs": [],
   "source": [
    "captions_test_f = pd.DataFrame(dict(id = ids, text = corpus))"
   ]
  },
  {
   "cell_type": "code",
   "execution_count": 25,
   "metadata": {
    "collapsed": false
   },
   "outputs": [
    {
     "data": {
      "text/html": [
       "<div style=\"max-height:1000px;max-width:1500px;overflow:auto;\">\n",
       "<table border=\"1\" class=\"dataframe\">\n",
       "  <thead>\n",
       "    <tr style=\"text-align: right;\">\n",
       "      <th></th>\n",
       "      <th>id</th>\n",
       "      <th>text</th>\n",
       "    </tr>\n",
       "  </thead>\n",
       "  <tbody>\n",
       "    <tr>\n",
       "      <th>0</th>\n",
       "      <td>1146</td>\n",
       "      <td>[Think about your day for a second., You woke ...</td>\n",
       "    </tr>\n",
       "  </tbody>\n",
       "</table>\n",
       "</div>"
      ],
      "text/plain": [
       "     id                                               text\n",
       "0  1146  [Think about your day for a second., You woke ..."
      ]
     },
     "execution_count": 25,
     "metadata": {},
     "output_type": "execute_result"
    }
   ],
   "source": [
    "captions_test_f.head(1)"
   ]
  },
  {
   "cell_type": "code",
   "execution_count": 26,
   "metadata": {
    "collapsed": false
   },
   "outputs": [
    {
     "data": {
      "text/plain": [
       "(350, 2)"
      ]
     },
     "execution_count": 26,
     "metadata": {},
     "output_type": "execute_result"
    }
   ],
   "source": [
    "captions_test_f.shape"
   ]
  },
  {
   "cell_type": "markdown",
   "metadata": {},
   "source": [
    "###2.1 Find how many \"(Laughter)\" and \"(Applause)\" "
   ]
  },
  {
   "cell_type": "markdown",
   "metadata": {},
   "source": [
    "####2.1.1Total number of laughter"
   ]
  },
  {
   "cell_type": "code",
   "execution_count": 27,
   "metadata": {
    "collapsed": true
   },
   "outputs": [],
   "source": [
    "import re"
   ]
  },
  {
   "cell_type": "code",
   "execution_count": 29,
   "metadata": {
    "collapsed": false
   },
   "outputs": [
    {
     "data": {
      "text/plain": [
       "0"
      ]
     },
     "execution_count": 29,
     "metadata": {},
     "output_type": "execute_result"
    }
   ],
   "source": [
    "len(re.findall(r'(Laughter)',captions_test_f.text[0][4]))"
   ]
  },
  {
   "cell_type": "code",
   "execution_count": 31,
   "metadata": {
    "collapsed": true
   },
   "outputs": [],
   "source": [
    "def findalllaughter(text):\n",
    "    content = ';'.join(text)\n",
    "    num = len(re.findall(r'(Laughter)',content))\n",
    "    return num"
   ]
  },
  {
   "cell_type": "code",
   "execution_count": 33,
   "metadata": {
    "collapsed": false
   },
   "outputs": [
    {
     "data": {
      "text/plain": [
       "1"
      ]
     },
     "execution_count": 33,
     "metadata": {},
     "output_type": "execute_result"
    }
   ],
   "source": [
    "findalllaughter(captions_test_f.text[0])"
   ]
  },
  {
   "cell_type": "code",
   "execution_count": 34,
   "metadata": {
    "collapsed": true
   },
   "outputs": [],
   "source": [
    "laughter_total = captions_test_f.text.apply(findalllaughter)"
   ]
  },
  {
   "cell_type": "code",
   "execution_count": 35,
   "metadata": {
    "collapsed": true
   },
   "outputs": [],
   "source": [
    "captions_test_f['laughter_total'] = laughter_total"
   ]
  },
  {
   "cell_type": "code",
   "execution_count": 37,
   "metadata": {
    "collapsed": false
   },
   "outputs": [
    {
     "data": {
      "text/html": [
       "<div style=\"max-height:1000px;max-width:1500px;overflow:auto;\">\n",
       "<table border=\"1\" class=\"dataframe\">\n",
       "  <thead>\n",
       "    <tr style=\"text-align: right;\">\n",
       "      <th></th>\n",
       "      <th>id</th>\n",
       "      <th>text</th>\n",
       "      <th>laughter_total</th>\n",
       "    </tr>\n",
       "  </thead>\n",
       "  <tbody>\n",
       "    <tr>\n",
       "      <th>0</th>\n",
       "      <td>1146</td>\n",
       "      <td>[Think about your day for a second., You woke ...</td>\n",
       "      <td>1</td>\n",
       "    </tr>\n",
       "    <tr>\n",
       "      <th>1</th>\n",
       "      <td>1153</td>\n",
       "      <td>[I want to share with you, over the next 18 mi...</td>\n",
       "      <td>0</td>\n",
       "    </tr>\n",
       "    <tr>\n",
       "      <th>2</th>\n",
       "      <td>1154</td>\n",
       "      <td>[The story I wanted to share with you today, i...</td>\n",
       "      <td>0</td>\n",
       "    </tr>\n",
       "    <tr>\n",
       "      <th>3</th>\n",
       "      <td>223</td>\n",
       "      <td>[Dan Holzman: Please throw out the beanbag cha...</td>\n",
       "      <td>37</td>\n",
       "    </tr>\n",
       "    <tr>\n",
       "      <th>4</th>\n",
       "      <td>103</td>\n",
       "      <td>[I'm not quite sure whether I really want to s...</td>\n",
       "      <td>1</td>\n",
       "    </tr>\n",
       "  </tbody>\n",
       "</table>\n",
       "</div>"
      ],
      "text/plain": [
       "     id                                               text  laughter_total\n",
       "0  1146  [Think about your day for a second., You woke ...               1\n",
       "1  1153  [I want to share with you, over the next 18 mi...               0\n",
       "2  1154  [The story I wanted to share with you today, i...               0\n",
       "3   223  [Dan Holzman: Please throw out the beanbag cha...              37\n",
       "4   103  [I'm not quite sure whether I really want to s...               1"
      ]
     },
     "execution_count": 37,
     "metadata": {},
     "output_type": "execute_result"
    }
   ],
   "source": [
    "captions_test_f.head()"
   ]
  },
  {
   "cell_type": "code",
   "execution_count": 38,
   "metadata": {
    "collapsed": false
   },
   "outputs": [
    {
     "data": {
      "text/plain": [
       "(350, 3)"
      ]
     },
     "execution_count": 38,
     "metadata": {},
     "output_type": "execute_result"
    }
   ],
   "source": [
    "captions_test_f.shape"
   ]
  },
  {
   "cell_type": "code",
   "execution_count": 43,
   "metadata": {
    "collapsed": false
   },
   "outputs": [],
   "source": [
    "temp = capstat[capstat['id'].isin(ids)]"
   ]
  },
  {
   "cell_type": "code",
   "execution_count": 44,
   "metadata": {
    "collapsed": false
   },
   "outputs": [
    {
     "data": {
      "text/plain": [
       "(350, 5)"
      ]
     },
     "execution_count": 44,
     "metadata": {},
     "output_type": "execute_result"
    }
   ],
   "source": [
    "temp.shape"
   ]
  },
  {
   "cell_type": "code",
   "execution_count": 46,
   "metadata": {
    "collapsed": false
   },
   "outputs": [],
   "source": [
    "captions_test_f = pd.merge(captions_test_f, temp, on = 'id')"
   ]
  },
  {
   "cell_type": "code",
   "execution_count": 51,
   "metadata": {
    "collapsed": false
   },
   "outputs": [
    {
     "data": {
      "text/html": [
       "<div style=\"max-height:1000px;max-width:1500px;overflow:auto;\">\n",
       "<table border=\"1\" class=\"dataframe\">\n",
       "  <thead>\n",
       "    <tr style=\"text-align: right;\">\n",
       "      <th></th>\n",
       "      <th>id</th>\n",
       "      <th>text</th>\n",
       "      <th>laughter_total</th>\n",
       "      <th>length</th>\n",
       "      <th>num_para</th>\n",
       "      <th>wordcounts</th>\n",
       "      <th>word_per_sec</th>\n",
       "      <th>laughter_per_word</th>\n",
       "      <th>para_length</th>\n",
       "    </tr>\n",
       "  </thead>\n",
       "  <tbody>\n",
       "    <tr>\n",
       "      <th>0</th>\n",
       "      <td>1146</td>\n",
       "      <td>[Think about your day for a second., You woke ...</td>\n",
       "      <td>1</td>\n",
       "      <td>1080</td>\n",
       "      <td>35</td>\n",
       "      <td>3893</td>\n",
       "      <td>3.604630</td>\n",
       "      <td>0.000257</td>\n",
       "      <td>111.228571</td>\n",
       "    </tr>\n",
       "    <tr>\n",
       "      <th>1</th>\n",
       "      <td>1153</td>\n",
       "      <td>[I want to share with you, over the next 18 mi...</td>\n",
       "      <td>0</td>\n",
       "      <td>1367</td>\n",
       "      <td>36</td>\n",
       "      <td>3670</td>\n",
       "      <td>2.684711</td>\n",
       "      <td>0.000000</td>\n",
       "      <td>101.944444</td>\n",
       "    </tr>\n",
       "    <tr>\n",
       "      <th>2</th>\n",
       "      <td>1154</td>\n",
       "      <td>[The story I wanted to share with you today, i...</td>\n",
       "      <td>0</td>\n",
       "      <td>615</td>\n",
       "      <td>12</td>\n",
       "      <td>1410</td>\n",
       "      <td>2.292683</td>\n",
       "      <td>0.000000</td>\n",
       "      <td>117.500000</td>\n",
       "    </tr>\n",
       "    <tr>\n",
       "      <th>3</th>\n",
       "      <td>223</td>\n",
       "      <td>[Dan Holzman: Please throw out the beanbag cha...</td>\n",
       "      <td>37</td>\n",
       "      <td>908</td>\n",
       "      <td>185</td>\n",
       "      <td>1831</td>\n",
       "      <td>2.016520</td>\n",
       "      <td>0.020208</td>\n",
       "      <td>9.897297</td>\n",
       "    </tr>\n",
       "    <tr>\n",
       "      <th>4</th>\n",
       "      <td>103</td>\n",
       "      <td>[I'm not quite sure whether I really want to s...</td>\n",
       "      <td>1</td>\n",
       "      <td>1613</td>\n",
       "      <td>28</td>\n",
       "      <td>3244</td>\n",
       "      <td>2.011159</td>\n",
       "      <td>0.000308</td>\n",
       "      <td>115.857143</td>\n",
       "    </tr>\n",
       "  </tbody>\n",
       "</table>\n",
       "</div>"
      ],
      "text/plain": [
       "     id                                               text  laughter_total  \\\n",
       "0  1146  [Think about your day for a second., You woke ...               1   \n",
       "1  1153  [I want to share with you, over the next 18 mi...               0   \n",
       "2  1154  [The story I wanted to share with you today, i...               0   \n",
       "3   223  [Dan Holzman: Please throw out the beanbag cha...              37   \n",
       "4   103  [I'm not quite sure whether I really want to s...               1   \n",
       "\n",
       "   length  num_para  wordcounts  word_per_sec  laughter_per_word  para_length  \n",
       "0    1080        35        3893      3.604630           0.000257   111.228571  \n",
       "1    1367        36        3670      2.684711           0.000000   101.944444  \n",
       "2     615        12        1410      2.292683           0.000000   117.500000  \n",
       "3     908       185        1831      2.016520           0.020208     9.897297  \n",
       "4    1613        28        3244      2.011159           0.000308   115.857143  "
      ]
     },
     "execution_count": 51,
     "metadata": {},
     "output_type": "execute_result"
    }
   ],
   "source": [
    "captions_test_f.head()"
   ]
  },
  {
   "cell_type": "code",
   "execution_count": 48,
   "metadata": {
    "collapsed": true
   },
   "outputs": [],
   "source": [
    "captions_test_f['laughter_per_word'] = captions_test_f['laughter_total']/captions_test_f.wordcounts"
   ]
  },
  {
   "cell_type": "code",
   "execution_count": 49,
   "metadata": {
    "collapsed": true
   },
   "outputs": [],
   "source": [
    "captions_test_f['word_per_sec'] = captions_test_f['wordcounts']/captions_test_f.length"
   ]
  },
  {
   "cell_type": "code",
   "execution_count": 50,
   "metadata": {
    "collapsed": true
   },
   "outputs": [],
   "source": [
    "captions_test_f['para_length'] = captions_test_f['wordcounts']/captions_test_f['num_para']"
   ]
  },
  {
   "cell_type": "markdown",
   "metadata": {},
   "source": [
    "####2.1.2 How many applause "
   ]
  },
  {
   "cell_type": "code",
   "execution_count": 52,
   "metadata": {
    "collapsed": true
   },
   "outputs": [],
   "source": [
    "def findallapplause(text):\n",
    "    content = ';'.join(text)\n",
    "    num = len(re.findall(r'(Applause)',content))\n",
    "    return num"
   ]
  },
  {
   "cell_type": "code",
   "execution_count": 53,
   "metadata": {
    "collapsed": true
   },
   "outputs": [],
   "source": [
    "applause_total = captions_test_f.text.apply(findallapplause)"
   ]
  },
  {
   "cell_type": "code",
   "execution_count": 55,
   "metadata": {
    "collapsed": false
   },
   "outputs": [
    {
     "data": {
      "text/plain": [
       "Index([               u'id',              u'text',    u'laughter_total',\n",
       "                  u'length',          u'num_para',        u'wordcounts',\n",
       "            u'word_per_sec', u'laughter_per_word',       u'para_length'],\n",
       "      dtype='object')"
      ]
     },
     "execution_count": 55,
     "metadata": {},
     "output_type": "execute_result"
    }
   ],
   "source": [
    "captions_test_f.columns"
   ]
  },
  {
   "cell_type": "code",
   "execution_count": 56,
   "metadata": {
    "collapsed": true
   },
   "outputs": [],
   "source": [
    "captions_test_f['applause_total']= applause_total"
   ]
  },
  {
   "cell_type": "code",
   "execution_count": 58,
   "metadata": {
    "collapsed": false
   },
   "outputs": [
    {
     "data": {
      "text/plain": [
       "count    350.000000\n",
       "mean       2.128571\n",
       "std        2.190900\n",
       "min        0.000000\n",
       "25%        1.000000\n",
       "50%        1.000000\n",
       "75%        3.000000\n",
       "max       18.000000\n",
       "Name: applause_total, dtype: float64"
      ]
     },
     "execution_count": 58,
     "metadata": {},
     "output_type": "execute_result"
    }
   ],
   "source": [
    "captions_test_f.applause_total.describe()"
   ]
  },
  {
   "cell_type": "code",
   "execution_count": 59,
   "metadata": {
    "collapsed": false
   },
   "outputs": [],
   "source": [
    "captions_test_f['applause_per_word']= captions_test_f['applause_total']/captions_test_f['wordcounts']"
   ]
  },
  {
   "cell_type": "markdown",
   "metadata": {},
   "source": [
    "#### 2.1.3 How many \"So\" and \"And so\", \"I think\" \"I don't think\" , \"--\""
   ]
  },
  {
   "cell_type": "code",
   "execution_count": 60,
   "metadata": {
    "collapsed": true
   },
   "outputs": [],
   "source": [
    "def countallso(text):\n",
    "    content = ';'.join(text)\n",
    "    num = len(re.findall(r'And so',content))\n",
    "    return num"
   ]
  },
  {
   "cell_type": "code",
   "execution_count": 61,
   "metadata": {
    "collapsed": true
   },
   "outputs": [],
   "source": [
    "countso = captions_test_f.text.apply(countallso)"
   ]
  },
  {
   "cell_type": "code",
   "execution_count": 62,
   "metadata": {
    "collapsed": false,
    "scrolled": true
   },
   "outputs": [
    {
     "data": {
      "text/plain": [
       "<matplotlib.axes._subplots.AxesSubplot at 0x10e511d50>"
      ]
     },
     "execution_count": 62,
     "metadata": {},
     "output_type": "execute_result"
    },
    {
     "data": {
      "image/png": "[encoded data removed]",
      "text/plain": [
       "<matplotlib.figure.Figure at 0x11662bb90>"
      ]
     },
     "metadata": {},
     "output_type": "display_data"
    }
   ],
   "source": [
    "countso.hist()"
   ]
  },
  {
   "cell_type": "code",
   "execution_count": 63,
   "metadata": {
    "collapsed": true
   },
   "outputs": [],
   "source": [
    "captions_test_f['And_so_total'] = countso"
   ]
  },
  {
   "cell_type": "code",
   "execution_count": 65,
   "metadata": {
    "collapsed": false
   },
   "outputs": [
    {
     "data": {
      "text/plain": [
       "Index([               u'id',              u'text',    u'laughter_total',\n",
       "                  u'length',          u'num_para',        u'wordcounts',\n",
       "            u'word_per_sec', u'laughter_per_word',       u'para_length',\n",
       "          u'applause_total', u'applause_per_word',      u'And_so_total'],\n",
       "      dtype='object')"
      ]
     },
     "execution_count": 65,
     "metadata": {},
     "output_type": "execute_result"
    }
   ],
   "source": [
    "captions_test_f.columns"
   ]
  },
  {
   "cell_type": "markdown",
   "metadata": {},
   "source": [
    "#### So seems to be not predictive after a few trial, move on to \"--\", which often stands for interjections in the transcripts"
   ]
  },
  {
   "cell_type": "code",
   "execution_count": 68,
   "metadata": {
    "collapsed": true
   },
   "outputs": [],
   "source": [
    "# define a fun to find '--' and '-'\n",
    "def finddiv(text):\n",
    "    content = ';'.join(text)\n",
    "    num = len(re.findall(r'--',content))\n",
    "    return num"
   ]
  },
  {
   "cell_type": "code",
   "execution_count": 69,
   "metadata": {
    "collapsed": false
   },
   "outputs": [],
   "source": [
    "diversion = captions_test_f.text.apply(finddiv)"
   ]
  },
  {
   "cell_type": "code",
   "execution_count": 70,
   "metadata": {
    "collapsed": true
   },
   "outputs": [],
   "source": [
    "captions_test_f['diversion'] = diversion"
   ]
  },
  {
   "cell_type": "markdown",
   "metadata": {},
   "source": [
    "### merge the response into captions_f "
   ]
  },
  {
   "cell_type": "code",
   "execution_count": 71,
   "metadata": {
    "collapsed": true
   },
   "outputs": [],
   "source": [
    "captions_test_f = captions_test_f.merge(testresponse, on = 'id')"
   ]
  },
  {
   "cell_type": "code",
   "execution_count": 72,
   "metadata": {
    "collapsed": false
   },
   "outputs": [
    {
     "data": {
      "text/plain": [
       "<matplotlib.axes._subplots.AxesSubplot at 0x10f2940d0>"
      ]
     },
     "execution_count": 72,
     "metadata": {},
     "output_type": "execute_result"
    },
    {
     "data": {
      "image/png": "[encoded data removed]",
      "text/plain": [
       "<matplotlib.figure.Figure at 0x10f624d50>"
      ]
     },
     "metadata": {},
     "output_type": "display_data"
    }
   ],
   "source": [
    "captions_test_f.boxplot(column = 'diversion', by = 'label')"
   ]
  },
  {
   "cell_type": "code",
   "execution_count": 73,
   "metadata": {
    "collapsed": true
   },
   "outputs": [],
   "source": [
    "div_per_word = captions_test_f.diversion/captions_test_f.wordcounts"
   ]
  },
  {
   "cell_type": "code",
   "execution_count": 74,
   "metadata": {
    "collapsed": false
   },
   "outputs": [
    {
     "data": {
      "text/plain": [
       "<matplotlib.axes._subplots.AxesSubplot at 0x110998490>"
      ]
     },
     "execution_count": 74,
     "metadata": {},
     "output_type": "execute_result"
    },
    {
     "data": {
      "image/png": "[encoded data removed]",
      "text/plain": [
       "<matplotlib.figure.Figure at 0x110953fd0>"
      ]
     },
     "metadata": {},
     "output_type": "display_data"
    }
   ],
   "source": [
    "sns.boxplot(div_per_word,groupby = captions_test_f.label)"
   ]
  },
  {
   "cell_type": "code",
   "execution_count": 75,
   "metadata": {
    "collapsed": true
   },
   "outputs": [],
   "source": [
    "captions_test_f['div_per_word'] = div_per_word"
   ]
  },
  {
   "cell_type": "code",
   "execution_count": 76,
   "metadata": {
    "collapsed": true
   },
   "outputs": [],
   "source": [
    "div_per_word_labeled = [col for colname,col in captions_test_f.groupby('label')['div_per_word']]"
   ]
  },
  {
   "cell_type": "code",
   "execution_count": 77,
   "metadata": {
    "collapsed": false
   },
   "outputs": [
    {
     "name": "stdout",
     "output_type": "stream",
     "text": [
      "p value is:0.00400394403154\n"
     ]
    }
   ],
   "source": [
    "f_val, p_val = ss.f_oneway(*div_per_word_labeled)\n",
    "print 'p value is:{}'.format(p_val)"
   ]
  },
  {
   "cell_type": "markdown",
   "metadata": {},
   "source": [
    "#### How about \"I (don't) think\" \"my ** journey\" "
   ]
  },
  {
   "cell_type": "code",
   "execution_count": 78,
   "metadata": {
    "collapsed": true
   },
   "outputs": [],
   "source": [
    "def findthink(text):\n",
    "    content = ';'.join(text)\n",
    "    num = len(re.findall(r'I\\s*[\\w\\']*\\s*think',content))\n",
    "    return num"
   ]
  },
  {
   "cell_type": "code",
   "execution_count": 79,
   "metadata": {
    "collapsed": true
   },
   "outputs": [],
   "source": [
    "ithinks = captions_test_f.text.apply(findthink)"
   ]
  },
  {
   "cell_type": "code",
   "execution_count": 80,
   "metadata": {
    "collapsed": false
   },
   "outputs": [
    {
     "data": {
      "text/plain": [
       "count    350.000000\n",
       "mean       2.780000\n",
       "std        3.813736\n",
       "min        0.000000\n",
       "25%        0.000000\n",
       "50%        1.000000\n",
       "75%        4.000000\n",
       "max       29.000000\n",
       "Name: text, dtype: float64"
      ]
     },
     "execution_count": 80,
     "metadata": {},
     "output_type": "execute_result"
    }
   ],
   "source": [
    "ithinks.describe()"
   ]
  },
  {
   "cell_type": "code",
   "execution_count": 81,
   "metadata": {
    "collapsed": false
   },
   "outputs": [
    {
     "data": {
      "text/plain": [
       "<matplotlib.axes._subplots.AxesSubplot at 0x110c7d390>"
      ]
     },
     "execution_count": 81,
     "metadata": {},
     "output_type": "execute_result"
    },
    {
     "data": {
      "image/png": "[encoded data removed]",
      "text/plain": [
       "<matplotlib.figure.Figure at 0x110c6ead0>"
      ]
     },
     "metadata": {},
     "output_type": "display_data"
    }
   ],
   "source": [
    "sns.boxplot(ithinks, groupby=captions_test_f.label)"
   ]
  },
  {
   "cell_type": "code",
   "execution_count": 82,
   "metadata": {
    "collapsed": false
   },
   "outputs": [],
   "source": [
    "captions_test_f['ithinks'] = ithinks"
   ]
  },
  {
   "cell_type": "code",
   "execution_count": 83,
   "metadata": {
    "collapsed": true
   },
   "outputs": [],
   "source": [
    "ithinks_labeled = [col for colname,col in captions_test_f.groupby('label')['ithinks']]"
   ]
  },
  {
   "cell_type": "code",
   "execution_count": 84,
   "metadata": {
    "collapsed": false
   },
   "outputs": [
    {
     "name": "stdout",
     "output_type": "stream",
     "text": [
      "p value is:2.3134413912e-06\n"
     ]
    }
   ],
   "source": [
    "f_val, p_val = ss.f_oneway(*ithinks_labeled)\n",
    "print 'p value is:{}'.format(p_val)"
   ]
  },
  {
   "cell_type": "code",
   "execution_count": 85,
   "metadata": {
    "collapsed": true
   },
   "outputs": [],
   "source": [
    "# (my) journey\n",
    "def findstory(text):\n",
    "    content = ';'.join(text)\n",
    "    story_words = '|'.join(['journey','story','experience'])\n",
    "    num = len(re.findall(story_words,content))\n",
    "    return num"
   ]
  },
  {
   "cell_type": "code",
   "execution_count": 86,
   "metadata": {
    "collapsed": true
   },
   "outputs": [],
   "source": [
    "storywords = captions_test_f.text.apply(findstory)"
   ]
  },
  {
   "cell_type": "code",
   "execution_count": 87,
   "metadata": {
    "collapsed": false
   },
   "outputs": [
    {
     "data": {
      "text/plain": [
       "count    350.000000\n",
       "mean       2.931429\n",
       "std        4.120100\n",
       "min        0.000000\n",
       "25%        0.000000\n",
       "50%        1.000000\n",
       "75%        4.000000\n",
       "max       28.000000\n",
       "Name: text, dtype: float64"
      ]
     },
     "execution_count": 87,
     "metadata": {},
     "output_type": "execute_result"
    }
   ],
   "source": [
    "storywords.describe()"
   ]
  },
  {
   "cell_type": "code",
   "execution_count": 88,
   "metadata": {
    "collapsed": false
   },
   "outputs": [
    {
     "data": {
      "text/plain": [
       "<matplotlib.axes._subplots.AxesSubplot at 0x110f15450>"
      ]
     },
     "execution_count": 88,
     "metadata": {},
     "output_type": "execute_result"
    },
    {
     "data": {
      "image/png": "[encoded data removed]",
      "text/plain": [
       "<matplotlib.figure.Figure at 0x110f38410>"
      ]
     },
     "metadata": {},
     "output_type": "display_data"
    }
   ],
   "source": [
    "sns.boxplot(storywords, groupby=captions_test_f.label)"
   ]
  },
  {
   "cell_type": "code",
   "execution_count": 89,
   "metadata": {
    "collapsed": true
   },
   "outputs": [],
   "source": [
    "captions_test_f['storywords']=storywords"
   ]
  },
  {
   "cell_type": "markdown",
   "metadata": {},
   "source": [
    "###2.2 Laughter or Applause as standalone paragraph "
   ]
  },
  {
   "cell_type": "code",
   "execution_count": 90,
   "metadata": {
    "collapsed": true
   },
   "outputs": [],
   "source": [
    "def laughpara(text):\n",
    "    counts = 0\n",
    "    for paras in text:\n",
    "        laugh = paras == '(Laughter)'\n",
    "        counts += laugh\n",
    "    return counts"
   ]
  },
  {
   "cell_type": "code",
   "execution_count": 91,
   "metadata": {
    "collapsed": true
   },
   "outputs": [],
   "source": [
    "laughpara = captions_test_f.text.apply(laughpara)"
   ]
  },
  {
   "cell_type": "code",
   "execution_count": 92,
   "metadata": {
    "collapsed": false
   },
   "outputs": [],
   "source": [
    "def applausepara(text):\n",
    "    counts = 0\n",
    "    for paras in text:\n",
    "        laugh = paras == '(Applause)'\n",
    "        counts += laugh\n",
    "    return counts"
   ]
  },
  {
   "cell_type": "code",
   "execution_count": 93,
   "metadata": {
    "collapsed": true
   },
   "outputs": [],
   "source": [
    "applausepara = captions_test_f.text.apply(applausepara)"
   ]
  },
  {
   "cell_type": "code",
   "execution_count": 94,
   "metadata": {
    "collapsed": false
   },
   "outputs": [],
   "source": [
    "captions_test_f['app_as_para'] = applausepara\n",
    "captions_test_f['laugh_as_para'] = laughpara"
   ]
  },
  {
   "cell_type": "code",
   "execution_count": 95,
   "metadata": {
    "collapsed": false
   },
   "outputs": [
    {
     "data": {
      "text/plain": [
       "Index([               u'id',              u'text',    u'laughter_total',\n",
       "                  u'length',          u'num_para',        u'wordcounts',\n",
       "            u'word_per_sec', u'laughter_per_word',       u'para_length',\n",
       "          u'applause_total', u'applause_per_word',      u'And_so_total',\n",
       "               u'diversion',             u'label',      u'div_per_word',\n",
       "                 u'ithinks',        u'storywords',       u'app_as_para',\n",
       "           u'laugh_as_para'],\n",
       "      dtype='object')"
      ]
     },
     "execution_count": 95,
     "metadata": {},
     "output_type": "execute_result"
    }
   ],
   "source": [
    "captions_test_f.columns"
   ]
  },
  {
   "cell_type": "code",
   "execution_count": 96,
   "metadata": {
    "collapsed": false
   },
   "outputs": [
    {
     "data": {
      "text/html": [
       "<div style=\"max-height:1000px;max-width:1500px;overflow:auto;\">\n",
       "<table border=\"1\" class=\"dataframe\">\n",
       "  <thead>\n",
       "    <tr style=\"text-align: right;\">\n",
       "      <th></th>\n",
       "      <th>id</th>\n",
       "      <th>text</th>\n",
       "      <th>laughter_total</th>\n",
       "      <th>length</th>\n",
       "      <th>num_para</th>\n",
       "      <th>wordcounts</th>\n",
       "      <th>word_per_sec</th>\n",
       "      <th>laughter_per_word</th>\n",
       "      <th>para_length</th>\n",
       "      <th>applause_total</th>\n",
       "      <th>applause_per_word</th>\n",
       "      <th>And_so_total</th>\n",
       "      <th>diversion</th>\n",
       "      <th>label</th>\n",
       "      <th>div_per_word</th>\n",
       "      <th>ithinks</th>\n",
       "      <th>storywords</th>\n",
       "      <th>app_as_para</th>\n",
       "      <th>laugh_as_para</th>\n",
       "    </tr>\n",
       "  </thead>\n",
       "  <tbody>\n",
       "    <tr>\n",
       "      <th>0</th>\n",
       "      <td>1146</td>\n",
       "      <td>[Think about your day for a second., You woke ...</td>\n",
       "      <td>1</td>\n",
       "      <td>1080</td>\n",
       "      <td>35</td>\n",
       "      <td>3893</td>\n",
       "      <td>3.604630</td>\n",
       "      <td>0.000257</td>\n",
       "      <td>111.228571</td>\n",
       "      <td>2</td>\n",
       "      <td>0.000514</td>\n",
       "      <td>5</td>\n",
       "      <td>30</td>\n",
       "      <td>2</td>\n",
       "      <td>0.007706</td>\n",
       "      <td>2</td>\n",
       "      <td>5</td>\n",
       "      <td>2</td>\n",
       "      <td>1</td>\n",
       "    </tr>\n",
       "    <tr>\n",
       "      <th>1</th>\n",
       "      <td>1153</td>\n",
       "      <td>[I want to share with you, over the next 18 mi...</td>\n",
       "      <td>0</td>\n",
       "      <td>1367</td>\n",
       "      <td>36</td>\n",
       "      <td>3670</td>\n",
       "      <td>2.684711</td>\n",
       "      <td>0.000000</td>\n",
       "      <td>101.944444</td>\n",
       "      <td>3</td>\n",
       "      <td>0.000817</td>\n",
       "      <td>1</td>\n",
       "      <td>32</td>\n",
       "      <td>1</td>\n",
       "      <td>0.008719</td>\n",
       "      <td>0</td>\n",
       "      <td>6</td>\n",
       "      <td>3</td>\n",
       "      <td>0</td>\n",
       "    </tr>\n",
       "    <tr>\n",
       "      <th>2</th>\n",
       "      <td>1154</td>\n",
       "      <td>[The story I wanted to share with you today, i...</td>\n",
       "      <td>0</td>\n",
       "      <td>615</td>\n",
       "      <td>12</td>\n",
       "      <td>1410</td>\n",
       "      <td>2.292683</td>\n",
       "      <td>0.000000</td>\n",
       "      <td>117.500000</td>\n",
       "      <td>1</td>\n",
       "      <td>0.000709</td>\n",
       "      <td>0</td>\n",
       "      <td>14</td>\n",
       "      <td>1</td>\n",
       "      <td>0.009929</td>\n",
       "      <td>0</td>\n",
       "      <td>10</td>\n",
       "      <td>1</td>\n",
       "      <td>0</td>\n",
       "    </tr>\n",
       "    <tr>\n",
       "      <th>3</th>\n",
       "      <td>223</td>\n",
       "      <td>[Dan Holzman: Please throw out the beanbag cha...</td>\n",
       "      <td>37</td>\n",
       "      <td>908</td>\n",
       "      <td>185</td>\n",
       "      <td>1831</td>\n",
       "      <td>2.016520</td>\n",
       "      <td>0.020208</td>\n",
       "      <td>9.897297</td>\n",
       "      <td>11</td>\n",
       "      <td>0.006008</td>\n",
       "      <td>1</td>\n",
       "      <td>4</td>\n",
       "      <td>4</td>\n",
       "      <td>0.002185</td>\n",
       "      <td>5</td>\n",
       "      <td>0</td>\n",
       "      <td>8</td>\n",
       "      <td>23</td>\n",
       "    </tr>\n",
       "    <tr>\n",
       "      <th>4</th>\n",
       "      <td>103</td>\n",
       "      <td>[I'm not quite sure whether I really want to s...</td>\n",
       "      <td>1</td>\n",
       "      <td>1613</td>\n",
       "      <td>28</td>\n",
       "      <td>3244</td>\n",
       "      <td>2.011159</td>\n",
       "      <td>0.000308</td>\n",
       "      <td>115.857143</td>\n",
       "      <td>6</td>\n",
       "      <td>0.001850</td>\n",
       "      <td>10</td>\n",
       "      <td>42</td>\n",
       "      <td>2</td>\n",
       "      <td>0.012947</td>\n",
       "      <td>6</td>\n",
       "      <td>24</td>\n",
       "      <td>2</td>\n",
       "      <td>0</td>\n",
       "    </tr>\n",
       "  </tbody>\n",
       "</table>\n",
       "</div>"
      ],
      "text/plain": [
       "     id                                               text  laughter_total  \\\n",
       "0  1146  [Think about your day for a second., You woke ...               1   \n",
       "1  1153  [I want to share with you, over the next 18 mi...               0   \n",
       "2  1154  [The story I wanted to share with you today, i...               0   \n",
       "3   223  [Dan Holzman: Please throw out the beanbag cha...              37   \n",
       "4   103  [I'm not quite sure whether I really want to s...               1   \n",
       "\n",
       "   length  num_para  wordcounts  word_per_sec  laughter_per_word  para_length  \\\n",
       "0    1080        35        3893      3.604630           0.000257   111.228571   \n",
       "1    1367        36        3670      2.684711           0.000000   101.944444   \n",
       "2     615        12        1410      2.292683           0.000000   117.500000   \n",
       "3     908       185        1831      2.016520           0.020208     9.897297   \n",
       "4    1613        28        3244      2.011159           0.000308   115.857143   \n",
       "\n",
       "   applause_total  applause_per_word  And_so_total  diversion  label  \\\n",
       "0               2           0.000514             5         30      2   \n",
       "1               3           0.000817             1         32      1   \n",
       "2               1           0.000709             0         14      1   \n",
       "3              11           0.006008             1          4      4   \n",
       "4               6           0.001850            10         42      2   \n",
       "\n",
       "   div_per_word  ithinks  storywords  app_as_para  laugh_as_para  \n",
       "0      0.007706        2           5            2              1  \n",
       "1      0.008719        0           6            3              0  \n",
       "2      0.009929        0          10            1              0  \n",
       "3      0.002185        5           0            8             23  \n",
       "4      0.012947        6          24            2              0  "
      ]
     },
     "execution_count": 96,
     "metadata": {},
     "output_type": "execute_result"
    }
   ],
   "source": [
    "captions_test_f.head()"
   ]
  },
  {
   "cell_type": "code",
   "execution_count": 97,
   "metadata": {
    "collapsed": true
   },
   "outputs": [],
   "source": [
    "captions_test_f['funny_binary']= captions_test_f.label == 4\n",
    "captions_test_f['neg_binary'] = captions_test_f.label == 3"
   ]
  },
  {
   "cell_type": "code",
   "execution_count": 98,
   "metadata": {
    "collapsed": false
   },
   "outputs": [
    {
     "data": {
      "text/plain": [
       "<matplotlib.axes._subplots.AxesSubplot at 0x110cb9f90>"
      ]
     },
     "execution_count": 98,
     "metadata": {},
     "output_type": "execute_result"
    },
    {
     "data": {
      "image/png": "[encoded data removed]",
      "text/plain": [
       "<matplotlib.figure.Figure at 0x1110f3d50>"
      ]
     },
     "metadata": {},
     "output_type": "display_data"
    }
   ],
   "source": [
    "captions_test_f.boxplot(column='laugh_as_para',by = 'funny_binary',)"
   ]
  },
  {
   "cell_type": "code",
   "execution_count": 99,
   "metadata": {
    "collapsed": true
   },
   "outputs": [],
   "source": [
    "captions_test_f['app_total_log'] = captions_test_f['applause_total'].apply(lambda x: np.log10(x))"
   ]
  },
  {
   "cell_type": "code",
   "execution_count": 100,
   "metadata": {
    "collapsed": false
   },
   "outputs": [
    {
     "data": {
      "text/plain": [
       "<matplotlib.axes._subplots.AxesSubplot at 0x10f633c50>"
      ]
     },
     "execution_count": 100,
     "metadata": {},
     "output_type": "execute_result"
    },
    {
     "data": {
      "image/png": "[encoded data removed]",
      "text/plain": [
       "<matplotlib.figure.Figure at 0x1111fda10>"
      ]
     },
     "metadata": {},
     "output_type": "display_data"
    }
   ],
   "source": [
    "captions_test_f.boxplot(column='applause_total',by = 'neg_binary',)"
   ]
  },
  {
   "cell_type": "code",
   "execution_count": 101,
   "metadata": {
    "collapsed": false
   },
   "outputs": [
    {
     "data": {
      "text/plain": [
       "Index([               u'id',              u'text',    u'laughter_total',\n",
       "                  u'length',          u'num_para',        u'wordcounts',\n",
       "            u'word_per_sec', u'laughter_per_word',       u'para_length',\n",
       "          u'applause_total', u'applause_per_word',      u'And_so_total',\n",
       "               u'diversion',             u'label',      u'div_per_word',\n",
       "                 u'ithinks',        u'storywords',       u'app_as_para',\n",
       "           u'laugh_as_para',      u'funny_binary',        u'neg_binary',\n",
       "           u'app_total_log'],\n",
       "      dtype='object')"
      ]
     },
     "execution_count": 101,
     "metadata": {},
     "output_type": "execute_result"
    }
   ],
   "source": [
    "captions_test_f.columns"
   ]
  },
  {
   "cell_type": "code",
   "execution_count": 102,
   "metadata": {
    "collapsed": false
   },
   "outputs": [
    {
     "data": {
      "text/plain": [
       "count    36.000000\n",
       "mean      1.083333\n",
       "std       0.906327\n",
       "min       0.000000\n",
       "25%       1.000000\n",
       "50%       1.000000\n",
       "75%       1.000000\n",
       "max       4.000000\n",
       "Name: app_as_para, dtype: float64"
      ]
     },
     "execution_count": 102,
     "metadata": {},
     "output_type": "execute_result"
    }
   ],
   "source": [
    "captions_test_f[captions_test_f.neg_binary==True].app_as_para.describe()"
   ]
  },
  {
   "cell_type": "code",
   "execution_count": 103,
   "metadata": {
    "collapsed": false
   },
   "outputs": [
    {
     "data": {
      "text/plain": [
       "count    314.000000\n",
       "mean       1.757962\n",
       "std        1.788859\n",
       "min        0.000000\n",
       "25%        1.000000\n",
       "50%        1.000000\n",
       "75%        2.000000\n",
       "max       13.000000\n",
       "Name: app_as_para, dtype: float64"
      ]
     },
     "execution_count": 103,
     "metadata": {},
     "output_type": "execute_result"
    }
   ],
   "source": [
    "captions_test_f[captions_test_f.neg_binary==False].app_as_para.describe()"
   ]
  },
  {
   "cell_type": "markdown",
   "metadata": {},
   "source": [
    "###Save captions_f "
   ]
  },
  {
   "cell_type": "code",
   "execution_count": 104,
   "metadata": {
    "collapsed": false
   },
   "outputs": [
    {
     "data": {
      "text/plain": [
       "Index([               u'id',              u'text',    u'laughter_total',\n",
       "                  u'length',          u'num_para',        u'wordcounts',\n",
       "            u'word_per_sec', u'laughter_per_word',       u'para_length',\n",
       "          u'applause_total', u'applause_per_word',      u'And_so_total',\n",
       "               u'diversion',             u'label',      u'div_per_word',\n",
       "                 u'ithinks',        u'storywords',       u'app_as_para',\n",
       "           u'laugh_as_para',      u'funny_binary',        u'neg_binary',\n",
       "           u'app_total_log'],\n",
       "      dtype='object')"
      ]
     },
     "execution_count": 104,
     "metadata": {},
     "output_type": "execute_result"
    }
   ],
   "source": [
    "captions_test_f.columns"
   ]
  },
  {
   "cell_type": "code",
   "execution_count": 105,
   "metadata": {
    "collapsed": true
   },
   "outputs": [],
   "source": [
    "captions_test_f.to_json('captions_test_f.json')"
   ]
  },
  {
   "cell_type": "markdown",
   "metadata": {
    "collapsed": true
   },
   "source": [
    "###2.3 Mining transcripts with spaCy and NLTK "
   ]
  },
  {
   "cell_type": "code",
   "execution_count": 106,
   "metadata": {
    "collapsed": true
   },
   "outputs": [],
   "source": [
    "from __future__ import unicode_literals\n",
    "from spacy.en import English, attrs\n",
    "from spacy import en\n",
    "from nltk import word_tokenize\n",
    "from sklearn.feature_extraction.text import CountVectorizer"
   ]
  },
  {
   "cell_type": "code",
   "execution_count": 107,
   "metadata": {
    "collapsed": true
   },
   "outputs": [],
   "source": [
    "from spacy.parts_of_speech import ADV, NOUN, ADJ, PUNCT, VERB"
   ]
  },
  {
   "cell_type": "code",
   "execution_count": 108,
   "metadata": {
    "collapsed": true
   },
   "outputs": [],
   "source": [
    "# remove punctuations\n",
    "from string import punctuation"
   ]
  },
  {
   "cell_type": "code",
   "execution_count": 109,
   "metadata": {
    "collapsed": true
   },
   "outputs": [],
   "source": [
    "nlp = English()"
   ]
  },
  {
   "cell_type": "code",
   "execution_count": 111,
   "metadata": {
    "collapsed": false
   },
   "outputs": [],
   "source": [
    "captions_test_f.sort(columns = 'id',inplace = True)"
   ]
  },
  {
   "cell_type": "code",
   "execution_count": 112,
   "metadata": {
    "collapsed": true
   },
   "outputs": [],
   "source": [
    "captions_test_f.reset_index(inplace = True, drop = True)"
   ]
  },
  {
   "cell_type": "code",
   "execution_count": 113,
   "metadata": {
    "collapsed": false
   },
   "outputs": [
    {
     "data": {
      "text/plain": [
       "(350, 22)"
      ]
     },
     "execution_count": 113,
     "metadata": {},
     "output_type": "execute_result"
    }
   ],
   "source": [
    "captions_test_f.shape"
   ]
  },
  {
   "cell_type": "markdown",
   "metadata": {},
   "source": [
    "### combine all paragraphs "
   ]
  },
  {
   "cell_type": "code",
   "execution_count": 114,
   "metadata": {
    "collapsed": false
   },
   "outputs": [],
   "source": [
    "punset = set(punctuation)"
   ]
  },
  {
   "cell_type": "code",
   "execution_count": 115,
   "metadata": {
    "collapsed": true
   },
   "outputs": [],
   "source": [
    "stopset = set(stopwords.words('english'))"
   ]
  },
  {
   "cell_type": "markdown",
   "metadata": {
    "collapsed": true
   },
   "source": [
    "to keep it's that's etc unseparated, do this\n",
    "test3 = re.sub('\\'','\\u2019',test2)"
   ]
  },
  {
   "cell_type": "markdown",
   "metadata": {},
   "source": [
    "###2.3.1 Tokenize the text, lower the case, remove punctuations and interjections (laughter, mob, applause)"
   ]
  },
  {
   "cell_type": "code",
   "execution_count": 116,
   "metadata": {
    "collapsed": true
   },
   "outputs": [],
   "source": [
    "def tokenize(text):\n",
    "    # return word tokens\n",
    "    # text comes in as list of paragraph\n",
    "    text = ' '.join(text)\n",
    "    # remove '(Laughter)' etc, \n",
    "    text = re.sub('\\([\\w\\s]+\\)','',text)\n",
    "    text = text.lower()\n",
    "    tokens = nlp(text, parse = False)\n",
    "    words = []\n",
    "    for token in tokens:\n",
    "        # remove punctuations\n",
    "        if token.pos != PUNCT:\n",
    "            words.append(token)\n",
    "    return words"
   ]
  },
  {
   "cell_type": "markdown",
   "metadata": {},
   "source": [
    "###2.3.2 Count stopwords "
   ]
  },
  {
   "cell_type": "code",
   "execution_count": 117,
   "metadata": {
    "collapsed": true
   },
   "outputs": [],
   "source": [
    "def stopcounts(token_list):\n",
    "    # token_list comes in as a list\n",
    "    num_words = len(token_list)\n",
    "    count = 0\n",
    "    for token in token_list:\n",
    "        if token.string.strip(' ').lower() in stopset:\n",
    "            count += 1\n",
    "    return count/float(num_words)"
   ]
  },
  {
   "cell_type": "code",
   "execution_count": 118,
   "metadata": {
    "collapsed": true
   },
   "outputs": [],
   "source": [
    "tokens = captions_test_f.text.apply(tokenize)"
   ]
  },
  {
   "cell_type": "code",
   "execution_count": 119,
   "metadata": {
    "collapsed": false
   },
   "outputs": [
    {
     "data": {
      "text/plain": [
       "(350,)"
      ]
     },
     "execution_count": 119,
     "metadata": {},
     "output_type": "execute_result"
    }
   ],
   "source": [
    "tokens.shape"
   ]
  },
  {
   "cell_type": "code",
   "execution_count": 120,
   "metadata": {
    "collapsed": true
   },
   "outputs": [],
   "source": [
    "captions_test_f['cap_tokens'] = tokens"
   ]
  },
  {
   "cell_type": "code",
   "execution_count": 121,
   "metadata": {
    "collapsed": false
   },
   "outputs": [],
   "source": [
    "stopwords_ratio = captions_test_f['cap_tokens'].apply(stopcounts)"
   ]
  },
  {
   "cell_type": "code",
   "execution_count": 122,
   "metadata": {
    "collapsed": false
   },
   "outputs": [
    {
     "data": {
      "text/plain": [
       "<matplotlib.axes._subplots.AxesSubplot at 0x11444fa10>"
      ]
     },
     "execution_count": 122,
     "metadata": {},
     "output_type": "execute_result"
    },
    {
     "data": {
      "image/png": "[encoded data removed]",
      "text/plain": [
       "<matplotlib.figure.Figure at 0x1100d3210>"
      ]
     },
     "metadata": {},
     "output_type": "display_data"
    }
   ],
   "source": [
    "stopwords_ratio.hist(bins = 30)"
   ]
  },
  {
   "cell_type": "code",
   "execution_count": 123,
   "metadata": {
    "collapsed": true
   },
   "outputs": [],
   "source": [
    "captions_test_f['stopwords_ratio'] = stopwords_ratio"
   ]
  },
  {
   "cell_type": "code",
   "execution_count": 124,
   "metadata": {
    "collapsed": false
   },
   "outputs": [
    {
     "data": {
      "text/plain": [
       "Index([               u'id',              u'text',    u'laughter_total',\n",
       "                  u'length',          u'num_para',        u'wordcounts',\n",
       "            u'word_per_sec', u'laughter_per_word',       u'para_length',\n",
       "          u'applause_total', u'applause_per_word',      u'And_so_total',\n",
       "               u'diversion',             u'label',      u'div_per_word',\n",
       "                 u'ithinks',        u'storywords',       u'app_as_para',\n",
       "           u'laugh_as_para',      u'funny_binary',        u'neg_binary',\n",
       "           u'app_total_log',        u'cap_tokens',   u'stopwords_ratio'],\n",
       "      dtype='object')"
      ]
     },
     "execution_count": 124,
     "metadata": {},
     "output_type": "execute_result"
    }
   ],
   "source": [
    "captions_test_f.columns"
   ]
  },
  {
   "cell_type": "code",
   "execution_count": 125,
   "metadata": {
    "collapsed": false
   },
   "outputs": [
    {
     "data": {
      "text/plain": [
       "<matplotlib.axes._subplots.AxesSubplot at 0x1405dc210>"
      ]
     },
     "execution_count": 125,
     "metadata": {},
     "output_type": "execute_result"
    },
    {
     "data": {
      "image/png": "[encoded data removed]",
      "text/plain": [
       "<matplotlib.figure.Figure at 0x1404f4990>"
      ]
     },
     "metadata": {},
     "output_type": "display_data"
    }
   ],
   "source": [
    "sns.boxplot(stopwords_ratio,groupby = captions_test_f.label)"
   ]
  },
  {
   "cell_type": "code",
   "execution_count": 127,
   "metadata": {
    "collapsed": false
   },
   "outputs": [],
   "source": [
    "stopwords_labeled = [col for colname,col in captions_test_f.groupby('label')['stopwords_ratio']]"
   ]
  },
  {
   "cell_type": "code",
   "execution_count": 128,
   "metadata": {
    "collapsed": false
   },
   "outputs": [
    {
     "name": "stdout",
     "output_type": "stream",
     "text": [
      "p value is:0.058380029566\n"
     ]
    }
   ],
   "source": [
    "f_val, p_val = ss.f_oneway(*stopwords_labeled)\n",
    "print 'p value is:{}'.format(p_val)"
   ]
  },
  {
   "cell_type": "markdown",
   "metadata": {},
   "source": [
    "####So there is no evident difference  "
   ]
  },
  {
   "cell_type": "markdown",
   "metadata": {},
   "source": [
    "### 2.3.2 Count important POS, take label class 2 (jaw-dropping) and 0 (informative) for example "
   ]
  },
  {
   "cell_type": "code",
   "execution_count": 129,
   "metadata": {
    "collapsed": true
   },
   "outputs": [],
   "source": [
    "# define a function to take cap_tokens as input and output list of unique tokens \n",
    "# joined as a string for CountVectorizer \n",
    "def getpos(token_list,prob = -10,pos = ADJ):\n",
    "    words = []\n",
    "    for token in token_list:\n",
    "        if token.pos == pos and token.prob < prob:\n",
    "            words.append(token.lemma_)\n",
    "            words = list(set(words))\n",
    "    return words"
   ]
  },
  {
   "cell_type": "code",
   "execution_count": 130,
   "metadata": {
    "collapsed": true
   },
   "outputs": [],
   "source": [
    "captions_test_f['noun_token'] = captions_test_f.cap_tokens.apply(getpos,pos = NOUN, prob = -3).apply(lambda x: ' '.join(x))"
   ]
  },
  {
   "cell_type": "code",
   "execution_count": 131,
   "metadata": {
    "collapsed": true
   },
   "outputs": [],
   "source": [
    "captions_test_f['verb_token'] = captions_test_f.cap_tokens.apply(getpos,pos = VERB, prob = -3).apply(lambda x: ' '.join(x))"
   ]
  },
  {
   "cell_type": "code",
   "execution_count": 132,
   "metadata": {
    "collapsed": false
   },
   "outputs": [],
   "source": [
    "captions_test_f.drop('cap_tokens',axis = 1,inplace = True)"
   ]
  },
  {
   "cell_type": "code",
   "execution_count": 133,
   "metadata": {
    "collapsed": false
   },
   "outputs": [
    {
     "data": {
      "text/plain": [
       "Index([               u'id',              u'text',    u'laughter_total',\n",
       "                  u'length',          u'num_para',        u'wordcounts',\n",
       "            u'word_per_sec', u'laughter_per_word',       u'para_length',\n",
       "          u'applause_total', u'applause_per_word',      u'And_so_total',\n",
       "               u'diversion',             u'label',      u'div_per_word',\n",
       "                 u'ithinks',        u'storywords',       u'app_as_para',\n",
       "           u'laugh_as_para',      u'funny_binary',        u'neg_binary',\n",
       "           u'app_total_log',   u'stopwords_ratio',        u'noun_token',\n",
       "              u'verb_token'],\n",
       "      dtype='object')"
      ]
     },
     "execution_count": 133,
     "metadata": {},
     "output_type": "execute_result"
    }
   ],
   "source": [
    "captions_test_f.columns"
   ]
  },
  {
   "cell_type": "code",
   "execution_count": 134,
   "metadata": {
    "collapsed": true
   },
   "outputs": [],
   "source": [
    "captions_test_f.to_json('captions_test_f.json')"
   ]
  },
  {
   "cell_type": "code",
   "execution_count": null,
   "metadata": {
    "collapsed": true
   },
   "outputs": [],
   "source": []
  }
 ],
 "metadata": {
  "kernelspec": {
   "display_name": "Python 2",
   "language": "python",
   "name": "python2"
  },
  "language_info": {
   "codemirror_mode": {
    "name": "ipython",
    "version": 2
   },
   "file_extension": ".py",
   "mimetype": "text/x-python",
   "name": "python",
   "nbconvert_exporter": "python",
   "pygments_lexer": "ipython2",
   "version": "2.7.9"
  }
 },
 "nbformat": 4,
 "nbformat_minor": 0
}
