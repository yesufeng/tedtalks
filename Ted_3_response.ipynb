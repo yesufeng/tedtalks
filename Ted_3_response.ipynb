{
 "cells": [
  {
   "cell_type": "markdown",
   "metadata": {},
   "source": [
    "### Date: 05/16/2015 10 am"
   ]
  },
  {
   "cell_type": "markdown",
   "metadata": {},
   "source": [
    "this notebook is to investigate into the response variables, and fix the specific metric to classify/regress against"
   ]
  },
  {
   "cell_type": "code",
   "execution_count": 1,
   "metadata": {
    "collapsed": true
   },
   "outputs": [],
   "source": [
    "import pandas as pd\n",
    "import numpy as np\n",
    "import matplotlib.pylab as plt\n",
    "import seaborn as sns\n",
    "%matplotlib inline\n",
    "import requests\n",
    "from pattern import web\n",
    "import random"
   ]
  },
  {
   "cell_type": "code",
   "execution_count": 2,
   "metadata": {
    "collapsed": true
   },
   "outputs": [],
   "source": [
    "from sklearn import metrics\n",
    "from sklearn.cluster import KMeans\n",
    "from sklearn.decomposition import PCA\n",
    "from sklearn.preprocessing import scale\n",
    "from sklearn.preprocessing import StandardScaler"
   ]
  },
  {
   "cell_type": "code",
   "execution_count": 3,
   "metadata": {
    "collapsed": true
   },
   "outputs": [],
   "source": [
    "# read in the talk_df_small json file\n",
    "talks = pd.read_json('talk_df_small.json')"
   ]
  },
  {
   "cell_type": "markdown",
   "metadata": {},
   "source": [
    "## split out test set"
   ]
  },
  {
   "cell_type": "code",
   "execution_count": 4,
   "metadata": {
    "collapsed": false
   },
   "outputs": [
    {
     "data": {
      "text/plain": [
       "(1885, 31)"
      ]
     },
     "execution_count": 4,
     "metadata": {},
     "output_type": "execute_result"
    }
   ],
   "source": [
    "talks.shape"
   ]
  },
  {
   "cell_type": "code",
   "execution_count": 5,
   "metadata": {
    "collapsed": true
   },
   "outputs": [],
   "source": [
    "testrows = random.sample(talks.index,350)"
   ]
  },
  {
   "cell_type": "code",
   "execution_count": 6,
   "metadata": {
    "collapsed": true
   },
   "outputs": [],
   "source": [
    "test = talks.ix[testrows]"
   ]
  },
  {
   "cell_type": "code",
   "execution_count": 7,
   "metadata": {
    "collapsed": true
   },
   "outputs": [],
   "source": [
    "train = talks.drop(testrows)"
   ]
  },
  {
   "cell_type": "code",
   "execution_count": 8,
   "metadata": {
    "collapsed": false
   },
   "outputs": [
    {
     "data": {
      "text/plain": [
       "(350, 31)"
      ]
     },
     "execution_count": 8,
     "metadata": {},
     "output_type": "execute_result"
    }
   ],
   "source": [
    "test.shape"
   ]
  },
  {
   "cell_type": "code",
   "execution_count": 9,
   "metadata": {
    "collapsed": false
   },
   "outputs": [
    {
     "data": {
      "text/plain": [
       "(1535, 31)"
      ]
     },
     "execution_count": 9,
     "metadata": {},
     "output_type": "execute_result"
    }
   ],
   "source": [
    "train.shape"
   ]
  },
  {
   "cell_type": "markdown",
   "metadata": {},
   "source": [
    "### Save both test and train dataframe "
   ]
  },
  {
   "cell_type": "code",
   "execution_count": 22,
   "metadata": {
    "collapsed": false
   },
   "outputs": [],
   "source": [
    "test.to_json('test.json')"
   ]
  },
  {
   "cell_type": "code",
   "execution_count": 23,
   "metadata": {
    "collapsed": true
   },
   "outputs": [],
   "source": [
    "train.to_json('train.json')"
   ]
  },
  {
   "cell_type": "code",
   "execution_count": 10,
   "metadata": {
    "collapsed": true
   },
   "outputs": [],
   "source": [
    "# read in the train set\n",
    "train = pd.read_json('train.json')"
   ]
  },
  {
   "cell_type": "code",
   "execution_count": 11,
   "metadata": {
    "collapsed": false
   },
   "outputs": [],
   "source": [
    "train.reset_index(drop = True, inplace = True)"
   ]
  },
  {
   "cell_type": "code",
   "execution_count": 12,
   "metadata": {
    "collapsed": true
   },
   "outputs": [],
   "source": [
    "# select only the rating words\n",
    "ratings = train.ix[:,:14]"
   ]
  },
  {
   "cell_type": "code",
   "execution_count": 13,
   "metadata": {
    "collapsed": false
   },
   "outputs": [
    {
     "data": {
      "text/plain": [
       "(1535, 14)"
      ]
     },
     "execution_count": 13,
     "metadata": {},
     "output_type": "execute_result"
    }
   ],
   "source": [
    "ratings.shape"
   ]
  },
  {
   "cell_type": "markdown",
   "metadata": {},
   "source": [
    "### read in test ratings "
   ]
  },
  {
   "cell_type": "code",
   "execution_count": 14,
   "metadata": {
    "collapsed": true
   },
   "outputs": [],
   "source": [
    "test = pd.read_json('test.json')"
   ]
  },
  {
   "cell_type": "code",
   "execution_count": 15,
   "metadata": {
    "collapsed": true
   },
   "outputs": [],
   "source": [
    "test.reset_index(drop = True, inplace = True)"
   ]
  },
  {
   "cell_type": "code",
   "execution_count": 16,
   "metadata": {
    "collapsed": true
   },
   "outputs": [],
   "source": [
    "test_ratings = test.ix[:,:14]"
   ]
  },
  {
   "cell_type": "code",
   "execution_count": 17,
   "metadata": {
    "collapsed": false
   },
   "outputs": [
    {
     "data": {
      "text/plain": [
       "(350, 14)"
      ]
     },
     "execution_count": 17,
     "metadata": {},
     "output_type": "execute_result"
    }
   ],
   "source": [
    "test_ratings.shape"
   ]
  },
  {
   "cell_type": "markdown",
   "metadata": {},
   "source": [
    "##reduce the dimension of the multi-class problem "
   ]
  },
  {
   "cell_type": "markdown",
   "metadata": {},
   "source": [
    "###1. Cluster talks based on the rating words, then look at the rating words distribution in each cluster "
   ]
  },
  {
   "cell_type": "code",
   "execution_count": 19,
   "metadata": {
    "collapsed": false
   },
   "outputs": [],
   "source": [
    "ratings = ratings.fillna(0)"
   ]
  },
  {
   "cell_type": "code",
   "execution_count": 20,
   "metadata": {
    "collapsed": true
   },
   "outputs": [],
   "source": [
    "# normalize against total ratings one talk receives\n",
    "ratingsum = ratings.sum(axis = 1)"
   ]
  },
  {
   "cell_type": "code",
   "execution_count": 21,
   "metadata": {
    "collapsed": false
   },
   "outputs": [
    {
     "data": {
      "text/plain": [
       "176.0"
      ]
     },
     "execution_count": 21,
     "metadata": {},
     "output_type": "execute_result"
    }
   ],
   "source": [
    "ratingsum.min()"
   ]
  },
  {
   "cell_type": "code",
   "execution_count": 22,
   "metadata": {
    "collapsed": false
   },
   "outputs": [],
   "source": [
    "ratingwords = list(ratings.columns)"
   ]
  },
  {
   "cell_type": "code",
   "execution_count": 23,
   "metadata": {
    "collapsed": false
   },
   "outputs": [],
   "source": [
    "ratings = ratings[ratingwords].div(ratingsum,axis = 'index')"
   ]
  },
  {
   "cell_type": "code",
   "execution_count": 24,
   "metadata": {
    "collapsed": true
   },
   "outputs": [],
   "source": [
    "ratings['id'] = train['id']\n",
    "ratings.set_index('id',inplace = True)"
   ]
  },
  {
   "cell_type": "code",
   "execution_count": 25,
   "metadata": {
    "collapsed": false
   },
   "outputs": [
    {
     "data": {
      "text/html": [
       "<div style=\"max-height:1000px;max-width:1500px;overflow:auto;\">\n",
       "<table border=\"1\" class=\"dataframe\">\n",
       "  <thead>\n",
       "    <tr style=\"text-align: right;\">\n",
       "      <th></th>\n",
       "      <th>Beautiful</th>\n",
       "      <th>Confusing</th>\n",
       "      <th>Courageous</th>\n",
       "      <th>Fascinating</th>\n",
       "      <th>Funny</th>\n",
       "      <th>Informative</th>\n",
       "      <th>Ingenious</th>\n",
       "      <th>Inspiring</th>\n",
       "      <th>Jaw-dropping</th>\n",
       "      <th>Longwinded</th>\n",
       "      <th>OK</th>\n",
       "      <th>Obnoxious</th>\n",
       "      <th>Persuasive</th>\n",
       "      <th>Unconvincing</th>\n",
       "    </tr>\n",
       "    <tr>\n",
       "      <th>id</th>\n",
       "      <th></th>\n",
       "      <th></th>\n",
       "      <th></th>\n",
       "      <th></th>\n",
       "      <th></th>\n",
       "      <th></th>\n",
       "      <th></th>\n",
       "      <th></th>\n",
       "      <th></th>\n",
       "      <th></th>\n",
       "      <th></th>\n",
       "      <th></th>\n",
       "      <th></th>\n",
       "      <th></th>\n",
       "    </tr>\n",
       "  </thead>\n",
       "  <tbody>\n",
       "    <tr>\n",
       "      <th>1</th>\n",
       "      <td>0.020121</td>\n",
       "      <td>0.020523</td>\n",
       "      <td>0.050704</td>\n",
       "      <td>0.040241</td>\n",
       "      <td>0.185111</td>\n",
       "      <td>0.154125</td>\n",
       "      <td>0.020121</td>\n",
       "      <td>0.143260</td>\n",
       "      <td>0.034205</td>\n",
       "      <td>0.038229</td>\n",
       "      <td>0.065996</td>\n",
       "      <td>0.046680</td>\n",
       "      <td>0.094567</td>\n",
       "      <td>0.086117</td>\n",
       "    </tr>\n",
       "    <tr>\n",
       "      <th>2</th>\n",
       "      <td>0.029782</td>\n",
       "      <td>0.000000</td>\n",
       "      <td>0.084712</td>\n",
       "      <td>0.091992</td>\n",
       "      <td>0.009927</td>\n",
       "      <td>0.156188</td>\n",
       "      <td>0.178028</td>\n",
       "      <td>0.285903</td>\n",
       "      <td>0.040371</td>\n",
       "      <td>0.009265</td>\n",
       "      <td>0.017869</td>\n",
       "      <td>0.001985</td>\n",
       "      <td>0.087359</td>\n",
       "      <td>0.006618</td>\n",
       "    </tr>\n",
       "    <tr>\n",
       "      <th>2167</th>\n",
       "      <td>0.015021</td>\n",
       "      <td>0.003577</td>\n",
       "      <td>0.019313</td>\n",
       "      <td>0.143777</td>\n",
       "      <td>0.010014</td>\n",
       "      <td>0.230329</td>\n",
       "      <td>0.173104</td>\n",
       "      <td>0.233190</td>\n",
       "      <td>0.016452</td>\n",
       "      <td>0.018598</td>\n",
       "      <td>0.037911</td>\n",
       "      <td>0.000715</td>\n",
       "      <td>0.077253</td>\n",
       "      <td>0.020744</td>\n",
       "    </tr>\n",
       "    <tr>\n",
       "      <th>3</th>\n",
       "      <td>0.047927</td>\n",
       "      <td>0.028497</td>\n",
       "      <td>0.159326</td>\n",
       "      <td>0.049223</td>\n",
       "      <td>0.011658</td>\n",
       "      <td>0.242228</td>\n",
       "      <td>0.034974</td>\n",
       "      <td>0.129534</td>\n",
       "      <td>0.037565</td>\n",
       "      <td>0.023316</td>\n",
       "      <td>0.054404</td>\n",
       "      <td>0.014249</td>\n",
       "      <td>0.129534</td>\n",
       "      <td>0.037565</td>\n",
       "    </tr>\n",
       "    <tr>\n",
       "      <th>99</th>\n",
       "      <td>0.137476</td>\n",
       "      <td>0.009416</td>\n",
       "      <td>0.022599</td>\n",
       "      <td>0.011299</td>\n",
       "      <td>0.431262</td>\n",
       "      <td>0.015066</td>\n",
       "      <td>0.077213</td>\n",
       "      <td>0.035782</td>\n",
       "      <td>0.009416</td>\n",
       "      <td>0.011299</td>\n",
       "      <td>0.131827</td>\n",
       "      <td>0.052731</td>\n",
       "      <td>0.024482</td>\n",
       "      <td>0.030132</td>\n",
       "    </tr>\n",
       "  </tbody>\n",
       "</table>\n",
       "</div>"
      ],
      "text/plain": [
       "      Beautiful  Confusing  Courageous  Fascinating     Funny  Informative  \\\n",
       "id                                                                           \n",
       "1      0.020121   0.020523    0.050704     0.040241  0.185111     0.154125   \n",
       "2      0.029782   0.000000    0.084712     0.091992  0.009927     0.156188   \n",
       "2167   0.015021   0.003577    0.019313     0.143777  0.010014     0.230329   \n",
       "3      0.047927   0.028497    0.159326     0.049223  0.011658     0.242228   \n",
       "99     0.137476   0.009416    0.022599     0.011299  0.431262     0.015066   \n",
       "\n",
       "      Ingenious  Inspiring  Jaw-dropping  Longwinded        OK  Obnoxious  \\\n",
       "id                                                                          \n",
       "1      0.020121   0.143260      0.034205    0.038229  0.065996   0.046680   \n",
       "2      0.178028   0.285903      0.040371    0.009265  0.017869   0.001985   \n",
       "2167   0.173104   0.233190      0.016452    0.018598  0.037911   0.000715   \n",
       "3      0.034974   0.129534      0.037565    0.023316  0.054404   0.014249   \n",
       "99     0.077213   0.035782      0.009416    0.011299  0.131827   0.052731   \n",
       "\n",
       "      Persuasive  Unconvincing  \n",
       "id                              \n",
       "1       0.094567      0.086117  \n",
       "2       0.087359      0.006618  \n",
       "2167    0.077253      0.020744  \n",
       "3       0.129534      0.037565  \n",
       "99      0.024482      0.030132  "
      ]
     },
     "execution_count": 25,
     "metadata": {},
     "output_type": "execute_result"
    }
   ],
   "source": [
    "ratings.head()"
   ]
  },
  {
   "cell_type": "code",
   "execution_count": 26,
   "metadata": {
    "collapsed": true
   },
   "outputs": [],
   "source": [
    "ratingm = ratings.as_matrix()"
   ]
  },
  {
   "cell_type": "code",
   "execution_count": 27,
   "metadata": {
    "collapsed": false
   },
   "outputs": [
    {
     "data": {
      "text/plain": [
       "(1535, 14)"
      ]
     },
     "execution_count": 27,
     "metadata": {},
     "output_type": "execute_result"
    }
   ],
   "source": [
    "ratingm.shape"
   ]
  },
  {
   "cell_type": "markdown",
   "metadata": {},
   "source": [
    "### Look at the distribution of positive/negative ratio"
   ]
  },
  {
   "cell_type": "code",
   "execution_count": 29,
   "metadata": {
    "collapsed": false
   },
   "outputs": [
    {
     "data": {
      "text/plain": [
       "Index([   u'Beautiful',    u'Confusing',   u'Courageous',  u'Fascinating',\n",
       "              u'Funny',  u'Informative',    u'Ingenious',    u'Inspiring',\n",
       "       u'Jaw-dropping',   u'Longwinded',           u'OK',    u'Obnoxious',\n",
       "         u'Persuasive', u'Unconvincing'],\n",
       "      dtype='object')"
      ]
     },
     "execution_count": 29,
     "metadata": {},
     "output_type": "execute_result"
    }
   ],
   "source": [
    "ratings.columns"
   ]
  },
  {
   "cell_type": "code",
   "execution_count": 30,
   "metadata": {
    "collapsed": true
   },
   "outputs": [],
   "source": [
    "poscolumns = [u'Beautiful',    u'Courageous',  u'Fascinating',\n",
    "              u'Funny',  u'Informative',    u'Ingenious',    u'Inspiring',\n",
    "       u'Jaw-dropping', u'Persuasive', ]"
   ]
  },
  {
   "cell_type": "code",
   "execution_count": 36,
   "metadata": {
    "collapsed": false
   },
   "outputs": [],
   "source": [
    "positive_fraction = ratings[poscolumns].sum(axis = 1)"
   ]
  },
  {
   "cell_type": "code",
   "execution_count": 37,
   "metadata": {
    "collapsed": false
   },
   "outputs": [
    {
     "data": {
      "text/plain": [
       "(1535,)"
      ]
     },
     "execution_count": 37,
     "metadata": {},
     "output_type": "execute_result"
    }
   ],
   "source": [
    "positive_fraction.shape"
   ]
  },
  {
   "cell_type": "code",
   "execution_count": 43,
   "metadata": {
    "collapsed": false
   },
   "outputs": [
    {
     "data": {
      "text/plain": [
       "<matplotlib.axes._subplots.AxesSubplot at 0x10c62e090>"
      ]
     },
     "execution_count": 43,
     "metadata": {},
     "output_type": "execute_result"
    },
    {
     "data": {
      "image/png": "[encoded data removed]",
      "text/plain": [
       "<matplotlib.figure.Figure at 0x10c0ab750>"
      ]
     },
     "metadata": {},
     "output_type": "display_data"
    }
   ],
   "source": [
    "positive_fraction.hist(bins = 30)"
   ]
  },
  {
   "cell_type": "code",
   "execution_count": 45,
   "metadata": {
    "collapsed": false
   },
   "outputs": [],
   "source": [
    "pos_neg_ratio = positive_fraction.apply(lambda x: np.log(x/(1-x)))"
   ]
  },
  {
   "cell_type": "code",
   "execution_count": 48,
   "metadata": {
    "collapsed": false
   },
   "outputs": [
    {
     "data": {
      "text/plain": [
       "<matplotlib.axes._subplots.AxesSubplot at 0x10cb21a90>"
      ]
     },
     "execution_count": 48,
     "metadata": {},
     "output_type": "execute_result"
    },
    {
     "data": {
      "image/png": "[encoded data removed]",
      "text/plain": [
       "<matplotlib.figure.Figure at 0x10c4b8f50>"
      ]
     },
     "metadata": {},
     "output_type": "display_data"
    }
   ],
   "source": [
    "pos_neg_ratio.hist(bins = 20)"
   ]
  },
  {
   "cell_type": "code",
   "execution_count": 50,
   "metadata": {
    "collapsed": false
   },
   "outputs": [
    {
     "data": {
      "text/plain": [
       "-0.71000429762636796"
      ]
     },
     "execution_count": 50,
     "metadata": {},
     "output_type": "execute_result"
    }
   ],
   "source": [
    "pos_neg_ratio.min()"
   ]
  },
  {
   "cell_type": "markdown",
   "metadata": {},
   "source": [
    "###The same process with test ratings "
   ]
  },
  {
   "cell_type": "code",
   "execution_count": 415,
   "metadata": {
    "collapsed": true
   },
   "outputs": [],
   "source": [
    "test_ratings = test_ratings.fillna(0)"
   ]
  },
  {
   "cell_type": "code",
   "execution_count": 416,
   "metadata": {
    "collapsed": true
   },
   "outputs": [],
   "source": [
    "test_r_sum = test_ratings.sum(axis = 1)"
   ]
  },
  {
   "cell_type": "code",
   "execution_count": 417,
   "metadata": {
    "collapsed": true
   },
   "outputs": [],
   "source": [
    "test_ratings = test_ratings[ratingwords].div(test_r_sum,axis = 'index')"
   ]
  },
  {
   "cell_type": "code",
   "execution_count": 418,
   "metadata": {
    "collapsed": true
   },
   "outputs": [],
   "source": [
    "test_ratings['id'] = test['id']\n",
    "test_ratings.set_index('id',inplace = True)"
   ]
  },
  {
   "cell_type": "code",
   "execution_count": 419,
   "metadata": {
    "collapsed": true
   },
   "outputs": [],
   "source": [
    "test_ratingsm = test_ratings.as_matrix()"
   ]
  },
  {
   "cell_type": "code",
   "execution_count": 439,
   "metadata": {
    "collapsed": true
   },
   "outputs": [
    {
     "data": {
      "text/html": [
       "<div style=\"max-height:1000px;max-width:1500px;overflow:auto;\">\n",
       "<table border=\"1\" class=\"dataframe\">\n",
       "  <thead>\n",
       "    <tr style=\"text-align: right;\">\n",
       "      <th></th>\n",
       "      <th>Beautiful</th>\n",
       "      <th>Confusing</th>\n",
       "      <th>Courageous</th>\n",
       "      <th>Fascinating</th>\n",
       "      <th>Funny</th>\n",
       "      <th>Informative</th>\n",
       "      <th>Ingenious</th>\n",
       "      <th>Inspiring</th>\n",
       "      <th>Jaw-dropping</th>\n",
       "      <th>Longwinded</th>\n",
       "      <th>OK</th>\n",
       "      <th>Obnoxious</th>\n",
       "      <th>Persuasive</th>\n",
       "      <th>Unconvincing</th>\n",
       "    </tr>\n",
       "    <tr>\n",
       "      <th>id</th>\n",
       "      <th></th>\n",
       "      <th></th>\n",
       "      <th></th>\n",
       "      <th></th>\n",
       "      <th></th>\n",
       "      <th></th>\n",
       "      <th></th>\n",
       "      <th></th>\n",
       "      <th></th>\n",
       "      <th></th>\n",
       "      <th></th>\n",
       "      <th></th>\n",
       "      <th></th>\n",
       "      <th></th>\n",
       "    </tr>\n",
       "  </thead>\n",
       "  <tbody>\n",
       "    <tr>\n",
       "      <th>1146</th>\n",
       "      <td>0.013372</td>\n",
       "      <td>0.006977</td>\n",
       "      <td>0.015116</td>\n",
       "      <td>0.25</td>\n",
       "      <td>0</td>\n",
       "      <td>0.138372</td>\n",
       "      <td>0.215698</td>\n",
       "      <td>0.081395</td>\n",
       "      <td>0.219186</td>\n",
       "      <td>0.01686</td>\n",
       "      <td>0.012209</td>\n",
       "      <td>0.006977</td>\n",
       "      <td>0.020349</td>\n",
       "      <td>0.003488</td>\n",
       "    </tr>\n",
       "  </tbody>\n",
       "</table>\n",
       "</div>"
      ],
      "text/plain": [
       "      Beautiful  Confusing  Courageous  Fascinating  Funny  Informative  \\\n",
       "id                                                                        \n",
       "1146   0.013372   0.006977    0.015116         0.25      0     0.138372   \n",
       "\n",
       "      Ingenious  Inspiring  Jaw-dropping  Longwinded        OK  Obnoxious  \\\n",
       "id                                                                          \n",
       "1146   0.215698   0.081395      0.219186     0.01686  0.012209   0.006977   \n",
       "\n",
       "      Persuasive  Unconvincing  \n",
       "id                              \n",
       "1146    0.020349      0.003488  "
      ]
     },
     "execution_count": 439,
     "metadata": {},
     "output_type": "execute_result"
    }
   ],
   "source": [
    "test_ratings.head(1)"
   ]
  },
  {
   "cell_type": "markdown",
   "metadata": {},
   "source": [
    "### scale ratingm, so that the low-freq words (negative ones) can have effects in variation"
   ]
  },
  {
   "cell_type": "code",
   "execution_count": 16,
   "metadata": {
    "collapsed": true
   },
   "outputs": [],
   "source": [
    "scaler = StandardScaler()"
   ]
  },
  {
   "cell_type": "code",
   "execution_count": 17,
   "metadata": {
    "collapsed": true
   },
   "outputs": [],
   "source": [
    "# scale ratingm along the feature columns, so that the low-freq words (negative ones) can have effects in variation\n",
    "# ratingm_scaled = scale(ratingm)\n",
    "scaler.fit(ratingm)\n",
    "ratingm_scaled = scaler.transform(ratingm)"
   ]
  },
  {
   "cell_type": "code",
   "execution_count": 429,
   "metadata": {
    "collapsed": false
   },
   "outputs": [
    {
     "data": {
      "text/plain": [
       "array([ 1.,  1.,  1.,  1.,  1.,  1.,  1.,  1.,  1.,  1.,  1.,  1.,  1.,  1.])"
      ]
     },
     "execution_count": 429,
     "metadata": {},
     "output_type": "execute_result"
    }
   ],
   "source": [
    "ratingm_scaled.std(axis=0)"
   ]
  },
  {
   "cell_type": "code",
   "execution_count": 19,
   "metadata": {
    "collapsed": false
   },
   "outputs": [
    {
     "data": {
      "text/plain": [
       "(1535, 14)"
      ]
     },
     "execution_count": 19,
     "metadata": {},
     "output_type": "execute_result"
    }
   ],
   "source": [
    "ratingm_scaled.shape"
   ]
  },
  {
   "cell_type": "markdown",
   "metadata": {},
   "source": [
    "###scale the test rating matrix with the same scaler "
   ]
  },
  {
   "cell_type": "code",
   "execution_count": 430,
   "metadata": {
    "collapsed": false
   },
   "outputs": [],
   "source": [
    "test_ratingsm_scaled = scaler.transform(test_ratingsm)"
   ]
  },
  {
   "cell_type": "markdown",
   "metadata": {},
   "source": [
    "##### Note the stds are not exactly one, but close enough"
   ]
  },
  {
   "cell_type": "code",
   "execution_count": 432,
   "metadata": {
    "collapsed": false
   },
   "outputs": [
    {
     "data": {
      "text/plain": [
       "array([ 0.89602648,  0.7195226 ,  0.88194508,  0.96595317,  1.01244566,\n",
       "        1.02365363,  0.91735001,  0.9867154 ,  0.96879184,  1.10958519,\n",
       "        0.98588827,  1.16896152,  1.01695255,  0.94337894])"
      ]
     },
     "execution_count": 432,
     "metadata": {},
     "output_type": "execute_result"
    }
   ],
   "source": [
    "test_ratingsm_scaled.std(axis=0)"
   ]
  },
  {
   "cell_type": "code",
   "execution_count": 438,
   "metadata": {
    "collapsed": false
   },
   "outputs": [
    {
     "data": {
      "text/plain": [
       "(350, 14)"
      ]
     },
     "execution_count": 438,
     "metadata": {},
     "output_type": "execute_result"
    }
   ],
   "source": [
    "test_ratingsm_scaled.shape"
   ]
  },
  {
   "cell_type": "markdown",
   "metadata": {},
   "source": [
    "### Reduce dimension using PCA prior to clustering "
   ]
  },
  {
   "cell_type": "code",
   "execution_count": 20,
   "metadata": {
    "collapsed": true
   },
   "outputs": [],
   "source": [
    "pca = PCA(n_components=8)\n",
    "reduced = pca.fit_transform(ratingm_scaled)"
   ]
  },
  {
   "cell_type": "code",
   "execution_count": 21,
   "metadata": {
    "collapsed": false
   },
   "outputs": [
    {
     "name": "stdout",
     "output_type": "stream",
     "text": [
      "0.860651811267 variation has been explained by 10 components\n"
     ]
    }
   ],
   "source": [
    "print '{} variation has been explained by 10 components'.format(pca.explained_variance_ratio_.sum())"
   ]
  },
  {
   "cell_type": "markdown",
   "metadata": {},
   "source": [
    "### Reduce the dimension of test set using the same PCA "
   ]
  },
  {
   "cell_type": "code",
   "execution_count": 476,
   "metadata": {
    "collapsed": true
   },
   "outputs": [],
   "source": [
    "reduced_test_ratingsm = pca.transform(test_ratingsm_scaled)"
   ]
  },
  {
   "cell_type": "markdown",
   "metadata": {},
   "source": [
    "###Find the right number of clusters "
   ]
  },
  {
   "cell_type": "code",
   "execution_count": 22,
   "metadata": {
    "collapsed": true
   },
   "outputs": [],
   "source": [
    "n_cluster = xrange(1,21)"
   ]
  },
  {
   "cell_type": "code",
   "execution_count": 33,
   "metadata": {
    "collapsed": false
   },
   "outputs": [
    {
     "name": "stdout",
     "output_type": "stream",
     "text": [
      "the inertia is 18495.4074241 for 1 cluters\n",
      "the inertia is 15195.0290181 for 2 cluters\n",
      "the inertia is 12648.1683938 for 3 cluters\n",
      "the inertia is 10874.4574054 for 4 cluters\n",
      "the inertia is 9788.10966198 for 5 cluters\n",
      "the inertia is 8989.84333516 for 6 cluters\n",
      "the inertia is 8318.86759345 for 7 cluters\n",
      "the inertia is 7819.90163291 for 8 cluters\n",
      "the inertia is 7358.8188497 for 9 cluters\n",
      "the inertia is 6940.19578224 for 10 cluters\n",
      "the inertia is 6616.09650682 for 11 cluters\n",
      "the inertia is 6403.13391032 for 12 cluters\n",
      "the inertia is 6221.93070289 for 13 cluters\n",
      "the inertia is 6051.23609475 for 14 cluters\n",
      "the inertia is 5890.37229129 for 15 cluters\n",
      "the inertia is 5737.98606432 for 16 cluters\n",
      "the inertia is 5591.11808381 for 17 cluters\n",
      "the inertia is 5453.3878212 for 18 cluters\n",
      "the inertia is 5339.35684316 for 19 cluters\n",
      "the inertia is 5210.64377632 for 20 cluters\n"
     ]
    }
   ],
   "source": [
    "inertias = []\n",
    "for num in n_cluster:\n",
    "    clf0 = KMeans(n_clusters = num,n_init = 30)\n",
    "    clf0.fit(reduced)\n",
    "    print 'the inertia is {} for {} cluters'.format(clf0.inertia_,num)\n",
    "    inertias.append(clf0.inertia_)"
   ]
  },
  {
   "cell_type": "code",
   "execution_count": 34,
   "metadata": {
    "collapsed": false
   },
   "outputs": [
    {
     "data": {
      "text/plain": [
       "<matplotlib.text.Text at 0x10e1e6290>"
      ]
     },
     "execution_count": 34,
     "metadata": {},
     "output_type": "execute_result"
    },
    {
     "data": {
      "image/png": "[encoded data removed]",
      "text/plain": [
       "<matplotlib.figure.Figure at 0x10e256610>"
      ]
     },
     "metadata": {},
     "output_type": "display_data"
    }
   ],
   "source": [
    "plt.scatter(x = n_cluster, y = inertias, marker = 'o')\n",
    "plt.xlabel('number of formed clusters')\n",
    "plt.ylabel('Inertia')"
   ]
  },
  {
   "cell_type": "markdown",
   "metadata": {},
   "source": [
    "#### Choose 5 clusters, look at the centroids"
   ]
  },
  {
   "cell_type": "code",
   "execution_count": 384,
   "metadata": {
    "collapsed": false
   },
   "outputs": [
    {
     "data": {
      "text/plain": [
       "KMeans(copy_x=True, init='k-means++', max_iter=300, n_clusters=5, n_init=10,\n",
       "    n_jobs=1, precompute_distances='auto', random_state=58, tol=0.0001,\n",
       "    verbose=0)"
      ]
     },
     "execution_count": 384,
     "metadata": {},
     "output_type": "execute_result"
    }
   ],
   "source": [
    "clf = KMeans(n_clusters = 5,random_state=58)\n",
    "clf.fit(reduced)"
   ]
  },
  {
   "cell_type": "code",
   "execution_count": 385,
   "metadata": {
    "collapsed": false
   },
   "outputs": [
    {
     "data": {
      "text/plain": [
       "9788.0971657649752"
      ]
     },
     "execution_count": 385,
     "metadata": {},
     "output_type": "execute_result"
    }
   ],
   "source": [
    "clf.inertia_"
   ]
  },
  {
   "cell_type": "code",
   "execution_count": 386,
   "metadata": {
    "collapsed": false
   },
   "outputs": [
    {
     "data": {
      "text/plain": [
       "1535"
      ]
     },
     "execution_count": 386,
     "metadata": {},
     "output_type": "execute_result"
    }
   ],
   "source": [
    "len(clf.labels_)"
   ]
  },
  {
   "cell_type": "code",
   "execution_count": 387,
   "metadata": {
    "collapsed": false
   },
   "outputs": [
    {
     "data": {
      "text/plain": [
       "4"
      ]
     },
     "execution_count": 387,
     "metadata": {},
     "output_type": "execute_result"
    }
   ],
   "source": [
    "clf.labels_[0]"
   ]
  },
  {
   "cell_type": "code",
   "execution_count": 388,
   "metadata": {
    "collapsed": true
   },
   "outputs": [],
   "source": [
    "cents = clf.cluster_centers_"
   ]
  },
  {
   "cell_type": "code",
   "execution_count": 389,
   "metadata": {
    "collapsed": true
   },
   "outputs": [],
   "source": [
    "# get the original space\n",
    "cents_ori = pca.inverse_transform(cents)"
   ]
  },
  {
   "cell_type": "code",
   "execution_count": 390,
   "metadata": {
    "collapsed": false
   },
   "outputs": [
    {
     "data": {
      "text/plain": [
       "(5, 14)"
      ]
     },
     "execution_count": 390,
     "metadata": {},
     "output_type": "execute_result"
    }
   ],
   "source": [
    "cents_ori.shape"
   ]
  },
  {
   "cell_type": "code",
   "execution_count": 391,
   "metadata": {
    "collapsed": true
   },
   "outputs": [],
   "source": [
    "cents_ori_df = pd.DataFrame(cents_ori,columns = ratingwords)"
   ]
  },
  {
   "cell_type": "code",
   "execution_count": 392,
   "metadata": {
    "collapsed": false
   },
   "outputs": [
    {
     "data": {
      "text/html": [
       "<div style=\"max-height:1000px;max-width:1500px;overflow:auto;\">\n",
       "<table border=\"1\" class=\"dataframe\">\n",
       "  <thead>\n",
       "    <tr style=\"text-align: right;\">\n",
       "      <th></th>\n",
       "      <th>Beautiful</th>\n",
       "      <th>Confusing</th>\n",
       "      <th>Courageous</th>\n",
       "      <th>Fascinating</th>\n",
       "      <th>Funny</th>\n",
       "      <th>Informative</th>\n",
       "      <th>Ingenious</th>\n",
       "      <th>Inspiring</th>\n",
       "      <th>Jaw-dropping</th>\n",
       "      <th>Longwinded</th>\n",
       "      <th>OK</th>\n",
       "      <th>Obnoxious</th>\n",
       "      <th>Persuasive</th>\n",
       "      <th>Unconvincing</th>\n",
       "    </tr>\n",
       "  </thead>\n",
       "  <tbody>\n",
       "    <tr>\n",
       "      <th>0</th>\n",
       "      <td>-0.556412</td>\n",
       "      <td>-0.164345</td>\n",
       "      <td>-0.228553</td>\n",
       "      <td>0.047684</td>\n",
       "      <td>-0.255374</td>\n",
       "      <td>0.951846</td>\n",
       "      <td>-0.354386</td>\n",
       "      <td>-0.259143</td>\n",
       "      <td>-0.317342</td>\n",
       "      <td>0.029564</td>\n",
       "      <td>0.060195</td>\n",
       "      <td>-0.181935</td>\n",
       "      <td>0.874045</td>\n",
       "      <td>0.033963</td>\n",
       "    </tr>\n",
       "    <tr>\n",
       "      <th>1</th>\n",
       "      <td>0.703759</td>\n",
       "      <td>-0.413240</td>\n",
       "      <td>1.013337</td>\n",
       "      <td>-0.683771</td>\n",
       "      <td>-0.251029</td>\n",
       "      <td>-0.742740</td>\n",
       "      <td>-0.467599</td>\n",
       "      <td>1.150218</td>\n",
       "      <td>-0.173866</td>\n",
       "      <td>-0.330435</td>\n",
       "      <td>-0.439749</td>\n",
       "      <td>-0.276203</td>\n",
       "      <td>-0.108065</td>\n",
       "      <td>-0.418202</td>\n",
       "    </tr>\n",
       "    <tr>\n",
       "      <th>2</th>\n",
       "      <td>0.051366</td>\n",
       "      <td>-0.190492</td>\n",
       "      <td>-0.575455</td>\n",
       "      <td>1.034983</td>\n",
       "      <td>-0.188326</td>\n",
       "      <td>-0.175858</td>\n",
       "      <td>1.098766</td>\n",
       "      <td>-0.425898</td>\n",
       "      <td>1.036031</td>\n",
       "      <td>-0.411621</td>\n",
       "      <td>-0.425263</td>\n",
       "      <td>-0.387282</td>\n",
       "      <td>-0.672068</td>\n",
       "      <td>-0.367893</td>\n",
       "    </tr>\n",
       "    <tr>\n",
       "      <th>3</th>\n",
       "      <td>-0.165292</td>\n",
       "      <td>1.729411</td>\n",
       "      <td>-0.363531</td>\n",
       "      <td>-0.374332</td>\n",
       "      <td>-0.111561</td>\n",
       "      <td>-0.134240</td>\n",
       "      <td>-0.193229</td>\n",
       "      <td>-0.696899</td>\n",
       "      <td>-0.481320</td>\n",
       "      <td>1.586842</td>\n",
       "      <td>1.497543</td>\n",
       "      <td>1.490613</td>\n",
       "      <td>-0.347203</td>\n",
       "      <td>1.767707</td>\n",
       "    </tr>\n",
       "    <tr>\n",
       "      <th>4</th>\n",
       "      <td>-0.170562</td>\n",
       "      <td>0.073118</td>\n",
       "      <td>-0.406284</td>\n",
       "      <td>-0.340861</td>\n",
       "      <td>2.813481</td>\n",
       "      <td>-0.486866</td>\n",
       "      <td>0.064321</td>\n",
       "      <td>-0.730878</td>\n",
       "      <td>-0.531799</td>\n",
       "      <td>-0.127135</td>\n",
       "      <td>0.340642</td>\n",
       "      <td>0.647723</td>\n",
       "      <td>-0.609248</td>\n",
       "      <td>-0.247675</td>\n",
       "    </tr>\n",
       "  </tbody>\n",
       "</table>\n",
       "</div>"
      ],
      "text/plain": [
       "   Beautiful  Confusing  Courageous  Fascinating     Funny  Informative  \\\n",
       "0  -0.556412  -0.164345   -0.228553     0.047684 -0.255374     0.951846   \n",
       "1   0.703759  -0.413240    1.013337    -0.683771 -0.251029    -0.742740   \n",
       "2   0.051366  -0.190492   -0.575455     1.034983 -0.188326    -0.175858   \n",
       "3  -0.165292   1.729411   -0.363531    -0.374332 -0.111561    -0.134240   \n",
       "4  -0.170562   0.073118   -0.406284    -0.340861  2.813481    -0.486866   \n",
       "\n",
       "   Ingenious  Inspiring  Jaw-dropping  Longwinded        OK  Obnoxious  \\\n",
       "0  -0.354386  -0.259143     -0.317342    0.029564  0.060195  -0.181935   \n",
       "1  -0.467599   1.150218     -0.173866   -0.330435 -0.439749  -0.276203   \n",
       "2   1.098766  -0.425898      1.036031   -0.411621 -0.425263  -0.387282   \n",
       "3  -0.193229  -0.696899     -0.481320    1.586842  1.497543   1.490613   \n",
       "4   0.064321  -0.730878     -0.531799   -0.127135  0.340642   0.647723   \n",
       "\n",
       "   Persuasive  Unconvincing  \n",
       "0    0.874045      0.033963  \n",
       "1   -0.108065     -0.418202  \n",
       "2   -0.672068     -0.367893  \n",
       "3   -0.347203      1.767707  \n",
       "4   -0.609248     -0.247675  "
      ]
     },
     "execution_count": 392,
     "metadata": {},
     "output_type": "execute_result"
    }
   ],
   "source": [
    "cents_ori_df"
   ]
  },
  {
   "cell_type": "markdown",
   "metadata": {},
   "source": [
    "#### so the above five clusters indicate the following associations\n",
    "2: (Fascinating, Ingenious, Jaw-dropping)\n",
    "\n",
    "0: (Informative, Persuasive)\n",
    "\n",
    "3: (confusing, longwinded, OK, Obnoxious, Unconvincing)\n",
    "\n",
    "1: (Beautiful,Courageous,Inspiring)\n",
    "\n",
    "4: (Funny)"
   ]
  },
  {
   "cell_type": "markdown",
   "metadata": {},
   "source": [
    "#### For now, save labels as the response variable "
   ]
  },
  {
   "cell_type": "code",
   "execution_count": 393,
   "metadata": {
    "collapsed": true
   },
   "outputs": [],
   "source": [
    "response = clf.labels_"
   ]
  },
  {
   "cell_type": "code",
   "execution_count": 394,
   "metadata": {
    "collapsed": false
   },
   "outputs": [
    {
     "data": {
      "text/plain": [
       "numpy.ndarray"
      ]
     },
     "execution_count": 394,
     "metadata": {},
     "output_type": "execute_result"
    }
   ],
   "source": [
    "type(response)"
   ]
  },
  {
   "cell_type": "code",
   "execution_count": 395,
   "metadata": {
    "collapsed": false
   },
   "outputs": [
    {
     "data": {
      "text/plain": [
       "(1535,)"
      ]
     },
     "execution_count": 395,
     "metadata": {},
     "output_type": "execute_result"
    }
   ],
   "source": [
    "response.shape"
   ]
  },
  {
   "cell_type": "code",
   "execution_count": 58,
   "metadata": {
    "collapsed": false
   },
   "outputs": [],
   "source": [
    "response = pd.Series(response,index = train['id'])"
   ]
  },
  {
   "cell_type": "code",
   "execution_count": 59,
   "metadata": {
    "collapsed": false
   },
   "outputs": [],
   "source": [
    "response.to_csv('response5.csv',index_label='id')"
   ]
  },
  {
   "cell_type": "markdown",
   "metadata": {
    "collapsed": true
   },
   "source": [
    "###Get the test labels through calculating their distance to each of the centroids, and get the smallest "
   ]
  },
  {
   "cell_type": "code",
   "execution_count": 477,
   "metadata": {
    "collapsed": false
   },
   "outputs": [
    {
     "data": {
      "text/plain": [
       "(350, 8)"
      ]
     },
     "execution_count": 477,
     "metadata": {},
     "output_type": "execute_result"
    }
   ],
   "source": [
    "reduced_test_ratingsm.shape"
   ]
  },
  {
   "cell_type": "code",
   "execution_count": 478,
   "metadata": {
    "collapsed": false
   },
   "outputs": [],
   "source": [
    "to_cents = clf.transform(reduced_test_ratingsm)"
   ]
  },
  {
   "cell_type": "code",
   "execution_count": 479,
   "metadata": {
    "collapsed": false
   },
   "outputs": [
    {
     "data": {
      "text/plain": [
       "(350, 5)"
      ]
     },
     "execution_count": 479,
     "metadata": {},
     "output_type": "execute_result"
    }
   ],
   "source": [
    "to_cents.shape"
   ]
  },
  {
   "cell_type": "code",
   "execution_count": 480,
   "metadata": {
    "collapsed": true
   },
   "outputs": [],
   "source": [
    "to_cents = pd.DataFrame(to_cents, columns = [0,1,2,3,4])"
   ]
  },
  {
   "cell_type": "code",
   "execution_count": 481,
   "metadata": {
    "collapsed": false
   },
   "outputs": [
    {
     "data": {
      "text/html": [
       "<div style=\"max-height:1000px;max-width:1500px;overflow:auto;\">\n",
       "<table border=\"1\" class=\"dataframe\">\n",
       "  <thead>\n",
       "    <tr style=\"text-align: right;\">\n",
       "      <th></th>\n",
       "      <th>0</th>\n",
       "      <th>1</th>\n",
       "      <th>2</th>\n",
       "      <th>3</th>\n",
       "      <th>4</th>\n",
       "    </tr>\n",
       "  </thead>\n",
       "  <tbody>\n",
       "    <tr>\n",
       "      <th>0</th>\n",
       "      <td>4.803445</td>\n",
       "      <td>5.391871</td>\n",
       "      <td>2.166353</td>\n",
       "      <td>6.492351</td>\n",
       "      <td>5.65912</td>\n",
       "    </tr>\n",
       "    <tr>\n",
       "      <th>1</th>\n",
       "      <td>2.726084</td>\n",
       "      <td>2.347600</td>\n",
       "      <td>4.255648</td>\n",
       "      <td>5.924577</td>\n",
       "      <td>5.17906</td>\n",
       "    </tr>\n",
       "  </tbody>\n",
       "</table>\n",
       "</div>"
      ],
      "text/plain": [
       "          0         1         2         3        4\n",
       "0  4.803445  5.391871  2.166353  6.492351  5.65912\n",
       "1  2.726084  2.347600  4.255648  5.924577  5.17906"
      ]
     },
     "execution_count": 481,
     "metadata": {},
     "output_type": "execute_result"
    }
   ],
   "source": [
    "to_cents.head(2)"
   ]
  },
  {
   "cell_type": "code",
   "execution_count": 482,
   "metadata": {
    "collapsed": true
   },
   "outputs": [],
   "source": [
    "labels = []\n",
    "for ind, row in to_cents.iterrows():\n",
    "    label = row.idxmin()\n",
    "    labels.append(label)"
   ]
  },
  {
   "cell_type": "code",
   "execution_count": 483,
   "metadata": {
    "collapsed": true
   },
   "outputs": [],
   "source": [
    "to_cents['label'] = labels"
   ]
  },
  {
   "cell_type": "code",
   "execution_count": 484,
   "metadata": {
    "collapsed": false
   },
   "outputs": [
    {
     "data": {
      "text/html": [
       "<div style=\"max-height:1000px;max-width:1500px;overflow:auto;\">\n",
       "<table border=\"1\" class=\"dataframe\">\n",
       "  <thead>\n",
       "    <tr style=\"text-align: right;\">\n",
       "      <th></th>\n",
       "      <th>0</th>\n",
       "      <th>1</th>\n",
       "      <th>2</th>\n",
       "      <th>3</th>\n",
       "      <th>4</th>\n",
       "      <th>label</th>\n",
       "    </tr>\n",
       "  </thead>\n",
       "  <tbody>\n",
       "    <tr>\n",
       "      <th>0</th>\n",
       "      <td>4.803445</td>\n",
       "      <td>5.391871</td>\n",
       "      <td>2.166353</td>\n",
       "      <td>6.492351</td>\n",
       "      <td>5.659120</td>\n",
       "      <td>2</td>\n",
       "    </tr>\n",
       "    <tr>\n",
       "      <th>1</th>\n",
       "      <td>2.726084</td>\n",
       "      <td>2.347600</td>\n",
       "      <td>4.255648</td>\n",
       "      <td>5.924577</td>\n",
       "      <td>5.179060</td>\n",
       "      <td>1</td>\n",
       "    </tr>\n",
       "    <tr>\n",
       "      <th>2</th>\n",
       "      <td>3.584621</td>\n",
       "      <td>1.424049</td>\n",
       "      <td>4.216521</td>\n",
       "      <td>5.268421</td>\n",
       "      <td>4.742974</td>\n",
       "      <td>1</td>\n",
       "    </tr>\n",
       "    <tr>\n",
       "      <th>3</th>\n",
       "      <td>6.843279</td>\n",
       "      <td>6.818949</td>\n",
       "      <td>6.264815</td>\n",
       "      <td>7.476249</td>\n",
       "      <td>3.480401</td>\n",
       "      <td>4</td>\n",
       "    </tr>\n",
       "    <tr>\n",
       "      <th>4</th>\n",
       "      <td>4.434056</td>\n",
       "      <td>3.190355</td>\n",
       "      <td>2.838952</td>\n",
       "      <td>6.195582</td>\n",
       "      <td>5.233601</td>\n",
       "      <td>2</td>\n",
       "    </tr>\n",
       "    <tr>\n",
       "      <th>5</th>\n",
       "      <td>3.513637</td>\n",
       "      <td>4.263589</td>\n",
       "      <td>3.987027</td>\n",
       "      <td>3.203114</td>\n",
       "      <td>4.207114</td>\n",
       "      <td>3</td>\n",
       "    </tr>\n",
       "    <tr>\n",
       "      <th>6</th>\n",
       "      <td>2.427438</td>\n",
       "      <td>4.045582</td>\n",
       "      <td>3.891609</td>\n",
       "      <td>3.130650</td>\n",
       "      <td>3.258486</td>\n",
       "      <td>0</td>\n",
       "    </tr>\n",
       "    <tr>\n",
       "      <th>7</th>\n",
       "      <td>1.863545</td>\n",
       "      <td>2.768831</td>\n",
       "      <td>4.085037</td>\n",
       "      <td>4.889569</td>\n",
       "      <td>4.722872</td>\n",
       "      <td>0</td>\n",
       "    </tr>\n",
       "    <tr>\n",
       "      <th>8</th>\n",
       "      <td>4.361548</td>\n",
       "      <td>1.411188</td>\n",
       "      <td>4.342276</td>\n",
       "      <td>5.649748</td>\n",
       "      <td>5.050606</td>\n",
       "      <td>1</td>\n",
       "    </tr>\n",
       "    <tr>\n",
       "      <th>9</th>\n",
       "      <td>2.772204</td>\n",
       "      <td>4.108533</td>\n",
       "      <td>5.084775</td>\n",
       "      <td>6.004385</td>\n",
       "      <td>5.601200</td>\n",
       "      <td>0</td>\n",
       "    </tr>\n",
       "  </tbody>\n",
       "</table>\n",
       "</div>"
      ],
      "text/plain": [
       "          0         1         2         3         4  label\n",
       "0  4.803445  5.391871  2.166353  6.492351  5.659120      2\n",
       "1  2.726084  2.347600  4.255648  5.924577  5.179060      1\n",
       "2  3.584621  1.424049  4.216521  5.268421  4.742974      1\n",
       "3  6.843279  6.818949  6.264815  7.476249  3.480401      4\n",
       "4  4.434056  3.190355  2.838952  6.195582  5.233601      2\n",
       "5  3.513637  4.263589  3.987027  3.203114  4.207114      3\n",
       "6  2.427438  4.045582  3.891609  3.130650  3.258486      0\n",
       "7  1.863545  2.768831  4.085037  4.889569  4.722872      0\n",
       "8  4.361548  1.411188  4.342276  5.649748  5.050606      1\n",
       "9  2.772204  4.108533  5.084775  6.004385  5.601200      0"
      ]
     },
     "execution_count": 484,
     "metadata": {},
     "output_type": "execute_result"
    }
   ],
   "source": [
    "to_cents.head(10)"
   ]
  },
  {
   "cell_type": "code",
   "execution_count": 485,
   "metadata": {
    "collapsed": false
   },
   "outputs": [
    {
     "data": {
      "text/html": [
       "<div style=\"max-height:1000px;max-width:1500px;overflow:auto;\">\n",
       "<table border=\"1\" class=\"dataframe\">\n",
       "  <thead>\n",
       "    <tr style=\"text-align: right;\">\n",
       "      <th></th>\n",
       "      <th>Beautiful</th>\n",
       "      <th>Confusing</th>\n",
       "      <th>Courageous</th>\n",
       "      <th>Fascinating</th>\n",
       "      <th>Funny</th>\n",
       "      <th>Informative</th>\n",
       "      <th>Ingenious</th>\n",
       "      <th>Inspiring</th>\n",
       "      <th>Jaw-dropping</th>\n",
       "      <th>Longwinded</th>\n",
       "      <th>OK</th>\n",
       "      <th>Obnoxious</th>\n",
       "      <th>Persuasive</th>\n",
       "      <th>Unconvincing</th>\n",
       "    </tr>\n",
       "    <tr>\n",
       "      <th>id</th>\n",
       "      <th></th>\n",
       "      <th></th>\n",
       "      <th></th>\n",
       "      <th></th>\n",
       "      <th></th>\n",
       "      <th></th>\n",
       "      <th></th>\n",
       "      <th></th>\n",
       "      <th></th>\n",
       "      <th></th>\n",
       "      <th></th>\n",
       "      <th></th>\n",
       "      <th></th>\n",
       "      <th></th>\n",
       "    </tr>\n",
       "  </thead>\n",
       "  <tbody>\n",
       "    <tr>\n",
       "      <th>1146</th>\n",
       "      <td>0.013372</td>\n",
       "      <td>0.006977</td>\n",
       "      <td>0.015116</td>\n",
       "      <td>0.250000</td>\n",
       "      <td>0.000000</td>\n",
       "      <td>0.138372</td>\n",
       "      <td>0.215698</td>\n",
       "      <td>0.081395</td>\n",
       "      <td>0.219186</td>\n",
       "      <td>0.016860</td>\n",
       "      <td>0.012209</td>\n",
       "      <td>0.006977</td>\n",
       "      <td>0.020349</td>\n",
       "      <td>0.003488</td>\n",
       "    </tr>\n",
       "    <tr>\n",
       "      <th>1153</th>\n",
       "      <td>0.032641</td>\n",
       "      <td>0.002967</td>\n",
       "      <td>0.096439</td>\n",
       "      <td>0.053412</td>\n",
       "      <td>0.000000</td>\n",
       "      <td>0.191395</td>\n",
       "      <td>0.014837</td>\n",
       "      <td>0.336795</td>\n",
       "      <td>0.059347</td>\n",
       "      <td>0.019288</td>\n",
       "      <td>0.007418</td>\n",
       "      <td>0.000000</td>\n",
       "      <td>0.182493</td>\n",
       "      <td>0.002967</td>\n",
       "    </tr>\n",
       "    <tr>\n",
       "      <th>1154</th>\n",
       "      <td>0.117083</td>\n",
       "      <td>0.007678</td>\n",
       "      <td>0.219770</td>\n",
       "      <td>0.078695</td>\n",
       "      <td>0.008637</td>\n",
       "      <td>0.131478</td>\n",
       "      <td>0.004798</td>\n",
       "      <td>0.272553</td>\n",
       "      <td>0.036468</td>\n",
       "      <td>0.016315</td>\n",
       "      <td>0.029750</td>\n",
       "      <td>0.013436</td>\n",
       "      <td>0.039347</td>\n",
       "      <td>0.023992</td>\n",
       "    </tr>\n",
       "    <tr>\n",
       "      <th>223</th>\n",
       "      <td>0.020984</td>\n",
       "      <td>0.001085</td>\n",
       "      <td>0.025326</td>\n",
       "      <td>0.093343</td>\n",
       "      <td>0.563314</td>\n",
       "      <td>0.003256</td>\n",
       "      <td>0.041245</td>\n",
       "      <td>0.020260</td>\n",
       "      <td>0.142547</td>\n",
       "      <td>0.019537</td>\n",
       "      <td>0.042692</td>\n",
       "      <td>0.016643</td>\n",
       "      <td>0.005065</td>\n",
       "      <td>0.004703</td>\n",
       "    </tr>\n",
       "    <tr>\n",
       "      <th>103</th>\n",
       "      <td>0.174612</td>\n",
       "      <td>0.004753</td>\n",
       "      <td>0.047113</td>\n",
       "      <td>0.149448</td>\n",
       "      <td>0.010206</td>\n",
       "      <td>0.054383</td>\n",
       "      <td>0.036488</td>\n",
       "      <td>0.249546</td>\n",
       "      <td>0.215714</td>\n",
       "      <td>0.013281</td>\n",
       "      <td>0.012303</td>\n",
       "      <td>0.002377</td>\n",
       "      <td>0.026422</td>\n",
       "      <td>0.003355</td>\n",
       "    </tr>\n",
       "    <tr>\n",
       "      <th>1187</th>\n",
       "      <td>0.141935</td>\n",
       "      <td>0.018065</td>\n",
       "      <td>0.009032</td>\n",
       "      <td>0.158710</td>\n",
       "      <td>0.014194</td>\n",
       "      <td>0.172903</td>\n",
       "      <td>0.038710</td>\n",
       "      <td>0.145806</td>\n",
       "      <td>0.024516</td>\n",
       "      <td>0.015484</td>\n",
       "      <td>0.147097</td>\n",
       "      <td>0.027097</td>\n",
       "      <td>0.025806</td>\n",
       "      <td>0.060645</td>\n",
       "    </tr>\n",
       "    <tr>\n",
       "      <th>105</th>\n",
       "      <td>0.011834</td>\n",
       "      <td>0.020710</td>\n",
       "      <td>0.012821</td>\n",
       "      <td>0.085799</td>\n",
       "      <td>0.126233</td>\n",
       "      <td>0.256410</td>\n",
       "      <td>0.061144</td>\n",
       "      <td>0.156805</td>\n",
       "      <td>0.014793</td>\n",
       "      <td>0.075937</td>\n",
       "      <td>0.061144</td>\n",
       "      <td>0.011834</td>\n",
       "      <td>0.064103</td>\n",
       "      <td>0.040434</td>\n",
       "    </tr>\n",
       "    <tr>\n",
       "      <th>1189</th>\n",
       "      <td>0.016807</td>\n",
       "      <td>0.017647</td>\n",
       "      <td>0.145378</td>\n",
       "      <td>0.083193</td>\n",
       "      <td>0.001681</td>\n",
       "      <td>0.190756</td>\n",
       "      <td>0.035294</td>\n",
       "      <td>0.182353</td>\n",
       "      <td>0.026891</td>\n",
       "      <td>0.015966</td>\n",
       "      <td>0.024370</td>\n",
       "      <td>0.006723</td>\n",
       "      <td>0.218487</td>\n",
       "      <td>0.034454</td>\n",
       "    </tr>\n",
       "    <tr>\n",
       "      <th>1193</th>\n",
       "      <td>0.242326</td>\n",
       "      <td>0.013034</td>\n",
       "      <td>0.148345</td>\n",
       "      <td>0.068599</td>\n",
       "      <td>0.003258</td>\n",
       "      <td>0.029326</td>\n",
       "      <td>0.020580</td>\n",
       "      <td>0.324130</td>\n",
       "      <td>0.040302</td>\n",
       "      <td>0.016121</td>\n",
       "      <td>0.019894</td>\n",
       "      <td>0.009089</td>\n",
       "      <td>0.048705</td>\n",
       "      <td>0.016292</td>\n",
       "    </tr>\n",
       "    <tr>\n",
       "      <th>1196</th>\n",
       "      <td>0.007232</td>\n",
       "      <td>0.005917</td>\n",
       "      <td>0.134122</td>\n",
       "      <td>0.074293</td>\n",
       "      <td>0.002630</td>\n",
       "      <td>0.205128</td>\n",
       "      <td>0.024984</td>\n",
       "      <td>0.113741</td>\n",
       "      <td>0.032873</td>\n",
       "      <td>0.007890</td>\n",
       "      <td>0.011834</td>\n",
       "      <td>0.009204</td>\n",
       "      <td>0.338593</td>\n",
       "      <td>0.031558</td>\n",
       "    </tr>\n",
       "  </tbody>\n",
       "</table>\n",
       "</div>"
      ],
      "text/plain": [
       "      Beautiful  Confusing  Courageous  Fascinating     Funny  Informative  \\\n",
       "id                                                                           \n",
       "1146   0.013372   0.006977    0.015116     0.250000  0.000000     0.138372   \n",
       "1153   0.032641   0.002967    0.096439     0.053412  0.000000     0.191395   \n",
       "1154   0.117083   0.007678    0.219770     0.078695  0.008637     0.131478   \n",
       "223    0.020984   0.001085    0.025326     0.093343  0.563314     0.003256   \n",
       "103    0.174612   0.004753    0.047113     0.149448  0.010206     0.054383   \n",
       "1187   0.141935   0.018065    0.009032     0.158710  0.014194     0.172903   \n",
       "105    0.011834   0.020710    0.012821     0.085799  0.126233     0.256410   \n",
       "1189   0.016807   0.017647    0.145378     0.083193  0.001681     0.190756   \n",
       "1193   0.242326   0.013034    0.148345     0.068599  0.003258     0.029326   \n",
       "1196   0.007232   0.005917    0.134122     0.074293  0.002630     0.205128   \n",
       "\n",
       "      Ingenious  Inspiring  Jaw-dropping  Longwinded        OK  Obnoxious  \\\n",
       "id                                                                          \n",
       "1146   0.215698   0.081395      0.219186    0.016860  0.012209   0.006977   \n",
       "1153   0.014837   0.336795      0.059347    0.019288  0.007418   0.000000   \n",
       "1154   0.004798   0.272553      0.036468    0.016315  0.029750   0.013436   \n",
       "223    0.041245   0.020260      0.142547    0.019537  0.042692   0.016643   \n",
       "103    0.036488   0.249546      0.215714    0.013281  0.012303   0.002377   \n",
       "1187   0.038710   0.145806      0.024516    0.015484  0.147097   0.027097   \n",
       "105    0.061144   0.156805      0.014793    0.075937  0.061144   0.011834   \n",
       "1189   0.035294   0.182353      0.026891    0.015966  0.024370   0.006723   \n",
       "1193   0.020580   0.324130      0.040302    0.016121  0.019894   0.009089   \n",
       "1196   0.024984   0.113741      0.032873    0.007890  0.011834   0.009204   \n",
       "\n",
       "      Persuasive  Unconvincing  \n",
       "id                              \n",
       "1146    0.020349      0.003488  \n",
       "1153    0.182493      0.002967  \n",
       "1154    0.039347      0.023992  \n",
       "223     0.005065      0.004703  \n",
       "103     0.026422      0.003355  \n",
       "1187    0.025806      0.060645  \n",
       "105     0.064103      0.040434  \n",
       "1189    0.218487      0.034454  \n",
       "1193    0.048705      0.016292  \n",
       "1196    0.338593      0.031558  "
      ]
     },
     "execution_count": 485,
     "metadata": {},
     "output_type": "execute_result"
    }
   ],
   "source": [
    "test_ratings.head(10)"
   ]
  },
  {
   "cell_type": "code",
   "execution_count": 488,
   "metadata": {
    "collapsed": false
   },
   "outputs": [],
   "source": [
    "test_response = pd.Series(labels,index = test['id'])"
   ]
  },
  {
   "cell_type": "code",
   "execution_count": 490,
   "metadata": {
    "collapsed": false
   },
   "outputs": [],
   "source": [
    "test_response.to_csv('test_response.csv',index_label='id')"
   ]
  },
  {
   "cell_type": "code",
   "execution_count": null,
   "metadata": {
    "collapsed": true
   },
   "outputs": [],
   "source": []
  }
 ],
 "metadata": {
  "kernelspec": {
   "display_name": "Python 2",
   "language": "python",
   "name": "python2"
  },
  "language_info": {
   "codemirror_mode": {
    "name": "ipython",
    "version": 2
   },
   "file_extension": ".py",
   "mimetype": "text/x-python",
   "name": "python",
   "nbconvert_exporter": "python",
   "pygments_lexer": "ipython2",
   "version": "2.7.10"
  }
 },
 "nbformat": 4,
 "nbformat_minor": 0
}
