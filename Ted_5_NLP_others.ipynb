{
 "cells": [
  {
   "cell_type": "markdown",
   "metadata": {},
   "source": [
    "##Date:  05/20/2015"
   ]
  },
  {
   "cell_type": "code",
   "execution_count": 18,
   "metadata": {
    "collapsed": true
   },
   "outputs": [],
   "source": [
    "import pandas as pd\n",
    "import numpy as np\n",
    "import matplotlib.pylab as plt\n",
    "import seaborn as sns\n",
    "%matplotlib inline\n",
    "import requests\n",
    "from pattern import web"
   ]
  },
  {
   "cell_type": "code",
   "execution_count": 19,
   "metadata": {
    "collapsed": true
   },
   "outputs": [],
   "source": [
    "from nltk import word_tokenize\n",
    "from nltk.stem import PorterStemmer\n",
    "from nltk.stem.snowball import SnowballStemmer\n",
    "from nltk.stem.wordnet import WordNetLemmatizer\n",
    "from nltk import pos_tag\n",
    "from nltk import sent_tokenize\n",
    "from nltk.corpus import stopwords\n",
    "import re"
   ]
  },
  {
   "cell_type": "code",
   "execution_count": 20,
   "metadata": {
    "collapsed": true
   },
   "outputs": [],
   "source": [
    "from sklearn import metrics\n",
    "from sklearn.cluster import KMeans\n",
    "from sklearn.decomposition import PCA\n",
    "from sklearn.preprocessing import scale\n",
    "from unidecode import unidecode\n",
    "from sklearn.cross_validation import StratifiedShuffleSplit\n",
    "from sklearn.feature_extraction.text import TfidfVectorizer\n",
    "from sklearn.feature_extraction.text import CountVectorizer"
   ]
  },
  {
   "cell_type": "markdown",
   "metadata": {},
   "source": [
    "##1. Process speakers info "
   ]
  },
  {
   "cell_type": "markdown",
   "metadata": {},
   "source": [
    "read in the train.json file"
   ]
  },
  {
   "cell_type": "code",
   "execution_count": 21,
   "metadata": {
    "collapsed": true
   },
   "outputs": [],
   "source": [
    "talks_train = pd.read_json('train.json')"
   ]
  },
  {
   "cell_type": "code",
   "execution_count": 22,
   "metadata": {
    "collapsed": true
   },
   "outputs": [],
   "source": [
    "talks_train.reset_index(drop = True, inplace = True)"
   ]
  },
  {
   "cell_type": "code",
   "execution_count": 23,
   "metadata": {
    "collapsed": false
   },
   "outputs": [
    {
     "data": {
      "text/plain": [
       "(1535, 31)"
      ]
     },
     "execution_count": 23,
     "metadata": {},
     "output_type": "execute_result"
    }
   ],
   "source": [
    "talks_train.shape"
   ]
  },
  {
   "cell_type": "code",
   "execution_count": 24,
   "metadata": {
    "collapsed": true
   },
   "outputs": [],
   "source": [
    "# select a talk with multi-speakers as test\n",
    "test = talks_train.ix[23,'speaker_ids']"
   ]
  },
  {
   "cell_type": "code",
   "execution_count": 25,
   "metadata": {
    "collapsed": false
   },
   "outputs": [
    {
     "data": {
      "text/plain": [
       "[1057, 685]"
      ]
     },
     "execution_count": 25,
     "metadata": {},
     "output_type": "execute_result"
    }
   ],
   "source": [
    "test"
   ]
  },
  {
   "cell_type": "markdown",
   "metadata": {},
   "source": [
    "### get all speakers' info "
   ]
  },
  {
   "cell_type": "code",
   "execution_count": 4,
   "metadata": {
    "collapsed": true
   },
   "outputs": [],
   "source": [
    "url_speaker = 'https://api.ted.com/v1/speakers.json?api-key=ynw2u8e4h9sk8c2htp7vutxq'"
   ]
  },
  {
   "cell_type": "code",
   "execution_count": 5,
   "metadata": {
    "collapsed": true
   },
   "outputs": [],
   "source": [
    "params = dict(limit = 100, offset = 0)\n",
    "response = requests.get(url_speaker,params = params)"
   ]
  },
  {
   "cell_type": "code",
   "execution_count": 6,
   "metadata": {
    "collapsed": true
   },
   "outputs": [
    {
     "data": {
      "text/plain": [
       "{u'counts': {u'this': 100, u'total': 1696},\n",
       " u'speakers': [{u'speaker': {u'description': u'Climate-change prophet',\n",
       "    u'firstname': u'Al',\n",
       "    u'id': 2,\n",
       "    u'lastname': u'Gore',\n",
       "    u'middleinitial': u'',\n",
       "    u'published_at': u'2007-02-13 10:43:00',\n",
       "    u'slug': u'al_gore',\n",
       "    u'title': u'',\n",
       "    u'updated_at': u'2009-04-08 14:44:57',\n",
       "    u'whotheyare': u\"Once the US Vice President, then star of <em>An Inconvenient Truth</em>, now Nobel Peace Prize winner, Al Gore found a way to focus the world's attention on climate change. In doing so, he has invented a new medium -- the Keynote movie -- and reinvented himself.\",\n",
       "    u'whylisten': u'<p>Unlike some in public office, Al Gore always intended to get something done, and since leaving Washington, DC -- following the tumultuous 2000 election -- he&#39;s still at it. In fact, <strong>his campaign for alerting the world to the dangers of climate change</strong> has only gained momentum. His Oscar-winning <a href=\"http://www.climatecrisis.net/\" target=\"_blank\"><em>An Inconvenient Truth</em></a> is the third most successful documentary ever released at the box office. Gore&#39;s famed PowerPoint presentation has drawn in a reluctant public, with its meticulously researched content and lucid style. </p><p>Meanwhile, Gore himself has found his footing as a communicator. The once &quot;wooden&quot; style has given way to <strong>a warmth and humor that reveal the depth of his experience</strong> as a soldier, congressman, senator, veep, TV executive, teacher and author. Arguably, Gore is better positioned today than he has ever been to affect the future of our environment and world. </p><p>He was awarded the <a href=\"http://nobelprize.org/nobel_prizes/peace/laureates/2007/\">Nobel Peace Prize for 2007</a>, along with the <strong><a href=\"http://www.ipcc.ch/\">Intergovernmental Panel on Climate Change (IPCC)</a></strong>, &quot;for their efforts to build up and disseminate greater knowledge about man-made climate change, and to lay the foundations for <strong>the measures that are needed to counteract such change</strong>.&quot;</p>'}},\n",
       "  {u'speaker': {u'description': u'inventor, engineer',\n",
       "    u'firstname': u'Amy',\n",
       "    u'id': 3,\n",
       "    u'lastname': u'Smith',\n",
       "    u'middleinitial': u'',\n",
       "    u'published_at': u'2007-02-13 10:46:00',\n",
       "    u'slug': u'amy_smith',\n",
       "    u'title': u'',\n",
       "    u'updated_at': u'2010-06-30 11:15:45',\n",
       "    u'whotheyare': u'Amy Smith designs cheap, practical fixes for tough problems in developing countries. Among her many accomplishments, the MIT engineer received a MacArthur \"genius\" grant in 2004 and was the first woman to win the Lemelson-MIT Prize for turning her ideas into inventions.',\n",
       "    u'whylisten': u'<p>Mechanical engineer Amy Smith&#39;s approach to problem-solving in developing nations is refreshingly common-sense: <strong>Invent cheap, low-tech devices that use local resources, so communities can reproduce her efforts and ultimately help themselves.</strong> Smith, working with her students at MIT&#39;s&nbsp;D-Lab, has come up with several useful tools, including an incubator that stays warm without electricity, a simple grain mill, and a tool that converts farm waste into cleaner-burning charcoal. <br /><br />The inventions have earned Smith three prestigious prizes: the B.F. Goodrich Collegiate Inventors Award, the MIT-Lemelson Prize, and a MacArthur &quot;genius&quot; grant. Her course, &quot;Design for Developing Countries,&quot; is a pioneer in <strong>bringing humanitarian design into the curriculum of major institutions</strong>. Going forward, the former <a href=\"http://www.peacecorps.gov/\" target=\"_blank\">Peace Corps</a>  volunteer strives to do much more, bringing her inventiveness and boundless energy to bear on some of the world&#39;s most persistent problems.</p>'}},\n",
       "  {u'speaker': {u'description': u'President-elect of Afghanistan',\n",
       "    u'firstname': u'Ashraf',\n",
       "    u'id': 4,\n",
       "    u'lastname': u'Ghani',\n",
       "    u'middleinitial': u'',\n",
       "    u'published_at': u'2007-02-13 10:47:00',\n",
       "    u'slug': u'ashraf_ghani',\n",
       "    u'title': u'',\n",
       "    u'updated_at': u'2015-03-04 03:50:59',\n",
       "    u'whotheyare': u'Ashraf Ghani, Afghanistan\\u2019s new president-elect, and his opponent, Abdullah Abdullah, will share power in a national unity government. He previously served as Finance Minister and as a chancellor of Kabul University.',\n",
       "    u'whylisten': u'<p>Ashraf Ghani became Afghanistan&rsquo;s new president-elect on September 21, 2014. He will share power with Abdullah Abdullah in a national unity government.&nbsp;</p><p>Before Afghanistan&#39;s President Karzai asked him, at the end of 2001, to become his advisor and then Finance Minister, Ghani had spent years in academia studying state-building and social transformation, and a decade in executive positions at the&nbsp;World Bank&nbsp;trying to effect policy in these two fields. <strong>In just 30 months, he carried out radical and effective reforms (a new currency, new budget, new tariffs, etc)</strong>&nbsp;and was instrumental in preparing for the elections of October 2004. In 2006, he was a candidate to succeed Kofi Annan as Secretary General of the United Nations, and one year later, was put in the running to head the World Bank. He served as Chancellor of&nbsp;Kabul University, where he ran a program on state effectiveness. His message to the world: &quot;Afghanistan should not be approached as a charity, but as an investment.&quot;&nbsp;</p><p>With Clare Lockhart, he ran the&nbsp;Institute for State Effectiveness, which examines the relationships among citizens, the state and the market. The ISE advises countries, companies, and NGOs; once focused mainly on Afghanistan, its mission has expanded to cover the globe.</p><p>In 2009, Ghani ran against Hamid Karzai in the 2009 Afghani presidential elections, emphasizing the importance of government transparency and accountability, strong infrastructure and economic investment, and a merit-based political system. </p><p>&nbsp;</p><p style=\"margin-right: 17pt; line-height: 16pt\" class=\"MsoNormal\"><font face=\"ArialMT, Arial, Helvetica, sans-serif\" class=\"Apple-style-span\" color=\"#545454\"><br /></font></p><p>&nbsp;</p>'}},\n",
       "  {u'speaker': {u'description': u'Aircraft engineer',\n",
       "    u'firstname': u'Burt',\n",
       "    u'id': 5,\n",
       "    u'lastname': u'Rutan',\n",
       "    u'middleinitial': u'',\n",
       "    u'published_at': u'2007-02-13 10:49:00',\n",
       "    u'slug': u'burt_rutan',\n",
       "    u'title': u'',\n",
       "    u'updated_at': u'2010-06-15 15:58:14',\n",
       "    u'whotheyare': u\"In 2004, legendary spacecraft designer Burt Rutan won the $10M Ansari X-Prize for <em>SpaceShipOne,</em> the first privately funded craft to enter space twice in a two-week period. He's now collaborating with Virgin Galactic to build the first rocketship for space tourism.\",\n",
       "    u'whylisten': u'<p>Burt Rutan is widely regarded as one of the world&#39;s most important industrial designers, and his prolific contributions to air- and spacecraft design have driven the industry forward for decades. His two companies, <a href=\"http://www.rutanaircraft.com/\" target=\"_blank\">Rutan Aircraft Factory</a>  and <a href=\"http://www.scaled.com/\" target=\"_blank\">Scaled Composites</a>, have developed and flight-tested more new types of aircraft than the rest of the US industry combined. He has himself designed hundreds of aircraft, including the famous <em>Voyager,</em> which his brother piloted on a record-breaking nine-day nonstop flight around the world.&nbsp;</p><p>Rutan might also be the person to make low-cost space tourism a reality: <strong>He&#39;s one of the major players promoting entrepreneurial approaches to space exploration</strong>, and his collaboration with <a href=\"http://www.virgingalactic.com/\" target=\"_blank\">Virgin Galactic</a>  is the most promising of these efforts. SpaceShipTwo, a collaboration between Richard Branson and Rutan completed its first &quot;captive carry&quot; in March of 2010, marking the beginning of the era of commercial space exploration.</p><p>Ever the maverick, Rutan is known for both his bold proclamations and his criticism of the aerospace industry. Witness the opening line of his presentation at TED2006: &quot;Houston, we have a problem. We&#39;re entering a second generation of no progress in terms of human flight in space.&quot;</p>'}},\n",
       "  {u'speaker': {u'description': u'Car designer',\n",
       "    u'firstname': u'Chris',\n",
       "    u'id': 6,\n",
       "    u'lastname': u'Bangle',\n",
       "    u'middleinitial': u'',\n",
       "    u'published_at': u'2007-02-13 10:59:00',\n",
       "    u'slug': u'chris_bangle',\n",
       "    u'title': u'',\n",
       "    u'updated_at': u'2010-06-15 16:00:03',\n",
       "    u'whotheyare': u'Car design is a ubiquitous but often overlooked art form. As chief of design for the BMW Group, Chris Bangle has overseen cars that have been seen the world over, including BMW 7 Series and the Z4 roadster.',\n",
       "    u'whylisten': u'<p>American designer Chris Bangle understands that <strong>it can be difficult to see a car in terms of Art with a capital A</strong>. As such, he separates his work into issues of &quot;automobiles&quot; (unemotional products, causing problems such as pollution and congestion) and &quot;car-iness&quot; (an expansion of the human, and ultimately a truly artistic expression). Satisfying the tensions between these problems -- and the tensions between engineers and designers -- is, for him, the essence of his work. </p><p>Offering <strong>radical forms and ideas</strong>, Bangle has been a polarizing figure within the industry; he has overseen all of the brands within the <a href=\"http://www.bmw.com/\" target=\"_blank\">BMW</a>  family, including <a href=\"http://www.mini.com/mini_worldwide/mini_worldwide.html\" target=\"_blank\">Mini</a>  and <a href=\"http://www.rolls-roycemotorcars.com/\" target=\"_blank\">Rolls-Royce</a>. In 2009, Bangle left BMW to pursue his own personal design interests and develop his consulting firm, Chris Bangle Associates.</p>'}},\n",
       "  {u'speaker': {u'description': u'Biologist, genetics pioneer',\n",
       "    u'firstname': u'Craig',\n",
       "    u'id': 7,\n",
       "    u'lastname': u'Venter',\n",
       "    u'middleinitial': u'',\n",
       "    u'published_at': u'2007-02-13 11:00:00',\n",
       "    u'slug': u'craig_venter',\n",
       "    u'title': u'',\n",
       "    u'updated_at': u'2015-03-04 04:16:33',\n",
       "    u'whotheyare': u\"In 2001, Craig Venter made headlines for sequencing the human genome. In 2003, he started mapping the ocean's biodiversity. And now he's created the first synthetic lifeforms -- microorganisms that can produce alternative fuels.\",\n",
       "    u'whylisten': u'<p>Craig Venter, the man who led the private effort to sequence the human genome, is hard at work now on even more potentially world-changing projects. </p><p>First, there&#39;s his mission aboard the <em><a href=\"http://www.sorcerer2expedition.org/version1/HTML/main.htm\" target=\"_blank\">Sorcerer II</a>,</em> a 92-foot yacht<strong>, </strong>which, in 2006, finished its voyage around the globe to sample, catalouge and decode the genes of the ocean&#39;s unknown microorganisms. Quite a task, when you consider that there are tens of millions of microbes in a single drop of sea water. Then there&#39;s the <a href=\"http://www.jcvi.org/\" target=\"_blank\">J. Craig Venter Institute</a>, a nonprofit dedicated to researching genomics and exploring its societal implications. </p><p>In 2005, Venter founded <a href=\"http://www.syntheticgenomics.com/about.htm\" target=\"_blank\">Synthetic Genomics</a>, a private company with <strong>a provocative mission: to engineer new life forms</strong>. Its goal is to design, synthesize and assemble <a href=\"http://en.wikipedia.org/wiki/Mycoplasma_laboratorium\" target=\"_blank\">synthetic microorganisms</a>  that will produce alternative fuels, such as ethanol or hydrogen. He was on <a href=\"http://www.time.com/time/\" target=\"_blank\"><em>Time</em></a>  magzine&#39;s 2007 list of the <a href=\"http://www.time.com/time/specials/2007/time100\" target=\"_blank\">100 Most Influential People in the World.</a> </p><p>In early 2008, scientists at the J. Craig Venter Institute announced that they had manufactured the entire genome of a bacterium by painstakingly stitching together its chemical components. By sequencing a genome, scientists can begin to custom-design bootable organisms, creating biological robots that can produce from scratch chemicals humans can use, such as biofuel. And in 2010, they announced, they had created &quot;synthetic life&quot; -- DNA created digitally, inserted into a living bacterium, and remaining alive.</p>'}},\n",
       "  {u'speaker': {u'description': u'Technology columnist',\n",
       "    u'firstname': u'David',\n",
       "    u'id': 8,\n",
       "    u'lastname': u'Pogue',\n",
       "    u'middleinitial': u'',\n",
       "    u'published_at': u'2007-02-13 11:01:00',\n",
       "    u'slug': u'david_pogue',\n",
       "    u'title': u'',\n",
       "    u'updated_at': u'2013-04-23 18:24:04',\n",
       "    u'whotheyare': u'David Pogue is the personal technology columnist for the <em>New York Times</em> and a tech correspondent for CBS News. He\\'s also one of the world\\'s bestselling how-to authors, with titles in the For Dummies series and his own line of \"Missing Manual\" books. ',\n",
       "    u'whylisten': u'<p>Which cell phone to choose? What software to buy? Are camera-binoculars a necessity or novelty? As release cycles shorten and ever-shrinking gadgets hit the market with dizzying speed, it&#39;s harder and harder to know what&#39;s worth the investment. <strong>A tireless explorer of everyday technology, David Pogue investigates all the options so we don&#39;t have to.</strong> </p><p>After happily weathering installation nightmares, customer service hiccups, and an overwhelming crush of backups, upgrades and downloads, Pogue reports back with his recommendations via his many <a href=\"http://topics.nytimes.com/top/reference/timestopics/people/p/david_pogue/index.html\" target=\"_blank\">columns</a>, TV appearances and <a href=\"http://www.missingmanuals.com/\" target=\"_blank\">how-to books</a>. And he does it all with <strong>relatable insight, humor and an unsinkable sense of pun, er, fun</strong>. All that, and he sings, too.</p>'}},\n",
       "  {u'speaker': {u'description': u'Architect, experience designer',\n",
       "    u'firstname': u'David',\n",
       "    u'id': 9,\n",
       "    u'lastname': u'Rockwell',\n",
       "    u'middleinitial': u'',\n",
       "    u'published_at': u'2007-06-12 05:02:00',\n",
       "    u'slug': u'david_rockwell',\n",
       "    u'title': u'',\n",
       "    u'updated_at': u'2015-03-04 04:06:42',\n",
       "    u'whotheyare': u'Architect David Rockwell draws on his love of drama and spectacle to create fantastic, high-impact restaurants, malls, airline terminals, theater sets -- and playgrounds. ',\n",
       "    u'whylisten': u'<p><strong>David Rockwell  does dramatic design</strong>, from the sleek interiors of Nobu and the W Hotels to the exuberant Mohegan Sun Casino, from the pop-tastic scenery for the Broadway musical <em>Hairspray</em> to the sublimely hilarious high-modern sets for <em>Team America: World Police</em>. </p><p>He won the Presidential Design Award for <strong>his extraordinary work renovating New York&#39;s Grand Central Station</strong>, and his firm, the <a href=\"http://www.rockwellgroup.com/\" target=\"_blank\">Rockwell Group</a>, is designing the interior for the JetBlue terminal at New York&#39;s JFK Airport. Rockwell has published several books on his architectural and design process, including <em><a href=\"http://www.amazon.com/Pleasure-Architecture-Design-Rockwell-Group/dp/0789308029/?tag=tedspeakers-20\" target=\"_blank\">Pleasure</a>  </em>and<em> <a href=\"http://www.amazon.com/Spectacle-David-Rockwell/dp/0714845744/?tag=tedspeakers-20\" target=\"_blank\">Spectacle</a> </em> -- two qualities that abound in his work. </p><p>But Rockwell is no mere drama junkie. His designs for a temporary viewing platform at Ground Zero, constructed in the days after 9/11, demonstrate his ability to tune in to the requirements of each space. Meanwhile, a recent project takes the playfulness inherent in his work to its logical conclusion: the Imagination Playground is a free-play space for kids. The first playground is being built at Burling Slip in Manhattan, and plans are afoot to bring the concept nationwide in partnership with KaBOOM! The Burling Slip Imagination Playground is scheduled to open July of 2010.&nbsp;</p><p>With <a href=\"/speakers/chee_pearlman.html\" target=\"_blank\">Chee Pearlman</a>, Rockwell was co-curator of the TED2012 session &quot;The Design Studio.&quot;</p>'}},\n",
       "  {u'speaker': {u'description': u'Inventor',\n",
       "    u'firstname': u'Dean',\n",
       "    u'id': 10,\n",
       "    u'lastname': u'Kamen',\n",
       "    u'middleinitial': u'',\n",
       "    u'published_at': u'2007-02-13 11:03:00',\n",
       "    u'slug': u'dean_kamen',\n",
       "    u'title': u'',\n",
       "    u'updated_at': u'2009-04-13 10:28:25',\n",
       "    u'whotheyare': u'Dean Kamen landed in the limelight with the Segway, but he has been innovating since high school, with more than 150 patents under his belt. Recent projects include portable energy and water purification for the developing world, and a prosthetic arm for maimed soldiers.',\n",
       "    u'whylisten': u'<p>Dean Kamen is an innovator, but not just of things. <strong>He hopes to revolutionize attitudes, quality of life, awareness.</strong> While an undergraduate, he developed the first portable infusion device, which delivers drug treatments that once required round-the-clock hospital care. And, through his <a href=\"http://www.dekaresearch.com\" target=\"_blank\">DEKA Research and Development</a>, which he cofounded in 1982, he developed a portable dialysis machine, a vascular stent, and the <a href=\"http://www.ibotnow.com/\" target=\"_blank\">iBOT</a>  -- a motorized wheelchair that climbs stairs (Stephen Colbert took one for a spin). </p><p>Yes, he&#39;s a college dropout, but he&#39;s a huge believer in education, and in 1989 established the nonprofit <a href=\"http://www.usfirst.org/\" target=\"_blank\">FIRST (For Inspiration and Recognition of Science and Technology)</a>  to inspire teenagers to pursue careers in science. FIRST sponsors lively annual competitions, where students form teams to create the best robot. </p><p>His focus now is on off-grid electricity and water purification for developing countries; <strong>another recent project, previewed at TED2007, is a <a href=\"http://bits.blogs.nytimes.com/2007/08/08/dean-kamen-lends-a-hand-or-two/\" target=\"_blank\">prosthetic arm</a>  for maimed soldiers (read an update <a href=\"http://spectrum.ieee.org/feb08/5957\" target=\"_blank\">here</a>).</strong> He&#39;s also working on a power source for the wonderful <a href=\"http://money.cnn.com/magazines/business2/business2_archive/2007/08/01/100138830/index.htm?eref=rss_topstories\" target=\"_blank\">Think car</a>. And, with more funding in the works, we haven&#39;t seen the last of the <a href=\"http://www.segway.com/\" target=\"_blank\">Segway</a>.</p>'}},\n",
       "  {u'speaker': {u'description': u'Physician, author',\n",
       "    u'firstname': u'Dean',\n",
       "    u'id': 11,\n",
       "    u'lastname': u'Ornish',\n",
       "    u'middleinitial': u'',\n",
       "    u'published_at': u'2007-02-13 11:03:00',\n",
       "    u'slug': u'dr_dean_ornish',\n",
       "    u'title': u'Dr.',\n",
       "    u'updated_at': u'2009-04-08 14:40:43',\n",
       "    u'whotheyare': u\"Dean Ornish is a clinical professor at UCSF and founder of the Preventive Medicine Research Institute. He's a leading expert on fighting illness -- particularly heart disease with dietary and lifestyle changes.\",\n",
       "    u'whylisten': u'<p>Dr. Dean Ornish wants you to live longer, and have more fun while you&#39;re at it. He&#39;s one of the leading voices in the medical community promoting a balanced, holistic approach to health, and proving that it works. The author of <a href=\"http://www.harpercollins.com/books/9780061096273/Eat_More_Weigh_Less/index.aspx\" target=\"_blank\"><em>Eat More, Weigh Less</em></a>  and several other best-selling books, <strong>Ornish is best known for his lifestyle-based approach to fighting heart disease</strong>. </p><p>His research at the <a href=\"http://www.pmri.org/?p=0&amp;pj=index\" target=\"_blank\">Preventive Medicine Research Institute</a>  (the nonprofit he founded) clinically demonstrated that <strong>cardiovascular illnesses -- and, most recently prostate cancer -- can be treated and even reversed through diet and exercise</strong>. These findings (once thought to be physiologically implausible) have been widely chronicled in the US media, including <em><a href=\"http://www.msnbc.msn.com/id/3037964/site/newsweek/\" target=\"_blank\">Newsweek</a>,</em> for which Ornish writes a column. The fifty-something physician, who&#39;s received many honors and awards, was chosen by <em>LIFE Magazine</em> as one of the most influential members of his generation. Among his many pursuits, Ornish is now working with food corporations to help stop America&#39;s obesity pandemic from spreading around the globe.</p>'}},\n",
       "  {u'speaker': {u'description': u'Primatologist; environmentalist',\n",
       "    u'firstname': u'Jane',\n",
       "    u'id': 12,\n",
       "    u'lastname': u'Goodall',\n",
       "    u'middleinitial': u'',\n",
       "    u'published_at': u'2007-02-13 11:04:00',\n",
       "    u'slug': u'jane_goodall',\n",
       "    u'title': u'',\n",
       "    u'updated_at': u'2010-09-18 16:50:01',\n",
       "    u'whotheyare': u'Jane Goodall, dubbed by her biographer \"the woman who redefined man,\" has changed our perceptions of primates, people, and the connection between the two. Over the past 45 years, Goodall herself has also evolved -- from steadfast scientist to passionate conservationist and humanitarian.',\n",
       "    u'whylisten': u'<p>Jane Goodall hasn&#39;t exactly found the missing link, but she&#39;s come closer than just about anyone else on Earth. Her extensive research into the behavior of chimpanzees, which started in Africa in the 1960s and continues today, fundamentally altered scientific thinking about <strong>the relationship between humans and other mammals</strong>. </p><p>Goodall, who founded a research institute in her name in 1977, is an internationally recognized authority on the primate world. She&#39;s written books for adults and children, contributed to documentaries, and serves as <strong>a National Geographic explorer-in-residence, a United Nations peace messenger, and the president of Advocates for Animals</strong>. For her efforts to observe and preserve all species, Goodall has received honors and accolades from governments, nonprofits, universities, and professional organizations, including a medal from UNESCO and the French Legion of Honor in 2006.</p>'}},\n",
       "  {u'speaker': {u'description': u'Student, cancer researcher',\n",
       "    u'firstname': u'Eva',\n",
       "    u'id': 13,\n",
       "    u'lastname': u'Vertes',\n",
       "    u'middleinitial': u'',\n",
       "    u'published_at': u'2007-02-13 11:05:00',\n",
       "    u'slug': u'eva_vertes',\n",
       "    u'title': u'',\n",
       "    u'updated_at': u'2008-06-22 02:30:25',\n",
       "    u'whotheyare': u\"Eva Vertes is a microbiology prodigy. Her discovery, at age 17, of a compound that stops fruit-fly brain cells from dying was regarded as a step toward curing Alzheimer's. Now she aims to find better ways to treat -- and avoid -- cancer.\",\n",
       "    u'whylisten': u'<p>Eva Vertes may not yet have the answers she needs to cure cancer, but she&#39;s asking some important -- and radical  questions: If smoking can cause lung cancer, and drinking can cause liver cancer, is it possible that cancer is a direct result of injury? If so, <strong>could cancer be caused by the body&#39;s own repair system going awry?</strong>  </p><p>She asks this and other breathtaking questions in her conference-closing 2005 talk. <strong>Her approach marks an important shift in scientific thinking</strong>, looking in brand-new places for cancer&#39;s cause -- and its cure. Her ultimate goal, which even she calls far-fetched, is to fight cancer with cancer.</p>'}},\n",
       "  {u'speaker': {u'description': u'Architect',\n",
       "    u'firstname': u'Frank',\n",
       "    u'id': 14,\n",
       "    u'lastname': u'Gehry',\n",
       "    u'middleinitial': u'',\n",
       "    u'published_at': u'2008-01-17 00:06:00',\n",
       "    u'slug': u'frank_gehry',\n",
       "    u'title': u'',\n",
       "    u'updated_at': u'2014-12-22 18:02:47',\n",
       "    u'whotheyare': u\"A living legend, Frank Gehry has forged his own language of architecture, creating astonishing buildings all over the world, such as the Guggenheim in Bilbao, the Walt Disney Concert Hall in LA, and Manhattan's new IAC building.\",\n",
       "    u'whylisten': u'<p>Frank Gehry is one of the world&#39;s most influential architects. His designs for the likes of the <a href=\"http://www.guggenheim-bilbao.es/ingles/edificio/el_edificio.htm\" target=\"_blank\">Guggenheim Museum in Bilbao</a>  and the <a href=\"http://wdch.laphil.com/about/overview.cfm\" target=\"_blank\">Walt Disney Concert Hall</a>  in LA are <strong>bold statements that have imposed a new aesthetic of architecture on the world</strong> at large, <a href=\"http://www.nytimes.com/2007/12/23/arts/design/23ouro.html?ref=arts\" target=\"_blank\">enlivening streetscapes</a>  and creating new destinations. Gehry has extended his vision beyond brick-and-mortar too, collaborating with artists such as Claes Oldenberg and Richard Serra, and designing watches, teapots and a line of <a href=\"http://www.tiffany.com/shopping/category.aspx?cid=130340&amp;mcat=148204&amp;menu=1&amp;hppromo=CUS2&amp;\" target=\"_blank\">jewelry</a>  for Tiffany &amp; Co. </p><p>Now in his 80s, <strong>Gehry refuses to slow down or compromise his fierce vision</strong>: He and his team at <a href=\"http://www.foga.com/\" target=\"_blank\">Gehry Partners</a>  are working on a $4 billion development of the <a href=\"http://www.atlanticyards.com/\" target=\"_blank\">Atlantic Yards</a>  in Brooklyn, and a spectacular <a href=\"http://www.guggenheim.org/press_releases/release_159.html\" target=\"_blank\">Guggenheim museum in Abu Dhabi</a>, United Arab Emirates, which interprets local architecture traditions into a language all his own. Incorporating local architectural motifs without simply paying lip service to Middle Eastern culture, the building bears all the hallmarks of a classic Gehry design.</p>'}},\n",
       "  {u'speaker': {u'description': u'Experimental audio-visual artist',\n",
       "    u'firstname': u'Golan',\n",
       "    u'id': 15,\n",
       "    u'lastname': u'Levin',\n",
       "    u'middleinitial': u'',\n",
       "    u'published_at': u'2007-02-13 11:06:00',\n",
       "    u'slug': u'golan_levin',\n",
       "    u'title': u'',\n",
       "    u'updated_at': u'2009-04-08 15:01:07',\n",
       "    u'whotheyare': u'Half performance artist, half software engineer, Golan Levin manipulates the computer to create improvised soundscapes with dazzling corresponding visuals. He is at the forefront of defining new parameters for art.',\n",
       "    u'whylisten': u'<p>Having worked as an academic at MIT and a researcher specializing in computer technology and software engineering, Golan Levin now spends most of his time working as a performance artist. Rest assured his education hasn&#39;t gone to waste, however, as Levin <strong>blends high tech and customized software programs to create his own extraordinary audio and visual compositions</strong>. The results are inordinately experimental sonic and visual extravaganzas from the furthest left of the field. </p><p>Many of his pieces force audience participation, such as <em><a href=\"http://www.flong.com/telesymphony/index.html\" target=\"_blank\">Dialtones: A Telesymphony</a>,</em> <strong>a concert from 2001 entirely composed of the choreographed ringtones of his audience</strong>. Regularly exhibiting pieces in galleries around the world, and also working as an Assistant Professor of Electronic Time-Based Art at Carnegie Mellon University, Levin is unapologetically pushing boundaries to define a brave new world of what is possible.</p><p>His latest piece, <a href=\"http://www.flong.com/projects/snout/\" target=\"_blank\"><em>Double-Taker (Snout)</em></a>, is installed at the Pittsburg Museum of Art.</p>'}},\n",
       "  {u'speaker': {u'description': u'Anthropologist; expert on love',\n",
       "    u'firstname': u'Helen',\n",
       "    u'id': 17,\n",
       "    u'lastname': u'Fisher',\n",
       "    u'middleinitial': u'',\n",
       "    u'published_at': u'2007-02-13 11:08:00',\n",
       "    u'slug': u'helen_fisher',\n",
       "    u'title': u'',\n",
       "    u'updated_at': u'2014-04-15 20:17:44',\n",
       "    u'whotheyare': u\"Anthropologist Helen Fisher studies gender differences and the evolution of human emotions. She's best known as an expert on romantic love, and her beautifully penned books -- including <em>Anatomy of Love</em> and <em>Why We Love</em> -- lay bare the mysteries of our most treasured emotion.\",\n",
       "    u'whylisten': u'<p>Helen Fisher&#39;s courageous investigations of romantic love -- its evolution, its biochemical foundations and its vital importance to human society -- are informing and transforming the way we understand ourselves. <strong>Fisher describes love as a universal human drive (stronger than the sex drive; stronger than thirst or hunger; stronger perhaps than the will to live)</strong>, and her many areas of inquiry shed light on timeless human mysteries, like why we choose one partner over another. </p><p>Almost unique among scientists, <strong>Fisher explores the science of love without losing a sense of romance</strong>: Her work frequently invokes poetry, literature and art -- along with scientific findings -- helping us appreciate our love affair with love itself. In her research, and in books such as <em><a href=\"http://www.randomhouse.com/catalog/display.pperl?isbn=9780449908976\" target=\"_blank\">Anatomy of Love</a>,</em>&nbsp;<em><a href=\"http://www.holtzbrinckpublishers.com/henryholt/search/SearchBookDisplay.asp?BookKey=1291747\" target=\"_blank\">Why We Love</a>,</em>&nbsp;and her latest work<em style=\"text-decoration: underline\"> <em style=\"text-decoration: underline\">Why Him? Why Her?: How to Find and Keep Lasting Love</em>,</em><em>&nbsp;</em>Fisher looks at questions with real impact on modern life. Her latest research raises serious concerns about the widespread, long-term use of antidepressants, which may undermine our natural process of attachment by tampering with hormone levels in the brain.</p>'}},\n",
       "  {u'speaker': {u'description': u'Science writer, innovation consultant, conservationist',\n",
       "    u'firstname': u'Janine',\n",
       "    u'id': 19,\n",
       "    u'lastname': u'Benyus',\n",
       "    u'middleinitial': u'',\n",
       "    u'published_at': u'2007-02-13 11:09:00',\n",
       "    u'slug': u'janine_benyus',\n",
       "    u'title': u'',\n",
       "    u'updated_at': u'2014-04-09 21:50:07',\n",
       "    u'whotheyare': u\"A self-proclaimed nature nerd, Janine Benyus' concept of biomimicry has galvanized scientists, architects, designers and engineers into exploring new ways in which nature's successes can inspire humanity. \",\n",
       "    u'whylisten': u'<p>In the world envisioned by science author Janine Benyus, a locust&#39;s ability to avoid collision within a roiling cloud of its brethren informs the design of a crash-resistant car; <strong>a self-cleaning leaf inspires a new kind of paint, one that dries in a pattern that enables simple rainwater to wash away dirt</strong>; and organisms capable of living without water open the way for vaccines that maintain potency even without refrigeration -- a hurdle that can prevent life-saving drugs from reaching disease-torn communities. Most important, these cool tools from nature pull off their tricks while still managing to <strong>preserve the environment that sustains them</strong>, a life-or-death lesson that humankind is in need of learning. </p><p>As <strong>a <a href=\"http://www.biomimicryinstitute.org/\" target=\"_blank\">champion</a>  of <a href=\"http://www.biomimicry.net/\" target=\"_blank\">biomimicry</a></strong>, Benyus has become one of the most important voices in a new wave of designers and engineers inspired by nature. <strong>Her most recent project, <a href=\"/admin.php/speakers/edit/speakerid/%20www.asknature.org\">AskNature</a></strong>, explores what happens if we think of nature by function and looks at what organisms can teach us about design. </p>'}},\n",
       "  {u'speaker': {u'description': u'Digital visionary',\n",
       "    u'firstname': u'Kevin',\n",
       "    u'id': 20,\n",
       "    u'lastname': u'Kelly',\n",
       "    u'middleinitial': u'',\n",
       "    u'published_at': u'2007-02-13 11:10:00',\n",
       "    u'slug': u'kevin_kelly',\n",
       "    u'title': u'',\n",
       "    u'updated_at': u'2014-12-22 19:24:06',\n",
       "    u'whotheyare': u'Kevin Kelly has been publisher of the <em>Whole Earth Review,</em> exec editor at <em>WIRED,</em> founder of visionary nonprofits, and writer on biology and business and \"cool tools.\" He\\'s admired for his new perspectives on technology and its relevance to history, biology and religion.',\n",
       "    u'whylisten': u'<p>Perhaps there is no one better to contemplate the meaning of cultural change -- bad? good? too slow? too bold? -- than Kevin Kelly, <strong>whose life story reads like a treatise on the value of technology</strong>. Whether by renouncing all material things save his bicycle (which he then rode 3,000 miles), founding an organization (the All-Species Foundation) to catalog all life on earth, or by touting new gadgets in <em>WIRED,</em> Kelly hasn&#39;t stopped exploring the phenomena of technical and biological creation. <br /><br />In articles for the <em>Wall Street Journal</em> and the <em>New York Times,</em> among others, he has celebrated scientific breakthroughs, and at <a href=\"http://longnow.org/\" target=\"_blank\">the Long Now Foundation</a>, where he serves on the board, <strong>he champions projects that look 10,000 years into the future. </strong>One such project is the&nbsp;Rosetta Project, which will catalogue more than 1,000 languages on a disks to be placed nearby the 10,000 Year Clock.&nbsp;Kelly&#39;s newest book <span style=\"text-decoration: underline\" class=\"Apple-style-span\"><em>What Technology Wants</em></span>&nbsp;asks what appears to be his life&#39;s core question: &quot;How should I think about new technology when it comes along?&quot;</p><p>Kelly discusses the <a href=\"http://www.edge.org/3rd_culture/kelly07/kelly07_index.html\" target=\"_blank\">7th Kingdom</a> at length in the July 18, 2007, edition of Edge.org.</p>'}},\n",
       "  {u'speaker': {u'description': u'Writer',\n",
       "    u'firstname': u'Malcolm',\n",
       "    u'id': 21,\n",
       "    u'lastname': u'Gladwell',\n",
       "    u'middleinitial': u'',\n",
       "    u'published_at': u'2007-02-13 11:10:00',\n",
       "    u'slug': u'malcolm_gladwell',\n",
       "    u'title': u'',\n",
       "    u'updated_at': u'2013-09-30 16:23:46',\n",
       "    u'whotheyare': u\"Detective of fads and emerging subcultures, chronicler of jobs-you-never-knew-existed, Malcolm Gladwell's work is toppling the popular understanding of bias, crime, food, marketing, race, consumers and intelligence.\",\n",
       "    u'whylisten': u'<p>Malcolm Gladwell searches for the counterintuitive in what we all take to be the mundane: cookies, sneakers, pasta sauce. A <em>New Yorker</em> staff writer since 1996, he visits obscure laboratories and infomercial set kitchens as often as the hangouts of freelance cool-hunters -- a sort of pop-R&amp;D gumshoe -- and for that has become a star lecturer and bestselling author.<br /> <br />Sparkling with curiosity, undaunted by difficult research (yet an eloquent, accessible writer), <strong>his work uncovers truths hidden in strange data</strong>. His always-delightful <a href=\"http://gladwell.typepad.com/gladwellcom/\" target=\"_blank\">blog</a> tackles topics from serial killers to steroids in sports, while provocative recent work in the <em>New Yorker</em> <a href=\"http://www.gladwell.com/2007/2007_12_17_c_iq.html\" target=\"_blank\">sheds new light on the Flynn effect</a> -- the decades-spanning rise in I.Q. scores.<br /> <br />Gladwell has written four books. <a href=\"http://www.gladwell.com/tippingpoint/index.html\" target=\"_blank\"><em>The Tipping Point</em></a>, which began as a <em>New Yorker</em> piece, applies the principles of epidemiology to crime (and sneaker sales), while <a href=\"http://www.gladwell.com/blink/index.html\" target=\"_blank\"><em>Blink</em></a> examines the unconscious processes that allow the mind to &quot;thin slice&quot; reality -- and make decisions in the blink of an eye. His third book,&nbsp;<em>Outliers</em>, questions the inevitabilities of success and identifies the relation of success to nature versus nurture. The newest work,&nbsp;<em>What the Dog Saw and Other Adventures</em>, is an anthology of his <em>New Yorker </em>contributions.&nbsp;</p><p>He says: &quot;There is more going on beneath the surface than we think, and more going on in little, finite moments of time than we would guess.&quot;<br />&nbsp;</p>'}},\n",
       "  {u'speaker': {u'description': u'Blogger; cofounder, Six Apart',\n",
       "    u'firstname': u'Mena',\n",
       "    u'id': 22,\n",
       "    u'lastname': u'Trott',\n",
       "    u'middleinitial': u'',\n",
       "    u'published_at': u'2007-02-13 11:11:00',\n",
       "    u'slug': u'mena_trott',\n",
       "    u'title': u'',\n",
       "    u'updated_at': u'2010-06-15 15:54:03',\n",
       "    u'whotheyare': u'Mena Trott and her husband Ben founded Six Apart in a spare bedroom after the blogging software they developed grew beyond a hobby. With products Movable Type, TypePad, LiveJournal and Vox, the company has helped lead the \"social media\" revolution.',\n",
       "    u'whylisten': u'<p><em>Time</em>&#39;s 2006 Person of the Year is &quot;You,&quot; which is to say, everybody: &quot;The many wresting power from the few and helping one another for nothing.&quot; The tools of this revolution have come in no small part from <strong><a href=\"http://www.sixapart.com/\" target=\"_blank\">Six Apart</a>, a 2002 startup that helped enable the blogging boom</strong> with its products. And co-founder Mena Trott, who rose to Internet fame with her own blog, <a href=\"http://mena.vox.com/\" target=\"_blank\">DollarShort</a>, has become a strong voice explaining the role of personal blogging in today&#39;s culture.</p><p>Trott and her husband Ben developed <a href=\"http://www.movabletype.org/\" target=\"_blank\">Movable Type</a>  for their own use in 2001, but it became immensely popular and they dove in full-time. By the time they were preparing their blog-hosting service <a href=\"http://www.typepad.com/\" target=\"_blank\">TypePad</a>, investors were knocking on the door. In 2004, the company grew from seven employees to 50, with Mena Trott serving as chief executive, as well as an interface designer. Today, having acquired <a href=\"http://www.livejournal.com/\" target=\"_blank\">LiveJournal</a>  and introduced rich-media sharing platform <a href=\"http://www.vox.com/\" target=\"_blank\">Vox</a>, <strong><a href=\"http://www.sixapart.com/\" target=\"_blank\">Six Apart</a>&#39;s software gives online voice to millions of people</strong> and organizations worldwide. </p>'}},\n",
       "  {u'speaker': {u'description': u'Skeptic',\n",
       "    u'firstname': u'Michael',\n",
       "    u'id': 23,\n",
       "    u'lastname': u'Shermer',\n",
       "    u'middleinitial': u'',\n",
       "    u'published_at': u'2007-02-13 11:12:00',\n",
       "    u'slug': u'michael_shermer',\n",
       "    u'title': u'',\n",
       "    u'updated_at': u'2015-03-04 00:51:57',\n",
       "    u'whotheyare': u\"Michael Shermer debunks myths, superstitions and urban legends -- and explains why we believe them. Along with publishing Skeptic Magazine, he's author of Why People Believe Weird Things and The Mind of the Market.\",\n",
       "    u'whylisten': u'<p>As founder and publisher of <a href=\"http://www.skeptic.com/\" target=\"_blank\"><em>Skeptic Magazine</em></a>, Michael Shermer has exposed fallacies behind intelligent design, 9/11 conspiracies, the low-carb craze, alien sightings and other popular beliefs and paranoias. But it&#39;s not about debunking for debunking&#39;s sake. Shermer defends the notion that we can understand our world better only by matching good theory with good science. <br /><br />Shermer&#39;s work offers cognitive context for our often misguided beliefs: In the absence of sound science, incomplete information can powerfully combine with the power of suggestion (helping us hear Satanic lyrics when &quot;Stairway to Heaven&quot; plays backwards, for example). In fact, a common thread that runs through beliefs of all sorts, he says, is our tendency to convince ourselves: We overvalue the shreds of evidence that support our preferred outcome, and ignore the facts we aren&#39;t looking for.</p><p class=\"MsoNormal\">He writes a monthly column for <em>Scientific American</em>, and is an adjunct at Claremont Graduate University and Chapman University. His latest book is <em>The Believing Brain: From Ghosts and Gods to Politics and Conspiracies&mdash;How We Construct Beliefs and Reinforce Them as Truths</em>. He is also the author of <em>The Mind of the Market,</em> on evolutionary economics, <em>Why Darwin Matters: Evolution and the Case Against Intelligent Design,</em> and <em>The Science of Good and Ev</em>il. And his next book is titled <em>The Moral Arc of Science.</em></p>'}},\n",
       "  {u'speaker': {u'description': u'Musician, activist',\n",
       "    u'firstname': u'Peter',\n",
       "    u'id': 24,\n",
       "    u'lastname': u'Gabriel',\n",
       "    u'middleinitial': u'',\n",
       "    u'published_at': u'2007-02-13 11:12:00',\n",
       "    u'slug': u'peter_gabriel',\n",
       "    u'title': u'',\n",
       "    u'updated_at': u'2013-08-21 21:50:24',\n",
       "    u'whotheyare': u'Peter Gabriel writes incredible songs but, as the co-founder of WITNESS and TheElders.org, is also a powerful human rights advocate.',\n",
       "    u'whylisten': u'<p>Peter Gabriel was a founding member of the extraordinarily successful progressive rock band Genesis. He left the band in 1975 to go solo and, in 1980, set up the international arts festival&nbsp;<a href=\"http://www.womad.org/\" target=\"_blank\">WOMAD</a>&nbsp;(which stands for World of Music, Arts and Dance) and the record label&nbsp;<a href=\"http://www.realworldrecords.com/\" target=\"_blank\">Real World</a>, both&nbsp;to champion music and artistic innovation from all over the world. Gabriel&#39;s stop motion video for &quot;Sledgehammer&quot; has been named the most-played music video in the history of MTV. &nbsp;</p><p>Gabriel is also very interested in human rights. In 1992, he co-founded&nbsp;<a href=\"http://www.witness.org/\" target=\"_blank\">WITNESS.org</a>, an organization that helps human rights activists and citizen witnesses worldwide make change happen through the use of video. The organization not only distributes digital cameras to empower people to document human-rights abuses, but provides a platform for the&nbsp;spread of video that reveals what is really going on in places all over the globe.</p><p>In 2007, Gabriel also co-founded&nbsp;<a href=\"http://theelders.org/\" target=\"_blank\">theElders.org</a>&nbsp;with Richard Branson and Nelson Mandela, an independent group of global leaders working together for peace and human rights.</p>'}},\n",
       "  {u'speaker': {u'description': u'Dance company',\n",
       "    u'firstname': u'',\n",
       "    u'id': 25,\n",
       "    u'lastname': u'Pilobolus',\n",
       "    u'middleinitial': u'',\n",
       "    u'published_at': u'2007-02-13 11:13:00',\n",
       "    u'slug': u'pilobolus',\n",
       "    u'title': u'',\n",
       "    u'updated_at': u'2008-06-22 02:30:24',\n",
       "    u'whotheyare': u'This collaborative dance company is acclaimed for its mix of humor, invention, and drama. Drawing inspiration from biology (how many dance troupes would name themselves after a fungus that thrives in cow dung?), Pilobolus has created a dance vocabulary all its own.',\n",
       "    u'whylisten': u'<p>Pilobolus began as an experiment among three guys and one puzzled professor in a Dartmouth dance class back in 1970. It was survival of the giddiest, as the three non-dancers goofed around with the material they&#39;d been given -- themselves -- and got entangled in science-inspired poses (think: &quot;soft-belly protoplasmic thing&quot;) and movements. From these humble, biological beginnings has emerged <strong>an innovative, unlikely and almost-uncategorizable dance company that combines athleticism, grace and humor with a profound sense of unity</strong>. <br /><br />Their smooth, organic choreography -- featuring unusual partnering and lifts -- often <strong>blurs the lines between individual performers, creating a sense of dance-troupe-as-organism</strong>. Still evolving after 35 years, Pilobolus has built up a repertoire of more than 85 works and received numerous awards, including the Samuel H. Scripps American Dance Festival Award for lifetime achievement in choreography. Their hilarious appearance at the 2007 Oscars -- where they built witty silhouettes to punctuate the ceremony -- brought the troupe further into the public eye.</p>'}},\n",
       "  {u'speaker': {u'description': u'Education visionary',\n",
       "    u'firstname': u'Richard',\n",
       "    u'id': 26,\n",
       "    u'lastname': u'Baraniuk',\n",
       "    u'middleinitial': u'',\n",
       "    u'published_at': u'2007-02-13 11:14:00',\n",
       "    u'slug': u'richard_baraniuk',\n",
       "    u'title': u'',\n",
       "    u'updated_at': u'2014-10-24 20:03:45',\n",
       "    u'whotheyare': u'Richard Baraniuk founded Connexions -- now called OpenStax -- a free, open-source, global clearinghouse of course materials. Students and educators tap into its vast store of texts on everything from engineering to ornithology to music, adapting the content as they see fit.',\n",
       "    u'whylisten': u'<p>Rice University professor Richard Baraniuk has a giant vision: to create a free global online education system that puts the power of creation and collaboration in the hands of teachers worldwide. He&#39;s realizing that vision with <a href=\"http://openstaxcollege.org/\" target=\"_blank\">OpenStax</a> (formerly named Connexions), a website that allows teachers to quickly &quot;create, rip, mix and burn&quot; coursework -- without fear of copyright violations. Think of it as Napster for education.</p><p>OpenStax&#39;s open-source system cuts out the textbook, allowing teachers to share course materials, modify existing work and disseminate it to their students -- all for free, thanks to <a href=\"http://creativecommons.org/\" target=\"_blank\" title=\"Creative Commons\">Creative Commons</a>  licensing. Baraniuk envisions OpenStax as a repository where the most up-to-date material can be shared and reviewed (it&#39;s far more efficient than waiting for a textbook to be printed); it could become a powerful force in leveling the education playing field. Currently encompassing hundreds of online courses and used by a million people worldwide, Baraniuk&#39;s virtual educational system is revolutionizing the way people teach and learn.</p>'}},\n",
       "  {u'speaker': {u'description': u'Performance poet, multimedia artist',\n",
       "    u'firstname': u'',\n",
       "    u'id': 27,\n",
       "    u'lastname': u'Rives',\n",
       "    u'middleinitial': u'',\n",
       "    u'published_at': u'2007-02-13 11:14:00',\n",
       "    u'slug': u'rives',\n",
       "    u'title': u'',\n",
       "    u'updated_at': u'2014-05-16 14:23:22',\n",
       "    u'whotheyare': u'Performance artist and storyteller Rives has been called \"the first 2.0 poet,\" using images, video and technology to bring his words to life. ',\n",
       "    u'whylisten': u'<p>Part poet, part storyteller, part philosopher, Rives is the co-host of TEDActive as well as a frequent TED speaker. On stage, his poems burst in many directions, exposing multiple layers and unexpected treats: childhood memories, grown-up humor, notions of love and lust, of what is lost forever and of what&#39;s still out there waiting to unfold.&nbsp;<a href=\"http://vimeo.com/66507747\" target=\"_blank\">Chimborazo</a>.</p><p>A regular on HBO&#39;s <em>Def Poetry Jam</em>, Rives also starred alongside model Bar Refaeli in the 2008 Bravo special  <a href=\"http://www.bravotv.com/blogs/The_Dish/index.php?article=/2008/10/ironic_iconic_america.php\" target=\"_blank\"><em>Ironic Iconic America</em></a>, touring the United States on a &quot;roller coaster ride through the eye-popping panorama of American pop culture.&quot; Flat pages can&#39;t contain his storytelling, even when paper is his medium. The pop-up books he creates for children unfold with surprise: <a href=\"http://www.simonsays.com/content/book.cfm?tab=1&amp;pid=511215\" target=\"_blank\"><em>The Christmas Pop-Up Present</em></a>  expands to reveal moving parts, hidden areas and miniature booklets inside.&nbsp;</p><p>His latest project&mdash;t<a href=\"http://fourinthemorning.com/\" target=\"_blank\">he Museum of Four in the Morning</a>&mdash;is an ode to a time that may well be part of a global conspiracy. In a good way. &nbsp;</p>'}},\n",
       "  {u'speaker': {u'description': u'Industrial designer',\n",
       "    u'firstname': u'Ross',\n",
       "    u'id': 28,\n",
       "    u'lastname': u'Lovegrove',\n",
       "    u'middleinitial': u'',\n",
       "    u'published_at': u'2007-02-13 11:15:00',\n",
       "    u'slug': u'ross_lovegrove',\n",
       "    u'title': u'',\n",
       "    u'updated_at': u'2009-05-14 10:21:43',\n",
       "    u'whotheyare': u'Known as \"Captain Organic,\" Ross Lovegrove embraces nature as the inspiration for his \"fat-free\" design. Each object he creates -- be it bottle, chair, staircase or car -- is reduced to its essential elements. His pieces offer minimal forms of maximum beauty.',\n",
       "    u'whylisten': u'<p>Ross Lovegrove is truly a pioneer of industrial design. As founder of Studio X in the Notting Hill area of London, the Welsh-born designer has exuberantly embraced the potential offered by digital technologies. However, <strong>he blends his love of high tech with a belief that the natural world had the right idea all along</strong>: Many of his pieces are inspired by principles of evolution and microbiology. <br /><br />Delightedly crossing categories, Lovegrove has worked for clients as varied as Apple, Issey Miyake, Herman Miller and Airbus, and in 2005 he was awarded the <a href=\"http://www.wtn.net/2005/summit/finalists.html\" target=\"_blank\">World Technology Award for design</a>. His personal artwork has been exhibited at <a href=\"http://www.moma.org/\" target=\"_blank\">MoMA</a>  in New York, the <a href=\"http://www.cnac-gp.fr/Pompidou/Accueil.nsf/Document/HomePage?OpenDocument&amp;L=2\" target=\"_blank\">Pompidou Centre</a>  in Paris and the <a href=\"http://www.designmuseum.org/\" target=\"_blank\">Design Museum in London</a>. Lovegrove&#39;s astonishing objects are the result of <strong>an ongoing quest to create forms that, as he puts it, touch people&#39;s soul</strong>.</p>'}},\n",
       "  {u'speaker': {u'description': u'Marketer and author',\n",
       "    u'firstname': u'Seth',\n",
       "    u'id': 29,\n",
       "    u'lastname': u'Godin',\n",
       "    u'middleinitial': u'',\n",
       "    u'published_at': u'2007-02-13 11:16:00',\n",
       "    u'slug': u'seth_godin',\n",
       "    u'title': u'',\n",
       "    u'updated_at': u'2013-07-24 18:45:02',\n",
       "    u'whotheyare': u'Seth Godin is an entrepreneur and blogger who thinks about the marketing of ideas in the digital age. His newest interest: the tribes we lead.',\n",
       "    u'whylisten': u'<p>&quot;Seth Godin may be the ultimate entrepreneur for the Information Age,&quot; Mary Kuntz wrote in <em>Business Week</em> nearly a decade ago. &quot;<strong>Instead of widgets or car parts, he specializes in ideas</strong> -- usually, but not always, his own.&quot; In fact, he&#39;s as focused on spreading ideas as he is on the ideas themselves. <br /><br />After working as a software brand manager in the mid-1980s, Godin started Yoyodyne, one of the first Internet-based direct-marketing firms, with the notion that <strong>companies needed to rethink how they reached customers</strong>. His efforts caught the attention of Yahoo!, which bought the company in 1998 and kept Godin on as a vice president of permission marketing. Godin has produced several critically acclaimed and attention-grabbing books, including <em>Permission Marketing, All Marketers Are Liars,</em> and <em>Purple Cow</em> (which was distributed in a milk carton). In 2005, Godin founded <a href=\"http://www.squidoo.com\" target=\"_blank\">Squidoo.com</a>, a Web site where users can share links and information about an idea or topic important to them.</p>'}},\n",
       "  {u'speaker': {u'description': u'Economist',\n",
       "    u'firstname': u'Steven',\n",
       "    u'id': 30,\n",
       "    u'lastname': u'Levitt',\n",
       "    u'middleinitial': u'',\n",
       "    u'published_at': u'2007-02-13 11:16:00',\n",
       "    u'slug': u'steven_levitt',\n",
       "    u'title': u'',\n",
       "    u'updated_at': u'2013-02-19 19:45:13',\n",
       "    u'whotheyare': u\"Steven Levitt's eye-opening <em>Freakonomics</em> took economic theory into the real world of suburban parenting and urban drug gangs, turning conventional wisdom upside-down.\",\n",
       "    u'whylisten': u'<p>With his 2005 book <a href=\"http://www.freakonomics.com/thebook.php\" target=\"_blank\"><em>Freakonomics</em></a>  (co-authored with Stephen Dubner, a writer who profiled him for the <em>New York Times</em>), Steven Levitt carried hardcore economic method into the squishy real world and produced a pop-culture classic. <a href=\"http://www.freakonomics.com/thebook.php\" target=\"_blank\"><em>Freakonomics</em></a>  is both an economics textbook and a series of cautionary tales about <strong>the fallacy of conventional wisdom</strong>. Levitt examines the links between real-world events, and finds many instances where the data simply doesn&#39;t back up popular belief. <br /><br />He asks provocative questions: <strong>If selling crack is so lucrative, why do dealers live with their mothers?</strong> Does parental doting really improve children&#39;s test scores? Did New York City&#39;s crime rate really drop because of police tactics (or population trends)? His controversial answers stir <a href=\"http://www.freakonomics.com/blog/\" target=\"_blank\">debate</a>, and sometimes backlash.</p><p>Read <a href=\"http://www.reddit.com/r/IAmA/comments/18tp7t/i_am_steven_levitt_author_of_freakonomics_ask_me/\" target=\"_blank\">Steven Levitt&#39;s Reddit AMA &gt;&gt;</a>  </p>'}},\n",
       "  {u'speaker': {u'description': u'Architect',\n",
       "    u'firstname': u'Thom',\n",
       "    u'id': 31,\n",
       "    u'lastname': u'Mayne',\n",
       "    u'middleinitial': u'',\n",
       "    u'published_at': u'2007-02-13 11:17:00',\n",
       "    u'slug': u'thom_mayne',\n",
       "    u'title': u'',\n",
       "    u'updated_at': u'2008-06-22 02:30:24',\n",
       "    u'whotheyare': u'Founder of the influential studio Morphosis, and co-founder of the Southern California Institute of Architecture, Pritzker Prize-winning architect Thom Mayne marries conceptual ideas with form, challenging the way we perceive structure, building and the environment.',\n",
       "    u'whylisten': u'<p>Widely regarded as one of the world&#39;s most provocative architects, Thom Mayne is only interested in exploring the new, the present and the now. For him, architecture is not a matter of producing a readily imaginable building, but is instead a starting point for a larger discussion. The output of his Santa Monica-based studio, <a href=\"http://www.morphosis.net/\" target=\"_blank\">Morphosis</a>, shows the results of the <strong>negotiations between concept and reality</strong>. </p><p>As Mayne describes things, the only constant in his professional career has been people telling him something can&#39;t be done. But he and his studio continue to produce astonishing work for clients worldwide, including government offices, hospitals, restaurants, residences and schools. <strong>Redefining how buildings work both within themselves and within their environment</strong>, Mayne and Morphosis are forging dramatic new landscapes for a startlingly modern world.</p>'}},\n",
       "  {u'speaker': {u'description': u'Artist',\n",
       "    u'firstname': u'Vik',\n",
       "    u'id': 32,\n",
       "    u'lastname': u'Muniz',\n",
       "    u'middleinitial': u'',\n",
       "    u'published_at': u'2007-02-13 11:18:00',\n",
       "    u'slug': u'vik_muniz',\n",
       "    u'title': u'',\n",
       "    u'updated_at': u'2014-07-12 18:37:55',\n",
       "    u'whotheyare': u\"Vik Muniz delights in subverting a viewer's expectations. He uses unexpected materials to create portraits, landscapes and still lifes, which he then photographs.\",\n",
       "    u'whylisten': u'<p>Slf-effacing, frankly open and thought-provoking, all at the same time, Vik Muniz explores the power of representation. He&#39;s known for his masterful use of unexpected materials such as chocolate syrup, toy soldiers and paper confetti, but his resulting images transcend mere gimmickry. Most recently, he&#39;s been working with a team at MIT to inscribe a castle on a grain of sand ...&nbsp;</p><p>Muniz is often hailed as a master illusionist, but he says he&#39;s not interested in fooling people. Rather, he wants his images to show people a measure of their own belief. Muniz has exhibited his playfully provocative work in galleries all over the world and was featured in the documentary <em><a href=\"http://www.wastelandmovie.com/\" target=\"_blank\">Waste Land</a>,</em> which follows Muniz around the largest garbage dump in Rio de Janeiro, as he photographs the collectors of recycled materials in which he finds inspiration and beauty. Describing the history of photography as &quot;the history of blindness,&quot; his images simply but powerfully remind a viewer of what it means to see, and how our preconceptions can color every experience.</p>'}},\n",
       "  {u'speaker': {u'description': u'Military strategist',\n",
       "    u'firstname': u'Thomas',\n",
       "    u'id': 33,\n",
       "    u'lastname': u'Barnett',\n",
       "    u'middleinitial': u'',\n",
       "    u'published_at': u'2007-06-14 00:37:00',\n",
       "    u'slug': u'thomas_barnett',\n",
       "    u'title': u'',\n",
       "    u'updated_at': u'2015-03-04 04:10:38',\n",
       "    u'whotheyare': u\"Strategic planner Thomas Barnett has advised US leaders on national security since the end of the Cold War. His bold ideas about the future of warfare and the military are spelled out in his best-selling book <em>The Pentagon's New Map.</em>\",\n",
       "    u'whylisten': u'<p>Thomas P.M. Barnett&#39;s <strong>bracing confidence and radical recommendations</strong> make him a powerful force shaping the future of the US military. </p><p>In his book <em><a href=\"http://www.amazon.com/Pentagons-New-Map-Twenty-first-Century/dp/0425202399/?tag=tedspeakers-20\" target=\"_blank\">The Pentagon&#39;s New Map: War and Peace in the Twenty-First Century</a>,</em> Barnett draws on a fascinating combination of economic, political and cultural factors to predict and <strong>explain the nature of modern warfare</strong>. He presents concrete, world-changing strategies for transforming the US military -- adrift in the aftermath of the Cold War and 9/11 -- into a two-tiered power capable not only of winning battles, but of <strong>promoting and preserving international peace</strong>. </p><p>Thomas has been a senior adviser to military and civilian leaders in a range of offices, including the Office of the Secretary of Defense, the Joint Staff, Central Command and Special Operations Command. During the tumultuous period from November 2001 to June 2003, he advised the Pentagon on <strong>transforming military capabilities</strong> to meet future threats. He led the five-year <a href=\"http://www.thomaspmbarnett.com/projects/newrulesset/nrs_index.html\" target=\"_blank\">NewRuleSet.Project</a>, which studied how globalization is transforming warfare. The study found, among other things, that <strong>when a country&#39;s per-capita income rises above ~$3,000, war becomes much less likely</strong>. </p><p><strong>Barnett is unusually outspoken in a field cloaked in secrecy. </strong>His follow-up book is <a href=\"http://www.amazon.com/Blueprint-Action-Future-Worth-Creating/dp/0425211746/?tag=tedspeakers-20\" target=\"_blank\"><em>Blueprint for Action: A Future Worth Creating</em></a>, and he writes regular columns for <a href=\"http://www.thomaspmbarnett.com/articles/esquire.htm\" target=\"_blank\"><em>Esquire</em></a>  and the <a href=\"http://www.knoxnews.com/kns/columnist/0,1406,KNS_364_20872,00.html\" target=\"_blank\"><em>Knoxville News Sentinel</em></a>.  He also maintains a prolific <a href=\"http://www.thomaspmbarnett.com/\" target=\"_blank\">blog</a>, where he covers current global events.</p>'}},\n",
       "  {u'speaker': {u'description': u'Crusader against aging',\n",
       "    u'firstname': u'Aubrey',\n",
       "    u'id': 34,\n",
       "    u'lastname': u'de Grey',\n",
       "    u'middleinitial': u'',\n",
       "    u'published_at': u'2007-02-13 21:37:00',\n",
       "    u'slug': u'aubrey_de_grey',\n",
       "    u'title': u'',\n",
       "    u'updated_at': u'2015-03-03 21:46:16',\n",
       "    u'whotheyare': u'Aubrey de Grey, British researcher on aging, claims he has drawn a roadmap to defeat biological aging. He provocatively proposes that the first human beings who will live to 1,000 years old have already been born.',\n",
       "    u'whylisten': u'<p>A true maverick,  Aubrey de Grey challenges the most basic assumption underlying the human condition -- that aging is inevitable. He argues instead that aging is a disease -- one that can be cured if it&#39;s approached as &quot;an engineering problem.&quot;  His plan calls for <strong>identifying all the components that cause human tissue to age, and designing remedies for each</strong> of them &mdash; forestalling disease and eventually pushing back death. He calls the approach <a href=\"http://www.sens.org/\" target=\"_blank\">Strategies for Engineered Negligible Senescence (SENS)</a>.</p><p> With his astonishingly long beard, wiry frame and penchant for bold and cutting proclamations, <strong>de Grey is a magnet for controversy</strong>. A computer scientist, self-taught biogerontologist and researcher, he has co-authored journal articles with some of the most respected scientists in the field.</p><p>But <strong>the scientific community doesn&#39;t know what to make of him</strong>. In July 2005, the <em>MIT Technology Review</em> challenged scientists to disprove de Grey&#39;s claims, offering a $20,000 prize (half the prize money was put up by de Grey&#39;s <a href=\"http://www.methuselahfoundation.org/\" target=\"_blank\">Methuselah Foundation</a>) to any molecular biologist who could demonstrate that &quot;SENS is so wrong that it is unworthy of learned debate.&quot; <a href=\"http://www.technologyreview.com/sens/index.aspx\" target=\"_blank\">The challenge remains open</a>; the judging panel includes TEDsters Craig Venter and Nathan Myhrvold. It seems that &quot;SENS exists in a middle ground of yet-to-be-tested ideas that some people may find intriguing but which others are free to doubt,&quot; MIT&#39;s judges wrote. And while they &quot;don&#39;t compel the assent of many knowledgeable scientists,&quot; they&#39;re also &quot;not demonstrably wrong.&quot;</p>'}},\n",
       "  {u'speaker': {u'description': u'Nature photographer',\n",
       "    u'firstname': u'Frans',\n",
       "    u'id': 35,\n",
       "    u'lastname': u'Lanting',\n",
       "    u'middleinitial': u'',\n",
       "    u'published_at': u'2007-02-13 21:37:00',\n",
       "    u'slug': u'frans_lanting',\n",
       "    u'title': u'',\n",
       "    u'updated_at': u'2015-01-27 22:32:34',\n",
       "    u'whotheyare': u\"Frans Lanting is one of the greatest nature photographers of our time. His work has been featured in National Geographic, Audubon andTime, as well as numerous award-winning books. Lanting's recent exhibition, The LIFE Project, offers a lyrical interpretation of the history of life on Earth.\",\n",
       "    u'whylisten': u'<p>In the pursuit of his work, Frans Lanting has lived in the trees with wild macaws, <strong>camped with giant tortoises inside a volcanic crater</strong>, and documented never-before-photographed wildlife and tribal traditions in Madagascar. The Dutch-born, California-based photographer has traveled to Botswana&#39;s Okavango Delta, the rain forests of Borneo and the home of emperor penguins in Antarctica. <strong><br /><br /></strong>The resulting <a href=\"/admin.php/speakers/edit/speakerid/www.lifethroughtime.com\" target=\"_blank\">photographs</a>  -- staggering in their beauty, startling in their originality -- have brought <strong>much-needed attention to endangered species and ecological crises</strong> throughout the world. In 2001, HRH Prince Bernhard of the Netherlands inducted Lanting as a Knight in the Royal Order of the Golden Ark, the country&#39;s highest conservation honor -- just one of many honors he has received throughout his illustrious career.</p>'}},\n",
       "  {u'speaker': {u'description': u'Biologist, Nobel laureate',\n",
       "    u'firstname': u'James',\n",
       "    u'id': 36,\n",
       "    u'lastname': u'Watson',\n",
       "    u'middleinitial': u'',\n",
       "    u'published_at': u'2007-02-13 21:37:00',\n",
       "    u'slug': u'james_watson',\n",
       "    u'title': u'',\n",
       "    u'updated_at': u'2015-03-04 04:42:06',\n",
       "    u'whotheyare': u\"Nobel laureate James Watson took part in one of the most important scientific breakthroughs of the 20th century: the discovery of the structure of DNA. More than 50 years later, he continues to investigate biology's deepest secrets. \",\n",
       "    u'whylisten': u'<p><strong>James Watson has led a long, remarkable life</strong>, starting at age 12, when he was one of radio&#39;s high-IQ Quiz Kids. By age 15, he had enrolled in the University of Chicago, and by 25, working with Francis Crick (and drawing, controversially, on the research of Maurice Wilkins and Rosalind Franklin), he had made the discovery that would eventually win the three men the Nobel Prize. </p><p>Watson and Crick&#39;s 1953 discovery of DNA&#39;s double-helix structure paved the way for <strong>the astounding breakthroughs in genetics and medicine that marked the second half of the <a href=\"http://www.time.com/time/time100/scientist/profile/watsoncrick.html\" target=\"_blank\">20th century</a></strong>. And Watson&#39;s classic 1968 memoir of the discovery, <em><a href=\"http://www.amazon.com/Double-Helix-Personal-Discovery-Structure/dp/0451627873?tag=tedspeakers-20\" target=\"_blank\">The Double Helix</a>,</em> changed the way the public perceives scientists, thanks to its candid account of the personality conflicts on the project. </p><p>From 1988 to 1994, he ran the <a href=\"http://www.ornl.gov/sci/techresources/Human_Genome/home.shtml\" target=\"_blank\">Human Genome Project</a>. His current passion is <strong>the quest to identify genetic bases for major illnesses</strong>; in 2007 he put his fully sequenced genome online, the second person to do so, in an effort to encourage personalized medicine and early detection and prevention of diseases.&nbsp;</p>'}},\n",
       "  {u'speaker': {u'description': u'Founder of Wikipedia',\n",
       "    u'firstname': u'Jimmy',\n",
       "    u'id': 37,\n",
       "    u'lastname': u'Wales',\n",
       "    u'middleinitial': u'',\n",
       "    u'published_at': u'2007-02-13 21:37:00',\n",
       "    u'slug': u'jimmy_wales',\n",
       "    u'title': u'',\n",
       "    u'updated_at': u'2013-09-25 18:23:53',\n",
       "    u'whotheyare': u'With a vision for a free online encyclopedia, Wales assembled legions of volunteer contributors, gave them tools for collaborating, and created the self-organizing, self-correcting, ever-expanding, multilingual encyclopedia of the future.',\n",
       "    u'whylisten': u'<p>Jimmy Wales went from betting on interest rates and foreign-currency fluctuations (as an option trader) to betting on the willingness of people to share their knowledge. That&#39;s how <strong><a href=\"http://www.wikipedia.org/\" target=\"_blank\">Wikipedia</a>, imagined in 2001, became one of the most-referenced, most-used repositories of knowledge on the planet</strong>, with more than four and a half million articles in English (compared with the <a href=\"http://www.britannica.com/\" target=\"_blank\"><em>Britannica</em></a>&#39;s 80,000) and millions in dozens of other languages, all freely available. <br /><br />The &quot;wiki&quot; in the name refers to software that allows anyone with Internet access to add, delete or edit entries. This has led to controversies about the reliability of the information, prompting the <a href=\"http://wikimediafoundation.org/wiki/Home\" target=\"_blank\">Wikimedia Foundation</a>  to set tighter rules for editors, while still keeping <a href=\"http://www.wikipedia.org/\" target=\"_blank\">Wikipedia</a>  open-source. <strong>One thing is certain: <a href=\"http://www.wikipedia.org/\" target=\"_blank\">Wikipedia</a>  will never be finished.</strong> In the meantime Wales has started working on Wikiasari, a wiki-style search engine.</p>'}},\n",
       "  {u'speaker': {u'description': u'Tech visionary',\n",
       "    u'firstname': u'Nicholas',\n",
       "    u'id': 38,\n",
       "    u'lastname': u'Negroponte',\n",
       "    u'middleinitial': u'',\n",
       "    u'published_at': u'2007-02-13 21:37:00',\n",
       "    u'slug': u'nicholas_negroponte',\n",
       "    u'title': u'',\n",
       "    u'updated_at': u'2015-03-04 21:12:55',\n",
       "    u'whotheyare': u\"The founder of the MIT Media Lab, Nicholas Negroponte pushed the edge of the information revolution as an inventor, thinker and angel investor. He's the driving force behind One Laptop per Child, building computers for children in the developing world.  \",\n",
       "    u'whylisten': u'<p>A pioneer in the field of computer-aided design, Negroponte founded (and was the first director of) <a href=\"http://www.media.mit.edu/\" target=\"_blank\">MIT&#39;s Media Lab</a>, which helped drive the multimedia revolution and now houses more than 500 researchers and staff across a broad range of disciplines. An original investor in&nbsp;<a href=\"http://www.wired.com\" target=\"_blank\"><em>Wired</em></a> (and the magazine&#39;s &quot;patron saint&quot;), for five years he penned a column exploring the frontiers of technology -- ideas that he expanded into his 1995 best-selling book <em><a href=\"http://www.amazon.com/Being-Digital-Nicholas-Negroponte/dp/0679762906?tag=tedspeakers-20\" target=\"_blank\">Being Digital</a>.</em> An angel investor extraordinaire, he&#39;s funded more than 40 startups, and served on the boards of companies such as Motorola and Ambient Devices. </p><p>But his latest effort, the <a href=\"http://www.laptop.org/\" target=\"_blank\">One Laptop per Child</a>  project, may prove his most ambitious. The organization is designing, manufacturing and distributing low-cost, wireless Internet-enabled computers costing roughly $100 and aimed at children. Negroponte hopes to put millions of these devices in the hands of children in the developing world.</p>'}},\n",
       "  {u'speaker': {u'description': u'Philosopher',\n",
       "    u'firstname': u'Nick',\n",
       "    u'id': 39,\n",
       "    u'lastname': u'Bostrom',\n",
       "    u'middleinitial': u'',\n",
       "    u'published_at': u'2007-02-13 21:37:00',\n",
       "    u'slug': u'nick_bostrom',\n",
       "    u'title': u'',\n",
       "    u'updated_at': u'2015-04-27 16:30:31',\n",
       "    u'whotheyare': u'Nick Bostrom asks big questions: What should we do, as individuals and as a species, to optimize our long-term prospects? Will humanity\\u2019s technological advancements ultimately destroy us?',\n",
       "    u'whylisten': u'Philosopher Nick Bostrom envisioned a future full of human enhancement, nanotechnology and machine intelligence long before they became mainstream concerns. From his famous simulation argument -- which identified some striking implications of rejecting the Matrix-like idea that humans are living in a computer simulation -- to his work on existential risk, Bostrom approaches both the inevitable and the speculative using the tools of philosophy, probability theory, and scientific analysis.<br /><br />Since 2005, Bostrom has led the <a href=\"http://www.fhi.ox.ac.uk/\" target=\"_blank\">Future of Humanity Institute</a>, a research group of mathematicians, philosophers and scientists at Oxford University tasked with investigating the big picture for the human condition and its future. He has been referred to as one of the most important thinkers of our age.<br /><br />His recent book <a href=\"http://www.amazon.com/Superintelligence-Dangers-Strategies-Nick-Bostrom/dp/0199678111/\" target=\"_blank\"><em>Superintelligence</em></a>  advances the ominous idea that &ldquo;the first ultraintelligent machine is the last invention that man need ever make.&rdquo;'}},\n",
       "  {u'speaker': {u'description': u'Designer; creative director, Ideo',\n",
       "    u'firstname': u'Paul',\n",
       "    u'id': 40,\n",
       "    u'lastname': u'Bennett',\n",
       "    u'middleinitial': u'',\n",
       "    u'published_at': u'2007-02-13 21:37:00',\n",
       "    u'slug': u'paul_bennett',\n",
       "    u'title': u'',\n",
       "    u'updated_at': u'2010-06-16 15:29:50',\n",
       "    u'whotheyare': u'As a creative director at Ideo, Paul Bennett reminds us that design need not invoke grand gestures or sweeping statements to be successful, but instead can focus on the little things in life, the obvious, the overlooked.',\n",
       "    u'whylisten': u'<p>As creative director at the influential design and innovation company <a href=\"http://www.ideo.com/\" target=\"_blank\">Ideo</a>, Paul Bennett manages to keep his eye on the little things that matter, though his clients are among the biggest in the world (Procter &amp; Gamble and Pepsi, to name but two). &quot;Small is the new big,&quot;Bennett says. And his design approach reflects this philosophy. For often, <strong>it&#39;s not the biggest ideas that have the most impact, but the small, the personal, and the intimate</strong>. </p><p>Trained as a graphic designer, Bennett is a pragmatic design evangelist, preaching fervently that <strong>design can make the world a better place</strong>, and providing playful, inspired examples of how it does.</p>'}},\n",
       "  {u'speaker': {u'description': u'Photographer',\n",
       "    u'firstname': u'Phil',\n",
       "    u'id': 41,\n",
       "    u'lastname': u'Borges',\n",
       "    u'middleinitial': u'',\n",
       "    u'published_at': u'2007-02-13 21:37:00',\n",
       "    u'slug': u'phil_borges',\n",
       "    u'title': u'',\n",
       "    u'updated_at': u'2014-10-13 19:49:53',\n",
       "    u'whotheyare': u\"Dentist-turned-photographer Phil Borges documents the world's disappearing cultures, capturing portraits of exiled Tibetan monks and many of the world\\u2019s embattled tribal and indigenous cultures.\",\n",
       "    u'whylisten': u'<p>Spurred by the rapid disappearance of the world&#39;s indigenous peoples and their oral traditions, <a href=\"http://www.philborges.com/\" target=\"_blank\">Phil Borges</a> abandoned his orthodontic practice to pursue his first love, photography. For the past 25 years, he has traveled to the farthest reaches of the globe to meet with persecuted Tibetan monks engaged in nonviolent struggle and embattled tribespeople of the Ecuadorian Amazon who must defend their way of life by any means necessary. Through interviews and portraiture, Borges examines his subjects&#39; valuable beliefs and stories and documents their tribulations with dignity.</p><p>He is the founder of <a href=\"http://www.bridgesweb.org/\" target=\"_blank\">Bridges to Understanding</a>, an interactive online classroom that promotes cross-cultural learning between indigenous and American youths. By teaching teenagers how to share stories through digital filmmaking, Borges hopes they&#39;ll develop the mental flexibility and cultural sensitivity to understand and appreciate belief systems outside their own. Borges&#39; feature-length documentary, <a href=\"http://crazywisefilm.com/\" target=\"_blank\"><em>CRAZYWISE</em></a>, takes a look at America&rsquo;s mental health care crisis and examines what we could learn from the way different cultures define and treat mental illness.</p>'}},\n",
       "  {u'speaker': {u'description': u'Inventor, futurist',\n",
       "    u'firstname': u'Ray',\n",
       "    u'id': 42,\n",
       "    u'lastname': u'Kurzweil',\n",
       "    u'middleinitial': u'',\n",
       "    u'published_at': u'2007-02-13 21:37:00',\n",
       "    u'slug': u'ray_kurzweil',\n",
       "    u'title': u'',\n",
       "    u'updated_at': u'2014-06-02 14:54:57',\n",
       "    u'whotheyare': u\"Ray Kurzweil is an engineer who has radically advanced the fields of speech, text and audio technology. He's revered for his dizzying -- yet convincing -- writing on the advance of technology, the limits of biology and the future of the human species.\",\n",
       "    u'whylisten': u'<p>Inventor, entrepreneur, visionary, Ray Kurzweil&#39;s accomplishments read as a startling series of firsts -- a litany of technological breakthroughs we&#39;ve come to take for granted. Kurzweil invented the first optical character recognition (OCR) software for transforming the written word into data, the first print-to-speech software for the blind, the first text-to-speech synthesizer, and the first music synthesizer capable of recreating the grand piano and other orchestral instruments, and the first commercially marketed large-vocabulary speech recognition.<br /><br />Yet his impact as a futurist and philosopher is no less significant. In his best-selling books, which include<a href=\"http://www.howtocreateamind.com/\" target=\"_blank\"><em> How to Create a Mind</em></a>, <a href=\"http://us.penguingroup.com/static/packages/us/kurzweil/start.htm\" target=\"_blank\"><em>The Age of Spiritual Machines</em></a><em>, <a href=\"http://singularity.com/\" target=\"_blank\">The Singularity Is Near: When Humans Transcend Biology</a>,</em> Kurzweil depicts in detail a portrait of the human condition over the next few decades, as accelerating technologies forever blur the line between human and machine.</p><p>In 2009, he unveiled <a href=\"http://singularityu.org/overview/\" target=\"_blank\">Singularity University</a>, an institution that aims to &quot;assemble, educate and inspire leaders who strive to understand and facilitate the development of exponentially advancing technologies.&quot; He is a Director of Engineering at Google, where he heads up a team developing machine intelligence and natural language comprehension. </p>'}},\n",
       "  {u'speaker': {u'description': u'Author',\n",
       "    u'firstname': u'Robert',\n",
       "    u'id': 43,\n",
       "    u'lastname': u'Neuwirth',\n",
       "    u'middleinitial': u'',\n",
       "    u'published_at': u'2007-03-25 21:37:00',\n",
       "    u'slug': u'robert_neuwirth',\n",
       "    u'title': u'',\n",
       "    u'updated_at': u'2015-03-04 21:19:03',\n",
       "    u'whotheyare': u'To research his new book, \"Stealth of Nations,\" Robert Neuwirth spent four years among street vendors, smugglers and \\u201cinformal\\u201d import/export firms.',\n",
       "    u'whylisten': u'<p>In his 2012 book <em><a href=\"http://stealthofnations.blogspot.com/\" target=\"_blank\">Stealth of Nations</a></em>, Robert Neuwirth challenges conventional thinking&nbsp;by examining the world&#39;s informal economy close up. To do so, he spent four years living and working with street vendors and gray marketers, to capture its scope, its vigor--and its lessons. He calls it &ldquo;System D&rdquo; and argues that it is not a hidden economy, but a very visible, growing, effective one, fostering entrepreneurship and representing 1.8 billion jobs worldwide.</p> <p class=\"p2\">Before this, for his previous book&nbsp;<em><a href=\"http://www.amazon.com/Shadow-Cities-Billion-Squatters-Urban/dp/0415933196?tag=tedspeakers-20\" target=\"_blank\">Shadow Cities</a>&nbsp;</em>(also a&nbsp;<a href=\"/talks/robert_neuwirth_on_our_shadow_cities.html\" target=\"_blank\">TEDTalk</a>), he spent two years exploring one of the most profound trends of our time: the mass migration of the world&#39;s population into urban shantytowns. A billion people live as squatters. Life in a favela, slum, shantytown is hard: no water, no transport, no sewage. But in the squatter cities of Rio, Nairobi, Istanbul and Mumbai, Neuwirth discovered restaurants, markets, clinics and effective forms of self-organization.</p> <p class=\"p2\">Our challenge, Neuwirth says, isn&#39;t to end squatter cities or shut down gray markets--but to engage and empower those who live and work in them.</p><p>&nbsp;</p>'}},\n",
       "  {u'speaker': {u'description': u'Astrophysicist',\n",
       "    u'firstname': u'Martin',\n",
       "    u'id': 44,\n",
       "    u'lastname': u'Rees',\n",
       "    u'middleinitial': u'',\n",
       "    u'published_at': u'2007-02-13 21:37:00',\n",
       "    u'slug': u'sir_martin_rees',\n",
       "    u'title': u'',\n",
       "    u'updated_at': u'2015-03-04 00:59:38',\n",
       "    u'whotheyare': u\"Lord Martin Rees, one of the world's most eminent astronomers, is an emeritus professor of cosmology and astrophysics at the University of Cambridge and the UK's Astronomer Royal. He is one of our key thinkers on the future of humanity in the cosmos.\",\n",
       "    u'whylisten': u'<p>Lord Martin Rees has issued a clarion call for humanity. His 2004 book, ominously titled <em><a href=\"http://www.amazon.com/OUR-FINAL-HOUR-Environmental-Century/dp/0465068634/?tag=tedspeakers-20\" target=\"_blank\">Our Final Hour</a>,</em> catalogues the threats facing the human race in a 21st century dominated by unprecedented and accelerating scientific change. He calls on scientists and nonscientists alike to take steps that will ensure our survival as a species. <br /><br />One of the world&#39;s leading astronomers, Rees is an emeritus professor of cosmology and astrophysics at <a href=\"http://www.ast.cam.ac.uk/staff/mjr/index.html\" target=\"_blank\">Cambridge</a>, and UK Astronomer Royal. Author of more than 500 research papers on cosmological topics ranging from black holes to quantum physics to the Big Bang, Rees has received countless awards for his scientific contributions. But equally significant has been his devotion to explaining the complexities of science for a general audience, in books like <a href=\"http://www.amazon.com/Before-Beginning-Universe-Others-Helix/dp/0738200336?tag=tedspeakers-20\" target=\"_blank\"><em>Before the Beginning</em></a>  and <em><a href=\"http://press.princeton.edu/titles/7115.html\" target=\"_blank\">Our Cosmic Habitat</a>.</em></p>'}},\n",
       "  {u'speaker': {u'description': u'Violinist',\n",
       "    u'firstname': u'Sirena',\n",
       "    u'id': 45,\n",
       "    u'lastname': u'Huang',\n",
       "    u'middleinitial': u'',\n",
       "    u'published_at': u'2007-02-14 06:52:00',\n",
       "    u'slug': u'sirena_huang',\n",
       "    u'title': u'',\n",
       "    u'updated_at': u'2010-06-17 15:06:19',\n",
       "    u'whotheyare': u'Sirena Huang started taking violin lessons at age 4 and made her professional solo debut at 9 with the Taiwan Symphony Orchestra. She has won top prizes in numerous international competitions, delighting audiences worldwide with her virtuosity and charm. ',\n",
       "    u'whylisten': u'<p>Only 11 years old when she performed at TED, Sirena Huang is still technically a child. But as anyone who sees her perform can attest, <strong>she has a musician&#39;s soul that transcends her years</strong>. &quot;Her musical imagination is boundless,&quot; said <a href=\"http://www.juilliard.edu/\" target=\"_blank\">Juilliard</a>  dean Stephen Clapp, who described her as &quot;a musical artist with qualities of maturity far beyond her age.&quot; </p><p>What&#39;s most striking in her performance style is the way <strong>she combines technical ability with emotional force and nuance</strong>. Her fiercely virtuoso performances are profoundly moving, even via podcast. &quot;Amazed,&quot; &quot;delighted&quot; and &quot;spellbound&quot; are the words bloggers often use after watching her play. She has won numerous awards for her brilliant performances worldwide, and has played for the likes of French president Nicolas Sarkozy, King Abdullah II of Jordan, and the Dalai Lama.&nbsp;</p>'}},\n",
       "  {u'speaker': {u'description': u'Pianist, composer',\n",
       "    u'firstname': u'Jennifer',\n",
       "    u'id': 46,\n",
       "    u'lastname': u'Lin',\n",
       "    u'middleinitial': u'',\n",
       "    u'published_at': u'2007-02-14 06:55:00',\n",
       "    u'slug': u'jennifer_lin',\n",
       "    u'title': u'',\n",
       "    u'updated_at': u'2008-06-22 02:30:24',\n",
       "    u'whotheyare': u'Concert pianist and composer Jennifer Lin was only 14 when she performed at TED, drawing tears with her extraordinary improvisation.',\n",
       "    u'whylisten': u'<p>A student of the <a href=\"http://www.yamaha.com/yamahavgn/CDA/Catalog/Catalog_GSXOXX/0,,CTID%25253D217500,00.html\" target=\"_blank\">Yamaha Music Education System</a>  from the age of 4, pianist Jennifer Lin has an unusual talent for improvisation. Speaking at TED, she compared her creative process to drawing a comic, and admitted that <strong>the state of &quot;flow&quot; -- when she is able produce beautiful music instantly -- cannot be forced</strong>. <br /><br />Her virtuoso performances, particularly the improvisations, are profoundly moving, and -- even via podcast -- have been known to reduce listeners to tears. As one blogger recorded, &quot;I was listening to a presentation by <strong>a 14-year old girl named Jennifer Lin who plays the piano like <em>whoa</em></strong> ... I wasn&#39;t expecting it, and when she was a minute or two into the piece, I was literally crying in the crowded subway car.&quot; Lin was featured on <em>ABC World News Tonight</em> as Person of the Week and also appeared on a &quot;Little Geniuses&quot; segment on <em>Oprah,</em> where Winfrey declared her &quot;a miracle prodigy.&quot;</p>'}},\n",
       "  {u'speaker': {u'description': u'Physicist, energy guru',\n",
       "    u'firstname': u'Amory',\n",
       "    u'id': 47,\n",
       "    u'lastname': u'Lovins',\n",
       "    u'middleinitial': u'',\n",
       "    u'published_at': u'2007-02-14 11:14:00',\n",
       "    u'slug': u'amory_lovins',\n",
       "    u'title': u'',\n",
       "    u'updated_at': u'2012-05-23 17:00:05',\n",
       "    u'whotheyare': u'In his new book, \"Reinventing Fire,\" Amory Lovins shares ingenious ideas for the next era of energy.',\n",
       "    u'whylisten': u'<p>Amory Lovins was worried (and writing) about energy long before global warming was making the front -- or even back -- page of newspapers. Since studying at Harvard and Oxford in the 1960s, he&#39;s written dozens of books, and initiated ambitious projects -- cofounding the influential, environment-focused <a href=\"http://www.rmi.org/\" target=\"_blank\">Rocky Mountain Institute</a>; prototyping the ultra-efficient Hypercar -- to <strong>focus the world&#39;s attention on alternative approaches to energy</strong> and transportation. </p><p>His critical thinking has driven people around the globe -- from world leaders to the average Joe -- to <strong>think differently about energy and its role in some of our biggest problems</strong>: climate change, oil dependency, national security, economic health, and depletion of natural resources. </p><p>Lovins offers solutions as well. His new book and site, <a href=\"http://www.rmi.org/ReinventingFire\" target=\"_blank\"><em>Reinventing Fire</em></a>, offers actionable solutions for four energy-intensive sectors of the  economy: transportation, buildings, industry and electricity. Lovins has always focused on solutions that conserve natural resources while also promoting economic growth; Texas Instruments and Wal-Mart are just two of the mega-corporations he has advised on improving energy efficiency. </p>'}},\n",
       "  {u'speaker': {u'description': u'Quantum physicist',\n",
       "    u'firstname': u'David',\n",
       "    u'id': 48,\n",
       "    u'lastname': u'Deutsch',\n",
       "    u'middleinitial': u'',\n",
       "    u'published_at': u'2007-02-14 11:25:00',\n",
       "    u'slug': u'david_deutsch',\n",
       "    u'title': u'',\n",
       "    u'updated_at': u'2013-09-06 21:33:17',\n",
       "    u'whotheyare': u'David Deutsch\\'s 1997 book \"The Fabric of Reality\" laid the groundwork for an all-encompassing Theory of Everything, and galvanized interest in the idea of a quantum computer, which could solve problems of hitherto unimaginable complexity.',\n",
       "    u'whylisten': u'<p>David Deutsch will force you to reconsider your place in the world. This legendary Oxford physicist is the leading proponent of the multiverse (or &quot;many worlds&quot;) interpretation of quantum theory -- <strong>the idea that our universe is constantly spawning countless numbers of <a href=\"http://www.qubit.org/people/david/index.php?path=Parallel%20Universes\" target=\"_blank\">parallel worlds</a></strong>. </p><p>In his own words: &quot;Everything in our universe -- including you and me, every atom and every galaxy -- has counterparts in these other universes.&quot; If that doesn&#39;t alter your consciousness, then the other implications he&#39;s derived from his study of subatomic physics -- including <strong>the possibility of time travel</strong> -- just might. </p><p>In <em><a href=\"http://www.qubit.org/people/david/index.php?path=The%20Fabric%20of%20Reality\" target=\"_blank\">The Fabric of Reality</a>,</em> Deutsch tied together quantum mechanics, evolution, a rationalist approach to knowledge, and a theory of computation based on the work of Alan Turing. &quot;Our best theories are not only truer than common sense, they make more sense than common sense,&quot;Deutsch wrote, and he continues to explore the most mind-bending aspects of particle physics. </p><p>In 2008, he became a member of the Royal Society of London. <br />&nbsp;</p>'}},\n",
       "  {u'speaker': {u'description': u'Architect',\n",
       "    u'firstname': u'Joshua',\n",
       "    u'id': 49,\n",
       "    u'lastname': u'Prince-Ramus',\n",
       "    u'middleinitial': u'',\n",
       "    u'published_at': u'2007-02-14 14:50:00',\n",
       "    u'slug': u'joshua_prince_ramus',\n",
       "    u'title': u'',\n",
       "    u'updated_at': u'2010-02-04 19:36:36',\n",
       "    u'whotheyare': u'Joshua Prince-Ramus is best known as architect of the Seattle Central Library, already being hailed as a masterpiece of contemporary culture. Prince-Ramus was the founding partner of OMA New York\\u2014the American affiliate of the Office for Metropolitan Architecture (OMA) in the Netherlands\\u2014and served as its Principal until he renamed the firm REX in 2006.',\n",
       "    u'whylisten': u'With one of the decade&#39;s most celebrated buildings under his belt, Joshua Prince-Ramus would seem well-positioned to become the world&#39;s next &quot;starchitect.&quot; Except that he doesn&#39;t want the job. <strong>With his quiet intensity and intellectual bearing, Prince-Ramus is the antithesis of the egomaniacal master architect.</strong> He flatly rejects not just the title, but the entire notion of a &quot;starchitect&quot; designing with a genius stroke of the pen.<br />&nbsp;<br />Prince-Ramus is best known for his work on the Seattle Central Library. The striking, diamond-windowed structure reimagines, to spectacular effect, the library&#39;s role in a modern urban context. &quot;Seattle&#39;s new Central Library is a blazing chandelier to swing your dreams upon,&quot; Herbert Muschamp wrote in <em>The New York Times</em>. &quot;In more than 30 years of writing about architecture, this is the most exciting new building it has been my honor to review.&quot;<br />&nbsp;<br />Having founded the US practice of the radical Dutch architecture firm OMA in 2000, Prince-Ramus served as its Principal until he renamed the firm REX in May 2006. He continues to take what he describes as a performance-based approach to architecture, pushing logic and rational ideas to their limits to create buildings that are unexpected, but wholly appropriate to their environment and intended use. REX recently completed the AT&amp;T Performing Arts Center&rsquo;s Dee and Charles Wyly Theatre in Dallas, Texas and the Vakko Fashion Center and Power Media Center in Istanbul, Turkey. Current work includes Museum Plaza, a 62-story mixed-use skyscraper housing a contemporary art center in Louisville, Kentucky;the new Central Library and Music Conservatory for the city of Kortrijk, Belgium;and a 2,643,000 ft2 luxury residential development in Songdo Landmark City, South Korea. '}},\n",
       "  {u'speaker': {u'description': u'Magician',\n",
       "    u'firstname': u'Keith',\n",
       "    u'id': 50,\n",
       "    u'lastname': u'Barry',\n",
       "    u'middleinitial': u'',\n",
       "    u'published_at': u'2007-02-14 14:56:00',\n",
       "    u'slug': u'keith_barry',\n",
       "    u'title': u'',\n",
       "    u'updated_at': u'2008-08-15 07:51:04',\n",
       "    u'whotheyare': u'Think of Keith Barry as a hacker of the human brain -- writing routines that exploit its bugs and loopholes, and offering a revealing look at the software between our ears.',\n",
       "    u'whylisten': u'<p>As Arthur C. Clarke told us, &quot;Any sufficiently advanced technology is indistinguishable from magic.&quot; So <strong>think of Keith Barry as a technologist, an elite software engineer of the human brain</strong>. Witty and direct, he celebrates human cleverness even while he&#39;s hacking it.</p><p>Barry&#39;s repertoire ranges from outrageous  stunts -- driving a car at full speed blindfolded -- to mind control, including hypnosis and mindreading. The Irish magician&#39;s relaxed style has made him an audience favorite worldwide, both in live shows and on his European television series, <em>Close Encounters with Keith Barry,</em> which aired in 28 countries. He&#39;s had specials on MTV and CBS, and tried his hand at acting as a murder suspect on <em>CSI: Miami. </em>There are rumors of a Las Vegas residency later in 2008.</p>'}},\n",
       "  {u'speaker': {u'description': u'Activist for environmental justice',\n",
       "    u'firstname': u'Majora',\n",
       "    u'id': 51,\n",
       "    u'lastname': u'Carter',\n",
       "    u'middleinitial': u'',\n",
       "    u'published_at': u'2007-02-14 14:59:00',\n",
       "    u'slug': u'majora_carter',\n",
       "    u'title': u'',\n",
       "    u'updated_at': u'2011-01-23 13:21:08',\n",
       "    u'whotheyare': u'Majora Carter redefined the field of environmental equality, starting in the South Bronx at the turn of the century.  Now she is leading the local economic development movement across the USA.',\n",
       "    u'whylisten': u'<p>Majora Carter is a visionary voice in city planning who views urban renewal through an environmental lens. The South Bronx native draws a direct connection between ecological, economic and social degradation. Hence her motto: <strong>&quot;Green the ghetto!&quot;</strong></p><p>With her inspired ideas and fierce persistence, Carter managed to bring the South Bronx its first open-waterfront park in 60 years, <a href=\"http://www.bronxriver.org/GreenwayGroundbreak.cfm#HPRP\" target=\"_blank\">Hunts Point Riverside Park</a>. Then <strong>she scored $1.25 million in federal funds for a greenway along the South Bronx waterfront</strong>, bringing the neighborhood open space, pedestrian and bike paths, and space for mixed-use economic development.</p><p>Her success is no surprise to anyone who&#39;s seen her speak; <strong>Carter&#39;s confidence, energy and intensely emotional delivery make her talks themselves a force of nature.</strong> (The release of her TEDTalk in 2006 prompted Guy Kawasaki to wonder on his <a href=\"http://blog.guykawasaki.com/2006/07/as_good_as_stev.html\" target=\"_blank\">blog</a>  whether she wasn&#39;t &quot;every bit as good as [Apple CEO] Steve Jobs,&quot; a legendary presenter.)</p><p>Carter, who was awarded a 2005 MacArthur &quot;genius&quot; grant, served as executive director of <a href=\"http://www.ssbx.org/staff.html\" target=\"_blank\">Sustainable South Bronx</a> for 7 years, where she pushed both for eco-friendly practices (such as green and cool roofs) and, equally important, job training and green-related economic development for her vibrant neighborhood on the rise. Since leaving SSBx in 2008, Carter has formed the economic consulting and planning firm <a href=\"http://www.majoracartergroup.com/\" target=\"_blank\">the Majora Carter Group</a>, to bring her pioneering approach to communities far outside the South Bronx. Carter is working within the cities of New Orleans, Detroit and the small coastal towns of Northeastern North Carolina. The Majora Carter Group is putting the green economy and green economic tools to use, unlocking the potential of every place -- from urban cities and rural communities, to universities, government projects, businesses and corporations -- and everywhere else in between.</p>'}},\n",
       "  {u'speaker': {u'description': u'Inventor',\n",
       "    u'firstname': u'Saul',\n",
       "    u'id': 52,\n",
       "    u'lastname': u'Griffith',\n",
       "    u'middleinitial': u'',\n",
       "    u'published_at': u'2007-02-14 15:52:00',\n",
       "    u'slug': u'saul_griffith',\n",
       "    u'title': u'',\n",
       "    u'updated_at': u'2009-04-08 14:27:20',\n",
       "    u'whotheyare': u'Inventor Saul Griffith looks for elegant ways to make real things, from low-cost eyeglasses to a kite that tows boats. His latest projects include open-source inventions and elegant new ways to generate power.',\n",
       "    u'whylisten': u'<p>Innovator and inventor Saul Griffith has a uniquely open approach to problem solving. Whether he&#39;s devising a way to slash the cost of prescription eyeglasses or teaching science through cartoons, <strong>Griffith makes things and then shares his ideas with the world</strong>.</p><p>A proponent of open-source information, he established <a href=\"http://www.instructables.com/\" target=\"_blank\">Instructables</a> , an open website  showing how to make an array of incredible objects. <strong>He is the co-founder of numerous companies including <a href=\"http://www.squid-labs.com/\" target=\"_blank\">Squid Labs</a>, <a href=\"http://www.lowcosteyeglasses.net/\" target=\"_blank\">Low Cost Eyeglasses</a>, <a href=\"http://www.potenco.com/\" target=\"_blank\">Potenco</a>  and <a href=\"http://www.makanipower.com/home.html\" target=\"_blank\">Makani Power</a>, where he is President and Chief Scientist. His companies have invented a myriad of new devices and materials, </strong>such as a &quot;smart&quot; rope that senses its load, or a machine for making low-cost eyeglass lenses through a process inspired by a water droplet. He is a columnist at <a href=\"http://makezine.com/\" target=\"_blank\"><em>Make </em>magazine</a>  and co-writes <em><a href=\"http://www.howtoons.com/\" target=\"_blank\">How Toons!</a>  </em>He&#39;s fascinated with materials that assemble themselves, and with taking advantage of those properties to make things quickly and cheaply. </p>'}},\n",
       "  {u'speaker': {u'description': u'Graphic designer',\n",
       "    u'firstname': u'Stefan',\n",
       "    u'id': 53,\n",
       "    u'lastname': u'Sagmeister',\n",
       "    u'middleinitial': u'',\n",
       "    u'published_at': u'2007-02-14 16:48:00',\n",
       "    u'slug': u'stefan_sagmeister',\n",
       "    u'title': u'',\n",
       "    u'updated_at': u'2009-10-02 09:43:02',\n",
       "    u'whotheyare': u'Renowned for album covers, posters and his recent book of life lessons, designer Stefan Sagmeister invariably has a slightly different way of looking at things.',\n",
       "    u'whylisten': u'<p>Stefan Sagmeister is no mere commercial gun for hire. Sure, he&#39;s created eye-catching graphics for clients including the Rolling Stones and Lou Reed, but he pours his heart and soul into every piece of work. His design work is at once timeless and of the moment, and his <strong>painstaking attention to the smallest details</strong> creates work that offers something new every time you look at it. <br /><br />While a sense of humor invariably surfaces in his designs, Sagmeister is nonetheless very serious about his work; <strong>his intimate approach and sincere thoughtfulness elevate his desig</strong>n. A genuine maverick, Sagmeister achieved notoriety in the 1990s as the designer who self-harmed in the name of craft: He created a poster advertising a speaking engagement by carving the salient details onto his torso.</p>'}},\n",
       "  {u'speaker': {u'description': u'Co-founder, Architecture for Humanity',\n",
       "    u'firstname': u'Cameron',\n",
       "    u'id': 54,\n",
       "    u'lastname': u'Sinclair',\n",
       "    u'middleinitial': u'',\n",
       "    u'published_at': u'2007-02-17 16:45:00',\n",
       "    u'slug': u'cameron_sinclair',\n",
       "    u'title': u'',\n",
       "    u'updated_at': u'2015-03-26 20:17:08',\n",
       "    u'whotheyare': u\"2006 TED Prize winner Cameron Sinclair is co-founder of Architecture for Humanity, a nonprofit that seeks architecture solutions to global crises -- and acts as a conduit between the design community and the world's humanitarian needs.\",\n",
       "    u'whylisten': u'<p>After training as an architect, Cameron Sinclair (then age 24) joined Kate Stohr to found <a href=\"http://www.architectureforhumanity.org/\" target=\"_blank\">Architecture for Humanity</a>, a nonprofit that helps architects apply their skills to humanitarian efforts. Starting with just $700 and a simple web site in 1999, <a href=\"http://www.architectureforhumanity.org/\" target=\"_blank\">AFH</a>  has grown into an international hub for humanitarian design, offering <strong>innovative solutions to housing problems in all corners of the globe</strong>. <br /><br />Whether rebuilding earthquake-ravaged Bam in Iran, designing a soccer field doubling as an HIV/AIDS clinic in Africa, housing refugees on the Afghan border, or helping Katrina victims rebuild, <a href=\"http://www.architectureforhumanity.org/\" target=\"_blank\">Architecture for Humanity</a>  works by Sinclair&#39;s mantra: &quot;<strong>Design like you give a damn</strong>.&quot; (Sinclair and Stohr cowrote <a href=\"http://www.amazon.com/Design-Like-Give-Damn-Architectural/dp/1933045256/?tag=tedspeakers-20\" target=\"_blank\">a book</a>  by the same name, released in 2006.) <br /><br />A regular contributor to the sustainability blog <a href=\"http://www.worldchanging.com/\" target=\"_blank\">Worldchanging.com</a>, Sinclair is now working on the <a href=\"http://www.openarchitecturenetwork.org/\" target=\"_blank\">Open Architecture Network</a>, born from the wish he made when he accepted the <a href=\"/pages/view/id/108\" target=\"_blank\">2006 TED Prize</a>: to build <strong>a global, open-source network where architects, governments and NGOs can share and implement design plans</strong> to house the world.</p>'}},\n",
       "  {u'speaker': {u'description': u'Filmmaker',\n",
       "    u'firstname': u'Jehane',\n",
       "    u'id': 55,\n",
       "    u'lastname': u'Noujaim',\n",
       "    u'middleinitial': u'',\n",
       "    u'published_at': u'2007-02-17 16:54:00',\n",
       "    u'slug': u'jehane_noujaim',\n",
       "    u'title': u'',\n",
       "    u'updated_at': u'2013-09-03 19:27:25',\n",
       "    u'whotheyare': u\"2006 TED Prize winner Jehane Noujaim is the gutsy filmmaker responsible for <em>Control Room,</em> an astonishing documentary about Al Jazeera's coverage of the Iraq war and the contrasting notions of truth expressed in the US media. \",\n",
       "    u'whylisten': u'<p>Two weeks before the US invaded Iraq in 2003, Jehane Noujaim gained access to both <a href=\"http://english.aljazeera.net/NR/exeres/55ABE840-AC30-41D2-BDC9-06BBE2A36665.htm\" target=\"_blank\">Al Jazeera</a>  and the US military&#39;s Central Command offices in Qatar. By being in the right place at that very wrong time, <strong>she caught the onset and outbreak of the Iraq war on film</strong>. The resulting documentary, <em><a href=\"http://www.noujaimfilms.com/controlroom/site/01.html\" target=\"_blank\">Control Room</a>,</em> exposed the very divergent ways the Arabs and the West covered the war. <br /><br />Being raised between Egypt and the US, the exploration of culture is one of Jehane&#39;s driving forces. Her reason for making the film: <strong>&quot;It&rsquo;s important for everyone, simply as individuals, to try to understand different people and different cultures, but it&rsquo;s especially important for people in the United States because we affect so much of the world beyond our borders.&quot;</strong></p><p>Noujaim&#39;s TED Prize wish -- for a world-uniting Pangea Day of film -- happened in May 2008 in more than 100 cities and online, in a worldwide festival of film, art, music, performance and speakers.</p>'}},\n",
       "  {u'speaker': {u'description': u'Photographer',\n",
       "    u'firstname': u'Edward',\n",
       "    u'id': 56,\n",
       "    u'lastname': u'Burtynsky',\n",
       "    u'middleinitial': u'',\n",
       "    u'published_at': u'2007-02-17 16:59:00',\n",
       "    u'slug': u'edward_burtynsky',\n",
       "    u'title': u'',\n",
       "    u'updated_at': u'2014-02-24 18:21:58',\n",
       "    u'whotheyare': u\"2005 TED Prize winner Edward Burtynsky has made it his life's work to document humanity's impact on the planet. His riveting photographs, as beautiful as they are horrifying, capture views of the Earth altered by mankind.\",\n",
       "    u'whylisten': u'<p>To describe Canadian photographer Edward Burtynsky&#39;s work in a single adjective, you have to speak French: <em>jolie-laide.</em> His images of scarred landscapes -- from mountains of tires to rivers of bright orange waste from a nickel mine -- are eerily pretty yet ugly at the same time. Burtynsky&#39;s large-format color photographs explore the impact of humanity&#39;s expanding footprint and the substantial ways in which we&#39;re reshaping the surface of the planet. His images powerfully alter the way we think about the world and our place in it. </p><p>With his blessing and encouragement, <a href=\"http://www.worldchanging.com/archives//006356.html\" target=\"_blank\" title=\"WorldChanging.com\">WorldChanging.com</a>  and others use his work to inspire ongoing global conversations about sustainable living. Burtynsky&#39;s photographs are included in the collections of over 50 museums around the world, including the Tate, London and the Museum of Modern Art and the Guggenheim in New York City. A large-format book, 2003&#39;s <a href=\"http://yalepress.yale.edu/yupbooks/book.asp?isbn=0300099436\" target=\"_blank\"><em>Manufactured Landscapes,</em></a> collected his work, and in 2007, a documentary based on his photography, also called <em><a href=\"http://www.mongrelmedia.com/films/ManufacturedLandscapes.html\" target=\"_blank\">Manufactured Landscapes</a>,</em> debuted at the Toronto Film Festival before going on to screen at Sundance and elsewhere. It was released on DVD in March 2007. In 2008, after giving a talk at the&nbsp;Long Now Foundation, Burtynsky proposed &quot;The 10,000 Year Gallery,&quot; which could house art to be curated over thousands of years preserved through carbon transfers in an effort to reflect the attitudes and changes of the world over time.&nbsp;</p><p>When Burtynsky accepted his 2005 <a href=\"/pages/view/id/6\" target=\"_blank\">TED Prize</a>, he made three <a href=\"/pages/view/id/109\" target=\"_blank\">wishes</a>. One of his wishes: to build a website that will help kids think about going green. Thanks to WGBH and the TED community, the show and site <em><a href=\"http://www.meetthegreens.org/\" target=\"_blank\">Meet the Greens</a></em> debuted at TED2007. His second wish: to begin work on an Imax film, which morphed into the jaw-dropping film <em>Manufactured Landscapes</em> with Jennifer Baichwal. And his third wish, wider in scope, was simply to encourage &quot;a massive and productive worldwide conversation about sustainable living.&quot; Thanks to his help and the input of the TED community, the site <a href=\"http://www.worldchanging.com/archives//006356.html\" target=\"_blank\" title=\"WorldChanging.com\">WorldChanging.com</a> got an infusion of energy that has helped it to grow into a leading voice in the sustainability community.</p>'}},\n",
       "  {u'speaker': {u'description': u'Biomedical inventor',\n",
       "    u'firstname': u'Robert',\n",
       "    u'id': 57,\n",
       "    u'lastname': u'Fischell',\n",
       "    u'middleinitial': u'',\n",
       "    u'published_at': u'2007-02-17 17:05:00',\n",
       "    u'slug': u'robert_fischell',\n",
       "    u'title': u'',\n",
       "    u'updated_at': u'2008-09-15 11:35:18',\n",
       "    u'whotheyare': u\"Robert Fischell invented the rechargeable pacemaker, the implantable insulin pump, and devices that warn of epileptic seizures and heart attacks. Yet it's not just his inventive genius that makes him fascinating, but his determination to make the world a better place. \",\n",
       "    u'whylisten': u'<p>Robert Fischell began his work in space development, and created a 16-satellite system called <a href=\"http://www.fas.org/spp/military/program/nav/transit.htm\" target=\"_blank\">Transit</a>  that was a key precursor to GPS. When he turned his attention to medical devices, he had the key insight that a pacemaker is like a tiny satellite within the body. <strong>The medical devices he has pioneered -- starting with a pacemaker that didn&#39;t require a new battery every two years -- have saved thousands of lives</strong> and improved countless more.<strong> </strong></p><p><strong>Fischell&#39;s true genius is his ability to see across technologies and sciences.</strong> His uncanny intuition allowed him to invent special features of the implantable cardiac defibrillator that has saved more than 60,000 lives -- followed by the implantable insulin pump, coronary stents used to open clogged arteries, and two extraordinary feedback systems that provide early warning of epileptic seizures and heart attacks. Though he is officially retired, he continues to create new devices to treat a wide range of ailments, from heart attacks to chronic migraines. </p><p>Accepting his <a href=\"/index.php/pages/view/id/104\" target=\"_blank\">2005 TED Prize</a>, Fischell made three <a href=\"/index.php/pages/view/id/109\" target=\"_blank\">wishes</a>. First, he wished for help in developing an implantable device to treat brain disorders such as obsessive-compulsive disorder; second, he asked for help in designing his portable Transcranial Magnetic Stimulator (TMS), <strong>a drug-less migraine treatment</strong> -- for the latest news on this device, see the website for his company <a href=\"http://www.neuralieve.com/\" target=\"_blank\">Neuralieve</a>. For his third wish, Fischell took on the medical malpractice system, which, he believes, puts doctors at the mercy of lawyers and insurers.</p>'}},\n",
       "  {u'speaker': {u'description': u'Epidemiologist, philanthropist',\n",
       "    u'firstname': u'Larry',\n",
       "    u'id': 58,\n",
       "    u'lastname': u'Brilliant',\n",
       "    u'middleinitial': u'',\n",
       "    u'published_at': u'2007-02-17 17:10:00',\n",
       "    u'slug': u'larry_brilliant',\n",
       "    u'title': u'',\n",
       "    u'updated_at': u'2013-03-11 22:26:48',\n",
       "    u'whotheyare': u\"2006 TED Prize winner Dr. Larry Brilliant has spent his career solving the ills of today -- from overseeing the last smallpox cases to saving millions from blindness -- and building technologies of the future. Now, as President and CEO of the Skoll Global Threats Fund , he's redefining how we solve the world's biggest problems.\",\n",
       "    u'whylisten': u'<p>Larry Brilliant&#39;s career path, as unlikely as it is inspirational, has proven worthy of his surname. Trained as a doctor, he was living in a Himalayan monastery in the early 1970s when <strong>his guru told him he should help rid the world of smallpox</strong>. He joined the World Health Organization&#39;s eradication project, directed efforts to eliminate the disease in India and eventually presided over the last case of smallpox on the planet.  </p><p>Not content with beating a single disease, <strong>he founded the nonprofit <a href=\"http://www.seva.org\" target=\"_blank\">Seva Foundation</a> , which has cured more than two million people of blindness in 15 countries </strong>(through innovative surgery, self-sufficient eye care systems, and low-cost manufacturing of intraocular lenses). Outside the medical field, he found time to cofound the legendary online community The Well, and run two public technology companies. Time and WIRED magazines call him a &quot;technology visionary.&quot; </p><p> His 2006 <a href=\"/pages/prizewinner_larry_brilliant\">TED Prize wish</a>  draws on both sides of his career: He challenged the TED community to help him <strong>build a global early-response system to detect new diseases or disasters</strong> as quickly as they emerge or occur. Shortly after he won the TED Prize, Google executives asked Brilliant to run their new philanthropic arm, <a href=\"http://Google.org\" target=\"_blank\">Google.org</a> . So, between consulting on the WHO&#39;s polio eradication project and designing a disease-surveillance network, he was able to harness Google&#39;s brains and billions in a mix of for-profit and nonprofit ventures tackling the global problems of disease, poverty and climate change. Today, Larry  is President and CEO of the Skoll Global Threats Fund, where he heads a team whose mission is to confront global threats imperiling humanity:  pandemics, climate change, water security, nuclear proliferation and Middle East conflict.</p>'}},\n",
       "  {u'speaker': {u'description': u'Musician, activist',\n",
       "    u'firstname': u'',\n",
       "    u'id': 59,\n",
       "    u'lastname': u'Bono',\n",
       "    u'middleinitial': u'',\n",
       "    u'published_at': u'2007-02-17 17:13:00',\n",
       "    u'slug': u'bono',\n",
       "    u'title': u'',\n",
       "    u'updated_at': u'2013-03-13 22:50:49',\n",
       "    u'whotheyare': u'Bono, the lead singer of U2, uses his celebrity to fight for social justice worldwide: to end hunger, poverty and disease, especially in Africa. His nonprofit ONE raises awareness via media, policy and calls to action.',\n",
       "    u'whylisten': u'<p>Irreverent, funny, iconoclastic and relentless, Bono has proven himself stunningly effective in encouraging and cajoling the world&#39;s most powerful leaders to take seriously the challenge of disease and hunger and seize the historic opportunity we now have to beat extreme poverty, especially in Africa, through technological innovation, smart aid, transparency and investments which put citizens in charge.&nbsp;</p><p>As lead singer of&nbsp;<a href=\"http://www.u2.com\" target=\"_blank\">U2</a>, Bono performed at&nbsp;<a href=\"http://www.imdb.com/title/tt0261024/\" target=\"_blank\">Live Aid</a> in 1985, which inspired him to travel to Ethiopia with his wife, Ali. There they spent several weeks helping with a famine relief project. The experience shocked him and ignited a determination to work for change. In Bono&#39;s own words, &quot;What are the blind spots of our age? It might be something as simple as our deep-down refusal to believe that every human life has equal worth&quot;. In 2005, the year of&nbsp;<a href=\"http://www.makepovertyhistory.org/2005/index.shtml\" target=\"_blank\">Make Poverty History</a>, Bono became one of the inaugural winners of the&nbsp;<a href=\"http://www.tedprize.org\" target=\"_blank\">TED Prize</a>; he used his wish to raise awareness and inspire activism.</p><p>In 2002, he co-founded&nbsp;<a href=\"http://data.d202.org\" target=\"_blank\">DATA</a> (Debt, AIDS, Trade, Africa), which later became the advocacy and campaign organization,&nbsp;<a href=\"http://www.one.org\" target=\"_blank\">ONE</a>. Today ONE has more than 3 million members who pressure politicians around the world to improve policies to empower the poorest. Thanks to these efforts, along with those of partners and grassroots leaders in Africa, these policies have delivered results. For example, eight million people are now on life preserving antiretoviral medications, malarial death rates have been halved in eight target countries, 50 million more children are in school and 5.4 million lives have been saved through vaccines.</p><p>In 2006, Bono and Bobby Shriver launched&nbsp;<a href=\"http://www.joinred.com\" target=\"_blank\">(RED)</a>&nbsp;to engage the private sector in the fight against AIDS in Africa. (RED) Partners direct a portion of their profits from (RED)-branded products, services and events directly to the Global Fund to Fight AIDS, Tuberculosis and Malaria. In just six years, (RED) has contributed more than $200 million - every penny of which goes directly to HIV/AIDS programs with the goal of eliminating mother-to-child transmission of HIV. To date, (RED) dollars have helped the lives of more than 14 million people in Africa through education, testing, counseling, and treatment programs. </p><p>Bono also co-founded EDUN with his wife Ali.&nbsp;<a href=\"http://www.edun.com\" target=\"_blank\">EDUN</a>&nbsp;is a global fashion brand which does business in an number of countries in Africa and beyond, sourcing materials and manufacturing clothing. In Uganda, EDUN is supporting over 8,000 farmers in their move from subsistence to sustainable business practices. &nbsp;</p>        <p>Granted knighthood in 2007 and dubbed a &quot;Man of Peace&quot; in 2008, Bono mobilized in 2010 following the devastating earthquake in Haiti, performing the song &quot;Stranded&quot; with bandmate The Edge -- and Rihanna and Jay-z -- during the for Hope for Haiti Now telethon. The event was watched by 83 million people in the United States alone and raised a reported $58 million for relief.</p><p>Bono&rsquo;s journey in activism spans a generation and where he is coming from, and above all where he is going, is something we should all pay close attention to.&nbsp;</p>'}},\n",
       "  {u'speaker': {u'description': u'Innovation consultant',\n",
       "    u'firstname': u'Charles',\n",
       "    u'id': 60,\n",
       "    u'lastname': u'Leadbeater',\n",
       "    u'middleinitial': u'',\n",
       "    u'published_at': u'2007-02-19 10:07:00',\n",
       "    u'slug': u'charles_leadbeater',\n",
       "    u'title': u'',\n",
       "    u'updated_at': u'2015-03-26 20:24:49',\n",
       "    u'whotheyare': u'A researcher at the London think tank Demos, Charles Leadbeater was early to notice the rise of \"amateur innovation\" -- great ideas from outside the traditional walls, from people who suddenly have the tools to collaborate, innovate and make their expertise known.',\n",
       "    u'whylisten': u'<p>Charles Leadbeater&#39;s theories on innovation have compelled some of the world&#39;s largest organizations to rethink their strategies. A financial journalist turned innovation consultant (for clients ranging from the British government to Microsoft), Leadbeater noticed the rise of <strong>&quot;pro-ams&quot; -- passionate amateurs who act like professionals</strong>, making breakthrough discoveries in many fields, from software to astronomy to kite-surfing. His 2004 essay <a href=\"http://www.demos.co.uk/publications/proameconomy\" target=\"_blank\">&quot;The Pro-Am Revolution&quot;</a>   -- which <a href=\"http://nytimes.com/\" target=\"_blank\"><em>The New York Times</em> </a> called one of the year&#39;s biggest global ideas -- highlighted the rise of this new breed of amateur. <br /><br />Prominent examples  range from the mountain bike to the open-source operating system Linux, from Wikipedia to the <a href=\"http://www.jubileedebtcampaign.org.uk/?lid=1\" target=\"_blank\">Jubilee 2000 campaign</a>, which helped persuade Western nations to cancel more than $30 billion in third-world debt. In his upcoming book, <em><a href=\"http://www.charlesleadbeater.net/orange-buttons/we-think.aspx\" target=\"_blank\">We-Think</a>,</em> <strong>Leadbeater explores how this emerging culture of mass creativity and participation could reshape companies and governments</strong>. A business reporter by training, he was previously an editor for the <em><a href=\"http://www.ft.com/home/us\" target=\"_blank\">Financial Times</a>,</em> and later, <a href=\"http://www.independent.co.uk/\" target=\"_blank\"><em>The Independent</em></a>, where, with Helen Fielding, he developed the &quot;Bridget Jones&#39; Diary&quot; column. Currently, he is researching for <a href=\"http://www.charlesleadbeater.net/orange-buttons/atlas-of-ideas.aspx\" target=\"_blank\">Atlas of Ideas</a>, a program that is mapping changes in the global geography of science and innovation. </p>'}},\n",
       "  {u'speaker': {u'description': u'Journalist, philosopher',\n",
       "    u'firstname': u'Robert',\n",
       "    u'id': 61,\n",
       "    u'lastname': u'Wright',\n",
       "    u'middleinitial': u'',\n",
       "    u'published_at': u'2007-02-19 10:12:00',\n",
       "    u'slug': u'robert_wright',\n",
       "    u'title': u'',\n",
       "    u'updated_at': u'2015-03-04 21:20:40',\n",
       "    u'whotheyare': u'The best-selling author of \"Nonzero,\" \"The Moral Animal\" and \"The Evolution of God,\" Robert Wright draws on his wide-ranging knowledge of science, religion, psychology, history and politics to figure out what makes humanity tick -- and what makes us moral. ',\n",
       "    u'whylisten': u'<p>Author Robert Wright thinks the crises the human species now faces are moral in nature, and that our salvation lies in the intelligent pursuit of self-interest. In his book <em><a href=\"http://www.nonzero.org/\" target=\"_blank\">Nonzero</a>,</em> Wright argues that life depends on a non-zero-sum dynamic. While a zero-sum game depends on a winner and loser, all parties in a non-zero-sum game win or lose together, so players will more likely survive if they cooperate. <strong>This points to an optimistic future of ultimate cooperation among humans -- if we recognize the game.</strong> <br /><br />Well-respected for his erudition and original thinking (Bill Clinton hailed him as a genius), Wright draws from multiple disciplines -- including science, religion, history and politics -- in his search for <strong>big-picture perspectives on today&#39;s problems</strong>, particularly terrorism, while offering guarded hope for where we might be headed. A <a href=\"http://www.newamerica.net/about/current_fellows\" target=\"_blank\">Schwartz Senior Fellow</a>  at the <a href=\"http://www.newamerica.net/\" target=\"_blank\">New America Foundation</a>, Wright also hosts an interview series with celebrated thinkers at <a href=\"http://meaningoflife.tv/\" target=\"_blank\">Meaningoflifetv.com</a>.</p><p>Wright&#39;s newest book, <a href=\"http://evolutionofgod.net/\" target=\"_blank\"><em>The Evolution of God</em></a>, explores the history of the idea of God in the three Abrahamic religions, Judaism, Islam and Christianity. </p>'}},\n",
       "  {u'speaker': {u'description': u'Anthropologist, ethnobotanist',\n",
       "    u'firstname': u'Wade',\n",
       "    u'id': 62,\n",
       "    u'lastname': u'Davis',\n",
       "    u'middleinitial': u'',\n",
       "    u'published_at': u'2007-02-19 13:06:00',\n",
       "    u'slug': u'wade_davis',\n",
       "    u'title': u'',\n",
       "    u'updated_at': u'2015-02-04 16:52:59',\n",
       "    u'whotheyare': u'A National Geographic Explorer-in-Residence, Wade Davis has been described as \\u201ca rare combination of scientist, scholar, poet and passionate defender of all of life\\u2019s diversity.\\u201d',\n",
       "    u'whylisten': u'<p>Wade Davis is perhaps the most articulate and influential western advocate for the world&#39;s indigenous cultures. A National Geographic Explorer-in-Residence, he has been described as &ldquo;a rare combination of scientist, scholar, poet and passionate defender of all of life&rsquo;s diversity.&rdquo; Trained in anthropology and botany at Harvard, he travels the globe to live alongside indigenous people, and document their cultural practices in books, photographs, and film. His stunning photographs and evocative stories capture the viewer&#39;s imagination. As a speaker, he parlays that sense of wonder into passionate concern over the rate at which cultures and languages are disappearing -- 50 percent of the world&#39;s 7,000 languages, he says, are no longer taught to children. He argues, in the most beautiful terms, that language is much more than vocabulary and grammatical rules. Every language is an old-growth forest of the mind. &nbsp;</p><p>Indigenous cultures are not failed attempts at modernity, let alone failed attempts to be us. They are unique expressions of the human imagination and heart, unique answers to a fundamental question: What does it mean to be human and alive? When asked this question, the peoples of the world respond in 7,000 different voices, and these collectively comprise our human repertoire for dealing with all the challenges that will confront us as a species over the coming centuries.</p><p>Davis is the author of 15 books including <em>The Serpent and the Rainbow</em>, <em>One River</em>, and <em>The Wayfinders</em>. His many film credits include <em>Light at the Edge of the World</em>, an eight-hour documentary series produced for the National Geographic. In 2009 he received the Gold Medal from the Royal Canadian Geographical Society for his contributions to anthropology and conservation, and he is the 2011 recipient of the Explorers Medal, the highest award of the Explorers&rsquo; Club, and the 2012 recipient of the Fairchild Medal for Plant Exploration. His latest books are <em>Into the Silence: The Great War, Mallory and the Conquest of Everest</em> and <em>The Sacred Headwaters: the Fight to Save the Stikine, Skeena and the Nass.</em></p>'}},\n",
       "  {u'speaker': {u'description': u'Mathematician; statistician',\n",
       "    u'firstname': u'Peter',\n",
       "    u'id': 63,\n",
       "    u'lastname': u'Donnelly',\n",
       "    u'middleinitial': u'',\n",
       "    u'published_at': u'2007-02-19 13:15:00',\n",
       "    u'slug': u'peter_donnelly',\n",
       "    u'title': u'',\n",
       "    u'updated_at': u'2010-06-18 16:31:19',\n",
       "    u'whotheyare': u\"Peter Donnelly is an expert in probability theory who applies statistical methods to genetic data -- spurring advances in disease treatment and insight on our evolution. He's also an expert on DNA analysis, and an advocate for sensible statistical analysis in the courtroom.\",\n",
       "    u'whylisten': u'<p>Peter Donnelly applies statistical methods to real-world problems, ranging from DNA analysis (for criminal trials), to the treatment of genetic disorders. <strong>A mathematician who collaborates with biologists</strong>, he specializes in applying probability and statistics to the field of genetics, in hopes of shedding light on evolutionary history and the structure of the human genome.</p><p>The Australian-born, Oxford-based mathematician is best known for his work in molecular evolution (tracing the roots of human existence to their earliest origins using the mutation rates of mitochondrial DNA). He studies genetic distributions in living populations to trace human evolutionary history -- an approach that informs research in evolutionary biology, as well as medical treatment for genetic disorders. Donnelly is a key player in the <a href=\"http://www.hapmap.org/\" target=\"_blank\">International HapMap Project</a>, an ongoing international effort to model human genetic variation and <strong>pinpoint the genes responsible for specific aspects of health and disease;</strong> its implications for disease prevention and treatment are vast. </p><p>He&#39;s also a leading expert on DNA analysis and the use of forensic science in criminal trials; he&#39;s <strong>an outspoken advocate for bringing sensible statistical analysis into the courtroom</strong>. Donnelly leads Oxford University&#39;s <a href=\"http://www.stats.ox.ac.uk/mathgen/mathgenindex.html\" target=\"_blank\">Mathematical Genetics Group</a>, which conducts research in genetic modeling, human evolutionary history, and forensic DNA profiling. He is also serves as Director of the Wellcome Trust Centre for Human Genetics at Oxford University, which explores the genetic relationships to disease and illness.&nbsp;</p>'}},\n",
       "  {u'speaker': {u'description': u'Global prioritizer',\n",
       "    u'firstname': u'Bjorn',\n",
       "    u'id': 64,\n",
       "    u'lastname': u'Lomborg',\n",
       "    u'middleinitial': u'',\n",
       "    u'published_at': u'2007-02-19 13:19:00',\n",
       "    u'slug': u'bjorn_lomborg',\n",
       "    u'title': u'',\n",
       "    u'updated_at': u'2015-03-06 21:44:31',\n",
       "    u'whotheyare': u\"Danish political scientist Bjorn Lomborg heads the Copenhagen Consensus, which has prioritized the world's greatest problems -- global warming, world poverty, disease -- based on how effective our solutions might be. It's a thought-provoking, even provocative list.\",\n",
       "    u'whylisten': u'<p>Bjorn Lomborg isn&#39;t afraid to voice an unpopular opinion. In 2007, he was named one of the 100 Most Influential People by <em>Time</em> magazine after the publication of his controversial book <em><a href=\"http://www.cambridge.org/uk/economics/lomborg/book.htm\" target=\"_blank\">The Skeptical Environmentalist</a>,</em> which challenged widely held beliefs that the environment is getting worse. This year, he was named on of the &quot;50 people who cold save the planet&quot;  by the <a href=\"http://www.guardian.co.uk/\" target=\"_blank\"><em>Guardian</em> </a> newspaper. In 2007 he published&nbsp;<em><a href=\"http://www.amazon.com/Cool-Skeptical-Environmentalists-Global-Warming/dp/0307266923/?tag=tedspeakers-20\" target=\"_blank\">Cool It: The Skeptical Environmentalist&#39;s Guide to Global Warming</a></em>, further analyzes what today&#39;s science tells us about global warming and its risks. That same year, his next book&nbsp;<span style=\"text-decoration: underline\" class=\"Apple-style-span\"><em>Solutions for</em></span><em style=\"text-decoration: underline\">&nbsp;the World&#39;s Biggest Problems</em>&nbsp;was released, which provided a summary of the greatest challenges facing humanity.&nbsp;</p><p>In 2004, he convened the <a href=\"http://www.copenhagenconsensus.com/Default.aspx?ID=788\" target=\"_blank\">Copenhagen Consensus</a>, which tries to <strong>prioritize the world&#39;s greatest challenges based on the impact we can make, a sort of bang-for-the-buck breakdown</strong> for attacking problems such as global warming, world poverty and disease. <strong><br /><br />It begins from the premise that  we can&#39;t solve every problem in the world, and asks: Which ones should we fix first?</strong> The Copenhagen Consensus 2004 tapped the expertise of world-leading economists, as well as a diverse forum of young participants; collectively, they determined that control of HIV/AIDS was the best investment -- and mitigating global warming was the worst. Lomborg summarized these findings in <em><a href=\"http://www.cambridge.org/us/catalogue/catalogue.asp?isbn=0521685710http://www.cambridge.org/us/catalogue/catalogue.asp?isbn=0521685710\" target=\"_blank\">How to Spend $50 Billion to Make the World a Better Place</a>.</em> In spring of 2008, Copenhagen Consensus convened again, assembling over 55 international economists, including 4 Nobel laureates, to assess, prioritize and brainstorm solutions for the major global challenges of today, including conflicts, malnutrition, health, education and terrorism. In 2013, he published&nbsp;<a href=\"http://www.amazon.com/Spend-Billion-World-Better-Place/dp/1940003008/?tag=tedspeakers-20\" target=\"_blank\"><em>How to Spend $75 Billion to Make the Wolrd a Better Place</em></a>.</p><h1 style=\"font-family: Arial, Helvetica, sans-serif; font-size: 1.7em; font-weight: normal; margin-bottom: 0px; margin-top: 0px\" class=\"parseasinTitle \"><br /></h1>'}},\n",
       "  {u'speaker': {u'description': u'Human-computer interface designer',\n",
       "    u'firstname': u'Jeff',\n",
       "    u'id': 65,\n",
       "    u'lastname': u'Han',\n",
       "    u'middleinitial': u'',\n",
       "    u'published_at': u'2007-02-19 13:21:00',\n",
       "    u'slug': u'jeff_han',\n",
       "    u'title': u'',\n",
       "    u'updated_at': u'2010-06-18 17:25:15',\n",
       "    u'whotheyare': u'After years of research on touch-driven computer displays, Jeff Han has created a simple, multi-touch, multi-user screen interface that just might herald the end of the point-and-click era. ',\n",
       "    u'whylisten': u'<p>Jeff Han&#39;s intuitive &quot;interface-free&quot; computer displays -- controlled by the touch of fingertips -- will change forever the way you think about computers. At TED 2006, <strong>the audience whistled, clapped and gasped audibly as Han demoed (for the first time publicly) his prototype drafting table-cum-touch display</strong>, developed at <a href=\"http://www.cims.nyu.edu/\" target=\"_blank\">NYU&#39;s Courant Institute of Mathematical Sciences</a>. The demo included a virtual lightbox, where he moved photos by fingertip -- as if they were paper on a desk -- flicking them across the screen and zooming in and out by pinching two fingers together, as well as a Google Earth-like map that he tilted and flew over with simple moves. </p><p>When the demo hit the web, bloggers and YouTubers made him a bit of a megastar. (His video has been watched more than 600,000 times on YouTube alone; &quot;Amazing,&quot; &quot;Incredible&quot; and &quot;Freaking awesome&quot; are the typical responses there. Also: <strong>&quot;When can I buy one?&quot;</strong>) After this legendary demo, Han launched a startup called <a href=\"http://www.perceptivepixel.com/\" target=\"_blank\">Perceptive Pixel</a>  -- and when he came back to TED2007, he and his team brought an entire interactive wall, where TEDsters lined up to play virtual guitars. His talent and reputation earned him a place on Time Magazine&#39;s 2008 list of the world&#39;s 100 Most Influential People.&nbsp;</p>'}},\n",
       "  {u'speaker': {u'description': u'Playwright, activist',\n",
       "    u'firstname': u'Eve',\n",
       "    u'id': 66,\n",
       "    u'lastname': u'Ensler',\n",
       "    u'middleinitial': u'',\n",
       "    u'published_at': u'2007-02-19 13:23:00',\n",
       "    u'slug': u'eve_ensler',\n",
       "    u'title': u'',\n",
       "    u'updated_at': u'2015-03-04 04:33:58',\n",
       "    u'whotheyare': u'Eve Ensler created the ground-breaking \"Vagina Monologues,\" whose success propelled her to found V-Day -- a movement to end violence against women and girls everywhere.',\n",
       "    u'whylisten': u'<p>Inspired by intimate conversations with friends, Eve Ensler wrote <em><a href=\"http://www.randomhouse.com/features/ensler/vm/\" target=\"_blank\">The Vagina Monologues</a></em>. The play recounts <strong>tender, funny, gripping and horrifying stories she gathered from hundreds of women</strong> about their bodies, their sexual experiences, and yes, their vaginas. Since its first staging in 1996, it has been translated into more than 45 languages, performed in more than 120 countries and re-created as an HBO film. <br /><br /><em>The Vagina Monologues</em>&#39; success allowed Ensler to create <strong><a href=\"http://www.vday.org/main.html\" target=\"_blank\">V-Day</a></strong>, <strong>a global activist movement to end violence against women and girls, which has so far raised $85 million</strong> to prevent violence and protect abused women. In February 2011, Ensler received the Isabelle Stephenson Tony Award for her philanthropic work. Ensler has also drawn praise for <em><a href=\"http://www.thegoodbody.com/\" target=\"_blank\">The Good Body</a>,</em> a play that cuts to women&#39;s obsession with their appearance, and her film <a href=\"http://www.pbs.org/pov/whatiwant/\"><em>What I Want My Words to Do to You</em></a>, which portrays a writing group she leads at a correctional facility for women. Today, she continues to find new projects and push the envelope. Her latest play, <a href=\"http://www.amazon.com/Am-Emotional-Creature-Secret-Around/dp/1400061040?tag=tedspeakers-20\" target=\"_blank\"><em>I Am an Emotional Creature: The Secret Life of Girls Around the World</em></a>, hit the <em>New York Times</em> bestseller list and just wrapped a workshop production in Johannesburg -- nest stop is Paris and then Berkeley in June 2012.</p>'}},\n",
       "  {u'speaker': {u'description': u'Actor, playwright, social critic',\n",
       "    u'firstname': u'Anna',\n",
       "    u'id': 67,\n",
       "    u'lastname': u'Deavere Smith',\n",
       "    u'middleinitial': u'',\n",
       "    u'published_at': u'2007-02-19 14:27:00',\n",
       "    u'slug': u'anna_deavere_smith',\n",
       "    u'title': u'',\n",
       "    u'updated_at': u'2014-08-14 14:43:35',\n",
       "    u'whotheyare': u\"Anna Deavere Smith's ground-breaking solo shows blur the lines between theater and journalism, using text from real-life encounters to create gripping portraits.\",\n",
       "    u'whylisten': u'<p>Hailed by <em>Newsweek</em> as &quot;the most exciting individual in American theater,&quot; Anna Deavere Smith uses solo performance as a public medium to <strong>explore issues of race, identity and community in America</strong>. Her grandfather once told her, &quot;Say a word often enough, and it becomes you.&quot;</p><p>Inspired by this and Walt Whitman&#39;s idea &quot;to absorb America,&quot; Deavere Smith began interviewing people (more than 2,000 now) across the country some 20 years ago. Without props, sets or costumes, she translates those encounters into profound performances, each drawing verbatim from the original recorded interview. <strong>She has an uncanny ability to inhabit the characters -- or rather the people -- she&#39;s representing </strong>onstage, regardless of their race, gender or age. And while her approach to cultural commentary is now widely imitated, she remains the master of the form. Her play, <a href=\"http://events.stanford.edu/events/95/9520/\" target=\"_blank\"><em>Let Me Down Easy</em></a>, premiered this year at the Long Wharf Theater. </p><p>Deavere Smith is perhaps best known for her examination of race relations, having written and performed <em> <a href=\"http://books.google.com/books?id=XtNoLSy35IsC&amp;dq=fires+in+the+mirror&amp;printsec=frontcover&amp;source=web&amp;ots=-snQjEdv6L&amp;sig=2Sgqq5C_qgsSZvWywvwAc6onidY#PPA6,M1\" target=\"_blank\">Fires in the Mirror</a>,</em> a raw view of those affected by the Crown Heights riots of 1991, and <em><a href=\"http://www.imdb.com/title/tt0237865/\" target=\"_blank\">Twilight: Los Angeles</a>,</em> which tackled the 1992 Los Angeles riots. Along the way, she&#39;s earned two Obies, <strong>a MacArthur &quot;genius&quot; grant</strong>, and several Tony nominations, while also teaching at Stanford and NYU, and roles on such shows as <em>The West Wing</em> and HBO&#39;s <em><a href=\"http://www.hbo.com/films/lifesupport/\" target=\"_blank\">Life Support</a>. </em>Her most recent book is <em><a href=\"http://www.randomhouse.com/anchor/catalog/display.pperl?isbn=9781400032389\" target=\"_blank\">Letters to a Young Artist: Straight Up Advice on Making a Life in the Arts</a>,</em> and she is the founding director of the <a href=\"http://www.artsandcivicdialogue.org/\" target=\"_blank\">Institute on the Arts and Civic Dialogue</a>, a group that brings together artists to make works about social change. </p> '}},\n",
       "  {u'speaker': {u'description': u'Writer',\n",
       "    u'firstname': u'Steven',\n",
       "    u'id': 68,\n",
       "    u'lastname': u'Johnson',\n",
       "    u'middleinitial': u'',\n",
       "    u'published_at': u'2007-02-19 14:33:00',\n",
       "    u'slug': u'steven_johnson',\n",
       "    u'title': u'',\n",
       "    u'updated_at': u'2015-03-03 23:46:59',\n",
       "    u'whotheyare': u'Steven Berlin Johnson examines the intersection of science, technology and personal experience.',\n",
       "    u'whylisten': u'<p>A dynamic writer and speaker, Johnson crafts captivating theories that draw on a dizzying array of disciplines, without ever leaving his audience behind. Author Kurt Anderson described Johnson&#39;s book <em><a href=\"http://www.amazon.com/exec/obidos/ASIN/0684868768/?tag=tedspeakers-20\" target=\"_blank\">Emergence</a></em> as &quot;thoughtful and lucid and charming and staggeringly smart.&quot; The same could be said for Johnson himself. His big-brained, multi-disciplinary theories make him one of his generation&#39;s more intriguing thinkers. His books take the reader on a journey -- following the twists and turns his own mind makes as he connects seemingly disparate ideas: ants and cities, interface design and Victorian novels. </p><p>Johnson&#39;s breakout 2005 title, <em><a href=\"http://www.amazon.com/Everything-Bad-Good-Steven-Johnson/dp/B000O17CYM/?tag=tedspeakers-20\" target=\"_blank\">Everything Bad Is Good for You</a> ,</em> took the provocative stance that our fear and loathing of popular culture is misplaced; video games and TV shows, he argues, are actually making us smarter. His appearances on <em>The Daily Show</em> and <em>Charlie Rose</em> cemented his reputation as a cogent thinker who could also pull more than his share of laughs. His most recent work, <em><a href=\"http://www.amazon.com/exec/obidos/ASIN/1594489254/?tag=tedspeakers-20\" target=\"_blank\">The Ghost Map</a>,</em> goes in another direction entirely: It tells the story of a cholera outbreak in 1854 London, from the perspective of the city residents, the doctors chasing the disease, and the pathogen itself. The book shows how the epidemic brought about profound changes in science, cities and modern society. His upcoming work, <em><a href=\"http://www.amazon.com/Where-Good-Ideas-Come-Innovation/dp/1594487715/?tag=tedspeakers-20\">Where Good Ideas Come From: The Natural History of Innovation</a></em>, tells the fascinating stories of great ideas and great thinkers across disciplines.&nbsp; </p><p>No mere chronicler of technology, Johnson is himself a longtime innovator in the web world: He was founder and Editor in Chief of FEED, one of the earliest and most interesting online magazines. He cofounded <a href=\"http://www.patch.com/\" target=\"_blank\">Patch</a>, an intriguing website that maps online conversations to real-world neighborhoods, and outside.in -- and is an advisor to many other startups, including Medium and Jelly. He is the host and co-creator of the new PBS and BBC television series <em>How We Got to Now,</em> airing in the fall of 2014.</p>'}},\n",
       "  {u'speaker': {u'description': u'Author/educator',\n",
       "    u'firstname': u'Ken',\n",
       "    u'id': 69,\n",
       "    u'lastname': u'Robinson',\n",
       "    u'middleinitial': u'',\n",
       "    u'published_at': u'2007-02-19 14:43:00',\n",
       "    u'slug': u'sir_ken_robinson',\n",
       "    u'title': u'Sir',\n",
       "    u'updated_at': u'2013-07-22 21:43:45',\n",
       "    u'whotheyare': u\"Creativity expert Sir Ken Robinson challenges the way we're educating our children. He champions a radical rethink of our school systems, to cultivate creativity and acknowledge multiple types of intelligence. \",\n",
       "    u'whylisten': u'<p>Why don&#39;t we get the best out of people? Sir Ken Robinson argues that it&#39;s because we&#39;ve been educated to become good workers, rather than creative thinkers. Students with restless minds and bodies -- far from being cultivated for their energy and curiosity -- are ignored or even stigmatized, with terrible consequences. <strong>&quot;We are educating people out of their creativity,&quot; Robinson says.</strong> It&#39;s a message with deep resonance. Robinson&#39;s TEDTalk has been distributed widely around the Web since its release in June 2006. The most popular words framing blog posts on his talk? &quot;Everyone should watch this.&quot; </p><p>A visionary cultural leader, Sir Ken led the British government&#39;s 1998 advisory committee on creative and cultural education, <strong>a massive inquiry into the significance of creativity in the educational system and the economy</strong>, and was knighted in 2003 for his achievements. His 2009 book, <em><a href=\"http://sirkenrobinson.com/?page_id=15\" target=\"_blank\">The Element: How Finding Your Passion Changes Everything</a></em>, is a&nbsp;<em>New York Times</em> bestseller and has been translated into 21 languages. A 10th anniversary edition of his classic work on creativity and innovation,&nbsp;<a href=\"http://sirkenrobinson.com/?page_id=15\" target=\"_blank\"><em>Out of Our Minds: Learning to be Creative</em></a>, was published in 2011. His latest book,&nbsp;<a href=\"http://sirkenrobinson.com/?page_id=420\" target=\"_blank\"><em>Finding Your Element: How to Discover Your Talents and Passions and Transform Your Life</em></a>, will be published by Viking in May 2013.&nbsp;</p>'}},\n",
       "  {u'speaker': {u'description': u'Marketer, success analyst',\n",
       "    u'firstname': u'Richard',\n",
       "    u'id': 70,\n",
       "    u'lastname': u'St. John',\n",
       "    u'middleinitial': u'',\n",
       "    u'published_at': u'2007-02-26 20:03:00',\n",
       "    u'slug': u'richard_st_john',\n",
       "    u'title': u'',\n",
       "    u'updated_at': u'2015-02-11 02:54:16',\n",
       "    u'whotheyare': u'A self-described average guy who found success doing what he loved, Richard St. John spent more than a decade researching the lessons of success -- and distilling them into 8 words, 3 minutes and one successful book.',\n",
       "    u'whylisten': u'<p> Richard St. John was on his way to the TED conference when a girl on the plane asked him, &quot;What really leads to success?&quot; Even though he had achieved some success, he couldn&#39;t explain how he did it. So he spent the next ten years researching success and asking over 500 extraordinarily successful people in many fields what helped them succeed. After analyzing, sorting, and correlating millions of words of research, and building one of the most organized databases on the subject of success, he discovered &quot;The 8 Traits Successful People Have in Common&quot; and wrote the bestseller&nbsp;<a href=\"http://www.amazon.com/Traits-Successful-People-Have-Common/dp/0973900970/?tag=tedspeakers-20\" target=\"_blank\"><em>8 To Be Great</em></a> .</p>  <p> In his books and talks,he shares a wealth of wisdom from the world&#39;s most successful people -- knowledge that can help others succeed in their own way, whether it&#39;s escaping poverty, building a business, raising a family, or changing the world.</p>'}},\n",
       "  {u'speaker': {u'description': u'Pastor, author',\n",
       "    u'firstname': u'Rick',\n",
       "    u'id': 71,\n",
       "    u'lastname': u'Warren',\n",
       "    u'middleinitial': u'',\n",
       "    u'published_at': u'2007-02-26 20:10:00',\n",
       "    u'slug': u'rick_warren',\n",
       "    u'title': u'',\n",
       "    u'updated_at': u'2010-06-21 09:10:34',\n",
       "    u'whotheyare': u'Pastor Rick Warren is the author of <em>The Purpose-Driven Life,</em> which has sold more than 30 million copies worldwide. His has become an immensely influential voice seeking to apply the values of his faith to issues such as global poverty, HIV/AIDS and injustice.',\n",
       "    u'whylisten': u'<p>Pastor Rick Warren is one of the world&#39;s most influential Christians. His <a href=\"http://www.saddleback.com/flash/default.htm\" target=\"_blank\">Saddleback Church</a>, founded in 1980, boasts a congregation of 22,000, and his <a href=\"http://www.purposedrivenlife.com/\" target=\"_blank\"><em>Purpose-Driven Life</em></a>  is one of the best-selling books of all time. <strong>Warren&#39;s mission is to attack what he calls the five &quot;Global Goliaths&quot; -- spiritual emptiness, egocentric leadership, extreme poverty, pandemic disease, and illiteracy and poor education.</strong> </p><p>He teaches that <strong>doing good is the only way humans create significance in our lives</strong>. He and his wife famously became &quot;reverse tithers,&quot; donating 90 percent of their considerable fortune to philanthropic causes. Warren is particularly passionate about fighting AIDS, and in 2006, his church hosted the second annual <a href=\"http://www.purposedriven.com/en-US/HIVAIDSCommunity/GlobalConference/What_one_church_is_doing_after_the_Summit.htm\" target=\"_blank\">Global Summit on AIDS</a>  and the Church, attended by US Senator Barack Obama, among others (controversial within the evangelical movement, because Obama is pro-choice). <br /><br />In recent years, Warren has become <strong>a prominent steward of social justice</strong>, speaking out on poverty relief and encouraging spiritual leaders to play a role in <strong>guiding the planet toward sustainability</strong>. (He even attended the premiere of <em><a href=\"http://www.imdb.com/title/tt0497116/\" target=\"_blank\">An Inconvenient Truth</a>,</em> after meeting Al Gore and producer Lawrence Bender at TED2006.) <br /><br />Given his global focus and considerable platform, <strong>Warren has become a sought-after advisor to world leaders</strong>, speaking at the <a href=\"http://www.un.org/\" target=\"_blank\">United Nations</a>, the <a href=\"http://www.weforum.org/en/index.htm\" target=\"_blank\">World Economic Forum</a>  and the <a href=\"http://www.cfr.org/\" target=\"_blank\">Council on Foreign Relations</a>. His involvement in the 2008 Presidential election sparked controversy and praise from both sides; during the campaign trail, he hosted candidates John McCain and Barack Obama at Saddleback Church for a forum on moral issues. It was the first time McCain and Obama appeared together publicly as presidential candidates. When Barack Obama was later elected to office, he asked Warren to give the invocation at his inauguration.&nbsp;</p>'}},\n",
       "  {u'speaker': {u'description': u'Drone maker',\n",
       "    u'firstname': u'Chris',\n",
       "    u'id': 72,\n",
       "    u'lastname': u'Anderson',\n",
       "    u'middleinitial': u'',\n",
       "    u'published_at': u'2007-02-26 20:15:00',\n",
       "    u'slug': u'chris_anderson_wired',\n",
       "    u'title': u'',\n",
       "    u'updated_at': u'2013-12-19 22:47:35',\n",
       "    u'whotheyare': u'Chris Anderson is an authority on emerging technologies and the cultures that surround them.',\n",
       "    u'whylisten': u'<p>Before Chris Anderson took over as editor of <em>WIRED,</em> he spent seven years at <em>The Economist,</em> where he worked as editor of both the technology and business sections. Anderson holds a degree in physics and has conducted research at the Los Alamos National Laboratory, and has done stints at the leading journals <em>Nature</em> and <em>Science</em>.</p><p>(He is not, however, to be confused with the curator of TED, who has the same name.) </p><p>He&#39;s perhaps most famous for coining the term &quot;the long tail,&quot; a whiteboard favorite that describes <strong>the business strategy of pursuing </strong><strong>many little fish (versus a few big fish)</strong>, as typified by both Amazon and Netflix. Anderson first introduced the term in <a href=\"http://www.wired.com/wired/archive/12.10/tail.html\" target=\"_blank\">an article</a>  written for <em>WIRED</em> in 2004; the book-length version, <em><a href=\"http://www.longtail.com/about.html\" target=\"_blank\">The Long Tail: Why the Future of Business Is Selling Less of More</a>,</em> became a bestseller. He maintains a blog, <a href=\"http://longtail.typepad.com/the_long_tail/\" target=\"_blank\">The Long Tail</a>, which he updates with impressive regularity.</p>'}},\n",
       "  {u'speaker': {u'description': u'Journalist',\n",
       "    u'firstname': u'Carl',\n",
       "    u'id': 73,\n",
       "    u'lastname': u'Honore',\n",
       "    u'middleinitial': u'',\n",
       "    u'published_at': u'2007-02-26 20:25:00',\n",
       "    u'slug': u'carl_honore',\n",
       "    u'title': u'',\n",
       "    u'updated_at': u'2015-03-03 22:02:50',\n",
       "    u'whotheyare': u'In his book <em>In Praise of Slowness,</em> Carl Honor\\xe9 dissects our speed-obsessed society and celebrates those who have gotten in touch with their \"inner tortoise.\"',\n",
       "    u'whylisten': u'<p>Canadian-born journalist Carl Honor&eacute; has written for <em>The Economist,</em> the <em>Houston Chronicle,</em> the <em>Observer,</em> and the <em>National Post,</em> but he is best known for his advocacy of the <a href=\"http://www.slowmovement.com/\" target=\"_blank\">Slow Movement</a>. A loose and international effort by the harried and haggard to decelerate the pace of their lives, the <a href=\"http://www.slowmovement.com/\" target=\"_blank\">Slow Movement</a>  spans everything from telecommunications (<a href=\"http://www.slowlab.net/slowmail.html\" target=\"_blank\">slow email</a>) and health care (slow medicine) to diet (<a href=\"http://slowfood.com/\" target=\"_blank\">slow food</a>) and public space (<a href=\"http://matogmer.no/slow_cities__citta_slow.htm\" target=\"_blank\">slow cities</a>). <strong><br /><br />Honore&#39;s bestselling book <a href=\"http://www.amazon.com/Praise-Slowness-Challenging-Cult-Speed/dp/B000GH2YHO/?tag=tedspeakers-20\" target=\"_blank\"><em>In Praise of Slowness</em>  </a> plots the lineage of our speed-obsessed society</strong>; while it recognizes the difficulty of slowing down, it also highlights the successes of everyday people around the world who have found ways of doing it. Honor&eacute; traces his &quot;Aha&quot; moment to his son&#39;s bedtime, when Honore would race through storybooks -- skipping pages, reading portions of paragraphs -- to move things along. (He&#39;s since reformed.) His latest book, <em><a href=\"http://www.amazon.com/Under-Pressure-Rescuing-Children-Hyper-Parenting/dp/0061128805/?tag=tedspeakers-20\" target=\"_blank\">Under Pressure</a>, </em>is about how we are raising a generation of overprogrammed, overachieving and exhausted children.  </p>'}},\n",
       "  {u'speaker': {u'description': u'Planetary futurist',\n",
       "    u'firstname': u'Alex',\n",
       "    u'id': 74,\n",
       "    u'lastname': u'Steffen',\n",
       "    u'middleinitial': u'',\n",
       "    u'published_at': u'2007-02-27 09:54:00',\n",
       "    u'slug': u'alex_steffen',\n",
       "    u'title': u'',\n",
       "    u'updated_at': u'2011-08-08 15:12:55',\n",
       "    u'whotheyare': u\"Alex Steffen explores our planet's future, telling powerful, inspiring stories about the hard choices facing humanity ... and our opportunity to create a much better tomorrow.\",\n",
       "    u'whylisten': u'<p>Do you ever wonder whether we should be optimistic or pessimistic about the future? If you want more reasons to think things may still turn out for the better, Alex Steffen&#39;s your man. He doesn&#39;t downplay the scope and scale of the problems we face. Instead, he shows that we have the tools within our grasp for meeting those massive challenges, if we have the will to use them.<br /><br />This isn&#39;t just hopeful thinking, either. Steffen uses real-world examples and big-picture research to show us that a brighter, greener future is ours to choose, and his work has earned him the ear of leading cities, corporations and philanthropic foundations. As the <em>New York Time</em>s said a recent profile, &quot;Alex Steffen lays out the blueprint for a successful century.&quot;<br /><br />After working as a journalist on four continents, Steffen co-founded and ran the online magazine <a href=\"http://worldchanging.com/\" target=\"_blank\">Worldchanging.com</a> from 2003-2010. In those seven years, he made Worldchanging one of the world&#39;s leading sustainability-related publications with an archive of almost 12,000 articles and a large global audience. He also edited an internationally best-selling book surveying innovative solutions to the planet&#39;s most pressing problems: <em>Worldchanging: A User&#39;s Guide for the 21st Century</em>. <br /><br />His most recent work is <em>Carbon Zero</em>, a book describing cities that create prosperity not climate change, accelerating their economies while reducing their climate emissions to zero. He is now at work on a new book and a television project. &quot;The big open secret about sustainability work,&quot; he recently told <em>Design Observer</em> magazine, &#39;is not how bad things are. It is how good things can get.&quot;</p>'}},\n",
       "  {u'speaker': {u'description': u'Nonprofit venture capitalist',\n",
       "    u'firstname': u'Sasa',\n",
       "    u'id': 75,\n",
       "    u'lastname': u'Vucinic',\n",
       "    u'middleinitial': u'',\n",
       "    u'published_at': u'2007-03-03 11:27:00',\n",
       "    u'slug': u'sasa_vucinic',\n",
       "    u'title': u'',\n",
       "    u'updated_at': u'2008-11-14 06:40:07',\n",
       "    u'whotheyare': u\"Sasa Vucinic's Media Development Loan Fund applies venture-capital principles to create a sustainable free press in developing nations and countries emerging from repressive regimes.\",\n",
       "    u'whylisten': u'<p>&quot;We want to create a new class of media entrepreneurs,&quot; says Sasa Vucinic, whose innovative approach to incubating a free press treats independent media like startups instead of charity cases. In most of the countries where his <a href=\"http://www.mdlf.org/\" target=\"_blank\">Media Development Loan Fund</a>  is active, management skills are dramatically lacking, and too often, <strong>grants backfire by creating a dependency</strong> that cannot be sustained when the Western donors leave. </p><p>All the projects supported by <a href=\"http://www.mdlf.org/\" target=\"_blank\">MDLF</a>  espouse the reverse philosophy: It doesn&#39;t give grants. Instead, it strives to help independent media with the <em>business</em> of providing news. <strong>Only when a media company can sustain itself with its own revenues, says Vucinic, can it be truly independent.</strong> Vucinic comes by his free-press focus through experience; prior to founding the <a href=\"http://www.mdlf.org/\" target=\"_blank\">MDLF</a>, he was a top editor with Belgrade opposition radio station <a href=\"http://www.b92.net/eng/\" target=\"_blank\">B92</a>. He&#39;s also worked for the Soros Foundations Network (which later became the Open Society Institute), advising the national foundations on how to support independent media.</p><p>He&#39;ll be speaking at the <a href=\"http://www.gfmd-athensconference.com/node/107\" target=\"_blank\">Global Forum for Media Development</a>  next month in Greece. </p>'}},\n",
       "  {u'speaker': {u'description': u'Primate authority',\n",
       "    u'firstname': u'Susan',\n",
       "    u'id': 76,\n",
       "    u'lastname': u'Savage-Rumbaugh',\n",
       "    u'middleinitial': u'',\n",
       "    u'published_at': u'2007-03-03 12:18:00',\n",
       "    u'slug': u'susan_savage_rumbaugh',\n",
       "    u'title': u'',\n",
       "    u'updated_at': u'2008-06-22 02:30:24',\n",
       "    u'whotheyare': u'Susan Savage-Rumbaugh has made startling breakthroughs in her lifelong work with chimpanzees and bonobos, showing the animals to be adept in picking up language and other \"intelligent\" behaviors.',\n",
       "    u'whylisten': u'<p>Into the great debate over intelligence and instinct -- over what makes us human -- Susan Savage-Rumbaugh has thrown a monkey wrench. Her work with apes has forced <strong>a new way of looking at what traits are truly and distinctly human</strong>, and new questions about whether some abilities we attribute to &quot;species&quot; are in fact due to an animal&#39;s social environment. She believes culture and tradition, in many cases more than biology, can account for differences between humans and other primates. </p><p>Her bonobo apes, including a superstar named Kanzi, understand spoken English, interact, and have learned to execute tasks once believed limited to humans -- such as starting and controlling a fire. They aren&#39;t trained in classic human-animal fashion. <strong>Like human children, the apes learn by watching.</strong> &quot;Parents really don&#39;t know how they teach their children language,&quot; she has said. &quot;Why should I have to know how I teach Kanzi language? I just act normal around him, and he learns it.&quot;</p>'}},\n",
       "  {u'speaker': {u'description': u'Biologist, biomechanics researcher',\n",
       "    u'firstname': u'Sheila',\n",
       "    u'id': 77,\n",
       "    u'lastname': u'Patek',\n",
       "    u'middleinitial': u'',\n",
       "    u'published_at': u'2007-03-03 13:05:00',\n",
       "    u'slug': u'sheila_patek',\n",
       "    u'title': u'',\n",
       "    u'updated_at': u'2014-02-26 18:18:24',\n",
       "    u'whotheyare': u\"Biologist Sheila Patek is addicted to speed -- animal speed. She's measured the fastest animal movements in the world, made by snail-smashing mantis shrimp and the snapping mandibles of trap-jaw ants.\",\n",
       "    u'whylisten': u'<p>Sheila Patek, a UC Berkeley biologist, made a name for herself by measuring the hyperfast movements of snail-smashing mantis shrimp heels and bug-snapping ant jaws, using high-speed video cameras recording at up to 20,000 frames per second. In 2004, she and her team showed that peacock mantis shrimp had the fastest feeding strike in the animal kingdom, and that they are <strong>the only known animal to store energy in a hyperbolic paraboloid, a super-strong Pringles-shaped structure</strong> more often found in modern architecture. <br /><br />Then in 2006, she and her team announced that trap-jaw ants had stolen the title of fastest striker from the mantis shrimp, when their <strong>research measured the ants&#39; snapping jaws at an awesome 78 to 145 miles per hour,</strong> accelerating at 100,000 times the force of gravity. Patek&#39;s previous research focused on the sounds made by spiny lobsters, discovering that they used a mechanism similar to a violin. In 2004, she was named one of <em>Popular Science</em> magazine&#39;s &quot;Brilliant 10.&quot; The&nbsp;Patek Lab at University of Massachusetts Amherst, where Patek is the principal investigator, continues to explore evolutionary questions through the integration of physiology, biomechanics, evolutionary analysis and animal behavior.</p>'}},\n",
       "  {u'speaker': {u'description': u'Master of visual illusions',\n",
       "    u'firstname': u'Al',\n",
       "    u'id': 78,\n",
       "    u'lastname': u'Seckel',\n",
       "    u'middleinitial': u'',\n",
       "    u'published_at': u'2007-03-03 13:14:00',\n",
       "    u'slug': u'al_seckel',\n",
       "    u'title': u'',\n",
       "    u'updated_at': u'2013-05-07 16:07:59',\n",
       "    u'whotheyare': u'Cognitive neuroscientist Al Seckel explores how eye tricks can reveal the way the brain processes visual information -- or fails to do so. Among his other accomplishments: He co-created the Darwin Fish.',\n",
       "    u'whylisten': u'<p>Al Seckel takes great delight in visual illusions and the brain mechanics that they reveal. A cognitive neuroscientist who until 2005 was at the California Institute of Technology, he is the author of many books and articles and has compiled several eye tricks calendars. Seckel has designed interactive museum exhibits around the world that allow visitors to <strong>play with illusions and understand how they work</strong>. </p><p>He is a noted lecturer, a member of the Edge Foundation, a founder of the Southern California Skeptics, a campaigner against the teaching of creationism in public schools -- and co-creator of the Darwin Fish. Since leaving Caltech in 2005 to pursue writing and his own research, he has continued his work in spatial imagery with psychology researchers at Harvard.</p><p>Watch his 2010 talk from TEDxUSC: <a href=\"https://www.youtube.com/watch?v=BU8WEVn_LMg\" target=\"_blank\">&quot;[Y]Our Mind&#39;s Eye&quot; &gt;&gt;</a>  </p>'}},\n",
       "  {u'speaker': {u'description': u'Founder, GrameenPhone',\n",
       "    u'firstname': u'Iqbal',\n",
       "    u'id': 79,\n",
       "    u'lastname': u'Quadir',\n",
       "    u'middleinitial': u'',\n",
       "    u'published_at': u'2007-03-03 13:19:00',\n",
       "    u'slug': u'iqbal_quadir',\n",
       "    u'title': u'',\n",
       "    u'updated_at': u'2008-12-12 13:07:54',\n",
       "    u'whotheyare': u'Iqbal Quadir is an advocate of business as a humanitarian tool. With GrameenPhone, he brought the first commercial telecom services to poor areas of Bangladesh. His latest project will help rural entrepreneurs build power plants.',\n",
       "    u'whylisten': u'<p>As a kid in rural Bangladesh in 1971, Iqbal Quadir had to walk half a day to another village to find the doctor -- who was not there. Twenty years later he felt the same frustration while working at a New York bank, using diskettes to share information during a computer network breakdown. His epiphany: In both cases, <strong>&quot;connectivity is productivity.&quot;</strong> Had he been able to call the doctor, it would have saved him hours of walking for nothing. <br /><br />Partnering with microcredit pioneer <a href=\"http://www.grameen-info.org/index.html\" target=\"_blank\">GrameenBank</a>, in 1997 Quadir established <a href=\"http://www.grameenphone.com/\" target=\"_blank\">GrameenPhone</a>, a wireless operator now offering phone services to 80 million rural Bangladeshi. It&#39;s become the model for <strong>a bottom-up, tech-empowered approach to development.</strong> &quot;Phones have a triple impact,&quot; Quadir says. &quot;They provide business opportunities; connect the village to the world; and generate over time a culture of entrepreneurship, which is crucial for any economic development.&quot;</p>'}},\n",
       "  {u'speaker': {u'description': u'Futurist',\n",
       "    u'firstname': u'Juan',\n",
       "    u'id': 80,\n",
       "    u'lastname': u'Enriquez',\n",
       "    u'middleinitial': u'',\n",
       "    u'published_at': u'2007-03-03 13:22:00',\n",
       "    u'slug': u'juan_enriquez',\n",
       "    u'title': u'',\n",
       "    u'updated_at': u'2015-03-03 23:40:42',\n",
       "    u'whotheyare': u'Juan Enriquez thinks and writes about profound changes that genomics will bring in business, technology, and society.',\n",
       "    u'whylisten': u'<p>A broad thinker who studies the intersection of science, business and society, Juan Enriquez has a talent for bridging disciplines to build a coherent look ahead. Enriquez was the founding director of the <a href=\"http://www.hbs.edu/\" target=\"_blank\">Harvard Business School</a> <a href=\"http://www.hbs.edu/research/facpubs/workingpapers/abstracts/0203/03-072.html\" target=\"_blank\"> Life Sciences Project</a>, and has published widely on topics from the technical (global nucleotide data flow) to the sociological (gene research and national competitiveness), and was a member of Celera Genomics founder <a href=\"/speakers/view/id/7\" target=\"_blank\">Craig Venter</a>&#39;s marine-based team to collect genetic data from the world&#39;s oceans. </p><p>Formerly CEO of Mexico City&#39;s Urban Development Corporation and chief of staff for Mexico&#39;s secretary of state, Enriquez played a role in reforming Mexico&#39;s domestic policy and helped negotiate a cease-fire with Zapatista rebels. He is a Managing Director at <a href=\"http://www.emven.com/index.html\" target=\"_blank\">Excel Medical Ventures</a>, a life sciences venture capital firm, and the chair and CEO of <a href=\"http://www.biotechonomy.com/\" target=\"_blank\">Biotechonomy</a>, a research and investment firm helping to fund new genomics firms. <em><a href=\"http://www.amazon.com/Untied-States-America-Polarization-Fracturing/dp/0307237524/http://www.amazon.com/exec/obidos/ASIN/0345814940/?tag=tedspeakers-20\" target=\"_blank\">The Untied States of America</a></em> looks at the forces threatening America&#39;s future as a unified country.</p><p>In his TED Book <a href=\"http://www.amazon.com/Evolutis-Kindle-Single-Books-ebook/dp/B004KSREFChttp://www.amazon.com/exec/obidos/ASIN/0345814940/?tag=tedspeakers-20\" target=\"_blank\"><em>Homo Evolutis</em></a>  (written with Steve Gullens), Enriquez explores the far reaches of human change, and asks: Are we done evolving?</p>'}},\n",
       "  {u'speaker': {u'description': u'Singer, performance artist',\n",
       "    u'firstname': u'Nora',\n",
       "    u'id': 81,\n",
       "    u'lastname': u'York',\n",
       "    u'middleinitial': u'',\n",
       "    u'published_at': u'2007-03-09 08:10:00',\n",
       "    u'slug': u'nora_york',\n",
       "    u'title': u'',\n",
       "    u'updated_at': u'2014-08-05 14:39:23',\n",
       "    u'whotheyare': u'\"Philosopher diva\" Nora York is an adventurous singer-songwriter with a drive to explore the human condition.',\n",
       "    u'whylisten': u'<p>Nora York is an adventurous jazz singer and performance artist whose genre-crossing work defies easy categorization. With a sultry, soulful voice and hypnotic stage presence, York has carved out a territory all her own &mdash; call her a &quot;singer-songwriter-truthteller&quot; (the <a href=\"http://www.villagevoice.com/\" target=\"_blank\"><em>Village Voice</em></a>  did). <strong>She brings a witty and literate twist to her performances, recombining songs and merging genres in thought-provoking ways.</strong> </p><p>Voice is at the center of York&rsquo;s expression and  creative invention, which emcompasses composition, live  performance, and visual and multimedia arts. She&#39;s released four CDs: <em>To  Dream The World</em>, <em>Alchemy</em>, <em>What I Want</em> (representing the outcome of the  &lsquo;02 NYSCA commission) and <em>Power/Play</em>. She has performed  at universities and music festivals; most notably the Newport Jazz  Festival, New Sounds Live series at Merkin Hall NYC, and Lincoln Center  Out of Doors. York teaches  musicianship and performance as member of the faculty at the Clive Davis  Institute of Recorded Music, New York University. For her latest project, York received a  Robert Rauschenberg Foundation grant to write and present the multimedia  concert Water Water Everywhere.</p>'}},\n",
       "  {u'speaker': {u'description': u'Activist',\n",
       "    u'firstname': u'Bill',\n",
       "    u'id': 82,\n",
       "    u'lastname': u'Clinton',\n",
       "    u'middleinitial': u'',\n",
       "    u'published_at': u'2007-03-14 19:03:00',\n",
       "    u'slug': u'bill_clinton',\n",
       "    u'title': u'',\n",
       "    u'updated_at': u'2008-06-22 02:30:24',\n",
       "    u'whotheyare': u'Through his William J. Clinton Foundation, former US President Bill Clinton has become a vital and innovative force for world change. He works in four critical areas: health, economic empowerment, citizen service, and reconciliation.',\n",
       "    u'whylisten': u'<p>Elected President of the United States in 1992 and again in 1996, <strong>Bill Clinton left office determined to continue his life of service</strong> -- to build the kind of world he wants to hand down to his daughter. His <a href=\"http://www.clintonfoundation.org/index.htm\" target=\"_blank\">William J. Clinton Foundation</a>  is focused on four critical areas: health security, with an emphasis on HIV/AIDS; economic empowerment; leadership development and citizen service; and racial, ethnic and religious reconciliation. </p><p>Foundation projects include <strong>working with pharmaceutical companies to lower the costs of medicines to needy areas</strong>, and, through his <a href=\"http://www.clintonfoundation.org/cf-pgm-hs-ai-home.htm\" target=\"_blank\">Clinton Foundation HIV/AIDS Initiative (CHAI)</a>, developing an innovative health care system that can be successful and sustainable throughout the developing world. His <a href=\"http://www.clintonglobalinitiative.org\" target=\"_blank\">Clinton Global Initiative</a>  brings together world leaders to discuss the world&#39;s most pressing challenges.</p>'}},\n",
       "  {u'speaker': {u'description': u'Biologist',\n",
       "    u'firstname': u'E.O.',\n",
       "    u'id': 83,\n",
       "    u'lastname': u'Wilson',\n",
       "    u'middleinitial': u'',\n",
       "    u'published_at': u'2007-03-14 19:04:00',\n",
       "    u'slug': u'e_o_wilson',\n",
       "    u'title': u'',\n",
       "    u'updated_at': u'2015-03-03 21:29:20',\n",
       "    u'whotheyare': u'Biologist E.O. Wilson explores the world of ants and other tiny creatures, and writes movingly about the way all creatures great and small are interdependent.',\n",
       "    u'whylisten': u'<p>One of the world&#39;s most distinguished scientists, E.O. Wilson is a professor and honorary curator in entomology at Harvard. In 1975, he published <em>Sociobiology: The New Synthesis,</em> <strong>a work that described social behavior, from ants to humans</strong>. </p><p>Drawing from his deep knowledge of the Earth&#39;s &quot;little creatures&quot; and his sense that their contribution to the planet&#39;s ecology is underappreciated, he produced what may be his most important book, <em><a href=\"http://www.amazon.com/Diversity-Life-Edward-O-Wilson/dp/0393319407/http://www.amazon.com/Are-We-Getting-Smarter-Twenty-First/dp/1107609178/?tag=tedspeakers-20\" target=\"_blank\">The Diversity of Life</a>.</em> In it he describes how <strong>an intricately interconnected natural system is threatened by man&#39;s encroachment</strong>, in a crisis he calls the &quot;sixth extinction&quot; (the fifth one wiped out the dinosaurs). </p><p>With his most recent book, <em><a href=\"http://www.amazon.com/Creation-Appeal-Save-Life-Earth/dp/0393062171/http://www.amazon.com/Are-We-Getting-Smarter-Twenty-First/dp/1107609178/?tag=tedspeakers-20\" target=\"_blank\">The Creation</a>,</em> he wants to <strong>put the differences of science- and faith-based explanations aside </strong>&quot;to protect Earth&#39;s vanishing natural habitats and species ...; in other words, the Creation, however we believe it came into existence.&quot; A recent documentary called<em>&nbsp;</em><em>Behold the Earth</em>&nbsp;illustrates this human relationship to nature, or rather separation from an originally intended human bond with nature, through music, imagery, and thoughtful words from both Christians and scientists, including Wilson.&nbsp;</p>'}},\n",
       "  {u'speaker': {u'description': u'Photojournalist',\n",
       "    u'firstname': u'James',\n",
       "    u'id': 84,\n",
       "    u'lastname': u'Nachtwey',\n",
       "    u'middleinitial': u'',\n",
       "    u'published_at': u'2007-03-14 19:05:00',\n",
       "    u'slug': u'james_nachtwey',\n",
       "    u'title': u'',\n",
       "    u'updated_at': u'2014-05-07 21:30:21',\n",
       "    u'whotheyare': u'Photojournalist James Nachtwey is considered by many to be the greatest war photographer of recent decades. He has covered conflicts and major social issues in more than 30 countries.',\n",
       "    u'whylisten': u'<p>For the past three decades, James Nachtwey has devoted himself to documenting wars, conflicts and critical social issues, working in El Salvador, Nicaragua, Guatemala, Lebanon, the West Bank and Gaza, Israel, Indonesia, Thailand, India, Sri Lanka, Afghanistan, the Philippines, South Korea, Somalia, Sudan, Rwanda, South Africa, Russia, Bosnia, Chechnya, Kosovo, Romania, Brazil and the United States. <br /><br />Nachtwey has been a contract photographer with <em>Time</em> since 1984. However, when certain stories he wanted to cover -- such as <a href=\"http://www.jamesnachtwey.com/jn/slides/g14.html\" target=\"_blank\">Romanian orphanages</a>  and <a href=\"http://www.jamesnachtwey.com/jn/slides/g26.html\" target=\"_blank\" title=\"famine in Somalia\">famine in Somalia</a>  -- garnered no interest from magazines, he self-financed trips there. He is known for getting up close to his subjects, or as he says, &quot;in the same intimate space that the subjects inhabit,&quot; and he passes that sense of closeness on to the viewer. <br /><br />In putting himself in the middle of conflict, his intention is to record the truth, to document the struggles of humanity, and with this, to wake people up and stir them to action.</p>'}},\n",
       "  {u'speaker': {u'description': u'Actor, comedian, playwright',\n",
       "    u'firstname': u'Julia',\n",
       "    u'id': 85,\n",
       "    u'lastname': u'Sweeney',\n",
       "    u'middleinitial': u'',\n",
       "    u'published_at': u'2007-03-14 22:21:00',\n",
       "    u'slug': u'julia_sweeney',\n",
       "    u'title': u'',\n",
       "    u'updated_at': u'2014-02-07 15:23:34',\n",
       "    u'whotheyare': u'Julia Sweeney creates comedic works that tackle deep issues: cancer, family, faith. Her latest book is \"If It\\'s Not One Thing, It\\'s Your Mother,\" on parenting and being parented. She performs often with Jill Sobule, telling stories alongside Jill\\'s songs, in their \"Jill & Julia Show.\"',\n",
       "    u'whylisten': u'<p>Known for her four-year run on <em>Saturday Night Live</em>  and her powerful solo shows, Julia Sweeney is carving out her own territory in entertainment, one that moves between the personal and the political, the controversial and the comical. Her piece <em><a href=\"http://juliasweeney.com/letting-go-of-god/\" target=\"_blank\">Letting Go of God</a></em> traces a spiritual journey that takes an unexpected turn toward science (a turn that, incidentally, also led her to TED) and ends with atheism. Her latest book is <em>If It&#39;s Not One Thing, It&#39;s Your Mother,</em> on parenting and being parented.<br /><br />In this, as in all her performances, Sweeney projects a warmth and sincerity on stage that&#39;s unmatched in today&#39;s theater;<strong> </strong>you immediately feel you&#39;re chatting with an old friend. And this gift of intimacy allows her to achieve the impossible: an utterly disarming show that honestly confronts the most controversial topic of our times. Her earlier shows&nbsp;<em>God Said &ldquo;Ha!&rdquo;</em> and <em>In the Family Way</em>  also garnered praise and prizes for their pairings of humor and poignant truth.</p>'}},\n",
       "  {u'speaker': {u'description': u'Humorist, web artist',\n",
       "    u'firstname': u'Ze',\n",
       "    u'id': 86,\n",
       "    u'lastname': u'Frank',\n",
       "    u'middleinitial': u'',\n",
       "    u'published_at': u'2007-03-14 22:30:00',\n",
       "    u'slug': u'ze_frank',\n",
       "    u'title': u'',\n",
       "    u'updated_at': u'2014-07-18 15:05:30',\n",
       "    u'whotheyare': u'Ze Frank rose to fame on a viral video -- in 2001! He has been making online comedy, web toys and massively shared experiences (like the addictive Young Me Now Me) ever since.',\n",
       "    u'whylisten': u'<p>Ever since his <a href=\"http://www.zefrank.com/invite/swfs/index2.html\" target=\"_blank\">&quot;How to Dance Properly&quot;</a> viral video -- born as a party invite for 17 friends -- hit the Web in 2001, Ze Frank has been making people giggle, guffaw and gasp out loud whilst procrastinating at work. He defines, in many ways, the genre of online comedy, and continues to innovate madly on the form.&nbsp;</p><p>In 2006 he launched a year-long daily video blog called <em><a href=\"http://www.zefrank.com/theshow/\" target=\"_blank\">The Show with Ze Frank</a></em>, which Slate.com called &quot;the best sustained comedy run in the history of the Web.&quot; His rapid-fire delivery and absurd explorations in audience participation (like Earth Sandwich) has influenced a generation of digital native YouTubers. Perhap his most brilliant move: calling on fans to write the show for him.  Using collaborative tools, online viewers collectively put words in his  mouth (and props in his lap); he faithfully performed this wiki-comedy  each week for his &quot;Fabuloso Friday&quot; show.</p><p>In 2008, along with Erik Kastner, Frank launched Colowars, the first massively multiplayer game on <a href=\"http://twitter.com/zefrank\" target=\"_blank\">Twitter</a>, which featured two months of sponsored online events and competitions. Recently he has worked with his audience to create a series of projects based on shared emotions such as pain, fear and the pang of nostalgia. Frank works as a consultant to range of industries on audience engagement and is a public speaker on the subject of the virtual life. </p><p>In 2012 he returned to the internet airwaves with &quot;<a href=\"http://ashow.zefrank.com/\" target=\"_blank\">A Show</a>.&quot; About which a MetaFilter <a href=\"http://www.metafilter.com/114710/Thats-my-Cheese-Monster-talking#4285622\" target=\"_blank\">commenter</a>  wrote:</p><p>If this were a cult, I would join.<br /><br />If this were a religion, I would attend services.<br /><br />If this were a band, I would not torrent the albums, but buy them, full price, from a local independent record store.<br /><br />If this were a telethon, I would buy multiple tote bags.<br /><br />Welcome back, Ze. </p>'}},\n",
       "  {u'speaker': {u'description': u'Arctic explorer',\n",
       "    u'firstname': u'Ben',\n",
       "    u'id': 87,\n",
       "    u'lastname': u'Saunders',\n",
       "    u'middleinitial': u'',\n",
       "    u'published_at': u'2007-03-14 22:35:00',\n",
       "    u'slug': u'ben_saunders',\n",
       "    u'title': u'',\n",
       "    u'updated_at': u'2014-12-02 14:46:48',\n",
       "    u'whotheyare': u'In 2004, Ben Saunders became the youngest person ever to ski solo to the North Pole. In 2013, he set out on another record-breaking expedition, this time to retrace Captain Scott\\u2019s ill-fated journey to the South Pole on foot.',\n",
       "    u'whylisten': u'<p>Although most of the planet&#39;s surface was mapped long ago, there&#39;s still a place for explorers in the modern world. And Ben Saunders&#39; stories of arctic exploration -- as impressive for their technical ingenuity as their derring-do -- are decidedly modern. In 2004, at age 26, he skied solo to the North Pole, updating his blog  each day of the trip. Humble and self-effacing, Saunders is an explorer of limits, whether it&#39;s how far a human can be pushed physically and psychologically, or how technology works hundreds of miles from civilization.   His message is one of inspiration, empowerment and boundless potential. <br /><br />He urges audiences to consider carefully how to spend the &ldquo;tiny amount of time we each have on this planet.&rdquo; Saunders is also a powerful advocate for the natural world. He&#39;s seen first-hand the effects of climate change, and his expeditions are raising awareness for sustainable solutions.&nbsp;</p><p>Being the youngest person to ski solo to the North Pole did not satiate Saunders&#39; urge to explore and push the boundaries. In 2008, he attempted to break the speed record for a solo walk to the North Pole; however, his journey was ended abruptly both then and again in 2010 due to equipment failure. From October 2013 to February 2014, he led a two-man team to retrace Captain Robert Falcon Scott&rsquo;s ill-fated 1,800-mile expedition to the South Pole on foot. He calls this journey the hardest 105 days of his life.</p>'}},\n",
       "  {u'speaker': {u'description': u'Physicist, personal fab pioneer',\n",
       "    u'firstname': u'Neil',\n",
       "    u'id': 88,\n",
       "    u'lastname': u'Gershenfeld',\n",
       "    u'middleinitial': u'',\n",
       "    u'published_at': u'2007-03-22 20:15:00',\n",
       "    u'slug': u'neil_gershenfeld',\n",
       "    u'title': u'',\n",
       "    u'updated_at': u'2015-03-04 21:12:06',\n",
       "    u'whotheyare': u'As Director of MIT\\u2019s Center for Bits and Atoms, Neil Gershenfeld explores the boundaries between the digital and physical worlds.',\n",
       "    u'whylisten': u'<p>MIT&#39;s Neil Gershenfeld is redefining the boundaries between the digital and analog worlds. The digital revolution is over, Gershenfeld says. We won. What comes next? His <a href=\"http://cba.mit.edu/\" target=\"_blank\">Center for Bits and Atoms</a>  has developed quite a few answers, including Internet 0, a tiny web server that fits into lightbulbs and doorknobs, networking the physical world in previously unimaginable ways.</p><p>But Gershenfeld is best known as a pioneer in personal fabrication -- small-scale manufacturing enabled by digital technologies, which gives people the tools to build literally anything they can imagine. His famous <a href=\"http://fab.cba.mit.edu/\" target=\"_blank\">Fab Lab</a>  is immensely popular among students at MIT, who crowd Gershenfeld&#39;s classes. But the concept is potentially life-altering in the developing world, where a Fab Lab  with just $20,000 worth of laser cutters, milling machines and soldering irons can transform a community, helping people harness their creativity to build tools, replacement parts and essential products unavailable in the local market. Read more in <a href=\"http://www.amazon.com/Fab-Revolution-Desktop-Computers-Fabrication/dp/0465027466/?tag=tedspeakers-20\" target=\"_blank\"><em>Fab: The Coming Revolution on Your Desktop</em></a>.</p>  '}},\n",
       "  {u'speaker': {u'description': u'Social entrepreneur',\n",
       "    u'firstname': u'Jacqueline',\n",
       "    u'id': 89,\n",
       "    u'lastname': u'Novogratz',\n",
       "    u'middleinitial': u'',\n",
       "    u'published_at': u'2007-03-23 06:01:00',\n",
       "    u'slug': u'jacqueline_novogratz',\n",
       "    u'title': u'',\n",
       "    u'updated_at': u'2015-03-03 23:23:12',\n",
       "    u'whotheyare': u'Jacqueline Novogratz founded and leads Acumen, a nonprofit that takes a businesslike approach to improving the lives of the poor. In her book \"The Blue Sweater\" she tells stories from the philanthropy, which emphasizes sustainable bottom-up solutions over traditional top-down aid.',\n",
       "    u'whylisten': u'<p>One of the most innovative players shaping philanthropy today, Jacqueline Novogratz is redefining the way problems of poverty can be solved around the world.  Drawing on her past experience in banking, microfinance and traditional philanthropy, Novogratz has become a leading proponent for financing entrepreneurs and enterprises that can bring affordable clean water, housing and healthcare, energy, agriculture and education to poor people so that <strong>they no longer have to depend on the disappointing results and lack of accountability seen in traditional charity and old-fashioned aid</strong>.</p><p><a href=\"http://www.acumenfund.org/\" target=\"_blank\">Acumen</a>, which she founded in 2001, has an ambitious plan: to <strong>change the way the world tackles poverty</strong>. Indeed, Acumen  has more in common with a venture capital fund than a typical nonprofit. Rather than handing out grants, Acumen invests in early stage companies and organizations that bring critical -- often life-altering -- products and services to the world&#39;s poor. Like VCs, Acumen offers not just money, but also infrastructure and management expertise. From drip-irrigation systems in India to high quality solar lighting solutions in East Africa to a low-cost mortgage program in Pakistan, Acumen&#39;s portfolio offers important case studies for entrepreneurial efforts aimed at the vastly underserved market of those making less than $4/day.</p><p>It&#39;s a fascinating model that&#39;s shaken up philanthropy and investment communities alike. <strong><a href=\"http://www.acumenfund.org/\" target=\"_blank\">Acumen</a>  manages more than $80 million in investments aimed at serving the poor.</strong> And most of their projects deliver stunning, inspiring results. Their success can be traced back to Novogratz herself, who possesses that rarest combination of business savvy and cultural sensitivity. In addition to seeking out sound business models, she places great importance on identifying solutions from within communities rather than imposing them from the outside. &ldquo;People don&#39;t want handouts,&quot; Novogratz said at TEDGlobal 2005. &quot;They want to make their own decisions, to solve their own problems.&rdquo;</p><p>In her book, <a href=\"http://www.amazon.com/Blue-Sweater-Bridging-between-Interconnected/dp/1605294764/?tag=tedspeakers-20\" target=\"_blank\"><em>The Blue Sweater</em></a>, she tells stories from the new philanthropy, which emphasizes sustainable bottom-up solutions over traditional top-down aid. </p>'}},\n",
       "  {u'speaker': {u'description': u'Global health expert; data visionary',\n",
       "    u'firstname': u'Hans',\n",
       "    u'id': 90,\n",
       "    u'lastname': u'Rosling',\n",
       "    u'middleinitial': u'',\n",
       "    u'published_at': u'2007-04-01 22:34:00',\n",
       "    u'slug': u'hans_rosling',\n",
       "    u'title': u'',\n",
       "    u'updated_at': u'2014-09-11 13:58:44',\n",
       "    u'whotheyare': u'In Hans Rosling\\u2019s hands, data sings. Global trends in health and economics come to vivid life. And the big picture of global development\\u2014with some surprisingly good news\\u2014snaps into sharp focus.',\n",
       "    u'whylisten': u'<p>Even the most worldly and well-traveled among us will have their perspectives shifted by Hans Rosling. A professor of global health at Sweden&#39;s <a href=\"http://ki.se/ki/jsp/polopoly.jsp?d=130&amp;l=en\" target=\"_blank\">Karolinska Institute</a>, his current work focuses on<strong> dispelling common myths about the so-called developing world</strong>, which (he points out) is no longer worlds away from the West. In fact, most of the Third World is on the same trajectory toward health and prosperity, and many countries are moving twice as fast as the west did.<br /><br />What sets Rosling apart isn&#39;t just his apt observations of broad social and economic trends, but the stunning way he presents them. Guaranteed: <strong>You&#39;ve never seen data presented like this.</strong> By any logic, a presentation that tracks global health and poverty trends should be, in a word: boring. But in Rosling&#39;s hands, data sings. Trends come to life. And the big picture &mdash; usually hazy at best &mdash; snaps into sharp focus. <br /><br />Rosling&#39;s presentations are grounded in solid statistics (often drawn from United Nations data), illustrated by the visualization software he developed. The animations transform development statistics into <strong>moving bubbles and flowing curves that make global trends clear, intuitive and even playful</strong>. During his legendary presentations, Rosling takes this one step farther, narrating the animations with a sportscaster&#39;s flair. <br /><br />Rosling developed the breakthrough software behind his visualizations through his nonprofit <a href=\"http://www.gapminder.org/\" target=\"_blank\">Gapminder</a>, founded with his son and daughter-in-law. The free software &mdash; which can be loaded with any data &mdash; was purchased by Google in March 2007. (Rosling met the Google founders at TED.)<br /><br />Rosling began his wide-ranging career as a physician, spending many years in rural Africa tracking a rare paralytic disease (which he named konzo) and discovering its cause: hunger and badly processed cassava. <strong>He co-founded M&eacute;decins sans Fronti&egrave;rs (Doctors without Borders) Sweden</strong>, wrote a textbook on global health, and as a professor at the Karolinska Institut in Stockholm initiated key international research collaborations. He&#39;s also personally argued with many heads of state, including Fidel Castro. <br /><br />As if all this weren&#39;t enough, <strong>the irrepressible Rosling is also an accomplished sword-swallower </strong>&mdash; a skill he demonstrated at TED2007.<br /><br /><br /> </p>'}},\n",
       "  {u'speaker': {u'description': u'Psychologist',\n",
       "    u'firstname': u'Barry',\n",
       "    u'id': 91,\n",
       "    u'lastname': u'Schwartz',\n",
       "    u'middleinitial': u'',\n",
       "    u'published_at': u'2007-04-01 22:54:00',\n",
       "    u'slug': u'barry_schwartz',\n",
       "    u'title': u'',\n",
       "    u'updated_at': u'2015-02-11 03:07:44',\n",
       "    u'whotheyare': u\"Barry Schwartz studies the link between economics and psychology, offering startling insights into modern life. Lately, working with Ken Sharpe, he's studying wisdom.\",\n",
       "    u'whylisten': u'<p>In his 2004 book <a href=\"http://www.amazon.com/Paradox-Choice-Why-More-Less/dp/0060005688/?tag=tedspeakers-20\" target=\"_blank\"><em>The Paradox of Choice</em></a> , Barry Schwartz tackles one of the great mysteries of modern life: Why is it that societies of great abundance &mdash; where individuals are offered more freedom and choice (personal, professional, material) than ever before &mdash; are now witnessing a near-epidemic of depression? <strong>Conventional wisdom tells us that greater choice is for the greater good, but Schwartz argues the opposite</strong>: He makes a compelling case that the abundance of choice in today&#39;s western world is actually making us miserable. <br /><br /><strong>Infinite choice is paralyzing, Schwartz argues, and exhausting to the human psyche. </strong>It leads us to set unreasonably high expectations, question our choices before we even make them and blame our failures entirely on ourselves. His relatable examples, from consumer products (jeans, TVs, salad dressings) to lifestyle choices (where to live, what job to take, who and when to marry), underscore this central point: Too much choice undermines happiness.<br /><br />Schwartz&#39;s previous research has addressed morality, decision-making and the varied inter-relationships between science and society.  Before <em>Paradox</em> he published <a href=\"http://www.amazon.com/Costs-Living-Barry-Schwartz/dp/073885252X/?tag=tedspeakers-20\" target=\"_blank\"><em>The Costs of Living</em></a>, which traces the impact of free-market thinking on the explosion of consumerism -- and <strong>the effect of the new capitalism on social and cultural institutions that once operated above the market, such as medicine, sports, and the law</strong>.<br /><br />Both books level serious criticism of modern western society, illuminating the under-reported psychological plagues of our time. But they also offer <strong>concrete ideas on addressing the problems</strong>, from a personal and societal level.</p>'}},\n",
       "  {u'speaker': {u'description': u'Philosopher, cognitive scientist',\n",
       "    u'firstname': u'Dan',\n",
       "    u'id': 92,\n",
       "    u'lastname': u'Dennett',\n",
       "    u'middleinitial': u'',\n",
       "    u'published_at': u'2007-04-02 01:28:00',\n",
       "    u'slug': u'dan_dennett',\n",
       "    u'title': u'',\n",
       "    u'updated_at': u'2015-03-04 00:07:32',\n",
       "    u'whotheyare': u'Dan Dennett argues that human consciousness and free will are the result of physical processes. His latest book is \"Intuition Pumps and Other Tools for Thinking,\"',\n",
       "    u'whylisten': u'<p>One of our most important living philosophers, Dan Dennett is best known for his provocative and controversial arguments that human consciousness and free will are the result of physical processes in the brain. He argues that the brain&#39;s computational circuitry fools us into thinking we know more than we do, and that what we call consciousness &mdash; isn&#39;t. His 2003 book &quot;Freedom Evolves&quot; explores how our brains evolved to give  us -- and only us -- the kind of freedom that matters, while 2006&#39;s  &quot;Breaking the Spell&quot; examines belief through the lens of biology.<br /><br />This mind-shifting perspective on the mind itself has distinguished Dennett&#39;s career as a philosopher and cognitive scientist. And while the philosophy community has never quite known what to make of Dennett (he defies easy categorization, and refuses to affiliate himself with accepted schools of thought), his computational approach to understanding the brain has made him, as Edge&#39;s John Brockman writes, &ldquo;the philosopher of choice of the AI community.&rdquo;<br /><br />&ldquo;It&#39;s tempting to say that Dennett has never met a robot he didn&#39;t like, and that what he likes most about them is that they are philosophical experiments,&rdquo; Harry Blume wrote in the <em>Atlantic Monthly</em> in 1998. &ldquo;To the question of whether machines can attain high-order intelligence, Dennett makes this provocative answer: &lsquo;The best reason for believing that robots might some day become conscious is that we human beings are conscious, and we are a sort of robot ourselves.&#39;&quot;</p><p>In recent years, Dennett has become outspoken in his atheism, and his 2006 book <em>Breaking the Spell</em> calls for religion to be studied through the scientific lens of evolutionary biology. Dennett regards religion as a natural -- rather than supernatural -- phenomenon, and urges schools to break the taboo against empirical examination of religion. He argues that religion&#39;s influence over human behavior is precisely what makes gaining a rational understanding of it so necessary: &ldquo;If we don&#39;t understand religion, we&#39;re going to miss our chance to improve the world in the 21st century.&rdquo;</p><p>Dennett&#39;s landmark books include <em>The Mind&#39;s I</em>, co-edited with Douglas Hofstaedter, <em>Consciousness Explained,</em> and <em>Darwin&#39;s Dangerous Idea. </em>Read an excerpt from his 2013 book, <a href=\"http://www.amazon.com/Intuition-Pumps-Other-Tools-Thinking/dp/0393082067?tag=tedspeakers-20\" target=\"_blank\"><em>Intuition Pumps</em></a>, in the <a href=\"http://www.guardian.co.uk/books/2013/may/19/daniel-dennett-intuition-pumps-thinking-extract\" target=\"_blank\"><em>Guardian</em> &gt;&gt;</a>  </p>'}},\n",
       "  {u'speaker': {u'description': u'Evolutionary biologist',\n",
       "    u'firstname': u'Richard',\n",
       "    u'id': 93,\n",
       "    u'lastname': u'Dawkins',\n",
       "    u'middleinitial': u'',\n",
       "    u'published_at': u'2007-04-05 19:28:00',\n",
       "    u'slug': u'richard_dawkins',\n",
       "    u'title': u'',\n",
       "    u'updated_at': u'2015-03-04 00:14:33',\n",
       "    u'whotheyare': u'Oxford professor Richard Dawkins has helped steer evolutionary science into the 21st century, and his concept of the \"meme\" contextualized the spread of ideas in the information age. In recent years, his devastating critique of religion has made him a leading figure in the New Atheism.',\n",
       "    u'whylisten': u'<p>As an evolutionary biologist, Richard Dawkins has broadened our understanding of the genetic origin of our species; as a popular author, he has helped lay readers understand complex scientific concepts. He&#39;s best-known for the ideas laid out in his landmark book <a href=\"http://www.amazon.com/Selfish-Gene-Anniversary-Introduction/dp/0199291152/?tag=tedspeakers-20\" target=\"_blank\"><em>The Selfish Gene</em></a>  and fleshed out in <a href=\"http://www.amazon.com/Extended-Phenotype-Reach-Popular-Science/dp/0192880519/?tag=tedspeakers-20\" target=\"_blank\"><em>The Extended Phenotype</em></a>: the rather radical notion that <strong>Darwinian selection happens not at the level of the individual, but at the level of our DNA</strong>. The implication: We evolved for only one purpose &mdash; to serve our genes.<br /><br />Of perhaps equal importance is Dawkins&#39; concept of the <a href=\"http://en.wikipedia.org/wiki/Meme\" target=\"_blank\">meme</a>, which he defines as a self-replicating unit of culture -- an idea, a chain letter, a catchy tune, an urban legend -- which is passed person-to-person, its longevity based on its ability to lodge in the brain and inspire transmission to others. Introduced in <em>The Selfish Gene</em> in 1976, <strong>the concept of memes has itself proven highly contagious, inspiring countless accounts and explanations of idea propagation</strong> in the information age.<br /><br />In recent years, <strong>Dawkins has become outspoken in his atheism</strong>, coining the word &quot;bright&quot; (as an alternate to atheist), and encouraging fellow non-believers to stand up and be identified. His controversial, confrontational 2002 TED talk was a seminal moment for the New Atheism, as was the publication of his 2006 book, <em><a href=\"http://www.amazon.com/God-Delusion-Richard-Dawkins/dp/0618680004/?tag=tedspeakers-20\" target=\"_blank\">The God Delusion</a>,</em> a bestselling critique of religion that championed atheism and promoted scientific principles over creationism and intelligent design.</p>'}},\n",
       "  {u'speaker': {u'description': u'Psychologist; happiness expert',\n",
       "    u'firstname': u'Dan',\n",
       "    u'id': 94,\n",
       "    u'lastname': u'Gilbert',\n",
       "    u'middleinitial': u'',\n",
       "    u'published_at': u'2007-04-05 19:33:00',\n",
       "    u'slug': u'dan_gilbert',\n",
       "    u'title': u'',\n",
       "    u'updated_at': u'2009-04-08 14:43:00',\n",
       "    u'whotheyare': u'Harvard psychologist Dan Gilbert says our beliefs about what will make us happy are often wrong -- a premise he supports with intriguing research, and explains in his accessible and unexpectedly funny book, <em>Stumbling on Happiness.</em>',\n",
       "    u'whylisten': u'<p>Dan Gilbert believes that, in our ardent, lifelong pursuit of happiness, most of us have the wrong map. In the same way that optical illusions fool our eyes -- and fool everyone&#39;s eyes in the same way -- Gilbert argues that <strong>our brains systematically misjudge what will make us happy</strong>. And these quirks in our cognition make humans very poor predictors of our own bliss.<br /><br />The premise of his current research -- that our assumptions about what will make us happy are often wrong -- is supported with clinical research drawn from psychology and neuroscience. But his delivery is what sets him apart. His engaging -- and often hilarious -- style pokes fun at typical human behavior and invokes pop-culture references everyone can relate to. This winning style translates also to Gilbert&#39;s writing, which is <strong>lucid, approachable and laugh-out-loud funny</strong>. The immensely readable <em><a href=\"http://www.randomhouse.com/kvpa/gilbert/\" target=\"_blank\">Stumbling on Happiness</a>,</em> published in 2006, became a <em>New York Times</em> bestseller and has been translated into 20 languages.<br /><br />In fact, the title of his book could be drawn from his own life. At 19, he was a high school dropout with dreams of writing science fiction. When a creative writing class at his community college was full, he enrolled in the only available course: psychology. He found his passion there, earned a doctorate in social psychology in 1985 at Princeton, and has since won a Guggenheim Fellowship and the Phi Beta Kappa teaching prize for his work at Harvard. He has written essays and articles for <em>The New York Times, Time</em> and even <a href=\"http://www.wjh.harvard.edu/%7Edtg/STARBUCKS%20CUP.pdf\" target=\"_blank\">Starbucks</a>, while <strong>continuing his research into happiness at his <a href=\"http://www.wjh.harvard.edu/%7Edtg/gilbert.htm\" target=\"_blank\">Hedonic Psychology Laboratory</a>.</strong></p>'}},\n",
       "  {u'speaker': {u'description': u'Life coach; expert in leadership psychology',\n",
       "    u'firstname': u'Tony',\n",
       "    u'id': 95,\n",
       "    u'lastname': u'Robbins',\n",
       "    u'middleinitial': u'',\n",
       "    u'published_at': u'2007-04-05 19:45:00',\n",
       "    u'slug': u'tony_robbins',\n",
       "    u'title': u'',\n",
       "    u'updated_at': u'2008-06-22 02:30:24',\n",
       "    u'whotheyare': u'Tony Robbins makes it his business to know why we do the things we do. The pioneering life coach has spoken to millions of people through his best-selling books and three-day seminars.',\n",
       "    u'whylisten': u'<p>Tony Robbins might have one of the world&#39;s most famous smiles; his beaming confidence has helped sell his best-selling line of self-help books, and fill even his 10,000-seat seminars. What&#39;s less known about the iconic motivational speaker is <strong>the range and stature of his personal clients. From CEOs to heads of state to Olympic athletes</strong>, a wide swath of high-performing professionals (who are already plenty motivated, thank you very much) look to him for help reaching their full potential.<br /><br />Robbins&#39; expertise in leadership psychology is what brought him to TED, where his spontaneous on-stage interaction with Al Gore created an unforgettable TED moment. It also perfectly demonstrated Robbins&#39; direct -- even confrontational -- approach, which calls on his listeners to look within themselves, and <strong>find the inner blocks that prevent them from finding fulfillment and success</strong>. Some of his techniques -- firewalking, for example -- are magnets for criticism, but his underlying message is unassailable: We all have the ability to make a positive impact on the world, and it&#39;s up to us, as individuals, to overcome our fears and foibles to reach that potential.<br /><br />Robbins has won many accolades for his work -- including <strong>his memorable performance in the Jack Black comedy </strong><em><strong>Shallow Hal</strong>.</em> (It was a small but vital role.) His <a href=\"http://www.anthonyrobbinsfoundation.org/arf/index.php\" target=\"_blank\">Anthony Robbins Foundation</a>  works with the homeless, elderly and inner-city youth, and feeds more than 2 million people annually through its <a href=\"http://www.anthonyrobbinsfoundation.org/arf/inter_bb.php\" target=\"_blank\">International Basket Brigade</a>.</p>'}},\n",
       "  {u'speaker': {u'description': u'Priest',\n",
       "    u'firstname': u'Tom',\n",
       "    u'id': 97,\n",
       "    u'lastname': u'Honey',\n",
       "    u'middleinitial': u'',\n",
       "    u'published_at': u'2007-04-06 03:32:00',\n",
       "    u'slug': u'rev_tom_honey',\n",
       "    u'title': u'Rev.',\n",
       "    u'updated_at': u'2008-06-22 02:30:24',\n",
       "    u'whotheyare': u\"The Canon Pastor of Exeter Cathedral, in the UK, is unafraid to take on some of religion's tougher issues.\",\n",
       "    u'whylisten': u'<p>Tom Honey&#39;s appeal goes far beyond his own congregation. For years he was the vicar of the church in Oxford attended decades earlier by the Christian thinker C.S. Lewis. The Reverend Honey built a reputation there for thoughtful sermons that disdained cliche or easy answers. They were often <strong>willing to grapple with the darker side of life -- pain, loss, grief</strong> -- and the challenges these presented to the concept of a loving God. </p><p>These challenges were dramatically highlighted by <strong>the devastation of the Indian Ocean tsunami of late 2004 in which some 300,000 people died</strong>, making it one of the worst natural disasters in human history. The sermon penned by Honey shortly after was eloquent and powerful enough to win him an invitation to come speak at TED.</p>'}},\n",
       "  {u'speaker': {u'description': u'Cellist; singer-songwriter',\n",
       "    u'firstname': u'Caroline',\n",
       "    u'id': 98,\n",
       "    u'lastname': u'Lavelle',\n",
       "    u'middleinitial': u'',\n",
       "    u'published_at': u'2007-04-06 05:00:00',\n",
       "    u'slug': u'caroline_lavelle',\n",
       "    u'title': u'',\n",
       "    u'updated_at': u'2008-06-22 02:30:24',\n",
       "    u'whotheyare': u'Equally talented on cello and vocals, Caroline Lavelle has created a performance style all her own. Her expansive talents, channeling the best of both classical and contemporary influences, have earned her comparisons to both Kate Bush and Jacqueline du Pr\\xe9. \\r\\n',\n",
       "    u'whylisten': u'<p>Connecting the best of British chamber folk and folk rock to modern electronic music, Caroline Lavelle is frequently sought out for both her vocals and her cello playing. The<strong> genre-bridging cellist</strong> has collaborated with the likes of Peter Gabriel, Laurie Anderson, Radiohead, the Cranberries, BT, Massive Attack and William Orbit, among others (she reportedly inspired Madonna to pursue her own successful collaboration with Orbit).<br /><br />In her TED performance of &quot;Further than the Sun,&quot; <strong>Lavelle plays the cello like a sorceress casting a spell</strong>, occasionally hiding behind her wild mane of blond hair as she sings of pastoral themes. She&#39;s produced three solo albums -- <a href=\"http://www.carolinelavelle.com/shop/\" target=\"_blank\">A Distant Bell</a>  (2004), <a href=\"http://www.carolinelavelle.com/shop/\" target=\"_blank\">Brilliant Midnight</a>  (2001) and <a href=\"http://www.carolinelavelle.com/shop/\" target=\"_blank\">Spirit</a>  (1995) -- and is a touring member of the Chieftains.</p>'}},\n",
       "  {u'speaker': {u'description': u'Musician',\n",
       "    u'firstname': u'Evelyn',\n",
       "    u'id': 99,\n",
       "    u'lastname': u'Glennie',\n",
       "    u'middleinitial': u'',\n",
       "    u'published_at': u'2007-04-06 17:44:00',\n",
       "    u'slug': u'evelyn_glennie',\n",
       "    u'title': u'',\n",
       "    u'updated_at': u'2015-03-10 19:41:30',\n",
       "    u'whotheyare': u'Percussionist and composer Dame Evelyn Glennie lost nearly all of her hearing by age 12. Rather than isolating her, it has given her a unique connection to her music.',\n",
       "    u'whylisten': u'<p>Dame Evelyn Glennie&#39;s music challenges the listener to ask where music comes from: Is it more than simply a translation from score to instrument to audience? <br /><br />The Grammy-winning percussionist and composer became almost completely deaf by the age of 12, but her hearing loss brought her a deeper understanding of and connection to the music she loves. She&#39;s the subject of the documentary <em><a href=\"http://www.skyline.uk.com/touchthesound/index.html\" target=\"_blank\">Touch the Sound</a>,</em> which explores this unconventional and intriguing approach to percussion.  <br /><br />Along with her vibrant solo career, Glennie has collaborated with musicians ranging from classical orchestras to Bj&ouml;rk. Her career has taken her to hundreds of concert stages around the world, and she&#39;s recorded a dozen albums, winning a Grammy for her recording of <a href=\"http://www.amazon.com/Bart%C3%B3k-Sonata-Pianos-Percussion-Variations/dp/B0000026HH/ref=sr_1_15/002-0596195-8622435?ie=UTF8&amp;s=music&amp;qid=1176914497&amp;sr=1-15\" target=\"_blank\">Bart&oacute;k&#39;s </a> <em><a href=\"http://www.amazon.com/Bart%C3%B3k-Sonata-Pianos-Percussion-Variations/dp/B0000026HH/?tag=tedspeakers-20\" target=\"_blank\">Sonata for Two Pianos and Percussion</a>, </em>and another for <a href=\"http://www.amazon.com/Perpetual-Motion-Bela-Fleck/dp/B00005OSX6?tag=tedspeakers-20\" target=\"_blank\">her 2002 collaboration with Bela Fleck</a>.</p><p>Her passion for music and musical literacy brought her to establish, in collaboration with fellow musicians Julian Lloyd Weber and Sir James Galway, the Music Education Consortium, which successfully lobbied for an investment of 332 million pounds in music education and musical resources in Britain.&nbsp;</p>'}},\n",
       "  {u'speaker': {u'description': u'Architect',\n",
       "    u'firstname': u'William',\n",
       "    u'id': 100,\n",
       "    u'lastname': u'McDonough',\n",
       "    u'middleinitial': u'',\n",
       "    u'published_at': u'2007-04-06 17:53:00',\n",
       "    u'slug': u'william_mcdonough',\n",
       "    u'title': u'',\n",
       "    u'updated_at': u'2015-03-04 00:42:47',\n",
       "    u'whotheyare': u\"Architect William McDonough believes green design can prevent environmental disaster and drive economic growth. He champions \\u201ccradle to cradle\\u201d design, which considers a product's full life cycle -- from creation with sustainable materials to a recycled afterlife. \",\n",
       "    u'whylisten': u'<p>Architect <a href=\"http://www.mbdc.com/about-mbdc/williammcdonough/\" target=\"_blank\">William McDonough</a>  practices green architecture on a massive scale. In a 20-year project, he is redesigning Ford&#39;s city-sized <a href=\"http://www.mcdonoughpartners.com/projects/ford-dtp/default.asp?projID=ford-dtp\" target=\"_blank\">River Rouge truck plant</a> and turning it into the Rust Belt&#39;s eco-poster child, with the world&#39;s largest &quot;living roof&quot; for reclaiming storm runoff. He has created buildings that produce more energy and clean water than they use. He is building the future of design on the site of the future of exploration: the NASA Sustainability Base. Oh, and he&#39;s designing seven entirely new and entirely <a href=\"http://www.chinauscenter.org/purpose/default.asp\" target=\"_blank\">green cities</a>  in China. <br /><br />Bottom-line economic benefits are another specialty of McDonough&#39;s practice. A tireless proponent of the idea that absolute sustainability and economic success can go hand-in-hand, he&#39;s designed buildings for the Gap, Nike, Frito-Lay and Ford that have lowered corporate utility bills by capturing daylight for lighting, using natural ventilation instead of AC, and heating with solar or geothermal energy. They&#39;re also simply nicer places to work, surrounded by natural landscaping that gives back to the biosphere,              showcasing their innovative culture. </p><p>In 2002, McDonough co-wrote <em><a href=\"http://www.amazon.com/William-McDonough/e/B001KIKWHM/?tag=tedspeakers-20\" target=\"_blank\">Cradle to Cradle</a></em>, which proposes that designers think as much about what happens at the end of a product&#39;s life cycle as they do about its beginning. (The book itself is printed on recyclable plastic.) From this, he is developing the <a href=\"http://inhabitat.com/inhabitat-interview-green-architect-cradle-to-cradle-founder-william-mcdonough/\" target=\"_blank\">Cradle to Cradle community</a>, where like-minded designers and businesspeople can grow the idea. In 2012, McDonough began collaborating with Stanford University Libraries on a &ldquo;living archive&rdquo; of his work and communications. He has been awarded three times by the US government, and in 2014, McDonough was appointed as Chair of the Meta-Council on the Circular Economy by the World Economic Forum.</p>'}},\n",
       "  {u'speaker': {u'description': u'Online commerce pioneer',\n",
       "    u'firstname': u'Jeff',\n",
       "    u'id': 101,\n",
       "    u'lastname': u'Bezos',\n",
       "    u'middleinitial': u'',\n",
       "    u'published_at': u'2007-04-09 08:35:00',\n",
       "    u'slug': u'jeff_bezos',\n",
       "    u'title': u'',\n",
       "    u'updated_at': u'2010-06-21 14:23:24',\n",
       "    u'whotheyare': u'As founder and CEO of Amazon.com, Jeff Bezos defined online shopping and rewrote the rules of commerce, ushering in a new era in business. <em>Time</em> magazine named him Man of the Year in 1999.',\n",
       "    u'whylisten': u'<p>Jeff Bezos didn&#39;t invent online shopping, but he almost single-handedly turned it into a multi-billion-dollar enterprise. His <a href=\"http://www.amazon.com\" target=\"_blank\">Amazon.com</a>  began as a bookstore in 1994, and quickly expanded into dozens of product categories, forcing the world&#39;s biggest retailers to rethink their business models, and ultimately <strong>changing the way people shop</strong>. <br /><br />But Amazon.com isn&#39;t just an internet success story. It&#39;s the standard by which all web businesses are now judged -- if not by their shareholders, then by their customers. Amazon set a high bar for reliability and customer service, and also <strong>introduced a wide range of online retail conventions -- from user reviews and one-click shopping to the tab interface and shopping cart icon</strong> -- so commonplace we no longer think of them as once having been innovations.<br /><br />When the Internet bubble burst, Amazon.com took a hit with the other e-commerce pioneers, but the fundamentally sound company hung tough.<strong> It now sells more than $10 billion a year of goods, profitably</strong>, and its technology will influence the changes to business and media that will come next. Amazon recently released Kindle, a wireless digital reading device, giving the term &quot;page turning&quot; a completely new definition. Bezos, meanwhile, is one of the few early Web CEOs who still run the companies they founded. Outside of his work with Amazon, he recently founded <a href=\"http://public.blueorigin.com/index.html\" target=\"_blank\">Blue Origin</a>,  a space-flight startup.</p>'}},\n",
       "  {u'speaker': {u'description': u'Fiddler',\n",
       "    u'firstname': u'Natalie',\n",
       "    u'id': 102,\n",
       "    u'lastname': u'MacMaster',\n",
       "    u'middleinitial': u'',\n",
       "    u'published_at': u'2007-04-09 22:47:00',\n",
       "    u'slug': u'natalie_macmaster',\n",
       "    u'title': u'',\n",
       "    u'updated_at': u'2015-04-08 16:20:39',\n",
       "    u'whotheyare': u'Natalie MacMaster is a star of Cape Breton fiddling, a Canadian tradition with Scottish roots. Her energetic style and virtuoso talent has brought her star billing on the international folk circuit.',\n",
       "    u'whylisten': u'<p>It&#39;s not easy to make traditional Irish-Scottish music sound sexy and yet still seem wholesome. But Natalie MacMaster manages this feat, <strong>drawing listeners in with her playful showmanship</strong>, and then holding them rapt with astounding technical flourishes.<br /><br />The niece of renowned Canadian fiddler <a href=\"http://www.atlanticartists.com/buddy/buddybio.html\" target=\"_blank\">Buddy MacMaster</a>, she&#39;s taken up the mantle as standard-bearer for Cape Breton fiddling, a method of <strong>Scottish-style violin-playing that&#39;s evolved over the last century</strong> on this island neighbor to Nova Scotia. The tradition was on the wane when, in 1972, a CBS documentary provocatively titled <a href=\"http://www.capebretonfiddlers.com/history.html\" target=\"_blank\"><em>The Vanishing Cape Breton Fiddler</em></a> jump-started preservation efforts in the fiddling community.<br /><br />MacMaster&#39;s <strong>enthusiastic charm and extraordinary skill</strong> has landed her star billing on the international folk circuit and multiple Grammy nominations. She&#39;s released nine albums, including <a href=\"http://www.nataliemacmaster.com/recordings/yourstruly.htm\" target=\"_blank\"><em>Yours Truly</em></a>  (2006), <a href=\"http://www.nataliemacmaster.com/recordings/nataliebuddy.htm\" target=\"_blank\"><em>Natalie and Buddy MacMaster</em></a>  (2005) and <a href=\"http://www.nataliemacmaster.com/recordings/mras.htm\" target=\"_blank\"><em>My Roots Are Showing</em></a>  (1998). She&#39;s toured with countless performers, including the Chieftains, Faith Hill, Carlos Santana and Alison Krauss, and has been awarded two Juno Awards (Canada&#39;s equivalent to the Grammy).</p>'}},\n",
       "  {u'speaker': {u'description': u'Social critic',\n",
       "    u'firstname': u'James Howard',\n",
       "    u'id': 103,\n",
       "    u'lastname': u'Kunstler',\n",
       "    u'middleinitial': u'',\n",
       "    u'published_at': u'2007-04-09 22:50:00',\n",
       "    u'slug': u'james_howard_kunstler',\n",
       "    u'title': u'',\n",
       "    u'updated_at': u'2015-03-04 00:21:24',\n",
       "    u'whotheyare': u'James Howard Kunstler may be the world\\u2019s most outspoken critic of suburban sprawl. He believes the end of the fossil fuels era will soon force a return to smaller-scale, agrarian communities -- and an overhaul of the most destructive features of postwar society.',\n",
       "    u'whylisten': u'<p>James Howard Kunstler calls suburban sprawl &quot;<strong>the greatest misallocation of resources the world has ever known</strong>.&quot; His arguments bring a new lens to urban development, drawing clear connections between physical spaces and cultural vitality.<br /><br /><em><a href=\"http://www.amazon.com/Geography-Nowhere-Americas-Man-Made-Landscape/dp/0671888250?tag=tedspeakers-20\" target=\"_blank\">Geography of Nowhere</a>,</em> published in 1993, presented a grim vision of America in decline -- <strong>a nation of cookie-cutter strip malls, vacuous city centers, and dead spaces</strong> wrought by what Kunstler calls the ethos of Happy Motoring: our society-wide dependence on the automobile. <br /><br /><a href=\"http://www.amazon.com/Long-Emergency-Converging-Catastrophes-Twenty-First/dp/0802142494/?tag=tedspeakers-20\" target=\"_blank\"><em>The Long Emergency</em></a>  (2005) takes a hard look at energy dependency, <strong>arguing that the end of the fossil fuels era will force a return to smaller-scale, agrarian-focused communities</strong> and an overhaul of many of the most prominent and destructive features of postwar society. <br /><br />His confrontational approach and propensity for doomsday scenarios make Kunstler<strong> a lightning rod for controversy and critics</strong>. But his magnificent rants are underscored with logic and his books are widely read, particularly by architectural critics and urban planners.</p>'}},\n",
       "  {u'speaker': {u'description': u'Singer/songwriter',\n",
       "    u'firstname': u'Eddi',\n",
       "    u'id': 104,\n",
       "    u'lastname': u'Reader',\n",
       "    u'middleinitial': u'',\n",
       "    u'published_at': u'2007-04-14 21:29:00',\n",
       "    u'slug': u'eddi_reader',\n",
       "    u'title': u'',\n",
       "    u'updated_at': u'2011-07-06 18:19:02',\n",
       "    u'whotheyare': u'In her warm, glorious voice, Eddi Reader sings thoughtful songs about love, longing and introspection.',\n",
       "    u'whylisten': u'<p>Scotland-born Eddi Reader was an &#39;80s pop star in the UK, where her band Fairground Attraction had a #1 hit with the supercatchy &quot;Perfect.&quot; Now, as a solo artist, her sounds has matured; <strong>quiet acoustic arrangements and gentle harmonies put her lush voice front and center</strong>. TED Music Director Thomas Dolby calls her his favorite singer of all time.<br /><br />Albums such as <em><a href=\"http://www.eddireader.co.uk/discs/candyfloss.html\" target=\"_blank\">Candyfloss and Medicine</a></em> and <em><a href=\"http://www.eddireader.co.uk/discs/angels.html\" target=\"_blank\">Angels &amp; Electricity</a></em> established her as <strong>a thoughtful songwriter and interpreter, with an affinity for wistful songs of longing and loss</strong> -- and a nice sideline in what used to be called &quot;message&quot; songs, which call to the listener to think about war and peace, the Earth and our place in it.<br /><br />Reader has also become <strong>a noted interpreter of <a href=\"http://www.eddireader.co.uk/discs/burns_raw.html\" target=\"_blank\">the poems of Robert Burns</a></strong>. Her latest album, <em><a href=\"http://compassrecords.com/catalog/product_info.php?products_id=497\" target=\"_blank\">Peacetime</a></em>, offers a compelling mix of Burns lyrics, traditional folk tunes and new songs written by Reader and her longtime songwriting partner, Boo Hewerdine. Fun fact: The title song on the album, &quot;Peacetime,&quot; Eddi first learned backstage at her 2003 TED performance.</p>'}}]}"
      ]
     },
     "execution_count": 6,
     "metadata": {},
     "output_type": "execute_result"
    }
   ],
   "source": [
    "response.json()"
   ]
  },
  {
   "cell_type": "code",
   "execution_count": 7,
   "metadata": {
    "collapsed": true
   },
   "outputs": [],
   "source": [
    "speaker_collection = []\n",
    "for i in xrange(17):\n",
    "    offset = i*100\n",
    "    response = requests.get(url_speaker,params = dict(limit = 100, offset = offset))\n",
    "    speaker_collection.append(response.json())"
   ]
  },
  {
   "cell_type": "code",
   "execution_count": 8,
   "metadata": {
    "collapsed": true
   },
   "outputs": [],
   "source": [
    "speakers = [x['speaker'] for temp in speaker_collection for x in temp['speakers']]"
   ]
  },
  {
   "cell_type": "code",
   "execution_count": 9,
   "metadata": {
    "collapsed": false
   },
   "outputs": [
    {
     "data": {
      "text/plain": [
       "1696"
      ]
     },
     "execution_count": 9,
     "metadata": {},
     "output_type": "execute_result"
    }
   ],
   "source": [
    "len(speakers)"
   ]
  },
  {
   "cell_type": "code",
   "execution_count": 10,
   "metadata": {
    "collapsed": false
   },
   "outputs": [
    {
     "data": {
      "text/plain": [
       "[u'description',\n",
       " u'firstname',\n",
       " u'title',\n",
       " u'updated_at',\n",
       " u'lastname',\n",
       " u'middleinitial',\n",
       " u'published_at',\n",
       " u'whylisten',\n",
       " u'slug',\n",
       " u'whotheyare',\n",
       " u'id']"
      ]
     },
     "execution_count": 10,
     "metadata": {},
     "output_type": "execute_result"
    }
   ],
   "source": [
    "speakers[0].keys()"
   ]
  },
  {
   "cell_type": "code",
   "execution_count": 11,
   "metadata": {
    "collapsed": true
   },
   "outputs": [],
   "source": [
    "speakers = pd.DataFrame(speakers)"
   ]
  },
  {
   "cell_type": "code",
   "execution_count": 12,
   "metadata": {
    "collapsed": true
   },
   "outputs": [],
   "source": [
    "speakers.set_index('id',drop = True,inplace = True)"
   ]
  },
  {
   "cell_type": "code",
   "execution_count": 13,
   "metadata": {
    "collapsed": true
   },
   "outputs": [],
   "source": [
    "speakers.whotheyare = speakers.whotheyare.apply(lambda x: re.sub(\"<.*?>\", \"\", x))"
   ]
  },
  {
   "cell_type": "code",
   "execution_count": 14,
   "metadata": {
    "collapsed": true
   },
   "outputs": [],
   "source": [
    "speakers.whylisten = speakers.whylisten.apply(lambda x: re.sub(\"<.*?>\", \"\", x))"
   ]
  },
  {
   "cell_type": "code",
   "execution_count": 15,
   "metadata": {
    "collapsed": false
   },
   "outputs": [
    {
     "data": {
      "text/html": [
       "<div style=\"max-height:1000px;max-width:1500px;overflow:auto;\">\n",
       "<table border=\"1\" class=\"dataframe\">\n",
       "  <thead>\n",
       "    <tr style=\"text-align: right;\">\n",
       "      <th></th>\n",
       "      <th>description</th>\n",
       "      <th>firstname</th>\n",
       "      <th>lastname</th>\n",
       "      <th>middleinitial</th>\n",
       "      <th>published_at</th>\n",
       "      <th>slug</th>\n",
       "      <th>title</th>\n",
       "      <th>updated_at</th>\n",
       "      <th>whotheyare</th>\n",
       "      <th>whylisten</th>\n",
       "    </tr>\n",
       "    <tr>\n",
       "      <th>id</th>\n",
       "      <th></th>\n",
       "      <th></th>\n",
       "      <th></th>\n",
       "      <th></th>\n",
       "      <th></th>\n",
       "      <th></th>\n",
       "      <th></th>\n",
       "      <th></th>\n",
       "      <th></th>\n",
       "      <th></th>\n",
       "    </tr>\n",
       "  </thead>\n",
       "  <tbody>\n",
       "    <tr>\n",
       "      <th>2</th>\n",
       "      <td>Climate-change prophet</td>\n",
       "      <td>Al</td>\n",
       "      <td>Gore</td>\n",
       "      <td></td>\n",
       "      <td>2007-02-13 10:43:00</td>\n",
       "      <td>al_gore</td>\n",
       "      <td></td>\n",
       "      <td>2009-04-08 14:44:57</td>\n",
       "      <td>Once the US Vice President, then star of An In...</td>\n",
       "      <td>Unlike some in public office, Al Gore always i...</td>\n",
       "    </tr>\n",
       "    <tr>\n",
       "      <th>3</th>\n",
       "      <td>inventor, engineer</td>\n",
       "      <td>Amy</td>\n",
       "      <td>Smith</td>\n",
       "      <td></td>\n",
       "      <td>2007-02-13 10:46:00</td>\n",
       "      <td>amy_smith</td>\n",
       "      <td></td>\n",
       "      <td>2010-06-30 11:15:45</td>\n",
       "      <td>Amy Smith designs cheap, practical fixes for t...</td>\n",
       "      <td>Mechanical engineer Amy Smith&amp;#39;s approach t...</td>\n",
       "    </tr>\n",
       "    <tr>\n",
       "      <th>4</th>\n",
       "      <td>President-elect of Afghanistan</td>\n",
       "      <td>Ashraf</td>\n",
       "      <td>Ghani</td>\n",
       "      <td></td>\n",
       "      <td>2007-02-13 10:47:00</td>\n",
       "      <td>ashraf_ghani</td>\n",
       "      <td></td>\n",
       "      <td>2015-03-04 03:50:59</td>\n",
       "      <td>Ashraf Ghani, Afghanistan’s new president-elec...</td>\n",
       "      <td>Ashraf Ghani became Afghanistan&amp;rsquo;s new pr...</td>\n",
       "    </tr>\n",
       "    <tr>\n",
       "      <th>5</th>\n",
       "      <td>Aircraft engineer</td>\n",
       "      <td>Burt</td>\n",
       "      <td>Rutan</td>\n",
       "      <td></td>\n",
       "      <td>2007-02-13 10:49:00</td>\n",
       "      <td>burt_rutan</td>\n",
       "      <td></td>\n",
       "      <td>2010-06-15 15:58:14</td>\n",
       "      <td>In 2004, legendary spacecraft designer Burt Ru...</td>\n",
       "      <td>Burt Rutan is widely regarded as one of the wo...</td>\n",
       "    </tr>\n",
       "    <tr>\n",
       "      <th>6</th>\n",
       "      <td>Car designer</td>\n",
       "      <td>Chris</td>\n",
       "      <td>Bangle</td>\n",
       "      <td></td>\n",
       "      <td>2007-02-13 10:59:00</td>\n",
       "      <td>chris_bangle</td>\n",
       "      <td></td>\n",
       "      <td>2010-06-15 16:00:03</td>\n",
       "      <td>Car design is a ubiquitous but often overlooke...</td>\n",
       "      <td>American designer Chris Bangle understands tha...</td>\n",
       "    </tr>\n",
       "  </tbody>\n",
       "</table>\n",
       "</div>"
      ],
      "text/plain": [
       "                       description firstname lastname middleinitial  \\\n",
       "id                                                                    \n",
       "2           Climate-change prophet        Al     Gore                 \n",
       "3               inventor, engineer       Amy    Smith                 \n",
       "4   President-elect of Afghanistan    Ashraf    Ghani                 \n",
       "5                Aircraft engineer      Burt    Rutan                 \n",
       "6                     Car designer     Chris   Bangle                 \n",
       "\n",
       "           published_at          slug title           updated_at  \\\n",
       "id                                                                 \n",
       "2   2007-02-13 10:43:00       al_gore        2009-04-08 14:44:57   \n",
       "3   2007-02-13 10:46:00     amy_smith        2010-06-30 11:15:45   \n",
       "4   2007-02-13 10:47:00  ashraf_ghani        2015-03-04 03:50:59   \n",
       "5   2007-02-13 10:49:00    burt_rutan        2010-06-15 15:58:14   \n",
       "6   2007-02-13 10:59:00  chris_bangle        2010-06-15 16:00:03   \n",
       "\n",
       "                                           whotheyare  \\\n",
       "id                                                      \n",
       "2   Once the US Vice President, then star of An In...   \n",
       "3   Amy Smith designs cheap, practical fixes for t...   \n",
       "4   Ashraf Ghani, Afghanistan’s new president-elec...   \n",
       "5   In 2004, legendary spacecraft designer Burt Ru...   \n",
       "6   Car design is a ubiquitous but often overlooke...   \n",
       "\n",
       "                                            whylisten  \n",
       "id                                                     \n",
       "2   Unlike some in public office, Al Gore always i...  \n",
       "3   Mechanical engineer Amy Smith&#39;s approach t...  \n",
       "4   Ashraf Ghani became Afghanistan&rsquo;s new pr...  \n",
       "5   Burt Rutan is widely regarded as one of the wo...  \n",
       "6   American designer Chris Bangle understands tha...  "
      ]
     },
     "execution_count": 15,
     "metadata": {},
     "output_type": "execute_result"
    }
   ],
   "source": [
    "speakers.head()"
   ]
  },
  {
   "cell_type": "code",
   "execution_count": 16,
   "metadata": {
    "collapsed": true
   },
   "outputs": [],
   "source": [
    "speakers.reset_index(inplace = True)"
   ]
  },
  {
   "cell_type": "code",
   "execution_count": 17,
   "metadata": {
    "collapsed": false
   },
   "outputs": [],
   "source": [
    "speakers.to_json('speakers.json')"
   ]
  },
  {
   "cell_type": "code",
   "execution_count": 26,
   "metadata": {
    "collapsed": true
   },
   "outputs": [],
   "source": [
    "speakers = pd.read_json('speakers.json')"
   ]
  },
  {
   "cell_type": "code",
   "execution_count": 27,
   "metadata": {
    "collapsed": true
   },
   "outputs": [],
   "source": [
    "speakers.sort(columns = 'id',inplace = True)"
   ]
  },
  {
   "cell_type": "code",
   "execution_count": 28,
   "metadata": {
    "collapsed": true
   },
   "outputs": [],
   "source": [
    "speakers.set_index('id',inplace = True)"
   ]
  },
  {
   "cell_type": "code",
   "execution_count": 29,
   "metadata": {
    "collapsed": true
   },
   "outputs": [
    {
     "data": {
      "text/html": [
       "<div style=\"max-height:1000px;max-width:1500px;overflow:auto;\">\n",
       "<table border=\"1\" class=\"dataframe\">\n",
       "  <thead>\n",
       "    <tr style=\"text-align: right;\">\n",
       "      <th></th>\n",
       "      <th>description</th>\n",
       "      <th>firstname</th>\n",
       "      <th>lastname</th>\n",
       "      <th>middleinitial</th>\n",
       "      <th>published_at</th>\n",
       "      <th>slug</th>\n",
       "      <th>title</th>\n",
       "      <th>updated_at</th>\n",
       "      <th>whotheyare</th>\n",
       "      <th>whylisten</th>\n",
       "    </tr>\n",
       "    <tr>\n",
       "      <th>id</th>\n",
       "      <th></th>\n",
       "      <th></th>\n",
       "      <th></th>\n",
       "      <th></th>\n",
       "      <th></th>\n",
       "      <th></th>\n",
       "      <th></th>\n",
       "      <th></th>\n",
       "      <th></th>\n",
       "      <th></th>\n",
       "    </tr>\n",
       "  </thead>\n",
       "  <tbody>\n",
       "    <tr>\n",
       "      <th>2</th>\n",
       "      <td>Climate-change prophet</td>\n",
       "      <td>Al</td>\n",
       "      <td>Gore</td>\n",
       "      <td></td>\n",
       "      <td>2007-02-13 10:43:00</td>\n",
       "      <td>al_gore</td>\n",
       "      <td></td>\n",
       "      <td>2009-04-08 14:44:57</td>\n",
       "      <td>Once the US Vice President, then star of An In...</td>\n",
       "      <td>Unlike some in public office, Al Gore always i...</td>\n",
       "    </tr>\n",
       "    <tr>\n",
       "      <th>3</th>\n",
       "      <td>inventor, engineer</td>\n",
       "      <td>Amy</td>\n",
       "      <td>Smith</td>\n",
       "      <td></td>\n",
       "      <td>2007-02-13 10:46:00</td>\n",
       "      <td>amy_smith</td>\n",
       "      <td></td>\n",
       "      <td>2010-06-30 11:15:45</td>\n",
       "      <td>Amy Smith designs cheap, practical fixes for t...</td>\n",
       "      <td>Mechanical engineer Amy Smith&amp;#39;s approach t...</td>\n",
       "    </tr>\n",
       "    <tr>\n",
       "      <th>4</th>\n",
       "      <td>President-elect of Afghanistan</td>\n",
       "      <td>Ashraf</td>\n",
       "      <td>Ghani</td>\n",
       "      <td></td>\n",
       "      <td>2007-02-13 10:47:00</td>\n",
       "      <td>ashraf_ghani</td>\n",
       "      <td></td>\n",
       "      <td>2015-03-04 03:50:59</td>\n",
       "      <td>Ashraf Ghani, Afghanistan’s new president-elec...</td>\n",
       "      <td>Ashraf Ghani became Afghanistan&amp;rsquo;s new pr...</td>\n",
       "    </tr>\n",
       "    <tr>\n",
       "      <th>5</th>\n",
       "      <td>Aircraft engineer</td>\n",
       "      <td>Burt</td>\n",
       "      <td>Rutan</td>\n",
       "      <td></td>\n",
       "      <td>2007-02-13 10:49:00</td>\n",
       "      <td>burt_rutan</td>\n",
       "      <td></td>\n",
       "      <td>2010-06-15 15:58:14</td>\n",
       "      <td>In 2004, legendary spacecraft designer Burt Ru...</td>\n",
       "      <td>Burt Rutan is widely regarded as one of the wo...</td>\n",
       "    </tr>\n",
       "    <tr>\n",
       "      <th>6</th>\n",
       "      <td>Car designer</td>\n",
       "      <td>Chris</td>\n",
       "      <td>Bangle</td>\n",
       "      <td></td>\n",
       "      <td>2007-02-13 10:59:00</td>\n",
       "      <td>chris_bangle</td>\n",
       "      <td></td>\n",
       "      <td>2010-06-15 16:00:03</td>\n",
       "      <td>Car design is a ubiquitous but often overlooke...</td>\n",
       "      <td>American designer Chris Bangle understands tha...</td>\n",
       "    </tr>\n",
       "  </tbody>\n",
       "</table>\n",
       "</div>"
      ],
      "text/plain": [
       "                       description firstname lastname middleinitial  \\\n",
       "id                                                                    \n",
       "2           Climate-change prophet        Al     Gore                 \n",
       "3               inventor, engineer       Amy    Smith                 \n",
       "4   President-elect of Afghanistan    Ashraf    Ghani                 \n",
       "5                Aircraft engineer      Burt    Rutan                 \n",
       "6                     Car designer     Chris   Bangle                 \n",
       "\n",
       "          published_at          slug title          updated_at  \\\n",
       "id                                                               \n",
       "2  2007-02-13 10:43:00       al_gore       2009-04-08 14:44:57   \n",
       "3  2007-02-13 10:46:00     amy_smith       2010-06-30 11:15:45   \n",
       "4  2007-02-13 10:47:00  ashraf_ghani       2015-03-04 03:50:59   \n",
       "5  2007-02-13 10:49:00    burt_rutan       2010-06-15 15:58:14   \n",
       "6  2007-02-13 10:59:00  chris_bangle       2010-06-15 16:00:03   \n",
       "\n",
       "                                           whotheyare  \\\n",
       "id                                                      \n",
       "2   Once the US Vice President, then star of An In...   \n",
       "3   Amy Smith designs cheap, practical fixes for t...   \n",
       "4   Ashraf Ghani, Afghanistan’s new president-elec...   \n",
       "5   In 2004, legendary spacecraft designer Burt Ru...   \n",
       "6   Car design is a ubiquitous but often overlooke...   \n",
       "\n",
       "                                            whylisten  \n",
       "id                                                     \n",
       "2   Unlike some in public office, Al Gore always i...  \n",
       "3   Mechanical engineer Amy Smith&#39;s approach t...  \n",
       "4   Ashraf Ghani became Afghanistan&rsquo;s new pr...  \n",
       "5   Burt Rutan is widely regarded as one of the wo...  \n",
       "6   American designer Chris Bangle understands tha...  "
      ]
     },
     "execution_count": 29,
     "metadata": {},
     "output_type": "execute_result"
    }
   ],
   "source": [
    "speakers.head()"
   ]
  },
  {
   "cell_type": "markdown",
   "metadata": {},
   "source": [
    "###1.1 Determine gender "
   ]
  },
  {
   "cell_type": "code",
   "execution_count": 30,
   "metadata": {
    "collapsed": true
   },
   "outputs": [],
   "source": [
    "genderdict = {'he':1,'him':1,'his':1,'she':0,'her':0,'hers':0}"
   ]
  },
  {
   "cell_type": "code",
   "execution_count": 31,
   "metadata": {
    "collapsed": false
   },
   "outputs": [],
   "source": [
    "def genderdet(text):\n",
    "    found = False\n",
    "    for word in text.split(' '):\n",
    "        word = word.lower()\n",
    "        if genderdict.has_key(word):\n",
    "            found = True\n",
    "            return genderdict[word]\n",
    "    if not found:\n",
    "        return -1"
   ]
  },
  {
   "cell_type": "code",
   "execution_count": 32,
   "metadata": {
    "collapsed": true
   },
   "outputs": [],
   "source": [
    "# define a function to get speakers info given speakers ids\n",
    "def speakerinfo(ids):\n",
    "    # ids is a list of ids\n",
    "    gender = []\n",
    "    for speakerid in ids:\n",
    "        text = speakers.ix[speakerid,'whylisten'] + speakers.ix[speakerid,'whotheyare']\n",
    "        gender.append(genderdet(text))\n",
    "    if len(gender) == 1:\n",
    "        return gender[0]\n",
    "    return gender"
   ]
  },
  {
   "cell_type": "code",
   "execution_count": 33,
   "metadata": {
    "collapsed": false
   },
   "outputs": [],
   "source": [
    "gender = talks_train['speaker_ids'].apply(speakerinfo)"
   ]
  },
  {
   "cell_type": "code",
   "execution_count": 34,
   "metadata": {
    "collapsed": false
   },
   "outputs": [
    {
     "name": "stderr",
     "output_type": "stream",
     "text": [
      "/Users/ysfeng/anaconda/lib/python2.7/site-packages/pandas/core/algorithms.py:245: RuntimeWarning: tp_compare didn't return -1 or -2 for exception\n",
      "  keys, counts = htable.value_count_object(values, mask)\n"
     ]
    },
    {
     "data": {
      "text/plain": [
       "1            1030\n",
       "0             405\n",
       "-1             72\n",
       "[1, 1]         13\n",
       "[0, 1]          4\n",
       "[0, 0]          3\n",
       "[-1, 1]         2\n",
       "[1, 0]          2\n",
       "[1, 0, 1]       1\n",
       "[-1, -1]        1\n",
       "[0, 0, 0]       1\n",
       "[-1, 0]         1\n",
       "dtype: int64"
      ]
     },
     "execution_count": 34,
     "metadata": {},
     "output_type": "execute_result"
    }
   ],
   "source": [
    "gender.value_counts()"
   ]
  },
  {
   "cell_type": "code",
   "execution_count": 35,
   "metadata": {
    "collapsed": true
   },
   "outputs": [
    {
     "data": {
      "text/plain": [
       "0            1\n",
       "1            0\n",
       "2            1\n",
       "3            1\n",
       "4            0\n",
       "5            1\n",
       "6            1\n",
       "7            1\n",
       "8            1\n",
       "9            1\n",
       "10           1\n",
       "11           1\n",
       "12           1\n",
       "13           1\n",
       "14           1\n",
       "15          -1\n",
       "16           1\n",
       "17           0\n",
       "18           0\n",
       "19          -1\n",
       "20           1\n",
       "21           1\n",
       "22           1\n",
       "23      [1, 1]\n",
       "24           1\n",
       "25           1\n",
       "26           1\n",
       "27           1\n",
       "28           1\n",
       "29           0\n",
       "         ...  \n",
       "1505        -1\n",
       "1506         1\n",
       "1507         1\n",
       "1508         1\n",
       "1509         0\n",
       "1510         1\n",
       "1511         1\n",
       "1512         1\n",
       "1513         1\n",
       "1514         0\n",
       "1515         1\n",
       "1516         1\n",
       "1517         1\n",
       "1518         0\n",
       "1519         1\n",
       "1520         0\n",
       "1521         1\n",
       "1522         1\n",
       "1523         1\n",
       "1524         1\n",
       "1525    [0, 0]\n",
       "1526         1\n",
       "1527         1\n",
       "1528         1\n",
       "1529         0\n",
       "1530         1\n",
       "1531         1\n",
       "1532         0\n",
       "1533         1\n",
       "1534         0\n",
       "Name: speaker_ids, dtype: object"
      ]
     },
     "execution_count": 35,
     "metadata": {},
     "output_type": "execute_result"
    }
   ],
   "source": [
    "gender"
   ]
  },
  {
   "cell_type": "markdown",
   "metadata": {},
   "source": [
    "#### Resort to gender.api.com to check the remaining speakers using their first name "
   ]
  },
  {
   "cell_type": "code",
   "execution_count": 36,
   "metadata": {
    "collapsed": false
   },
   "outputs": [],
   "source": [
    "# row index of speaker gender-unidentified talks\n",
    "unidentified = list(gender[gender == -1].index)"
   ]
  },
  {
   "cell_type": "code",
   "execution_count": 37,
   "metadata": {
    "collapsed": false
   },
   "outputs": [
    {
     "data": {
      "text/plain": [
       "15"
      ]
     },
     "execution_count": 37,
     "metadata": {},
     "output_type": "execute_result"
    }
   ],
   "source": [
    "unidentified[0]"
   ]
  },
  {
   "cell_type": "code",
   "execution_count": 38,
   "metadata": {
    "collapsed": true
   },
   "outputs": [],
   "source": [
    "baseurl = 'https://gender-api.com/get?name='\n",
    "key='oxxyvSjsHaSKyuLUFF'"
   ]
  },
  {
   "cell_type": "code",
   "execution_count": 39,
   "metadata": {
    "collapsed": true
   },
   "outputs": [],
   "source": [
    "def checkfirstname(ind):\n",
    "    # ind is the row indices of gender(talks_train)\n",
    "    # since in this case we know these talks have only one speaker, we just assign it to speakerid as a variable\n",
    "    speakerid = talks_train.ix[ind,'speaker_ids'][0]\n",
    "    name = speakers.ix[speakerid,'firstname']\n",
    "    url = baseurl+name\n",
    "    response = requests.get(url,params = dict(key=key))\n",
    "    return response.json()['gender']"
   ]
  },
  {
   "cell_type": "code",
   "execution_count": 40,
   "metadata": {
    "collapsed": false
   },
   "outputs": [
    {
     "data": {
      "text/plain": [
       "u'male'"
      ]
     },
     "execution_count": 40,
     "metadata": {},
     "output_type": "execute_result"
    }
   ],
   "source": [
    "checkfirstname(15)"
   ]
  },
  {
   "cell_type": "code",
   "execution_count": 41,
   "metadata": {
    "collapsed": true
   },
   "outputs": [],
   "source": [
    "sex = [checkfirstname(x) for x in unidentified]"
   ]
  },
  {
   "cell_type": "code",
   "execution_count": 42,
   "metadata": {
    "collapsed": true
   },
   "outputs": [],
   "source": [
    "sex_bin = []\n",
    "for det in sex:\n",
    "    if det == 'male':\n",
    "        sex_bin.append(1)\n",
    "    elif det == 'female':\n",
    "        sex_bin.append(0)\n",
    "    else:\n",
    "        sex_bin.append(-1)"
   ]
  },
  {
   "cell_type": "code",
   "execution_count": 43,
   "metadata": {
    "collapsed": true
   },
   "outputs": [],
   "source": [
    "sex_bin = pd.Series(sex_bin,index = unidentified)"
   ]
  },
  {
   "cell_type": "code",
   "execution_count": 44,
   "metadata": {
    "collapsed": true
   },
   "outputs": [
    {
     "data": {
      "text/plain": [
       "15      1\n",
       "19      1\n",
       "50      1\n",
       "98      1\n",
       "102     1\n",
       "109     1\n",
       "138     1\n",
       "149     1\n",
       "153     1\n",
       "185     1\n",
       "191     1\n",
       "226     1\n",
       "258     1\n",
       "260     1\n",
       "270     1\n",
       "279     0\n",
       "295     1\n",
       "296    -1\n",
       "367     1\n",
       "404    -1\n",
       "432     1\n",
       "438     1\n",
       "511     1\n",
       "528     1\n",
       "558     1\n",
       "613     0\n",
       "626     0\n",
       "627     1\n",
       "649     1\n",
       "654     1\n",
       "       ..\n",
       "991     1\n",
       "992     0\n",
       "1011    1\n",
       "1025   -1\n",
       "1027    1\n",
       "1045    1\n",
       "1058    1\n",
       "1067    1\n",
       "1080    1\n",
       "1085    0\n",
       "1093    1\n",
       "1110    1\n",
       "1213   -1\n",
       "1223    1\n",
       "1242    1\n",
       "1262    1\n",
       "1281    1\n",
       "1295   -1\n",
       "1360   -1\n",
       "1369    1\n",
       "1374    1\n",
       "1375    1\n",
       "1376    0\n",
       "1397    1\n",
       "1418    0\n",
       "1422    1\n",
       "1426    1\n",
       "1481    1\n",
       "1498    0\n",
       "1505   -1\n",
       "dtype: int64"
      ]
     },
     "execution_count": 44,
     "metadata": {},
     "output_type": "execute_result"
    }
   ],
   "source": [
    "sex_bin"
   ]
  },
  {
   "cell_type": "code",
   "execution_count": 45,
   "metadata": {
    "collapsed": false
   },
   "outputs": [],
   "source": [
    "gender[unidentified]=sex_bin"
   ]
  },
  {
   "cell_type": "code",
   "execution_count": 46,
   "metadata": {
    "collapsed": false
   },
   "outputs": [
    {
     "data": {
      "text/plain": [
       "1            1084\n",
       "0             415\n",
       "[1, 1]         13\n",
       "-1              8\n",
       "[0, 1]          4\n",
       "[0, 0]          3\n",
       "[-1, 1]         2\n",
       "[1, 0]          2\n",
       "[1, 0, 1]       1\n",
       "[-1, -1]        1\n",
       "[0, 0, 0]       1\n",
       "[-1, 0]         1\n",
       "dtype: int64"
      ]
     },
     "execution_count": 46,
     "metadata": {},
     "output_type": "execute_result"
    }
   ],
   "source": [
    "gender.value_counts()"
   ]
  },
  {
   "cell_type": "code",
   "execution_count": 47,
   "metadata": {
    "collapsed": false
   },
   "outputs": [
    {
     "data": {
      "text/plain": [
       "Int64Index([296, 404, 817, 1025, 1213, 1295, 1360, 1505], dtype='int64')"
      ]
     },
     "execution_count": 47,
     "metadata": {},
     "output_type": "execute_result"
    }
   ],
   "source": [
    "gender[gender == -1].index"
   ]
  },
  {
   "cell_type": "code",
   "execution_count": 48,
   "metadata": {
    "collapsed": false
   },
   "outputs": [
    {
     "data": {
      "text/plain": [
       "u'Stewart Brand + Mark Z. Jacobson: Debate: Does the world need nuclear energy?'"
      ]
     },
     "execution_count": 48,
     "metadata": {},
     "output_type": "execute_result"
    }
   ],
   "source": [
    "talks_train.ix[1300,'name']"
   ]
  },
  {
   "cell_type": "code",
   "execution_count": 49,
   "metadata": {
    "collapsed": false
   },
   "outputs": [],
   "source": [
    "gender[296]=1"
   ]
  },
  {
   "cell_type": "code",
   "execution_count": 50,
   "metadata": {
    "collapsed": true
   },
   "outputs": [],
   "source": [
    "gender[404]=0;gender[817]=1;gender[1025]=1;"
   ]
  },
  {
   "cell_type": "code",
   "execution_count": 51,
   "metadata": {
    "collapsed": true
   },
   "outputs": [],
   "source": [
    "gender[1213]=0;gender[1295]=1;gender[1360]=0;"
   ]
  },
  {
   "cell_type": "code",
   "execution_count": 52,
   "metadata": {
    "collapsed": true
   },
   "outputs": [],
   "source": [
    "gender[1505]=1"
   ]
  },
  {
   "cell_type": "code",
   "execution_count": 53,
   "metadata": {
    "collapsed": false
   },
   "outputs": [
    {
     "data": {
      "text/plain": [
       "1            1089\n",
       "0             418\n",
       "[1, 1]         13\n",
       "[0, 1]          4\n",
       "[0, 0]          3\n",
       "[-1, 1]         2\n",
       "[1, 0]          2\n",
       "[1, 0, 1]       1\n",
       "[-1, -1]        1\n",
       "[0, 0, 0]       1\n",
       "[-1, 0]         1\n",
       "dtype: int64"
      ]
     },
     "execution_count": 53,
     "metadata": {},
     "output_type": "execute_result"
    }
   ],
   "source": [
    "gender.value_counts()"
   ]
  },
  {
   "cell_type": "code",
   "execution_count": 54,
   "metadata": {
    "collapsed": false
   },
   "outputs": [
    {
     "name": "stdout",
     "output_type": "stream",
     "text": [
      "166 [0, 1]\n",
      "196 [-1, 0]\n",
      "262 [0, 1]\n",
      "441 [1, 0]\n",
      "657 [0, 1]\n",
      "820 [-1, 1]\n",
      "897 [-1, -1]\n",
      "976 [0, 1]\n",
      "1260 [1, 0]\n",
      "1300 [-1, 1]\n"
     ]
    }
   ],
   "source": [
    "for ind, sex in gender.iteritems():\n",
    "    if type(sex)==list:\n",
    "        if len(sex)==2 and sum(sex)==2:\n",
    "            gender[ind]=1\n",
    "        elif len(sex)==3 and sum(sex)==0:\n",
    "            gender[ind]=0\n",
    "        elif len(sex)==3 and sum(sex)==2:\n",
    "            gender[ind]=1\n",
    "        elif len(sex)==2 and sex[0]==0 and sex[1]==0:\n",
    "            gender[ind]=0\n",
    "        else:\n",
    "            print ind,sex"
   ]
  },
  {
   "cell_type": "code",
   "execution_count": 55,
   "metadata": {
    "collapsed": true
   },
   "outputs": [],
   "source": [
    "gender[196]=1;gender[820]=1;gender[897]=1;gender[1300]=1"
   ]
  },
  {
   "cell_type": "code",
   "execution_count": 56,
   "metadata": {
    "collapsed": false
   },
   "outputs": [
    {
     "name": "stdout",
     "output_type": "stream",
     "text": [
      "166 [0, 1]\n",
      "262 [0, 1]\n",
      "441 [1, 0]\n",
      "657 [0, 1]\n",
      "976 [0, 1]\n",
      "1260 [1, 0]\n"
     ]
    }
   ],
   "source": [
    "for ind, sex in gender.iteritems():\n",
    "    if type(sex)==list:\n",
    "        print ind,sex"
   ]
  },
  {
   "cell_type": "code",
   "execution_count": 57,
   "metadata": {
    "collapsed": false
   },
   "outputs": [],
   "source": [
    "gender.ix[[166,262,441,657,976,1260]]=1"
   ]
  },
  {
   "cell_type": "code",
   "execution_count": 58,
   "metadata": {
    "collapsed": false
   },
   "outputs": [
    {
     "data": {
      "text/plain": [
       "1    1113\n",
       "0     422\n",
       "dtype: int64"
      ]
     },
     "execution_count": 58,
     "metadata": {},
     "output_type": "execute_result"
    }
   ],
   "source": [
    "gender.value_counts()"
   ]
  },
  {
   "cell_type": "markdown",
   "metadata": {},
   "source": [
    "###gender determination summary: "
   ]
  },
  {
   "cell_type": "markdown",
   "metadata": {},
   "source": [
    "1. Most of them are determined by looking for he/she etc in the whytohear, whotheyare columns\n",
    "2. The unknown from the 1st step are determined by first name check on gendercheck.api.com\n",
    "3. The remaining unknowns are determined manually by watching the video\n",
    "4. In the case of multiple speakers: (1) Majority gender (2)If even, choose 'male' or 1\n",
    "5. Notice there are many cases where there are multiple speakers but TED recorded as one speaker."
   ]
  },
  {
   "cell_type": "code",
   "execution_count": 59,
   "metadata": {
    "collapsed": false
   },
   "outputs": [
    {
     "data": {
      "text/plain": [
       "(1535,)"
      ]
     },
     "execution_count": 59,
     "metadata": {},
     "output_type": "execute_result"
    }
   ],
   "source": [
    "gender.shape"
   ]
  },
  {
   "cell_type": "code",
   "execution_count": 60,
   "metadata": {
    "collapsed": false
   },
   "outputs": [],
   "source": [
    "talks_train['speaker_gender']=gender"
   ]
  },
  {
   "cell_type": "code",
   "execution_count": 61,
   "metadata": {
    "collapsed": true
   },
   "outputs": [
    {
     "data": {
      "text/html": [
       "<div style=\"max-height:1000px;max-width:1500px;overflow:auto;\">\n",
       "<table border=\"1\" class=\"dataframe\">\n",
       "  <thead>\n",
       "    <tr style=\"text-align: right;\">\n",
       "      <th></th>\n",
       "      <th>Beautiful</th>\n",
       "      <th>Confusing</th>\n",
       "      <th>Courageous</th>\n",
       "      <th>Fascinating</th>\n",
       "      <th>Funny</th>\n",
       "      <th>Informative</th>\n",
       "      <th>Ingenious</th>\n",
       "      <th>Inspiring</th>\n",
       "      <th>Jaw-dropping</th>\n",
       "      <th>Longwinded</th>\n",
       "      <th>...</th>\n",
       "      <th>native_language_code</th>\n",
       "      <th>published_at</th>\n",
       "      <th>rating_count</th>\n",
       "      <th>recorded_at</th>\n",
       "      <th>released_at</th>\n",
       "      <th>speaker_ids</th>\n",
       "      <th>themes</th>\n",
       "      <th>updated_at</th>\n",
       "      <th>viewed_count</th>\n",
       "      <th>speaker_gender</th>\n",
       "    </tr>\n",
       "  </thead>\n",
       "  <tbody>\n",
       "    <tr>\n",
       "      <th>0</th>\n",
       "      <td>50</td>\n",
       "      <td>51</td>\n",
       "      <td>126</td>\n",
       "      <td>100</td>\n",
       "      <td>460</td>\n",
       "      <td>383</td>\n",
       "      <td>50</td>\n",
       "      <td>356</td>\n",
       "      <td>85</td>\n",
       "      <td>95</td>\n",
       "      <td>...</td>\n",
       "      <td>en</td>\n",
       "      <td>2006-06-27 00:11:00</td>\n",
       "      <td>2485</td>\n",
       "      <td>2006-02-25</td>\n",
       "      <td>2013-12-02 21:24:10</td>\n",
       "      <td>[2]</td>\n",
       "      <td>[{u'theme': {u'id': 7, u'name': u'Presentation...</td>\n",
       "      <td>2014-11-05 16:39:29</td>\n",
       "      <td>2842062</td>\n",
       "      <td>1</td>\n",
       "    </tr>\n",
       "    <tr>\n",
       "      <th>1</th>\n",
       "      <td>45</td>\n",
       "      <td>NaN</td>\n",
       "      <td>128</td>\n",
       "      <td>139</td>\n",
       "      <td>15</td>\n",
       "      <td>236</td>\n",
       "      <td>269</td>\n",
       "      <td>432</td>\n",
       "      <td>61</td>\n",
       "      <td>14</td>\n",
       "      <td>...</td>\n",
       "      <td>en</td>\n",
       "      <td>2006-08-15 00:11:00</td>\n",
       "      <td>1511</td>\n",
       "      <td>2006-02-24</td>\n",
       "      <td>2013-12-12 20:29:35</td>\n",
       "      <td>[3]</td>\n",
       "      <td>[{u'theme': {u'id': 15, u'name': u'A Greener F...</td>\n",
       "      <td>2015-04-11 07:03:32</td>\n",
       "      <td>956392</td>\n",
       "      <td>0</td>\n",
       "    </tr>\n",
       "    <tr>\n",
       "      <th>2</th>\n",
       "      <td>21</td>\n",
       "      <td>5</td>\n",
       "      <td>27</td>\n",
       "      <td>201</td>\n",
       "      <td>14</td>\n",
       "      <td>322</td>\n",
       "      <td>242</td>\n",
       "      <td>326</td>\n",
       "      <td>23</td>\n",
       "      <td>26</td>\n",
       "      <td>...</td>\n",
       "      <td>en</td>\n",
       "      <td>2015-01-12 16:15:47</td>\n",
       "      <td>1398</td>\n",
       "      <td>2014-10-09</td>\n",
       "      <td>2015-01-12 16:15:47</td>\n",
       "      <td>[2046]</td>\n",
       "      <td>[{u'theme': {u'id': 28, u'name': u'Not Busines...</td>\n",
       "      <td>2015-05-08 18:50:06</td>\n",
       "      <td>1117078</td>\n",
       "      <td>1</td>\n",
       "    </tr>\n",
       "    <tr>\n",
       "      <th>3</th>\n",
       "      <td>37</td>\n",
       "      <td>22</td>\n",
       "      <td>123</td>\n",
       "      <td>38</td>\n",
       "      <td>9</td>\n",
       "      <td>187</td>\n",
       "      <td>27</td>\n",
       "      <td>100</td>\n",
       "      <td>29</td>\n",
       "      <td>18</td>\n",
       "      <td>...</td>\n",
       "      <td>en</td>\n",
       "      <td>2006-10-18 00:11:00</td>\n",
       "      <td>772</td>\n",
       "      <td>2005-07-12</td>\n",
       "      <td>2014-04-11 04:08:46</td>\n",
       "      <td>[4]</td>\n",
       "      <td>[{u'theme': {u'id': 20, u'name': u'Rethinking ...</td>\n",
       "      <td>2014-08-05 20:18:08</td>\n",
       "      <td>650873</td>\n",
       "      <td>1</td>\n",
       "    </tr>\n",
       "    <tr>\n",
       "      <th>4</th>\n",
       "      <td>73</td>\n",
       "      <td>5</td>\n",
       "      <td>12</td>\n",
       "      <td>6</td>\n",
       "      <td>229</td>\n",
       "      <td>8</td>\n",
       "      <td>41</td>\n",
       "      <td>19</td>\n",
       "      <td>5</td>\n",
       "      <td>6</td>\n",
       "      <td>...</td>\n",
       "      <td>en</td>\n",
       "      <td>2007-04-06 00:30:00</td>\n",
       "      <td>531</td>\n",
       "      <td>2006-02-26</td>\n",
       "      <td>2014-09-23 22:44:38</td>\n",
       "      <td>[105]</td>\n",
       "      <td>[{u'theme': {u'id': 9, u'name': u'Spectacular ...</td>\n",
       "      <td>2014-09-23 22:44:38</td>\n",
       "      <td>441840</td>\n",
       "      <td>0</td>\n",
       "    </tr>\n",
       "  </tbody>\n",
       "</table>\n",
       "<p>5 rows × 32 columns</p>\n",
       "</div>"
      ],
      "text/plain": [
       "   Beautiful  Confusing  Courageous  Fascinating  Funny  Informative  \\\n",
       "0         50         51         126          100    460          383   \n",
       "1         45        NaN         128          139     15          236   \n",
       "2         21          5          27          201     14          322   \n",
       "3         37         22         123           38      9          187   \n",
       "4         73          5          12            6    229            8   \n",
       "\n",
       "   Ingenious  Inspiring  Jaw-dropping  Longwinded      ...        \\\n",
       "0         50        356            85          95      ...         \n",
       "1        269        432            61          14      ...         \n",
       "2        242        326            23          26      ...         \n",
       "3         27        100            29          18      ...         \n",
       "4         41         19             5           6      ...         \n",
       "\n",
       "   native_language_code        published_at  rating_count  recorded_at  \\\n",
       "0                    en 2006-06-27 00:11:00          2485   2006-02-25   \n",
       "1                    en 2006-08-15 00:11:00          1511   2006-02-24   \n",
       "2                    en 2015-01-12 16:15:47          1398   2014-10-09   \n",
       "3                    en 2006-10-18 00:11:00           772   2005-07-12   \n",
       "4                    en 2007-04-06 00:30:00           531   2006-02-26   \n",
       "\n",
       "          released_at speaker_ids  \\\n",
       "0 2013-12-02 21:24:10         [2]   \n",
       "1 2013-12-12 20:29:35         [3]   \n",
       "2 2015-01-12 16:15:47      [2046]   \n",
       "3 2014-04-11 04:08:46         [4]   \n",
       "4 2014-09-23 22:44:38       [105]   \n",
       "\n",
       "                                              themes          updated_at  \\\n",
       "0  [{u'theme': {u'id': 7, u'name': u'Presentation... 2014-11-05 16:39:29   \n",
       "1  [{u'theme': {u'id': 15, u'name': u'A Greener F... 2015-04-11 07:03:32   \n",
       "2  [{u'theme': {u'id': 28, u'name': u'Not Busines... 2015-05-08 18:50:06   \n",
       "3  [{u'theme': {u'id': 20, u'name': u'Rethinking ... 2014-08-05 20:18:08   \n",
       "4  [{u'theme': {u'id': 9, u'name': u'Spectacular ... 2014-09-23 22:44:38   \n",
       "\n",
       "   viewed_count speaker_gender  \n",
       "0       2842062              1  \n",
       "1        956392              0  \n",
       "2       1117078              1  \n",
       "3        650873              1  \n",
       "4        441840              0  \n",
       "\n",
       "[5 rows x 32 columns]"
      ]
     },
     "execution_count": 61,
     "metadata": {},
     "output_type": "execute_result"
    }
   ],
   "source": [
    "talks_train.head()"
   ]
  },
  {
   "cell_type": "markdown",
   "metadata": {},
   "source": [
    "###Here also generate a feature to record multi-speaker talks "
   ]
  },
  {
   "cell_type": "code",
   "execution_count": 62,
   "metadata": {
    "collapsed": true
   },
   "outputs": [],
   "source": [
    "onespeaker = talks_train.speaker_ids.apply(lambda x:len(x)==1)"
   ]
  },
  {
   "cell_type": "code",
   "execution_count": 63,
   "metadata": {
    "collapsed": false
   },
   "outputs": [
    {
     "data": {
      "text/plain": [
       "28"
      ]
     },
     "execution_count": 63,
     "metadata": {},
     "output_type": "execute_result"
    }
   ],
   "source": [
    "sum(~onespeaker)"
   ]
  },
  {
   "cell_type": "code",
   "execution_count": 64,
   "metadata": {
    "collapsed": true
   },
   "outputs": [],
   "source": [
    "talks_train['onespeaker']=onespeaker"
   ]
  },
  {
   "cell_type": "code",
   "execution_count": 65,
   "metadata": {
    "collapsed": true
   },
   "outputs": [],
   "source": [
    "talks_train.to_json('train2.json')"
   ]
  },
  {
   "cell_type": "code",
   "execution_count": 66,
   "metadata": {
    "collapsed": false
   },
   "outputs": [
    {
     "data": {
      "text/plain": [
       "Index([           u'Beautiful',            u'Confusing',\n",
       "                 u'Courageous',          u'Fascinating',\n",
       "                      u'Funny',          u'Informative',\n",
       "                  u'Ingenious',            u'Inspiring',\n",
       "               u'Jaw-dropping',           u'Longwinded',\n",
       "                         u'OK',            u'Obnoxious',\n",
       "                 u'Persuasive',         u'Unconvincing',\n",
       "            u'commented_count',          u'description',\n",
       "              u'emailed_count',             u'event_id',\n",
       "                         u'id',             u'keywords',\n",
       "                  u'languages',                 u'name',\n",
       "       u'native_language_code',         u'published_at',\n",
       "               u'rating_count',          u'recorded_at',\n",
       "                u'released_at',          u'speaker_ids',\n",
       "                     u'themes',           u'updated_at',\n",
       "               u'viewed_count',       u'speaker_gender',\n",
       "                 u'onespeaker'],\n",
       "      dtype='object')"
      ]
     },
     "execution_count": 66,
     "metadata": {},
     "output_type": "execute_result"
    }
   ],
   "source": [
    "talks_train.columns"
   ]
  },
  {
   "cell_type": "markdown",
   "metadata": {},
   "source": [
    "##2. Process talk text information: title + keywords + description"
   ]
  },
  {
   "cell_type": "markdown",
   "metadata": {},
   "source": [
    "This is the first of all text resources that will be tapped on, the second would be the captions (e.g., first and last paragraphs); the third will be speakers' background info"
   ]
  },
  {
   "cell_type": "code",
   "execution_count": 9,
   "metadata": {
    "collapsed": true
   },
   "outputs": [],
   "source": [
    "talks_train = pd.read_json('train2.json')"
   ]
  },
  {
   "cell_type": "code",
   "execution_count": 10,
   "metadata": {
    "collapsed": true
   },
   "outputs": [],
   "source": [
    "labels = pd.read_csv('response5.csv',header =None )"
   ]
  },
  {
   "cell_type": "code",
   "execution_count": 11,
   "metadata": {
    "collapsed": false
   },
   "outputs": [
    {
     "data": {
      "text/plain": [
       "(1535, 2)"
      ]
     },
     "execution_count": 11,
     "metadata": {},
     "output_type": "execute_result"
    }
   ],
   "source": [
    "labels.shape"
   ]
  },
  {
   "cell_type": "code",
   "execution_count": 12,
   "metadata": {
    "collapsed": true
   },
   "outputs": [],
   "source": [
    "labels.columns = ['id','label']"
   ]
  },
  {
   "cell_type": "code",
   "execution_count": 13,
   "metadata": {
    "collapsed": true
   },
   "outputs": [],
   "source": [
    "talks = pd.merge(talks_train[['description',\n",
    "                             'id', 'keywords', 'name']],labels,on = 'id')"
   ]
  },
  {
   "cell_type": "code",
   "execution_count": 14,
   "metadata": {
    "collapsed": true
   },
   "outputs": [],
   "source": [
    "talks.sort(inplace = True, columns = 'id')"
   ]
  },
  {
   "cell_type": "code",
   "execution_count": 15,
   "metadata": {
    "collapsed": false
   },
   "outputs": [],
   "source": [
    "talks.reset_index(inplace = True, drop = True)"
   ]
  },
  {
   "cell_type": "code",
   "execution_count": 16,
   "metadata": {
    "collapsed": true
   },
   "outputs": [],
   "source": [
    "def gettitle(name):\n",
    "    tmp = name.split(':')\n",
    "    if len(tmp)==1:\n",
    "        return tmp[0]\n",
    "    else:\n",
    "        return tmp[1]"
   ]
  },
  {
   "cell_type": "code",
   "execution_count": 17,
   "metadata": {
    "collapsed": false
   },
   "outputs": [],
   "source": [
    "talks['title'] = talks.name.apply(gettitle)"
   ]
  },
  {
   "cell_type": "code",
   "execution_count": 18,
   "metadata": {
    "collapsed": false
   },
   "outputs": [],
   "source": [
    "talks.drop('name',axis = 1,inplace = True)"
   ]
  },
  {
   "cell_type": "code",
   "execution_count": 19,
   "metadata": {
    "collapsed": false
   },
   "outputs": [
    {
     "data": {
      "text/html": [
       "<div style=\"max-height:1000px;max-width:1500px;overflow:auto;\">\n",
       "<table border=\"1\" class=\"dataframe\">\n",
       "  <thead>\n",
       "    <tr style=\"text-align: right;\">\n",
       "      <th></th>\n",
       "      <th>description</th>\n",
       "      <th>id</th>\n",
       "      <th>keywords</th>\n",
       "      <th>label</th>\n",
       "      <th>title</th>\n",
       "    </tr>\n",
       "  </thead>\n",
       "  <tbody>\n",
       "    <tr>\n",
       "      <th>0</th>\n",
       "      <td>With the same humor and humanity he exuded in ...</td>\n",
       "      <td>1</td>\n",
       "      <td>Presentation Innovation,A Greener Future?,Bold...</td>\n",
       "      <td>4</td>\n",
       "      <td>Averting the climate crisis</td>\n",
       "    </tr>\n",
       "    <tr>\n",
       "      <th>1</th>\n",
       "      <td>Fumes from indoor cooking fires kill more than...</td>\n",
       "      <td>2</td>\n",
       "      <td>A Greener Future?,Tales of Invention,Rethinkin...</td>\n",
       "      <td>1</td>\n",
       "      <td>Simple designs to save a life</td>\n",
       "    </tr>\n",
       "    <tr>\n",
       "      <th>2</th>\n",
       "      <td>Ashraf Ghani's passionate and powerful 10-minu...</td>\n",
       "      <td>3</td>\n",
       "      <td>Rethinking Poverty,Africa: The Next Chapter,Wa...</td>\n",
       "      <td>0</td>\n",
       "      <td>How to rebuild a broken state</td>\n",
       "    </tr>\n",
       "    <tr>\n",
       "      <th>3</th>\n",
       "      <td>In this passionate talk, legendary spacecraft ...</td>\n",
       "      <td>4</td>\n",
       "      <td>What's Next in Tech,Tales of Invention,To Bold...</td>\n",
       "      <td>0</td>\n",
       "      <td>The real future of space exploration</td>\n",
       "    </tr>\n",
       "    <tr>\n",
       "      <th>4</th>\n",
       "      <td>Genomics pioneer Craig Venter takes a break fr...</td>\n",
       "      <td>6</td>\n",
       "      <td>Animals That Amaze,Evolution's Genius,Inspired...</td>\n",
       "      <td>2</td>\n",
       "      <td>Sampling the ocean's DNA</td>\n",
       "    </tr>\n",
       "  </tbody>\n",
       "</table>\n",
       "</div>"
      ],
      "text/plain": [
       "                                         description  id  \\\n",
       "0  With the same humor and humanity he exuded in ...   1   \n",
       "1  Fumes from indoor cooking fires kill more than...   2   \n",
       "2  Ashraf Ghani's passionate and powerful 10-minu...   3   \n",
       "3  In this passionate talk, legendary spacecraft ...   4   \n",
       "4  Genomics pioneer Craig Venter takes a break fr...   6   \n",
       "\n",
       "                                            keywords  label  \\\n",
       "0  Presentation Innovation,A Greener Future?,Bold...      4   \n",
       "1  A Greener Future?,Tales of Invention,Rethinkin...      1   \n",
       "2  Rethinking Poverty,Africa: The Next Chapter,Wa...      0   \n",
       "3  What's Next in Tech,Tales of Invention,To Bold...      0   \n",
       "4  Animals That Amaze,Evolution's Genius,Inspired...      2   \n",
       "\n",
       "                                   title  \n",
       "0            Averting the climate crisis  \n",
       "1          Simple designs to save a life  \n",
       "2          How to rebuild a broken state  \n",
       "3   The real future of space exploration  \n",
       "4               Sampling the ocean's DNA  "
      ]
     },
     "execution_count": 19,
     "metadata": {},
     "output_type": "execute_result"
    }
   ],
   "source": [
    "talks.head()"
   ]
  },
  {
   "cell_type": "code",
   "execution_count": 20,
   "metadata": {
    "collapsed": true
   },
   "outputs": [],
   "source": [
    "text = []\n",
    "for ind, row in talks.iterrows():\n",
    "    text.append(' '.join([row['description'],row['keywords'],row['title']]))"
   ]
  },
  {
   "cell_type": "code",
   "execution_count": 33,
   "metadata": {
    "collapsed": true
   },
   "outputs": [],
   "source": [
    "talks['text'] = text"
   ]
  },
  {
   "cell_type": "code",
   "execution_count": 34,
   "metadata": {
    "collapsed": false
   },
   "outputs": [
    {
     "data": {
      "text/plain": [
       "u'With the same humor and humanity he exuded in <em>An Inconvenient Truth,</em> Al Gore spells out 15 ways that individuals can address climate change immediately, from buying a hybrid to inventing a new, hotter \"brand name\" for global warming. Presentation Innovation,A Greener Future?,Bold Predictions, Stern Warnings,Design That Matters,Not Business as Usual,Technology, History and Destiny,TED Conference,alternative energy,cars,climate change,culture,environment,global issues,politics,science,sustainability,technology  Averting the climate crisis'"
      ]
     },
     "execution_count": 34,
     "metadata": {},
     "output_type": "execute_result"
    }
   ],
   "source": [
    "talks.text[0]"
   ]
  },
  {
   "cell_type": "markdown",
   "metadata": {},
   "source": [
    "###2.1 Remove tags  "
   ]
  },
  {
   "cell_type": "code",
   "execution_count": 35,
   "metadata": {
    "collapsed": true
   },
   "outputs": [],
   "source": [
    "talks['text'] = talks['text'].apply(lambda x: re.sub(\"<.*?>\", \"\", x))    "
   ]
  },
  {
   "cell_type": "code",
   "execution_count": 36,
   "metadata": {
    "collapsed": false
   },
   "outputs": [
    {
     "data": {
      "text/plain": [
       "u'With the same humor and humanity he exuded in An Inconvenient Truth, Al Gore spells out 15 ways that individuals can address climate change immediately, from buying a hybrid to inventing a new, hotter \"brand name\" for global warming. Presentation Innovation,A Greener Future?,Bold Predictions, Stern Warnings,Design That Matters,Not Business as Usual,Technology, History and Destiny,TED Conference,alternative energy,cars,climate change,culture,environment,global issues,politics,science,sustainability,technology  Averting the climate crisis'"
      ]
     },
     "execution_count": 36,
     "metadata": {},
     "output_type": "execute_result"
    }
   ],
   "source": [
    "talks.text[0]"
   ]
  },
  {
   "cell_type": "markdown",
   "metadata": {},
   "source": [
    "###2.2 Tokenize, remove punctuation, lowercase and stop-words removed"
   ]
  },
  {
   "cell_type": "code",
   "execution_count": 25,
   "metadata": {
    "collapsed": true
   },
   "outputs": [],
   "source": [
    "from string import punctuation"
   ]
  },
  {
   "cell_type": "code",
   "execution_count": 26,
   "metadata": {
    "collapsed": false
   },
   "outputs": [],
   "source": [
    "pun_list = list(punctuation)"
   ]
  },
  {
   "cell_type": "code",
   "execution_count": 27,
   "metadata": {
    "collapsed": true
   },
   "outputs": [],
   "source": [
    "stemmer = SnowballStemmer('english',ignore_stopwords = True)\n",
    "\n",
    "def tlss(text):\n",
    "    # tokenize words\n",
    "    words = word_tokenize(text)\n",
    "    filtered_words = []\n",
    "    for word in words:\n",
    "        # remove punctuation and numbers\n",
    "        if re.search('[a-zA-Z]', word):\n",
    "            # lower case\n",
    "            filtered_words.append(word.lower())\n",
    "    stemmed = [stemmer.stem(x) for x in filtered_words]\n",
    "    stemmed = set(stemmed).difference(set(stopwords.words('english')))\n",
    "    return list(stemmed)"
   ]
  },
  {
   "cell_type": "code",
   "execution_count": 28,
   "metadata": {
    "collapsed": true
   },
   "outputs": [],
   "source": [
    "talks['text'] = talks['text'].apply(tlss)"
   ]
  },
  {
   "cell_type": "markdown",
   "metadata": {},
   "source": [
    "### Consider using countvectorizer directly "
   ]
  },
  {
   "cell_type": "code",
   "execution_count": 37,
   "metadata": {
    "collapsed": true
   },
   "outputs": [],
   "source": [
    "vect = CountVectorizer(stop_words = 'english',ngram_range = (1,3),min_df = 0.2, binary = True,max_features = 100)"
   ]
  },
  {
   "cell_type": "code",
   "execution_count": 38,
   "metadata": {
    "collapsed": true
   },
   "outputs": [],
   "source": [
    "textgroupby = talks.groupby('label')['text']"
   ]
  },
  {
   "cell_type": "code",
   "execution_count": 39,
   "metadata": {
    "collapsed": false
   },
   "outputs": [
    {
     "name": "stdout",
     "output_type": "stream",
     "text": [
      "0 (474,)\n",
      "1 (418,)\n",
      "2 (353,)\n",
      "3 (179,)\n",
      "4 (111,)\n"
     ]
    }
   ],
   "source": [
    "transformed = []\n",
    "for ind, textgb in textgroupby:\n",
    "    print ind, (textgb.as_matrix()).shape\n",
    "    textarray = vect.fit_transform(textgb.as_matrix())\n",
    "    vocab = vect.vocabulary_\n",
    "    transformed.append(dict(text = textarray, index = ind, vocab = vocab))"
   ]
  },
  {
   "cell_type": "code",
   "execution_count": 135,
   "metadata": {
    "collapsed": false
   },
   "outputs": [
    {
     "data": {
      "text/plain": [
       "{'index': 0, 'text': <474x21 sparse matrix of type '<type 'numpy.int64'>'\n",
       " \twith 2529 stored elements in Compressed Sparse Row format>, 'vocab': {u'bold': 0,\n",
       "  u'bold predictions': 1,\n",
       "  u'bold predictions stern': 2,\n",
       "  u'business': 3,\n",
       "  u'conference': 4,\n",
       "  u'culture': 5,\n",
       "  u'global': 6,\n",
       "  u'global issues': 7,\n",
       "  u'issues': 8,\n",
       "  u'predictions': 9,\n",
       "  u'predictions stern': 10,\n",
       "  u'predictions stern warnings': 11,\n",
       "  u'science': 12,\n",
       "  u'stern': 13,\n",
       "  u'stern warnings': 14,\n",
       "  u'talk': 15,\n",
       "  u'technology': 16,\n",
       "  u'ted': 17,\n",
       "  u'ted conference': 18,\n",
       "  u'warnings': 19,\n",
       "  u'world': 20}}"
      ]
     },
     "execution_count": 135,
     "metadata": {},
     "output_type": "execute_result"
    }
   ],
   "source": [
    "transformed[0]"
   ]
  },
  {
   "cell_type": "code",
   "execution_count": 145,
   "metadata": {
    "collapsed": false
   },
   "outputs": [],
   "source": [
    "testmx = transformed[4]['text']"
   ]
  },
  {
   "cell_type": "code",
   "execution_count": 148,
   "metadata": {
    "collapsed": false
   },
   "outputs": [],
   "source": [
    "testmx2 = testmx.toarray()"
   ]
  },
  {
   "cell_type": "code",
   "execution_count": 149,
   "metadata": {
    "collapsed": false
   },
   "outputs": [
    {
     "data": {
      "text/plain": [
       "(111, 14)"
      ]
     },
     "execution_count": 149,
     "metadata": {},
     "output_type": "execute_result"
    }
   ],
   "source": [
    "testmx2.shape"
   ]
  },
  {
   "cell_type": "code",
   "execution_count": 150,
   "metadata": {
    "collapsed": false
   },
   "outputs": [
    {
     "data": {
      "text/plain": [
       "array([29, 28, 60, 33, 30, 39, 39, 40, 30, 34, 63, 59, 23, 23])"
      ]
     },
     "execution_count": 150,
     "metadata": {},
     "output_type": "execute_result"
    }
   ],
   "source": [
    "testmx2.sum(axis = 0 )"
   ]
  },
  {
   "cell_type": "code",
   "execution_count": 151,
   "metadata": {
    "collapsed": true
   },
   "outputs": [],
   "source": [
    "text_words = [x['vocab'] for x in transformed]"
   ]
  },
  {
   "cell_type": "code",
   "execution_count": 182,
   "metadata": {
    "collapsed": true
   },
   "outputs": [],
   "source": [
    "themes = [u'Live Music',\n",
    " u'Celebrating TEDWomen',\n",
    " u'Whipsmart Comedy',\n",
    " u'Listening to Teachers',\n",
    " u'Spectacular Performance',\n",
    " u'Ocean Wonders',\n",
    " u'Bold Predictions, Stern Warnings',\n",
    " u'What Makes Us Happy?',\n",
    " u'Media With Meaning',\n",
    " u'Technology, History and Destiny',\n",
    " u'How the Mind Works',\n",
    " u'Talks from TED Fellows',\n",
    " u'Medicine Without Borders',\n",
    " u'Hidden Gems',\n",
    " u'War and Peace',\n",
    " u'The Rise of Collaboration',\n",
    " u'TED Prize Winners',\n",
    " u\"Evolution's Genius\",\n",
    " u'Unconventional Explanations',\n",
    " u\"What's Next in Tech\",\n",
    " u'Presentation Innovation',\n",
    " u'Words About Words',\n",
    " u'Numbers at Play',\n",
    " u'Women Reshaping the World',\n",
    " u'Art Unusual',\n",
    " u'Not Business as Usual',\n",
    " u'To Boldly Go ...',\n",
    " u'Architectural Inspiration',\n",
    " u'Africa: The Next Chapter',\n",
    " u'TED in 3 Minutes',\n",
    " u'Tales of Invention',\n",
    " u'Inspired by Nature',\n",
    " u'Is There a God?',\n",
    " u'Design That Matters',\n",
    " u'Food Matters',\n",
    " u'How We Learn',\n",
    " u'Master Storytellers',\n",
    " u'Animals That Amaze',\n",
    " u'The Power of Cities',\n",
    " u'A Greener Future?',\n",
    " u'The Creative Spark',\n",
    " u'Peering into Space',\n",
    " u'Best of the Web',\n",
    " u'Rethinking Poverty',\n",
    " u'The Charter for Compassion',\n",
    " u'Might You Live a Great Deal Longer?',\n",
    " u'Mission Blue Voyage']"
   ]
  },
  {
   "cell_type": "code",
   "execution_count": 183,
   "metadata": {
    "collapsed": true
   },
   "outputs": [],
   "source": [
    "themes = ' '.join(themes)"
   ]
  },
  {
   "cell_type": "code",
   "execution_count": 184,
   "metadata": {
    "collapsed": false
   },
   "outputs": [],
   "source": [
    "themes = themes.lower()"
   ]
  },
  {
   "cell_type": "markdown",
   "metadata": {},
   "source": [
    "####Obviously, \"ted conference\" are not predictive, put them also into themes "
   ]
  },
  {
   "cell_type": "code",
   "execution_count": 185,
   "metadata": {
    "collapsed": false
   },
   "outputs": [],
   "source": [
    "# add 'ted conference' to the themes\n",
    "themes = ' '.join([themes,'ted conference'])"
   ]
  },
  {
   "cell_type": "code",
   "execution_count": 186,
   "metadata": {
    "collapsed": true
   },
   "outputs": [],
   "source": [
    "# define a function to search through themes, the keys in each text_words dict\n",
    "def words_not_themes(textwords):\n",
    "    filtered_words = []\n",
    "    for key in textwords:\n",
    "        match = re.search(key,themes)\n",
    "        if not match:\n",
    "            filtered_words.append(key)\n",
    "    return filtered_words"
   ]
  },
  {
   "cell_type": "code",
   "execution_count": 187,
   "metadata": {
    "collapsed": true
   },
   "outputs": [],
   "source": [
    "filtered_text_words = [words_not_themes(x) for x in text_words]"
   ]
  },
  {
   "cell_type": "code",
   "execution_count": 188,
   "metadata": {
    "collapsed": false
   },
   "outputs": [
    {
     "data": {
      "text/plain": [
       "[[u'global issues',\n",
       "  u'science',\n",
       "  u'global',\n",
       "  u'bold predictions stern',\n",
       "  u'culture',\n",
       "  u'issues',\n",
       "  u'predictions stern',\n",
       "  u'predictions stern warnings'],\n",
       " [u'culture', u'global issues', u'global', u'issues'],\n",
       " [u'tales invention', u'science', u'new'],\n",
       " [u'global', u'culture', u'global issues', u'issues'],\n",
       " [u'humor', u'entertainment', u'culture']]"
      ]
     },
     "execution_count": 188,
     "metadata": {},
     "output_type": "execute_result"
    }
   ],
   "source": [
    "filtered_text_words"
   ]
  },
  {
   "cell_type": "markdown",
   "metadata": {},
   "source": [
    "by comparing the filtered_text_words list with themes, the final list of text words is"
   ]
  },
  {
   "cell_type": "code",
   "execution_count": 201,
   "metadata": {
    "collapsed": true
   },
   "outputs": [],
   "source": [
    "final_text_words = ['global issues', 'science', 'culture', 'new','humor','entertainment']"
   ]
  },
  {
   "cell_type": "markdown",
   "metadata": {},
   "source": [
    "### With this small vocabulary count their frequencies in each text "
   ]
  },
  {
   "cell_type": "code",
   "execution_count": 190,
   "metadata": {
    "collapsed": false
   },
   "outputs": [
    {
     "data": {
      "text/plain": [
       "(1535,)"
      ]
     },
     "execution_count": 190,
     "metadata": {},
     "output_type": "execute_result"
    }
   ],
   "source": [
    "talks.text.shape"
   ]
  },
  {
   "cell_type": "code",
   "execution_count": 197,
   "metadata": {
    "collapsed": true
   },
   "outputs": [],
   "source": [
    "talks[['id','text']].to_json('talks_other_text.json')"
   ]
  },
  {
   "cell_type": "code",
   "execution_count": 202,
   "metadata": {
    "collapsed": true
   },
   "outputs": [],
   "source": [
    "vect1 = CountVectorizer(vocabulary = final_text_words, stop_words = 'english', ngram_range = (1,2))"
   ]
  },
  {
   "cell_type": "code",
   "execution_count": 203,
   "metadata": {
    "collapsed": true
   },
   "outputs": [],
   "source": [
    "other_text_feature = vect1.fit_transform(talks['text'].as_matrix())"
   ]
  },
  {
   "cell_type": "code",
   "execution_count": 204,
   "metadata": {
    "collapsed": false
   },
   "outputs": [
    {
     "data": {
      "text/plain": [
       "(1535, 6)"
      ]
     },
     "execution_count": 204,
     "metadata": {},
     "output_type": "execute_result"
    }
   ],
   "source": [
    "other_text_feature.shape"
   ]
  },
  {
   "cell_type": "code",
   "execution_count": 205,
   "metadata": {
    "collapsed": false
   },
   "outputs": [
    {
     "data": {
      "text/plain": [
       "array([1, 1, 1, 1, 1, 0])"
      ]
     },
     "execution_count": 205,
     "metadata": {},
     "output_type": "execute_result"
    }
   ],
   "source": [
    "other_text_feature.toarray()[0,:]"
   ]
  },
  {
   "cell_type": "code",
   "execution_count": 206,
   "metadata": {
    "collapsed": false
   },
   "outputs": [
    {
     "data": {
      "text/plain": [
       "u'With the same humor and humanity he exuded in An Inconvenient Truth, Al Gore spells out 15 ways that individuals can address climate change immediately, from buying a hybrid to inventing a new, hotter \"brand name\" for global warming. Presentation Innovation,A Greener Future?,Bold Predictions, Stern Warnings,Design That Matters,Not Business as Usual,Technology, History and Destiny,TED Conference,alternative energy,cars,climate change,culture,environment,global issues,politics,science,sustainability,technology  Averting the climate crisis'"
      ]
     },
     "execution_count": 206,
     "metadata": {},
     "output_type": "execute_result"
    }
   ],
   "source": [
    "talks['text'][0]"
   ]
  },
  {
   "cell_type": "code",
   "execution_count": 207,
   "metadata": {
    "collapsed": false
   },
   "outputs": [
    {
     "data": {
      "text/plain": [
       "{u'culture': 2,\n",
       " u'entertainment': 5,\n",
       " u'global issues': 0,\n",
       " u'humor': 4,\n",
       " u'new': 3,\n",
       " u'science': 1}"
      ]
     },
     "execution_count": 207,
     "metadata": {},
     "output_type": "execute_result"
    }
   ],
   "source": [
    "vect1.vocabulary_"
   ]
  },
  {
   "cell_type": "code",
   "execution_count": null,
   "metadata": {
    "collapsed": true
   },
   "outputs": [],
   "source": []
  }
 ],
 "metadata": {
  "kernelspec": {
   "display_name": "Python 2",
   "language": "python",
   "name": "python2"
  },
  "language_info": {
   "codemirror_mode": {
    "name": "ipython",
    "version": 2
   },
   "file_extension": ".py",
   "mimetype": "text/x-python",
   "name": "python",
   "nbconvert_exporter": "python",
   "pygments_lexer": "ipython2",
   "version": "2.7.9"
  }
 },
 "nbformat": 4,
 "nbformat_minor": 0
}
